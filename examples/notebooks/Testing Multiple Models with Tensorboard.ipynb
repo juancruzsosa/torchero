{
 "cells": [
  {
   "cell_type": "code",
   "execution_count": 1,
   "metadata": {},
   "outputs": [
    {
     "name": "stdout",
     "output_type": "stream",
     "text": [
      "dogs-vs-wolves.zip: Skipping, found more recently modified local copy (use --force to force download)\n"
     ]
    }
   ],
   "source": [
    "!kaggle datasets download -d  harishvutukuri/dogs-vs-wolves -p data"
   ]
  },
  {
   "cell_type": "code",
   "execution_count": 2,
   "metadata": {},
   "outputs": [],
   "source": [
    "!unzip -q -u data/dogs-vs-wolves.zip -d data/dogs-vs-wolves"
   ]
  },
  {
   "cell_type": "code",
   "execution_count": 3,
   "metadata": {},
   "outputs": [],
   "source": [
    "import tensorflow as tf\n",
    "import tensorboard as tb\n",
    "tf.io.gfile = tb.compat.tensorflow_stub.io.gfile # TF temporal bugfix"
   ]
  },
  {
   "cell_type": "code",
   "execution_count": 4,
   "metadata": {},
   "outputs": [],
   "source": [
    "%load_ext tensorboard"
   ]
  },
  {
   "cell_type": "markdown",
   "metadata": {},
   "source": [
    "## Imports"
   ]
  },
  {
   "cell_type": "code",
   "execution_count": 5,
   "metadata": {},
   "outputs": [],
   "source": [
    "import os\n",
    "\n",
    "# Torch #\n",
    "import torch\n",
    "\n",
    "import torchero\n",
    "from torchero.models.vision import BinaryImageClassificationModel # Training the model\n",
    "from torchero.callbacks import ProgbarLogger # Model supervising\n",
    "from torchero.callbacks.tensorboard import TensorBoardLogger # Tensorboard metrics training\n",
    "from torchero.utils.data import train_test_split\n",
    "from torchero.utils.vision import show_imagegrid_dataset, transforms, datasets\n",
    "from torchero.utils.tensorboard import SummaryWriter, write_imagegrid_dataset, write_model\n",
    "from torchero.hparams import FixedP\n",
    "\n",
    "from matplotlib import pyplot as plt"
   ]
  },
  {
   "cell_type": "code",
   "execution_count": 6,
   "metadata": {},
   "outputs": [],
   "source": [
    "!rm -rf runs/"
   ]
  },
  {
   "cell_type": "code",
   "execution_count": 7,
   "metadata": {},
   "outputs": [],
   "source": [
    "writer = SummaryWriter('runs/Dogs vs Wolves')"
   ]
  },
  {
   "cell_type": "markdown",
   "metadata": {},
   "source": [
    "## Training dataset"
   ]
  },
  {
   "cell_type": "code",
   "execution_count": 8,
   "metadata": {},
   "outputs": [],
   "source": [
    "transform = transforms.Compose([transforms.Resize((224, 224)),\n",
    "                                transforms.ToTensor()])"
   ]
  },
  {
   "cell_type": "code",
   "execution_count": 9,
   "metadata": {},
   "outputs": [],
   "source": [
    "dataset = datasets.ImageFolder(root='data/dogs-vs-wolves/data', transform=transform)"
   ]
  },
  {
   "cell_type": "code",
   "execution_count": 10,
   "metadata": {},
   "outputs": [],
   "source": [
    "train_ds, val_ds = train_test_split(dataset)"
   ]
  },
  {
   "cell_type": "code",
   "execution_count": 11,
   "metadata": {},
   "outputs": [],
   "source": [
    "write_imagegrid_dataset(writer, 'train_dataset', train_ds)"
   ]
  },
  {
   "cell_type": "code",
   "execution_count": 12,
   "metadata": {},
   "outputs": [],
   "source": [
    "write_imagegrid_dataset(writer, 'test_dataset', val_ds)"
   ]
  },
  {
   "cell_type": "code",
   "execution_count": 13,
   "metadata": {},
   "outputs": [
    {
     "data": {
      "text/html": [
       "\n",
       "      <iframe id=\"tensorboard-frame-21ac7658ebf7d6ee\" width=\"100%\" height=\"800\" frameborder=\"0\">\n",
       "      </iframe>\n",
       "      <script>\n",
       "        (function() {\n",
       "          const frame = document.getElementById(\"tensorboard-frame-21ac7658ebf7d6ee\");\n",
       "          const url = new URL(\"/\", window.location);\n",
       "          const port = 6006;\n",
       "          if (port) {\n",
       "            url.port = port;\n",
       "          }\n",
       "          frame.src = url;\n",
       "        })();\n",
       "      </script>\n",
       "    "
      ],
      "text/plain": [
       "<IPython.core.display.HTML object>"
      ]
     },
     "metadata": {},
     "output_type": "display_data"
    }
   ],
   "source": [
    "%tensorboard --logdir runs/"
   ]
  },
  {
   "cell_type": "markdown",
   "metadata": {},
   "source": [
    "## Define model"
   ]
  },
  {
   "cell_type": "markdown",
   "metadata": {},
   "source": [
    "### VGGs"
   ]
  },
  {
   "cell_type": "code",
   "execution_count": 14,
   "metadata": {},
   "outputs": [
    {
     "name": "stderr",
     "output_type": "stream",
     "text": [
      "/usr/lib/python3.9/site-packages/torch/nn/functional.py:718: UserWarning: Named tensors and all their associated APIs are an experimental feature and subject to change. Please do not use them for anything important until they are released as stable. (Triggered internally at  ../c10/core/TensorImpl.h:1153.)\n",
      "  return torch.max_pool2d(input, kernel_size, stride, padding, dilation, ceil_mode)\n"
     ]
    },
    {
     "data": {
      "application/vnd.jupyter.widget-view+json": {
       "model_id": "0f7908999c8b4824afccf28bbe107cf5",
       "version_major": 2,
       "version_minor": 0
      },
      "text/plain": [
       "  0%|          | 0/3 [00:00<?, ?epoch/s]"
      ]
     },
     "metadata": {},
     "output_type": "display_data"
    },
    {
     "data": {
      "application/vnd.jupyter.widget-view+json": {
       "model_id": "ed6368f3cb844c6586db54277e9c33c7",
       "version_major": 2,
       "version_minor": 0
      },
      "text/plain": [
       "  0%|          | 0/50 [00:00<?, ? batchs/s]"
      ]
     },
     "metadata": {},
     "output_type": "display_data"
    },
    {
     "data": {
      "application/vnd.jupyter.widget-view+json": {
       "model_id": "8c12885c514642bebd688652f5819045",
       "version_major": 2,
       "version_minor": 0
      },
      "text/plain": [
       "  0%|          | 0/50 [00:00<?, ? batchs/s]"
      ]
     },
     "metadata": {},
     "output_type": "display_data"
    },
    {
     "data": {
      "application/vnd.jupyter.widget-view+json": {
       "model_id": "6a8d944777274f4cbef3b7dd5b81e4b4",
       "version_major": 2,
       "version_minor": 0
      },
      "text/plain": [
       "  0%|          | 0/50 [00:00<?, ? batchs/s]"
      ]
     },
     "metadata": {},
     "output_type": "display_data"
    },
    {
     "data": {
      "application/vnd.jupyter.widget-view+json": {
       "model_id": "0d28f526097a4c16b89fdbfae3a5b1be",
       "version_major": 2,
       "version_minor": 0
      },
      "text/plain": [
       "  0%|          | 0/3 [00:00<?, ?epoch/s]"
      ]
     },
     "metadata": {},
     "output_type": "display_data"
    },
    {
     "data": {
      "application/vnd.jupyter.widget-view+json": {
       "model_id": "a85ed70666e4418bb47096a462c101a3",
       "version_major": 2,
       "version_minor": 0
      },
      "text/plain": [
       "  0%|          | 0/50 [00:00<?, ? batchs/s]"
      ]
     },
     "metadata": {},
     "output_type": "display_data"
    },
    {
     "data": {
      "application/vnd.jupyter.widget-view+json": {
       "model_id": "a0286f87821c4d2481e590e56909c280",
       "version_major": 2,
       "version_minor": 0
      },
      "text/plain": [
       "  0%|          | 0/50 [00:00<?, ? batchs/s]"
      ]
     },
     "metadata": {},
     "output_type": "display_data"
    },
    {
     "data": {
      "application/vnd.jupyter.widget-view+json": {
       "model_id": "67477b5041564dfa962f2fd86d54ad9f",
       "version_major": 2,
       "version_minor": 0
      },
      "text/plain": [
       "  0%|          | 0/50 [00:00<?, ? batchs/s]"
      ]
     },
     "metadata": {},
     "output_type": "display_data"
    }
   ],
   "source": [
    "for num_layers in [11, 13]:\n",
    "    model = BinaryImageClassificationModel.from_pretrained('vgg' + str(num_layers), num_outputs=1, transform=transform)\n",
    "    model.labels = ['is_wolf']\n",
    "    writer = SummaryWriter('runs/Dogs vs Wolves/vgg' + str(num_layers))\n",
    "    write_model(writer, model.model, train_ds[0][0].unsqueeze(0))\n",
    "    model.compile(optimizer='adam',\n",
    "                  hparams={'num_layers': FixedP(num_layers),\n",
    "                           'model_name': FixedP('vgg')},\n",
    "                  callbacks=[ProgbarLogger(notebook=True),\n",
    "                             TensorBoardLogger(writer)]).cuda()\n",
    "    history = model.fit(train_ds,\n",
    "          val_ds,\n",
    "          epochs=3,\n",
    "          batch_size=32)\n",
    "    model.to('cpu')\n",
    "    torch.cuda.empty_cache()\n",
    "    writer.close()"
   ]
  },
  {
   "cell_type": "markdown",
   "metadata": {},
   "source": [
    "### Resnets"
   ]
  },
  {
   "cell_type": "code",
   "execution_count": 15,
   "metadata": {},
   "outputs": [
    {
     "data": {
      "application/vnd.jupyter.widget-view+json": {
       "model_id": "00ff85053b85409cbed9cf4790b96daf",
       "version_major": 2,
       "version_minor": 0
      },
      "text/plain": [
       "  0%|          | 0/3 [00:00<?, ?epoch/s]"
      ]
     },
     "metadata": {},
     "output_type": "display_data"
    },
    {
     "data": {
      "application/vnd.jupyter.widget-view+json": {
       "model_id": "1bf36259df904e09986f86967b39c89a",
       "version_major": 2,
       "version_minor": 0
      },
      "text/plain": [
       "  0%|          | 0/25 [00:00<?, ? batchs/s]"
      ]
     },
     "metadata": {},
     "output_type": "display_data"
    },
    {
     "data": {
      "application/vnd.jupyter.widget-view+json": {
       "model_id": "8d3f8e89b7964aa8a59a66f5e84e8722",
       "version_major": 2,
       "version_minor": 0
      },
      "text/plain": [
       "  0%|          | 0/25 [00:00<?, ? batchs/s]"
      ]
     },
     "metadata": {},
     "output_type": "display_data"
    },
    {
     "data": {
      "application/vnd.jupyter.widget-view+json": {
       "model_id": "ac0e2e5a85cb4949a7eaf708c821fdbe",
       "version_major": 2,
       "version_minor": 0
      },
      "text/plain": [
       "  0%|          | 0/25 [00:00<?, ? batchs/s]"
      ]
     },
     "metadata": {},
     "output_type": "display_data"
    },
    {
     "data": {
      "application/vnd.jupyter.widget-view+json": {
       "model_id": "93e3e43ede384e4b99a6cbc74607108f",
       "version_major": 2,
       "version_minor": 0
      },
      "text/plain": [
       "  0%|          | 0/3 [00:00<?, ?epoch/s]"
      ]
     },
     "metadata": {},
     "output_type": "display_data"
    },
    {
     "data": {
      "application/vnd.jupyter.widget-view+json": {
       "model_id": "24781015c7be4ab2b761aa1e23fa8386",
       "version_major": 2,
       "version_minor": 0
      },
      "text/plain": [
       "  0%|          | 0/25 [00:00<?, ? batchs/s]"
      ]
     },
     "metadata": {},
     "output_type": "display_data"
    },
    {
     "data": {
      "application/vnd.jupyter.widget-view+json": {
       "model_id": "5fff627abf0a4ed889e3611108917a00",
       "version_major": 2,
       "version_minor": 0
      },
      "text/plain": [
       "  0%|          | 0/25 [00:00<?, ? batchs/s]"
      ]
     },
     "metadata": {},
     "output_type": "display_data"
    },
    {
     "data": {
      "application/vnd.jupyter.widget-view+json": {
       "model_id": "ee4df3487d5f41cebbee59f7ef1b5f3c",
       "version_major": 2,
       "version_minor": 0
      },
      "text/plain": [
       "  0%|          | 0/25 [00:00<?, ? batchs/s]"
      ]
     },
     "metadata": {},
     "output_type": "display_data"
    },
    {
     "data": {
      "application/vnd.jupyter.widget-view+json": {
       "model_id": "e46bc1aa79684ed9b1ac4d4f0a9e5a1d",
       "version_major": 2,
       "version_minor": 0
      },
      "text/plain": [
       "  0%|          | 0/3 [00:00<?, ?epoch/s]"
      ]
     },
     "metadata": {},
     "output_type": "display_data"
    },
    {
     "data": {
      "application/vnd.jupyter.widget-view+json": {
       "model_id": "2a9f4e3f6ac047d0830f6fc4a8133460",
       "version_major": 2,
       "version_minor": 0
      },
      "text/plain": [
       "  0%|          | 0/25 [00:00<?, ? batchs/s]"
      ]
     },
     "metadata": {},
     "output_type": "display_data"
    },
    {
     "data": {
      "application/vnd.jupyter.widget-view+json": {
       "model_id": "e62b8915bb374cd3b158043cb64bf2cf",
       "version_major": 2,
       "version_minor": 0
      },
      "text/plain": [
       "  0%|          | 0/25 [00:00<?, ? batchs/s]"
      ]
     },
     "metadata": {},
     "output_type": "display_data"
    },
    {
     "data": {
      "application/vnd.jupyter.widget-view+json": {
       "model_id": "6f6204d3ad0e45dd945b15c2dc3baafb",
       "version_major": 2,
       "version_minor": 0
      },
      "text/plain": [
       "  0%|          | 0/25 [00:00<?, ? batchs/s]"
      ]
     },
     "metadata": {},
     "output_type": "display_data"
    }
   ],
   "source": [
    "for num_layers in [18, 34, 50]:\n",
    "    model = BinaryImageClassificationModel.from_pretrained('resnet' + str(num_layers), num_outputs=1, transform=transform)\n",
    "    model.labels = ['is_wolf']\n",
    "    writer = SummaryWriter('runs/Dogs vs Wolves/resnet' + str(num_layers))\n",
    "    write_model(writer, model.model, train_ds[0][0].unsqueeze(0))\n",
    "    model.compile(optimizer='adam',\n",
    "                  hparams={'num_layers': FixedP(num_layers),\n",
    "                           'model_name': FixedP('resnet')},\n",
    "                  callbacks=[ProgbarLogger(notebook=True),\n",
    "                             TensorBoardLogger(writer)]).cuda()\n",
    "    history = model.fit(train_ds,\n",
    "          val_ds,\n",
    "          epochs=3,\n",
    "          batch_size=64)\n",
    "    model.to('cpu')\n",
    "    torch.cuda.empty_cache()\n",
    "    writer.close()"
   ]
  }
 ],
 "metadata": {
  "kernelspec": {
   "display_name": "Python 3",
   "language": "python",
   "name": "python3"
  },
  "language_info": {
   "codemirror_mode": {
    "name": "ipython",
    "version": 3
   },
   "file_extension": ".py",
   "mimetype": "text/x-python",
   "name": "python",
   "nbconvert_exporter": "python",
   "pygments_lexer": "ipython3",
   "version": "3.9.6"
  },
  "widgets": {
   "application/vnd.jupyter.widget-state+json": {
    "state": {
     "00ff85053b85409cbed9cf4790b96daf": {
      "model_module": "@jupyter-widgets/controls",
      "model_module_version": "1.5.0",
      "model_name": "HBoxModel",
      "state": {
       "children": [
        "IPY_MODEL_dcec5eb54f5d4c07b9e87deedb3e487c",
        "IPY_MODEL_ef70978613934448b3cd3dc4122aabd4",
        "IPY_MODEL_62611a7d8921418c9244b81e00e1754e"
       ],
       "layout": "IPY_MODEL_694c63a551a7465ba008af646e3a1ae2"
      }
     },
     "02ad99129af24f4081d1145147242387": {
      "model_module": "@jupyter-widgets/controls",
      "model_module_version": "1.5.0",
      "model_name": "HTMLModel",
      "state": {
       "layout": "IPY_MODEL_a3e6b089e7e84cdb8a5503f589eeddb9",
       "style": "IPY_MODEL_146283bb5c7e40d78b585f5d03f973f3",
       "value": "Epoch 1: 100%"
      }
     },
     "0439a988ea15465c854543275ddf2939": {
      "model_module": "@jupyter-widgets/controls",
      "model_module_version": "1.5.0",
      "model_name": "DescriptionStyleModel",
      "state": {
       "description_width": ""
      }
     },
     "05f09ebba26b44f0a4bc7326a2603668": {
      "model_module": "@jupyter-widgets/base",
      "model_module_version": "1.2.0",
      "model_name": "LayoutModel",
      "state": {}
     },
     "06008a206c0a4a5b859879830b3fd525": {
      "model_module": "@jupyter-widgets/controls",
      "model_module_version": "1.5.0",
      "model_name": "DescriptionStyleModel",
      "state": {
       "description_width": ""
      }
     },
     "0762086851a24d05aa0a23646edf095a": {
      "model_module": "@jupyter-widgets/controls",
      "model_module_version": "1.5.0",
      "model_name": "HTMLModel",
      "state": {
       "layout": "IPY_MODEL_bca0573292434d05a6b447071c8597f4",
       "style": "IPY_MODEL_409dfc549cbf4b99ab1675203cc41585",
       "value": " 3/3 [01:05&lt;00:00, 21.65s/epoch]"
      }
     },
     "0849624b8c264c13a4b1cfd484a93736": {
      "model_module": "@jupyter-widgets/controls",
      "model_module_version": "1.5.0",
      "model_name": "HTMLModel",
      "state": {
       "layout": "IPY_MODEL_f691ed906e1a4a0fb7478a6d08fc07c0",
       "style": "IPY_MODEL_15a60bdf1da54286b32583f90e3f180d",
       "value": " 3/3 [01:22&lt;00:00, 27.58s/epoch]"
      }
     },
     "0c64f058da7145aca717a635b6f75f48": {
      "model_module": "@jupyter-widgets/controls",
      "model_module_version": "1.5.0",
      "model_name": "DescriptionStyleModel",
      "state": {
       "description_width": ""
      }
     },
     "0d28f526097a4c16b89fdbfae3a5b1be": {
      "model_module": "@jupyter-widgets/controls",
      "model_module_version": "1.5.0",
      "model_name": "HBoxModel",
      "state": {
       "children": [
        "IPY_MODEL_76d290579b6b4d1cadc5281ab94fd3a8",
        "IPY_MODEL_35de3c8df8444ea3b79aacc5f25df8ae",
        "IPY_MODEL_0849624b8c264c13a4b1cfd484a93736"
       ],
       "layout": "IPY_MODEL_5a83a984f09f4f0986a4d3ec312f7938"
      }
     },
     "0f7908999c8b4824afccf28bbe107cf5": {
      "model_module": "@jupyter-widgets/controls",
      "model_module_version": "1.5.0",
      "model_name": "HBoxModel",
      "state": {
       "children": [
        "IPY_MODEL_1d0fc42659284799a486257556bbff28",
        "IPY_MODEL_8e1f1f58b94444d9a2f7d53f05208a88",
        "IPY_MODEL_0762086851a24d05aa0a23646edf095a"
       ],
       "layout": "IPY_MODEL_45ac7a84c9a54c898b60ce2bd0a8adc1"
      }
     },
     "0fd9c58c43c04a98840ac564b26f95e2": {
      "model_module": "@jupyter-widgets/controls",
      "model_module_version": "1.5.0",
      "model_name": "ProgressStyleModel",
      "state": {
       "description_width": ""
      }
     },
     "118f7ae3d5f941c08ab001c06716a49d": {
      "model_module": "@jupyter-widgets/base",
      "model_module_version": "1.2.0",
      "model_name": "LayoutModel",
      "state": {}
     },
     "12c1ca7b7c2548f699cc06fefaa496d2": {
      "model_module": "@jupyter-widgets/controls",
      "model_module_version": "1.5.0",
      "model_name": "ProgressStyleModel",
      "state": {
       "description_width": ""
      }
     },
     "12da61b8279d4f9696f70eab5d92b964": {
      "model_module": "@jupyter-widgets/controls",
      "model_module_version": "1.5.0",
      "model_name": "DescriptionStyleModel",
      "state": {
       "description_width": ""
      }
     },
     "146283bb5c7e40d78b585f5d03f973f3": {
      "model_module": "@jupyter-widgets/controls",
      "model_module_version": "1.5.0",
      "model_name": "DescriptionStyleModel",
      "state": {
       "description_width": ""
      }
     },
     "148b90f42e36490f81d6adb2dfe4acbd": {
      "model_module": "@jupyter-widgets/base",
      "model_module_version": "1.2.0",
      "model_name": "LayoutModel",
      "state": {}
     },
     "15a60bdf1da54286b32583f90e3f180d": {
      "model_module": "@jupyter-widgets/controls",
      "model_module_version": "1.5.0",
      "model_name": "DescriptionStyleModel",
      "state": {
       "description_width": ""
      }
     },
     "1a97d442609744dfac2f6c08cd026a33": {
      "model_module": "@jupyter-widgets/controls",
      "model_module_version": "1.5.0",
      "model_name": "FloatProgressModel",
      "state": {
       "bar_style": "success",
       "layout": "IPY_MODEL_f64dde6238924501bfcf972c4ebbb68d",
       "max": 25,
       "style": "IPY_MODEL_8930e7104b8e4d28a88455327af883cc",
       "value": 25
      }
     },
     "1bbc01ecedad45488c19a556f94fe30b": {
      "model_module": "@jupyter-widgets/base",
      "model_module_version": "1.2.0",
      "model_name": "LayoutModel",
      "state": {}
     },
     "1be21d69c70246bf9fa14180f0408288": {
      "model_module": "@jupyter-widgets/controls",
      "model_module_version": "1.5.0",
      "model_name": "HTMLModel",
      "state": {
       "layout": "IPY_MODEL_d938035adeb24cf8ad076c5214a3439b",
       "style": "IPY_MODEL_77c14eea6c44446b960b913e802e8a99",
       "value": " 50/50 [00:42&lt;00:00,  1.07s/ batchs, model_name=vgg, num_layers=11, train_acc=0.499, train_f1=0.535, train_loss=0.716, train_precision=0.497, train_recall=0.578, val_acc=0.488, val_f1=0.524, val_loss=0.694, val_precision=0.496, val_recall=0.557]"
      }
     },
     "1bf36259df904e09986f86967b39c89a": {
      "model_module": "@jupyter-widgets/controls",
      "model_module_version": "1.5.0",
      "model_name": "HBoxModel",
      "state": {
       "children": [
        "IPY_MODEL_6d4202b648df44b1b6e96c6f9d11b9ff",
        "IPY_MODEL_1a97d442609744dfac2f6c08cd026a33",
        "IPY_MODEL_4d7fbbb61f4e4fdf9561e24a4aedaafc"
       ],
       "layout": "IPY_MODEL_118f7ae3d5f941c08ab001c06716a49d"
      }
     },
     "1c0a384a63814d5295c7e4a3963d2044": {
      "model_module": "@jupyter-widgets/base",
      "model_module_version": "1.2.0",
      "model_name": "LayoutModel",
      "state": {}
     },
     "1d0fc42659284799a486257556bbff28": {
      "model_module": "@jupyter-widgets/controls",
      "model_module_version": "1.5.0",
      "model_name": "HTMLModel",
      "state": {
       "layout": "IPY_MODEL_5af5ab2d84b64919ab92a286e5d7f4c7",
       "style": "IPY_MODEL_264aacae5a704564b10b5ab47149ba54",
       "value": "100%"
      }
     },
     "1dc7ee378b204d9d8cb325a91b93e6a7": {
      "model_module": "@jupyter-widgets/base",
      "model_module_version": "1.2.0",
      "model_name": "LayoutModel",
      "state": {}
     },
     "1e4405f2dc1e42a59306ef55c1967be1": {
      "model_module": "@jupyter-widgets/base",
      "model_module_version": "1.2.0",
      "model_name": "LayoutModel",
      "state": {}
     },
     "1eaba61f6eea43e2b723a40d9378a415": {
      "model_module": "@jupyter-widgets/controls",
      "model_module_version": "1.5.0",
      "model_name": "FloatProgressModel",
      "state": {
       "bar_style": "success",
       "layout": "IPY_MODEL_b3e7d4acdd3148348d807ebf51fa7206",
       "max": 25,
       "style": "IPY_MODEL_0fd9c58c43c04a98840ac564b26f95e2",
       "value": 25
      }
     },
     "1fa4de87a6e3406baf62310f31a9598c": {
      "model_module": "@jupyter-widgets/controls",
      "model_module_version": "1.5.0",
      "model_name": "ProgressStyleModel",
      "state": {
       "description_width": ""
      }
     },
     "1ff9a180ecd14722bb1ecc1774cbbdcb": {
      "model_module": "@jupyter-widgets/controls",
      "model_module_version": "1.5.0",
      "model_name": "HTMLModel",
      "state": {
       "layout": "IPY_MODEL_7a61f298855d4ca48aecaed2d29d4ae8",
       "style": "IPY_MODEL_dfeba3759f7a4f35b55734e6c302adff",
       "value": "Epoch 3: 100%"
      }
     },
     "24781015c7be4ab2b761aa1e23fa8386": {
      "model_module": "@jupyter-widgets/controls",
      "model_module_version": "1.5.0",
      "model_name": "HBoxModel",
      "state": {
       "children": [
        "IPY_MODEL_02ad99129af24f4081d1145147242387",
        "IPY_MODEL_7a2c758e89a746c2ba803d4c63edca07",
        "IPY_MODEL_f6a6ffaaa56b4f82ae648a20214a42ee"
       ],
       "layout": "IPY_MODEL_8cd692d784b8489dabfc4936633d63ae"
      }
     },
     "260076aae2ec4e4baa98e9957150a514": {
      "model_module": "@jupyter-widgets/controls",
      "model_module_version": "1.5.0",
      "model_name": "HTMLModel",
      "state": {
       "layout": "IPY_MODEL_4be4b5dbe1994ed885111e6c79399222",
       "style": "IPY_MODEL_e75ef28ab30b425ca4646d68a473dbee",
       "value": " 25/25 [00:23&lt;00:00,  1.12 batchs/s, model_name=resnet, num_layers=18, train_acc=0.947, train_f1=0.947, train_loss=0.144, train_precision=0.948, train_recall=0.946, val_acc=0.827, val_f1=0.807, val_loss=0.466, val_precision=0.935, val_recall=0.709]"
      }
     },
     "264aacae5a704564b10b5ab47149ba54": {
      "model_module": "@jupyter-widgets/controls",
      "model_module_version": "1.5.0",
      "model_name": "DescriptionStyleModel",
      "state": {
       "description_width": ""
      }
     },
     "26f4fe66fa564b0e8e8dcae0a913b2c8": {
      "model_module": "@jupyter-widgets/controls",
      "model_module_version": "1.5.0",
      "model_name": "ProgressStyleModel",
      "state": {
       "description_width": ""
      }
     },
     "28c546aa09724f7b9c471e1a6fe01715": {
      "model_module": "@jupyter-widgets/controls",
      "model_module_version": "1.5.0",
      "model_name": "HTMLModel",
      "state": {
       "layout": "IPY_MODEL_7af7e3f5e2654507aff698a4dbb3bc4b",
       "style": "IPY_MODEL_a923cc99c1be499096b362ea6309ec76",
       "value": " 25/25 [00:14&lt;00:00,  1.10s/ batchs, model_name=resnet, num_layers=34, train_acc=0.964, train_f1=0.964, train_loss=0.101, train_precision=0.959, train_recall=0.969, val_acc=0.900, val_f1=0.906, val_loss=0.270, val_precision=0.869, val_recall=0.946]"
      }
     },
     "2a9f4e3f6ac047d0830f6fc4a8133460": {
      "model_module": "@jupyter-widgets/controls",
      "model_module_version": "1.5.0",
      "model_name": "HBoxModel",
      "state": {
       "children": [
        "IPY_MODEL_302ec6ab122b4e169a117e90446cfc3e",
        "IPY_MODEL_64dd9ba7d30349d6bdbfa7b074c306aa",
        "IPY_MODEL_f5bcb1bd51cd44829aede942a8a628a3"
       ],
       "layout": "IPY_MODEL_5d30686b024040cf8ffb0057ca044424"
      }
     },
     "2b99ca0c01464be1b0ab2f8170419975": {
      "model_module": "@jupyter-widgets/base",
      "model_module_version": "1.2.0",
      "model_name": "LayoutModel",
      "state": {}
     },
     "2d805e51f46941adabf5945ee3ab6957": {
      "model_module": "@jupyter-widgets/controls",
      "model_module_version": "1.5.0",
      "model_name": "HTMLModel",
      "state": {
       "layout": "IPY_MODEL_2b99ca0c01464be1b0ab2f8170419975",
       "style": "IPY_MODEL_0439a988ea15465c854543275ddf2939",
       "value": " 50/50 [00:55&lt;00:00,  1.38s/ batchs, model_name=vgg, num_layers=13, train_acc=0.510, train_f1=0.493, train_loss=0.697, train_precision=0.509, train_recall=0.478, val_acc=0.507, val_f1=0.673, val_loss=0.716, val_precision=0.507, val_recall=1.000]"
      }
     },
     "2e1253941a4b4121b26e3b559114175d": {
      "model_module": "@jupyter-widgets/controls",
      "model_module_version": "1.5.0",
      "model_name": "FloatProgressModel",
      "state": {
       "bar_style": "success",
       "layout": "IPY_MODEL_6063bdc4457e41668796a63c126200aa",
       "max": 3,
       "style": "IPY_MODEL_559a0642a6664f9283eb2a368d2ccf78",
       "value": 3
      }
     },
     "302ec6ab122b4e169a117e90446cfc3e": {
      "model_module": "@jupyter-widgets/controls",
      "model_module_version": "1.5.0",
      "model_name": "HTMLModel",
      "state": {
       "layout": "IPY_MODEL_e53418b8e07e4fccb92723624ee774e6",
       "style": "IPY_MODEL_358674c342c54aa0a386841e7a4bac7d",
       "value": "Epoch 1: 100%"
      }
     },
     "308cc77e46b842539ef2c0646eec0140": {
      "model_module": "@jupyter-widgets/base",
      "model_module_version": "1.2.0",
      "model_name": "LayoutModel",
      "state": {}
     },
     "3195650afc5d4fa39bbde5de86ec5a14": {
      "model_module": "@jupyter-widgets/base",
      "model_module_version": "1.2.0",
      "model_name": "LayoutModel",
      "state": {}
     },
     "32f6c4d678ba4b1fa8f428bd3bd7582a": {
      "model_module": "@jupyter-widgets/controls",
      "model_module_version": "1.5.0",
      "model_name": "DescriptionStyleModel",
      "state": {
       "description_width": ""
      }
     },
     "358674c342c54aa0a386841e7a4bac7d": {
      "model_module": "@jupyter-widgets/controls",
      "model_module_version": "1.5.0",
      "model_name": "DescriptionStyleModel",
      "state": {
       "description_width": ""
      }
     },
     "35de3c8df8444ea3b79aacc5f25df8ae": {
      "model_module": "@jupyter-widgets/controls",
      "model_module_version": "1.5.0",
      "model_name": "FloatProgressModel",
      "state": {
       "bar_style": "success",
       "layout": "IPY_MODEL_43dabd070a8c4bf1a5ad1898b2330c0b",
       "max": 3,
       "style": "IPY_MODEL_3d5df4332eae4dd59a7e37fd9649a90d",
       "value": 3
      }
     },
     "36c21cd849204486a2287e6629d7a224": {
      "model_module": "@jupyter-widgets/base",
      "model_module_version": "1.2.0",
      "model_name": "LayoutModel",
      "state": {}
     },
     "391e68ea6a2545c7b3887dd47c1f31d1": {
      "model_module": "@jupyter-widgets/base",
      "model_module_version": "1.2.0",
      "model_name": "LayoutModel",
      "state": {}
     },
     "3b08fac6227b43cc8b285602e94d84b9": {
      "model_module": "@jupyter-widgets/base",
      "model_module_version": "1.2.0",
      "model_name": "LayoutModel",
      "state": {}
     },
     "3b828c075b504a71a8cc1a348d367783": {
      "model_module": "@jupyter-widgets/controls",
      "model_module_version": "1.5.0",
      "model_name": "FloatProgressModel",
      "state": {
       "bar_style": "success",
       "layout": "IPY_MODEL_3f97f35518644143a75b18988dd1029a",
       "max": 50,
       "style": "IPY_MODEL_7dfbc13e540849a892e9c36507e8ed0f",
       "value": 50
      }
     },
     "3c117088de354249a78b90d73b3a171c": {
      "model_module": "@jupyter-widgets/controls",
      "model_module_version": "1.5.0",
      "model_name": "HTMLModel",
      "state": {
       "layout": "IPY_MODEL_cf8c5cfaacfb4f6a9f2e8d77beabc1b2",
       "style": "IPY_MODEL_4330aa60d8324a89b8d169998b257930",
       "value": "Epoch 2: 100%"
      }
     },
     "3d5df4332eae4dd59a7e37fd9649a90d": {
      "model_module": "@jupyter-widgets/controls",
      "model_module_version": "1.5.0",
      "model_name": "ProgressStyleModel",
      "state": {
       "description_width": ""
      }
     },
     "3f97f35518644143a75b18988dd1029a": {
      "model_module": "@jupyter-widgets/base",
      "model_module_version": "1.2.0",
      "model_name": "LayoutModel",
      "state": {}
     },
     "409dfc549cbf4b99ab1675203cc41585": {
      "model_module": "@jupyter-widgets/controls",
      "model_module_version": "1.5.0",
      "model_name": "DescriptionStyleModel",
      "state": {
       "description_width": ""
      }
     },
     "41a76d48b58e44ad96175c32f455cbde": {
      "model_module": "@jupyter-widgets/controls",
      "model_module_version": "1.5.0",
      "model_name": "HTMLModel",
      "state": {
       "layout": "IPY_MODEL_9fe9b172575e4f69bb3273ceeaa4af94",
       "style": "IPY_MODEL_82d3e8591fed475389195d2e051f022c",
       "value": "Epoch 3: 100%"
      }
     },
     "4330aa60d8324a89b8d169998b257930": {
      "model_module": "@jupyter-widgets/controls",
      "model_module_version": "1.5.0",
      "model_name": "DescriptionStyleModel",
      "state": {
       "description_width": ""
      }
     },
     "43dabd070a8c4bf1a5ad1898b2330c0b": {
      "model_module": "@jupyter-widgets/base",
      "model_module_version": "1.2.0",
      "model_name": "LayoutModel",
      "state": {}
     },
     "45ac7a84c9a54c898b60ce2bd0a8adc1": {
      "model_module": "@jupyter-widgets/base",
      "model_module_version": "1.2.0",
      "model_name": "LayoutModel",
      "state": {}
     },
     "45cab8ea7b824d4698d427a677a1f179": {
      "model_module": "@jupyter-widgets/controls",
      "model_module_version": "1.5.0",
      "model_name": "DescriptionStyleModel",
      "state": {
       "description_width": ""
      }
     },
     "499f85397bdc4eb9b5819e2efbfe9925": {
      "model_module": "@jupyter-widgets/base",
      "model_module_version": "1.2.0",
      "model_name": "LayoutModel",
      "state": {}
     },
     "49a214ed76524f22872309d62fde64b3": {
      "model_module": "@jupyter-widgets/controls",
      "model_module_version": "1.5.0",
      "model_name": "HTMLModel",
      "state": {
       "layout": "IPY_MODEL_82cf70f6b98545568a98bf73ce8ef347",
       "style": "IPY_MODEL_847d703f46cb4beea7f4efc69c2daa5d",
       "value": "Epoch 2: 100%"
      }
     },
     "4be4b5dbe1994ed885111e6c79399222": {
      "model_module": "@jupyter-widgets/base",
      "model_module_version": "1.2.0",
      "model_name": "LayoutModel",
      "state": {}
     },
     "4d7fbbb61f4e4fdf9561e24a4aedaafc": {
      "model_module": "@jupyter-widgets/controls",
      "model_module_version": "1.5.0",
      "model_name": "HTMLModel",
      "state": {
       "layout": "IPY_MODEL_6465ecfa11e248e3938f202e2c312715",
       "style": "IPY_MODEL_9c2af02ec66d4a0ca8dd94a517f3d567",
       "value": " 25/25 [00:36&lt;00:00,  1.05 batchs/s, model_name=resnet, num_layers=18, train_acc=0.891, train_f1=0.892, train_loss=0.291, train_precision=0.879, train_recall=0.905, val_acc=0.493, val_f1=0.00e+00, val_loss=21.726, val_precision=0.00e+00, val_recall=0.00e+00]"
      }
     },
     "4df92c33acdb4dad884a9cb17ac42562": {
      "model_module": "@jupyter-widgets/controls",
      "model_module_version": "1.5.0",
      "model_name": "ProgressStyleModel",
      "state": {
       "description_width": ""
      }
     },
     "4ec781cee3324162a220ab16babc4327": {
      "model_module": "@jupyter-widgets/controls",
      "model_module_version": "1.5.0",
      "model_name": "FloatProgressModel",
      "state": {
       "bar_style": "success",
       "layout": "IPY_MODEL_dab3e2e2401d4b6a968334218237b1bd",
       "max": 25,
       "style": "IPY_MODEL_4df92c33acdb4dad884a9cb17ac42562",
       "value": 25
      }
     },
     "4f9776c6bf754306907dadd144bd0190": {
      "model_module": "@jupyter-widgets/base",
      "model_module_version": "1.2.0",
      "model_name": "LayoutModel",
      "state": {}
     },
     "509bb9fb079448fb81b7948b533057e6": {
      "model_module": "@jupyter-widgets/base",
      "model_module_version": "1.2.0",
      "model_name": "LayoutModel",
      "state": {}
     },
     "541d6427689440148ee20a821cf427e1": {
      "model_module": "@jupyter-widgets/base",
      "model_module_version": "1.2.0",
      "model_name": "LayoutModel",
      "state": {}
     },
     "543292c5d45749dbba48e7189145a94b": {
      "model_module": "@jupyter-widgets/base",
      "model_module_version": "1.2.0",
      "model_name": "LayoutModel",
      "state": {}
     },
     "54bf867894464b3eac4faa83265dedee": {
      "model_module": "@jupyter-widgets/base",
      "model_module_version": "1.2.0",
      "model_name": "LayoutModel",
      "state": {}
     },
     "559a0642a6664f9283eb2a368d2ccf78": {
      "model_module": "@jupyter-widgets/controls",
      "model_module_version": "1.5.0",
      "model_name": "ProgressStyleModel",
      "state": {
       "description_width": ""
      }
     },
     "578ba057eedf4b7c8877d302ecc02db5": {
      "model_module": "@jupyter-widgets/controls",
      "model_module_version": "1.5.0",
      "model_name": "ProgressStyleModel",
      "state": {
       "description_width": ""
      }
     },
     "57ab7b67b2594f95a536f0cbf1970f91": {
      "model_module": "@jupyter-widgets/controls",
      "model_module_version": "1.5.0",
      "model_name": "DescriptionStyleModel",
      "state": {
       "description_width": ""
      }
     },
     "58682d1641fe48958d1ca24855af63ec": {
      "model_module": "@jupyter-widgets/controls",
      "model_module_version": "1.5.0",
      "model_name": "HTMLModel",
      "state": {
       "layout": "IPY_MODEL_1bbc01ecedad45488c19a556f94fe30b",
       "style": "IPY_MODEL_5ce31da172df45a2854abde9e855f878",
       "value": "Epoch 3: 100%"
      }
     },
     "58babccda3cf45c29697e424756f9ec2": {
      "model_module": "@jupyter-widgets/controls",
      "model_module_version": "1.5.0",
      "model_name": "DescriptionStyleModel",
      "state": {
       "description_width": ""
      }
     },
     "5a83a984f09f4f0986a4d3ec312f7938": {
      "model_module": "@jupyter-widgets/base",
      "model_module_version": "1.2.0",
      "model_name": "LayoutModel",
      "state": {}
     },
     "5af5ab2d84b64919ab92a286e5d7f4c7": {
      "model_module": "@jupyter-widgets/base",
      "model_module_version": "1.2.0",
      "model_name": "LayoutModel",
      "state": {}
     },
     "5ce31da172df45a2854abde9e855f878": {
      "model_module": "@jupyter-widgets/controls",
      "model_module_version": "1.5.0",
      "model_name": "DescriptionStyleModel",
      "state": {
       "description_width": ""
      }
     },
     "5d30686b024040cf8ffb0057ca044424": {
      "model_module": "@jupyter-widgets/base",
      "model_module_version": "1.2.0",
      "model_name": "LayoutModel",
      "state": {}
     },
     "5f9bdd8c5cf84a328375ebe58f5cb12e": {
      "model_module": "@jupyter-widgets/controls",
      "model_module_version": "1.5.0",
      "model_name": "ProgressStyleModel",
      "state": {
       "description_width": ""
      }
     },
     "5fff627abf0a4ed889e3611108917a00": {
      "model_module": "@jupyter-widgets/controls",
      "model_module_version": "1.5.0",
      "model_name": "HBoxModel",
      "state": {
       "children": [
        "IPY_MODEL_9f753565ea5244b6851b3a5501597ee6",
        "IPY_MODEL_9e83a2afe1684852a8c7a4d8340b1d45",
        "IPY_MODEL_bd302dd80b254bc1a42c1d4b2acf7e2d"
       ],
       "layout": "IPY_MODEL_984cb074f30a4b69b89eabc0f7fe37e8"
      }
     },
     "6063bdc4457e41668796a63c126200aa": {
      "model_module": "@jupyter-widgets/base",
      "model_module_version": "1.2.0",
      "model_name": "LayoutModel",
      "state": {}
     },
     "613ac81f6456492586f4e6ce9904d662": {
      "model_module": "@jupyter-widgets/base",
      "model_module_version": "1.2.0",
      "model_name": "LayoutModel",
      "state": {}
     },
     "61cd9fd51e744c4f8ba1cbfe5c300f6d": {
      "model_module": "@jupyter-widgets/base",
      "model_module_version": "1.2.0",
      "model_name": "LayoutModel",
      "state": {}
     },
     "62611a7d8921418c9244b81e00e1754e": {
      "model_module": "@jupyter-widgets/controls",
      "model_module_version": "1.5.0",
      "model_name": "HTMLModel",
      "state": {
       "layout": "IPY_MODEL_9cca652319824d59b0cd275559ba13ec",
       "style": "IPY_MODEL_cddb228f181f4920a87d937d7b1ecd80",
       "value": " 3/3 [00:36&lt;00:00, 12.00s/epoch]"
      }
     },
     "627bc2de407f400c8b67527ffe9b4e6e": {
      "model_module": "@jupyter-widgets/controls",
      "model_module_version": "1.5.0",
      "model_name": "ProgressStyleModel",
      "state": {
       "description_width": ""
      }
     },
     "6465ecfa11e248e3938f202e2c312715": {
      "model_module": "@jupyter-widgets/base",
      "model_module_version": "1.2.0",
      "model_name": "LayoutModel",
      "state": {}
     },
     "64dd9ba7d30349d6bdbfa7b074c306aa": {
      "model_module": "@jupyter-widgets/controls",
      "model_module_version": "1.5.0",
      "model_name": "FloatProgressModel",
      "state": {
       "bar_style": "success",
       "layout": "IPY_MODEL_f0a56e8a189a44539d7884f8598a694b",
       "max": 25,
       "style": "IPY_MODEL_12c1ca7b7c2548f699cc06fefaa496d2",
       "value": 25
      }
     },
     "66f0dfc254ab40a28863b80d45d713e9": {
      "model_module": "@jupyter-widgets/base",
      "model_module_version": "1.2.0",
      "model_name": "LayoutModel",
      "state": {}
     },
     "67477b5041564dfa962f2fd86d54ad9f": {
      "model_module": "@jupyter-widgets/controls",
      "model_module_version": "1.5.0",
      "model_name": "HBoxModel",
      "state": {
       "children": [
        "IPY_MODEL_58682d1641fe48958d1ca24855af63ec",
        "IPY_MODEL_f217150f5c6b4fd79ed7f66366078ab1",
        "IPY_MODEL_9c55f17f31bb4b5a8d022adca520476e"
       ],
       "layout": "IPY_MODEL_499f85397bdc4eb9b5819e2efbfe9925"
      }
     },
     "694c63a551a7465ba008af646e3a1ae2": {
      "model_module": "@jupyter-widgets/base",
      "model_module_version": "1.2.0",
      "model_name": "LayoutModel",
      "state": {}
     },
     "69afa611393e404f8659a0bbb42880e4": {
      "model_module": "@jupyter-widgets/controls",
      "model_module_version": "1.5.0",
      "model_name": "FloatProgressModel",
      "state": {
       "bar_style": "success",
       "layout": "IPY_MODEL_82b5979e664143ada15fff1d24f03dda",
       "max": 50,
       "style": "IPY_MODEL_9ab1a02647514ada9912b96c74492eeb",
       "value": 50
      }
     },
     "6a8d944777274f4cbef3b7dd5b81e4b4": {
      "model_module": "@jupyter-widgets/controls",
      "model_module_version": "1.5.0",
      "model_name": "HBoxModel",
      "state": {
       "children": [
        "IPY_MODEL_7126a1d091a249ae8a63831f10f8c32d",
        "IPY_MODEL_b03407401d734a30ad8166fc602b7a69",
        "IPY_MODEL_ddbd952432b34bbb9e8435a79f97c1c1"
       ],
       "layout": "IPY_MODEL_e57bd12c084747fdb88cb70a329e1b3d"
      }
     },
     "6b30387fab054772a12977188f6cba41": {
      "model_module": "@jupyter-widgets/controls",
      "model_module_version": "1.5.0",
      "model_name": "HTMLModel",
      "state": {
       "layout": "IPY_MODEL_36c21cd849204486a2287e6629d7a224",
       "style": "IPY_MODEL_7056e047d24f43cf941d443488ca1cbd",
       "value": "Epoch 1: 100%"
      }
     },
     "6bdd2879facc402eaa588b4b66e0c17f": {
      "model_module": "@jupyter-widgets/base",
      "model_module_version": "1.2.0",
      "model_name": "LayoutModel",
      "state": {}
     },
     "6d4202b648df44b1b6e96c6f9d11b9ff": {
      "model_module": "@jupyter-widgets/controls",
      "model_module_version": "1.5.0",
      "model_name": "HTMLModel",
      "state": {
       "layout": "IPY_MODEL_72b4fdaa6c5246aa930f547cad33da14",
       "style": "IPY_MODEL_32f6c4d678ba4b1fa8f428bd3bd7582a",
       "value": "Epoch 1: 100%"
      }
     },
     "6d5a93e321204b41aa058e121aff83d0": {
      "model_module": "@jupyter-widgets/controls",
      "model_module_version": "1.5.0",
      "model_name": "HTMLModel",
      "state": {
       "layout": "IPY_MODEL_d2f6f6708ea742a5b6139d0136859351",
       "style": "IPY_MODEL_b686168156204f01848ffe4c08c1d118",
       "value": "Epoch 2: 100%"
      }
     },
     "6dad9ad965cb4a8a939f9f1f1b9b67a2": {
      "model_module": "@jupyter-widgets/base",
      "model_module_version": "1.2.0",
      "model_name": "LayoutModel",
      "state": {}
     },
     "6de13ba41546475da2de1a88c2e61f4e": {
      "model_module": "@jupyter-widgets/base",
      "model_module_version": "1.2.0",
      "model_name": "LayoutModel",
      "state": {}
     },
     "6f6204d3ad0e45dd945b15c2dc3baafb": {
      "model_module": "@jupyter-widgets/controls",
      "model_module_version": "1.5.0",
      "model_name": "HBoxModel",
      "state": {
       "children": [
        "IPY_MODEL_41a76d48b58e44ad96175c32f455cbde",
        "IPY_MODEL_1eaba61f6eea43e2b723a40d9378a415",
        "IPY_MODEL_96e37fa6c9ca47d3b5327ab450096922"
       ],
       "layout": "IPY_MODEL_e8a851959fea40b5bc996995825a0c37"
      }
     },
     "7056e047d24f43cf941d443488ca1cbd": {
      "model_module": "@jupyter-widgets/controls",
      "model_module_version": "1.5.0",
      "model_name": "DescriptionStyleModel",
      "state": {
       "description_width": ""
      }
     },
     "7126a1d091a249ae8a63831f10f8c32d": {
      "model_module": "@jupyter-widgets/controls",
      "model_module_version": "1.5.0",
      "model_name": "HTMLModel",
      "state": {
       "layout": "IPY_MODEL_54bf867894464b3eac4faa83265dedee",
       "style": "IPY_MODEL_a7f42774a58b412eaa252330d76156c0",
       "value": "Epoch 3: 100%"
      }
     },
     "72b4fdaa6c5246aa930f547cad33da14": {
      "model_module": "@jupyter-widgets/base",
      "model_module_version": "1.2.0",
      "model_name": "LayoutModel",
      "state": {}
     },
     "7409255f7f3b4b90a199cee49a4cf64c": {
      "model_module": "@jupyter-widgets/base",
      "model_module_version": "1.2.0",
      "model_name": "LayoutModel",
      "state": {}
     },
     "76d290579b6b4d1cadc5281ab94fd3a8": {
      "model_module": "@jupyter-widgets/controls",
      "model_module_version": "1.5.0",
      "model_name": "HTMLModel",
      "state": {
       "layout": "IPY_MODEL_880924f721bd4f3cbe9544d8aff5051b",
       "style": "IPY_MODEL_8a73bc15c59c45feb6843374f2d6dce5",
       "value": "100%"
      }
     },
     "76fa3262cd6644808bfebca219643ca9": {
      "model_module": "@jupyter-widgets/base",
      "model_module_version": "1.2.0",
      "model_name": "LayoutModel",
      "state": {}
     },
     "7785ab6a20a341d3b838b4c3e5001d70": {
      "model_module": "@jupyter-widgets/controls",
      "model_module_version": "1.5.0",
      "model_name": "HTMLModel",
      "state": {
       "layout": "IPY_MODEL_ba54bc44db27414d8fdfb1365cc77e33",
       "style": "IPY_MODEL_a15b30fd3e57412bb06b1140fe3c427b",
       "value": " 3/3 [00:44&lt;00:00, 14.77s/epoch]"
      }
     },
     "77c14eea6c44446b960b913e802e8a99": {
      "model_module": "@jupyter-widgets/controls",
      "model_module_version": "1.5.0",
      "model_name": "DescriptionStyleModel",
      "state": {
       "description_width": ""
      }
     },
     "7a298e40fa9d4815a26bc5722457f264": {
      "model_module": "@jupyter-widgets/controls",
      "model_module_version": "1.5.0",
      "model_name": "FloatProgressModel",
      "state": {
       "bar_style": "success",
       "layout": "IPY_MODEL_541d6427689440148ee20a821cf427e1",
       "max": 50,
       "style": "IPY_MODEL_26f4fe66fa564b0e8e8dcae0a913b2c8",
       "value": 50
      }
     },
     "7a2c758e89a746c2ba803d4c63edca07": {
      "model_module": "@jupyter-widgets/controls",
      "model_module_version": "1.5.0",
      "model_name": "FloatProgressModel",
      "state": {
       "bar_style": "success",
       "layout": "IPY_MODEL_6dad9ad965cb4a8a939f9f1f1b9b67a2",
       "max": 25,
       "style": "IPY_MODEL_aa3f7aa301144417a56d98d960b04955",
       "value": 25
      }
     },
     "7a61f298855d4ca48aecaed2d29d4ae8": {
      "model_module": "@jupyter-widgets/base",
      "model_module_version": "1.2.0",
      "model_name": "LayoutModel",
      "state": {}
     },
     "7af7e3f5e2654507aff698a4dbb3bc4b": {
      "model_module": "@jupyter-widgets/base",
      "model_module_version": "1.2.0",
      "model_name": "LayoutModel",
      "state": {}
     },
     "7be97343f94047009349e2ab2227ab93": {
      "model_module": "@jupyter-widgets/controls",
      "model_module_version": "1.5.0",
      "model_name": "FloatProgressModel",
      "state": {
       "bar_style": "success",
       "layout": "IPY_MODEL_add65a0b21244acf9790f3a25bc463b5",
       "max": 50,
       "style": "IPY_MODEL_e8e175abc13b41d18f4a1ecf61b7a4a6",
       "value": 50
      }
     },
     "7ca488f857d4490e9eccf9e0f33d3732": {
      "model_module": "@jupyter-widgets/controls",
      "model_module_version": "1.5.0",
      "model_name": "HTMLModel",
      "state": {
       "layout": "IPY_MODEL_cdef56e825a246bba367b3076f54e48c",
       "style": "IPY_MODEL_e9a5719764814baaa2b0dcc7ffd27589",
       "value": "Epoch 3: 100%"
      }
     },
     "7dfbc13e540849a892e9c36507e8ed0f": {
      "model_module": "@jupyter-widgets/controls",
      "model_module_version": "1.5.0",
      "model_name": "ProgressStyleModel",
      "state": {
       "description_width": ""
      }
     },
     "82389d464c534e2081666d7e834326ef": {
      "model_module": "@jupyter-widgets/controls",
      "model_module_version": "1.5.0",
      "model_name": "DescriptionStyleModel",
      "state": {
       "description_width": ""
      }
     },
     "82b5979e664143ada15fff1d24f03dda": {
      "model_module": "@jupyter-widgets/base",
      "model_module_version": "1.2.0",
      "model_name": "LayoutModel",
      "state": {}
     },
     "82cf70f6b98545568a98bf73ce8ef347": {
      "model_module": "@jupyter-widgets/base",
      "model_module_version": "1.2.0",
      "model_name": "LayoutModel",
      "state": {}
     },
     "82d3e8591fed475389195d2e051f022c": {
      "model_module": "@jupyter-widgets/controls",
      "model_module_version": "1.5.0",
      "model_name": "DescriptionStyleModel",
      "state": {
       "description_width": ""
      }
     },
     "835f104eccbf45a18fc7c09279f2b423": {
      "model_module": "@jupyter-widgets/base",
      "model_module_version": "1.2.0",
      "model_name": "LayoutModel",
      "state": {}
     },
     "837bbd759d164afda6579eb462699168": {
      "model_module": "@jupyter-widgets/controls",
      "model_module_version": "1.5.0",
      "model_name": "DescriptionStyleModel",
      "state": {
       "description_width": ""
      }
     },
     "847d703f46cb4beea7f4efc69c2daa5d": {
      "model_module": "@jupyter-widgets/controls",
      "model_module_version": "1.5.0",
      "model_name": "DescriptionStyleModel",
      "state": {
       "description_width": ""
      }
     },
     "880924f721bd4f3cbe9544d8aff5051b": {
      "model_module": "@jupyter-widgets/base",
      "model_module_version": "1.2.0",
      "model_name": "LayoutModel",
      "state": {}
     },
     "8930e7104b8e4d28a88455327af883cc": {
      "model_module": "@jupyter-widgets/controls",
      "model_module_version": "1.5.0",
      "model_name": "ProgressStyleModel",
      "state": {
       "description_width": ""
      }
     },
     "8a73bc15c59c45feb6843374f2d6dce5": {
      "model_module": "@jupyter-widgets/controls",
      "model_module_version": "1.5.0",
      "model_name": "DescriptionStyleModel",
      "state": {
       "description_width": ""
      }
     },
     "8c12885c514642bebd688652f5819045": {
      "model_module": "@jupyter-widgets/controls",
      "model_module_version": "1.5.0",
      "model_name": "HBoxModel",
      "state": {
       "children": [
        "IPY_MODEL_3c117088de354249a78b90d73b3a171c",
        "IPY_MODEL_7be97343f94047009349e2ab2227ab93",
        "IPY_MODEL_1be21d69c70246bf9fa14180f0408288"
       ],
       "layout": "IPY_MODEL_308cc77e46b842539ef2c0646eec0140"
      }
     },
     "8cd692d784b8489dabfc4936633d63ae": {
      "model_module": "@jupyter-widgets/base",
      "model_module_version": "1.2.0",
      "model_name": "LayoutModel",
      "state": {}
     },
     "8d3f8e89b7964aa8a59a66f5e84e8722": {
      "model_module": "@jupyter-widgets/controls",
      "model_module_version": "1.5.0",
      "model_name": "HBoxModel",
      "state": {
       "children": [
        "IPY_MODEL_49a214ed76524f22872309d62fde64b3",
        "IPY_MODEL_f58f34ae44a84c5795a7f8e622af6c1e",
        "IPY_MODEL_260076aae2ec4e4baa98e9957150a514"
       ],
       "layout": "IPY_MODEL_509bb9fb079448fb81b7948b533057e6"
      }
     },
     "8e1f1f58b94444d9a2f7d53f05208a88": {
      "model_module": "@jupyter-widgets/controls",
      "model_module_version": "1.5.0",
      "model_name": "FloatProgressModel",
      "state": {
       "bar_style": "success",
       "layout": "IPY_MODEL_be5550bccac54e84be06488ecf6e71f5",
       "max": 3,
       "style": "IPY_MODEL_b87ee750aa3d47dba7dd95f969fab86c",
       "value": 3
      }
     },
     "927d9ff2b0f74115831d771d8a6f86cc": {
      "model_module": "@jupyter-widgets/controls",
      "model_module_version": "1.5.0",
      "model_name": "HTMLModel",
      "state": {
       "layout": "IPY_MODEL_1e4405f2dc1e42a59306ef55c1967be1",
       "style": "IPY_MODEL_a077d831fd944136a60bb867875b5b7c",
       "value": "100%"
      }
     },
     "93e3e43ede384e4b99a6cbc74607108f": {
      "model_module": "@jupyter-widgets/controls",
      "model_module_version": "1.5.0",
      "model_name": "HBoxModel",
      "state": {
       "children": [
        "IPY_MODEL_bbc985e6743a47fbbb2118b69bcddc59",
        "IPY_MODEL_cf244049eede43e6b0db206549c5b3cc",
        "IPY_MODEL_7785ab6a20a341d3b838b4c3e5001d70"
       ],
       "layout": "IPY_MODEL_bc9af9f80e2948609c14378a393fd9ac"
      }
     },
     "9628849a4a6a4e01b1b5815390b31635": {
      "model_module": "@jupyter-widgets/controls",
      "model_module_version": "1.5.0",
      "model_name": "DescriptionStyleModel",
      "state": {
       "description_width": ""
      }
     },
     "96e37fa6c9ca47d3b5327ab450096922": {
      "model_module": "@jupyter-widgets/controls",
      "model_module_version": "1.5.0",
      "model_name": "HTMLModel",
      "state": {
       "layout": "IPY_MODEL_3195650afc5d4fa39bbde5de86ec5a14",
       "style": "IPY_MODEL_58babccda3cf45c29697e424756f9ec2",
       "value": " 25/25 [00:22&lt;00:00,  1.49s/ batchs, model_name=resnet, num_layers=50, train_acc=0.936, train_f1=0.936, train_loss=0.178, train_precision=0.938, train_recall=0.934, val_acc=0.868, val_f1=0.862, val_loss=0.332, val_precision=0.912, val_recall=0.818]"
      }
     },
     "984cb074f30a4b69b89eabc0f7fe37e8": {
      "model_module": "@jupyter-widgets/base",
      "model_module_version": "1.2.0",
      "model_name": "LayoutModel",
      "state": {}
     },
     "9937ef81b96f4d72bd5176070a1f87d3": {
      "model_module": "@jupyter-widgets/base",
      "model_module_version": "1.2.0",
      "model_name": "LayoutModel",
      "state": {}
     },
     "9ab1a02647514ada9912b96c74492eeb": {
      "model_module": "@jupyter-widgets/controls",
      "model_module_version": "1.5.0",
      "model_name": "ProgressStyleModel",
      "state": {
       "description_width": ""
      }
     },
     "9c2af02ec66d4a0ca8dd94a517f3d567": {
      "model_module": "@jupyter-widgets/controls",
      "model_module_version": "1.5.0",
      "model_name": "DescriptionStyleModel",
      "state": {
       "description_width": ""
      }
     },
     "9c55f17f31bb4b5a8d022adca520476e": {
      "model_module": "@jupyter-widgets/controls",
      "model_module_version": "1.5.0",
      "model_name": "HTMLModel",
      "state": {
       "layout": "IPY_MODEL_e8f7fe185c4040bd842604840b82ba10",
       "style": "IPY_MODEL_a37a4f18f9ec499089e09fa71fc8411f",
       "value": " 50/50 [00:27&lt;00:00,  1.32s/ batchs, model_name=vgg, num_layers=13, train_acc=0.522, train_f1=0.507, train_loss=0.694, train_precision=0.521, train_recall=0.493, val_acc=0.507, val_f1=0.673, val_loss=0.699, val_precision=0.507, val_recall=1.000]"
      }
     },
     "9cca652319824d59b0cd275559ba13ec": {
      "model_module": "@jupyter-widgets/base",
      "model_module_version": "1.2.0",
      "model_name": "LayoutModel",
      "state": {}
     },
     "9e2ee01e58bb41d9bedff31c71d6b587": {
      "model_module": "@jupyter-widgets/controls",
      "model_module_version": "1.5.0",
      "model_name": "DescriptionStyleModel",
      "state": {
       "description_width": ""
      }
     },
     "9e83a2afe1684852a8c7a4d8340b1d45": {
      "model_module": "@jupyter-widgets/controls",
      "model_module_version": "1.5.0",
      "model_name": "FloatProgressModel",
      "state": {
       "bar_style": "success",
       "layout": "IPY_MODEL_05f09ebba26b44f0a4bc7326a2603668",
       "max": 25,
       "style": "IPY_MODEL_5f9bdd8c5cf84a328375ebe58f5cb12e",
       "value": 25
      }
     },
     "9f753565ea5244b6851b3a5501597ee6": {
      "model_module": "@jupyter-widgets/controls",
      "model_module_version": "1.5.0",
      "model_name": "HTMLModel",
      "state": {
       "layout": "IPY_MODEL_613ac81f6456492586f4e6ce9904d662",
       "style": "IPY_MODEL_0c64f058da7145aca717a635b6f75f48",
       "value": "Epoch 2: 100%"
      }
     },
     "9fe9b172575e4f69bb3273ceeaa4af94": {
      "model_module": "@jupyter-widgets/base",
      "model_module_version": "1.2.0",
      "model_name": "LayoutModel",
      "state": {}
     },
     "a0286f87821c4d2481e590e56909c280": {
      "model_module": "@jupyter-widgets/controls",
      "model_module_version": "1.5.0",
      "model_name": "HBoxModel",
      "state": {
       "children": [
        "IPY_MODEL_6d5a93e321204b41aa058e121aff83d0",
        "IPY_MODEL_3b828c075b504a71a8cc1a348d367783",
        "IPY_MODEL_2d805e51f46941adabf5945ee3ab6957"
       ],
       "layout": "IPY_MODEL_bd59c38cec3443b59f05546ac3851eda"
      }
     },
     "a077d831fd944136a60bb867875b5b7c": {
      "model_module": "@jupyter-widgets/controls",
      "model_module_version": "1.5.0",
      "model_name": "DescriptionStyleModel",
      "state": {
       "description_width": ""
      }
     },
     "a0803e11edf9457db85d3bee289f4ad6": {
      "model_module": "@jupyter-widgets/controls",
      "model_module_version": "1.5.0",
      "model_name": "ProgressStyleModel",
      "state": {
       "description_width": ""
      }
     },
     "a15b30fd3e57412bb06b1140fe3c427b": {
      "model_module": "@jupyter-widgets/controls",
      "model_module_version": "1.5.0",
      "model_name": "DescriptionStyleModel",
      "state": {
       "description_width": ""
      }
     },
     "a1cb7de34bb8489db4798ee580e2bd6f": {
      "model_module": "@jupyter-widgets/base",
      "model_module_version": "1.2.0",
      "model_name": "LayoutModel",
      "state": {}
     },
     "a2840454d2444cd1b09c9d7db1961ea6": {
      "model_module": "@jupyter-widgets/controls",
      "model_module_version": "1.5.0",
      "model_name": "ProgressStyleModel",
      "state": {
       "description_width": ""
      }
     },
     "a37a4f18f9ec499089e09fa71fc8411f": {
      "model_module": "@jupyter-widgets/controls",
      "model_module_version": "1.5.0",
      "model_name": "DescriptionStyleModel",
      "state": {
       "description_width": ""
      }
     },
     "a3e6b089e7e84cdb8a5503f589eeddb9": {
      "model_module": "@jupyter-widgets/base",
      "model_module_version": "1.2.0",
      "model_name": "LayoutModel",
      "state": {}
     },
     "a5588537a2fe4dad99ac4cc91f10655b": {
      "model_module": "@jupyter-widgets/controls",
      "model_module_version": "1.5.0",
      "model_name": "DescriptionStyleModel",
      "state": {
       "description_width": ""
      }
     },
     "a7f42774a58b412eaa252330d76156c0": {
      "model_module": "@jupyter-widgets/controls",
      "model_module_version": "1.5.0",
      "model_name": "DescriptionStyleModel",
      "state": {
       "description_width": ""
      }
     },
     "a85ed70666e4418bb47096a462c101a3": {
      "model_module": "@jupyter-widgets/controls",
      "model_module_version": "1.5.0",
      "model_name": "HBoxModel",
      "state": {
       "children": [
        "IPY_MODEL_6b30387fab054772a12977188f6cba41",
        "IPY_MODEL_7a298e40fa9d4815a26bc5722457f264",
        "IPY_MODEL_d214fb83d7de481bb6a54b008f2525aa"
       ],
       "layout": "IPY_MODEL_3b08fac6227b43cc8b285602e94d84b9"
      }
     },
     "a923cc99c1be499096b362ea6309ec76": {
      "model_module": "@jupyter-widgets/controls",
      "model_module_version": "1.5.0",
      "model_name": "DescriptionStyleModel",
      "state": {
       "description_width": ""
      }
     },
     "aa3f7aa301144417a56d98d960b04955": {
      "model_module": "@jupyter-widgets/controls",
      "model_module_version": "1.5.0",
      "model_name": "ProgressStyleModel",
      "state": {
       "description_width": ""
      }
     },
     "ac0e2e5a85cb4949a7eaf708c821fdbe": {
      "model_module": "@jupyter-widgets/controls",
      "model_module_version": "1.5.0",
      "model_name": "HBoxModel",
      "state": {
       "children": [
        "IPY_MODEL_1ff9a180ecd14722bb1ecc1774cbbdcb",
        "IPY_MODEL_4ec781cee3324162a220ab16babc4327",
        "IPY_MODEL_f0d5bf4f6de24a33a9ddd9a1674e66a5"
       ],
       "layout": "IPY_MODEL_d417c44cbcf24efb9fbfe44685233112"
      }
     },
     "add65a0b21244acf9790f3a25bc463b5": {
      "model_module": "@jupyter-widgets/base",
      "model_module_version": "1.2.0",
      "model_name": "LayoutModel",
      "state": {}
     },
     "b0071402f65e4e06b477c16ce9ef3dfd": {
      "model_module": "@jupyter-widgets/base",
      "model_module_version": "1.2.0",
      "model_name": "LayoutModel",
      "state": {}
     },
     "b03407401d734a30ad8166fc602b7a69": {
      "model_module": "@jupyter-widgets/controls",
      "model_module_version": "1.5.0",
      "model_name": "FloatProgressModel",
      "state": {
       "bar_style": "success",
       "layout": "IPY_MODEL_391e68ea6a2545c7b3887dd47c1f31d1",
       "max": 50,
       "style": "IPY_MODEL_eae56f4d35054766b9b8ee5fcbe09f2f",
       "value": 50
      }
     },
     "b0da95513c204c4284b66362f5d07346": {
      "model_module": "@jupyter-widgets/base",
      "model_module_version": "1.2.0",
      "model_name": "LayoutModel",
      "state": {}
     },
     "b3e7d4acdd3148348d807ebf51fa7206": {
      "model_module": "@jupyter-widgets/base",
      "model_module_version": "1.2.0",
      "model_name": "LayoutModel",
      "state": {}
     },
     "b495f0015d7940dcb7ac587f37ad3cab": {
      "model_module": "@jupyter-widgets/controls",
      "model_module_version": "1.5.0",
      "model_name": "DescriptionStyleModel",
      "state": {
       "description_width": ""
      }
     },
     "b686168156204f01848ffe4c08c1d118": {
      "model_module": "@jupyter-widgets/controls",
      "model_module_version": "1.5.0",
      "model_name": "DescriptionStyleModel",
      "state": {
       "description_width": ""
      }
     },
     "b87ee750aa3d47dba7dd95f969fab86c": {
      "model_module": "@jupyter-widgets/controls",
      "model_module_version": "1.5.0",
      "model_name": "ProgressStyleModel",
      "state": {
       "description_width": ""
      }
     },
     "ba54bc44db27414d8fdfb1365cc77e33": {
      "model_module": "@jupyter-widgets/base",
      "model_module_version": "1.2.0",
      "model_name": "LayoutModel",
      "state": {}
     },
     "bb5e93179c70446eb3c2813d101d128b": {
      "model_module": "@jupyter-widgets/base",
      "model_module_version": "1.2.0",
      "model_name": "LayoutModel",
      "state": {}
     },
     "bbc985e6743a47fbbb2118b69bcddc59": {
      "model_module": "@jupyter-widgets/controls",
      "model_module_version": "1.5.0",
      "model_name": "HTMLModel",
      "state": {
       "layout": "IPY_MODEL_b0071402f65e4e06b477c16ce9ef3dfd",
       "style": "IPY_MODEL_9e2ee01e58bb41d9bedff31c71d6b587",
       "value": "100%"
      }
     },
     "bc9af9f80e2948609c14378a393fd9ac": {
      "model_module": "@jupyter-widgets/base",
      "model_module_version": "1.2.0",
      "model_name": "LayoutModel",
      "state": {}
     },
     "bca0573292434d05a6b447071c8597f4": {
      "model_module": "@jupyter-widgets/base",
      "model_module_version": "1.2.0",
      "model_name": "LayoutModel",
      "state": {}
     },
     "bd302dd80b254bc1a42c1d4b2acf7e2d": {
      "model_module": "@jupyter-widgets/controls",
      "model_module_version": "1.5.0",
      "model_name": "HTMLModel",
      "state": {
       "layout": "IPY_MODEL_f8d80421ca6a485ca99f8ab1b159e0d3",
       "style": "IPY_MODEL_cb50e5320f394d589f67c250d9537b07",
       "value": " 25/25 [00:29&lt;00:00,  1.11s/ batchs, model_name=resnet, num_layers=34, train_acc=0.931, train_f1=0.930, train_loss=0.177, train_precision=0.930, train_recall=0.931, val_acc=0.837, val_f1=0.813, val_loss=0.486, val_precision=0.979, val_recall=0.695]"
      }
     },
     "bd59c38cec3443b59f05546ac3851eda": {
      "model_module": "@jupyter-widgets/base",
      "model_module_version": "1.2.0",
      "model_name": "LayoutModel",
      "state": {}
     },
     "be5550bccac54e84be06488ecf6e71f5": {
      "model_module": "@jupyter-widgets/base",
      "model_module_version": "1.2.0",
      "model_name": "LayoutModel",
      "state": {}
     },
     "c7988c2c8b1b464184d0d04c0a9eeb5e": {
      "model_module": "@jupyter-widgets/controls",
      "model_module_version": "1.5.0",
      "model_name": "HTMLModel",
      "state": {
       "layout": "IPY_MODEL_edbf940625254bb0acdc7b62149f1369",
       "style": "IPY_MODEL_82389d464c534e2081666d7e834326ef",
       "value": " 3/3 [01:07&lt;00:00, 22.36s/epoch]"
      }
     },
     "cb50e5320f394d589f67c250d9537b07": {
      "model_module": "@jupyter-widgets/controls",
      "model_module_version": "1.5.0",
      "model_name": "DescriptionStyleModel",
      "state": {
       "description_width": ""
      }
     },
     "cc7da9ecba17475ea801144c25148216": {
      "model_module": "@jupyter-widgets/controls",
      "model_module_version": "1.5.0",
      "model_name": "DescriptionStyleModel",
      "state": {
       "description_width": ""
      }
     },
     "cddb228f181f4920a87d937d7b1ecd80": {
      "model_module": "@jupyter-widgets/controls",
      "model_module_version": "1.5.0",
      "model_name": "DescriptionStyleModel",
      "state": {
       "description_width": ""
      }
     },
     "cdef56e825a246bba367b3076f54e48c": {
      "model_module": "@jupyter-widgets/base",
      "model_module_version": "1.2.0",
      "model_name": "LayoutModel",
      "state": {}
     },
     "ce895a3ee04c47d5818486049219d539": {
      "model_module": "@jupyter-widgets/controls",
      "model_module_version": "1.5.0",
      "model_name": "HTMLModel",
      "state": {
       "layout": "IPY_MODEL_1c0a384a63814d5295c7e4a3963d2044",
       "style": "IPY_MODEL_12da61b8279d4f9696f70eab5d92b964",
       "value": "Epoch 1: 100%"
      }
     },
     "cebdded8f0bb4744a4ce71e30fe8bfe5": {
      "model_module": "@jupyter-widgets/base",
      "model_module_version": "1.2.0",
      "model_name": "LayoutModel",
      "state": {}
     },
     "cf244049eede43e6b0db206549c5b3cc": {
      "model_module": "@jupyter-widgets/controls",
      "model_module_version": "1.5.0",
      "model_name": "FloatProgressModel",
      "state": {
       "bar_style": "success",
       "layout": "IPY_MODEL_543292c5d45749dbba48e7189145a94b",
       "max": 3,
       "style": "IPY_MODEL_578ba057eedf4b7c8877d302ecc02db5",
       "value": 3
      }
     },
     "cf8c5cfaacfb4f6a9f2e8d77beabc1b2": {
      "model_module": "@jupyter-widgets/base",
      "model_module_version": "1.2.0",
      "model_name": "LayoutModel",
      "state": {}
     },
     "d0a9ce0b30364bddb7eb436f88908ed1": {
      "model_module": "@jupyter-widgets/controls",
      "model_module_version": "1.5.0",
      "model_name": "ProgressStyleModel",
      "state": {
       "description_width": ""
      }
     },
     "d0d1e9fe92164f0588f01be5207c80c5": {
      "model_module": "@jupyter-widgets/base",
      "model_module_version": "1.2.0",
      "model_name": "LayoutModel",
      "state": {}
     },
     "d189dcfaf439468f801d04080dc3d61b": {
      "model_module": "@jupyter-widgets/controls",
      "model_module_version": "1.5.0",
      "model_name": "HTMLModel",
      "state": {
       "layout": "IPY_MODEL_835f104eccbf45a18fc7c09279f2b423",
       "style": "IPY_MODEL_cc7da9ecba17475ea801144c25148216",
       "value": " 50/50 [01:05&lt;00:00,  1.12s/ batchs, model_name=vgg, num_layers=11, train_acc=0.477, train_f1=0.471, train_loss=0.936, train_precision=0.474, train_recall=0.467, val_acc=0.545, val_f1=0.575, val_loss=0.690, val_precision=0.547, val_recall=0.606]"
      }
     },
     "d214fb83d7de481bb6a54b008f2525aa": {
      "model_module": "@jupyter-widgets/controls",
      "model_module_version": "1.5.0",
      "model_name": "HTMLModel",
      "state": {
       "layout": "IPY_MODEL_6de13ba41546475da2de1a88c2e61f4e",
       "style": "IPY_MODEL_9628849a4a6a4e01b1b5815390b31635",
       "value": " 50/50 [01:22&lt;00:00,  1.34s/ batchs, model_name=vgg, num_layers=13, train_acc=0.523, train_f1=0.483, train_loss=0.903, train_precision=0.525, train_recall=0.448, val_acc=0.507, val_f1=0.673, val_loss=0.713, val_precision=0.507, val_recall=1.000]"
      }
     },
     "d2f6f6708ea742a5b6139d0136859351": {
      "model_module": "@jupyter-widgets/base",
      "model_module_version": "1.2.0",
      "model_name": "LayoutModel",
      "state": {}
     },
     "d417c44cbcf24efb9fbfe44685233112": {
      "model_module": "@jupyter-widgets/base",
      "model_module_version": "1.2.0",
      "model_name": "LayoutModel",
      "state": {}
     },
     "d938035adeb24cf8ad076c5214a3439b": {
      "model_module": "@jupyter-widgets/base",
      "model_module_version": "1.2.0",
      "model_name": "LayoutModel",
      "state": {}
     },
     "dab3e2e2401d4b6a968334218237b1bd": {
      "model_module": "@jupyter-widgets/base",
      "model_module_version": "1.2.0",
      "model_name": "LayoutModel",
      "state": {}
     },
     "dbbda5acd1924f86b1ade6264966b835": {
      "model_module": "@jupyter-widgets/controls",
      "model_module_version": "1.5.0",
      "model_name": "FloatProgressModel",
      "state": {
       "bar_style": "success",
       "layout": "IPY_MODEL_76fa3262cd6644808bfebca219643ca9",
       "max": 25,
       "style": "IPY_MODEL_a2840454d2444cd1b09c9d7db1961ea6",
       "value": 25
      }
     },
     "dcec5eb54f5d4c07b9e87deedb3e487c": {
      "model_module": "@jupyter-widgets/controls",
      "model_module_version": "1.5.0",
      "model_name": "HTMLModel",
      "state": {
       "layout": "IPY_MODEL_66f0dfc254ab40a28863b80d45d713e9",
       "style": "IPY_MODEL_837bbd759d164afda6579eb462699168",
       "value": "100%"
      }
     },
     "ddbd952432b34bbb9e8435a79f97c1c1": {
      "model_module": "@jupyter-widgets/controls",
      "model_module_version": "1.5.0",
      "model_name": "HTMLModel",
      "state": {
       "layout": "IPY_MODEL_f8305fefa6864c9abad4f2a2ba90e319",
       "style": "IPY_MODEL_57ab7b67b2594f95a536f0cbf1970f91",
       "value": " 50/50 [00:21&lt;00:00,  1.09s/ batchs, model_name=vgg, num_layers=11, train_acc=0.502, train_f1=0.409, train_loss=0.697, train_precision=0.501, train_recall=0.346, val_acc=0.507, val_f1=0.673, val_loss=0.695, val_precision=0.507, val_recall=1.000]"
      }
     },
     "dfeba3759f7a4f35b55734e6c302adff": {
      "model_module": "@jupyter-widgets/controls",
      "model_module_version": "1.5.0",
      "model_name": "DescriptionStyleModel",
      "state": {
       "description_width": ""
      }
     },
     "e1e8f985b0bd47f0a19cb7ddd6d9034c": {
      "model_module": "@jupyter-widgets/base",
      "model_module_version": "1.2.0",
      "model_name": "LayoutModel",
      "state": {}
     },
     "e46bc1aa79684ed9b1ac4d4f0a9e5a1d": {
      "model_module": "@jupyter-widgets/controls",
      "model_module_version": "1.5.0",
      "model_name": "HBoxModel",
      "state": {
       "children": [
        "IPY_MODEL_927d9ff2b0f74115831d771d8a6f86cc",
        "IPY_MODEL_2e1253941a4b4121b26e3b559114175d",
        "IPY_MODEL_c7988c2c8b1b464184d0d04c0a9eeb5e"
       ],
       "layout": "IPY_MODEL_b0da95513c204c4284b66362f5d07346"
      }
     },
     "e4d9f541c2a5406d8fef1ee85799a475": {
      "model_module": "@jupyter-widgets/controls",
      "model_module_version": "1.5.0",
      "model_name": "HTMLModel",
      "state": {
       "layout": "IPY_MODEL_148b90f42e36490f81d6adb2dfe4acbd",
       "style": "IPY_MODEL_45cab8ea7b824d4698d427a677a1f179",
       "value": "Epoch 2: 100%"
      }
     },
     "e53418b8e07e4fccb92723624ee774e6": {
      "model_module": "@jupyter-widgets/base",
      "model_module_version": "1.2.0",
      "model_name": "LayoutModel",
      "state": {}
     },
     "e57bd12c084747fdb88cb70a329e1b3d": {
      "model_module": "@jupyter-widgets/base",
      "model_module_version": "1.2.0",
      "model_name": "LayoutModel",
      "state": {}
     },
     "e62b8915bb374cd3b158043cb64bf2cf": {
      "model_module": "@jupyter-widgets/controls",
      "model_module_version": "1.5.0",
      "model_name": "HBoxModel",
      "state": {
       "children": [
        "IPY_MODEL_e4d9f541c2a5406d8fef1ee85799a475",
        "IPY_MODEL_e62ce0af17584b3d82510d9bd845bdbc",
        "IPY_MODEL_fefe6f25c98646f38bb5cc3e0ab58a9f"
       ],
       "layout": "IPY_MODEL_cebdded8f0bb4744a4ce71e30fe8bfe5"
      }
     },
     "e62ce0af17584b3d82510d9bd845bdbc": {
      "model_module": "@jupyter-widgets/controls",
      "model_module_version": "1.5.0",
      "model_name": "FloatProgressModel",
      "state": {
       "bar_style": "success",
       "layout": "IPY_MODEL_d0d1e9fe92164f0588f01be5207c80c5",
       "max": 25,
       "style": "IPY_MODEL_a0803e11edf9457db85d3bee289f4ad6",
       "value": 25
      }
     },
     "e75ef28ab30b425ca4646d68a473dbee": {
      "model_module": "@jupyter-widgets/controls",
      "model_module_version": "1.5.0",
      "model_name": "DescriptionStyleModel",
      "state": {
       "description_width": ""
      }
     },
     "e8a851959fea40b5bc996995825a0c37": {
      "model_module": "@jupyter-widgets/base",
      "model_module_version": "1.2.0",
      "model_name": "LayoutModel",
      "state": {}
     },
     "e8e175abc13b41d18f4a1ecf61b7a4a6": {
      "model_module": "@jupyter-widgets/controls",
      "model_module_version": "1.5.0",
      "model_name": "ProgressStyleModel",
      "state": {
       "description_width": ""
      }
     },
     "e8f7fe185c4040bd842604840b82ba10": {
      "model_module": "@jupyter-widgets/base",
      "model_module_version": "1.2.0",
      "model_name": "LayoutModel",
      "state": {}
     },
     "e9a5719764814baaa2b0dcc7ffd27589": {
      "model_module": "@jupyter-widgets/controls",
      "model_module_version": "1.5.0",
      "model_name": "DescriptionStyleModel",
      "state": {
       "description_width": ""
      }
     },
     "eae56f4d35054766b9b8ee5fcbe09f2f": {
      "model_module": "@jupyter-widgets/controls",
      "model_module_version": "1.5.0",
      "model_name": "ProgressStyleModel",
      "state": {
       "description_width": ""
      }
     },
     "ed6368f3cb844c6586db54277e9c33c7": {
      "model_module": "@jupyter-widgets/controls",
      "model_module_version": "1.5.0",
      "model_name": "HBoxModel",
      "state": {
       "children": [
        "IPY_MODEL_ce895a3ee04c47d5818486049219d539",
        "IPY_MODEL_69afa611393e404f8659a0bbb42880e4",
        "IPY_MODEL_d189dcfaf439468f801d04080dc3d61b"
       ],
       "layout": "IPY_MODEL_4f9776c6bf754306907dadd144bd0190"
      }
     },
     "edbf940625254bb0acdc7b62149f1369": {
      "model_module": "@jupyter-widgets/base",
      "model_module_version": "1.2.0",
      "model_name": "LayoutModel",
      "state": {}
     },
     "ee4df3487d5f41cebbee59f7ef1b5f3c": {
      "model_module": "@jupyter-widgets/controls",
      "model_module_version": "1.5.0",
      "model_name": "HBoxModel",
      "state": {
       "children": [
        "IPY_MODEL_7ca488f857d4490e9eccf9e0f33d3732",
        "IPY_MODEL_dbbda5acd1924f86b1ade6264966b835",
        "IPY_MODEL_28c546aa09724f7b9c471e1a6fe01715"
       ],
       "layout": "IPY_MODEL_6bdd2879facc402eaa588b4b66e0c17f"
      }
     },
     "ef70978613934448b3cd3dc4122aabd4": {
      "model_module": "@jupyter-widgets/controls",
      "model_module_version": "1.5.0",
      "model_name": "FloatProgressModel",
      "state": {
       "bar_style": "success",
       "layout": "IPY_MODEL_9937ef81b96f4d72bd5176070a1f87d3",
       "max": 3,
       "style": "IPY_MODEL_627bc2de407f400c8b67527ffe9b4e6e",
       "value": 3
      }
     },
     "f0a56e8a189a44539d7884f8598a694b": {
      "model_module": "@jupyter-widgets/base",
      "model_module_version": "1.2.0",
      "model_name": "LayoutModel",
      "state": {}
     },
     "f0d5bf4f6de24a33a9ddd9a1674e66a5": {
      "model_module": "@jupyter-widgets/controls",
      "model_module_version": "1.5.0",
      "model_name": "HTMLModel",
      "state": {
       "layout": "IPY_MODEL_1dc7ee378b204d9d8cb325a91b93e6a7",
       "style": "IPY_MODEL_a5588537a2fe4dad99ac4cc91f10655b",
       "value": " 25/25 [00:11&lt;00:00,  1.10 batchs/s, model_name=resnet, num_layers=18, train_acc=0.974, train_f1=0.974, train_loss=0.065, train_precision=0.970, train_recall=0.979, val_acc=0.945, val_f1=0.946, val_loss=0.141, val_precision=0.950, val_recall=0.941]"
      }
     },
     "f217150f5c6b4fd79ed7f66366078ab1": {
      "model_module": "@jupyter-widgets/controls",
      "model_module_version": "1.5.0",
      "model_name": "FloatProgressModel",
      "state": {
       "bar_style": "success",
       "layout": "IPY_MODEL_bb5e93179c70446eb3c2813d101d128b",
       "max": 50,
       "style": "IPY_MODEL_d0a9ce0b30364bddb7eb436f88908ed1",
       "value": 50
      }
     },
     "f44f32eb0202420098a20f243a944e5e": {
      "model_module": "@jupyter-widgets/controls",
      "model_module_version": "1.5.0",
      "model_name": "DescriptionStyleModel",
      "state": {
       "description_width": ""
      }
     },
     "f58f34ae44a84c5795a7f8e622af6c1e": {
      "model_module": "@jupyter-widgets/controls",
      "model_module_version": "1.5.0",
      "model_name": "FloatProgressModel",
      "state": {
       "bar_style": "success",
       "layout": "IPY_MODEL_a1cb7de34bb8489db4798ee580e2bd6f",
       "max": 25,
       "style": "IPY_MODEL_1fa4de87a6e3406baf62310f31a9598c",
       "value": 25
      }
     },
     "f5bcb1bd51cd44829aede942a8a628a3": {
      "model_module": "@jupyter-widgets/controls",
      "model_module_version": "1.5.0",
      "model_name": "HTMLModel",
      "state": {
       "layout": "IPY_MODEL_e1e8f985b0bd47f0a19cb7ddd6d9034c",
       "style": "IPY_MODEL_06008a206c0a4a5b859879830b3fd525",
       "value": " 25/25 [01:07&lt;00:00,  1.49s/ batchs, model_name=resnet, num_layers=50, train_acc=0.868, train_f1=0.871, train_loss=0.349, train_precision=0.851, train_recall=0.891, val_acc=0.507, val_f1=0.673, val_loss=62.255, val_precision=0.507, val_recall=1.000]"
      }
     },
     "f64dde6238924501bfcf972c4ebbb68d": {
      "model_module": "@jupyter-widgets/base",
      "model_module_version": "1.2.0",
      "model_name": "LayoutModel",
      "state": {}
     },
     "f691ed906e1a4a0fb7478a6d08fc07c0": {
      "model_module": "@jupyter-widgets/base",
      "model_module_version": "1.2.0",
      "model_name": "LayoutModel",
      "state": {}
     },
     "f6a6ffaaa56b4f82ae648a20214a42ee": {
      "model_module": "@jupyter-widgets/controls",
      "model_module_version": "1.5.0",
      "model_name": "HTMLModel",
      "state": {
       "layout": "IPY_MODEL_7409255f7f3b4b90a199cee49a4cf64c",
       "style": "IPY_MODEL_f44f32eb0202420098a20f243a944e5e",
       "value": " 25/25 [00:44&lt;00:00,  1.08s/ batchs, model_name=resnet, num_layers=34, train_acc=0.852, train_f1=0.852, train_loss=0.354, train_precision=0.847, train_recall=0.857, val_acc=0.702, val_f1=0.605, val_loss=0.716, val_precision=0.929, val_recall=0.448]"
      }
     },
     "f8305fefa6864c9abad4f2a2ba90e319": {
      "model_module": "@jupyter-widgets/base",
      "model_module_version": "1.2.0",
      "model_name": "LayoutModel",
      "state": {}
     },
     "f8d80421ca6a485ca99f8ab1b159e0d3": {
      "model_module": "@jupyter-widgets/base",
      "model_module_version": "1.2.0",
      "model_name": "LayoutModel",
      "state": {}
     },
     "fefe6f25c98646f38bb5cc3e0ab58a9f": {
      "model_module": "@jupyter-widgets/controls",
      "model_module_version": "1.5.0",
      "model_name": "HTMLModel",
      "state": {
       "layout": "IPY_MODEL_61cd9fd51e744c4f8ba1cbfe5c300f6d",
       "style": "IPY_MODEL_b495f0015d7940dcb7ac587f37ad3cab",
       "value": " 25/25 [00:44&lt;00:00,  1.51s/ batchs, model_name=resnet, num_layers=50, train_acc=0.921, train_f1=0.921, train_loss=0.202, train_precision=0.924, train_recall=0.917, val_acc=0.840, val_f1=0.863, val_loss=0.540, val_precision=0.764, val_recall=0.990]"
      }
     }
    },
    "version_major": 2,
    "version_minor": 0
   }
  }
 },
 "nbformat": 4,
 "nbformat_minor": 4
}
