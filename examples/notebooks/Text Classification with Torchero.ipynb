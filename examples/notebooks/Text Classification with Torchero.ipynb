{
    "cells": [
        {
            "cell_type": "markdown",
            "metadata": {},
            "source": [
                "## 1. Imports"
            ]
        },
        {
            "cell_type": "code",
            "execution_count": 1,
            "metadata": {},
            "outputs": [],
            "source": [
                "from pathlib import Path\n",
                "\n",
                "import torch\n",
                "from torch.optim import Adam\n",
                "\n",
                "import spacy # For the tokenizer\n",
                "\n",
                "from torchero.models.text import LinearModel, LSTMForTextClassification, TransformerForTextClassification, BinaryTextClassificationModel\n",
                "from torchero.utils.text import TextClassificationDataset, transforms, vectors\n",
                "from torchero.callbacks import ProgbarLogger, ModelCheckpoint, ExponentialLR\n",
                "from torchero.hparams import OptimP\n",
                "from torchero.utils.data import SubsetDataset\n",
                "\n",
                "import pandas as pd\n",
                "\n",
                "import matplotlib.pyplot as plt"
            ]
        },
        {
            "cell_type": "code",
            "execution_count": 2,
            "metadata": {},
            "outputs": [],
            "source": [
                "path = Path(r'/mnt/datasets/datasets/nlp/jigsaw-toxic-comment-classification-challenge')\n",
                "label_cols = [\"toxic\",\"severe_toxic\",\"obscene\",\"threat\",\"insult\",\"identity_hate\"]"
            ]
        },
        {
            "cell_type": "markdown",
            "metadata": {},
            "source": [
                "We first define a basic text preprocessing pipeline\n",
                "\n",
                "1. To lower case (default pre_process argument, can be changed)\n",
                "2. Tokenization with spacy\n",
                "3. Left truncation if the text exceeds 512 tokens (510 + 2 ``<bos>`` and ``<bos>`` special tokens). This is an important performance step since the training could reach and CUDA out of memory when having really long sequences with short ones padded to the longest one.\n",
                "3. A vocabulary with a maximum of 10k unique tokens. Also for the tokenization begininng amd ending of sentence special tokens.\n",
                "4. After the vocabulary has converted each token to an id we create a LongTensor"
            ]
        },
        {
            "cell_type": "code",
            "execution_count": 3,
            "metadata": {},
            "outputs": [],
            "source": [
                "transform = transforms.basic_text_transform(tokenizer='spacy',\n",
                "                                            vocab_max_size=10000,\n",
                "                                            bos='<bos>',\n",
                "                                            eos='<eos>',\n",
                "                                            max_len=510,\n",
                "                                            truncate_mode='left')"
            ]
        },
        {
            "cell_type": "markdown",
            "metadata": {},
            "source": [
                "## Load the dataset"
            ]
        },
        {
            "cell_type": "markdown",
            "metadata": {},
            "source": [
                "We will load the dataset from the [Toxic Comment Classification Challenge](https://www.kaggle.com/c/jigsaw-toxic-comment-classification-challenge). The original train.csv file has been splitted into train and test in a stratified fashion. The csv consists of an input text (```comment_text```column) and a set of labels (multilabel) to predict:\n",
                "\n",
                "* toxic\n",
                "* severe_toxic\n",
                "* obscene\n",
                "* threat\n",
                "* insult \n",
                "* identity_hate"
            ]
        },
        {
            "cell_type": "code",
            "execution_count": 4,
            "metadata": {},
            "outputs": [
                {
                    "name": "stdout",
                    "output_type": "stream",
                    "text": [
                        "id,comment_text,toxic,severe_toxic,obscene,threat,insult,identity_hate\n"
                    ]
                }
            ],
            "source": [
                "!head -n 1 /mnt/datasets/datasets/nlp/jigsaw-toxic-comment-classification-challenge/train_tiny.csv"
            ]
        },
        {
            "cell_type": "code",
            "execution_count": 5,
            "metadata": {},
            "outputs": [],
            "source": [
                "train_ds = TextClassificationDataset.from_csv(path/'train_subset.csv',\n",
                "                                              columns='comment_text',\n",
                "                                              target_columns=label_cols,\n",
                "                                              transform=transform)\n",
                "test_ds = TextClassificationDataset.from_csv(path/'test_subset.csv',\n",
                "                                             columns='comment_text',\n",
                "                                             target_columns=label_cols,\n",
                "                                             transform=transform)"
            ]
        },
        {
            "cell_type": "markdown",
            "metadata": {},
            "source": [
                "The challenge with this dataset is that although it has a lot of samples where to learn from is highly unbalanced. Only 10% percent has a positive label (which we can calculate inspecting at target_data dataset's property)"
            ]
        },
        {
            "cell_type": "code",
            "execution_count": 6,
            "metadata": {},
            "outputs": [
                {
                    "name": "stdout",
                    "output_type": "stream",
                    "text": [
                        "Train size: 119678. Test size: 39893\n"
                    ]
                },
                {
                    "data": {
                        "text/plain": [
                            "False    0.898319\n",
                            "True     0.101681\n",
                            "dtype: float64"
                        ]
                    },
                    "execution_count": 6,
                    "metadata": {},
                    "output_type": "execute_result"
                }
            ],
            "source": [
                "print(\"Train size: {}. Test size: {}\".format(len(train_ds), len(test_ds)))\n",
                "train_ds.target_data.any(axis=1).value_counts(normalize=True)"
            ]
        },
        {
            "cell_type": "markdown",
            "metadata": {},
            "source": [
                "To create the vocabulary before training we need to call first to ``transform.fit`` property on the train dataset texts."
            ]
        },
        {
            "cell_type": "code",
            "execution_count": 7,
            "metadata": {},
            "outputs": [],
            "source": [
                "transform.fit(train_ds.texts())"
            ]
        },
        {
            "cell_type": "markdown",
            "metadata": {},
            "source": [
                "To boost up the training we can use a set of pretrained GloVe word embeddings for twitter comments and replace each model's embedding to use this vectors."
            ]
        },
        {
            "cell_type": "code",
            "execution_count": 8,
            "metadata": {},
            "outputs": [
                {
                    "name": "stderr",
                    "output_type": "stream",
                    "text": [
                        "glove.twitter.27B.zip: 1.52GB [05:30, 4.60MB/s]                               \n"
                    ]
                }
            ],
            "source": [
                "twitter_vectors = vectors.GLoVeVectors.from_url('twitter', dim=200)"
            ]
        },
        {
            "cell_type": "markdown",
            "metadata": {},
            "source": [
                "We will start by training two models for this task.\n",
                "\n",
                "## Linear Model\n",
                "\n",
                "The lienar model consists simply of an EmbeddingBag layer followed by a Classification Head. The only parameters needed are:\n",
                "\n",
                "1. **vocab_size**=len(transform.vocab): the size of the vocabulary which we can get from the transform.vocab component.\n",
                "2. **embedding_dim**=200: Since we are using pretrained word vectors we need to match the size of them with the size of the vectors of embedding layer\n",
                "3. **output_size**=len(label_cols): Number of outputs in the classification layer."
            ]
        },
        {
            "cell_type": "code",
            "execution_count": 9,
            "metadata": {},
            "outputs": [
                {
                    "data": {
                        "text/plain": [
                            "10000"
                        ]
                    },
                    "execution_count": 9,
                    "metadata": {},
                    "output_type": "execute_result"
                }
            ],
            "source": [
                "len(transform.vocab)"
            ]
        },
        {
            "cell_type": "code",
            "execution_count": 10,
            "metadata": {},
            "outputs": [],
            "source": [
                "linear_model = BinaryTextClassificationModel(LinearModel(vocab_size=len(transform.vocab),\n",
                "                                                         embedding_dim=200,\n",
                "                                                         output_size=len(label_cols)),\n",
                "                                             transform=transform,\n",
                "                                             labels=label_cols)"
            ]
        },
        {
            "cell_type": "code",
            "execution_count": 11,
            "metadata": {},
            "outputs": [
                {
                    "data": {
                        "text/plain": [
                            "LinearModel(\n",
                            "  (embeddings): EmbeddingBag(10000, 200, mode=mean)\n",
                            "  (linear): Linear(in_features=200, out_features=6, bias=True)\n",
                            ")"
                        ]
                    },
                    "execution_count": 11,
                    "metadata": {},
                    "output_type": "execute_result"
                }
            ],
            "source": [
                "linear_model.model"
            ]
        },
        {
            "cell_type": "markdown",
            "metadata": {},
            "source": [
                "The Linear model will be compiled with\n",
                "\n",
                "* **Optimizer**: Adam as our optimizer with a learning rate 0.01 (higher than usual because we have to train the classification layer becuase the embedding is frozen)\n",
                "* **HyperParameters**: Lr as our hyperparameter to track during the training\n",
                "* **Metrics**: Default metrics for binary multilabel classification tasks (recall, precision, f1, loss and accuracy) \n",
                "* **Callbacks**:\n",
                "    * ProgbarLogger to display a progress bar\n",
                "    * ModelCheckpoint to checkpoint the model if there is an improvement in the val_f1 metric\n",
                "    * ExponentialLR to decay the learning rate by 80% after each epoch"
            ]
        },
        {
            "cell_type": "code",
            "execution_count": 12,
            "metadata": {},
            "outputs": [],
            "source": [
                "linear_model.compile(optimizer=Adam(linear_model.model.parameters(), lr=0.01),\n",
                "                     hparams={'lr': OptimP('lr')},\n",
                "                     callbacks=[ProgbarLogger(notebook=True),\n",
                "                                ModelCheckpoint('/tmp/linear_checkpoint', monitor='val_f1'),\n",
                "                                ExponentialLR(gamma=0.8, start=1)])\n",
                "if torch.cuda.is_available():\n",
                "    linear_model.to('cuda')"
            ]
        },
        {
            "cell_type": "code",
            "execution_count": 13,
            "metadata": {},
            "outputs": [
                {
                    "data": {
                        "application/vnd.jupyter.widget-view+json": {
                            "model_id": "26001180564b4919906d52faff631856",
                            "version_major": 2,
                            "version_minor": 0
                        },
                        "text/plain": [
                            "  0%|          | 0/15 [00:00<?, ?epoch/s]"
                        ]
                    },
                    "metadata": {},
                    "output_type": "display_data"
                },
                {
                    "data": {
                        "application/vnd.jupyter.widget-view+json": {
                            "model_id": "6ad2f1568cba40d887d6607b2409d6f2",
                            "version_major": 2,
                            "version_minor": 0
                        },
                        "text/plain": [
                            "  0%|          | 0/117 [00:00<?, ? batchs/s]"
                        ]
                    },
                    "metadata": {},
                    "output_type": "display_data"
                },
                {
                    "name": "stdout",
                    "output_type": "stream",
                    "text": [
                        "Model saved to '/tmp/linear_checkpoint'\n"
                    ]
                },
                {
                    "data": {
                        "application/vnd.jupyter.widget-view+json": {
                            "model_id": "1b95fd29f479466c8660062e99590367",
                            "version_major": 2,
                            "version_minor": 0
                        },
                        "text/plain": [
                            "  0%|          | 0/117 [00:00<?, ? batchs/s]"
                        ]
                    },
                    "metadata": {},
                    "output_type": "display_data"
                },
                {
                    "name": "stdout",
                    "output_type": "stream",
                    "text": [
                        "Model saved to '/tmp/linear_checkpoint': val_f1 improved from 0.560 to 0.639\n"
                    ]
                },
                {
                    "data": {
                        "application/vnd.jupyter.widget-view+json": {
                            "model_id": "a4257019eb7143ba98954fa47af2f6b5",
                            "version_major": 2,
                            "version_minor": 0
                        },
                        "text/plain": [
                            "  0%|          | 0/117 [00:00<?, ? batchs/s]"
                        ]
                    },
                    "metadata": {},
                    "output_type": "display_data"
                },
                {
                    "name": "stdout",
                    "output_type": "stream",
                    "text": [
                        "Model saved to '/tmp/linear_checkpoint': val_f1 improved from 0.639 to 0.657\n"
                    ]
                },
                {
                    "data": {
                        "application/vnd.jupyter.widget-view+json": {
                            "model_id": "b9e62bc94e5e4a93a439646d0ece217e",
                            "version_major": 2,
                            "version_minor": 0
                        },
                        "text/plain": [
                            "  0%|          | 0/117 [00:00<?, ? batchs/s]"
                        ]
                    },
                    "metadata": {},
                    "output_type": "display_data"
                },
                {
                    "name": "stdout",
                    "output_type": "stream",
                    "text": [
                        "Model saved to '/tmp/linear_checkpoint': val_f1 improved from 0.657 to 0.670\n"
                    ]
                },
                {
                    "data": {
                        "application/vnd.jupyter.widget-view+json": {
                            "model_id": "c261a93988a941e68cc621e6044c45ab",
                            "version_major": 2,
                            "version_minor": 0
                        },
                        "text/plain": [
                            "  0%|          | 0/117 [00:00<?, ? batchs/s]"
                        ]
                    },
                    "metadata": {},
                    "output_type": "display_data"
                },
                {
                    "name": "stdout",
                    "output_type": "stream",
                    "text": [
                        "Model saved to '/tmp/linear_checkpoint': val_f1 improved from 0.670 to 0.674\n"
                    ]
                },
                {
                    "data": {
                        "application/vnd.jupyter.widget-view+json": {
                            "model_id": "e9b15eef743c4f4095377461516b4a13",
                            "version_major": 2,
                            "version_minor": 0
                        },
                        "text/plain": [
                            "  0%|          | 0/117 [00:00<?, ? batchs/s]"
                        ]
                    },
                    "metadata": {},
                    "output_type": "display_data"
                },
                {
                    "name": "stdout",
                    "output_type": "stream",
                    "text": [
                        "Model saved to '/tmp/linear_checkpoint': val_f1 improved from 0.674 to 0.678\n"
                    ]
                },
                {
                    "data": {
                        "application/vnd.jupyter.widget-view+json": {
                            "model_id": "55eaef1c50ca478398f5915baae3d59b",
                            "version_major": 2,
                            "version_minor": 0
                        },
                        "text/plain": [
                            "  0%|          | 0/117 [00:00<?, ? batchs/s]"
                        ]
                    },
                    "metadata": {},
                    "output_type": "display_data"
                },
                {
                    "data": {
                        "application/vnd.jupyter.widget-view+json": {
                            "model_id": "436461ba2eec441db9ce54b38dbccbcb",
                            "version_major": 2,
                            "version_minor": 0
                        },
                        "text/plain": [
                            "  0%|          | 0/117 [00:00<?, ? batchs/s]"
                        ]
                    },
                    "metadata": {},
                    "output_type": "display_data"
                },
                {
                    "name": "stdout",
                    "output_type": "stream",
                    "text": [
                        "Model saved to '/tmp/linear_checkpoint': val_f1 improved from 0.678 to 0.683\n"
                    ]
                },
                {
                    "data": {
                        "application/vnd.jupyter.widget-view+json": {
                            "model_id": "8b041449251f4410ab9f28fcf2edd587",
                            "version_major": 2,
                            "version_minor": 0
                        },
                        "text/plain": [
                            "  0%|          | 0/117 [00:00<?, ? batchs/s]"
                        ]
                    },
                    "metadata": {},
                    "output_type": "display_data"
                },
                {
                    "name": "stdout",
                    "output_type": "stream",
                    "text": [
                        "Model saved to '/tmp/linear_checkpoint': val_f1 improved from 0.683 to 0.686\n"
                    ]
                },
                {
                    "data": {
                        "application/vnd.jupyter.widget-view+json": {
                            "model_id": "151973d1fabe47f6888cf4f7a643c2ac",
                            "version_major": 2,
                            "version_minor": 0
                        },
                        "text/plain": [
                            "  0%|          | 0/117 [00:00<?, ? batchs/s]"
                        ]
                    },
                    "metadata": {},
                    "output_type": "display_data"
                },
                {
                    "data": {
                        "application/vnd.jupyter.widget-view+json": {
                            "model_id": "c5d80b2d218744718ed071972677bba2",
                            "version_major": 2,
                            "version_minor": 0
                        },
                        "text/plain": [
                            "  0%|          | 0/117 [00:00<?, ? batchs/s]"
                        ]
                    },
                    "metadata": {},
                    "output_type": "display_data"
                },
                {
                    "data": {
                        "application/vnd.jupyter.widget-view+json": {
                            "model_id": "b7a98819d9e24f5a8e70ab00cdf45891",
                            "version_major": 2,
                            "version_minor": 0
                        },
                        "text/plain": [
                            "  0%|          | 0/117 [00:00<?, ? batchs/s]"
                        ]
                    },
                    "metadata": {},
                    "output_type": "display_data"
                },
                {
                    "name": "stdout",
                    "output_type": "stream",
                    "text": [
                        "Model saved to '/tmp/linear_checkpoint': val_f1 improved from 0.686 to 0.686\n"
                    ]
                },
                {
                    "data": {
                        "application/vnd.jupyter.widget-view+json": {
                            "model_id": "0997d56e8aae4183b82496c564d85e02",
                            "version_major": 2,
                            "version_minor": 0
                        },
                        "text/plain": [
                            "  0%|          | 0/117 [00:00<?, ? batchs/s]"
                        ]
                    },
                    "metadata": {},
                    "output_type": "display_data"
                },
                {
                    "data": {
                        "application/vnd.jupyter.widget-view+json": {
                            "model_id": "1f5d03e9e88d4825a5f01c882c41307c",
                            "version_major": 2,
                            "version_minor": 0
                        },
                        "text/plain": [
                            "  0%|          | 0/117 [00:00<?, ? batchs/s]"
                        ]
                    },
                    "metadata": {},
                    "output_type": "display_data"
                },
                {
                    "name": "stdout",
                    "output_type": "stream",
                    "text": [
                        "Model saved to '/tmp/linear_checkpoint': val_f1 improved from 0.686 to 0.687\n"
                    ]
                },
                {
                    "data": {
                        "application/vnd.jupyter.widget-view+json": {
                            "model_id": "24bff9db41084b34bb6c4ced1532bbbe",
                            "version_major": 2,
                            "version_minor": 0
                        },
                        "text/plain": [
                            "  0%|          | 0/117 [00:00<?, ? batchs/s]"
                        ]
                    },
                    "metadata": {},
                    "output_type": "display_data"
                },
                {
                    "data": {
                        "image/png": "[encoded data removed]",
                        "text/plain": [
                            "<Figure size 1080x1080 with 6 Axes>"
                        ]
                    },
                    "metadata": {
                        "needs_background": "light"
                    },
                    "output_type": "display_data"
                }
            ],
            "source": [
                "history_linear = linear_model.fit(train_ds, test_ds, epochs=15, batch_size=1024)\n",
                "history_linear.plot()\n",
                "plt.show()"
            ]
        },
        {
            "cell_type": "markdown",
            "metadata": {},
            "source": [
                "Then we free the GPU memory used by the Linear model to allocate it for the LSTM model"
            ]
        },
        {
            "cell_type": "code",
            "execution_count": 14,
            "metadata": {},
            "outputs": [
                {
                    "name": "stderr",
                    "output_type": "stream",
                    "text": [
                        "/home/chino/Proyectos/Machine Learning/torchero/examples/notebooks/torchero/callbacks/checkpoint.py:73: YAMLLoadWarning: calling yaml.load() without Loader=... is deprecated, as the default Loader is unsafe. Please read https://msg.pyyaml.org/load for full details.\n",
                        "  data = yaml.load(f)\n"
                    ]
                }
            ],
            "source": [
                "linear_model.load_checkpoint()\n",
                "linear_clf_report = linear_model.classification_report(test_ds)\n",
                "linear_model.to('cpu')\n",
                "torch.cuda.empty_cache()"
            ]
        },
        {
            "cell_type": "markdown",
            "metadata": {},
            "source": [
                "## LSTM"
            ]
        },
        {
            "cell_type": "markdown",
            "metadata": {},
            "source": [
                "LSTMForTextClassification is an Embedding layer followed by a LSTM and then by a Linear Classification layer. The arguments variation for the LSTMForTextClassification module are:\n",
                "\n",
                "* **vocab_size**: Number of embeddings of the embedding layer\n",
                "* **output_size**=6: Number of outputs of the classification labels (number of labels to predict)\n",
                "* **hidden_size**=300. LSTM hidden and context layer size.\n",
                "* **embedding_dim**=200. Same as in LinearModel needs to match the pretrained vectors size.\n",
                "* **num_layers**=2. Number of LSTM layers to stack.\n",
                "* **mode**='max'. Pooling method. 'max' uses a global max pooling over the whole sequence last layer activations. 'last' pools the last unit of the last layer.\n",
                "\n",
                "The compilation will be similar as for the Linear model with the only difference of the learning rate that is initially lower."
            ]
        },
        {
            "cell_type": "code",
            "execution_count": 15,
            "metadata": {},
            "outputs": [],
            "source": [
                "lstm_model = BinaryTextClassificationModel(LSTMForTextClassification(vocab_size=len(transform.vocab),\n",
                "                                                                     output_size=len(label_cols),\n",
                "                                                                     hidden_size=300,\n",
                "                                                                     embedding_dim=200,\n",
                "                                                                     num_layers=2,\n",
                "                                                                     bidirectional=True,\n",
                "                                                                     mode='max'),\n",
                "                                           transform=transform,\n",
                "                                           labels=label_cols)\n",
                "twitter_vectors.replace_embeddings(transform.vocab, lstm_model.model.embeddings, freeze=True)\n",
                "lstm_model.compile(optimizer=Adam(lstm_model.model.parameters(), lr=0.005),\n",
                "                   hparams={'lr': OptimP('lr')},\n",
                "                   callbacks=[ProgbarLogger(notebook=True),\n",
                "                              ModelCheckpoint('/tmp/lstm_checkpoint', monitor='val_f1'),\n",
                "                              ExponentialLR(gamma=0.8, start=1)])\n",
                "if torch.cuda.is_available():\n",
                "    lstm_model.to('cuda')"
            ]
        },
        {
            "cell_type": "code",
            "execution_count": 16,
            "metadata": {},
            "outputs": [
                {
                    "data": {
                        "application/vnd.jupyter.widget-view+json": {
                            "model_id": "e32112b4b9b14acaa1d17a5402ccdb54",
                            "version_major": 2,
                            "version_minor": 0
                        },
                        "text/plain": [
                            "  0%|          | 0/10 [00:00<?, ?epoch/s]"
                        ]
                    },
                    "metadata": {},
                    "output_type": "display_data"
                },
                {
                    "data": {
                        "application/vnd.jupyter.widget-view+json": {
                            "model_id": "5dd3f9cc098e40b1ba21bbc1cd6b6223",
                            "version_major": 2,
                            "version_minor": 0
                        },
                        "text/plain": [
                            "  0%|          | 0/599 [00:00<?, ? batchs/s]"
                        ]
                    },
                    "metadata": {},
                    "output_type": "display_data"
                },
                {
                    "name": "stderr",
                    "output_type": "stream",
                    "text": [
                        "INFO:Trainer:Model saved to '/tmp/lstm_checkpoint'\n"
                    ]
                },
                {
                    "name": "stdout",
                    "output_type": "stream",
                    "text": [
                        "Model saved to '/tmp/lstm_checkpoint'\n",
                        "Model saved to '/tmp/lstm_checkpoint'\n",
                        "Model saved to '/tmp/lstm_checkpoint'\n",
                        "Model saved to '/tmp/lstm_checkpoint'\n",
                        "Model saved to '/tmp/lstm_checkpoint'\n",
                        "Model saved to '/tmp/lstm_checkpoint'\n"
                    ]
                },
                {
                    "data": {
                        "application/vnd.jupyter.widget-view+json": {
                            "model_id": "02225685cd024400917bbc651d0eb4c5",
                            "version_major": 2,
                            "version_minor": 0
                        },
                        "text/plain": [
                            "  0%|          | 0/599 [00:00<?, ? batchs/s]"
                        ]
                    },
                    "metadata": {},
                    "output_type": "display_data"
                },
                {
                    "name": "stderr",
                    "output_type": "stream",
                    "text": [
                        "INFO:Trainer:Model saved to '/tmp/lstm_checkpoint': val_f1 improved from 0.672 to 0.717\n"
                    ]
                },
                {
                    "name": "stdout",
                    "output_type": "stream",
                    "text": [
                        "Model saved to '/tmp/lstm_checkpoint': val_f1 improved from 0.672 to 0.717\n",
                        "Model saved to '/tmp/lstm_checkpoint': val_f1 improved from 0.672 to 0.717\n",
                        "Model saved to '/tmp/lstm_checkpoint': val_f1 improved from 0.672 to 0.717\n",
                        "Model saved to '/tmp/lstm_checkpoint': val_f1 improved from 0.672 to 0.717\n",
                        "Model saved to '/tmp/lstm_checkpoint': val_f1 improved from 0.672 to 0.717\n",
                        "Model saved to '/tmp/lstm_checkpoint': val_f1 improved from 0.672 to 0.717\n"
                    ]
                },
                {
                    "data": {
                        "application/vnd.jupyter.widget-view+json": {
                            "model_id": "a1691b665800434294a9e4d5aec2f04a",
                            "version_major": 2,
                            "version_minor": 0
                        },
                        "text/plain": [
                            "  0%|          | 0/599 [00:00<?, ? batchs/s]"
                        ]
                    },
                    "metadata": {},
                    "output_type": "display_data"
                },
                {
                    "name": "stderr",
                    "output_type": "stream",
                    "text": [
                        "INFO:Trainer:Model saved to '/tmp/lstm_checkpoint': val_f1 improved from 0.717 to 0.718\n"
                    ]
                },
                {
                    "name": "stdout",
                    "output_type": "stream",
                    "text": [
                        "Model saved to '/tmp/lstm_checkpoint': val_f1 improved from 0.717 to 0.718\n",
                        "Model saved to '/tmp/lstm_checkpoint': val_f1 improved from 0.717 to 0.718\n",
                        "Model saved to '/tmp/lstm_checkpoint': val_f1 improved from 0.717 to 0.718\n",
                        "Model saved to '/tmp/lstm_checkpoint': val_f1 improved from 0.717 to 0.718\n",
                        "Model saved to '/tmp/lstm_checkpoint': val_f1 improved from 0.717 to 0.718\n",
                        "Model saved to '/tmp/lstm_checkpoint': val_f1 improved from 0.717 to 0.718\n"
                    ]
                },
                {
                    "data": {
                        "application/vnd.jupyter.widget-view+json": {
                            "model_id": "d988c99b125a4cb89cad67baf27abbac",
                            "version_major": 2,
                            "version_minor": 0
                        },
                        "text/plain": [
                            "  0%|          | 0/599 [00:00<?, ? batchs/s]"
                        ]
                    },
                    "metadata": {},
                    "output_type": "display_data"
                },
                {
                    "name": "stderr",
                    "output_type": "stream",
                    "text": [
                        "INFO:Trainer:Model saved to '/tmp/lstm_checkpoint': val_f1 improved from 0.718 to 0.719\n"
                    ]
                },
                {
                    "name": "stdout",
                    "output_type": "stream",
                    "text": [
                        "Model saved to '/tmp/lstm_checkpoint': val_f1 improved from 0.718 to 0.719\n",
                        "Model saved to '/tmp/lstm_checkpoint': val_f1 improved from 0.718 to 0.719\n",
                        "Model saved to '/tmp/lstm_checkpoint': val_f1 improved from 0.718 to 0.719\n",
                        "Model saved to '/tmp/lstm_checkpoint': val_f1 improved from 0.718 to 0.719\n",
                        "Model saved to '/tmp/lstm_checkpoint': val_f1 improved from 0.718 to 0.719\n",
                        "Model saved to '/tmp/lstm_checkpoint': val_f1 improved from 0.718 to 0.719\n"
                    ]
                },
                {
                    "data": {
                        "application/vnd.jupyter.widget-view+json": {
                            "model_id": "047756aa44774120ae270d6018cf75f0",
                            "version_major": 2,
                            "version_minor": 0
                        },
                        "text/plain": [
                            "  0%|          | 0/599 [00:00<?, ? batchs/s]"
                        ]
                    },
                    "metadata": {},
                    "output_type": "display_data"
                },
                {
                    "name": "stderr",
                    "output_type": "stream",
                    "text": [
                        "INFO:Trainer:Model saved to '/tmp/lstm_checkpoint': val_f1 improved from 0.719 to 0.728\n"
                    ]
                },
                {
                    "name": "stdout",
                    "output_type": "stream",
                    "text": [
                        "Model saved to '/tmp/lstm_checkpoint': val_f1 improved from 0.719 to 0.728\n",
                        "Model saved to '/tmp/lstm_checkpoint': val_f1 improved from 0.719 to 0.728\n",
                        "Model saved to '/tmp/lstm_checkpoint': val_f1 improved from 0.719 to 0.728\n",
                        "Model saved to '/tmp/lstm_checkpoint': val_f1 improved from 0.719 to 0.728\n",
                        "Model saved to '/tmp/lstm_checkpoint': val_f1 improved from 0.719 to 0.728\n",
                        "Model saved to '/tmp/lstm_checkpoint': val_f1 improved from 0.719 to 0.728\n"
                    ]
                },
                {
                    "data": {
                        "application/vnd.jupyter.widget-view+json": {
                            "model_id": "2c056be76c774b49ad368432c7744a0c",
                            "version_major": 2,
                            "version_minor": 0
                        },
                        "text/plain": [
                            "  0%|          | 0/599 [00:00<?, ? batchs/s]"
                        ]
                    },
                    "metadata": {},
                    "output_type": "display_data"
                },
                {
                    "name": "stderr",
                    "output_type": "stream",
                    "text": [
                        "INFO:Trainer:Model saved to '/tmp/lstm_checkpoint': val_f1 improved from 0.728 to 0.734\n"
                    ]
                },
                {
                    "name": "stdout",
                    "output_type": "stream",
                    "text": [
                        "Model saved to '/tmp/lstm_checkpoint': val_f1 improved from 0.728 to 0.734\n",
                        "Model saved to '/tmp/lstm_checkpoint': val_f1 improved from 0.728 to 0.734\n",
                        "Model saved to '/tmp/lstm_checkpoint': val_f1 improved from 0.728 to 0.734\n",
                        "Model saved to '/tmp/lstm_checkpoint': val_f1 improved from 0.728 to 0.734\n",
                        "Model saved to '/tmp/lstm_checkpoint': val_f1 improved from 0.728 to 0.734\n",
                        "Model saved to '/tmp/lstm_checkpoint': val_f1 improved from 0.728 to 0.734\n"
                    ]
                },
                {
                    "data": {
                        "application/vnd.jupyter.widget-view+json": {
                            "model_id": "2fe1b497fb53405492cc799ed9c30360",
                            "version_major": 2,
                            "version_minor": 0
                        },
                        "text/plain": [
                            "  0%|          | 0/599 [00:00<?, ? batchs/s]"
                        ]
                    },
                    "metadata": {},
                    "output_type": "display_data"
                },
                {
                    "data": {
                        "application/vnd.jupyter.widget-view+json": {
                            "model_id": "dd578e61a4b84c1c96ba63bbc85d9b5d",
                            "version_major": 2,
                            "version_minor": 0
                        },
                        "text/plain": [
                            "  0%|          | 0/599 [00:00<?, ? batchs/s]"
                        ]
                    },
                    "metadata": {},
                    "output_type": "display_data"
                },
                {
                    "data": {
                        "application/vnd.jupyter.widget-view+json": {
                            "model_id": "d269681fe97847a5b664a9c23e87211e",
                            "version_major": 2,
                            "version_minor": 0
                        },
                        "text/plain": [
                            "  0%|          | 0/599 [00:00<?, ? batchs/s]"
                        ]
                    },
                    "metadata": {},
                    "output_type": "display_data"
                },
                {
                    "data": {
                        "application/vnd.jupyter.widget-view+json": {
                            "model_id": "b4b33cf52eb54a69beec53c0de580f88",
                            "version_major": 2,
                            "version_minor": 0
                        },
                        "text/plain": [
                            "  0%|          | 0/599 [00:00<?, ? batchs/s]"
                        ]
                    },
                    "metadata": {},
                    "output_type": "display_data"
                },
                {
                    "data": {
                        "image/png": "[encoded data removed]",
                        "text/plain": [
                            "<Figure size 1080x1080 with 6 Axes>"
                        ]
                    },
                    "metadata": {
                        "needs_background": "light"
                    },
                    "output_type": "display_data"
                }
            ],
            "source": [
                "history_lstm = lstm_model.fit(train_ds, test_ds, epochs=10, batch_size=200)\n",
                "history_lstm.plot()\n",
                "plt.show()"
            ]
        },
        {
            "cell_type": "code",
            "execution_count": 17,
            "metadata": {},
            "outputs": [
                {
                    "name": "stderr",
                    "output_type": "stream",
                    "text": [
                        "/home/chino/Proyectos/Machine Learning/torchero/examples/notebooks/torchero/callbacks/checkpoint.py:73: YAMLLoadWarning: calling yaml.load() without Loader=... is deprecated, as the default Loader is unsafe. Please read https://msg.pyyaml.org/load for full details.\n",
                        "  data = yaml.load(f)\n"
                    ]
                }
            ],
            "source": [
                "lstm_model.load_checkpoint()\n",
                "lstm_clf_report = lstm_model.classification_report(test_ds)\n",
                "lstm_model.to('cpu')\n",
                "torch.cuda.empty_cache()"
            ]
        },
        {
            "cell_type": "markdown",
            "metadata": {},
            "source": [
                "## Results"
            ]
        },
        {
            "cell_type": "code",
            "execution_count": 18,
            "metadata": {},
            "outputs": [],
            "source": [
                "import pandas  as pd"
            ]
        },
        {
            "cell_type": "code",
            "execution_count": 19,
            "metadata": {},
            "outputs": [
                {
                    "data": {
                        "text/html": [
                            "<div>\n",
                            "<style scoped>\n",
                            "    .dataframe tbody tr th:only-of-type {\n",
                            "        vertical-align: middle;\n",
                            "    }\n",
                            "\n",
                            "    .dataframe tbody tr th {\n",
                            "        vertical-align: top;\n",
                            "    }\n",
                            "\n",
                            "    .dataframe thead tr th {\n",
                            "        text-align: left;\n",
                            "    }\n",
                            "</style>\n",
                            "<table border=\"1\" class=\"dataframe\">\n",
                            "  <thead>\n",
                            "    <tr>\n",
                            "      <th></th>\n",
                            "      <th colspan=\"2\" halign=\"left\">precision</th>\n",
                            "      <th colspan=\"2\" halign=\"left\">recall</th>\n",
                            "      <th colspan=\"2\" halign=\"left\">f1-score</th>\n",
                            "      <th colspan=\"2\" halign=\"left\">support</th>\n",
                            "    </tr>\n",
                            "    <tr>\n",
                            "      <th>name</th>\n",
                            "      <th>linear</th>\n",
                            "      <th>lstm</th>\n",
                            "      <th>linear</th>\n",
                            "      <th>lstm</th>\n",
                            "      <th>linear</th>\n",
                            "      <th>lstm</th>\n",
                            "      <th>linear</th>\n",
                            "      <th>lstm</th>\n",
                            "    </tr>\n",
                            "  </thead>\n",
                            "  <tbody>\n",
                            "    <tr>\n",
                            "      <th>identity_hate</th>\n",
                            "      <td>0.460432</td>\n",
                            "      <td>0.000000</td>\n",
                            "      <td>0.190476</td>\n",
                            "      <td>0.000000</td>\n",
                            "      <td>0.269474</td>\n",
                            "      <td>0.000000</td>\n",
                            "      <td>336</td>\n",
                            "      <td>336</td>\n",
                            "    </tr>\n",
                            "    <tr>\n",
                            "      <th>insult</th>\n",
                            "      <td>0.766736</td>\n",
                            "      <td>0.720102</td>\n",
                            "      <td>0.564820</td>\n",
                            "      <td>0.719370</td>\n",
                            "      <td>0.650468</td>\n",
                            "      <td>0.719736</td>\n",
                            "      <td>1967</td>\n",
                            "      <td>1967</td>\n",
                            "    </tr>\n",
                            "    <tr>\n",
                            "      <th>macro</th>\n",
                            "      <td>0.659633</td>\n",
                            "      <td>0.538528</td>\n",
                            "      <td>0.433990</td>\n",
                            "      <td>0.379968</td>\n",
                            "      <td>0.513890</td>\n",
                            "      <td>0.400481</td>\n",
                            "      <td>8774</td>\n",
                            "      <td>8774</td>\n",
                            "    </tr>\n",
                            "    <tr>\n",
                            "      <th>micro</th>\n",
                            "      <td>0.796964</td>\n",
                            "      <td>0.808787</td>\n",
                            "      <td>0.604399</td>\n",
                            "      <td>0.673467</td>\n",
                            "      <td>0.687451</td>\n",
                            "      <td>0.734950</td>\n",
                            "      <td>8774</td>\n",
                            "      <td>8774</td>\n",
                            "    </tr>\n",
                            "    <tr>\n",
                            "      <th>obscene</th>\n",
                            "      <td>0.849102</td>\n",
                            "      <td>0.846033</td>\n",
                            "      <td>0.672676</td>\n",
                            "      <td>0.763757</td>\n",
                            "      <td>0.750662</td>\n",
                            "      <td>0.802792</td>\n",
                            "      <td>2108</td>\n",
                            "      <td>2108</td>\n",
                            "    </tr>\n",
                            "    <tr>\n",
                            "      <th>severe_toxic</th>\n",
                            "      <td>0.548781</td>\n",
                            "      <td>0.826087</td>\n",
                            "      <td>0.331695</td>\n",
                            "      <td>0.046683</td>\n",
                            "      <td>0.413476</td>\n",
                            "      <td>0.088372</td>\n",
                            "      <td>407</td>\n",
                            "      <td>407</td>\n",
                            "    </tr>\n",
                            "    <tr>\n",
                            "      <th>threat</th>\n",
                            "      <td>0.510638</td>\n",
                            "      <td>0.000000</td>\n",
                            "      <td>0.176471</td>\n",
                            "      <td>0.000000</td>\n",
                            "      <td>0.262295</td>\n",
                            "      <td>0.000000</td>\n",
                            "      <td>136</td>\n",
                            "      <td>136</td>\n",
                            "    </tr>\n",
                            "    <tr>\n",
                            "      <th>toxic</th>\n",
                            "      <td>0.822108</td>\n",
                            "      <td>0.838946</td>\n",
                            "      <td>0.667801</td>\n",
                            "      <td>0.750000</td>\n",
                            "      <td>0.736964</td>\n",
                            "      <td>0.791983</td>\n",
                            "      <td>3820</td>\n",
                            "      <td>3820</td>\n",
                            "    </tr>\n",
                            "    <tr>\n",
                            "      <th>weighted</th>\n",
                            "      <td>0.784822</td>\n",
                            "      <td>0.768277</td>\n",
                            "      <td>0.604399</td>\n",
                            "      <td>0.673467</td>\n",
                            "      <td>0.680598</td>\n",
                            "      <td>0.703140</td>\n",
                            "      <td>8774</td>\n",
                            "      <td>8774</td>\n",
                            "    </tr>\n",
                            "  </tbody>\n",
                            "</table>\n",
                            "</div>"
                        ],
                        "text/plain": [
                            "              precision              recall            f1-score            \\\n",
                            "name             linear      lstm    linear      lstm    linear      lstm   \n",
                            "identity_hate  0.460432  0.000000  0.190476  0.000000  0.269474  0.000000   \n",
                            "insult         0.766736  0.720102  0.564820  0.719370  0.650468  0.719736   \n",
                            "macro          0.659633  0.538528  0.433990  0.379968  0.513890  0.400481   \n",
                            "micro          0.796964  0.808787  0.604399  0.673467  0.687451  0.734950   \n",
                            "obscene        0.849102  0.846033  0.672676  0.763757  0.750662  0.802792   \n",
                            "severe_toxic   0.548781  0.826087  0.331695  0.046683  0.413476  0.088372   \n",
                            "threat         0.510638  0.000000  0.176471  0.000000  0.262295  0.000000   \n",
                            "toxic          0.822108  0.838946  0.667801  0.750000  0.736964  0.791983   \n",
                            "weighted       0.784822  0.768277  0.604399  0.673467  0.680598  0.703140   \n",
                            "\n",
                            "              support        \n",
                            "name           linear  lstm  \n",
                            "identity_hate     336   336  \n",
                            "insult           1967  1967  \n",
                            "macro            8774  8774  \n",
                            "micro            8774  8774  \n",
                            "obscene          2108  2108  \n",
                            "severe_toxic      407   407  \n",
                            "threat            136   136  \n",
                            "toxic            3820  3820  \n",
                            "weighted         8774  8774  "
                        ]
                    },
                    "execution_count": 19,
                    "metadata": {},
                    "output_type": "execute_result"
                }
            ],
            "source": [
                "pd.concat([\n",
                "    pd.DataFrame.from_dict(clf_report, orient='index').assign(name=name)\n",
                "    for name, clf_report in {'linear': linear_clf_report,\n",
                "                             'lstm': lstm_clf_report}.items()\n",
                "], axis=0).set_index('name', append=True).unstack(level=1)"
            ]
        },
        {
            "cell_type": "markdown",
            "metadata": {},
            "source": [
                "## Prediction with best model"
            ]
        },
        {
            "cell_type": "code",
            "execution_count": 20,
            "metadata": {},
            "outputs": [
                {
                    "data": {
                        "text/plain": [
                            "{'toxic': 0.9332311749458313, 'severe_toxic': 0.05339151993393898, 'obscene': 0.38970574736595154, 'threat': 0.015076501294970512, 'insult': 0.29866260290145874, 'identity_hate': 0.03540885075926781}"
                        ]
                    },
                    "execution_count": 20,
                    "metadata": {},
                    "output_type": "execute_result"
                }
            ],
            "source": [
                "lstm_model.predict('You can go to hell')"
            ]
        }
    ],
    "metadata": {
        "kernelspec": {
            "display_name": "Python 3",
            "language": "python",
            "name": "python3"
        },
        "language_info": {
            "codemirror_mode": {
                "name": "ipython",
                "version": 3
            },
            "file_extension": ".py",
            "mimetype": "text/x-python",
            "name": "python",
            "nbconvert_exporter": "python",
            "pygments_lexer": "ipython3",
            "version": "3.9.6"
        },
        "widgets": {
            "application/vnd.jupyter.widget-state+json": {
                "state": {
                    "0037db186d5248c0929848baee5ad15c": {
                        "model_module": "@jupyter-widgets/base",
                        "model_module_version": "1.2.0",
                        "model_name": "LayoutModel",
                        "state": {}
                    },
                    "00d233317c364a05bb56e738ff5de4f8": {
                        "model_module": "@jupyter-widgets/base",
                        "model_module_version": "1.2.0",
                        "model_name": "LayoutModel",
                        "state": {}
                    },
                    "0185c8a34768449f99dfc7961a3bc2c5": {
                        "model_module": "@jupyter-widgets/base",
                        "model_module_version": "1.2.0",
                        "model_name": "LayoutModel",
                        "state": {}
                    },
                    "02225685cd024400917bbc651d0eb4c5": {
                        "model_module": "@jupyter-widgets/controls",
                        "model_module_version": "1.5.0",
                        "model_name": "HBoxModel",
                        "state": {
                            "children": [
                                "IPY_MODEL_a3f00573d1514ba9b8e9e8773e5fab5d",
                                "IPY_MODEL_339121d4b0ee4d6dae0c950b676b3de6",
                                "IPY_MODEL_8af4c085b68b4a34806153066751ebbb"
                            ],
                            "layout": "IPY_MODEL_22f92755ee17473dac0473368541cfc7"
                        }
                    },
                    "02c9acaf06eb4f5e80ed5a3d98443a75": {
                        "model_module": "@jupyter-widgets/controls",
                        "model_module_version": "1.5.0",
                        "model_name": "HBoxModel",
                        "state": {
                            "children": [
                                "IPY_MODEL_57ebd6ecafe54b6aba1a9d0f9e3a1376",
                                "IPY_MODEL_e5ec774d05f14de0bcc3dac28aeed512",
                                "IPY_MODEL_5ea287e8f4c74dec8f9921127159e503"
                            ],
                            "layout": "IPY_MODEL_11d0f2cbf9d04594a1567e3edaf7ee66"
                        }
                    },
                    "032e65fc58294f8cb472c9f82f841c87": {
                        "model_module": "@jupyter-widgets/controls",
                        "model_module_version": "1.5.0",
                        "model_name": "ProgressStyleModel",
                        "state": {
                            "description_width": ""
                        }
                    },
                    "033d3bc106d147128e030266c48a5124": {
                        "model_module": "@jupyter-widgets/controls",
                        "model_module_version": "1.5.0",
                        "model_name": "DescriptionStyleModel",
                        "state": {
                            "description_width": ""
                        }
                    },
                    "047756aa44774120ae270d6018cf75f0": {
                        "model_module": "@jupyter-widgets/controls",
                        "model_module_version": "1.5.0",
                        "model_name": "HBoxModel",
                        "state": {
                            "children": [
                                "IPY_MODEL_7529ee09537144ed96f451648bb39c9d",
                                "IPY_MODEL_0807cbb7e9c1466da08687d62caa0c55",
                                "IPY_MODEL_876edeb2854f470caa503fbb0fa6e5e4"
                            ],
                            "layout": "IPY_MODEL_28c2bf53f4944d23be24937ac8ee82ec"
                        }
                    },
                    "04c140ad5419430bab7944a4b267f0c1": {
                        "model_module": "@jupyter-widgets/base",
                        "model_module_version": "1.2.0",
                        "model_name": "LayoutModel",
                        "state": {}
                    },
                    "0807cbb7e9c1466da08687d62caa0c55": {
                        "model_module": "@jupyter-widgets/controls",
                        "model_module_version": "1.5.0",
                        "model_name": "FloatProgressModel",
                        "state": {
                            "bar_style": "success",
                            "layout": "IPY_MODEL_3d9188c42c0849ef9d0eab556255d9ec",
                            "max": 599,
                            "style": "IPY_MODEL_3b41c71752064570beb9103dfff0a121",
                            "value": 599
                        }
                    },
                    "08f1d58af6f1469f9747c673b61fb90d": {
                        "model_module": "@jupyter-widgets/controls",
                        "model_module_version": "1.5.0",
                        "model_name": "HTMLModel",
                        "state": {
                            "layout": "IPY_MODEL_8b8312ff595f4d21903664e88794dda5",
                            "style": "IPY_MODEL_d3b1e932170646cb89d0ea30c9f4eb61",
                            "value": " 599/599 [1:02:52&lt;00:00,  7.65s/ batchs, lr=0.005, train_acc=0.969, train_f1=0.354, train_loss=0.112, train_precision=0.723, train_recall=0.234, val_acc=0.980, val_f1=0.672, val_loss=0.059, val_precision=0.851, val_recall=0.555]"
                        }
                    },
                    "0908f8a2c70f43cabe4b9ef7d0049972": {
                        "model_module": "@jupyter-widgets/controls",
                        "model_module_version": "1.5.0",
                        "model_name": "DescriptionStyleModel",
                        "state": {
                            "description_width": ""
                        }
                    },
                    "0997d56e8aae4183b82496c564d85e02": {
                        "model_module": "@jupyter-widgets/controls",
                        "model_module_version": "1.5.0",
                        "model_name": "HBoxModel",
                        "state": {
                            "children": [
                                "IPY_MODEL_329f5e4cbbde47d6bb5129b53052ca8b",
                                "IPY_MODEL_735eb566487949f69392f3ea49ad039a",
                                "IPY_MODEL_8f64edd44726440e9c68e52803c046b0"
                            ],
                            "layout": "IPY_MODEL_f7d63ab8057f46d2ab853aca60f81790"
                        }
                    },
                    "0a972b0e8c7d4e9b8f9490ffb04602f9": {
                        "model_module": "@jupyter-widgets/base",
                        "model_module_version": "1.2.0",
                        "model_name": "LayoutModel",
                        "state": {}
                    },
                    "0cfe27691d744504981875e36da7a22a": {
                        "model_module": "@jupyter-widgets/controls",
                        "model_module_version": "1.5.0",
                        "model_name": "HTMLModel",
                        "state": {
                            "layout": "IPY_MODEL_45c9e01e21874a9eb7aa9b0d24d50847",
                            "style": "IPY_MODEL_622e003eed9044c5ae3f20eb1168b2f8",
                            "value": " 3740/3740 [2:02:47&lt;00:00,  7.70s/ batchs, lr=0.010, train_acc=0.963, train_f1=0.001, train_loss=0.160, train_precision=0.045, train_recall=6.08e-04, val_acc=0.963, val_f1=0.00e+00, val_loss=0.148, val_precision=0.00e+00, val_recall=0.00e+00]"
                        }
                    },
                    "0d6a5ec87f4b4d0d9eac34b45000d12d": {
                        "model_module": "@jupyter-widgets/base",
                        "model_module_version": "1.2.0",
                        "model_name": "LayoutModel",
                        "state": {}
                    },
                    "0e31bc6c4dd7445ca7b5d3d43e314a8c": {
                        "model_module": "@jupyter-widgets/base",
                        "model_module_version": "1.2.0",
                        "model_name": "LayoutModel",
                        "state": {}
                    },
                    "0e67aae04eef483c8a0e19e4c89fc149": {
                        "model_module": "@jupyter-widgets/controls",
                        "model_module_version": "1.5.0",
                        "model_name": "HTMLModel",
                        "state": {
                            "layout": "IPY_MODEL_e20fff4805834bc3bedf640a2ae2936f",
                            "style": "IPY_MODEL_bbd736d3ffb44fc1bc5d95213f50b2be",
                            "value": "Epoch 8: 100%"
                        }
                    },
                    "0e88f438abb249d3bdda90eee07ee330": {
                        "model_module": "@jupyter-widgets/controls",
                        "model_module_version": "1.5.0",
                        "model_name": "ProgressStyleModel",
                        "state": {
                            "description_width": ""
                        }
                    },
                    "0f25176555584d61b59c046a6270c8ec": {
                        "model_module": "@jupyter-widgets/controls",
                        "model_module_version": "1.5.0",
                        "model_name": "DescriptionStyleModel",
                        "state": {
                            "description_width": ""
                        }
                    },
                    "0fc938ef7dfb478cabff582e66a71877": {
                        "model_module": "@jupyter-widgets/controls",
                        "model_module_version": "1.5.0",
                        "model_name": "HTMLModel",
                        "state": {
                            "layout": "IPY_MODEL_93ad6510ec6c451daefdd07557ba0244",
                            "style": "IPY_MODEL_1dd74bd8f33b4a049199ec4a936367b0",
                            "value": "Epoch 1: 100%"
                        }
                    },
                    "117b5170ea8f4bbc843b1f5e0e419332": {
                        "model_module": "@jupyter-widgets/controls",
                        "model_module_version": "1.5.0",
                        "model_name": "ProgressStyleModel",
                        "state": {
                            "description_width": ""
                        }
                    },
                    "119b2932902c4690a613698f277fdf7a": {
                        "model_module": "@jupyter-widgets/base",
                        "model_module_version": "1.2.0",
                        "model_name": "LayoutModel",
                        "state": {}
                    },
                    "11d0f2cbf9d04594a1567e3edaf7ee66": {
                        "model_module": "@jupyter-widgets/base",
                        "model_module_version": "1.2.0",
                        "model_name": "LayoutModel",
                        "state": {}
                    },
                    "13108b4f692a4669a0db6756ee74d206": {
                        "model_module": "@jupyter-widgets/controls",
                        "model_module_version": "1.5.0",
                        "model_name": "HTMLModel",
                        "state": {
                            "layout": "IPY_MODEL_232f6f66064e4373adf6274f4b84761b",
                            "style": "IPY_MODEL_4f644106cc2f4f9694139ab2ec2f5c07",
                            "value": " 457/935 [40:28&lt;02:44,  2.91 batchs/s, lr=0.005, train_acc=0.963, train_f1=0.004, train_loss=0.147, train_precision=0.065, train_recall=0.002]"
                        }
                    },
                    "131399e9e02c44e2ba420fecb58c6b7a": {
                        "model_module": "@jupyter-widgets/controls",
                        "model_module_version": "1.5.0",
                        "model_name": "HTMLModel",
                        "state": {
                            "layout": "IPY_MODEL_119b2932902c4690a613698f277fdf7a",
                            "style": "IPY_MODEL_bb9488331c7541a6980518ced9cb8b02",
                            "value": " 1/10 [1:02:04&lt;59:34, 397.20s/epoch]"
                        }
                    },
                    "131675286e2c4dd7a38df411d7d25783": {
                        "model_module": "@jupyter-widgets/base",
                        "model_module_version": "1.2.0",
                        "model_name": "LayoutModel",
                        "state": {}
                    },
                    "140430194c3843299d21dc423d682bee": {
                        "model_module": "@jupyter-widgets/controls",
                        "model_module_version": "1.5.0",
                        "model_name": "ProgressStyleModel",
                        "state": {
                            "description_width": ""
                        }
                    },
                    "151973d1fabe47f6888cf4f7a643c2ac": {
                        "model_module": "@jupyter-widgets/controls",
                        "model_module_version": "1.5.0",
                        "model_name": "HBoxModel",
                        "state": {
                            "children": [
                                "IPY_MODEL_f46cce04cdaa484a8255fe5fedb8e1bd",
                                "IPY_MODEL_6cd91706eddd44b9b83384c5345b2200",
                                "IPY_MODEL_e5836ba24dbd472c96c26418a4fae22d"
                            ],
                            "layout": "IPY_MODEL_d92b20bfc1a9494092a3193227ee5f7c"
                        }
                    },
                    "151ccbb1357549aebfadae69dbefc6a2": {
                        "model_module": "@jupyter-widgets/base",
                        "model_module_version": "1.2.0",
                        "model_name": "LayoutModel",
                        "state": {}
                    },
                    "1646483688024cdfa48ccc09cf44703f": {
                        "model_module": "@jupyter-widgets/controls",
                        "model_module_version": "1.5.0",
                        "model_name": "HBoxModel",
                        "state": {
                            "children": [
                                "IPY_MODEL_fd5dc120f19541b6ab04a18ad74b380f",
                                "IPY_MODEL_ce91cfa39f784a4eba95bab5add017cf",
                                "IPY_MODEL_7ce8cf674fb343f3acaafec07c67e35a"
                            ],
                            "layout": "IPY_MODEL_274775bb34654471a1ddab712d856829"
                        }
                    },
                    "16a9e056e8b74c22afc173e6de5cd273": {
                        "model_module": "@jupyter-widgets/controls",
                        "model_module_version": "1.5.0",
                        "model_name": "DescriptionStyleModel",
                        "state": {
                            "description_width": ""
                        }
                    },
                    "16ac197bd8a64843bd5ac95be34f63ed": {
                        "model_module": "@jupyter-widgets/controls",
                        "model_module_version": "1.5.0",
                        "model_name": "HTMLModel",
                        "state": {
                            "layout": "IPY_MODEL_d06aa62ff6d2408b99e1c1e78076f44a",
                            "style": "IPY_MODEL_3ad649dbcd3046b39dc4877703e3ad97",
                            "value": " 40%"
                        }
                    },
                    "178edcf77cc644848b8d93a561e5ad16": {
                        "model_module": "@jupyter-widgets/controls",
                        "model_module_version": "1.5.0",
                        "model_name": "ProgressStyleModel",
                        "state": {
                            "description_width": ""
                        }
                    },
                    "1943415a0a3040568da88e0555094e1f": {
                        "model_module": "@jupyter-widgets/controls",
                        "model_module_version": "1.5.0",
                        "model_name": "DescriptionStyleModel",
                        "state": {
                            "description_width": ""
                        }
                    },
                    "1a10c5cc00db4516be4e7e8188d9a0fd": {
                        "model_module": "@jupyter-widgets/controls",
                        "model_module_version": "1.5.0",
                        "model_name": "DescriptionStyleModel",
                        "state": {
                            "description_width": ""
                        }
                    },
                    "1b95fd29f479466c8660062e99590367": {
                        "model_module": "@jupyter-widgets/controls",
                        "model_module_version": "1.5.0",
                        "model_name": "HBoxModel",
                        "state": {
                            "children": [
                                "IPY_MODEL_8f99c60cd07940969e3bffa13ba63bee",
                                "IPY_MODEL_b3c7518d34f740aa8ebf3c6982f9304d",
                                "IPY_MODEL_91818acb8b1f406b9fe24832e8e07fc3"
                            ],
                            "layout": "IPY_MODEL_ddecbac0efa44c85b7b60c03fa24cade"
                        }
                    },
                    "1bd1cf28dbf64ac89fc9e0ca239fb9e4": {
                        "model_module": "@jupyter-widgets/base",
                        "model_module_version": "1.2.0",
                        "model_name": "LayoutModel",
                        "state": {}
                    },
                    "1d4f23ff6e4f4e91970ab0dc7afb143f": {
                        "model_module": "@jupyter-widgets/controls",
                        "model_module_version": "1.5.0",
                        "model_name": "DescriptionStyleModel",
                        "state": {
                            "description_width": ""
                        }
                    },
                    "1d6a1a0447534d32972706663b29082c": {
                        "model_module": "@jupyter-widgets/base",
                        "model_module_version": "1.2.0",
                        "model_name": "LayoutModel",
                        "state": {}
                    },
                    "1d6b75d4aeee4a47934c2c14c3369365": {
                        "model_module": "@jupyter-widgets/controls",
                        "model_module_version": "1.5.0",
                        "model_name": "DescriptionStyleModel",
                        "state": {
                            "description_width": ""
                        }
                    },
                    "1dd74bd8f33b4a049199ec4a936367b0": {
                        "model_module": "@jupyter-widgets/controls",
                        "model_module_version": "1.5.0",
                        "model_name": "DescriptionStyleModel",
                        "state": {
                            "description_width": ""
                        }
                    },
                    "1f5d03e9e88d4825a5f01c882c41307c": {
                        "model_module": "@jupyter-widgets/controls",
                        "model_module_version": "1.5.0",
                        "model_name": "HBoxModel",
                        "state": {
                            "children": [
                                "IPY_MODEL_5791463cb1684de4b4426409a24e9f39",
                                "IPY_MODEL_f92c60c2449c43d7b580f02322987fb5",
                                "IPY_MODEL_d2cc69a573a942a28ac5941cd5f84b70"
                            ],
                            "layout": "IPY_MODEL_7165dd34bb964c1f80c310e73ea96bdd"
                        }
                    },
                    "2070143875264f028bb7e5a12224afe9": {
                        "model_module": "@jupyter-widgets/base",
                        "model_module_version": "1.2.0",
                        "model_name": "LayoutModel",
                        "state": {}
                    },
                    "21d3fa15262e4f8d9908292f4cd3a525": {
                        "model_module": "@jupyter-widgets/base",
                        "model_module_version": "1.2.0",
                        "model_name": "LayoutModel",
                        "state": {}
                    },
                    "21de250969764f1380819ee234a86ca4": {
                        "model_module": "@jupyter-widgets/controls",
                        "model_module_version": "1.5.0",
                        "model_name": "DescriptionStyleModel",
                        "state": {
                            "description_width": ""
                        }
                    },
                    "22681beb8687443ca9aa113946b793d0": {
                        "model_module": "@jupyter-widgets/base",
                        "model_module_version": "1.2.0",
                        "model_name": "LayoutModel",
                        "state": {}
                    },
                    "227df81fe58a4efab2b83e03349fd9d0": {
                        "model_module": "@jupyter-widgets/controls",
                        "model_module_version": "1.5.0",
                        "model_name": "DescriptionStyleModel",
                        "state": {
                            "description_width": ""
                        }
                    },
                    "22f92755ee17473dac0473368541cfc7": {
                        "model_module": "@jupyter-widgets/base",
                        "model_module_version": "1.2.0",
                        "model_name": "LayoutModel",
                        "state": {}
                    },
                    "232f6f66064e4373adf6274f4b84761b": {
                        "model_module": "@jupyter-widgets/base",
                        "model_module_version": "1.2.0",
                        "model_name": "LayoutModel",
                        "state": {}
                    },
                    "23a1f3312f194aec978d87266d5e7c1d": {
                        "model_module": "@jupyter-widgets/base",
                        "model_module_version": "1.2.0",
                        "model_name": "LayoutModel",
                        "state": {}
                    },
                    "23ab090ffa1e4811af7e5b9bf1ff045d": {
                        "model_module": "@jupyter-widgets/controls",
                        "model_module_version": "1.5.0",
                        "model_name": "ProgressStyleModel",
                        "state": {
                            "description_width": ""
                        }
                    },
                    "23aff5442b054edfb50f45a308f2d427": {
                        "model_module": "@jupyter-widgets/base",
                        "model_module_version": "1.2.0",
                        "model_name": "LayoutModel",
                        "state": {}
                    },
                    "23e31cbb90a244d686f9979d32f3225a": {
                        "model_module": "@jupyter-widgets/controls",
                        "model_module_version": "1.5.0",
                        "model_name": "HTMLModel",
                        "state": {
                            "layout": "IPY_MODEL_5ce9bfafef054dbc8440a7c83ecffe42",
                            "style": "IPY_MODEL_5ac4cfdfcfcc42a8b516e2e33f13e7c7",
                            "value": " 3740/3740 [1:20:54&lt;00:00,  6.46s/ batchs, lr=0.008, train_acc=0.963, train_f1=1.52e-04, train_loss=0.151, train_precision=0.048, train_recall=7.60e-05, val_acc=0.963, val_f1=0.00e+00, val_loss=0.142, val_precision=0.00e+00, val_recall=0.00e+00]"
                        }
                    },
                    "24a6762e112340a3a4c1ba7a6247aad2": {
                        "model_module": "@jupyter-widgets/controls",
                        "model_module_version": "1.5.0",
                        "model_name": "FloatProgressModel",
                        "state": {
                            "bar_style": "success",
                            "layout": "IPY_MODEL_d2d908ea07df435fa53eab6e9088705b",
                            "max": 117,
                            "style": "IPY_MODEL_bc389e33d5464444a40c7f628a3b755a",
                            "value": 117
                        }
                    },
                    "24bff9db41084b34bb6c4ced1532bbbe": {
                        "model_module": "@jupyter-widgets/controls",
                        "model_module_version": "1.5.0",
                        "model_name": "HBoxModel",
                        "state": {
                            "children": [
                                "IPY_MODEL_e63fc818e2ef46b38f1a90cf13fa890c",
                                "IPY_MODEL_d8fc5b61d5da4b98b78a922c0846f383",
                                "IPY_MODEL_f8f4a48b88fd44a1911e16c9e5a108c7"
                            ],
                            "layout": "IPY_MODEL_ddf809414bc142e28a8316cca1369f92"
                        }
                    },
                    "24ef838816ba4e949711ccd24d834e9a": {
                        "model_module": "@jupyter-widgets/controls",
                        "model_module_version": "1.5.0",
                        "model_name": "DescriptionStyleModel",
                        "state": {
                            "description_width": ""
                        }
                    },
                    "25a8473512bd42c69dcf8567392d6c40": {
                        "model_module": "@jupyter-widgets/controls",
                        "model_module_version": "1.5.0",
                        "model_name": "HTMLModel",
                        "state": {
                            "layout": "IPY_MODEL_663ee1d65d7c4f5a9bdf3c46edbbec07",
                            "style": "IPY_MODEL_4bcc5855cfed4be993adf2d653c9a6d6",
                            "value": " 117/117 [03:34&lt;00:00,  3.79s/ batchs, lr=8.59e-04, train_acc=0.985, train_f1=0.773, train_loss=0.042, train_precision=0.886, train_recall=0.685, val_acc=0.980, val_f1=0.686, val_loss=0.064, val_precision=0.804, val_recall=0.598]"
                        }
                    },
                    "26001180564b4919906d52faff631856": {
                        "model_module": "@jupyter-widgets/controls",
                        "model_module_version": "1.5.0",
                        "model_name": "HBoxModel",
                        "state": {
                            "children": [
                                "IPY_MODEL_5a00e470f30942bea6c71eefebc1e778",
                                "IPY_MODEL_4eb6edc8539744cb83e5471fb1abef2f",
                                "IPY_MODEL_8376075f670b40a38f02d533281c27e8"
                            ],
                            "layout": "IPY_MODEL_131675286e2c4dd7a38df411d7d25783"
                        }
                    },
                    "26209b0cdc234decbdfa7441afeee86b": {
                        "model_module": "@jupyter-widgets/controls",
                        "model_module_version": "1.5.0",
                        "model_name": "FloatProgressModel",
                        "state": {
                            "layout": "IPY_MODEL_d86ff8c9dd984e0488966cf72a56fed7",
                            "max": 935,
                            "style": "IPY_MODEL_140430194c3843299d21dc423d682bee",
                            "value": 457
                        }
                    },
                    "274775bb34654471a1ddab712d856829": {
                        "model_module": "@jupyter-widgets/base",
                        "model_module_version": "1.2.0",
                        "model_name": "LayoutModel",
                        "state": {}
                    },
                    "274edad0609342cb826a1f6b840b65f3": {
                        "model_module": "@jupyter-widgets/controls",
                        "model_module_version": "1.5.0",
                        "model_name": "DescriptionStyleModel",
                        "state": {
                            "description_width": ""
                        }
                    },
                    "27c50456a63341379cc8511d6a3666ae": {
                        "model_module": "@jupyter-widgets/controls",
                        "model_module_version": "1.5.0",
                        "model_name": "FloatProgressModel",
                        "state": {
                            "layout": "IPY_MODEL_d58c51e9f658479fb14e56add5bd22e5",
                            "max": 10,
                            "style": "IPY_MODEL_23ab090ffa1e4811af7e5b9bf1ff045d",
                            "value": 3
                        }
                    },
                    "28166f967e354ab8a7a0a19812825e41": {
                        "model_module": "@jupyter-widgets/controls",
                        "model_module_version": "1.5.0",
                        "model_name": "HTMLModel",
                        "state": {
                            "layout": "IPY_MODEL_32001884857a42bea95685df88b5a741",
                            "style": "IPY_MODEL_274edad0609342cb826a1f6b840b65f3",
                            "value": " 10%"
                        }
                    },
                    "28c2bf53f4944d23be24937ac8ee82ec": {
                        "model_module": "@jupyter-widgets/base",
                        "model_module_version": "1.2.0",
                        "model_name": "LayoutModel",
                        "state": {}
                    },
                    "293e309ead3846ce9511acaf41ba2f80": {
                        "model_module": "@jupyter-widgets/controls",
                        "model_module_version": "1.5.0",
                        "model_name": "HTMLModel",
                        "state": {
                            "layout": "IPY_MODEL_e00c65bd98dd4cbb9e3ffaa430ed223f",
                            "style": "IPY_MODEL_893fc9f19f11439388b3852e3b3eb797",
                            "value": " 599/599 [25:02&lt;00:00,  7.61s/ batchs, lr=0.001, train_acc=0.985, train_f1=0.783, train_loss=0.039, train_precision=0.846, train_recall=0.728, val_acc=0.981, val_f1=0.733, val_loss=0.050, val_precision=0.777, val_recall=0.694]"
                        }
                    },
                    "2a1f835d7b2d4818983f413c7372d389": {
                        "model_module": "@jupyter-widgets/base",
                        "model_module_version": "1.2.0",
                        "model_name": "LayoutModel",
                        "state": {}
                    },
                    "2a614351d68c4e779f58ee0ae8781906": {
                        "model_module": "@jupyter-widgets/base",
                        "model_module_version": "1.2.0",
                        "model_name": "LayoutModel",
                        "state": {}
                    },
                    "2b768b0cb80948baac1739e842fed492": {
                        "model_module": "@jupyter-widgets/base",
                        "model_module_version": "1.2.0",
                        "model_name": "LayoutModel",
                        "state": {}
                    },
                    "2b7d3e300ced4f3eaf9eda4a69096e34": {
                        "model_module": "@jupyter-widgets/base",
                        "model_module_version": "1.2.0",
                        "model_name": "LayoutModel",
                        "state": {}
                    },
                    "2c056be76c774b49ad368432c7744a0c": {
                        "model_module": "@jupyter-widgets/controls",
                        "model_module_version": "1.5.0",
                        "model_name": "HBoxModel",
                        "state": {
                            "children": [
                                "IPY_MODEL_70d5522ead2c4c5cbe09c763dd7beaaf",
                                "IPY_MODEL_6b3426a039a349b5bd71ecdc145e0256",
                                "IPY_MODEL_de3275f56fe048c887d1eed9fe771c54"
                            ],
                            "layout": "IPY_MODEL_79ea64ddd35242b796426c812b4f5af0"
                        }
                    },
                    "2c25760f81864919b3eda93ac3f2a99d": {
                        "model_module": "@jupyter-widgets/base",
                        "model_module_version": "1.2.0",
                        "model_name": "LayoutModel",
                        "state": {}
                    },
                    "2c89f4bfb71841adbffe0ab16d167f3c": {
                        "model_module": "@jupyter-widgets/base",
                        "model_module_version": "1.2.0",
                        "model_name": "LayoutModel",
                        "state": {}
                    },
                    "2d71ce67b8b34ee2ad4593f53fec96d2": {
                        "model_module": "@jupyter-widgets/controls",
                        "model_module_version": "1.5.0",
                        "model_name": "FloatProgressModel",
                        "state": {
                            "layout": "IPY_MODEL_4a6c122cabc7437eb89161e4dd2f8b08",
                            "max": 3740,
                            "style": "IPY_MODEL_a1d246a284d54b7593d5026a626c5612",
                            "value": 608
                        }
                    },
                    "2e0f6593aa6b4b86b4f84d1c60d4400d": {
                        "model_module": "@jupyter-widgets/base",
                        "model_module_version": "1.2.0",
                        "model_name": "LayoutModel",
                        "state": {}
                    },
                    "2e1e55f9963c44f88706c24bde266710": {
                        "model_module": "@jupyter-widgets/controls",
                        "model_module_version": "1.5.0",
                        "model_name": "HTMLModel",
                        "state": {
                            "layout": "IPY_MODEL_aa41c7f01eb34230b5beaa4d92ed9de7",
                            "style": "IPY_MODEL_52d69122e9114a86979255eb969895f1",
                            "value": "Epoch 1: 100%"
                        }
                    },
                    "2e742a9042594eed9d9619a1a6600368": {
                        "model_module": "@jupyter-widgets/base",
                        "model_module_version": "1.2.0",
                        "model_name": "LayoutModel",
                        "state": {}
                    },
                    "2f313b84716f4a27bc9e128f49b61515": {
                        "model_module": "@jupyter-widgets/base",
                        "model_module_version": "1.2.0",
                        "model_name": "LayoutModel",
                        "state": {}
                    },
                    "2f6ad15031684f2585e413d42ae8410b": {
                        "model_module": "@jupyter-widgets/controls",
                        "model_module_version": "1.5.0",
                        "model_name": "HTMLModel",
                        "state": {
                            "layout": "IPY_MODEL_42208c0cb3594664a5bd9ab94b74075e",
                            "style": "IPY_MODEL_62b767314de14927b61b2b869b2ffff9",
                            "value": " 599/599 [43:49&lt;00:00,  7.69s/ batchs, lr=0.003, train_acc=0.982, train_f1=0.737, train_loss=0.048, train_precision=0.818, train_recall=0.671, val_acc=0.982, val_f1=0.719, val_loss=0.050, val_precision=0.837, val_recall=0.630]"
                        }
                    },
                    "2f7a4e9c5d9249979901576d5e089e7c": {
                        "model_module": "@jupyter-widgets/controls",
                        "model_module_version": "1.5.0",
                        "model_name": "HTMLModel",
                        "state": {
                            "layout": "IPY_MODEL_4c3a7793ba0a4e2e891c712781b2dd8f",
                            "style": "IPY_MODEL_559b8c302a0545fc925eedd6876381ee",
                            "value": "Epoch 4: 100%"
                        }
                    },
                    "2fab9e980fcd4005b17bc6e47ea29097": {
                        "model_module": "@jupyter-widgets/base",
                        "model_module_version": "1.2.0",
                        "model_name": "LayoutModel",
                        "state": {}
                    },
                    "2fe1b497fb53405492cc799ed9c30360": {
                        "model_module": "@jupyter-widgets/controls",
                        "model_module_version": "1.5.0",
                        "model_name": "HBoxModel",
                        "state": {
                            "children": [
                                "IPY_MODEL_6a11e65065384e0bbac26f43b49bac42",
                                "IPY_MODEL_827a7820e06f4806a0bcd672d76471d6",
                                "IPY_MODEL_293e309ead3846ce9511acaf41ba2f80"
                            ],
                            "layout": "IPY_MODEL_411cf77a425c435dab50bb751f9acdd2"
                        }
                    },
                    "302604ea45f5482db837d1e25c5ddb36": {
                        "model_module": "@jupyter-widgets/base",
                        "model_module_version": "1.2.0",
                        "model_name": "LayoutModel",
                        "state": {}
                    },
                    "3086295f21fc47b3b867a7e5b401cceb": {
                        "model_module": "@jupyter-widgets/controls",
                        "model_module_version": "1.5.0",
                        "model_name": "ProgressStyleModel",
                        "state": {
                            "description_width": ""
                        }
                    },
                    "32001884857a42bea95685df88b5a741": {
                        "model_module": "@jupyter-widgets/base",
                        "model_module_version": "1.2.0",
                        "model_name": "LayoutModel",
                        "state": {}
                    },
                    "32001b90c1b543e9955eb46887e1d073": {
                        "model_module": "@jupyter-widgets/base",
                        "model_module_version": "1.2.0",
                        "model_name": "LayoutModel",
                        "state": {}
                    },
                    "3270168317ea4072b5c37c61d5715419": {
                        "model_module": "@jupyter-widgets/controls",
                        "model_module_version": "1.5.0",
                        "model_name": "FloatProgressModel",
                        "state": {
                            "bar_style": "success",
                            "layout": "IPY_MODEL_76abcec25a8649568e981b7c1c9c872b",
                            "max": 117,
                            "style": "IPY_MODEL_4cf1225414b24a6293b607fae0cc98c1",
                            "value": 117
                        }
                    },
                    "329f5e4cbbde47d6bb5129b53052ca8b": {
                        "model_module": "@jupyter-widgets/controls",
                        "model_module_version": "1.5.0",
                        "model_name": "HTMLModel",
                        "state": {
                            "layout": "IPY_MODEL_c8ef06e64ffc474eba15561d09fb3cc6",
                            "style": "IPY_MODEL_1d4f23ff6e4f4e91970ab0dc7afb143f",
                            "value": "Epoch 13: 100%"
                        }
                    },
                    "32d0a037b2dc4df48b863c463559a128": {
                        "model_module": "@jupyter-widgets/controls",
                        "model_module_version": "1.5.0",
                        "model_name": "FloatProgressModel",
                        "state": {
                            "layout": "IPY_MODEL_0185c8a34768449f99dfc7961a3bc2c5",
                            "max": 3740,
                            "style": "IPY_MODEL_a844bc4ce7824dfa97d874d6a77b18d8",
                            "value": 3740
                        }
                    },
                    "339121d4b0ee4d6dae0c950b676b3de6": {
                        "model_module": "@jupyter-widgets/controls",
                        "model_module_version": "1.5.0",
                        "model_name": "FloatProgressModel",
                        "state": {
                            "bar_style": "success",
                            "layout": "IPY_MODEL_2e742a9042594eed9d9619a1a6600368",
                            "max": 599,
                            "style": "IPY_MODEL_032e65fc58294f8cb472c9f82f841c87",
                            "value": 599
                        }
                    },
                    "357dbb4d30124c18ba52b1ac1138edaa": {
                        "model_module": "@jupyter-widgets/controls",
                        "model_module_version": "1.5.0",
                        "model_name": "HTMLModel",
                        "state": {
                            "layout": "IPY_MODEL_a907db7693d2488db74c1fdc6f42f0f5",
                            "style": "IPY_MODEL_9528c538583d439f84456e4417311335",
                            "value": " 3212/3740 [1:07:43&lt;00:50, 10.41 batchs/s, lr=0.005, train_acc=0.963, train_f1=0.00e+00, train_loss=0.151, train_precision=0.00e+00, train_recall=0.00e+00]"
                        }
                    },
                    "3600d557f6b746d4b686b6d7afc96d72": {
                        "model_module": "@jupyter-widgets/controls",
                        "model_module_version": "1.5.0",
                        "model_name": "ProgressStyleModel",
                        "state": {
                            "description_width": ""
                        }
                    },
                    "36928bc2c74649fda969a764dd2a2105": {
                        "model_module": "@jupyter-widgets/controls",
                        "model_module_version": "1.5.0",
                        "model_name": "DescriptionStyleModel",
                        "state": {
                            "description_width": ""
                        }
                    },
                    "37e9ffdc8d634c70ba6b801203b8df7a": {
                        "model_module": "@jupyter-widgets/base",
                        "model_module_version": "1.2.0",
                        "model_name": "LayoutModel",
                        "state": {}
                    },
                    "38f9d5c6a445466e8fe903a2fd3e65b8": {
                        "model_module": "@jupyter-widgets/controls",
                        "model_module_version": "1.5.0",
                        "model_name": "DescriptionStyleModel",
                        "state": {
                            "description_width": ""
                        }
                    },
                    "39931efd29ea44c685ccfc1e7b34fc99": {
                        "model_module": "@jupyter-widgets/base",
                        "model_module_version": "1.2.0",
                        "model_name": "LayoutModel",
                        "state": {}
                    },
                    "39fbc13916bd4a43b59615554d1596f9": {
                        "model_module": "@jupyter-widgets/controls",
                        "model_module_version": "1.5.0",
                        "model_name": "FloatProgressModel",
                        "state": {
                            "bar_style": "success",
                            "layout": "IPY_MODEL_88adb31d077b40298229de36abd49ce1",
                            "max": 117,
                            "style": "IPY_MODEL_501b13010dac4121baba2324dee3d040",
                            "value": 117
                        }
                    },
                    "3ad649dbcd3046b39dc4877703e3ad97": {
                        "model_module": "@jupyter-widgets/controls",
                        "model_module_version": "1.5.0",
                        "model_name": "DescriptionStyleModel",
                        "state": {
                            "description_width": ""
                        }
                    },
                    "3b41c71752064570beb9103dfff0a121": {
                        "model_module": "@jupyter-widgets/controls",
                        "model_module_version": "1.5.0",
                        "model_name": "ProgressStyleModel",
                        "state": {
                            "description_width": ""
                        }
                    },
                    "3bfc0a02b76b42c6963a8a0595c69122": {
                        "model_module": "@jupyter-widgets/base",
                        "model_module_version": "1.2.0",
                        "model_name": "LayoutModel",
                        "state": {}
                    },
                    "3bfedcb3c8cb48ec90871cb1427abe5c": {
                        "model_module": "@jupyter-widgets/base",
                        "model_module_version": "1.2.0",
                        "model_name": "LayoutModel",
                        "state": {}
                    },
                    "3c04e7868431499ba073fdda695a011e": {
                        "model_module": "@jupyter-widgets/base",
                        "model_module_version": "1.2.0",
                        "model_name": "LayoutModel",
                        "state": {}
                    },
                    "3c4fbb5b68dd4eb0b3e1ca4677b48505": {
                        "model_module": "@jupyter-widgets/controls",
                        "model_module_version": "1.5.0",
                        "model_name": "DescriptionStyleModel",
                        "state": {
                            "description_width": ""
                        }
                    },
                    "3d9188c42c0849ef9d0eab556255d9ec": {
                        "model_module": "@jupyter-widgets/base",
                        "model_module_version": "1.2.0",
                        "model_name": "LayoutModel",
                        "state": {}
                    },
                    "3e939dcd5584499f8599f5f5588b552c": {
                        "model_module": "@jupyter-widgets/controls",
                        "model_module_version": "1.5.0",
                        "model_name": "HTMLModel",
                        "state": {
                            "layout": "IPY_MODEL_ba3af3b7081f4bbe95af8a51d40613be",
                            "style": "IPY_MODEL_deb1c04459a94943919f386a8b9649d9",
                            "value": "Epoch 2:  89%"
                        }
                    },
                    "3f460f3b2636429d8001096ff314c18c": {
                        "model_module": "@jupyter-widgets/controls",
                        "model_module_version": "1.5.0",
                        "model_name": "FloatProgressModel",
                        "state": {
                            "layout": "IPY_MODEL_b922a3f791c04b028fbd5fd6b6a478c9",
                            "max": 10,
                            "style": "IPY_MODEL_3600d557f6b746d4b686b6d7afc96d72",
                            "value": 1
                        }
                    },
                    "3f572df5973c42f3ba96d8d13b89f65c": {
                        "model_module": "@jupyter-widgets/controls",
                        "model_module_version": "1.5.0",
                        "model_name": "DescriptionStyleModel",
                        "state": {
                            "description_width": ""
                        }
                    },
                    "409ea68f4c914492939bf5b3b79f58b7": {
                        "model_module": "@jupyter-widgets/base",
                        "model_module_version": "1.2.0",
                        "model_name": "LayoutModel",
                        "state": {}
                    },
                    "411cf77a425c435dab50bb751f9acdd2": {
                        "model_module": "@jupyter-widgets/base",
                        "model_module_version": "1.2.0",
                        "model_name": "LayoutModel",
                        "state": {}
                    },
                    "42208c0cb3594664a5bd9ab94b74075e": {
                        "model_module": "@jupyter-widgets/base",
                        "model_module_version": "1.2.0",
                        "model_name": "LayoutModel",
                        "state": {}
                    },
                    "42c383dd21c544788733d6fe4c4d4dd8": {
                        "model_module": "@jupyter-widgets/base",
                        "model_module_version": "1.2.0",
                        "model_name": "LayoutModel",
                        "state": {}
                    },
                    "436461ba2eec441db9ce54b38dbccbcb": {
                        "model_module": "@jupyter-widgets/controls",
                        "model_module_version": "1.5.0",
                        "model_name": "HBoxModel",
                        "state": {
                            "children": [
                                "IPY_MODEL_0e67aae04eef483c8a0e19e4c89fc149",
                                "IPY_MODEL_bca83de81c23497db5f6d142b1c4022c",
                                "IPY_MODEL_4aba18361b6f41568faf7489b1e83f46"
                            ],
                            "layout": "IPY_MODEL_42c383dd21c544788733d6fe4c4d4dd8"
                        }
                    },
                    "43e4c474973e4c2dbb73c926d6de70f1": {
                        "model_module": "@jupyter-widgets/base",
                        "model_module_version": "1.2.0",
                        "model_name": "LayoutModel",
                        "state": {}
                    },
                    "4404d661bac7428a83ff7743b57b51c9": {
                        "model_module": "@jupyter-widgets/controls",
                        "model_module_version": "1.5.0",
                        "model_name": "FloatProgressModel",
                        "state": {
                            "bar_style": "success",
                            "layout": "IPY_MODEL_0037db186d5248c0929848baee5ad15c",
                            "max": 599,
                            "style": "IPY_MODEL_f6573cfeb0ee4d29a25938218eadee29",
                            "value": 599
                        }
                    },
                    "459c2115ffac461a92b2053b168761bf": {
                        "model_module": "@jupyter-widgets/base",
                        "model_module_version": "1.2.0",
                        "model_name": "LayoutModel",
                        "state": {}
                    },
                    "45c9e01e21874a9eb7aa9b0d24d50847": {
                        "model_module": "@jupyter-widgets/base",
                        "model_module_version": "1.2.0",
                        "model_name": "LayoutModel",
                        "state": {}
                    },
                    "45d1fc633f3f40c2ade85c4e0dcfd16c": {
                        "model_module": "@jupyter-widgets/controls",
                        "model_module_version": "1.5.0",
                        "model_name": "HTMLModel",
                        "state": {
                            "layout": "IPY_MODEL_d2b8735d4add43b08e882b5ace675205",
                            "style": "IPY_MODEL_53ff610e58c547ffb35ff671d871618f",
                            "value": "Epoch 4:  86%"
                        }
                    },
                    "45f8260f4c044fac9318cfc3c0f51b81": {
                        "model_module": "@jupyter-widgets/controls",
                        "model_module_version": "1.5.0",
                        "model_name": "HTMLModel",
                        "state": {
                            "layout": "IPY_MODEL_d0eabb754977474b9b1142df68bd8902",
                            "style": "IPY_MODEL_7a6346abdbb44f1880804b4cf2c631f7",
                            "value": "Epoch 3: 100%"
                        }
                    },
                    "465c81d292884ac0a39dc593e2f880c9": {
                        "model_module": "@jupyter-widgets/controls",
                        "model_module_version": "1.5.0",
                        "model_name": "FloatProgressModel",
                        "state": {
                            "bar_style": "success",
                            "layout": "IPY_MODEL_b9403b27f8ca479e99b56f2cf8672f0c",
                            "max": 117,
                            "style": "IPY_MODEL_6be31af1650f426da80b92588031ccae",
                            "value": 117
                        }
                    },
                    "47114e86171048bebabe6a7b2ac675cc": {
                        "model_module": "@jupyter-widgets/controls",
                        "model_module_version": "1.5.0",
                        "model_name": "DescriptionStyleModel",
                        "state": {
                            "description_width": ""
                        }
                    },
                    "4765a93fa1314beaab3d330ea51dcb53": {
                        "model_module": "@jupyter-widgets/controls",
                        "model_module_version": "1.5.0",
                        "model_name": "HTMLModel",
                        "state": {
                            "layout": "IPY_MODEL_8029b88cf5ba4d218ebb5f4cd8ec4023",
                            "style": "IPY_MODEL_ed8563cb00864d20add3c071125a34b6",
                            "value": "Epoch 2: 100%"
                        }
                    },
                    "47948d92d7f94270abdd1e02e089deaf": {
                        "model_module": "@jupyter-widgets/controls",
                        "model_module_version": "1.5.0",
                        "model_name": "FloatProgressModel",
                        "state": {
                            "bar_style": "success",
                            "layout": "IPY_MODEL_5639ede2afcd4ad7b356646578c7436a",
                            "max": 599,
                            "style": "IPY_MODEL_abccd13ab5754db68a7002f34ecab332",
                            "value": 599
                        }
                    },
                    "4852cad44bad489a8c083db37a0f189b": {
                        "model_module": "@jupyter-widgets/base",
                        "model_module_version": "1.2.0",
                        "model_name": "LayoutModel",
                        "state": {}
                    },
                    "493b8959bc8a4eeca8af9b189889c14f": {
                        "model_module": "@jupyter-widgets/controls",
                        "model_module_version": "1.5.0",
                        "model_name": "FloatProgressModel",
                        "state": {
                            "bar_style": "success",
                            "layout": "IPY_MODEL_ab95d484112345cfb723ba2d70d1250e",
                            "max": 599,
                            "style": "IPY_MODEL_ebfc010379e34c60beb4e45ee45af02b",
                            "value": 599
                        }
                    },
                    "49c30e556c0246f1b450a14d901fc1ae": {
                        "model_module": "@jupyter-widgets/base",
                        "model_module_version": "1.2.0",
                        "model_name": "LayoutModel",
                        "state": {}
                    },
                    "4a6c122cabc7437eb89161e4dd2f8b08": {
                        "model_module": "@jupyter-widgets/base",
                        "model_module_version": "1.2.0",
                        "model_name": "LayoutModel",
                        "state": {}
                    },
                    "4aba18361b6f41568faf7489b1e83f46": {
                        "model_module": "@jupyter-widgets/controls",
                        "model_module_version": "1.5.0",
                        "model_name": "HTMLModel",
                        "state": {
                            "layout": "IPY_MODEL_2c89f4bfb71841adbffe0ab16d167f3c",
                            "style": "IPY_MODEL_ded577292d644cbeacb7f87af13b5595",
                            "value": " 117/117 [07:04&lt;00:00,  3.72s/ batchs, lr=0.002, train_acc=0.984, train_f1=0.757, train_loss=0.044, train_precision=0.879, train_recall=0.665, val_acc=0.980, val_f1=0.683, val_loss=0.063, val_precision=0.803, val_recall=0.595]"
                        }
                    },
                    "4bcc5855cfed4be993adf2d653c9a6d6": {
                        "model_module": "@jupyter-widgets/controls",
                        "model_module_version": "1.5.0",
                        "model_name": "DescriptionStyleModel",
                        "state": {
                            "description_width": ""
                        }
                    },
                    "4bea06dc10a041268ef4a497c69de38c": {
                        "model_module": "@jupyter-widgets/controls",
                        "model_module_version": "1.5.0",
                        "model_name": "DescriptionStyleModel",
                        "state": {
                            "description_width": ""
                        }
                    },
                    "4c3a7793ba0a4e2e891c712781b2dd8f": {
                        "model_module": "@jupyter-widgets/base",
                        "model_module_version": "1.2.0",
                        "model_name": "LayoutModel",
                        "state": {}
                    },
                    "4cf1225414b24a6293b607fae0cc98c1": {
                        "model_module": "@jupyter-widgets/controls",
                        "model_module_version": "1.5.0",
                        "model_name": "ProgressStyleModel",
                        "state": {
                            "description_width": ""
                        }
                    },
                    "4dcdb06a3bb942398054cd369ee0019e": {
                        "model_module": "@jupyter-widgets/controls",
                        "model_module_version": "1.5.0",
                        "model_name": "HTMLModel",
                        "state": {
                            "layout": "IPY_MODEL_cb921fd016f44c69ac724a530ed32a32",
                            "style": "IPY_MODEL_3f572df5973c42f3ba96d8d13b89f65c",
                            "value": " 3740/3740 [1:56:11&lt;00:00,  7.73s/ batchs, lr=0.008, train_acc=0.963, train_f1=3.03e-04, train_loss=0.154, train_precision=0.080, train_recall=1.52e-04, val_acc=0.963, val_f1=0.00e+00, val_loss=0.148, val_precision=0.00e+00, val_recall=0.00e+00]"
                        }
                    },
                    "4eb6edc8539744cb83e5471fb1abef2f": {
                        "model_module": "@jupyter-widgets/controls",
                        "model_module_version": "1.5.0",
                        "model_name": "FloatProgressModel",
                        "state": {
                            "bar_style": "success",
                            "layout": "IPY_MODEL_ea2715dc75894f33ac5afc8628a58f17",
                            "max": 15,
                            "style": "IPY_MODEL_0e88f438abb249d3bdda90eee07ee330",
                            "value": 15
                        }
                    },
                    "4ecb8c7d62d641509534302c754d19cc": {
                        "model_module": "@jupyter-widgets/controls",
                        "model_module_version": "1.5.0",
                        "model_name": "ProgressStyleModel",
                        "state": {
                            "description_width": ""
                        }
                    },
                    "4f644106cc2f4f9694139ab2ec2f5c07": {
                        "model_module": "@jupyter-widgets/controls",
                        "model_module_version": "1.5.0",
                        "model_name": "DescriptionStyleModel",
                        "state": {
                            "description_width": ""
                        }
                    },
                    "4fa6e669c9a048f09afc1af11606d587": {
                        "model_module": "@jupyter-widgets/controls",
                        "model_module_version": "1.5.0",
                        "model_name": "DescriptionStyleModel",
                        "state": {
                            "description_width": ""
                        }
                    },
                    "501b13010dac4121baba2324dee3d040": {
                        "model_module": "@jupyter-widgets/controls",
                        "model_module_version": "1.5.0",
                        "model_name": "ProgressStyleModel",
                        "state": {
                            "description_width": ""
                        }
                    },
                    "5175e9bcae0041eab14faa40a47f1f00": {
                        "model_module": "@jupyter-widgets/base",
                        "model_module_version": "1.2.0",
                        "model_name": "LayoutModel",
                        "state": {}
                    },
                    "527452a58ddd455f82643d608643a343": {
                        "model_module": "@jupyter-widgets/controls",
                        "model_module_version": "1.5.0",
                        "model_name": "DescriptionStyleModel",
                        "state": {
                            "description_width": ""
                        }
                    },
                    "52d69122e9114a86979255eb969895f1": {
                        "model_module": "@jupyter-widgets/controls",
                        "model_module_version": "1.5.0",
                        "model_name": "DescriptionStyleModel",
                        "state": {
                            "description_width": ""
                        }
                    },
                    "53c2aafdcd8f485d8a9b9555d906bdaf": {
                        "model_module": "@jupyter-widgets/base",
                        "model_module_version": "1.2.0",
                        "model_name": "LayoutModel",
                        "state": {}
                    },
                    "53daf7958c2943f2b8544b7c9e1abad7": {
                        "model_module": "@jupyter-widgets/base",
                        "model_module_version": "1.2.0",
                        "model_name": "LayoutModel",
                        "state": {}
                    },
                    "53ff610e58c547ffb35ff671d871618f": {
                        "model_module": "@jupyter-widgets/controls",
                        "model_module_version": "1.5.0",
                        "model_name": "DescriptionStyleModel",
                        "state": {
                            "description_width": ""
                        }
                    },
                    "54d781a641184876a21697b5f5054d3f": {
                        "model_module": "@jupyter-widgets/base",
                        "model_module_version": "1.2.0",
                        "model_name": "LayoutModel",
                        "state": {}
                    },
                    "5545fd6de71840e5ad9519a05c875980": {
                        "model_module": "@jupyter-widgets/base",
                        "model_module_version": "1.2.0",
                        "model_name": "LayoutModel",
                        "state": {}
                    },
                    "559b8c302a0545fc925eedd6876381ee": {
                        "model_module": "@jupyter-widgets/controls",
                        "model_module_version": "1.5.0",
                        "model_name": "DescriptionStyleModel",
                        "state": {
                            "description_width": ""
                        }
                    },
                    "55eaef1c50ca478398f5915baae3d59b": {
                        "model_module": "@jupyter-widgets/controls",
                        "model_module_version": "1.5.0",
                        "model_name": "HBoxModel",
                        "state": {
                            "children": [
                                "IPY_MODEL_640dee3eb2094168adea1efb2f30750b",
                                "IPY_MODEL_9cab0ca71d324e3a99f15361b24a553a",
                                "IPY_MODEL_f192b76d22ba4d4e9374af2bb992ee7d"
                            ],
                            "layout": "IPY_MODEL_a42c06c4d2ff42ba94f42ca1432be644"
                        }
                    },
                    "5639ede2afcd4ad7b356646578c7436a": {
                        "model_module": "@jupyter-widgets/base",
                        "model_module_version": "1.2.0",
                        "model_name": "LayoutModel",
                        "state": {}
                    },
                    "565ef6537e9949698bc8a86688f56a33": {
                        "model_module": "@jupyter-widgets/controls",
                        "model_module_version": "1.5.0",
                        "model_name": "DescriptionStyleModel",
                        "state": {
                            "description_width": ""
                        }
                    },
                    "5791463cb1684de4b4426409a24e9f39": {
                        "model_module": "@jupyter-widgets/controls",
                        "model_module_version": "1.5.0",
                        "model_name": "HTMLModel",
                        "state": {
                            "layout": "IPY_MODEL_0d6a5ec87f4b4d0d9eac34b45000d12d",
                            "style": "IPY_MODEL_38f9d5c6a445466e8fe903a2fd3e65b8",
                            "value": "Epoch 14: 100%"
                        }
                    },
                    "57ebd6ecafe54b6aba1a9d0f9e3a1376": {
                        "model_module": "@jupyter-widgets/controls",
                        "model_module_version": "1.5.0",
                        "model_name": "HTMLModel",
                        "state": {
                            "layout": "IPY_MODEL_9a6414f3a687402bad07f6ee2b93205e",
                            "style": "IPY_MODEL_d01a0bfa961148f4ad5e1b666e8ff9b7",
                            "value": "  0%"
                        }
                    },
                    "58bafb88581241e9a0e98d9fd5af2dce": {
                        "model_module": "@jupyter-widgets/base",
                        "model_module_version": "1.2.0",
                        "model_name": "LayoutModel",
                        "state": {}
                    },
                    "58c44ccf649146e5b8a8f86707d3b368": {
                        "model_module": "@jupyter-widgets/controls",
                        "model_module_version": "1.5.0",
                        "model_name": "DescriptionStyleModel",
                        "state": {
                            "description_width": ""
                        }
                    },
                    "59a6de7525ee44e4b362e2956af4776b": {
                        "model_module": "@jupyter-widgets/base",
                        "model_module_version": "1.2.0",
                        "model_name": "LayoutModel",
                        "state": {}
                    },
                    "59bd1a7cb1b944e79f9bede29ab7ba01": {
                        "model_module": "@jupyter-widgets/controls",
                        "model_module_version": "1.5.0",
                        "model_name": "DescriptionStyleModel",
                        "state": {
                            "description_width": ""
                        }
                    },
                    "5a00e470f30942bea6c71eefebc1e778": {
                        "model_module": "@jupyter-widgets/controls",
                        "model_module_version": "1.5.0",
                        "model_name": "HTMLModel",
                        "state": {
                            "layout": "IPY_MODEL_5dbd098555fb44808233fdefe75275f8",
                            "style": "IPY_MODEL_f31944190fe14a33b33af1122e3a6795",
                            "value": "100%"
                        }
                    },
                    "5a635c9e2bfd45c0a76441a538589ca7": {
                        "model_module": "@jupyter-widgets/base",
                        "model_module_version": "1.2.0",
                        "model_name": "LayoutModel",
                        "state": {}
                    },
                    "5ac4cfdfcfcc42a8b516e2e33f13e7c7": {
                        "model_module": "@jupyter-widgets/controls",
                        "model_module_version": "1.5.0",
                        "model_name": "DescriptionStyleModel",
                        "state": {
                            "description_width": ""
                        }
                    },
                    "5acdb2f0ff074570972a1ccb811539ef": {
                        "model_module": "@jupyter-widgets/controls",
                        "model_module_version": "1.5.0",
                        "model_name": "DescriptionStyleModel",
                        "state": {
                            "description_width": ""
                        }
                    },
                    "5b3494112fa6449cadf9b8b1da2a7d46": {
                        "model_module": "@jupyter-widgets/controls",
                        "model_module_version": "1.5.0",
                        "model_name": "DescriptionStyleModel",
                        "state": {
                            "description_width": ""
                        }
                    },
                    "5c598dd21f06457b8226cf37a2cf327c": {
                        "model_module": "@jupyter-widgets/controls",
                        "model_module_version": "1.5.0",
                        "model_name": "ProgressStyleModel",
                        "state": {
                            "description_width": ""
                        }
                    },
                    "5ce5a789f2374235bc61efa92d14418b": {
                        "model_module": "@jupyter-widgets/base",
                        "model_module_version": "1.2.0",
                        "model_name": "LayoutModel",
                        "state": {}
                    },
                    "5ce9bfafef054dbc8440a7c83ecffe42": {
                        "model_module": "@jupyter-widgets/base",
                        "model_module_version": "1.2.0",
                        "model_name": "LayoutModel",
                        "state": {}
                    },
                    "5dbd098555fb44808233fdefe75275f8": {
                        "model_module": "@jupyter-widgets/base",
                        "model_module_version": "1.2.0",
                        "model_name": "LayoutModel",
                        "state": {}
                    },
                    "5dd3f9cc098e40b1ba21bbc1cd6b6223": {
                        "model_module": "@jupyter-widgets/controls",
                        "model_module_version": "1.5.0",
                        "model_name": "HBoxModel",
                        "state": {
                            "children": [
                                "IPY_MODEL_e7098e646a8d486089083f2853373292",
                                "IPY_MODEL_6a0fdc9c6e734463934d9d143a8c2479",
                                "IPY_MODEL_08f1d58af6f1469f9747c673b61fb90d"
                            ],
                            "layout": "IPY_MODEL_58bafb88581241e9a0e98d9fd5af2dce"
                        }
                    },
                    "5e109b85cd6a4ee1ab251304986c9230": {
                        "model_module": "@jupyter-widgets/controls",
                        "model_module_version": "1.5.0",
                        "model_name": "DescriptionStyleModel",
                        "state": {
                            "description_width": ""
                        }
                    },
                    "5e33238105ea43149a600b07bb8243c9": {
                        "model_module": "@jupyter-widgets/base",
                        "model_module_version": "1.2.0",
                        "model_name": "LayoutModel",
                        "state": {}
                    },
                    "5ea287e8f4c74dec8f9921127159e503": {
                        "model_module": "@jupyter-widgets/controls",
                        "model_module_version": "1.5.0",
                        "model_name": "HTMLModel",
                        "state": {
                            "layout": "IPY_MODEL_9dce36ab3d9c43fc89b073953c2273dc",
                            "style": "IPY_MODEL_ca1ad5a6ccb747aeb6a63656880fc8ec",
                            "value": " 0/10 [40:28&lt;?, ?epoch/s]"
                        }
                    },
                    "5ec441bc3c3b441a9bc9d11bd182e5da": {
                        "model_module": "@jupyter-widgets/controls",
                        "model_module_version": "1.5.0",
                        "model_name": "FloatProgressModel",
                        "state": {
                            "bar_style": "success",
                            "layout": "IPY_MODEL_b47cadc17d504cb3b09f62fbe8915ff1",
                            "max": 117,
                            "style": "IPY_MODEL_117b5170ea8f4bbc843b1f5e0e419332",
                            "value": 117
                        }
                    },
                    "612375b151f7451e9333811a50e47edb": {
                        "model_module": "@jupyter-widgets/controls",
                        "model_module_version": "1.5.0",
                        "model_name": "FloatProgressModel",
                        "state": {
                            "layout": "IPY_MODEL_8e092c7549514a5a9bae7b739800bdd7",
                            "max": 3740,
                            "style": "IPY_MODEL_fd412b938e944826ad6302d09376e072",
                            "value": 3740
                        }
                    },
                    "622e003eed9044c5ae3f20eb1168b2f8": {
                        "model_module": "@jupyter-widgets/controls",
                        "model_module_version": "1.5.0",
                        "model_name": "DescriptionStyleModel",
                        "state": {
                            "description_width": ""
                        }
                    },
                    "62b767314de14927b61b2b869b2ffff9": {
                        "model_module": "@jupyter-widgets/controls",
                        "model_module_version": "1.5.0",
                        "model_name": "DescriptionStyleModel",
                        "state": {
                            "description_width": ""
                        }
                    },
                    "62e4d05073d042da8a1b0cc04e1439d8": {
                        "model_module": "@jupyter-widgets/base",
                        "model_module_version": "1.2.0",
                        "model_name": "LayoutModel",
                        "state": {}
                    },
                    "640dee3eb2094168adea1efb2f30750b": {
                        "model_module": "@jupyter-widgets/controls",
                        "model_module_version": "1.5.0",
                        "model_name": "HTMLModel",
                        "state": {
                            "layout": "IPY_MODEL_409ea68f4c914492939bf5b3b79f58b7",
                            "style": "IPY_MODEL_a3758c7634d142f4889d28a4e3dcace5",
                            "value": "Epoch 7: 100%"
                        }
                    },
                    "6464ea5a5b884041b8bf00fb8e4e9ec2": {
                        "model_module": "@jupyter-widgets/controls",
                        "model_module_version": "1.5.0",
                        "model_name": "HTMLModel",
                        "state": {
                            "layout": "IPY_MODEL_e9d4939329d44363979c08572b7a6656",
                            "style": "IPY_MODEL_7761e6a154924a7fa0f049d24ca01a4f",
                            "value": " 3740/3740 [1:27:29&lt;00:00,  6.47s/ batchs, lr=0.010, train_acc=0.963, train_f1=6.79e-04, train_loss=0.155, train_precision=0.044, train_recall=3.42e-04, val_acc=0.963, val_f1=0.00e+00, val_loss=0.145, val_precision=0.00e+00, val_recall=0.00e+00]"
                        }
                    },
                    "649ab3d27ef1401dbfa49baa7d19edd1": {
                        "model_module": "@jupyter-widgets/controls",
                        "model_module_version": "1.5.0",
                        "model_name": "ProgressStyleModel",
                        "state": {
                            "description_width": ""
                        }
                    },
                    "6504809c2db34550970768d5efbd48af": {
                        "model_module": "@jupyter-widgets/controls",
                        "model_module_version": "1.5.0",
                        "model_name": "ProgressStyleModel",
                        "state": {
                            "description_width": ""
                        }
                    },
                    "652664279fac4f2585d19883e958cabd": {
                        "model_module": "@jupyter-widgets/controls",
                        "model_module_version": "1.5.0",
                        "model_name": "HTMLModel",
                        "state": {
                            "layout": "IPY_MODEL_ee15749369b946b1b7bbc2216252520c",
                            "style": "IPY_MODEL_90a8b29da98043e4a4ee6c75ce9ef420",
                            "value": " 599/599 [12:31&lt;00:00,  7.70s/ batchs, lr=8.39e-04, train_acc=0.987, train_f1=0.819, train_loss=0.032, train_precision=0.858, train_recall=0.783, val_acc=0.982, val_f1=0.723, val_loss=0.054, val_precision=0.809, val_recall=0.655]"
                        }
                    },
                    "659bf09b27da4fad8f5eb538364dbb09": {
                        "model_module": "@jupyter-widgets/controls",
                        "model_module_version": "1.5.0",
                        "model_name": "HTMLModel",
                        "state": {
                            "layout": "IPY_MODEL_86f86f584fbe4c76a05daca92f0913d8",
                            "style": "IPY_MODEL_9e9c3ae5b42245a5a567953c5d9f3cae",
                            "value": " 599/599 [18:47&lt;00:00,  7.67s/ batchs, lr=0.001, train_acc=0.986, train_f1=0.798, train_loss=0.035, train_precision=0.850, train_recall=0.752, val_acc=0.982, val_f1=0.732, val_loss=0.052, val_precision=0.799, val_recall=0.675]"
                        }
                    },
                    "663ee1d65d7c4f5a9bdf3c46edbbec07": {
                        "model_module": "@jupyter-widgets/base",
                        "model_module_version": "1.2.0",
                        "model_name": "LayoutModel",
                        "state": {}
                    },
                    "6646bd559b6e4450bd8e5e12581a344e": {
                        "model_module": "@jupyter-widgets/controls",
                        "model_module_version": "1.5.0",
                        "model_name": "HTMLModel",
                        "state": {
                            "layout": "IPY_MODEL_302604ea45f5482db837d1e25c5ddb36",
                            "style": "IPY_MODEL_a0424d2553964139b5d1385b1a7a9543",
                            "value": "Epoch 6: 100%"
                        }
                    },
                    "6939069290d54a80a62a588836036ef2": {
                        "model_module": "@jupyter-widgets/controls",
                        "model_module_version": "1.5.0",
                        "model_name": "ProgressStyleModel",
                        "state": {
                            "description_width": ""
                        }
                    },
                    "69db040e75ab4a0aaa438e52cc26765d": {
                        "model_module": "@jupyter-widgets/base",
                        "model_module_version": "1.2.0",
                        "model_name": "LayoutModel",
                        "state": {}
                    },
                    "69e5983e775d48adb8c55ace960ca687": {
                        "model_module": "@jupyter-widgets/controls",
                        "model_module_version": "1.5.0",
                        "model_name": "HTMLModel",
                        "state": {
                            "layout": "IPY_MODEL_c304a316fa524020afdc273ca32d2b9a",
                            "style": "IPY_MODEL_b43a48795505406ab86d2cfb40c9f191",
                            "value": "Epoch 9: 100%"
                        }
                    },
                    "6a0fdc9c6e734463934d9d143a8c2479": {
                        "model_module": "@jupyter-widgets/controls",
                        "model_module_version": "1.5.0",
                        "model_name": "FloatProgressModel",
                        "state": {
                            "bar_style": "success",
                            "layout": "IPY_MODEL_b94caa9afef8478896a75670555987d9",
                            "max": 599,
                            "style": "IPY_MODEL_ff9fe9461fbe46eeb4ae2fbccec685fc",
                            "value": 599
                        }
                    },
                    "6a11e65065384e0bbac26f43b49bac42": {
                        "model_module": "@jupyter-widgets/controls",
                        "model_module_version": "1.5.0",
                        "model_name": "HTMLModel",
                        "state": {
                            "layout": "IPY_MODEL_2070143875264f028bb7e5a12224afe9",
                            "style": "IPY_MODEL_1d6b75d4aeee4a47934c2c14c3369365",
                            "value": "Epoch 7: 100%"
                        }
                    },
                    "6a1ba16b26884c1db52c97f73c6f5dd0": {
                        "model_module": "@jupyter-widgets/base",
                        "model_module_version": "1.2.0",
                        "model_name": "LayoutModel",
                        "state": {}
                    },
                    "6ad2f1568cba40d887d6607b2409d6f2": {
                        "model_module": "@jupyter-widgets/controls",
                        "model_module_version": "1.5.0",
                        "model_name": "HBoxModel",
                        "state": {
                            "children": [
                                "IPY_MODEL_e46b822b5c7a45a1b1916d95d9049177",
                                "IPY_MODEL_24a6762e112340a3a4c1ba7a6247aad2",
                                "IPY_MODEL_dfb3dd3a25704787892c4bb4f51451b0"
                            ],
                            "layout": "IPY_MODEL_62e4d05073d042da8a1b0cc04e1439d8"
                        }
                    },
                    "6b0cb1f772ae474cb9969508f265681d": {
                        "model_module": "@jupyter-widgets/base",
                        "model_module_version": "1.2.0",
                        "model_name": "LayoutModel",
                        "state": {}
                    },
                    "6b3426a039a349b5bd71ecdc145e0256": {
                        "model_module": "@jupyter-widgets/controls",
                        "model_module_version": "1.5.0",
                        "model_name": "FloatProgressModel",
                        "state": {
                            "bar_style": "success",
                            "layout": "IPY_MODEL_8a697fb356f74614af3417e385ecf36d",
                            "max": 599,
                            "style": "IPY_MODEL_adff4c2ce73a4c0f9f1a352f7911bc4d",
                            "value": 599
                        }
                    },
                    "6bdc39fc9fb340e59d2c3faf9461c797": {
                        "model_module": "@jupyter-widgets/base",
                        "model_module_version": "1.2.0",
                        "model_name": "LayoutModel",
                        "state": {}
                    },
                    "6be31af1650f426da80b92588031ccae": {
                        "model_module": "@jupyter-widgets/controls",
                        "model_module_version": "1.5.0",
                        "model_name": "ProgressStyleModel",
                        "state": {
                            "description_width": ""
                        }
                    },
                    "6cd91706eddd44b9b83384c5345b2200": {
                        "model_module": "@jupyter-widgets/controls",
                        "model_module_version": "1.5.0",
                        "model_name": "FloatProgressModel",
                        "state": {
                            "bar_style": "success",
                            "layout": "IPY_MODEL_e49969c66ec14b5bb82b07de1013123b",
                            "max": 117,
                            "style": "IPY_MODEL_85b376a1f7434a3e9d895074012d87f6",
                            "value": 117
                        }
                    },
                    "6d95d80d7df541d3992268b02b294cc1": {
                        "model_module": "@jupyter-widgets/controls",
                        "model_module_version": "1.5.0",
                        "model_name": "ProgressStyleModel",
                        "state": {
                            "description_width": ""
                        }
                    },
                    "6e1a6df37fc640719baf442a2151288f": {
                        "model_module": "@jupyter-widgets/controls",
                        "model_module_version": "1.5.0",
                        "model_name": "ProgressStyleModel",
                        "state": {
                            "description_width": ""
                        }
                    },
                    "6ef3138680fc4d8fb62c4ff36c63e3cb": {
                        "model_module": "@jupyter-widgets/controls",
                        "model_module_version": "1.5.0",
                        "model_name": "HBoxModel",
                        "state": {
                            "children": [
                                "IPY_MODEL_0fc938ef7dfb478cabff582e66a71877",
                                "IPY_MODEL_add515ff2b5647d0a3690fa79356c643",
                                "IPY_MODEL_bac6d59160ec4641b1aa84d8e8bb4b8e"
                            ],
                            "layout": "IPY_MODEL_5175e9bcae0041eab14faa40a47f1f00"
                        }
                    },
                    "6fcfcec3843f45288add3301fb8a8eb8": {
                        "model_module": "@jupyter-widgets/controls",
                        "model_module_version": "1.5.0",
                        "model_name": "DescriptionStyleModel",
                        "state": {
                            "description_width": ""
                        }
                    },
                    "70bd4c72d1fb4ba88c7ca602c8df318f": {
                        "model_module": "@jupyter-widgets/controls",
                        "model_module_version": "1.5.0",
                        "model_name": "DescriptionStyleModel",
                        "state": {
                            "description_width": ""
                        }
                    },
                    "70d5522ead2c4c5cbe09c763dd7beaaf": {
                        "model_module": "@jupyter-widgets/controls",
                        "model_module_version": "1.5.0",
                        "model_name": "HTMLModel",
                        "state": {
                            "layout": "IPY_MODEL_92fd4ad76c99419784cf6370917d7673",
                            "style": "IPY_MODEL_0f25176555584d61b59c046a6270c8ec",
                            "value": "Epoch 6: 100%"
                        }
                    },
                    "7165dd34bb964c1f80c310e73ea96bdd": {
                        "model_module": "@jupyter-widgets/base",
                        "model_module_version": "1.2.0",
                        "model_name": "LayoutModel",
                        "state": {}
                    },
                    "72f9a805798b49daa99ff2aff6413e49": {
                        "model_module": "@jupyter-widgets/controls",
                        "model_module_version": "1.5.0",
                        "model_name": "HTMLModel",
                        "state": {
                            "layout": "IPY_MODEL_459c2115ffac461a92b2053b168761bf",
                            "style": "IPY_MODEL_527452a58ddd455f82643d608643a343",
                            "value": "Epoch 5: 100%"
                        }
                    },
                    "735eb566487949f69392f3ea49ad039a": {
                        "model_module": "@jupyter-widgets/controls",
                        "model_module_version": "1.5.0",
                        "model_name": "FloatProgressModel",
                        "state": {
                            "bar_style": "success",
                            "layout": "IPY_MODEL_7b46c1ba90b04ba3806a711227fac4bf",
                            "max": 117,
                            "style": "IPY_MODEL_178edcf77cc644848b8d93a561e5ad16",
                            "value": 117
                        }
                    },
                    "737f976eadfa4baca5976ee01cc1308a": {
                        "model_module": "@jupyter-widgets/base",
                        "model_module_version": "1.2.0",
                        "model_name": "LayoutModel",
                        "state": {}
                    },
                    "741556283e1b4ceca99245b057c54240": {
                        "model_module": "@jupyter-widgets/base",
                        "model_module_version": "1.2.0",
                        "model_name": "LayoutModel",
                        "state": {}
                    },
                    "7424175154404eeb9f3c52facf5ba236": {
                        "model_module": "@jupyter-widgets/base",
                        "model_module_version": "1.2.0",
                        "model_name": "LayoutModel",
                        "state": {}
                    },
                    "74bf5e3ac06342e49a375478f4f3149f": {
                        "model_module": "@jupyter-widgets/controls",
                        "model_module_version": "1.5.0",
                        "model_name": "HTMLModel",
                        "state": {
                            "layout": "IPY_MODEL_5545fd6de71840e5ad9519a05c875980",
                            "style": "IPY_MODEL_e33f0a4edfba4d13a641018e1758e555",
                            "value": " 117/117 [08:49&lt;00:00,  3.68s/ batchs, lr=0.003, train_acc=0.983, train_f1=0.742, train_loss=0.047, train_precision=0.870, train_recall=0.647, val_acc=0.980, val_f1=0.678, val_loss=0.063, val_precision=0.816, val_recall=0.580]"
                        }
                    },
                    "74ce202c5dfb4ebc9ec1603490de151f": {
                        "model_module": "@jupyter-widgets/controls",
                        "model_module_version": "1.5.0",
                        "model_name": "DescriptionStyleModel",
                        "state": {
                            "description_width": ""
                        }
                    },
                    "75075c7d77d84ef9bb2930e9bf1bda74": {
                        "model_module": "@jupyter-widgets/controls",
                        "model_module_version": "1.5.0",
                        "model_name": "DescriptionStyleModel",
                        "state": {
                            "description_width": ""
                        }
                    },
                    "7529ee09537144ed96f451648bb39c9d": {
                        "model_module": "@jupyter-widgets/controls",
                        "model_module_version": "1.5.0",
                        "model_name": "HTMLModel",
                        "state": {
                            "layout": "IPY_MODEL_2fab9e980fcd4005b17bc6e47ea29097",
                            "style": "IPY_MODEL_3c4fbb5b68dd4eb0b3e1ca4677b48505",
                            "value": "Epoch 5: 100%"
                        }
                    },
                    "755a4a46d8fe4abaadf39531947d1c3a": {
                        "model_module": "@jupyter-widgets/base",
                        "model_module_version": "1.2.0",
                        "model_name": "LayoutModel",
                        "state": {}
                    },
                    "76abcec25a8649568e981b7c1c9c872b": {
                        "model_module": "@jupyter-widgets/base",
                        "model_module_version": "1.2.0",
                        "model_name": "LayoutModel",
                        "state": {}
                    },
                    "7761e6a154924a7fa0f049d24ca01a4f": {
                        "model_module": "@jupyter-widgets/controls",
                        "model_module_version": "1.5.0",
                        "model_name": "DescriptionStyleModel",
                        "state": {
                            "description_width": ""
                        }
                    },
                    "786773858cb84957b19bcabf2d9a68b7": {
                        "model_module": "@jupyter-widgets/base",
                        "model_module_version": "1.2.0",
                        "model_name": "LayoutModel",
                        "state": {}
                    },
                    "78783475a0cc4b758b4a977e28fed4c4": {
                        "model_module": "@jupyter-widgets/base",
                        "model_module_version": "1.2.0",
                        "model_name": "LayoutModel",
                        "state": {}
                    },
                    "790848af4a724b76986dba32f6a2d0c2": {
                        "model_module": "@jupyter-widgets/controls",
                        "model_module_version": "1.5.0",
                        "model_name": "HBoxModel",
                        "state": {
                            "children": [
                                "IPY_MODEL_9aa95eefae874ec5a1b58e65a35bf1ce",
                                "IPY_MODEL_26209b0cdc234decbdfa7441afeee86b",
                                "IPY_MODEL_13108b4f692a4669a0db6756ee74d206"
                            ],
                            "layout": "IPY_MODEL_972188817dd24ab19597025d73a22046"
                        }
                    },
                    "7960aa04598e4782984d8fb6532d7d00": {
                        "model_module": "@jupyter-widgets/controls",
                        "model_module_version": "1.5.0",
                        "model_name": "DescriptionStyleModel",
                        "state": {
                            "description_width": ""
                        }
                    },
                    "79653ffde6e94703890f8dbc17fceab5": {
                        "model_module": "@jupyter-widgets/controls",
                        "model_module_version": "1.5.0",
                        "model_name": "HTMLModel",
                        "state": {
                            "layout": "IPY_MODEL_2f313b84716f4a27bc9e128f49b61515",
                            "style": "IPY_MODEL_74ce202c5dfb4ebc9ec1603490de151f",
                            "value": "Epoch 9: 100%"
                        }
                    },
                    "79ea64ddd35242b796426c812b4f5af0": {
                        "model_module": "@jupyter-widgets/base",
                        "model_module_version": "1.2.0",
                        "model_name": "LayoutModel",
                        "state": {}
                    },
                    "7a6346abdbb44f1880804b4cf2c631f7": {
                        "model_module": "@jupyter-widgets/controls",
                        "model_module_version": "1.5.0",
                        "model_name": "DescriptionStyleModel",
                        "state": {
                            "description_width": ""
                        }
                    },
                    "7b46c1ba90b04ba3806a711227fac4bf": {
                        "model_module": "@jupyter-widgets/base",
                        "model_module_version": "1.2.0",
                        "model_name": "LayoutModel",
                        "state": {}
                    },
                    "7b9ce32612d8425889ee1984e93291de": {
                        "model_module": "@jupyter-widgets/controls",
                        "model_module_version": "1.5.0",
                        "model_name": "FloatProgressModel",
                        "state": {
                            "bar_style": "success",
                            "layout": "IPY_MODEL_83d28d937fca4ad2a1e8260bd577b4a6",
                            "max": 10,
                            "style": "IPY_MODEL_6e1a6df37fc640719baf442a2151288f",
                            "value": 10
                        }
                    },
                    "7bd0489c752341da9235e020aabf0b66": {
                        "model_module": "@jupyter-widgets/base",
                        "model_module_version": "1.2.0",
                        "model_name": "LayoutModel",
                        "state": {}
                    },
                    "7ce8cf674fb343f3acaafec07c67e35a": {
                        "model_module": "@jupyter-widgets/controls",
                        "model_module_version": "1.5.0",
                        "model_name": "HTMLModel",
                        "state": {
                            "layout": "IPY_MODEL_2e0f6593aa6b4b86b4f84d1c60d4400d",
                            "style": "IPY_MODEL_5b3494112fa6449cadf9b8b1da2a7d46",
                            "value": " 3740/3740 [1:14:18&lt;00:00,  6.48s/ batchs, lr=0.006, train_acc=0.963, train_f1=1.51e-04, train_loss=0.153, train_precision=0.013, train_recall=7.60e-05, val_acc=0.963, val_f1=0.00e+00, val_loss=0.147, val_precision=0.00e+00, val_recall=0.00e+00]"
                        }
                    },
                    "7fae716a0f8d45389dfd87794a849a68": {
                        "model_module": "@jupyter-widgets/base",
                        "model_module_version": "1.2.0",
                        "model_name": "LayoutModel",
                        "state": {}
                    },
                    "8029b88cf5ba4d218ebb5f4cd8ec4023": {
                        "model_module": "@jupyter-widgets/base",
                        "model_module_version": "1.2.0",
                        "model_name": "LayoutModel",
                        "state": {}
                    },
                    "8138d760112d42fb8bd6cca79cd1af54": {
                        "model_module": "@jupyter-widgets/controls",
                        "model_module_version": "1.5.0",
                        "model_name": "HBoxModel",
                        "state": {
                            "children": [
                                "IPY_MODEL_9f6578d5c79e402f90764de2d19dd2df",
                                "IPY_MODEL_2d71ce67b8b34ee2ad4593f53fec96d2",
                                "IPY_MODEL_ed683651c7ca4681a99e7563d361a4c9"
                            ],
                            "layout": "IPY_MODEL_5ce5a789f2374235bc61efa92d14418b"
                        }
                    },
                    "82065e33bf264c96974e1816cd6a8c26": {
                        "model_module": "@jupyter-widgets/controls",
                        "model_module_version": "1.5.0",
                        "model_name": "HTMLModel",
                        "state": {
                            "layout": "IPY_MODEL_6b0cb1f772ae474cb9969508f265681d",
                            "style": "IPY_MODEL_227df81fe58a4efab2b83e03349fd9d0",
                            "value": " 117/117 [06:12&lt;00:00,  4.46s/ batchs, lr=0.002, train_acc=0.985, train_f1=0.762, train_loss=0.044, train_precision=0.881, train_recall=0.672, val_acc=0.980, val_f1=0.686, val_loss=0.063, val_precision=0.803, val_recall=0.599]"
                        }
                    },
                    "820dc49b103e4f5da3db203f3cb96619": {
                        "model_module": "@jupyter-widgets/base",
                        "model_module_version": "1.2.0",
                        "model_name": "LayoutModel",
                        "state": {}
                    },
                    "827a7820e06f4806a0bcd672d76471d6": {
                        "model_module": "@jupyter-widgets/controls",
                        "model_module_version": "1.5.0",
                        "model_name": "FloatProgressModel",
                        "state": {
                            "bar_style": "success",
                            "layout": "IPY_MODEL_d734b138c69b4193b75136d28a2df1ad",
                            "max": 599,
                            "style": "IPY_MODEL_649ab3d27ef1401dbfa49baa7d19edd1",
                            "value": 599
                        }
                    },
                    "829fbcc446414d35a17ba3e4459c04ed": {
                        "model_module": "@jupyter-widgets/base",
                        "model_module_version": "1.2.0",
                        "model_name": "LayoutModel",
                        "state": {}
                    },
                    "82a01cbb55ea442e81eb581bc842dbed": {
                        "model_module": "@jupyter-widgets/base",
                        "model_module_version": "1.2.0",
                        "model_name": "LayoutModel",
                        "state": {}
                    },
                    "82e34a6bfeb845a2a9a5a48cb8d93eee": {
                        "model_module": "@jupyter-widgets/controls",
                        "model_module_version": "1.5.0",
                        "model_name": "HTMLModel",
                        "state": {
                            "layout": "IPY_MODEL_1d6a1a0447534d32972706663b29082c",
                            "style": "IPY_MODEL_033d3bc106d147128e030266c48a5124",
                            "value": "Epoch 8: 100%"
                        }
                    },
                    "8376075f670b40a38f02d533281c27e8": {
                        "model_module": "@jupyter-widgets/controls",
                        "model_module_version": "1.5.0",
                        "model_name": "HTMLModel",
                        "state": {
                            "layout": "IPY_MODEL_2a614351d68c4e779f58ee0ae8781906",
                            "style": "IPY_MODEL_c2e108db85bf4460b7006d5568502ed9",
                            "value": " 15/15 [13:16&lt;00:00, 53.37s/epoch]"
                        }
                    },
                    "83a46417c98d4cc186d88e1517caa53f": {
                        "model_module": "@jupyter-widgets/base",
                        "model_module_version": "1.2.0",
                        "model_name": "LayoutModel",
                        "state": {}
                    },
                    "83d28d937fca4ad2a1e8260bd577b4a6": {
                        "model_module": "@jupyter-widgets/base",
                        "model_module_version": "1.2.0",
                        "model_name": "LayoutModel",
                        "state": {}
                    },
                    "849458a3d0c74e23a139908a8270dd2f": {
                        "model_module": "@jupyter-widgets/controls",
                        "model_module_version": "1.5.0",
                        "model_name": "FloatProgressModel",
                        "state": {
                            "layout": "IPY_MODEL_5e33238105ea43149a600b07bb8243c9",
                            "max": 3740,
                            "style": "IPY_MODEL_6504809c2db34550970768d5efbd48af",
                            "value": 3212
                        }
                    },
                    "85b376a1f7434a3e9d895074012d87f6": {
                        "model_module": "@jupyter-widgets/controls",
                        "model_module_version": "1.5.0",
                        "model_name": "ProgressStyleModel",
                        "state": {
                            "description_width": ""
                        }
                    },
                    "86319e2c9047488ab9fe61c32dbc7103": {
                        "model_module": "@jupyter-widgets/controls",
                        "model_module_version": "1.5.0",
                        "model_name": "DescriptionStyleModel",
                        "state": {
                            "description_width": ""
                        }
                    },
                    "8678d1fad13147909377e2d2725e8494": {
                        "model_module": "@jupyter-widgets/base",
                        "model_module_version": "1.2.0",
                        "model_name": "LayoutModel",
                        "state": {}
                    },
                    "86f86f584fbe4c76a05daca92f0913d8": {
                        "model_module": "@jupyter-widgets/base",
                        "model_module_version": "1.2.0",
                        "model_name": "LayoutModel",
                        "state": {}
                    },
                    "876edeb2854f470caa503fbb0fa6e5e4": {
                        "model_module": "@jupyter-widgets/controls",
                        "model_module_version": "1.5.0",
                        "model_name": "HTMLModel",
                        "state": {
                            "layout": "IPY_MODEL_5a635c9e2bfd45c0a76441a538589ca7",
                            "style": "IPY_MODEL_4fa6e669c9a048f09afc1af11606d587",
                            "value": " 599/599 [37:34&lt;00:00,  7.64s/ batchs, lr=0.002, train_acc=0.983, train_f1=0.753, train_loss=0.045, train_precision=0.827, train_recall=0.691, val_acc=0.982, val_f1=0.728, val_loss=0.049, val_precision=0.831, val_recall=0.649]"
                        }
                    },
                    "87cb00eab6ae4504b2795c3925404eb7": {
                        "model_module": "@jupyter-widgets/controls",
                        "model_module_version": "1.5.0",
                        "model_name": "FloatProgressModel",
                        "state": {
                            "bar_style": "success",
                            "layout": "IPY_MODEL_829fbcc446414d35a17ba3e4459c04ed",
                            "max": 599,
                            "style": "IPY_MODEL_b4495a5fcf1d423cabbbece090e2f147",
                            "value": 599
                        }
                    },
                    "87fb604e4ba245138f005040650569ba": {
                        "model_module": "@jupyter-widgets/base",
                        "model_module_version": "1.2.0",
                        "model_name": "LayoutModel",
                        "state": {}
                    },
                    "88adb31d077b40298229de36abd49ce1": {
                        "model_module": "@jupyter-widgets/base",
                        "model_module_version": "1.2.0",
                        "model_name": "LayoutModel",
                        "state": {}
                    },
                    "893fc9f19f11439388b3852e3b3eb797": {
                        "model_module": "@jupyter-widgets/controls",
                        "model_module_version": "1.5.0",
                        "model_name": "DescriptionStyleModel",
                        "state": {
                            "description_width": ""
                        }
                    },
                    "8a1a074ab42c46bb8694133ca49b7837": {
                        "model_module": "@jupyter-widgets/controls",
                        "model_module_version": "1.5.0",
                        "model_name": "FloatProgressModel",
                        "state": {
                            "layout": "IPY_MODEL_bd4a4ddf355d43c18e0ea95e4882121d",
                            "max": 3740,
                            "style": "IPY_MODEL_a43cbc56264745bd8d8054c8d1915df9",
                            "value": 3316
                        }
                    },
                    "8a697fb356f74614af3417e385ecf36d": {
                        "model_module": "@jupyter-widgets/base",
                        "model_module_version": "1.2.0",
                        "model_name": "LayoutModel",
                        "state": {}
                    },
                    "8af4c085b68b4a34806153066751ebbb": {
                        "model_module": "@jupyter-widgets/controls",
                        "model_module_version": "1.5.0",
                        "model_name": "HTMLModel",
                        "state": {
                            "layout": "IPY_MODEL_b5c22e953fb340d5b76a139ff6c0824e",
                            "style": "IPY_MODEL_5acdb2f0ff074570972a1ccb811539ef",
                            "value": " 599/599 [56:28&lt;00:00,  7.63s/ batchs, lr=0.004, train_acc=0.981, train_f1=0.706, train_loss=0.055, train_precision=0.796, train_recall=0.635, val_acc=0.982, val_f1=0.717, val_loss=0.051, val_precision=0.820, val_recall=0.637]"
                        }
                    },
                    "8b041449251f4410ab9f28fcf2edd587": {
                        "model_module": "@jupyter-widgets/controls",
                        "model_module_version": "1.5.0",
                        "model_name": "HBoxModel",
                        "state": {
                            "children": [
                                "IPY_MODEL_69e5983e775d48adb8c55ace960ca687",
                                "IPY_MODEL_981436507a7d4bf7998b8425b2438e67",
                                "IPY_MODEL_82065e33bf264c96974e1816cd6a8c26"
                            ],
                            "layout": "IPY_MODEL_6bdc39fc9fb340e59d2c3faf9461c797"
                        }
                    },
                    "8b8312ff595f4d21903664e88794dda5": {
                        "model_module": "@jupyter-widgets/base",
                        "model_module_version": "1.2.0",
                        "model_name": "LayoutModel",
                        "state": {}
                    },
                    "8c01252e460c4e37a9bc8b68172e8309": {
                        "model_module": "@jupyter-widgets/controls",
                        "model_module_version": "1.5.0",
                        "model_name": "HTMLModel",
                        "state": {
                            "layout": "IPY_MODEL_82a01cbb55ea442e81eb581bc842dbed",
                            "style": "IPY_MODEL_e4e8bf727e8846c6bec7c97f03e937a1",
                            "value": "Epoch 3: 100%"
                        }
                    },
                    "8c23155f5e014faf8b342c467f601866": {
                        "model_module": "@jupyter-widgets/base",
                        "model_module_version": "1.2.0",
                        "model_name": "LayoutModel",
                        "state": {}
                    },
                    "8e092c7549514a5a9bae7b739800bdd7": {
                        "model_module": "@jupyter-widgets/base",
                        "model_module_version": "1.2.0",
                        "model_name": "LayoutModel",
                        "state": {}
                    },
                    "8f64edd44726440e9c68e52803c046b0": {
                        "model_module": "@jupyter-widgets/controls",
                        "model_module_version": "1.5.0",
                        "model_name": "HTMLModel",
                        "state": {
                            "layout": "IPY_MODEL_78783475a0cc4b758b4a977e28fed4c4",
                            "style": "IPY_MODEL_5e109b85cd6a4ee1ab251304986c9230",
                            "value": " 117/117 [02:40&lt;00:00,  3.81s/ batchs, lr=6.87e-04, train_acc=0.985, train_f1=0.775, train_loss=0.042, train_precision=0.887, train_recall=0.687, val_acc=0.980, val_f1=0.685, val_loss=0.064, val_precision=0.808, val_recall=0.595]"
                        }
                    },
                    "8f99c60cd07940969e3bffa13ba63bee": {
                        "model_module": "@jupyter-widgets/controls",
                        "model_module_version": "1.5.0",
                        "model_name": "HTMLModel",
                        "state": {
                            "layout": "IPY_MODEL_737f976eadfa4baca5976ee01cc1308a",
                            "style": "IPY_MODEL_58c44ccf649146e5b8a8f86707d3b368",
                            "value": "Epoch 2: 100%"
                        }
                    },
                    "901e8dee85b14dcd886e214934d2b723": {
                        "model_module": "@jupyter-widgets/base",
                        "model_module_version": "1.2.0",
                        "model_name": "LayoutModel",
                        "state": {}
                    },
                    "905f5b9446904298b1fcc1d43c67150c": {
                        "model_module": "@jupyter-widgets/base",
                        "model_module_version": "1.2.0",
                        "model_name": "LayoutModel",
                        "state": {}
                    },
                    "9066dbea300d408f93f4fa68ccceb864": {
                        "model_module": "@jupyter-widgets/controls",
                        "model_module_version": "1.5.0",
                        "model_name": "HTMLModel",
                        "state": {
                            "layout": "IPY_MODEL_901e8dee85b14dcd886e214934d2b723",
                            "style": "IPY_MODEL_59bd1a7cb1b944e79f9bede29ab7ba01",
                            "value": " 117/117 [04:26&lt;00:00,  3.72s/ batchs, lr=0.001, train_acc=0.985, train_f1=0.769, train_loss=0.042, train_precision=0.884, train_recall=0.681, val_acc=0.980, val_f1=0.685, val_loss=0.064, val_precision=0.806, val_recall=0.596]"
                        }
                    },
                    "90a8b29da98043e4a4ee6c75ce9ef420": {
                        "model_module": "@jupyter-widgets/controls",
                        "model_module_version": "1.5.0",
                        "model_name": "DescriptionStyleModel",
                        "state": {
                            "description_width": ""
                        }
                    },
                    "90e86fca5a60476d9de62209519a7e7a": {
                        "model_module": "@jupyter-widgets/controls",
                        "model_module_version": "1.5.0",
                        "model_name": "DescriptionStyleModel",
                        "state": {
                            "description_width": ""
                        }
                    },
                    "91818acb8b1f406b9fe24832e8e07fc3": {
                        "model_module": "@jupyter-widgets/controls",
                        "model_module_version": "1.5.0",
                        "model_name": "HTMLModel",
                        "state": {
                            "layout": "IPY_MODEL_04c140ad5419430bab7944a4b267f0c1",
                            "style": "IPY_MODEL_d06c7b08c7894bd7bbf4c2fb1cac4942",
                            "value": " 117/117 [12:20&lt;00:00,  3.68s/ batchs, lr=0.008, train_acc=0.978, train_f1=0.636, train_loss=0.063, train_precision=0.821, train_recall=0.518, val_acc=0.978, val_f1=0.639, val_loss=0.065, val_precision=0.810, val_recall=0.527]"
                        }
                    },
                    "91cb1e703bef4176bfc5666956f797d2": {
                        "model_module": "@jupyter-widgets/controls",
                        "model_module_version": "1.5.0",
                        "model_name": "FloatProgressModel",
                        "state": {
                            "layout": "IPY_MODEL_8c23155f5e014faf8b342c467f601866",
                            "max": 3740,
                            "style": "IPY_MODEL_cdcea357f85d42ec88a1b30abc6871fe",
                            "value": 3740
                        }
                    },
                    "91cde7c858d74be98f622f6c7dc5297b": {
                        "model_module": "@jupyter-widgets/base",
                        "model_module_version": "1.2.0",
                        "model_name": "LayoutModel",
                        "state": {}
                    },
                    "92fd4ad76c99419784cf6370917d7673": {
                        "model_module": "@jupyter-widgets/base",
                        "model_module_version": "1.2.0",
                        "model_name": "LayoutModel",
                        "state": {}
                    },
                    "93ad6510ec6c451daefdd07557ba0244": {
                        "model_module": "@jupyter-widgets/base",
                        "model_module_version": "1.2.0",
                        "model_name": "LayoutModel",
                        "state": {}
                    },
                    "9528c538583d439f84456e4417311335": {
                        "model_module": "@jupyter-widgets/controls",
                        "model_module_version": "1.5.0",
                        "model_name": "DescriptionStyleModel",
                        "state": {
                            "description_width": ""
                        }
                    },
                    "961cc1b6a40241c584838309ee1ed445": {
                        "model_module": "@jupyter-widgets/controls",
                        "model_module_version": "1.5.0",
                        "model_name": "DescriptionStyleModel",
                        "state": {
                            "description_width": ""
                        }
                    },
                    "965256ce504c4be1b0374a8eceafb4cd": {
                        "model_module": "@jupyter-widgets/base",
                        "model_module_version": "1.2.0",
                        "model_name": "LayoutModel",
                        "state": {}
                    },
                    "972188817dd24ab19597025d73a22046": {
                        "model_module": "@jupyter-widgets/base",
                        "model_module_version": "1.2.0",
                        "model_name": "LayoutModel",
                        "state": {}
                    },
                    "981436507a7d4bf7998b8425b2438e67": {
                        "model_module": "@jupyter-widgets/controls",
                        "model_module_version": "1.5.0",
                        "model_name": "FloatProgressModel",
                        "state": {
                            "bar_style": "success",
                            "layout": "IPY_MODEL_a4bc4f633e65478f9866bb0299e8c3dd",
                            "max": 117,
                            "style": "IPY_MODEL_d37a56458a6b4d8ea24827adaaa43219",
                            "value": 117
                        }
                    },
                    "98470be74f194002b96fbdaa1bed0afa": {
                        "model_module": "@jupyter-widgets/base",
                        "model_module_version": "1.2.0",
                        "model_name": "LayoutModel",
                        "state": {}
                    },
                    "997eee782ce547bcb884b225460e76a5": {
                        "model_module": "@jupyter-widgets/controls",
                        "model_module_version": "1.5.0",
                        "model_name": "DescriptionStyleModel",
                        "state": {
                            "description_width": ""
                        }
                    },
                    "9a6414f3a687402bad07f6ee2b93205e": {
                        "model_module": "@jupyter-widgets/base",
                        "model_module_version": "1.2.0",
                        "model_name": "LayoutModel",
                        "state": {}
                    },
                    "9aa95eefae874ec5a1b58e65a35bf1ce": {
                        "model_module": "@jupyter-widgets/controls",
                        "model_module_version": "1.5.0",
                        "model_name": "HTMLModel",
                        "state": {
                            "layout": "IPY_MODEL_7bd0489c752341da9235e020aabf0b66",
                            "style": "IPY_MODEL_c05bff6e40ad43579602c0628079c38e",
                            "value": "Epoch 1:  49%"
                        }
                    },
                    "9af4a2ce50414dbfbd28d811044c6a93": {
                        "model_module": "@jupyter-widgets/base",
                        "model_module_version": "1.2.0",
                        "model_name": "LayoutModel",
                        "state": {}
                    },
                    "9b971138907642948d1adb823953f5b7": {
                        "model_module": "@jupyter-widgets/controls",
                        "model_module_version": "1.5.0",
                        "model_name": "DescriptionStyleModel",
                        "state": {
                            "description_width": ""
                        }
                    },
                    "9cab0ca71d324e3a99f15361b24a553a": {
                        "model_module": "@jupyter-widgets/controls",
                        "model_module_version": "1.5.0",
                        "model_name": "FloatProgressModel",
                        "state": {
                            "bar_style": "success",
                            "layout": "IPY_MODEL_df7c51275c4a46d9b2f1eef48ea1e197",
                            "max": 117,
                            "style": "IPY_MODEL_3086295f21fc47b3b867a7e5b401cceb",
                            "value": 117
                        }
                    },
                    "9dce36ab3d9c43fc89b073953c2273dc": {
                        "model_module": "@jupyter-widgets/base",
                        "model_module_version": "1.2.0",
                        "model_name": "LayoutModel",
                        "state": {}
                    },
                    "9e9c3ae5b42245a5a567953c5d9f3cae": {
                        "model_module": "@jupyter-widgets/controls",
                        "model_module_version": "1.5.0",
                        "model_name": "DescriptionStyleModel",
                        "state": {
                            "description_width": ""
                        }
                    },
                    "9ec6032188444222b98b9ba0c2978300": {
                        "model_module": "@jupyter-widgets/base",
                        "model_module_version": "1.2.0",
                        "model_name": "LayoutModel",
                        "state": {}
                    },
                    "9f6578d5c79e402f90764de2d19dd2df": {
                        "model_module": "@jupyter-widgets/controls",
                        "model_module_version": "1.5.0",
                        "model_name": "HTMLModel",
                        "state": {
                            "layout": "IPY_MODEL_3c04e7868431499ba073fdda695a011e",
                            "style": "IPY_MODEL_a226bf41e9944520b5da5a4bc44570fc",
                            "value": "Epoch 3:  16%"
                        }
                    },
                    "a0043bc0ed4749759451825405c8a315": {
                        "model_module": "@jupyter-widgets/controls",
                        "model_module_version": "1.5.0",
                        "model_name": "HTMLModel",
                        "state": {
                            "layout": "IPY_MODEL_43e4c474973e4c2dbb73c926d6de70f1",
                            "style": "IPY_MODEL_b61b95ce6c654cbb9c7b1735552244f2",
                            "value": " 117/117 [09:42&lt;00:00,  3.74s/ batchs, lr=0.004, train_acc=0.983, train_f1=0.731, train_loss=0.049, train_precision=0.866, train_recall=0.632, val_acc=0.980, val_f1=0.674, val_loss=0.063, val_precision=0.820, val_recall=0.572]"
                        }
                    },
                    "a0424d2553964139b5d1385b1a7a9543": {
                        "model_module": "@jupyter-widgets/controls",
                        "model_module_version": "1.5.0",
                        "model_name": "DescriptionStyleModel",
                        "state": {
                            "description_width": ""
                        }
                    },
                    "a08f8b762f4c48e88e6053449d1ebb42": {
                        "model_module": "@jupyter-widgets/controls",
                        "model_module_version": "1.5.0",
                        "model_name": "HBoxModel",
                        "state": {
                            "children": [
                                "IPY_MODEL_45d1fc633f3f40c2ade85c4e0dcfd16c",
                                "IPY_MODEL_849458a3d0c74e23a139908a8270dd2f",
                                "IPY_MODEL_357dbb4d30124c18ba52b1ac1138edaa"
                            ],
                            "layout": "IPY_MODEL_dc2c6523a6e24457b048240ea1aaee4d"
                        }
                    },
                    "a1451f306a95460e897339db2ef76f4a": {
                        "model_module": "@jupyter-widgets/controls",
                        "model_module_version": "1.5.0",
                        "model_name": "HTMLModel",
                        "state": {
                            "layout": "IPY_MODEL_aa42beb7edd34cffa07f0b3267873578",
                            "style": "IPY_MODEL_90e86fca5a60476d9de62209519a7e7a",
                            "value": " 30%"
                        }
                    },
                    "a1691b665800434294a9e4d5aec2f04a": {
                        "model_module": "@jupyter-widgets/controls",
                        "model_module_version": "1.5.0",
                        "model_name": "HBoxModel",
                        "state": {
                            "children": [
                                "IPY_MODEL_8c01252e460c4e37a9bc8b68172e8309",
                                "IPY_MODEL_87cb00eab6ae4504b2795c3925404eb7",
                                "IPY_MODEL_ddf26b1f32be41afbe10385650bec039"
                            ],
                            "layout": "IPY_MODEL_fffed9d50bc844518028159ed65f2217"
                        }
                    },
                    "a1d246a284d54b7593d5026a626c5612": {
                        "model_module": "@jupyter-widgets/controls",
                        "model_module_version": "1.5.0",
                        "model_name": "ProgressStyleModel",
                        "state": {
                            "description_width": ""
                        }
                    },
                    "a2007bd51ad549af9f7f069cb7f3dfbb": {
                        "model_module": "@jupyter-widgets/controls",
                        "model_module_version": "1.5.0",
                        "model_name": "DescriptionStyleModel",
                        "state": {
                            "description_width": ""
                        }
                    },
                    "a226bf41e9944520b5da5a4bc44570fc": {
                        "model_module": "@jupyter-widgets/controls",
                        "model_module_version": "1.5.0",
                        "model_name": "DescriptionStyleModel",
                        "state": {
                            "description_width": ""
                        }
                    },
                    "a264016e5c26446da2e6b2e12ea90d5c": {
                        "model_module": "@jupyter-widgets/controls",
                        "model_module_version": "1.5.0",
                        "model_name": "HBoxModel",
                        "state": {
                            "children": [
                                "IPY_MODEL_d016b15510f34a53beb8502464496304",
                                "IPY_MODEL_bc802290a3dc40399aea75b1ff80bd7d",
                                "IPY_MODEL_6464ea5a5b884041b8bf00fb8e4e9ec2"
                            ],
                            "layout": "IPY_MODEL_d5934470ca804b7980d20c95eb1f85f7"
                        }
                    },
                    "a2f5b3377ec34fb8a25b69bac20e6bb6": {
                        "model_module": "@jupyter-widgets/controls",
                        "model_module_version": "1.5.0",
                        "model_name": "HTMLModel",
                        "state": {
                            "layout": "IPY_MODEL_0a972b0e8c7d4e9b8f9490ffb04602f9",
                            "style": "IPY_MODEL_24ef838816ba4e949711ccd24d834e9a",
                            "value": "Epoch 4: 100%"
                        }
                    },
                    "a3758c7634d142f4889d28a4e3dcace5": {
                        "model_module": "@jupyter-widgets/controls",
                        "model_module_version": "1.5.0",
                        "model_name": "DescriptionStyleModel",
                        "state": {
                            "description_width": ""
                        }
                    },
                    "a3f00573d1514ba9b8e9e8773e5fab5d": {
                        "model_module": "@jupyter-widgets/controls",
                        "model_module_version": "1.5.0",
                        "model_name": "HTMLModel",
                        "state": {
                            "layout": "IPY_MODEL_7424175154404eeb9f3c52facf5ba236",
                            "style": "IPY_MODEL_961cc1b6a40241c584838309ee1ed445",
                            "value": "Epoch 2: 100%"
                        }
                    },
                    "a4257019eb7143ba98954fa47af2f6b5": {
                        "model_module": "@jupyter-widgets/controls",
                        "model_module_version": "1.5.0",
                        "model_name": "HBoxModel",
                        "state": {
                            "children": [
                                "IPY_MODEL_45f8260f4c044fac9318cfc3c0f51b81",
                                "IPY_MODEL_acc408f101984b1d9742c9ee624c28b6",
                                "IPY_MODEL_eaa8fc8fc8e84790a7376a98c1505bef"
                            ],
                            "layout": "IPY_MODEL_aa5c712fb90d4a82a7681f1518ed2c35"
                        }
                    },
                    "a42c06c4d2ff42ba94f42ca1432be644": {
                        "model_module": "@jupyter-widgets/base",
                        "model_module_version": "1.2.0",
                        "model_name": "LayoutModel",
                        "state": {}
                    },
                    "a43cbc56264745bd8d8054c8d1915df9": {
                        "model_module": "@jupyter-widgets/controls",
                        "model_module_version": "1.5.0",
                        "model_name": "ProgressStyleModel",
                        "state": {
                            "description_width": ""
                        }
                    },
                    "a4875e9603e4438d9ebafa10bf9f0968": {
                        "model_module": "@jupyter-widgets/controls",
                        "model_module_version": "1.5.0",
                        "model_name": "HTMLModel",
                        "state": {
                            "layout": "IPY_MODEL_cbabd4e72a084a06a25730c61407a034",
                            "style": "IPY_MODEL_565ef6537e9949698bc8a86688f56a33",
                            "value": "Epoch 10: 100%"
                        }
                    },
                    "a4bc4f633e65478f9866bb0299e8c3dd": {
                        "model_module": "@jupyter-widgets/base",
                        "model_module_version": "1.2.0",
                        "model_name": "LayoutModel",
                        "state": {}
                    },
                    "a591f7e041a0488ea963b6bf4a117427": {
                        "model_module": "@jupyter-widgets/controls",
                        "model_module_version": "1.5.0",
                        "model_name": "HTMLModel",
                        "state": {
                            "layout": "IPY_MODEL_bf779977780548a08054ed27577a47ba",
                            "style": "IPY_MODEL_36928bc2c74649fda969a764dd2a2105",
                            "value": " 3/10 [1:27:29&lt;46:08, 395.51s/epoch]"
                        }
                    },
                    "a60a053cb9fe460dbfffd74c8fa6cccd": {
                        "model_module": "@jupyter-widgets/controls",
                        "model_module_version": "1.5.0",
                        "model_name": "DescriptionStyleModel",
                        "state": {
                            "description_width": ""
                        }
                    },
                    "a793a969774e47ff901ab1eb84ca823a": {
                        "model_module": "@jupyter-widgets/base",
                        "model_module_version": "1.2.0",
                        "model_name": "LayoutModel",
                        "state": {}
                    },
                    "a844bc4ce7824dfa97d874d6a77b18d8": {
                        "model_module": "@jupyter-widgets/controls",
                        "model_module_version": "1.5.0",
                        "model_name": "ProgressStyleModel",
                        "state": {
                            "description_width": ""
                        }
                    },
                    "a907db7693d2488db74c1fdc6f42f0f5": {
                        "model_module": "@jupyter-widgets/base",
                        "model_module_version": "1.2.0",
                        "model_name": "LayoutModel",
                        "state": {}
                    },
                    "a986fe95041846f2ad487eb3da76647d": {
                        "model_module": "@jupyter-widgets/controls",
                        "model_module_version": "1.5.0",
                        "model_name": "ProgressStyleModel",
                        "state": {
                            "description_width": ""
                        }
                    },
                    "aa41c7f01eb34230b5beaa4d92ed9de7": {
                        "model_module": "@jupyter-widgets/base",
                        "model_module_version": "1.2.0",
                        "model_name": "LayoutModel",
                        "state": {}
                    },
                    "aa42beb7edd34cffa07f0b3267873578": {
                        "model_module": "@jupyter-widgets/base",
                        "model_module_version": "1.2.0",
                        "model_name": "LayoutModel",
                        "state": {}
                    },
                    "aa5c712fb90d4a82a7681f1518ed2c35": {
                        "model_module": "@jupyter-widgets/base",
                        "model_module_version": "1.2.0",
                        "model_name": "LayoutModel",
                        "state": {}
                    },
                    "aa664527a83a4e6f9053b15012213fe1": {
                        "model_module": "@jupyter-widgets/controls",
                        "model_module_version": "1.5.0",
                        "model_name": "DescriptionStyleModel",
                        "state": {
                            "description_width": ""
                        }
                    },
                    "aa976b4a83a7401b9495549178cea19a": {
                        "model_module": "@jupyter-widgets/controls",
                        "model_module_version": "1.5.0",
                        "model_name": "DescriptionStyleModel",
                        "state": {
                            "description_width": ""
                        }
                    },
                    "ab95d484112345cfb723ba2d70d1250e": {
                        "model_module": "@jupyter-widgets/base",
                        "model_module_version": "1.2.0",
                        "model_name": "LayoutModel",
                        "state": {}
                    },
                    "abccd13ab5754db68a7002f34ecab332": {
                        "model_module": "@jupyter-widgets/controls",
                        "model_module_version": "1.5.0",
                        "model_name": "ProgressStyleModel",
                        "state": {
                            "description_width": ""
                        }
                    },
                    "acc408f101984b1d9742c9ee624c28b6": {
                        "model_module": "@jupyter-widgets/controls",
                        "model_module_version": "1.5.0",
                        "model_name": "FloatProgressModel",
                        "state": {
                            "bar_style": "success",
                            "layout": "IPY_MODEL_dfb961a06563466aa825df02ef3b8b4d",
                            "max": 117,
                            "style": "IPY_MODEL_6939069290d54a80a62a588836036ef2",
                            "value": 117
                        }
                    },
                    "add515ff2b5647d0a3690fa79356c643": {
                        "model_module": "@jupyter-widgets/controls",
                        "model_module_version": "1.5.0",
                        "model_name": "FloatProgressModel",
                        "state": {
                            "layout": "IPY_MODEL_6a1ba16b26884c1db52c97f73c6f5dd0",
                            "max": 3740,
                            "style": "IPY_MODEL_a986fe95041846f2ad487eb3da76647d",
                            "value": 3740
                        }
                    },
                    "adff4c2ce73a4c0f9f1a352f7911bc4d": {
                        "model_module": "@jupyter-widgets/controls",
                        "model_module_version": "1.5.0",
                        "model_name": "ProgressStyleModel",
                        "state": {
                            "description_width": ""
                        }
                    },
                    "ae9b38bad95149d4bf557213a5a6e1c8": {
                        "model_module": "@jupyter-widgets/controls",
                        "model_module_version": "1.5.0",
                        "model_name": "HBoxModel",
                        "state": {
                            "children": [
                                "IPY_MODEL_16ac197bd8a64843bd5ac95be34f63ed",
                                "IPY_MODEL_cd49fbcf836143838e1436c3b3354140",
                                "IPY_MODEL_c48a4d9c90a148b6ba06addc643aea51"
                            ],
                            "layout": "IPY_MODEL_87fb604e4ba245138f005040650569ba"
                        }
                    },
                    "b1c172ae8b294429a6d18a57a1ea685b": {
                        "model_module": "@jupyter-widgets/controls",
                        "model_module_version": "1.5.0",
                        "model_name": "HTMLModel",
                        "state": {
                            "layout": "IPY_MODEL_bc100fbc0719471086d7497d9bf2dc44",
                            "style": "IPY_MODEL_0908f8a2c70f43cabe4b9ef7d0049972",
                            "value": " 117/117 [10:34&lt;00:00,  3.72s/ batchs, lr=0.005, train_acc=0.982, train_f1=0.714, train_loss=0.051, train_precision=0.858, train_recall=0.611, val_acc=0.980, val_f1=0.670, val_loss=0.063, val_precision=0.817, val_recall=0.568]"
                        }
                    },
                    "b2dbc31084a64993af88c382c90d2476": {
                        "model_module": "@jupyter-widgets/base",
                        "model_module_version": "1.2.0",
                        "model_name": "LayoutModel",
                        "state": {}
                    },
                    "b3c7518d34f740aa8ebf3c6982f9304d": {
                        "model_module": "@jupyter-widgets/controls",
                        "model_module_version": "1.5.0",
                        "model_name": "FloatProgressModel",
                        "state": {
                            "bar_style": "success",
                            "layout": "IPY_MODEL_53c2aafdcd8f485d8a9b9555d906bdaf",
                            "max": 117,
                            "style": "IPY_MODEL_f645d0d86a47483a87ac6b990f90c04b",
                            "value": 117
                        }
                    },
                    "b43a48795505406ab86d2cfb40c9f191": {
                        "model_module": "@jupyter-widgets/controls",
                        "model_module_version": "1.5.0",
                        "model_name": "DescriptionStyleModel",
                        "state": {
                            "description_width": ""
                        }
                    },
                    "b4495a5fcf1d423cabbbece090e2f147": {
                        "model_module": "@jupyter-widgets/controls",
                        "model_module_version": "1.5.0",
                        "model_name": "ProgressStyleModel",
                        "state": {
                            "description_width": ""
                        }
                    },
                    "b47cadc17d504cb3b09f62fbe8915ff1": {
                        "model_module": "@jupyter-widgets/base",
                        "model_module_version": "1.2.0",
                        "model_name": "LayoutModel",
                        "state": {}
                    },
                    "b4b33cf52eb54a69beec53c0de580f88": {
                        "model_module": "@jupyter-widgets/controls",
                        "model_module_version": "1.5.0",
                        "model_name": "HBoxModel",
                        "state": {
                            "children": [
                                "IPY_MODEL_a4875e9603e4438d9ebafa10bf9f0968",
                                "IPY_MODEL_493b8959bc8a4eeca8af9b189889c14f",
                                "IPY_MODEL_f6e57df43b78442cbb3075fec528cad6"
                            ],
                            "layout": "IPY_MODEL_49c30e556c0246f1b450a14d901fc1ae"
                        }
                    },
                    "b548bb8d2bd541bdb76b99d4a1f02273": {
                        "model_module": "@jupyter-widgets/base",
                        "model_module_version": "1.2.0",
                        "model_name": "LayoutModel",
                        "state": {}
                    },
                    "b5c22e953fb340d5b76a139ff6c0824e": {
                        "model_module": "@jupyter-widgets/base",
                        "model_module_version": "1.2.0",
                        "model_name": "LayoutModel",
                        "state": {}
                    },
                    "b61b95ce6c654cbb9c7b1735552244f2": {
                        "model_module": "@jupyter-widgets/controls",
                        "model_module_version": "1.5.0",
                        "model_name": "DescriptionStyleModel",
                        "state": {
                            "description_width": ""
                        }
                    },
                    "b703658e760d42158e884fc2359496cb": {
                        "model_module": "@jupyter-widgets/controls",
                        "model_module_version": "1.5.0",
                        "model_name": "ProgressStyleModel",
                        "state": {
                            "description_width": ""
                        }
                    },
                    "b766e43336a943c991ca02d2402ab92e": {
                        "model_module": "@jupyter-widgets/controls",
                        "model_module_version": "1.5.0",
                        "model_name": "HBoxModel",
                        "state": {
                            "children": [
                                "IPY_MODEL_28166f967e354ab8a7a0a19812825e41",
                                "IPY_MODEL_3f460f3b2636429d8001096ff314c18c",
                                "IPY_MODEL_131399e9e02c44e2ba420fecb58c6b7a"
                            ],
                            "layout": "IPY_MODEL_53daf7958c2943f2b8544b7c9e1abad7"
                        }
                    },
                    "b7a98819d9e24f5a8e70ab00cdf45891": {
                        "model_module": "@jupyter-widgets/controls",
                        "model_module_version": "1.5.0",
                        "model_name": "HBoxModel",
                        "state": {
                            "children": [
                                "IPY_MODEL_ddb18ee8534a4eeda38b00179ed6480b",
                                "IPY_MODEL_c6f596309fb845129ddbd27d70feb7d6",
                                "IPY_MODEL_25a8473512bd42c69dcf8567392d6c40"
                            ],
                            "layout": "IPY_MODEL_3bfedcb3c8cb48ec90871cb1427abe5c"
                        }
                    },
                    "b922a3f791c04b028fbd5fd6b6a478c9": {
                        "model_module": "@jupyter-widgets/base",
                        "model_module_version": "1.2.0",
                        "model_name": "LayoutModel",
                        "state": {}
                    },
                    "b9403b27f8ca479e99b56f2cf8672f0c": {
                        "model_module": "@jupyter-widgets/base",
                        "model_module_version": "1.2.0",
                        "model_name": "LayoutModel",
                        "state": {}
                    },
                    "b94caa9afef8478896a75670555987d9": {
                        "model_module": "@jupyter-widgets/base",
                        "model_module_version": "1.2.0",
                        "model_name": "LayoutModel",
                        "state": {}
                    },
                    "b9e62bc94e5e4a93a439646d0ece217e": {
                        "model_module": "@jupyter-widgets/controls",
                        "model_module_version": "1.5.0",
                        "model_name": "HBoxModel",
                        "state": {
                            "children": [
                                "IPY_MODEL_2f7a4e9c5d9249979901576d5e089e7c",
                                "IPY_MODEL_39fbc13916bd4a43b59615554d1596f9",
                                "IPY_MODEL_b1c172ae8b294429a6d18a57a1ea685b"
                            ],
                            "layout": "IPY_MODEL_905f5b9446904298b1fcc1d43c67150c"
                        }
                    },
                    "ba3af3b7081f4bbe95af8a51d40613be": {
                        "model_module": "@jupyter-widgets/base",
                        "model_module_version": "1.2.0",
                        "model_name": "LayoutModel",
                        "state": {}
                    },
                    "bac6d59160ec4641b1aa84d8e8bb4b8e": {
                        "model_module": "@jupyter-widgets/controls",
                        "model_module_version": "1.5.0",
                        "model_name": "HTMLModel",
                        "state": {
                            "layout": "IPY_MODEL_23a1f3312f194aec978d87266d5e7c1d",
                            "style": "IPY_MODEL_e8de05f75ce64209a975953dd69fab38",
                            "value": " 3740/3740 [1:02:04&lt;00:00,  7.64s/ batchs, lr=0.005, train_acc=0.963, train_f1=6.06e-04, train_loss=0.151, train_precision=0.083, train_recall=3.04e-04, val_acc=0.963, val_f1=0.00e+00, val_loss=0.144, val_precision=0.00e+00, val_recall=0.00e+00]"
                        }
                    },
                    "bb9488331c7541a6980518ced9cb8b02": {
                        "model_module": "@jupyter-widgets/controls",
                        "model_module_version": "1.5.0",
                        "model_name": "DescriptionStyleModel",
                        "state": {
                            "description_width": ""
                        }
                    },
                    "bbd736d3ffb44fc1bc5d95213f50b2be": {
                        "model_module": "@jupyter-widgets/controls",
                        "model_module_version": "1.5.0",
                        "model_name": "DescriptionStyleModel",
                        "state": {
                            "description_width": ""
                        }
                    },
                    "bc100fbc0719471086d7497d9bf2dc44": {
                        "model_module": "@jupyter-widgets/base",
                        "model_module_version": "1.2.0",
                        "model_name": "LayoutModel",
                        "state": {}
                    },
                    "bc389e33d5464444a40c7f628a3b755a": {
                        "model_module": "@jupyter-widgets/controls",
                        "model_module_version": "1.5.0",
                        "model_name": "ProgressStyleModel",
                        "state": {
                            "description_width": ""
                        }
                    },
                    "bc802290a3dc40399aea75b1ff80bd7d": {
                        "model_module": "@jupyter-widgets/controls",
                        "model_module_version": "1.5.0",
                        "model_name": "FloatProgressModel",
                        "state": {
                            "layout": "IPY_MODEL_ea8c23175a4c442cb5ec3b387c7cc388",
                            "max": 3740,
                            "style": "IPY_MODEL_e1adae04e5ba47df8e09b8a212cee80b",
                            "value": 3740
                        }
                    },
                    "bca83de81c23497db5f6d142b1c4022c": {
                        "model_module": "@jupyter-widgets/controls",
                        "model_module_version": "1.5.0",
                        "model_name": "FloatProgressModel",
                        "state": {
                            "bar_style": "success",
                            "layout": "IPY_MODEL_f7552e2dd3a34186a63f4a57fccee534",
                            "max": 117,
                            "style": "IPY_MODEL_e9a0a786699e47fd93d8e7d31f20dc12",
                            "value": 117
                        }
                    },
                    "bd4a4ddf355d43c18e0ea95e4882121d": {
                        "model_module": "@jupyter-widgets/base",
                        "model_module_version": "1.2.0",
                        "model_name": "LayoutModel",
                        "state": {}
                    },
                    "bd6ea4c6fa9d44de8c324b04641fbe54": {
                        "model_module": "@jupyter-widgets/base",
                        "model_module_version": "1.2.0",
                        "model_name": "LayoutModel",
                        "state": {}
                    },
                    "bd9824e2c1a64d90bba0da1d5db39890": {
                        "model_module": "@jupyter-widgets/controls",
                        "model_module_version": "1.5.0",
                        "model_name": "FloatProgressModel",
                        "state": {
                            "bar_style": "success",
                            "layout": "IPY_MODEL_1bd1cf28dbf64ac89fc9e0ca239fb9e4",
                            "max": 599,
                            "style": "IPY_MODEL_b703658e760d42158e884fc2359496cb",
                            "value": 599
                        }
                    },
                    "bdc0e7c4c9bd4d2ead9943b618ddda71": {
                        "model_module": "@jupyter-widgets/controls",
                        "model_module_version": "1.5.0",
                        "model_name": "DescriptionStyleModel",
                        "state": {
                            "description_width": ""
                        }
                    },
                    "bf779977780548a08054ed27577a47ba": {
                        "model_module": "@jupyter-widgets/base",
                        "model_module_version": "1.2.0",
                        "model_name": "LayoutModel",
                        "state": {}
                    },
                    "c05bff6e40ad43579602c0628079c38e": {
                        "model_module": "@jupyter-widgets/controls",
                        "model_module_version": "1.5.0",
                        "model_name": "DescriptionStyleModel",
                        "state": {
                            "description_width": ""
                        }
                    },
                    "c20503ce10304a1fab404e4539114fe9": {
                        "model_module": "@jupyter-widgets/controls",
                        "model_module_version": "1.5.0",
                        "model_name": "HTMLModel",
                        "state": {
                            "layout": "IPY_MODEL_2b7d3e300ced4f3eaf9eda4a69096e34",
                            "style": "IPY_MODEL_6fcfcec3843f45288add3301fb8a8eb8",
                            "value": " 3316/3740 [55:27&lt;00:41, 10.13 batchs/s, lr=0.004, train_acc=0.963, train_f1=0.00e+00, train_loss=0.148, train_precision=0.00e+00, train_recall=0.00e+00]"
                        }
                    },
                    "c261a93988a941e68cc621e6044c45ab": {
                        "model_module": "@jupyter-widgets/controls",
                        "model_module_version": "1.5.0",
                        "model_name": "HBoxModel",
                        "state": {
                            "children": [
                                "IPY_MODEL_72f9a805798b49daa99ff2aff6413e49",
                                "IPY_MODEL_3270168317ea4072b5c37c61d5715419",
                                "IPY_MODEL_a0043bc0ed4749759451825405c8a315"
                            ],
                            "layout": "IPY_MODEL_39931efd29ea44c685ccfc1e7b34fc99"
                        }
                    },
                    "c2e108db85bf4460b7006d5568502ed9": {
                        "model_module": "@jupyter-widgets/controls",
                        "model_module_version": "1.5.0",
                        "model_name": "DescriptionStyleModel",
                        "state": {
                            "description_width": ""
                        }
                    },
                    "c304a316fa524020afdc273ca32d2b9a": {
                        "model_module": "@jupyter-widgets/base",
                        "model_module_version": "1.2.0",
                        "model_name": "LayoutModel",
                        "state": {}
                    },
                    "c3ce65b043d741078bcd2c9dfdd1f799": {
                        "model_module": "@jupyter-widgets/controls",
                        "model_module_version": "1.5.0",
                        "model_name": "HTMLModel",
                        "state": {
                            "layout": "IPY_MODEL_a793a969774e47ff901ab1eb84ca823a",
                            "style": "IPY_MODEL_997eee782ce547bcb884b225460e76a5",
                            "value": " 10/10 [1:02:52&lt;00:00, 376.04s/epoch]"
                        }
                    },
                    "c48a4d9c90a148b6ba06addc643aea51": {
                        "model_module": "@jupyter-widgets/controls",
                        "model_module_version": "1.5.0",
                        "model_name": "HTMLModel",
                        "state": {
                            "layout": "IPY_MODEL_755a4a46d8fe4abaadf39531947d1c3a",
                            "style": "IPY_MODEL_9b971138907642948d1adb823953f5b7",
                            "value": " 2/5 [2:02:47&lt;19:50, 396.93s/epoch]"
                        }
                    },
                    "c5d80b2d218744718ed071972677bba2": {
                        "model_module": "@jupyter-widgets/controls",
                        "model_module_version": "1.5.0",
                        "model_name": "HBoxModel",
                        "state": {
                            "children": [
                                "IPY_MODEL_df07bb39a6b84d629f6a2c17f5bb1512",
                                "IPY_MODEL_5ec441bc3c3b441a9bc9d11bd182e5da",
                                "IPY_MODEL_9066dbea300d408f93f4fa68ccceb864"
                            ],
                            "layout": "IPY_MODEL_59a6de7525ee44e4b362e2956af4776b"
                        }
                    },
                    "c6bf36d626dc46d38ec8c2eb0d266ba2": {
                        "model_module": "@jupyter-widgets/base",
                        "model_module_version": "1.2.0",
                        "model_name": "LayoutModel",
                        "state": {}
                    },
                    "c6eaa586699f4fe4b8e547adf4223690": {
                        "model_module": "@jupyter-widgets/controls",
                        "model_module_version": "1.5.0",
                        "model_name": "ProgressStyleModel",
                        "state": {
                            "description_width": ""
                        }
                    },
                    "c6f596309fb845129ddbd27d70feb7d6": {
                        "model_module": "@jupyter-widgets/controls",
                        "model_module_version": "1.5.0",
                        "model_name": "FloatProgressModel",
                        "state": {
                            "bar_style": "success",
                            "layout": "IPY_MODEL_741556283e1b4ceca99245b057c54240",
                            "max": 117,
                            "style": "IPY_MODEL_6d95d80d7df541d3992268b02b294cc1",
                            "value": 117
                        }
                    },
                    "c850cd1e51de45cc8608bb6665a948bd": {
                        "model_module": "@jupyter-widgets/base",
                        "model_module_version": "1.2.0",
                        "model_name": "LayoutModel",
                        "state": {}
                    },
                    "c8ef06e64ffc474eba15561d09fb3cc6": {
                        "model_module": "@jupyter-widgets/base",
                        "model_module_version": "1.2.0",
                        "model_name": "LayoutModel",
                        "state": {}
                    },
                    "ca1ad5a6ccb747aeb6a63656880fc8ec": {
                        "model_module": "@jupyter-widgets/controls",
                        "model_module_version": "1.5.0",
                        "model_name": "DescriptionStyleModel",
                        "state": {
                            "description_width": ""
                        }
                    },
                    "cb921fd016f44c69ac724a530ed32a32": {
                        "model_module": "@jupyter-widgets/base",
                        "model_module_version": "1.2.0",
                        "model_name": "LayoutModel",
                        "state": {}
                    },
                    "cbabd4e72a084a06a25730c61407a034": {
                        "model_module": "@jupyter-widgets/base",
                        "model_module_version": "1.2.0",
                        "model_name": "LayoutModel",
                        "state": {}
                    },
                    "cd49fbcf836143838e1436c3b3354140": {
                        "model_module": "@jupyter-widgets/controls",
                        "model_module_version": "1.5.0",
                        "model_name": "FloatProgressModel",
                        "state": {
                            "layout": "IPY_MODEL_786773858cb84957b19bcabf2d9a68b7",
                            "max": 5,
                            "style": "IPY_MODEL_c6eaa586699f4fe4b8e547adf4223690",
                            "value": 2
                        }
                    },
                    "cdcea357f85d42ec88a1b30abc6871fe": {
                        "model_module": "@jupyter-widgets/controls",
                        "model_module_version": "1.5.0",
                        "model_name": "ProgressStyleModel",
                        "state": {
                            "description_width": ""
                        }
                    },
                    "ce91cfa39f784a4eba95bab5add017cf": {
                        "model_module": "@jupyter-widgets/controls",
                        "model_module_version": "1.5.0",
                        "model_name": "FloatProgressModel",
                        "state": {
                            "layout": "IPY_MODEL_9ec6032188444222b98b9ba0c2978300",
                            "max": 3740,
                            "style": "IPY_MODEL_4ecb8c7d62d641509534302c754d19cc",
                            "value": 3740
                        }
                    },
                    "cf90c64db7614e7bba318a2d12b701e1": {
                        "model_module": "@jupyter-widgets/controls",
                        "model_module_version": "1.5.0",
                        "model_name": "DescriptionStyleModel",
                        "state": {
                            "description_width": ""
                        }
                    },
                    "d016b15510f34a53beb8502464496304": {
                        "model_module": "@jupyter-widgets/controls",
                        "model_module_version": "1.5.0",
                        "model_name": "HTMLModel",
                        "state": {
                            "layout": "IPY_MODEL_4852cad44bad489a8c083db37a0f189b",
                            "style": "IPY_MODEL_f485c33e65d3465895e906960e3a6793",
                            "value": "Epoch 1: 100%"
                        }
                    },
                    "d01a0bfa961148f4ad5e1b666e8ff9b7": {
                        "model_module": "@jupyter-widgets/controls",
                        "model_module_version": "1.5.0",
                        "model_name": "DescriptionStyleModel",
                        "state": {
                            "description_width": ""
                        }
                    },
                    "d02a50490b71429ebed966051d040550": {
                        "model_module": "@jupyter-widgets/base",
                        "model_module_version": "1.2.0",
                        "model_name": "LayoutModel",
                        "state": {}
                    },
                    "d06aa62ff6d2408b99e1c1e78076f44a": {
                        "model_module": "@jupyter-widgets/base",
                        "model_module_version": "1.2.0",
                        "model_name": "LayoutModel",
                        "state": {}
                    },
                    "d06c7b08c7894bd7bbf4c2fb1cac4942": {
                        "model_module": "@jupyter-widgets/controls",
                        "model_module_version": "1.5.0",
                        "model_name": "DescriptionStyleModel",
                        "state": {
                            "description_width": ""
                        }
                    },
                    "d0eabb754977474b9b1142df68bd8902": {
                        "model_module": "@jupyter-widgets/base",
                        "model_module_version": "1.2.0",
                        "model_name": "LayoutModel",
                        "state": {}
                    },
                    "d1b2a1c1e6114ed3816b4366266b8401": {
                        "model_module": "@jupyter-widgets/controls",
                        "model_module_version": "1.5.0",
                        "model_name": "ProgressStyleModel",
                        "state": {
                            "description_width": ""
                        }
                    },
                    "d269681fe97847a5b664a9c23e87211e": {
                        "model_module": "@jupyter-widgets/controls",
                        "model_module_version": "1.5.0",
                        "model_name": "HBoxModel",
                        "state": {
                            "children": [
                                "IPY_MODEL_79653ffde6e94703890f8dbc17fceab5",
                                "IPY_MODEL_bd9824e2c1a64d90bba0da1d5db39890",
                                "IPY_MODEL_652664279fac4f2585d19883e958cabd"
                            ],
                            "layout": "IPY_MODEL_37e9ffdc8d634c70ba6b801203b8df7a"
                        }
                    },
                    "d2b8735d4add43b08e882b5ace675205": {
                        "model_module": "@jupyter-widgets/base",
                        "model_module_version": "1.2.0",
                        "model_name": "LayoutModel",
                        "state": {}
                    },
                    "d2cc69a573a942a28ac5941cd5f84b70": {
                        "model_module": "@jupyter-widgets/controls",
                        "model_module_version": "1.5.0",
                        "model_name": "HTMLModel",
                        "state": {
                            "layout": "IPY_MODEL_21d3fa15262e4f8d9908292f4cd3a525",
                            "style": "IPY_MODEL_e3a1d7024f11458c9bee877b512a8278",
                            "value": " 117/117 [01:46&lt;00:00,  3.81s/ batchs, lr=5.50e-04, train_acc=0.985, train_f1=0.776, train_loss=0.041, train_precision=0.889, train_recall=0.689, val_acc=0.980, val_f1=0.687, val_loss=0.064, val_precision=0.797, val_recall=0.604]"
                        }
                    },
                    "d2d908ea07df435fa53eab6e9088705b": {
                        "model_module": "@jupyter-widgets/base",
                        "model_module_version": "1.2.0",
                        "model_name": "LayoutModel",
                        "state": {}
                    },
                    "d360cd780302470b8c767a58f27498fe": {
                        "model_module": "@jupyter-widgets/controls",
                        "model_module_version": "1.5.0",
                        "model_name": "HBoxModel",
                        "state": {
                            "children": [
                                "IPY_MODEL_4765a93fa1314beaab3d330ea51dcb53",
                                "IPY_MODEL_91cb1e703bef4176bfc5666956f797d2",
                                "IPY_MODEL_23e31cbb90a244d686f9979d32f3225a"
                            ],
                            "layout": "IPY_MODEL_f73e7fd9bba64030966b4da58baa24b1"
                        }
                    },
                    "d37a56458a6b4d8ea24827adaaa43219": {
                        "model_module": "@jupyter-widgets/controls",
                        "model_module_version": "1.5.0",
                        "model_name": "ProgressStyleModel",
                        "state": {
                            "description_width": ""
                        }
                    },
                    "d3b1e932170646cb89d0ea30c9f4eb61": {
                        "model_module": "@jupyter-widgets/controls",
                        "model_module_version": "1.5.0",
                        "model_name": "DescriptionStyleModel",
                        "state": {
                            "description_width": ""
                        }
                    },
                    "d3e22f0c1f8744aea80191117557dbc8": {
                        "model_module": "@jupyter-widgets/controls",
                        "model_module_version": "1.5.0",
                        "model_name": "DescriptionStyleModel",
                        "state": {
                            "description_width": ""
                        }
                    },
                    "d58c51e9f658479fb14e56add5bd22e5": {
                        "model_module": "@jupyter-widgets/base",
                        "model_module_version": "1.2.0",
                        "model_name": "LayoutModel",
                        "state": {}
                    },
                    "d5934470ca804b7980d20c95eb1f85f7": {
                        "model_module": "@jupyter-widgets/base",
                        "model_module_version": "1.2.0",
                        "model_name": "LayoutModel",
                        "state": {}
                    },
                    "d734b138c69b4193b75136d28a2df1ad": {
                        "model_module": "@jupyter-widgets/base",
                        "model_module_version": "1.2.0",
                        "model_name": "LayoutModel",
                        "state": {}
                    },
                    "d86ff8c9dd984e0488966cf72a56fed7": {
                        "model_module": "@jupyter-widgets/base",
                        "model_module_version": "1.2.0",
                        "model_name": "LayoutModel",
                        "state": {}
                    },
                    "d8fc5b61d5da4b98b78a922c0846f383": {
                        "model_module": "@jupyter-widgets/controls",
                        "model_module_version": "1.5.0",
                        "model_name": "FloatProgressModel",
                        "state": {
                            "bar_style": "success",
                            "layout": "IPY_MODEL_32001b90c1b543e9955eb46887e1d073",
                            "max": 117,
                            "style": "IPY_MODEL_5c598dd21f06457b8226cf37a2cf327c",
                            "value": 117
                        }
                    },
                    "d92b20bfc1a9494092a3193227ee5f7c": {
                        "model_module": "@jupyter-widgets/base",
                        "model_module_version": "1.2.0",
                        "model_name": "LayoutModel",
                        "state": {}
                    },
                    "d988c99b125a4cb89cad67baf27abbac": {
                        "model_module": "@jupyter-widgets/controls",
                        "model_module_version": "1.5.0",
                        "model_name": "HBoxModel",
                        "state": {
                            "children": [
                                "IPY_MODEL_a2f5b3377ec34fb8a25b69bac20e6bb6",
                                "IPY_MODEL_4404d661bac7428a83ff7743b57b51c9",
                                "IPY_MODEL_2f6ad15031684f2585e413d42ae8410b"
                            ],
                            "layout": "IPY_MODEL_2a1f835d7b2d4818983f413c7372d389"
                        }
                    },
                    "dc2c6523a6e24457b048240ea1aaee4d": {
                        "model_module": "@jupyter-widgets/base",
                        "model_module_version": "1.2.0",
                        "model_name": "LayoutModel",
                        "state": {}
                    },
                    "dd578e61a4b84c1c96ba63bbc85d9b5d": {
                        "model_module": "@jupyter-widgets/controls",
                        "model_module_version": "1.5.0",
                        "model_name": "HBoxModel",
                        "state": {
                            "children": [
                                "IPY_MODEL_82e34a6bfeb845a2a9a5a48cb8d93eee",
                                "IPY_MODEL_47948d92d7f94270abdd1e02e089deaf",
                                "IPY_MODEL_659bf09b27da4fad8f5eb538364dbb09"
                            ],
                            "layout": "IPY_MODEL_9af4a2ce50414dbfbd28d811044c6a93"
                        }
                    },
                    "ddb18ee8534a4eeda38b00179ed6480b": {
                        "model_module": "@jupyter-widgets/controls",
                        "model_module_version": "1.5.0",
                        "model_name": "HTMLModel",
                        "state": {
                            "layout": "IPY_MODEL_c6bf36d626dc46d38ec8c2eb0d266ba2",
                            "style": "IPY_MODEL_70bd4c72d1fb4ba88c7ca602c8df318f",
                            "value": "Epoch 12: 100%"
                        }
                    },
                    "ddecbac0efa44c85b7b60c03fa24cade": {
                        "model_module": "@jupyter-widgets/base",
                        "model_module_version": "1.2.0",
                        "model_name": "LayoutModel",
                        "state": {}
                    },
                    "ddf26b1f32be41afbe10385650bec039": {
                        "model_module": "@jupyter-widgets/controls",
                        "model_module_version": "1.5.0",
                        "model_name": "HTMLModel",
                        "state": {
                            "layout": "IPY_MODEL_23aff5442b054edfb50f45a308f2d427",
                            "style": "IPY_MODEL_4bea06dc10a041268ef4a497c69de38c",
                            "value": " 599/599 [50:12&lt;00:00,  7.65s/ batchs, lr=0.003, train_acc=0.982, train_f1=0.724, train_loss=0.051, train_precision=0.806, train_recall=0.657, val_acc=0.982, val_f1=0.718, val_loss=0.051, val_precision=0.827, val_recall=0.634]"
                        }
                    },
                    "ddf809414bc142e28a8316cca1369f92": {
                        "model_module": "@jupyter-widgets/base",
                        "model_module_version": "1.2.0",
                        "model_name": "LayoutModel",
                        "state": {}
                    },
                    "de03d773b9d34f5a8e9edff8a5da7f41": {
                        "model_module": "@jupyter-widgets/controls",
                        "model_module_version": "1.5.0",
                        "model_name": "HBoxModel",
                        "state": {
                            "children": [
                                "IPY_MODEL_a1451f306a95460e897339db2ef76f4a",
                                "IPY_MODEL_27c50456a63341379cc8511d6a3666ae",
                                "IPY_MODEL_a591f7e041a0488ea963b6bf4a117427"
                            ],
                            "layout": "IPY_MODEL_c850cd1e51de45cc8608bb6665a948bd"
                        }
                    },
                    "de3275f56fe048c887d1eed9fe771c54": {
                        "model_module": "@jupyter-widgets/controls",
                        "model_module_version": "1.5.0",
                        "model_name": "HTMLModel",
                        "state": {
                            "layout": "IPY_MODEL_b2dbc31084a64993af88c382c90d2476",
                            "style": "IPY_MODEL_75075c7d77d84ef9bb2930e9bf1bda74",
                            "value": " 599/599 [31:18&lt;00:00,  7.91s/ batchs, lr=0.002, train_acc=0.984, train_f1=0.765, train_loss=0.042, train_precision=0.833, train_recall=0.707, val_acc=0.982, val_f1=0.734, val_loss=0.049, val_precision=0.807, val_recall=0.673]"
                        }
                    },
                    "dea35c947b3042cea67d7e971ccdaf60": {
                        "model_module": "@jupyter-widgets/base",
                        "model_module_version": "1.2.0",
                        "model_name": "LayoutModel",
                        "state": {}
                    },
                    "deb1c04459a94943919f386a8b9649d9": {
                        "model_module": "@jupyter-widgets/controls",
                        "model_module_version": "1.5.0",
                        "model_name": "DescriptionStyleModel",
                        "state": {
                            "description_width": ""
                        }
                    },
                    "ded577292d644cbeacb7f87af13b5595": {
                        "model_module": "@jupyter-widgets/controls",
                        "model_module_version": "1.5.0",
                        "model_name": "DescriptionStyleModel",
                        "state": {
                            "description_width": ""
                        }
                    },
                    "df07bb39a6b84d629f6a2c17f5bb1512": {
                        "model_module": "@jupyter-widgets/controls",
                        "model_module_version": "1.5.0",
                        "model_name": "HTMLModel",
                        "state": {
                            "layout": "IPY_MODEL_e95ce60b7d9041e8a89f5508d63d5162",
                            "style": "IPY_MODEL_a60a053cb9fe460dbfffd74c8fa6cccd",
                            "value": "Epoch 11: 100%"
                        }
                    },
                    "df7c51275c4a46d9b2f1eef48ea1e197": {
                        "model_module": "@jupyter-widgets/base",
                        "model_module_version": "1.2.0",
                        "model_name": "LayoutModel",
                        "state": {}
                    },
                    "dfb3dd3a25704787892c4bb4f51451b0": {
                        "model_module": "@jupyter-widgets/controls",
                        "model_module_version": "1.5.0",
                        "model_name": "HTMLModel",
                        "state": {
                            "layout": "IPY_MODEL_2c25760f81864919b3eda93ac3f2a99d",
                            "style": "IPY_MODEL_1943415a0a3040568da88e0555094e1f",
                            "value": " 117/117 [13:16&lt;00:00,  4.59s/ batchs, lr=0.010, train_acc=0.965, train_f1=0.368, train_loss=0.116, train_precision=0.553, train_recall=0.275, val_acc=0.975, val_f1=0.560, val_loss=0.071, val_precision=0.807, val_recall=0.428]"
                        }
                    },
                    "dfb961a06563466aa825df02ef3b8b4d": {
                        "model_module": "@jupyter-widgets/base",
                        "model_module_version": "1.2.0",
                        "model_name": "LayoutModel",
                        "state": {}
                    },
                    "e00c65bd98dd4cbb9e3ffaa430ed223f": {
                        "model_module": "@jupyter-widgets/base",
                        "model_module_version": "1.2.0",
                        "model_name": "LayoutModel",
                        "state": {}
                    },
                    "e1adae04e5ba47df8e09b8a212cee80b": {
                        "model_module": "@jupyter-widgets/controls",
                        "model_module_version": "1.5.0",
                        "model_name": "ProgressStyleModel",
                        "state": {
                            "description_width": ""
                        }
                    },
                    "e20fff4805834bc3bedf640a2ae2936f": {
                        "model_module": "@jupyter-widgets/base",
                        "model_module_version": "1.2.0",
                        "model_name": "LayoutModel",
                        "state": {}
                    },
                    "e32112b4b9b14acaa1d17a5402ccdb54": {
                        "model_module": "@jupyter-widgets/controls",
                        "model_module_version": "1.5.0",
                        "model_name": "HBoxModel",
                        "state": {
                            "children": [
                                "IPY_MODEL_e412d3aa4e4444459d9c6afa15f070a3",
                                "IPY_MODEL_7b9ce32612d8425889ee1984e93291de",
                                "IPY_MODEL_c3ce65b043d741078bcd2c9dfdd1f799"
                            ],
                            "layout": "IPY_MODEL_3bfc0a02b76b42c6963a8a0595c69122"
                        }
                    },
                    "e33f0a4edfba4d13a641018e1758e555": {
                        "model_module": "@jupyter-widgets/controls",
                        "model_module_version": "1.5.0",
                        "model_name": "DescriptionStyleModel",
                        "state": {
                            "description_width": ""
                        }
                    },
                    "e3a1d7024f11458c9bee877b512a8278": {
                        "model_module": "@jupyter-widgets/controls",
                        "model_module_version": "1.5.0",
                        "model_name": "DescriptionStyleModel",
                        "state": {
                            "description_width": ""
                        }
                    },
                    "e412d3aa4e4444459d9c6afa15f070a3": {
                        "model_module": "@jupyter-widgets/controls",
                        "model_module_version": "1.5.0",
                        "model_name": "HTMLModel",
                        "state": {
                            "layout": "IPY_MODEL_91cde7c858d74be98f622f6c7dc5297b",
                            "style": "IPY_MODEL_16a9e056e8b74c22afc173e6de5cd273",
                            "value": "100%"
                        }
                    },
                    "e466414873f84cf191c7b5f7e617eb22": {
                        "model_module": "@jupyter-widgets/controls",
                        "model_module_version": "1.5.0",
                        "model_name": "ProgressStyleModel",
                        "state": {
                            "description_width": ""
                        }
                    },
                    "e46b822b5c7a45a1b1916d95d9049177": {
                        "model_module": "@jupyter-widgets/controls",
                        "model_module_version": "1.5.0",
                        "model_name": "HTMLModel",
                        "state": {
                            "layout": "IPY_MODEL_d02a50490b71429ebed966051d040550",
                            "style": "IPY_MODEL_1a10c5cc00db4516be4e7e8188d9a0fd",
                            "value": "Epoch 1: 100%"
                        }
                    },
                    "e49969c66ec14b5bb82b07de1013123b": {
                        "model_module": "@jupyter-widgets/base",
                        "model_module_version": "1.2.0",
                        "model_name": "LayoutModel",
                        "state": {}
                    },
                    "e4e8bf727e8846c6bec7c97f03e937a1": {
                        "model_module": "@jupyter-widgets/controls",
                        "model_module_version": "1.5.0",
                        "model_name": "DescriptionStyleModel",
                        "state": {
                            "description_width": ""
                        }
                    },
                    "e56825d6b9cc494fa5b5358ae8de322a": {
                        "model_module": "@jupyter-widgets/controls",
                        "model_module_version": "1.5.0",
                        "model_name": "HBoxModel",
                        "state": {
                            "children": [
                                "IPY_MODEL_3e939dcd5584499f8599f5f5588b552c",
                                "IPY_MODEL_8a1a074ab42c46bb8694133ca49b7837",
                                "IPY_MODEL_c20503ce10304a1fab404e4539114fe9"
                            ],
                            "layout": "IPY_MODEL_965256ce504c4be1b0374a8eceafb4cd"
                        }
                    },
                    "e5836ba24dbd472c96c26418a4fae22d": {
                        "model_module": "@jupyter-widgets/controls",
                        "model_module_version": "1.5.0",
                        "model_name": "HTMLModel",
                        "state": {
                            "layout": "IPY_MODEL_b548bb8d2bd541bdb76b99d4a1f02273",
                            "style": "IPY_MODEL_edf6fb8f5ee84eefa2e5cb3fda917f8d",
                            "value": " 117/117 [05:19&lt;00:00,  3.69s/ batchs, lr=0.001, train_acc=0.985, train_f1=0.767, train_loss=0.043, train_precision=0.882, train_recall=0.678, val_acc=0.980, val_f1=0.683, val_loss=0.064, val_precision=0.809, val_recall=0.591]"
                        }
                    },
                    "e5ec774d05f14de0bcc3dac28aeed512": {
                        "model_module": "@jupyter-widgets/controls",
                        "model_module_version": "1.5.0",
                        "model_name": "FloatProgressModel",
                        "state": {
                            "layout": "IPY_MODEL_83a46417c98d4cc186d88e1517caa53f",
                            "max": 10,
                            "style": "IPY_MODEL_e466414873f84cf191c7b5f7e617eb22"
                        }
                    },
                    "e5f5a186a2bc41d6a31a3d4c004c86af": {
                        "model_module": "@jupyter-widgets/controls",
                        "model_module_version": "1.5.0",
                        "model_name": "HBoxModel",
                        "state": {
                            "children": [
                                "IPY_MODEL_2e1e55f9963c44f88706c24bde266710",
                                "IPY_MODEL_612375b151f7451e9333811a50e47edb",
                                "IPY_MODEL_0cfe27691d744504981875e36da7a22a"
                            ],
                            "layout": "IPY_MODEL_54d781a641184876a21697b5f5054d3f"
                        }
                    },
                    "e63fc818e2ef46b38f1a90cf13fa890c": {
                        "model_module": "@jupyter-widgets/controls",
                        "model_module_version": "1.5.0",
                        "model_name": "HTMLModel",
                        "state": {
                            "layout": "IPY_MODEL_69db040e75ab4a0aaa438e52cc26765d",
                            "style": "IPY_MODEL_47114e86171048bebabe6a7b2ac675cc",
                            "value": "Epoch 15: 100%"
                        }
                    },
                    "e7098e646a8d486089083f2853373292": {
                        "model_module": "@jupyter-widgets/controls",
                        "model_module_version": "1.5.0",
                        "model_name": "HTMLModel",
                        "state": {
                            "layout": "IPY_MODEL_fd86311cbdfa470c8d056575c458d236",
                            "style": "IPY_MODEL_aa664527a83a4e6f9053b15012213fe1",
                            "value": "Epoch 1: 100%"
                        }
                    },
                    "e8de05f75ce64209a975953dd69fab38": {
                        "model_module": "@jupyter-widgets/controls",
                        "model_module_version": "1.5.0",
                        "model_name": "DescriptionStyleModel",
                        "state": {
                            "description_width": ""
                        }
                    },
                    "e95ce60b7d9041e8a89f5508d63d5162": {
                        "model_module": "@jupyter-widgets/base",
                        "model_module_version": "1.2.0",
                        "model_name": "LayoutModel",
                        "state": {}
                    },
                    "e9a0a786699e47fd93d8e7d31f20dc12": {
                        "model_module": "@jupyter-widgets/controls",
                        "model_module_version": "1.5.0",
                        "model_name": "ProgressStyleModel",
                        "state": {
                            "description_width": ""
                        }
                    },
                    "e9b15eef743c4f4095377461516b4a13": {
                        "model_module": "@jupyter-widgets/controls",
                        "model_module_version": "1.5.0",
                        "model_name": "HBoxModel",
                        "state": {
                            "children": [
                                "IPY_MODEL_6646bd559b6e4450bd8e5e12581a344e",
                                "IPY_MODEL_465c81d292884ac0a39dc593e2f880c9",
                                "IPY_MODEL_74bf5e3ac06342e49a375478f4f3149f"
                            ],
                            "layout": "IPY_MODEL_820dc49b103e4f5da3db203f3cb96619"
                        }
                    },
                    "e9d4939329d44363979c08572b7a6656": {
                        "model_module": "@jupyter-widgets/base",
                        "model_module_version": "1.2.0",
                        "model_name": "LayoutModel",
                        "state": {}
                    },
                    "ea2715dc75894f33ac5afc8628a58f17": {
                        "model_module": "@jupyter-widgets/base",
                        "model_module_version": "1.2.0",
                        "model_name": "LayoutModel",
                        "state": {}
                    },
                    "ea8c23175a4c442cb5ec3b387c7cc388": {
                        "model_module": "@jupyter-widgets/base",
                        "model_module_version": "1.2.0",
                        "model_name": "LayoutModel",
                        "state": {}
                    },
                    "eaa8fc8fc8e84790a7376a98c1505bef": {
                        "model_module": "@jupyter-widgets/controls",
                        "model_module_version": "1.5.0",
                        "model_name": "HTMLModel",
                        "state": {
                            "layout": "IPY_MODEL_151ccbb1357549aebfadae69dbefc6a2",
                            "style": "IPY_MODEL_86319e2c9047488ab9fe61c32dbc7103",
                            "value": " 117/117 [11:27&lt;00:00,  3.77s/ batchs, lr=0.006, train_acc=0.981, train_f1=0.688, train_loss=0.055, train_precision=0.847, train_recall=0.580, val_acc=0.979, val_f1=0.657, val_loss=0.063, val_precision=0.822, val_recall=0.548]"
                        }
                    },
                    "ebfc010379e34c60beb4e45ee45af02b": {
                        "model_module": "@jupyter-widgets/controls",
                        "model_module_version": "1.5.0",
                        "model_name": "ProgressStyleModel",
                        "state": {
                            "description_width": ""
                        }
                    },
                    "ed683651c7ca4681a99e7563d361a4c9": {
                        "model_module": "@jupyter-widgets/controls",
                        "model_module_version": "1.5.0",
                        "model_name": "HTMLModel",
                        "state": {
                            "layout": "IPY_MODEL_bd6ea4c6fa9d44de8c324b04641fbe54",
                            "style": "IPY_MODEL_d3e22f0c1f8744aea80191117557dbc8",
                            "value": " 608/3740 [1:49:33&lt;05:18,  9.84 batchs/s, lr=0.006, train_acc=0.963, train_f1=0.00e+00, train_loss=0.153, train_precision=0.00e+00, train_recall=0.00e+00]"
                        }
                    },
                    "ed8563cb00864d20add3c071125a34b6": {
                        "model_module": "@jupyter-widgets/controls",
                        "model_module_version": "1.5.0",
                        "model_name": "DescriptionStyleModel",
                        "state": {
                            "description_width": ""
                        }
                    },
                    "edf6fb8f5ee84eefa2e5cb3fda917f8d": {
                        "model_module": "@jupyter-widgets/controls",
                        "model_module_version": "1.5.0",
                        "model_name": "DescriptionStyleModel",
                        "state": {
                            "description_width": ""
                        }
                    },
                    "ee15749369b946b1b7bbc2216252520c": {
                        "model_module": "@jupyter-widgets/base",
                        "model_module_version": "1.2.0",
                        "model_name": "LayoutModel",
                        "state": {}
                    },
                    "f0aef001688748b489b4139eeb1e82b3": {
                        "model_module": "@jupyter-widgets/controls",
                        "model_module_version": "1.5.0",
                        "model_name": "HBoxModel",
                        "state": {
                            "children": [
                                "IPY_MODEL_f3700d1cd053473a8b47c1b96f64b030",
                                "IPY_MODEL_32d0a037b2dc4df48b863c463559a128",
                                "IPY_MODEL_4dcdb06a3bb942398054cd369ee0019e"
                            ],
                            "layout": "IPY_MODEL_22681beb8687443ca9aa113946b793d0"
                        }
                    },
                    "f192b76d22ba4d4e9374af2bb992ee7d": {
                        "model_module": "@jupyter-widgets/controls",
                        "model_module_version": "1.5.0",
                        "model_name": "HTMLModel",
                        "state": {
                            "layout": "IPY_MODEL_dea35c947b3042cea67d7e971ccdaf60",
                            "style": "IPY_MODEL_a2007bd51ad549af9f7f069cb7f3dfbb",
                            "value": " 117/117 [07:57&lt;00:00,  3.72s/ batchs, lr=0.003, train_acc=0.984, train_f1=0.750, train_loss=0.046, train_precision=0.876, train_recall=0.656, val_acc=0.980, val_f1=0.677, val_loss=0.063, val_precision=0.814, val_recall=0.580]"
                        }
                    },
                    "f31944190fe14a33b33af1122e3a6795": {
                        "model_module": "@jupyter-widgets/controls",
                        "model_module_version": "1.5.0",
                        "model_name": "DescriptionStyleModel",
                        "state": {
                            "description_width": ""
                        }
                    },
                    "f3700d1cd053473a8b47c1b96f64b030": {
                        "model_module": "@jupyter-widgets/controls",
                        "model_module_version": "1.5.0",
                        "model_name": "HTMLModel",
                        "state": {
                            "layout": "IPY_MODEL_98470be74f194002b96fbdaa1bed0afa",
                            "style": "IPY_MODEL_cf90c64db7614e7bba318a2d12b701e1",
                            "value": "Epoch 2: 100%"
                        }
                    },
                    "f46cce04cdaa484a8255fe5fedb8e1bd": {
                        "model_module": "@jupyter-widgets/controls",
                        "model_module_version": "1.5.0",
                        "model_name": "HTMLModel",
                        "state": {
                            "layout": "IPY_MODEL_8678d1fad13147909377e2d2725e8494",
                            "style": "IPY_MODEL_aa976b4a83a7401b9495549178cea19a",
                            "value": "Epoch 10: 100%"
                        }
                    },
                    "f485c33e65d3465895e906960e3a6793": {
                        "model_module": "@jupyter-widgets/controls",
                        "model_module_version": "1.5.0",
                        "model_name": "DescriptionStyleModel",
                        "state": {
                            "description_width": ""
                        }
                    },
                    "f645d0d86a47483a87ac6b990f90c04b": {
                        "model_module": "@jupyter-widgets/controls",
                        "model_module_version": "1.5.0",
                        "model_name": "ProgressStyleModel",
                        "state": {
                            "description_width": ""
                        }
                    },
                    "f6573cfeb0ee4d29a25938218eadee29": {
                        "model_module": "@jupyter-widgets/controls",
                        "model_module_version": "1.5.0",
                        "model_name": "ProgressStyleModel",
                        "state": {
                            "description_width": ""
                        }
                    },
                    "f6e57df43b78442cbb3075fec528cad6": {
                        "model_module": "@jupyter-widgets/controls",
                        "model_module_version": "1.5.0",
                        "model_name": "HTMLModel",
                        "state": {
                            "layout": "IPY_MODEL_7fae716a0f8d45389dfd87794a849a68",
                            "style": "IPY_MODEL_7960aa04598e4782984d8fb6532d7d00",
                            "value": " 599/599 [06:16&lt;00:00,  7.69s/ batchs, lr=6.71e-04, train_acc=0.989, train_f1=0.838, train_loss=0.029, train_precision=0.869, train_recall=0.809, val_acc=0.981, val_f1=0.732, val_loss=0.057, val_precision=0.774, val_recall=0.695]"
                        }
                    },
                    "f73e7fd9bba64030966b4da58baa24b1": {
                        "model_module": "@jupyter-widgets/base",
                        "model_module_version": "1.2.0",
                        "model_name": "LayoutModel",
                        "state": {}
                    },
                    "f7552e2dd3a34186a63f4a57fccee534": {
                        "model_module": "@jupyter-widgets/base",
                        "model_module_version": "1.2.0",
                        "model_name": "LayoutModel",
                        "state": {}
                    },
                    "f7d63ab8057f46d2ab853aca60f81790": {
                        "model_module": "@jupyter-widgets/base",
                        "model_module_version": "1.2.0",
                        "model_name": "LayoutModel",
                        "state": {}
                    },
                    "f8f4a48b88fd44a1911e16c9e5a108c7": {
                        "model_module": "@jupyter-widgets/controls",
                        "model_module_version": "1.5.0",
                        "model_name": "HTMLModel",
                        "state": {
                            "layout": "IPY_MODEL_2b768b0cb80948baac1739e842fed492",
                            "style": "IPY_MODEL_bdc0e7c4c9bd4d2ead9943b618ddda71",
                            "value": " 117/117 [00:53&lt;00:00,  3.81s/ batchs, lr=4.40e-04, train_acc=0.985, train_f1=0.778, train_loss=0.041, train_precision=0.887, train_recall=0.693, val_acc=0.980, val_f1=0.686, val_loss=0.064, val_precision=0.807, val_recall=0.597]"
                        }
                    },
                    "f92c60c2449c43d7b580f02322987fb5": {
                        "model_module": "@jupyter-widgets/controls",
                        "model_module_version": "1.5.0",
                        "model_name": "FloatProgressModel",
                        "state": {
                            "bar_style": "success",
                            "layout": "IPY_MODEL_00d233317c364a05bb56e738ff5de4f8",
                            "max": 117,
                            "style": "IPY_MODEL_d1b2a1c1e6114ed3816b4366266b8401",
                            "value": 117
                        }
                    },
                    "fd412b938e944826ad6302d09376e072": {
                        "model_module": "@jupyter-widgets/controls",
                        "model_module_version": "1.5.0",
                        "model_name": "ProgressStyleModel",
                        "state": {
                            "description_width": ""
                        }
                    },
                    "fd5dc120f19541b6ab04a18ad74b380f": {
                        "model_module": "@jupyter-widgets/controls",
                        "model_module_version": "1.5.0",
                        "model_name": "HTMLModel",
                        "state": {
                            "layout": "IPY_MODEL_0e31bc6c4dd7445ca7b5d3d43e314a8c",
                            "style": "IPY_MODEL_21de250969764f1380819ee234a86ca4",
                            "value": "Epoch 3: 100%"
                        }
                    },
                    "fd86311cbdfa470c8d056575c458d236": {
                        "model_module": "@jupyter-widgets/base",
                        "model_module_version": "1.2.0",
                        "model_name": "LayoutModel",
                        "state": {}
                    },
                    "ff9fe9461fbe46eeb4ae2fbccec685fc": {
                        "model_module": "@jupyter-widgets/controls",
                        "model_module_version": "1.5.0",
                        "model_name": "ProgressStyleModel",
                        "state": {
                            "description_width": ""
                        }
                    },
                    "fffed9d50bc844518028159ed65f2217": {
                        "model_module": "@jupyter-widgets/base",
                        "model_module_version": "1.2.0",
                        "model_name": "LayoutModel",
                        "state": {}
                    }
                },
                "version_major": 2,
                "version_minor": 0
            }
        }
    },
    "nbformat": 4,
    "nbformat_minor": 4
}