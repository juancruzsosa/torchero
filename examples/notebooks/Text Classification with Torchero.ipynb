{
 "cells": [
  {
   "cell_type": "markdown",
   "metadata": {},
   "source": [
    "## 1. Imports"
   ]
  },
  {
   "cell_type": "code",
   "execution_count": 1,
   "metadata": {},
   "outputs": [],
   "source": [
    "from enum import Enum\n",
    "\n",
    "import torch\n",
    "from torch import nn, optim\n",
    "import pandas as pd\n",
    "import matplotlib.pyplot as plt\n",
    "\n",
    "from torchero import SupervisedTrainer\n",
    "from torchero.models.text import LinearModel\n",
    "from torchero.utils.collate import BoWCollate\n",
    "from torchero.utils.text import TextClassificationDataset, GLoVeVectors\n",
    "from torchero.utils.data import train_test_split\n",
    "from torchero.callbacks import ProgbarLogger\n",
    "from torchero.hparams import OptimP\n",
    "from torchero.meters import Precision, Recall, F1Score"
   ]
  },
  {
   "cell_type": "code",
   "execution_count": 2,
   "metadata": {},
   "outputs": [],
   "source": [
    "USE_PRETRAINED_EMBEDDINGS = True\n",
    "FREEZE_EMBEDDINGS = True"
   ]
  },
  {
   "cell_type": "code",
   "execution_count": 3,
   "metadata": {},
   "outputs": [
    {
     "name": "stdout",
     "output_type": "stream",
     "text": [
      "\"id\",\"comment_text\",\"toxic\",\"severe_toxic\",\"obscene\",\"threat\",\"insult\",\"identity_hate\"\n"
     ]
    }
   ],
   "source": [
    "!head -n 1 /mnt/datasets/datasets/nlp/jigsaw-toxic-comment-classification-challenge/train.csv"
   ]
  },
  {
   "cell_type": "code",
   "execution_count": 4,
   "metadata": {},
   "outputs": [],
   "source": [
    "if USE_PRETRAINED_EMBEDDINGS:\n",
    "    vectors = GLoVeVectors.from_url()"
   ]
  },
  {
   "cell_type": "markdown",
   "metadata": {},
   "source": [
    "## Load the dataset"
   ]
  },
  {
   "cell_type": "code",
   "execution_count": 5,
   "metadata": {},
   "outputs": [],
   "source": [
    "df_train = pd.read_csv('/mnt/datasets/datasets/nlp/jigsaw-toxic-comment-classification-challenge/train.csv')\n",
    "\n",
    "if USE_PRETRAINED_EMBEDDINGS:\n",
    "    train_ds = TextClassificationDataset(df_train['comment_text'].tolist(),\n",
    "                                         df_train[\"toxic\"].tolist(),\n",
    "                                         tokenizer='spacy:en',\n",
    "                                         vocab=vectors.vocab)\n",
    "else:\n",
    "    train_ds = TextClassificationDataset(df_train['comment_text'].tolist(),\n",
    "                                         df_train[\"toxic\"].tolist(),\n",
    "                                         tokenizer='spacy:en',\n",
    "                                         vocab_max_size=100000)\n",
    "train_ds, val_ds = train_test_split(train_ds, valid_size=0.2)\n",
    "train_dl = train_ds.dataloader(collate_fn=BoWCollate(), batch_size=256, shuffle=True, num_workers=6)\n",
    "val_dl = val_ds.dataloader(collate_fn=BoWCollate(), batch_size=256, shuffle=False, num_workers=6)"
   ]
  },
  {
   "cell_type": "code",
   "execution_count": 6,
   "metadata": {},
   "outputs": [
    {
     "data": {
      "text/plain": [
       "(tensor([   9, 5773,  198,  ..., 1076, 2491,    3]),\n",
       " tensor([    0,    50,    82,   111,   130,   199,   250,   440,   574,  1238,\n",
       "          1327,  1332,  1383,  1455,  1542,  1604,  1613,  1785,  1806,  1923,\n",
       "          1975,  1984,  1992,  2119,  2129,  2176,  2865,  2880,  2884,  2913,\n",
       "          2924,  2978,  3593,  3642,  3691,  3813,  3819,  3892,  3929,  3935,\n",
       "          4008,  4049,  4076,  4128,  4167,  4482,  4578,  4636,  4665,  4671,\n",
       "          4739,  4781,  4903,  4953,  5005,  5534,  5750,  5759,  5801,  5846,\n",
       "          6031,  6035,  6075,  6244,  6325,  6343,  6354,  6714,  6941,  6992,\n",
       "          7198,  7213,  7235,  7389,  7455,  7479,  7482,  7789,  7809,  8026,\n",
       "          8106,  8220,  8274,  8364,  8375,  8410,  8522,  8533,  8631,  8641,\n",
       "          8685,  8695,  8727,  8762,  8795,  8855,  8871,  8972,  9009,  9015,\n",
       "          9023,  9027,  9044,  9068,  9085,  9111,  9129,  9370,  9425,  9453,\n",
       "          9459,  9532,  9600,  9635,  9741,  9855,  9885,  9901,  9956,  9962,\n",
       "         10143, 10149, 10162, 10219, 10276, 10327, 10350, 10455, 10513, 10541,\n",
       "         10567, 10583, 10608, 10638, 10647, 10766, 10821, 10939, 10952, 10972,\n",
       "         11024, 11075, 11101, 11200, 11409, 11468, 11504, 11526, 11567, 11580,\n",
       "         11587, 11605, 11608, 11624, 11724, 11798, 11840, 11919, 11932, 12019,\n",
       "         12044, 12106, 12146, 12192, 12240, 12273, 12367, 12612, 12683, 12741,\n",
       "         12787, 12839, 12854, 12870, 12931, 12936, 13019, 13024, 13109, 13115,\n",
       "         13145, 13247, 13286, 13297, 13422, 13429, 13447, 13463, 13490, 13565,\n",
       "         13732, 13785, 13969, 14045, 14205, 14221, 14253, 14275, 14296, 14318,\n",
       "         14391, 14407, 14583, 14586, 14633, 14695, 14725, 14752, 14781, 14824,\n",
       "         14898, 14958, 14987, 15010, 15033, 15210, 15239, 15276, 15348, 15558,\n",
       "         15587, 15632, 15668, 15722, 15796, 15805, 16500, 16633, 16696, 16730,\n",
       "         16810, 16844, 16881, 17000, 17099, 17188, 17270, 17278, 17326, 17361,\n",
       "         17401, 17833, 17881, 17911, 17977, 18135, 18280, 18326, 18391, 18444,\n",
       "         18510, 18571, 18643, 18673, 18700, 18815]),\n",
       " tensor([0, 0, 0, 1, 0, 0, 0, 0, 0, 0, 0, 0, 0, 0, 0, 0, 0, 0, 0, 0, 0, 0, 0, 0,\n",
       "         0, 0, 0, 0, 0, 1, 0, 0, 0, 0, 0, 0, 0, 0, 1, 0, 0, 1, 0, 0, 0, 0, 0, 0,\n",
       "         0, 0, 0, 0, 0, 0, 0, 0, 0, 0, 0, 0, 0, 0, 0, 0, 0, 0, 0, 0, 0, 0, 0, 0,\n",
       "         0, 0, 0, 1, 0, 0, 0, 0, 0, 0, 0, 0, 0, 0, 0, 0, 0, 0, 0, 0, 0, 0, 0, 1,\n",
       "         0, 0, 0, 0, 0, 0, 0, 0, 0, 0, 0, 0, 0, 0, 1, 0, 0, 0, 0, 0, 0, 0, 0, 0,\n",
       "         1, 0, 0, 0, 0, 0, 0, 0, 0, 0, 0, 0, 0, 0, 0, 0, 0, 0, 0, 0, 0, 0, 0, 0,\n",
       "         0, 0, 1, 0, 0, 0, 0, 0, 0, 0, 0, 0, 0, 0, 0, 0, 0, 0, 0, 0, 0, 0, 0, 0,\n",
       "         0, 0, 0, 0, 0, 0, 1, 0, 1, 0, 0, 0, 0, 0, 1, 1, 0, 0, 0, 0, 0, 0, 1, 0,\n",
       "         0, 0, 0, 0, 0, 0, 0, 0, 0, 0, 1, 0, 0, 0, 0, 0, 0, 0, 0, 0, 0, 0, 0, 0,\n",
       "         0, 0, 0, 1, 0, 0, 0, 0, 0, 0, 0, 0, 0, 0, 0, 0, 0, 0, 0, 0, 0, 0, 0, 0,\n",
       "         0, 0, 0, 0, 0, 0, 0, 0, 0, 0, 0, 0, 0, 0, 0, 0]))"
      ]
     },
     "execution_count": 6,
     "metadata": {},
     "output_type": "execute_result"
    }
   ],
   "source": [
    "(x, l), y = next(iter(train_dl))\n",
    "x, l, y"
   ]
  },
  {
   "cell_type": "markdown",
   "metadata": {},
   "source": [
    "## Linear Model"
   ]
  },
  {
   "cell_type": "code",
   "execution_count": 7,
   "metadata": {},
   "outputs": [
    {
     "data": {
      "text/plain": [
       "400001"
      ]
     },
     "execution_count": 7,
     "metadata": {},
     "output_type": "execute_result"
    }
   ],
   "source": [
    "len(train_ds.vocab)"
   ]
  },
  {
   "cell_type": "code",
   "execution_count": 8,
   "metadata": {},
   "outputs": [],
   "source": [
    "linear_model = LinearModel(len(train_ds.vocab),300)"
   ]
  },
  {
   "cell_type": "code",
   "execution_count": 9,
   "metadata": {},
   "outputs": [],
   "source": [
    "if USE_PRETRAINED_EMBEDDINGS:\n",
    "    linear_model.embeddings.weight.data[1:,:] = vectors.matrix\n",
    "    linear_model.embeddings.weight.requires_grad = not FREEZE_EMBEDDINGS"
   ]
  },
  {
   "cell_type": "code",
   "execution_count": 10,
   "metadata": {},
   "outputs": [
    {
     "data": {
      "application/vnd.jupyter.widget-view+json": {
       "model_id": "374fe9332eff4239a4fe17b0e365d598",
       "version_major": 2,
       "version_minor": 0
      },
      "text/plain": [
       "  0%|          | 0/3 [00:00<?, ?epoch/s]"
      ]
     },
     "metadata": {},
     "output_type": "display_data"
    },
    {
     "data": {
      "application/vnd.jupyter.widget-view+json": {
       "model_id": "6fda24ec50c846a68f515f2e22fde159",
       "version_major": 2,
       "version_minor": 0
      },
      "text/plain": [
       "  0%|          | 0/624 [00:00<?, ? batchs/s]"
      ]
     },
     "metadata": {},
     "output_type": "display_data"
    },
    {
     "data": {
      "application/vnd.jupyter.widget-view+json": {
       "model_id": "97fcadfc3ad74bf8b519e7ecd18f58f7",
       "version_major": 2,
       "version_minor": 0
      },
      "text/plain": [
       "  0%|          | 0/624 [00:00<?, ? batchs/s]"
      ]
     },
     "metadata": {},
     "output_type": "display_data"
    },
    {
     "data": {
      "application/vnd.jupyter.widget-view+json": {
       "model_id": "d70ecc452d724ca6b2697258a46fc370",
       "version_major": 2,
       "version_minor": 0
      },
      "text/plain": [
       "  0%|          | 0/624 [00:00<?, ? batchs/s]"
      ]
     },
     "metadata": {},
     "output_type": "display_data"
    }
   ],
   "source": [
    "linear_model_trainer = SupervisedTrainer(linear_model,\n",
    "                                         criterion='binary_cross_entropy_wl',\n",
    "                                         optimizer='adam',\n",
    "                                         acc_meters=['binary_with_logits_accuracy',\n",
    "                                                     Precision(with_logits=True),\n",
    "                                                     Recall(with_logits=True),\n",
    "                                                     F1Score(with_logits=True)],\n",
    "                                       callbacks=[ProgbarLogger(notebook=True)])\n",
    "linear_model_trainer.to('cuda')\n",
    "linear_model_trainer.train(train_dl, val_dl, epochs=3)"
   ]
  },
  {
   "cell_type": "markdown",
   "metadata": {},
   "source": [
    "### Training results"
   ]
  },
  {
   "cell_type": "code",
   "execution_count": 11,
   "metadata": {},
   "outputs": [
    {
     "data": {
      "image/png": "[encoded data removed]",
      "text/plain": [
       "<Figure size 1080x1080 with 6 Axes>"
      ]
     },
     "metadata": {
      "needs_background": "light"
     },
     "output_type": "display_data"
    }
   ],
   "source": [
    "linear_model_trainer.history.plot()\n",
    "plt.show()"
   ]
  },
  {
   "cell_type": "code",
   "execution_count": 15,
   "metadata": {},
   "outputs": [],
   "source": [
    "class Conv1DBlock(nn.Module):\n",
    "    def __init__(self, c_in, c_out, kernel_size=3, padding=(0, 0), stride=1, max_pool=True):\n",
    "        super(Conv1DBlock, self).__init__()\n",
    "        self.padding = nn.ConstantPad1d(padding, 0)\n",
    "        self.conv = nn.Conv1d(c_in, c_out, kernel_size=kernel_size, stride=stride, padding=0)\n",
    "        self.batch_norm = nn.BatchNorm1d(c_out)\n",
    "        self.act = nn.ReLU(inplace=True)\n",
    "        self.max_pool = nn.MaxPool1d(2) if max_pool else None\n",
    "    \n",
    "    def forward(self, x):\n",
    "        x = self.act(self.batch_norm(self.conv(self.padding(x))))\n",
    "        if self.max_pool is not None:\n",
    "            x = self.max_pool(x)\n",
    "        return x\n",
    "\n",
    "class Conv1DSuperBlock(nn.Module):\n",
    "    def __init__(self, c_in, c_out, kernel_sizes=[3], padding=[(0, 0)], stride=1, max_pool=True):\n",
    "        super(Conv1DSuperBlock, self).__init__()\n",
    "        assert(len(padding) == len(kernel_sizes))\n",
    "        self.convs = [Conv1DBlock(c_in, c_out, kernel_size=k, padding=p, stride=stride, max_pool=max_pool)\n",
    "                      for k, p in zip(kernel_sizes, padding)]\n",
    "    \n",
    "    def to(self, device):\n",
    "        super(Conv1DSuperBlock, self).to(device)\n",
    "        for conv in self.convs:\n",
    "            conv.to(device)\n",
    "        \n",
    "    \n",
    "    def forward(self, x):\n",
    "        outputs = [conv(x) for conv in self.convs]\n",
    "        return torch.cat(outputs, dim=1)\n",
    "    \n",
    "\n",
    "class ConvModel(nn.Module):\n",
    "    def __init__(self, embedding_dim=50):\n",
    "        super(ConvModel, self).__init__()\n",
    "        self.embeddings = nn.Embedding(len(train_ds.vocab), embedding_dim=embedding_dim, padding_idx=train_ds.vocab[train_ds.vocab.pad])\n",
    "        self.convs = nn.Sequential(Conv1DSuperBlock(embedding_dim, 32, [1,2,3], [(0, 0), (1, 0), (2, 0)]),\n",
    "                                   Conv1DSuperBlock(32*3, 16, [1,2,3], [(0, 0), (1, 0), (2,0)]),\n",
    "                                   Conv1DBlock(16*3, 20, 3, padding=(1,1), stride=1, max_pool=False),\n",
    "                                   nn.AdaptiveMaxPool1d(1),\n",
    "                                   nn.Flatten(),\n",
    "                                   nn.Linear(20, 10),\n",
    "                                   nn.ReLU(),\n",
    "                                   nn.Dropout(0.5),\n",
    "                                   nn.Linear(10, 1))\n",
    "        \n",
    "    def to(self, device):\n",
    "        super(ConvModel, self).to(device)\n",
    "        self.embeddings.to(device)\n",
    "        self.convs[0].to(device)\n",
    "        self.convs[1].to(device)\n",
    "        self.convs[2].to(device)\n",
    "        \n",
    "    def forward(self, x):\n",
    "        x = self.embeddings(x)\n",
    "        x = x.transpose(-1, 1)\n",
    "        x = self.convs(x)\n",
    "        return x.view(-1)"
   ]
  },
  {
   "cell_type": "code",
   "execution_count": 16,
   "metadata": {},
   "outputs": [],
   "source": [
    "conv_model = ConvModel(100)"
   ]
  },
  {
   "cell_type": "code",
   "execution_count": 17,
   "metadata": {},
   "outputs": [
    {
     "data": {
      "application/vnd.jupyter.widget-view+json": {
       "model_id": "5938cab5f21d414382cd205f9eb118c0",
       "version_major": 2,
       "version_minor": 0
      },
      "text/plain": [
       "  0%|          | 0/10 [00:00<?, ?epoch/s]"
      ]
     },
     "metadata": {},
     "output_type": "display_data"
    },
    {
     "data": {
      "application/vnd.jupyter.widget-view+json": {
       "model_id": "f8f579930c0e4184a5788d224918de6b",
       "version_major": 2,
       "version_minor": 0
      },
      "text/plain": [
       "  0%|          | 0/624 [00:00<?, ? batchs/s]"
      ]
     },
     "metadata": {},
     "output_type": "display_data"
    },
    {
     "data": {
      "application/vnd.jupyter.widget-view+json": {
       "model_id": "df12b6996a3a48a49f673fbfa14a3a60",
       "version_major": 2,
       "version_minor": 0
      },
      "text/plain": [
       "  0%|          | 0/624 [00:00<?, ? batchs/s]"
      ]
     },
     "metadata": {},
     "output_type": "display_data"
    },
    {
     "data": {
      "application/vnd.jupyter.widget-view+json": {
       "model_id": "4d3c46337df44dc29edb0420b06c4fc3",
       "version_major": 2,
       "version_minor": 0
      },
      "text/plain": [
       "  0%|          | 0/624 [00:00<?, ? batchs/s]"
      ]
     },
     "metadata": {},
     "output_type": "display_data"
    },
    {
     "data": {
      "application/vnd.jupyter.widget-view+json": {
       "model_id": "5f4021703e754905ace5270576ed08a5",
       "version_major": 2,
       "version_minor": 0
      },
      "text/plain": [
       "  0%|          | 0/624 [00:00<?, ? batchs/s]"
      ]
     },
     "metadata": {},
     "output_type": "display_data"
    },
    {
     "data": {
      "application/vnd.jupyter.widget-view+json": {
       "model_id": "0f4728a88ca4440caa40d46f83462855",
       "version_major": 2,
       "version_minor": 0
      },
      "text/plain": [
       "  0%|          | 0/624 [00:00<?, ? batchs/s]"
      ]
     },
     "metadata": {},
     "output_type": "display_data"
    },
    {
     "data": {
      "application/vnd.jupyter.widget-view+json": {
       "model_id": "fc334c4c2f3f465cae1a8cc87914cb3b",
       "version_major": 2,
       "version_minor": 0
      },
      "text/plain": [
       "  0%|          | 0/624 [00:00<?, ? batchs/s]"
      ]
     },
     "metadata": {},
     "output_type": "display_data"
    },
    {
     "data": {
      "application/vnd.jupyter.widget-view+json": {
       "model_id": "702ed10e47d040ad9ed5560981833d22",
       "version_major": 2,
       "version_minor": 0
      },
      "text/plain": [
       "  0%|          | 0/624 [00:00<?, ? batchs/s]"
      ]
     },
     "metadata": {},
     "output_type": "display_data"
    },
    {
     "data": {
      "application/vnd.jupyter.widget-view+json": {
       "model_id": "117d552da0cf4e1395c6857250a6f896",
       "version_major": 2,
       "version_minor": 0
      },
      "text/plain": [
       "  0%|          | 0/624 [00:00<?, ? batchs/s]"
      ]
     },
     "metadata": {},
     "output_type": "display_data"
    },
    {
     "data": {
      "application/vnd.jupyter.widget-view+json": {
       "model_id": "9c22724b4b474b469cf9fbf66b3045fd",
       "version_major": 2,
       "version_minor": 0
      },
      "text/plain": [
       "  0%|          | 0/624 [00:00<?, ? batchs/s]"
      ]
     },
     "metadata": {},
     "output_type": "display_data"
    },
    {
     "data": {
      "application/vnd.jupyter.widget-view+json": {
       "model_id": "5de3308dc77940209a53a960eac4002e",
       "version_major": 2,
       "version_minor": 0
      },
      "text/plain": [
       "  0%|          | 0/624 [00:00<?, ? batchs/s]"
      ]
     },
     "metadata": {},
     "output_type": "display_data"
    }
   ],
   "source": [
    "conv_trainer = SupervisedTrainer(conv_model,\n",
    "                                 criterion='binary_cross_entropy_wl',\n",
    "                                 optimizer='adam',\n",
    "                                 acc_meters=['binary_with_logits_accuracy',\n",
    "                                              Precision(with_logits=True),\n",
    "                                              Recall(with_logits=True),\n",
    "                                              F1Score(with_logits=True)],\n",
    "                                 callbacks=[ProgbarLogger(notebook=True)])\n",
    "conv_trainer.to('cuda')\n",
    "\n",
    "train_dl = train_ds.dataloader(batch_size=256, shuffle=True, num_workers=6)\n",
    "val_dl = val_ds.dataloader(batch_size=256, shuffle=False, num_workers=6)\n",
    "conv_trainer.train(train_dl, val_dl, epochs=10)"
   ]
  },
  {
   "cell_type": "code",
   "execution_count": 18,
   "metadata": {},
   "outputs": [
    {
     "data": {
      "image/png": "[encoded data removed]",
      "text/plain": [
       "<Figure size 1080x1080 with 6 Axes>"
      ]
     },
     "metadata": {
      "needs_background": "light"
     },
     "output_type": "display_data"
    }
   ],
   "source": [
    "conv_trainer.history.plot()\n",
    "plt.show()"
   ]
  },
  {
   "cell_type": "code",
   "execution_count": null,
   "metadata": {},
   "outputs": [],
   "source": []
  }
 ],
 "metadata": {
  "kernelspec": {
   "display_name": "Python 3",
   "language": "python",
   "name": "python3"
  },
  "language_info": {
   "codemirror_mode": {
    "name": "ipython",
    "version": 3
   },
   "file_extension": ".py",
   "mimetype": "text/x-python",
   "name": "python",
   "nbconvert_exporter": "python",
   "pygments_lexer": "ipython3",
   "version": "3.9.5"
  },
  "widgets": {
   "application/vnd.jupyter.widget-state+json": {
    "state": {
     "00033c992c9248298c5932f3b6efee10": {
      "model_module": "@jupyter-widgets/controls",
      "model_module_version": "1.5.0",
      "model_name": "DescriptionStyleModel",
      "state": {
       "description_width": ""
      }
     },
     "039c6d2e7907481382bbd9ad0386d510": {
      "model_module": "@jupyter-widgets/controls",
      "model_module_version": "1.5.0",
      "model_name": "DescriptionStyleModel",
      "state": {
       "description_width": ""
      }
     },
     "03dc73aadd0b4e44922997a9c0b36f8d": {
      "model_module": "@jupyter-widgets/controls",
      "model_module_version": "1.5.0",
      "model_name": "ProgressStyleModel",
      "state": {
       "description_width": ""
      }
     },
     "062f82cc43cb45308535511c5200c389": {
      "model_module": "@jupyter-widgets/controls",
      "model_module_version": "1.5.0",
      "model_name": "DescriptionStyleModel",
      "state": {
       "description_width": ""
      }
     },
     "0649d065156a4b89ac4db64a66367585": {
      "model_module": "@jupyter-widgets/base",
      "model_module_version": "1.2.0",
      "model_name": "LayoutModel",
      "state": {}
     },
     "0a3ea88a3315403f9082755e18fa80ff": {
      "model_module": "@jupyter-widgets/base",
      "model_module_version": "1.2.0",
      "model_name": "LayoutModel",
      "state": {}
     },
     "0b8af498c03a415e805d701bc77ad791": {
      "model_module": "@jupyter-widgets/controls",
      "model_module_version": "1.5.0",
      "model_name": "DescriptionStyleModel",
      "state": {
       "description_width": ""
      }
     },
     "0cb0554dc3b742e9a597c57f2bcd83b5": {
      "model_module": "@jupyter-widgets/controls",
      "model_module_version": "1.5.0",
      "model_name": "HTMLModel",
      "state": {
       "layout": "IPY_MODEL_84b60c56d64548f7b4890bad79ae33bd",
       "style": "IPY_MODEL_f59b246daf984ea996425f459f140685",
       "value": "Epoch 2: 100%"
      }
     },
     "0d4ec7ab3de340d9b673cae5cda1f02a": {
      "model_module": "@jupyter-widgets/base",
      "model_module_version": "1.2.0",
      "model_name": "LayoutModel",
      "state": {}
     },
     "0d77031e96a94581a7fe8d3fff1a7657": {
      "model_module": "@jupyter-widgets/controls",
      "model_module_version": "1.5.0",
      "model_name": "ProgressStyleModel",
      "state": {
       "description_width": ""
      }
     },
     "0f4728a88ca4440caa40d46f83462855": {
      "model_module": "@jupyter-widgets/controls",
      "model_module_version": "1.5.0",
      "model_name": "HBoxModel",
      "state": {
       "children": [
        "IPY_MODEL_fab7e0acb6314d3f82b11ba0d8f98b46",
        "IPY_MODEL_aeff50a882c3416bbe10a619dde01f99",
        "IPY_MODEL_3ae14a745b054d3da5c9218b03ab77c0"
       ],
       "layout": "IPY_MODEL_92a7bfedbec24dc682b20bb47bfdd4cd"
      }
     },
     "117d552da0cf4e1395c6857250a6f896": {
      "model_module": "@jupyter-widgets/controls",
      "model_module_version": "1.5.0",
      "model_name": "HBoxModel",
      "state": {
       "children": [
        "IPY_MODEL_50255fc34f6a4258a6c734becc5cb557",
        "IPY_MODEL_202712265a7744d692413d1e3396a046",
        "IPY_MODEL_5f0b5a259dda4abe8f9cb10cdf64955b"
       ],
       "layout": "IPY_MODEL_e489af1d9c5642bab5051a000f7a792d"
      }
     },
     "12ffc4d1885547078bf748b05439126e": {
      "model_module": "@jupyter-widgets/controls",
      "model_module_version": "1.5.0",
      "model_name": "HTMLModel",
      "state": {
       "layout": "IPY_MODEL_29740e8a714a498c84ae9feb7efe3dba",
       "style": "IPY_MODEL_ca68494a9d8249f0a8386196114ab2ec",
       "value": "  0%"
      }
     },
     "162e3dcbf3864f4f880e60c69221282a": {
      "model_module": "@jupyter-widgets/base",
      "model_module_version": "1.2.0",
      "model_name": "LayoutModel",
      "state": {}
     },
     "198dd202e3ee4793adfb6a6f39f3201b": {
      "model_module": "@jupyter-widgets/base",
      "model_module_version": "1.2.0",
      "model_name": "LayoutModel",
      "state": {}
     },
     "1dc00578534147b78cf2325d9725cd6a": {
      "model_module": "@jupyter-widgets/controls",
      "model_module_version": "1.5.0",
      "model_name": "DescriptionStyleModel",
      "state": {
       "description_width": ""
      }
     },
     "202712265a7744d692413d1e3396a046": {
      "model_module": "@jupyter-widgets/controls",
      "model_module_version": "1.5.0",
      "model_name": "FloatProgressModel",
      "state": {
       "bar_style": "success",
       "layout": "IPY_MODEL_5cd61c9804cb4d6d8db6c81e764a8861",
       "max": 624,
       "style": "IPY_MODEL_c4ccd78d7f234eba8429094acf6cfe38",
       "value": 624
      }
     },
     "22be0c7e87c841baaf34c3f14d4a8f5c": {
      "model_module": "@jupyter-widgets/controls",
      "model_module_version": "1.5.0",
      "model_name": "HTMLModel",
      "state": {
       "layout": "IPY_MODEL_375eb9fdbe0c43ad9840c8db87400aa3",
       "style": "IPY_MODEL_b87694927b5c41bbbefddb7f287939a7",
       "value": " 624/624 [09:09&lt;00:00,  3.12s/ batchs, train_acc=0.937, train_f1=0.565, train_loss=0.165, train_precision=0.831, train_recall=0.428, val_acc=0.951, val_f1=0.681, val_loss=0.126, val_precision=0.899, val_recall=0.548]"
      }
     },
     "2307cbba57fc4ed9aea1d4fe17c89167": {
      "model_module": "@jupyter-widgets/base",
      "model_module_version": "1.2.0",
      "model_name": "LayoutModel",
      "state": {}
     },
     "23bbce7567004b878dd7f012b0580f14": {
      "model_module": "@jupyter-widgets/base",
      "model_module_version": "1.2.0",
      "model_name": "LayoutModel",
      "state": {}
     },
     "23c8c82e64ca48edb1ac54889bbb54b6": {
      "model_module": "@jupyter-widgets/controls",
      "model_module_version": "1.5.0",
      "model_name": "DescriptionStyleModel",
      "state": {
       "description_width": ""
      }
     },
     "25303506c077402b8a9d62ee803e1e77": {
      "model_module": "@jupyter-widgets/base",
      "model_module_version": "1.2.0",
      "model_name": "LayoutModel",
      "state": {}
     },
     "259ef124148a45428d45ff1de8aaf162": {
      "model_module": "@jupyter-widgets/controls",
      "model_module_version": "1.5.0",
      "model_name": "HTMLModel",
      "state": {
       "layout": "IPY_MODEL_d1677f6ee6a7442ca5e41fddef8d2a78",
       "style": "IPY_MODEL_e88261f525c44536a2bff6f6be63f50c",
       "value": " 624/624 [13:08&lt;00:00,  3.16s/ batchs, train_acc=0.887, train_f1=0.076, train_loss=0.325, train_precision=0.174, train_recall=0.049, val_acc=0.919, val_f1=0.359, val_loss=0.226, val_precision=0.729, val_recall=0.239]"
      }
     },
     "26494ec6dc724657aa80238b944583d0": {
      "model_module": "@jupyter-widgets/base",
      "model_module_version": "1.2.0",
      "model_name": "LayoutModel",
      "state": {}
     },
     "268579caa6754a548f0807f54b160114": {
      "model_module": "@jupyter-widgets/controls",
      "model_module_version": "1.5.0",
      "model_name": "HTMLModel",
      "state": {
       "layout": "IPY_MODEL_0d4ec7ab3de340d9b673cae5cda1f02a",
       "style": "IPY_MODEL_dd31b70248db4c7ba8f13d44681049d0",
       "value": " 624/624 [10:28&lt;00:00,  3.69s/ batchs, train_acc=0.932, train_f1=0.525, train_loss=0.184, train_precision=0.792, train_recall=0.392, val_acc=0.947, val_f1=0.649, val_loss=0.143, val_precision=0.877, val_recall=0.515]"
      }
     },
     "287466d8ec414ac9a3312b821d312f66": {
      "model_module": "@jupyter-widgets/controls",
      "model_module_version": "1.5.0",
      "model_name": "ProgressStyleModel",
      "state": {
       "description_width": ""
      }
     },
     "28fc05d3915046da9f0c4e7263cdc3ae": {
      "model_module": "@jupyter-widgets/controls",
      "model_module_version": "1.5.0",
      "model_name": "HTMLModel",
      "state": {
       "layout": "IPY_MODEL_ac0468d906d147c2818b530231715211",
       "style": "IPY_MODEL_83dcc87346ce4647ba65e14e5b101c05",
       "value": " 624/624 [02:36&lt;00:00,  3.14s/ batchs, train_acc=0.949, train_f1=0.675, train_loss=0.114, train_precision=0.864, train_recall=0.554, val_acc=0.966, val_f1=0.802, val_loss=0.087, val_precision=0.901, val_recall=0.723]"
      }
     },
     "294e96df78644354896d95fa403d68cc": {
      "model_module": "@jupyter-widgets/controls",
      "model_module_version": "1.5.0",
      "model_name": "FloatProgressModel",
      "state": {
       "bar_style": "success",
       "layout": "IPY_MODEL_4d033661d41c4640a204cb8ec257f4df",
       "max": 624,
       "style": "IPY_MODEL_4e89f929a7f74307a21c1911ad69f3a3",
       "value": 624
      }
     },
     "29740e8a714a498c84ae9feb7efe3dba": {
      "model_module": "@jupyter-widgets/base",
      "model_module_version": "1.2.0",
      "model_name": "LayoutModel",
      "state": {}
     },
     "3225bb3755fb461099964d01b0c02a2f": {
      "model_module": "@jupyter-widgets/controls",
      "model_module_version": "1.5.0",
      "model_name": "ProgressStyleModel",
      "state": {
       "description_width": ""
      }
     },
     "33f06e190f0e40bc940f4c580f8906ec": {
      "model_module": "@jupyter-widgets/base",
      "model_module_version": "1.2.0",
      "model_name": "LayoutModel",
      "state": {}
     },
     "35b5c9358fd84f12ae0e8e71606be624": {
      "model_module": "@jupyter-widgets/controls",
      "model_module_version": "1.5.0",
      "model_name": "DescriptionStyleModel",
      "state": {
       "description_width": ""
      }
     },
     "374fe9332eff4239a4fe17b0e365d598": {
      "model_module": "@jupyter-widgets/controls",
      "model_module_version": "1.5.0",
      "model_name": "HBoxModel",
      "state": {
       "children": [
        "IPY_MODEL_f683b9912c2b4da3a3cb7110d3325d03",
        "IPY_MODEL_c4d00b3761874eea8383c15055430ba0",
        "IPY_MODEL_b578f3b119ed482b852251ba986166f9"
       ],
       "layout": "IPY_MODEL_c1321bcb1e494236bbb94fd00a0b6e5a"
      }
     },
     "375eb9fdbe0c43ad9840c8db87400aa3": {
      "model_module": "@jupyter-widgets/base",
      "model_module_version": "1.2.0",
      "model_name": "LayoutModel",
      "state": {}
     },
     "3802f6c73d004239bb8c4924d0d0f0f4": {
      "model_module": "@jupyter-widgets/controls",
      "model_module_version": "1.5.0",
      "model_name": "DescriptionStyleModel",
      "state": {
       "description_width": ""
      }
     },
     "389b22bab09c4ce0925ed42f392ab6b4": {
      "model_module": "@jupyter-widgets/controls",
      "model_module_version": "1.5.0",
      "model_name": "DescriptionStyleModel",
      "state": {
       "description_width": ""
      }
     },
     "38b7bf565c37483884222f0a8ee33938": {
      "model_module": "@jupyter-widgets/controls",
      "model_module_version": "1.5.0",
      "model_name": "HTMLModel",
      "state": {
       "layout": "IPY_MODEL_d54ae3a39d2845c99cc3051cb82e42c9",
       "style": "IPY_MODEL_3cfd4f4bd5124542b1f908274c39825a",
       "value": " 0/10 [00:00&lt;?, ?epoch/s]"
      }
     },
     "39953adbb4ec40a9ada6a5e0fcf6a11f": {
      "model_module": "@jupyter-widgets/base",
      "model_module_version": "1.2.0",
      "model_name": "LayoutModel",
      "state": {}
     },
     "3ae14a745b054d3da5c9218b03ab77c0": {
      "model_module": "@jupyter-widgets/controls",
      "model_module_version": "1.5.0",
      "model_name": "HTMLModel",
      "state": {
       "layout": "IPY_MODEL_cb709a3f37bb49259e8622020ebb0af0",
       "style": "IPY_MODEL_dd168afc88b548bd99b8dcda1f81df97",
       "value": " 624/624 [07:51&lt;00:00,  3.11s/ batchs, train_acc=0.941, train_f1=0.601, train_loss=0.149, train_precision=0.843, train_recall=0.467, val_acc=0.954, val_f1=0.711, val_loss=0.117, val_precision=0.903, val_recall=0.586]"
      }
     },
     "3cfd4f4bd5124542b1f908274c39825a": {
      "model_module": "@jupyter-widgets/controls",
      "model_module_version": "1.5.0",
      "model_name": "DescriptionStyleModel",
      "state": {
       "description_width": ""
      }
     },
     "407a629dec8041dd90debfd25bf5ec3b": {
      "model_module": "@jupyter-widgets/base",
      "model_module_version": "1.2.0",
      "model_name": "LayoutModel",
      "state": {}
     },
     "40ea09fa336144b99caf106ec3dd5ec2": {
      "model_module": "@jupyter-widgets/controls",
      "model_module_version": "1.5.0",
      "model_name": "HTMLModel",
      "state": {
       "layout": "IPY_MODEL_abeb135075d44893a00b43f62d96d739",
       "style": "IPY_MODEL_389b22bab09c4ce0925ed42f392ab6b4",
       "value": " 0/624 [00:00&lt;?, ? batchs/s]"
      }
     },
     "411c9b2523f046b18dfe1a913f9d9dd7": {
      "model_module": "@jupyter-widgets/controls",
      "model_module_version": "1.5.0",
      "model_name": "HTMLModel",
      "state": {
       "layout": "IPY_MODEL_e0283f58825a49afa6783577af27645b",
       "style": "IPY_MODEL_82366eaf80f34e0b8a5ebb7f3c255d86",
       "value": "Epoch 7: 100%"
      }
     },
     "44f5efd8f65e45b9ab4f15ac601ee926": {
      "model_module": "@jupyter-widgets/controls",
      "model_module_version": "1.5.0",
      "model_name": "ProgressStyleModel",
      "state": {
       "description_width": ""
      }
     },
     "48902d0d0b1944179edb1ac1b2f6742b": {
      "model_module": "@jupyter-widgets/controls",
      "model_module_version": "1.5.0",
      "model_name": "DescriptionStyleModel",
      "state": {
       "description_width": ""
      }
     },
     "49a3b96994214c11b5a223d0ea68a040": {
      "model_module": "@jupyter-widgets/base",
      "model_module_version": "1.2.0",
      "model_name": "LayoutModel",
      "state": {}
     },
     "4d033661d41c4640a204cb8ec257f4df": {
      "model_module": "@jupyter-widgets/base",
      "model_module_version": "1.2.0",
      "model_name": "LayoutModel",
      "state": {}
     },
     "4d3c46337df44dc29edb0420b06c4fc3": {
      "model_module": "@jupyter-widgets/controls",
      "model_module_version": "1.5.0",
      "model_name": "HBoxModel",
      "state": {
       "children": [
        "IPY_MODEL_53fb82213bd443c1b7d8056968f1f1f4",
        "IPY_MODEL_7704aa664c604ce18d8900ecdf9d474a",
        "IPY_MODEL_268579caa6754a548f0807f54b160114"
       ],
       "layout": "IPY_MODEL_198dd202e3ee4793adfb6a6f39f3201b"
      }
     },
     "4e89f929a7f74307a21c1911ad69f3a3": {
      "model_module": "@jupyter-widgets/controls",
      "model_module_version": "1.5.0",
      "model_name": "ProgressStyleModel",
      "state": {
       "description_width": ""
      }
     },
     "50255fc34f6a4258a6c734becc5cb557": {
      "model_module": "@jupyter-widgets/controls",
      "model_module_version": "1.5.0",
      "model_name": "HTMLModel",
      "state": {
       "layout": "IPY_MODEL_b074ae65cd334cc5853dac0255be96f4",
       "style": "IPY_MODEL_55753f9e9fcb473ea3f2019a11571753",
       "value": "Epoch 8: 100%"
      }
     },
     "507b4e2b78d7461299ccde52526d149a": {
      "model_module": "@jupyter-widgets/base",
      "model_module_version": "1.2.0",
      "model_name": "LayoutModel",
      "state": {}
     },
     "53fb82213bd443c1b7d8056968f1f1f4": {
      "model_module": "@jupyter-widgets/controls",
      "model_module_version": "1.5.0",
      "model_name": "HTMLModel",
      "state": {
       "layout": "IPY_MODEL_f9b8546239f14ad5a82320b78a14147d",
       "style": "IPY_MODEL_b2a3186ae45b4215a2346b6d78f43a43",
       "value": "Epoch 3: 100%"
      }
     },
     "540ea121ad9443f5bfc6e6b28c5be0a0": {
      "model_module": "@jupyter-widgets/controls",
      "model_module_version": "1.5.0",
      "model_name": "HTMLModel",
      "state": {
       "layout": "IPY_MODEL_f852b264836f49f5ba94682c654821f8",
       "style": "IPY_MODEL_7f65c86ce1024699b5448b5796ed766e",
       "value": "Epoch 2: 100%"
      }
     },
     "54d790e2961a400e97a2948fefb54e32": {
      "model_module": "@jupyter-widgets/controls",
      "model_module_version": "1.5.0",
      "model_name": "HTMLModel",
      "state": {
       "layout": "IPY_MODEL_7dabe6b9f7e346c58ccd7cc22fcabb58",
       "style": "IPY_MODEL_f5547a4de87e413f9a3a73bf5132d802",
       "value": " 624/624 [05:14&lt;00:00,  3.66s/ batchs, train_acc=0.945, train_f1=0.642, train_loss=0.132, train_precision=0.852, train_recall=0.515, val_acc=0.962, val_f1=0.773, val_loss=0.097, val_precision=0.894, val_recall=0.681]"
      }
     },
     "55753f9e9fcb473ea3f2019a11571753": {
      "model_module": "@jupyter-widgets/controls",
      "model_module_version": "1.5.0",
      "model_name": "DescriptionStyleModel",
      "state": {
       "description_width": ""
      }
     },
     "565ec9c2c8eb4d83b4a43f261dec523a": {
      "model_module": "@jupyter-widgets/controls",
      "model_module_version": "1.5.0",
      "model_name": "FloatProgressModel",
      "state": {
       "bar_style": "success",
       "layout": "IPY_MODEL_fa3c802d6ed64d8d84b44e6471a5f8ac",
       "max": 10,
       "style": "IPY_MODEL_edf69b3cdfd1464c82dc30ae870e4344",
       "value": 10
      }
     },
     "5938cab5f21d414382cd205f9eb118c0": {
      "model_module": "@jupyter-widgets/controls",
      "model_module_version": "1.5.0",
      "model_name": "HBoxModel",
      "state": {
       "children": [
        "IPY_MODEL_dd715b1a40674a8f9df561d17411284b",
        "IPY_MODEL_565ec9c2c8eb4d83b4a43f261dec523a",
        "IPY_MODEL_c02d7ab4513f46d58dd10017b6010f9f"
       ],
       "layout": "IPY_MODEL_905b001630c64d1ea2d5f15a0b62ce4a"
      }
     },
     "59c3fb9155944c7d9461c8e9fab7b158": {
      "model_module": "@jupyter-widgets/controls",
      "model_module_version": "1.5.0",
      "model_name": "ProgressStyleModel",
      "state": {
       "description_width": ""
      }
     },
     "59fc15dbe7ca45728af951aae23f13fb": {
      "model_module": "@jupyter-widgets/controls",
      "model_module_version": "1.5.0",
      "model_name": "FloatProgressModel",
      "state": {
       "bar_style": "success",
       "layout": "IPY_MODEL_7083cf87230942179339f213004ac4e4",
       "max": 624,
       "style": "IPY_MODEL_0d77031e96a94581a7fe8d3fff1a7657",
       "value": 624
      }
     },
     "5b9adf9da42e462ead66ca859ef3fa3e": {
      "model_module": "@jupyter-widgets/controls",
      "model_module_version": "1.5.0",
      "model_name": "ProgressStyleModel",
      "state": {
       "description_width": ""
      }
     },
     "5cd61c9804cb4d6d8db6c81e764a8861": {
      "model_module": "@jupyter-widgets/base",
      "model_module_version": "1.2.0",
      "model_name": "LayoutModel",
      "state": {}
     },
     "5de3308dc77940209a53a960eac4002e": {
      "model_module": "@jupyter-widgets/controls",
      "model_module_version": "1.5.0",
      "model_name": "HBoxModel",
      "state": {
       "children": [
        "IPY_MODEL_80056a3b9b4f45d1a6a8aed414d944c8",
        "IPY_MODEL_e38d716c533644e08aae4de16bc80d37",
        "IPY_MODEL_a42ec26a3d0f4f83a9245a86f6f679bf"
       ],
       "layout": "IPY_MODEL_ce56228a69244038ab0971ffa1d34b36"
      }
     },
     "5f0b5a259dda4abe8f9cb10cdf64955b": {
      "model_module": "@jupyter-widgets/controls",
      "model_module_version": "1.5.0",
      "model_name": "HTMLModel",
      "state": {
       "layout": "IPY_MODEL_899520e64c3d43488472031ad142fa67",
       "style": "IPY_MODEL_23c8c82e64ca48edb1ac54889bbb54b6",
       "value": " 624/624 [03:55&lt;00:00,  3.72s/ batchs, train_acc=0.948, train_f1=0.664, train_loss=0.120, train_precision=0.859, train_recall=0.542, val_acc=0.961, val_f1=0.759, val_loss=0.097, val_precision=0.922, val_recall=0.645]"
      }
     },
     "5f4021703e754905ace5270576ed08a5": {
      "model_module": "@jupyter-widgets/controls",
      "model_module_version": "1.5.0",
      "model_name": "HBoxModel",
      "state": {
       "children": [
        "IPY_MODEL_d7ccbd501e5f4719bb9a4c78a6ba5258",
        "IPY_MODEL_cfd36ce7e52441069a2d43d2a40ed1e1",
        "IPY_MODEL_22be0c7e87c841baaf34c3f14d4a8f5c"
       ],
       "layout": "IPY_MODEL_8c33be5acde7423fbc874104d7ea7ca4"
      }
     },
     "5fc04b70821d4330b73d752c5c6d6b50": {
      "model_module": "@jupyter-widgets/controls",
      "model_module_version": "1.5.0",
      "model_name": "FloatProgressModel",
      "state": {
       "bar_style": "success",
       "layout": "IPY_MODEL_507b4e2b78d7461299ccde52526d149a",
       "max": 624,
       "style": "IPY_MODEL_f33d7f883dab4b00b6eb3938474f1dd8",
       "value": 624
      }
     },
     "6071545e21204042bb90b77242c53c17": {
      "model_module": "@jupyter-widgets/controls",
      "model_module_version": "1.5.0",
      "model_name": "ProgressStyleModel",
      "state": {
       "description_width": ""
      }
     },
     "61a2c69c7c0c48d19d52a5d3e7087643": {
      "model_module": "@jupyter-widgets/base",
      "model_module_version": "1.2.0",
      "model_name": "LayoutModel",
      "state": {}
     },
     "62414b6f628442fda758967bb6904e62": {
      "model_module": "@jupyter-widgets/controls",
      "model_module_version": "1.5.0",
      "model_name": "HTMLModel",
      "state": {
       "layout": "IPY_MODEL_b92df55b5e5d4e16a911f5a756bfb367",
       "style": "IPY_MODEL_3802f6c73d004239bb8c4924d0d0f0f4",
       "value": " 624/624 [01:28&lt;00:00, 57.91 batchs/s, train_acc=0.910, train_f1=0.152, train_loss=0.276, train_precision=0.754, train_recall=0.084, val_acc=0.917, val_f1=0.305, val_loss=0.225, val_precision=0.768, val_recall=0.190]"
      }
     },
     "6a3a629e563f4b19baf2f94bc7ab1a6d": {
      "model_module": "@jupyter-widgets/base",
      "model_module_version": "1.2.0",
      "model_name": "LayoutModel",
      "state": {}
     },
     "6be9f05e731a441094c389b2e09821ff": {
      "model_module": "@jupyter-widgets/base",
      "model_module_version": "1.2.0",
      "model_name": "LayoutModel",
      "state": {}
     },
     "6fda24ec50c846a68f515f2e22fde159": {
      "model_module": "@jupyter-widgets/controls",
      "model_module_version": "1.5.0",
      "model_name": "HBoxModel",
      "state": {
       "children": [
        "IPY_MODEL_a3b60fe87c3f42828d42688b849d2a13",
        "IPY_MODEL_5fc04b70821d4330b73d752c5c6d6b50",
        "IPY_MODEL_62414b6f628442fda758967bb6904e62"
       ],
       "layout": "IPY_MODEL_39953adbb4ec40a9ada6a5e0fcf6a11f"
      }
     },
     "702ed10e47d040ad9ed5560981833d22": {
      "model_module": "@jupyter-widgets/controls",
      "model_module_version": "1.5.0",
      "model_name": "HBoxModel",
      "state": {
       "children": [
        "IPY_MODEL_411c9b2523f046b18dfe1a913f9d9dd7",
        "IPY_MODEL_cca3abe6b7af4fb8aac946137c1075dd",
        "IPY_MODEL_54d790e2961a400e97a2948fefb54e32"
       ],
       "layout": "IPY_MODEL_ac51c9c0bb4145a99da801fd232aadd1"
      }
     },
     "7083cf87230942179339f213004ac4e4": {
      "model_module": "@jupyter-widgets/base",
      "model_module_version": "1.2.0",
      "model_name": "LayoutModel",
      "state": {}
     },
     "760793d613c142338440ad0a21662a7d": {
      "model_module": "@jupyter-widgets/base",
      "model_module_version": "1.2.0",
      "model_name": "LayoutModel",
      "state": {}
     },
     "7704aa664c604ce18d8900ecdf9d474a": {
      "model_module": "@jupyter-widgets/controls",
      "model_module_version": "1.5.0",
      "model_name": "FloatProgressModel",
      "state": {
       "bar_style": "success",
       "layout": "IPY_MODEL_b91144af5958478d9dcdd988da272217",
       "max": 624,
       "style": "IPY_MODEL_59c3fb9155944c7d9461c8e9fab7b158",
       "value": 624
      }
     },
     "770c49e133d5498a8919c145e8d1228a": {
      "model_module": "@jupyter-widgets/base",
      "model_module_version": "1.2.0",
      "model_name": "LayoutModel",
      "state": {}
     },
     "77a5907920e44c348fdbbf1f9dfd88bb": {
      "model_module": "@jupyter-widgets/controls",
      "model_module_version": "1.5.0",
      "model_name": "HTMLModel",
      "state": {
       "layout": "IPY_MODEL_25303506c077402b8a9d62ee803e1e77",
       "style": "IPY_MODEL_039c6d2e7907481382bbd9ad0386d510",
       "value": " 624/624 [06:33&lt;00:00,  3.65s/ batchs, train_acc=0.942, train_f1=0.618, train_loss=0.141, train_precision=0.848, train_recall=0.486, val_acc=0.958, val_f1=0.739, val_loss=0.106, val_precision=0.906, val_recall=0.624]"
      }
     },
     "787ffc24a71c46279ebbdbab2ce1c810": {
      "model_module": "@jupyter-widgets/controls",
      "model_module_version": "1.5.0",
      "model_name": "ProgressStyleModel",
      "state": {
       "description_width": ""
      }
     },
     "7c12e0790da14529bb77ce0707b0bb08": {
      "model_module": "@jupyter-widgets/controls",
      "model_module_version": "1.5.0",
      "model_name": "DescriptionStyleModel",
      "state": {
       "description_width": ""
      }
     },
     "7c524e63e167457eab780b017ae2f503": {
      "model_module": "@jupyter-widgets/base",
      "model_module_version": "1.2.0",
      "model_name": "LayoutModel",
      "state": {}
     },
     "7d17fcda80bb438eb1855fa068a73283": {
      "model_module": "@jupyter-widgets/controls",
      "model_module_version": "1.5.0",
      "model_name": "FloatProgressModel",
      "state": {
       "bar_style": "success",
       "layout": "IPY_MODEL_26494ec6dc724657aa80238b944583d0",
       "max": 624,
       "style": "IPY_MODEL_3225bb3755fb461099964d01b0c02a2f",
       "value": 624
      }
     },
     "7dabe6b9f7e346c58ccd7cc22fcabb58": {
      "model_module": "@jupyter-widgets/base",
      "model_module_version": "1.2.0",
      "model_name": "LayoutModel",
      "state": {}
     },
     "7ef1b39807c54932a3a44281fd23bbd6": {
      "model_module": "@jupyter-widgets/controls",
      "model_module_version": "1.5.0",
      "model_name": "HTMLModel",
      "state": {
       "layout": "IPY_MODEL_a33114209d914d07990ad917b3522bf3",
       "style": "IPY_MODEL_e7a6fe6c5a52477e8bab71981ca6f904",
       "value": "Epoch 6: 100%"
      }
     },
     "7f65c86ce1024699b5448b5796ed766e": {
      "model_module": "@jupyter-widgets/controls",
      "model_module_version": "1.5.0",
      "model_name": "DescriptionStyleModel",
      "state": {
       "description_width": ""
      }
     },
     "7fcb7e2a70c44fc885610c5493643281": {
      "model_module": "@jupyter-widgets/controls",
      "model_module_version": "1.5.0",
      "model_name": "ProgressStyleModel",
      "state": {
       "description_width": ""
      }
     },
     "7ffcd07a57db4741a8847ebf3dd9d006": {
      "model_module": "@jupyter-widgets/base",
      "model_module_version": "1.2.0",
      "model_name": "LayoutModel",
      "state": {}
     },
     "80056a3b9b4f45d1a6a8aed414d944c8": {
      "model_module": "@jupyter-widgets/controls",
      "model_module_version": "1.5.0",
      "model_name": "HTMLModel",
      "state": {
       "layout": "IPY_MODEL_61a2c69c7c0c48d19d52a5d3e7087643",
       "style": "IPY_MODEL_1dc00578534147b78cf2325d9725cd6a",
       "value": "Epoch 10: 100%"
      }
     },
     "82366eaf80f34e0b8a5ebb7f3c255d86": {
      "model_module": "@jupyter-widgets/controls",
      "model_module_version": "1.5.0",
      "model_name": "DescriptionStyleModel",
      "state": {
       "description_width": ""
      }
     },
     "83dcc87346ce4647ba65e14e5b101c05": {
      "model_module": "@jupyter-widgets/controls",
      "model_module_version": "1.5.0",
      "model_name": "DescriptionStyleModel",
      "state": {
       "description_width": ""
      }
     },
     "84b60c56d64548f7b4890bad79ae33bd": {
      "model_module": "@jupyter-widgets/base",
      "model_module_version": "1.2.0",
      "model_name": "LayoutModel",
      "state": {}
     },
     "84f37d9473864dad8bdfe99f99d19114": {
      "model_module": "@jupyter-widgets/controls",
      "model_module_version": "1.5.0",
      "model_name": "FloatProgressModel",
      "state": {
       "layout": "IPY_MODEL_9e77268cd8814feda0039d73c9ea7cde",
       "max": 624,
       "style": "IPY_MODEL_7fcb7e2a70c44fc885610c5493643281"
      }
     },
     "885f03faebb74cf2bf86af6a304f1d52": {
      "model_module": "@jupyter-widgets/controls",
      "model_module_version": "1.5.0",
      "model_name": "HTMLModel",
      "state": {
       "layout": "IPY_MODEL_a5b4a5948f7740ceaa9516d13f92a324",
       "style": "IPY_MODEL_00033c992c9248298c5932f3b6efee10",
       "value": " 624/624 [11:47&lt;00:00,  3.70s/ batchs, train_acc=0.922, train_f1=0.432, train_loss=0.228, train_precision=0.716, train_recall=0.309, val_acc=0.938, val_f1=0.558, val_loss=0.171, val_precision=0.869, val_recall=0.411]"
      }
     },
     "899520e64c3d43488472031ad142fa67": {
      "model_module": "@jupyter-widgets/base",
      "model_module_version": "1.2.0",
      "model_name": "LayoutModel",
      "state": {}
     },
     "8a66698ecd094de9843af6ddbd054df7": {
      "model_module": "@jupyter-widgets/controls",
      "model_module_version": "1.5.0",
      "model_name": "DescriptionStyleModel",
      "state": {
       "description_width": ""
      }
     },
     "8b2569fa6c4f40d79426659d06ccbec7": {
      "model_module": "@jupyter-widgets/controls",
      "model_module_version": "1.5.0",
      "model_name": "HTMLModel",
      "state": {
       "layout": "IPY_MODEL_33f06e190f0e40bc940f4c580f8906ec",
       "style": "IPY_MODEL_062f82cc43cb45308535511c5200c389",
       "value": "Epoch 1: 100%"
      }
     },
     "8c33be5acde7423fbc874104d7ea7ca4": {
      "model_module": "@jupyter-widgets/base",
      "model_module_version": "1.2.0",
      "model_name": "LayoutModel",
      "state": {}
     },
     "8d587ef7be1c41d3859bdcb2b203ce91": {
      "model_module": "@jupyter-widgets/base",
      "model_module_version": "1.2.0",
      "model_name": "LayoutModel",
      "state": {}
     },
     "8e18e5c6aa3645e1846a24d157f851de": {
      "model_module": "@jupyter-widgets/base",
      "model_module_version": "1.2.0",
      "model_name": "LayoutModel",
      "state": {}
     },
     "905b001630c64d1ea2d5f15a0b62ce4a": {
      "model_module": "@jupyter-widgets/base",
      "model_module_version": "1.2.0",
      "model_name": "LayoutModel",
      "state": {}
     },
     "90de2aa374784a1a8cad295c8c29645c": {
      "model_module": "@jupyter-widgets/controls",
      "model_module_version": "1.5.0",
      "model_name": "HTMLModel",
      "state": {
       "layout": "IPY_MODEL_6a3a629e563f4b19baf2f94bc7ab1a6d",
       "style": "IPY_MODEL_b4d1b69d91f2497d90e9c1aab13c4616",
       "value": "Epoch 9: 100%"
      }
     },
     "91745670e2d345bc82525dd30471c728": {
      "model_module": "@jupyter-widgets/controls",
      "model_module_version": "1.5.0",
      "model_name": "DescriptionStyleModel",
      "state": {
       "description_width": ""
      }
     },
     "92a7bfedbec24dc682b20bb47bfdd4cd": {
      "model_module": "@jupyter-widgets/base",
      "model_module_version": "1.2.0",
      "model_name": "LayoutModel",
      "state": {}
     },
     "95444351ae9649f7a6c37d9017b21e5f": {
      "model_module": "@jupyter-widgets/base",
      "model_module_version": "1.2.0",
      "model_name": "LayoutModel",
      "state": {}
     },
     "965d8893f1cf473a8576b6cfeb2fc3b2": {
      "model_module": "@jupyter-widgets/base",
      "model_module_version": "1.2.0",
      "model_name": "LayoutModel",
      "state": {}
     },
     "97fcadfc3ad74bf8b519e7ecd18f58f7": {
      "model_module": "@jupyter-widgets/controls",
      "model_module_version": "1.5.0",
      "model_name": "HBoxModel",
      "state": {
       "children": [
        "IPY_MODEL_0cb0554dc3b742e9a597c57f2bcd83b5",
        "IPY_MODEL_eb046b24f91a4bbc8322204a8c80c97a",
        "IPY_MODEL_b983351a38ee4211b5c687a4f91c0561"
       ],
       "layout": "IPY_MODEL_f53516ff608e48ec9023ddfb083236da"
      }
     },
     "99d1abb30fa84725a6290b0aa1823ff7": {
      "model_module": "@jupyter-widgets/base",
      "model_module_version": "1.2.0",
      "model_name": "LayoutModel",
      "state": {}
     },
     "9c22724b4b474b469cf9fbf66b3045fd": {
      "model_module": "@jupyter-widgets/controls",
      "model_module_version": "1.5.0",
      "model_name": "HBoxModel",
      "state": {
       "children": [
        "IPY_MODEL_90de2aa374784a1a8cad295c8c29645c",
        "IPY_MODEL_d597e6cdd1184b049cc70313f0a21103",
        "IPY_MODEL_28fc05d3915046da9f0c4e7263cdc3ae"
       ],
       "layout": "IPY_MODEL_8d587ef7be1c41d3859bdcb2b203ce91"
      }
     },
     "9c4df37319044cc88d1d1ccc80901fc0": {
      "model_module": "@jupyter-widgets/base",
      "model_module_version": "1.2.0",
      "model_name": "LayoutModel",
      "state": {}
     },
     "9e77268cd8814feda0039d73c9ea7cde": {
      "model_module": "@jupyter-widgets/base",
      "model_module_version": "1.2.0",
      "model_name": "LayoutModel",
      "state": {}
     },
     "9fd536f9265643c18218b0f9658a611d": {
      "model_module": "@jupyter-widgets/base",
      "model_module_version": "1.2.0",
      "model_name": "LayoutModel",
      "state": {}
     },
     "a0e3a6b96c2f4719b69b86546689e453": {
      "model_module": "@jupyter-widgets/base",
      "model_module_version": "1.2.0",
      "model_name": "LayoutModel",
      "state": {}
     },
     "a2cce26a0a6845d48cb8e62e0ce883fa": {
      "model_module": "@jupyter-widgets/base",
      "model_module_version": "1.2.0",
      "model_name": "LayoutModel",
      "state": {}
     },
     "a33114209d914d07990ad917b3522bf3": {
      "model_module": "@jupyter-widgets/base",
      "model_module_version": "1.2.0",
      "model_name": "LayoutModel",
      "state": {}
     },
     "a3b60fe87c3f42828d42688b849d2a13": {
      "model_module": "@jupyter-widgets/controls",
      "model_module_version": "1.5.0",
      "model_name": "HTMLModel",
      "state": {
       "layout": "IPY_MODEL_e98acf433d204deb9c5010a250a7f8cf",
       "style": "IPY_MODEL_0b8af498c03a415e805d701bc77ad791",
       "value": "Epoch 1: 100%"
      }
     },
     "a42ec26a3d0f4f83a9245a86f6f679bf": {
      "model_module": "@jupyter-widgets/controls",
      "model_module_version": "1.5.0",
      "model_name": "HTMLModel",
      "state": {
       "layout": "IPY_MODEL_95444351ae9649f7a6c37d9017b21e5f",
       "style": "IPY_MODEL_48902d0d0b1944179edb1ac1b2f6742b",
       "value": " 624/624 [01:18&lt;00:00,  3.67s/ batchs, train_acc=0.951, train_f1=0.692, train_loss=0.107, train_precision=0.863, train_recall=0.578, val_acc=0.970, val_f1=0.839, val_loss=0.082, val_precision=0.857, val_recall=0.821]"
      }
     },
     "a5b4a5948f7740ceaa9516d13f92a324": {
      "model_module": "@jupyter-widgets/base",
      "model_module_version": "1.2.0",
      "model_name": "LayoutModel",
      "state": {}
     },
     "abeb135075d44893a00b43f62d96d739": {
      "model_module": "@jupyter-widgets/base",
      "model_module_version": "1.2.0",
      "model_name": "LayoutModel",
      "state": {}
     },
     "ac0468d906d147c2818b530231715211": {
      "model_module": "@jupyter-widgets/base",
      "model_module_version": "1.2.0",
      "model_name": "LayoutModel",
      "state": {}
     },
     "ac51c9c0bb4145a99da801fd232aadd1": {
      "model_module": "@jupyter-widgets/base",
      "model_module_version": "1.2.0",
      "model_name": "LayoutModel",
      "state": {}
     },
     "ac90d755f2014e75bf3e2d1643cf6617": {
      "model_module": "@jupyter-widgets/controls",
      "model_module_version": "1.5.0",
      "model_name": "DescriptionStyleModel",
      "state": {
       "description_width": ""
      }
     },
     "ad8a15fc4d39431bac3448b9a45bfc04": {
      "model_module": "@jupyter-widgets/controls",
      "model_module_version": "1.5.0",
      "model_name": "HBoxModel",
      "state": {
       "children": [
        "IPY_MODEL_ba6fca0285434da5abe154fd68a512b3",
        "IPY_MODEL_eef7781b285346769edf48703ecbbf19",
        "IPY_MODEL_38b7bf565c37483884222f0a8ee33938"
       ],
       "layout": "IPY_MODEL_49a3b96994214c11b5a223d0ea68a040"
      }
     },
     "aeff50a882c3416bbe10a619dde01f99": {
      "model_module": "@jupyter-widgets/controls",
      "model_module_version": "1.5.0",
      "model_name": "FloatProgressModel",
      "state": {
       "bar_style": "success",
       "layout": "IPY_MODEL_6be9f05e731a441094c389b2e09821ff",
       "max": 624,
       "style": "IPY_MODEL_ff19aa466e064d88bcbca2aa58712cb5",
       "value": 624
      }
     },
     "afd0b53fe0fb49bab1bb33dd7237a8ab": {
      "model_module": "@jupyter-widgets/controls",
      "model_module_version": "1.5.0",
      "model_name": "HBoxModel",
      "state": {
       "children": [
        "IPY_MODEL_12ffc4d1885547078bf748b05439126e",
        "IPY_MODEL_84f37d9473864dad8bdfe99f99d19114",
        "IPY_MODEL_40ea09fa336144b99caf106ec3dd5ec2"
       ],
       "layout": "IPY_MODEL_23bbce7567004b878dd7f012b0580f14"
      }
     },
     "b074ae65cd334cc5853dac0255be96f4": {
      "model_module": "@jupyter-widgets/base",
      "model_module_version": "1.2.0",
      "model_name": "LayoutModel",
      "state": {}
     },
     "b2a3186ae45b4215a2346b6d78f43a43": {
      "model_module": "@jupyter-widgets/controls",
      "model_module_version": "1.5.0",
      "model_name": "DescriptionStyleModel",
      "state": {
       "description_width": ""
      }
     },
     "b4b8b8a74a7846b0a62575b854d711d9": {
      "model_module": "@jupyter-widgets/base",
      "model_module_version": "1.2.0",
      "model_name": "LayoutModel",
      "state": {}
     },
     "b4d1b69d91f2497d90e9c1aab13c4616": {
      "model_module": "@jupyter-widgets/controls",
      "model_module_version": "1.5.0",
      "model_name": "DescriptionStyleModel",
      "state": {
       "description_width": ""
      }
     },
     "b578f3b119ed482b852251ba986166f9": {
      "model_module": "@jupyter-widgets/controls",
      "model_module_version": "1.5.0",
      "model_name": "HTMLModel",
      "state": {
       "layout": "IPY_MODEL_965d8893f1cf473a8576b6cfeb2fc3b2",
       "style": "IPY_MODEL_fbe3213d775d485ab16e0c5adca5ec40",
       "value": " 3/3 [01:28&lt;00:00, 29.47s/epoch]"
      }
     },
     "b87694927b5c41bbbefddb7f287939a7": {
      "model_module": "@jupyter-widgets/controls",
      "model_module_version": "1.5.0",
      "model_name": "DescriptionStyleModel",
      "state": {
       "description_width": ""
      }
     },
     "b91144af5958478d9dcdd988da272217": {
      "model_module": "@jupyter-widgets/base",
      "model_module_version": "1.2.0",
      "model_name": "LayoutModel",
      "state": {}
     },
     "b92df55b5e5d4e16a911f5a756bfb367": {
      "model_module": "@jupyter-widgets/base",
      "model_module_version": "1.2.0",
      "model_name": "LayoutModel",
      "state": {}
     },
     "b983351a38ee4211b5c687a4f91c0561": {
      "model_module": "@jupyter-widgets/controls",
      "model_module_version": "1.5.0",
      "model_name": "HTMLModel",
      "state": {
       "layout": "IPY_MODEL_8e18e5c6aa3645e1846a24d157f851de",
       "style": "IPY_MODEL_fc79078d5dcd4f96872da30c02bc3d7b",
       "value": " 624/624 [00:58&lt;00:00,  2.30 batchs/s, train_acc=0.921, train_f1=0.376, train_loss=0.213, train_precision=0.769, train_recall=0.249, val_acc=0.924, val_f1=0.422, val_loss=0.203, val_precision=0.769, val_recall=0.291]"
      }
     },
     "ba6fca0285434da5abe154fd68a512b3": {
      "model_module": "@jupyter-widgets/controls",
      "model_module_version": "1.5.0",
      "model_name": "HTMLModel",
      "state": {
       "layout": "IPY_MODEL_99d1abb30fa84725a6290b0aa1823ff7",
       "style": "IPY_MODEL_35b5c9358fd84f12ae0e8e71606be624",
       "value": "  0%"
      }
     },
     "bd7ec4a181fc49d3991006c31101d497": {
      "model_module": "@jupyter-widgets/controls",
      "model_module_version": "1.5.0",
      "model_name": "FloatProgressModel",
      "state": {
       "bar_style": "success",
       "layout": "IPY_MODEL_7c524e63e167457eab780b017ae2f503",
       "max": 624,
       "style": "IPY_MODEL_ee7712a364f64d36acfc939cdb230536",
       "value": 624
      }
     },
     "c02d7ab4513f46d58dd10017b6010f9f": {
      "model_module": "@jupyter-widgets/controls",
      "model_module_version": "1.5.0",
      "model_name": "HTMLModel",
      "state": {
       "layout": "IPY_MODEL_7ffcd07a57db4741a8847ebf3dd9d006",
       "style": "IPY_MODEL_e77dfd25b34b475c827ee70070d44db7",
       "value": " 10/10 [13:08&lt;00:00, 78.60s/epoch]"
      }
     },
     "c1321bcb1e494236bbb94fd00a0b6e5a": {
      "model_module": "@jupyter-widgets/base",
      "model_module_version": "1.2.0",
      "model_name": "LayoutModel",
      "state": {}
     },
     "c4ccd78d7f234eba8429094acf6cfe38": {
      "model_module": "@jupyter-widgets/controls",
      "model_module_version": "1.5.0",
      "model_name": "ProgressStyleModel",
      "state": {
       "description_width": ""
      }
     },
     "c4d00b3761874eea8383c15055430ba0": {
      "model_module": "@jupyter-widgets/controls",
      "model_module_version": "1.5.0",
      "model_name": "FloatProgressModel",
      "state": {
       "bar_style": "success",
       "layout": "IPY_MODEL_dad945ce1acb4905818ab003b15b5593",
       "max": 3,
       "style": "IPY_MODEL_6071545e21204042bb90b77242c53c17",
       "value": 3
      }
     },
     "c71636f47b9b404fac3d516234406066": {
      "model_module": "@jupyter-widgets/controls",
      "model_module_version": "1.5.0",
      "model_name": "DescriptionStyleModel",
      "state": {
       "description_width": ""
      }
     },
     "ca68494a9d8249f0a8386196114ab2ec": {
      "model_module": "@jupyter-widgets/controls",
      "model_module_version": "1.5.0",
      "model_name": "DescriptionStyleModel",
      "state": {
       "description_width": ""
      }
     },
     "cb709a3f37bb49259e8622020ebb0af0": {
      "model_module": "@jupyter-widgets/base",
      "model_module_version": "1.2.0",
      "model_name": "LayoutModel",
      "state": {}
     },
     "cca3abe6b7af4fb8aac946137c1075dd": {
      "model_module": "@jupyter-widgets/controls",
      "model_module_version": "1.5.0",
      "model_name": "FloatProgressModel",
      "state": {
       "bar_style": "success",
       "layout": "IPY_MODEL_b4b8b8a74a7846b0a62575b854d711d9",
       "max": 624,
       "style": "IPY_MODEL_287466d8ec414ac9a3312b821d312f66",
       "value": 624
      }
     },
     "cd4257595d9847eea7fdf67d4036da41": {
      "model_module": "@jupyter-widgets/controls",
      "model_module_version": "1.5.0",
      "model_name": "ProgressStyleModel",
      "state": {
       "description_width": ""
      }
     },
     "ce56228a69244038ab0971ffa1d34b36": {
      "model_module": "@jupyter-widgets/base",
      "model_module_version": "1.2.0",
      "model_name": "LayoutModel",
      "state": {}
     },
     "cfd36ce7e52441069a2d43d2a40ed1e1": {
      "model_module": "@jupyter-widgets/controls",
      "model_module_version": "1.5.0",
      "model_name": "FloatProgressModel",
      "state": {
       "bar_style": "success",
       "layout": "IPY_MODEL_fdc2dacaf1f1461fa2ea0e0ff3457621",
       "max": 624,
       "style": "IPY_MODEL_03dc73aadd0b4e44922997a9c0b36f8d",
       "value": 624
      }
     },
     "d1677f6ee6a7442ca5e41fddef8d2a78": {
      "model_module": "@jupyter-widgets/base",
      "model_module_version": "1.2.0",
      "model_name": "LayoutModel",
      "state": {}
     },
     "d54ae3a39d2845c99cc3051cb82e42c9": {
      "model_module": "@jupyter-widgets/base",
      "model_module_version": "1.2.0",
      "model_name": "LayoutModel",
      "state": {}
     },
     "d597e6cdd1184b049cc70313f0a21103": {
      "model_module": "@jupyter-widgets/controls",
      "model_module_version": "1.5.0",
      "model_name": "FloatProgressModel",
      "state": {
       "bar_style": "success",
       "layout": "IPY_MODEL_2307cbba57fc4ed9aea1d4fe17c89167",
       "max": 624,
       "style": "IPY_MODEL_44f5efd8f65e45b9ab4f15ac601ee926",
       "value": 624
      }
     },
     "d70ecc452d724ca6b2697258a46fc370": {
      "model_module": "@jupyter-widgets/controls",
      "model_module_version": "1.5.0",
      "model_name": "HBoxModel",
      "state": {
       "children": [
        "IPY_MODEL_ffc5e67cca1d442aa1cea3a689245b33",
        "IPY_MODEL_7d17fcda80bb438eb1855fa068a73283",
        "IPY_MODEL_fa7277125c8845c0b5b25fa9d959fd69"
       ],
       "layout": "IPY_MODEL_162e3dcbf3864f4f880e60c69221282a"
      }
     },
     "d7ccbd501e5f4719bb9a4c78a6ba5258": {
      "model_module": "@jupyter-widgets/controls",
      "model_module_version": "1.5.0",
      "model_name": "HTMLModel",
      "state": {
       "layout": "IPY_MODEL_a2cce26a0a6845d48cb8e62e0ce883fa",
       "style": "IPY_MODEL_7c12e0790da14529bb77ce0707b0bb08",
       "value": "Epoch 4: 100%"
      }
     },
     "dad945ce1acb4905818ab003b15b5593": {
      "model_module": "@jupyter-widgets/base",
      "model_module_version": "1.2.0",
      "model_name": "LayoutModel",
      "state": {}
     },
     "dd168afc88b548bd99b8dcda1f81df97": {
      "model_module": "@jupyter-widgets/controls",
      "model_module_version": "1.5.0",
      "model_name": "DescriptionStyleModel",
      "state": {
       "description_width": ""
      }
     },
     "dd31b70248db4c7ba8f13d44681049d0": {
      "model_module": "@jupyter-widgets/controls",
      "model_module_version": "1.5.0",
      "model_name": "DescriptionStyleModel",
      "state": {
       "description_width": ""
      }
     },
     "dd715b1a40674a8f9df561d17411284b": {
      "model_module": "@jupyter-widgets/controls",
      "model_module_version": "1.5.0",
      "model_name": "HTMLModel",
      "state": {
       "layout": "IPY_MODEL_9fd536f9265643c18218b0f9658a611d",
       "style": "IPY_MODEL_8a66698ecd094de9843af6ddbd054df7",
       "value": "100%"
      }
     },
     "df0f39d1647648e0bfb7af6b2fad3b27": {
      "model_module": "@jupyter-widgets/controls",
      "model_module_version": "1.5.0",
      "model_name": "DescriptionStyleModel",
      "state": {
       "description_width": ""
      }
     },
     "df12b6996a3a48a49f673fbfa14a3a60": {
      "model_module": "@jupyter-widgets/controls",
      "model_module_version": "1.5.0",
      "model_name": "HBoxModel",
      "state": {
       "children": [
        "IPY_MODEL_540ea121ad9443f5bfc6e6b28c5be0a0",
        "IPY_MODEL_59fc15dbe7ca45728af951aae23f13fb",
        "IPY_MODEL_885f03faebb74cf2bf86af6a304f1d52"
       ],
       "layout": "IPY_MODEL_e65156040f284cad8610cc0db953a62b"
      }
     },
     "e0283f58825a49afa6783577af27645b": {
      "model_module": "@jupyter-widgets/base",
      "model_module_version": "1.2.0",
      "model_name": "LayoutModel",
      "state": {}
     },
     "e2c1becbd43c44148aa263929147505f": {
      "model_module": "@jupyter-widgets/base",
      "model_module_version": "1.2.0",
      "model_name": "LayoutModel",
      "state": {}
     },
     "e38d716c533644e08aae4de16bc80d37": {
      "model_module": "@jupyter-widgets/controls",
      "model_module_version": "1.5.0",
      "model_name": "FloatProgressModel",
      "state": {
       "bar_style": "success",
       "layout": "IPY_MODEL_e2c1becbd43c44148aa263929147505f",
       "max": 624,
       "style": "IPY_MODEL_787ffc24a71c46279ebbdbab2ce1c810",
       "value": 624
      }
     },
     "e489af1d9c5642bab5051a000f7a792d": {
      "model_module": "@jupyter-widgets/base",
      "model_module_version": "1.2.0",
      "model_name": "LayoutModel",
      "state": {}
     },
     "e65156040f284cad8610cc0db953a62b": {
      "model_module": "@jupyter-widgets/base",
      "model_module_version": "1.2.0",
      "model_name": "LayoutModel",
      "state": {}
     },
     "e77dfd25b34b475c827ee70070d44db7": {
      "model_module": "@jupyter-widgets/controls",
      "model_module_version": "1.5.0",
      "model_name": "DescriptionStyleModel",
      "state": {
       "description_width": ""
      }
     },
     "e7a6fe6c5a52477e8bab71981ca6f904": {
      "model_module": "@jupyter-widgets/controls",
      "model_module_version": "1.5.0",
      "model_name": "DescriptionStyleModel",
      "state": {
       "description_width": ""
      }
     },
     "e88261f525c44536a2bff6f6be63f50c": {
      "model_module": "@jupyter-widgets/controls",
      "model_module_version": "1.5.0",
      "model_name": "DescriptionStyleModel",
      "state": {
       "description_width": ""
      }
     },
     "e98acf433d204deb9c5010a250a7f8cf": {
      "model_module": "@jupyter-widgets/base",
      "model_module_version": "1.2.0",
      "model_name": "LayoutModel",
      "state": {}
     },
     "eb046b24f91a4bbc8322204a8c80c97a": {
      "model_module": "@jupyter-widgets/controls",
      "model_module_version": "1.5.0",
      "model_name": "FloatProgressModel",
      "state": {
       "bar_style": "success",
       "layout": "IPY_MODEL_f63d549d03f4490386b9b5d706718ae8",
       "max": 624,
       "style": "IPY_MODEL_5b9adf9da42e462ead66ca859ef3fa3e",
       "value": 624
      }
     },
     "edf69b3cdfd1464c82dc30ae870e4344": {
      "model_module": "@jupyter-widgets/controls",
      "model_module_version": "1.5.0",
      "model_name": "ProgressStyleModel",
      "state": {
       "description_width": ""
      }
     },
     "ee7712a364f64d36acfc939cdb230536": {
      "model_module": "@jupyter-widgets/controls",
      "model_module_version": "1.5.0",
      "model_name": "ProgressStyleModel",
      "state": {
       "description_width": ""
      }
     },
     "eef7781b285346769edf48703ecbbf19": {
      "model_module": "@jupyter-widgets/controls",
      "model_module_version": "1.5.0",
      "model_name": "FloatProgressModel",
      "state": {
       "layout": "IPY_MODEL_760793d613c142338440ad0a21662a7d",
       "max": 10,
       "style": "IPY_MODEL_cd4257595d9847eea7fdf67d4036da41"
      }
     },
     "f33d7f883dab4b00b6eb3938474f1dd8": {
      "model_module": "@jupyter-widgets/controls",
      "model_module_version": "1.5.0",
      "model_name": "ProgressStyleModel",
      "state": {
       "description_width": ""
      }
     },
     "f53516ff608e48ec9023ddfb083236da": {
      "model_module": "@jupyter-widgets/base",
      "model_module_version": "1.2.0",
      "model_name": "LayoutModel",
      "state": {}
     },
     "f5547a4de87e413f9a3a73bf5132d802": {
      "model_module": "@jupyter-widgets/controls",
      "model_module_version": "1.5.0",
      "model_name": "DescriptionStyleModel",
      "state": {
       "description_width": ""
      }
     },
     "f59b246daf984ea996425f459f140685": {
      "model_module": "@jupyter-widgets/controls",
      "model_module_version": "1.5.0",
      "model_name": "DescriptionStyleModel",
      "state": {
       "description_width": ""
      }
     },
     "f63d549d03f4490386b9b5d706718ae8": {
      "model_module": "@jupyter-widgets/base",
      "model_module_version": "1.2.0",
      "model_name": "LayoutModel",
      "state": {}
     },
     "f683b9912c2b4da3a3cb7110d3325d03": {
      "model_module": "@jupyter-widgets/controls",
      "model_module_version": "1.5.0",
      "model_name": "HTMLModel",
      "state": {
       "layout": "IPY_MODEL_a0e3a6b96c2f4719b69b86546689e453",
       "style": "IPY_MODEL_df0f39d1647648e0bfb7af6b2fad3b27",
       "value": "100%"
      }
     },
     "f852b264836f49f5ba94682c654821f8": {
      "model_module": "@jupyter-widgets/base",
      "model_module_version": "1.2.0",
      "model_name": "LayoutModel",
      "state": {}
     },
     "f8f579930c0e4184a5788d224918de6b": {
      "model_module": "@jupyter-widgets/controls",
      "model_module_version": "1.5.0",
      "model_name": "HBoxModel",
      "state": {
       "children": [
        "IPY_MODEL_8b2569fa6c4f40d79426659d06ccbec7",
        "IPY_MODEL_bd7ec4a181fc49d3991006c31101d497",
        "IPY_MODEL_259ef124148a45428d45ff1de8aaf162"
       ],
       "layout": "IPY_MODEL_0649d065156a4b89ac4db64a66367585"
      }
     },
     "f9b8546239f14ad5a82320b78a14147d": {
      "model_module": "@jupyter-widgets/base",
      "model_module_version": "1.2.0",
      "model_name": "LayoutModel",
      "state": {}
     },
     "fa3c802d6ed64d8d84b44e6471a5f8ac": {
      "model_module": "@jupyter-widgets/base",
      "model_module_version": "1.2.0",
      "model_name": "LayoutModel",
      "state": {}
     },
     "fa7277125c8845c0b5b25fa9d959fd69": {
      "model_module": "@jupyter-widgets/controls",
      "model_module_version": "1.5.0",
      "model_name": "HTMLModel",
      "state": {
       "layout": "IPY_MODEL_407a629dec8041dd90debfd25bf5ec3b",
       "style": "IPY_MODEL_ac90d755f2014e75bf3e2d1643cf6617",
       "value": " 624/624 [00:29&lt;00:00,  2.06 batchs/s, train_acc=0.926, train_f1=0.452, train_loss=0.197, train_precision=0.774, train_recall=0.320, val_acc=0.928, val_f1=0.474, val_loss=0.191, val_precision=0.780, val_recall=0.341]"
      }
     },
     "fab7e0acb6314d3f82b11ba0d8f98b46": {
      "model_module": "@jupyter-widgets/controls",
      "model_module_version": "1.5.0",
      "model_name": "HTMLModel",
      "state": {
       "layout": "IPY_MODEL_770c49e133d5498a8919c145e8d1228a",
       "style": "IPY_MODEL_c71636f47b9b404fac3d516234406066",
       "value": "Epoch 5: 100%"
      }
     },
     "fbe3213d775d485ab16e0c5adca5ec40": {
      "model_module": "@jupyter-widgets/controls",
      "model_module_version": "1.5.0",
      "model_name": "DescriptionStyleModel",
      "state": {
       "description_width": ""
      }
     },
     "fc334c4c2f3f465cae1a8cc87914cb3b": {
      "model_module": "@jupyter-widgets/controls",
      "model_module_version": "1.5.0",
      "model_name": "HBoxModel",
      "state": {
       "children": [
        "IPY_MODEL_7ef1b39807c54932a3a44281fd23bbd6",
        "IPY_MODEL_294e96df78644354896d95fa403d68cc",
        "IPY_MODEL_77a5907920e44c348fdbbf1f9dfd88bb"
       ],
       "layout": "IPY_MODEL_0a3ea88a3315403f9082755e18fa80ff"
      }
     },
     "fc79078d5dcd4f96872da30c02bc3d7b": {
      "model_module": "@jupyter-widgets/controls",
      "model_module_version": "1.5.0",
      "model_name": "DescriptionStyleModel",
      "state": {
       "description_width": ""
      }
     },
     "fdc2dacaf1f1461fa2ea0e0ff3457621": {
      "model_module": "@jupyter-widgets/base",
      "model_module_version": "1.2.0",
      "model_name": "LayoutModel",
      "state": {}
     },
     "ff19aa466e064d88bcbca2aa58712cb5": {
      "model_module": "@jupyter-widgets/controls",
      "model_module_version": "1.5.0",
      "model_name": "ProgressStyleModel",
      "state": {
       "description_width": ""
      }
     },
     "ffc5e67cca1d442aa1cea3a689245b33": {
      "model_module": "@jupyter-widgets/controls",
      "model_module_version": "1.5.0",
      "model_name": "HTMLModel",
      "state": {
       "layout": "IPY_MODEL_9c4df37319044cc88d1d1ccc80901fc0",
       "style": "IPY_MODEL_91745670e2d345bc82525dd30471c728",
       "value": "Epoch 3: 100%"
      }
     }
    },
    "version_major": 2,
    "version_minor": 0
   }
  }
 },
 "nbformat": 4,
 "nbformat_minor": 4
}
