{
 "cells": [
  {
   "cell_type": "markdown",
   "metadata": {},
   "source": [
    "## 1. Imports"
   ]
  },
  {
   "cell_type": "code",
   "execution_count": 1,
   "metadata": {},
   "outputs": [],
   "source": [
    "from enum import Enum\n",
    "\n",
    "import torch\n",
    "from torch import nn, optim\n",
    "import pandas as pd\n",
    "import matplotlib.pyplot as plt\n",
    "\n",
    "from torchero import SupervisedTrainer\n",
    "from torchero.models.text import LinearModel\n",
    "from torchero.utils.collate import BoWCollate\n",
    "from torchero.utils.text import TextClassificationDataset, GLoVeVectors\n",
    "from torchero.utils.data import train_test_split\n",
    "from torchero.callbacks import ProgbarLogger\n",
    "from torchero.hparams import OptimP\n",
    "from torchero.meters import Precision, Recall, F1Score"
   ]
  },
  {
   "cell_type": "code",
   "execution_count": 2,
   "metadata": {},
   "outputs": [],
   "source": [
    "USE_PRETRAINED_EMBEDDINGS = False\n",
    "FREEZE_EMBEDDINGS = True"
   ]
  },
  {
   "cell_type": "code",
   "execution_count": 3,
   "metadata": {},
   "outputs": [
    {
     "name": "stdout",
     "output_type": "stream",
     "text": [
      "\"id\",\"comment_text\",\"toxic\",\"severe_toxic\",\"obscene\",\"threat\",\"insult\",\"identity_hate\"\n"
     ]
    }
   ],
   "source": [
    "!head -n 1 /mnt/datasets/datasets/nlp/jigsaw-toxic-comment-classification-challenge/train.csv"
   ]
  },
  {
   "cell_type": "code",
   "execution_count": 4,
   "metadata": {},
   "outputs": [],
   "source": [
    "if USE_PRETRAINED_EMBEDDINGS:\n",
    "    vectors = GLoVeVectors.from_url()"
   ]
  },
  {
   "cell_type": "code",
   "execution_count": 5,
   "metadata": {},
   "outputs": [],
   "source": [
    "path = r'/mnt/datasets/datasets/nlp/jigsaw-toxic-comment-classification-challenge/train.csv'\n",
    "label_cols = [\"toxic\",\"severe_toxic\",\"obscene\",\"threat\",\"insult\",\"identity_hate\"]"
   ]
  },
  {
   "cell_type": "markdown",
   "metadata": {},
   "source": [
    "## Load the dataset"
   ]
  },
  {
   "cell_type": "code",
   "execution_count": 6,
   "metadata": {},
   "outputs": [],
   "source": [
    "def transform_target(target):\n",
    "    return [int(x) for x in target]\n",
    "\n",
    "if USE_PRETRAINED_EMBEDDINGS:\n",
    "    train_ds = TextClassificationDataset.from_csv(path=path,\n",
    "                                                  text_col='comment_text',\n",
    "                                                  target_col=label_cols,\n",
    "                                                  tokenizer='spacy:en',\n",
    "                                                  vocab=vectors.vocab,\n",
    "                                                  transform_target=transform_target,\n",
    "    )\n",
    "else:\n",
    "    train_ds = TextClassificationDataset.from_csv(path=path,\n",
    "                                                  text_col='comment_text',\n",
    "                                                  target_col=label_cols,\n",
    "                                                  tokenizer='spacy:en',\n",
    "                                                  transform_target=transform_target,\n",
    "                                                  vocab_max_size=100000)\n",
    "train_ds, val_ds = train_test_split(train_ds, valid_size=0.2)\n",
    "train_dl = train_ds.dataloader(collate_fn=BoWCollate(), batch_size=256, shuffle=True, num_workers=6)\n",
    "val_dl = val_ds.dataloader(collate_fn=BoWCollate(), batch_size=256, shuffle=False, num_workers=6)"
   ]
  },
  {
   "cell_type": "markdown",
   "metadata": {},
   "source": [
    "## Linear Model"
   ]
  },
  {
   "cell_type": "code",
   "execution_count": 8,
   "metadata": {},
   "outputs": [
    {
     "data": {
      "text/plain": [
       "100000"
      ]
     },
     "execution_count": 8,
     "metadata": {},
     "output_type": "execute_result"
    }
   ],
   "source": [
    "len(train_ds.vocab)"
   ]
  },
  {
   "cell_type": "code",
   "execution_count": 9,
   "metadata": {},
   "outputs": [],
   "source": [
    "linear_model = LinearModel(len(train_ds.vocab),300,len(label_cols))"
   ]
  },
  {
   "cell_type": "code",
   "execution_count": 10,
   "metadata": {},
   "outputs": [],
   "source": [
    "if USE_PRETRAINED_EMBEDDINGS:\n",
    "    linear_model.embeddings.weight.data[1:,:] = vectors.matrix\n",
    "    linear_model.embeddings.weight.requires_grad = not FREEZE_EMBEDDINGS"
   ]
  },
  {
   "cell_type": "code",
   "execution_count": 11,
   "metadata": {},
   "outputs": [
    {
     "data": {
      "application/vnd.jupyter.widget-view+json": {
       "model_id": "366c94eb68fa476e8f105c90b1fafdbe",
       "version_major": 2,
       "version_minor": 0
      },
      "text/plain": [
       "  0%|          | 0/10 [00:00<?, ?epoch/s]"
      ]
     },
     "metadata": {},
     "output_type": "display_data"
    },
    {
     "data": {
      "application/vnd.jupyter.widget-view+json": {
       "model_id": "356e16fd688945478f6fb98da2f8785f",
       "version_major": 2,
       "version_minor": 0
      },
      "text/plain": [
       "  0%|          | 0/624 [00:00<?, ? batchs/s]"
      ]
     },
     "metadata": {},
     "output_type": "display_data"
    },
    {
     "data": {
      "application/vnd.jupyter.widget-view+json": {
       "model_id": "572c734ffd6f4a54976928e8fa56a8da",
       "version_major": 2,
       "version_minor": 0
      },
      "text/plain": [
       "  0%|          | 0/624 [00:00<?, ? batchs/s]"
      ]
     },
     "metadata": {},
     "output_type": "display_data"
    },
    {
     "data": {
      "application/vnd.jupyter.widget-view+json": {
       "model_id": "fc6e400b985140e98762183a7acb6e40",
       "version_major": 2,
       "version_minor": 0
      },
      "text/plain": [
       "  0%|          | 0/624 [00:00<?, ? batchs/s]"
      ]
     },
     "metadata": {},
     "output_type": "display_data"
    },
    {
     "data": {
      "application/vnd.jupyter.widget-view+json": {
       "model_id": "f12fe550bc2247aaafd325fa489c6e7e",
       "version_major": 2,
       "version_minor": 0
      },
      "text/plain": [
       "  0%|          | 0/624 [00:00<?, ? batchs/s]"
      ]
     },
     "metadata": {},
     "output_type": "display_data"
    },
    {
     "data": {
      "application/vnd.jupyter.widget-view+json": {
       "model_id": "e688f7ebd7a64449a619dfa71ab7a73c",
       "version_major": 2,
       "version_minor": 0
      },
      "text/plain": [
       "  0%|          | 0/624 [00:00<?, ? batchs/s]"
      ]
     },
     "metadata": {},
     "output_type": "display_data"
    },
    {
     "data": {
      "application/vnd.jupyter.widget-view+json": {
       "model_id": "2b6db9780d37412cb2e2edce43fb902b",
       "version_major": 2,
       "version_minor": 0
      },
      "text/plain": [
       "  0%|          | 0/624 [00:00<?, ? batchs/s]"
      ]
     },
     "metadata": {},
     "output_type": "display_data"
    },
    {
     "data": {
      "application/vnd.jupyter.widget-view+json": {
       "model_id": "bba6a6136fc842399c357b96ac8ede21",
       "version_major": 2,
       "version_minor": 0
      },
      "text/plain": [
       "  0%|          | 0/624 [00:00<?, ? batchs/s]"
      ]
     },
     "metadata": {},
     "output_type": "display_data"
    },
    {
     "data": {
      "application/vnd.jupyter.widget-view+json": {
       "model_id": "7f99525d92544126b6e638563b7f0ccf",
       "version_major": 2,
       "version_minor": 0
      },
      "text/plain": [
       "  0%|          | 0/624 [00:00<?, ? batchs/s]"
      ]
     },
     "metadata": {},
     "output_type": "display_data"
    },
    {
     "data": {
      "application/vnd.jupyter.widget-view+json": {
       "model_id": "0ab26b0e362c4708814f079d71a58f3b",
       "version_major": 2,
       "version_minor": 0
      },
      "text/plain": [
       "  0%|          | 0/624 [00:00<?, ? batchs/s]"
      ]
     },
     "metadata": {},
     "output_type": "display_data"
    },
    {
     "data": {
      "application/vnd.jupyter.widget-view+json": {
       "model_id": "326c6646f4324107aca5b00947a424d4",
       "version_major": 2,
       "version_minor": 0
      },
      "text/plain": [
       "  0%|          | 0/624 [00:00<?, ? batchs/s]"
      ]
     },
     "metadata": {},
     "output_type": "display_data"
    }
   ],
   "source": [
    "linear_model_trainer = SupervisedTrainer(linear_model,\n",
    "                                         criterion='binary_cross_entropy_wl',\n",
    "                                         optimizer='adam',\n",
    "                                         acc_meters=['binary_with_logits_accuracy',\n",
    "                                                     Precision(with_logits=True),\n",
    "                                                     Recall(with_logits=True),\n",
    "                                                     F1Score(with_logits=True)],\n",
    "                                       callbacks=[ProgbarLogger(notebook=True)])\n",
    "linear_model_trainer.to('cuda')\n",
    "linear_model_trainer.train(train_dl, val_dl, epochs=10)"
   ]
  },
  {
   "cell_type": "markdown",
   "metadata": {},
   "source": [
    "### Training results"
   ]
  },
  {
   "cell_type": "code",
   "execution_count": 12,
   "metadata": {},
   "outputs": [
    {
     "data": {
      "image/png": "[encoded data removed]",
      "text/plain": [
       "<Figure size 1080x1080 with 6 Axes>"
      ]
     },
     "metadata": {
      "needs_background": "light"
     },
     "output_type": "display_data"
    }
   ],
   "source": [
    "linear_model_trainer.history.plot()\n",
    "plt.show()"
   ]
  },
  {
   "cell_type": "markdown",
   "metadata": {},
   "source": [
    "## Convolutional Network"
   ]
  },
  {
   "cell_type": "code",
   "execution_count": 13,
   "metadata": {},
   "outputs": [],
   "source": [
    "class Conv1DBlock(nn.Module):\n",
    "    def __init__(self, c_in, c_out, kernel_size=3, padding=(0, 0), stride=1, max_pool=True):\n",
    "        super(Conv1DBlock, self).__init__()\n",
    "        self.padding = nn.ConstantPad1d(padding, 0)\n",
    "        self.conv = nn.Conv1d(c_in, c_out, kernel_size=kernel_size, stride=stride, padding=0)\n",
    "        self.batch_norm = nn.BatchNorm1d(c_out)\n",
    "        self.act = nn.ReLU(inplace=True)\n",
    "        self.max_pool = nn.MaxPool1d(2) if max_pool else None\n",
    "    \n",
    "    def forward(self, x):\n",
    "        x = self.act(self.batch_norm(self.conv(self.padding(x))))\n",
    "        if self.max_pool is not None:\n",
    "            x = self.max_pool(x)\n",
    "        return x\n",
    "\n",
    "class Conv1DSuperBlock(nn.Module):\n",
    "    def __init__(self, c_in, c_out, kernel_sizes=[3], padding=[(0, 0)], stride=1, max_pool=True):\n",
    "        super(Conv1DSuperBlock, self).__init__()\n",
    "        assert(len(padding) == len(kernel_sizes))\n",
    "        self.convs = [Conv1DBlock(c_in, c_out, kernel_size=k, padding=p, stride=stride, max_pool=max_pool)\n",
    "                      for k, p in zip(kernel_sizes, padding)]\n",
    "    \n",
    "    def to(self, device):\n",
    "        super(Conv1DSuperBlock, self).to(device)\n",
    "        for conv in self.convs:\n",
    "            conv.to(device)\n",
    "        \n",
    "    \n",
    "    def forward(self, x):\n",
    "        outputs = [conv(x) for conv in self.convs]\n",
    "        return torch.cat(outputs, dim=1)\n",
    "    \n",
    "\n",
    "class ConvModel(nn.Module):\n",
    "    def __init__(self, outputs, embedding_dim=50):\n",
    "        super(ConvModel, self).__init__()\n",
    "        self.embeddings = nn.Embedding(len(train_ds.vocab), embedding_dim=embedding_dim, padding_idx=train_ds.vocab[train_ds.vocab.pad])\n",
    "        self.convs = nn.Sequential(Conv1DSuperBlock(embedding_dim, 32, [1,2,3], [(0, 0), (1, 0), (2, 0)]),\n",
    "                                   Conv1DSuperBlock(32*3, 16, [1,2,3], [(0, 0), (1, 0), (2,0)]),\n",
    "                                   Conv1DBlock(16*3, 20, 3, padding=(1,1), stride=1, max_pool=False),\n",
    "                                   nn.AdaptiveMaxPool1d(1),\n",
    "                                   nn.Flatten(),\n",
    "                                   nn.Linear(20, 10),\n",
    "                                   nn.ReLU(),\n",
    "                                   nn.Dropout(0.5),\n",
    "                                   nn.Linear(10, outputs))\n",
    "        \n",
    "    def to(self, device):\n",
    "        super(ConvModel, self).to(device)\n",
    "        self.embeddings.to(device)\n",
    "        self.convs[0].to(device)\n",
    "        self.convs[1].to(device)\n",
    "        self.convs[2].to(device)\n",
    "        \n",
    "    def forward(self, x):\n",
    "        x = self.embeddings(x)\n",
    "        x = x.transpose(-1, 1)\n",
    "        x = self.convs(x)\n",
    "        return x"
   ]
  },
  {
   "cell_type": "code",
   "execution_count": 14,
   "metadata": {},
   "outputs": [],
   "source": [
    "conv_model = ConvModel(len(label_cols), 100)"
   ]
  },
  {
   "cell_type": "code",
   "execution_count": 15,
   "metadata": {},
   "outputs": [
    {
     "data": {
      "application/vnd.jupyter.widget-view+json": {
       "model_id": "d7424d85041b4933a321c3278d78254d",
       "version_major": 2,
       "version_minor": 0
      },
      "text/plain": [
       "  0%|          | 0/10 [00:00<?, ?epoch/s]"
      ]
     },
     "metadata": {},
     "output_type": "display_data"
    },
    {
     "data": {
      "application/vnd.jupyter.widget-view+json": {
       "model_id": "640575b08293445ca882ec24ae398f26",
       "version_major": 2,
       "version_minor": 0
      },
      "text/plain": [
       "  0%|          | 0/624 [00:00<?, ? batchs/s]"
      ]
     },
     "metadata": {},
     "output_type": "display_data"
    },
    {
     "data": {
      "application/vnd.jupyter.widget-view+json": {
       "model_id": "ae81caf0ff5e46d3807f6cf1ba1933e3",
       "version_major": 2,
       "version_minor": 0
      },
      "text/plain": [
       "  0%|          | 0/624 [00:00<?, ? batchs/s]"
      ]
     },
     "metadata": {},
     "output_type": "display_data"
    },
    {
     "data": {
      "application/vnd.jupyter.widget-view+json": {
       "model_id": "ea68c84eec9b4b6aad1e8030728ecb4b",
       "version_major": 2,
       "version_minor": 0
      },
      "text/plain": [
       "  0%|          | 0/624 [00:00<?, ? batchs/s]"
      ]
     },
     "metadata": {},
     "output_type": "display_data"
    },
    {
     "data": {
      "application/vnd.jupyter.widget-view+json": {
       "model_id": "c35b50bd0d1746c1a5701ca89c847d9a",
       "version_major": 2,
       "version_minor": 0
      },
      "text/plain": [
       "  0%|          | 0/624 [00:00<?, ? batchs/s]"
      ]
     },
     "metadata": {},
     "output_type": "display_data"
    },
    {
     "data": {
      "application/vnd.jupyter.widget-view+json": {
       "model_id": "4726000d0c754c5888923307dd5139bd",
       "version_major": 2,
       "version_minor": 0
      },
      "text/plain": [
       "  0%|          | 0/624 [00:00<?, ? batchs/s]"
      ]
     },
     "metadata": {},
     "output_type": "display_data"
    },
    {
     "data": {
      "application/vnd.jupyter.widget-view+json": {
       "model_id": "c130dc516e06400da174ab5b4d845f3f",
       "version_major": 2,
       "version_minor": 0
      },
      "text/plain": [
       "  0%|          | 0/624 [00:00<?, ? batchs/s]"
      ]
     },
     "metadata": {},
     "output_type": "display_data"
    },
    {
     "data": {
      "application/vnd.jupyter.widget-view+json": {
       "model_id": "1a879e0e22bb4f08ac62b70b499c5c01",
       "version_major": 2,
       "version_minor": 0
      },
      "text/plain": [
       "  0%|          | 0/624 [00:00<?, ? batchs/s]"
      ]
     },
     "metadata": {},
     "output_type": "display_data"
    },
    {
     "data": {
      "application/vnd.jupyter.widget-view+json": {
       "model_id": "24fbd2771a2d43c280cf5f81363f9005",
       "version_major": 2,
       "version_minor": 0
      },
      "text/plain": [
       "  0%|          | 0/624 [00:00<?, ? batchs/s]"
      ]
     },
     "metadata": {},
     "output_type": "display_data"
    },
    {
     "data": {
      "application/vnd.jupyter.widget-view+json": {
       "model_id": "4f05016f18b74cd685e34bbfb5ca237a",
       "version_major": 2,
       "version_minor": 0
      },
      "text/plain": [
       "  0%|          | 0/624 [00:00<?, ? batchs/s]"
      ]
     },
     "metadata": {},
     "output_type": "display_data"
    },
    {
     "data": {
      "application/vnd.jupyter.widget-view+json": {
       "model_id": "72cae893a1a34dbfb48a91a42633da8a",
       "version_major": 2,
       "version_minor": 0
      },
      "text/plain": [
       "  0%|          | 0/624 [00:00<?, ? batchs/s]"
      ]
     },
     "metadata": {},
     "output_type": "display_data"
    }
   ],
   "source": [
    "conv_trainer = SupervisedTrainer(conv_model,\n",
    "                                 criterion='binary_cross_entropy_wl',\n",
    "                                 optimizer='adam',\n",
    "                                 acc_meters=['binary_with_logits_accuracy',\n",
    "                                              Precision(with_logits=True),\n",
    "                                              Recall(with_logits=True),\n",
    "                                              F1Score(with_logits=True)],\n",
    "                                 callbacks=[ProgbarLogger(notebook=True)])\n",
    "conv_trainer.to('cuda')\n",
    "\n",
    "train_dl = train_ds.dataloader(batch_size=256, shuffle=True, num_workers=6)\n",
    "val_dl = val_ds.dataloader(batch_size=256, shuffle=False, num_workers=6)\n",
    "conv_trainer.train(train_dl, val_dl, epochs=10)"
   ]
  },
  {
   "cell_type": "code",
   "execution_count": 16,
   "metadata": {},
   "outputs": [
    {
     "data": {
      "image/png": "[encoded data removed]",
      "text/plain": [
       "<Figure size 1080x1080 with 6 Axes>"
      ]
     },
     "metadata": {
      "needs_background": "light"
     },
     "output_type": "display_data"
    }
   ],
   "source": [
    "conv_trainer.history.plot()\n",
    "plt.show()"
   ]
  },
  {
   "cell_type": "code",
   "execution_count": 20,
   "metadata": {},
   "outputs": [
    {
     "data": {
      "text/html": [
       "<div>\n",
       "<style scoped>\n",
       "    .dataframe tbody tr th:only-of-type {\n",
       "        vertical-align: middle;\n",
       "    }\n",
       "\n",
       "    .dataframe tbody tr th {\n",
       "        vertical-align: top;\n",
       "    }\n",
       "\n",
       "    .dataframe thead th {\n",
       "        text-align: right;\n",
       "    }\n",
       "</style>\n",
       "<table border=\"1\" class=\"dataframe\">\n",
       "  <thead>\n",
       "    <tr style=\"text-align: right;\">\n",
       "      <th></th>\n",
       "      <th>linear</th>\n",
       "      <th>convnet</th>\n",
       "    </tr>\n",
       "  </thead>\n",
       "  <tbody>\n",
       "    <tr>\n",
       "      <th>train_acc</th>\n",
       "      <td>0.985616</td>\n",
       "      <td>0.976575</td>\n",
       "    </tr>\n",
       "    <tr>\n",
       "      <th>train_precision</th>\n",
       "      <td>0.890329</td>\n",
       "      <td>0.832476</td>\n",
       "    </tr>\n",
       "    <tr>\n",
       "      <th>train_recall</th>\n",
       "      <td>0.692974</td>\n",
       "      <td>0.451935</td>\n",
       "    </tr>\n",
       "    <tr>\n",
       "      <th>train_f1</th>\n",
       "      <td>0.779351</td>\n",
       "      <td>0.585832</td>\n",
       "    </tr>\n",
       "    <tr>\n",
       "      <th>train_loss</th>\n",
       "      <td>0.040724</td>\n",
       "      <td>0.063331</td>\n",
       "    </tr>\n",
       "    <tr>\n",
       "      <th>val_acc</th>\n",
       "      <td>0.986759</td>\n",
       "      <td>0.981395</td>\n",
       "    </tr>\n",
       "    <tr>\n",
       "      <th>val_precision</th>\n",
       "      <td>0.906516</td>\n",
       "      <td>0.874021</td>\n",
       "    </tr>\n",
       "    <tr>\n",
       "      <th>val_recall</th>\n",
       "      <td>0.712263</td>\n",
       "      <td>0.575417</td>\n",
       "    </tr>\n",
       "    <tr>\n",
       "      <th>val_f1</th>\n",
       "      <td>0.797734</td>\n",
       "      <td>0.693961</td>\n",
       "    </tr>\n",
       "    <tr>\n",
       "      <th>val_loss</th>\n",
       "      <td>0.037895</td>\n",
       "      <td>0.048302</td>\n",
       "    </tr>\n",
       "  </tbody>\n",
       "</table>\n",
       "</div>"
      ],
      "text/plain": [
       "                   linear   convnet\n",
       "train_acc        0.985616  0.976575\n",
       "train_precision  0.890329  0.832476\n",
       "train_recall     0.692974  0.451935\n",
       "train_f1         0.779351  0.585832\n",
       "train_loss       0.040724  0.063331\n",
       "val_acc          0.986759  0.981395\n",
       "val_precision    0.906516  0.874021\n",
       "val_recall       0.712263  0.575417\n",
       "val_f1           0.797734  0.693961\n",
       "val_loss         0.037895  0.048302"
      ]
     },
     "execution_count": 20,
     "metadata": {},
     "output_type": "execute_result"
    }
   ],
   "source": [
    "pd.DataFrame.from_dict({\n",
    "    'linear': linear_model_trainer.metrics,\n",
    "    'convnet': conv_trainer.metrics})"
   ]
  }
 ],
 "metadata": {
  "kernelspec": {
   "display_name": "Python 3",
   "language": "python",
   "name": "python3"
  },
  "language_info": {
   "codemirror_mode": {
    "name": "ipython",
    "version": 3
   },
   "file_extension": ".py",
   "mimetype": "text/x-python",
   "name": "python",
   "nbconvert_exporter": "python",
   "pygments_lexer": "ipython3",
   "version": "3.9.5"
  },
  "widgets": {
   "application/vnd.jupyter.widget-state+json": {
    "state": {
     "007d88273caa424eb70dd08751843fbd": {
      "model_module": "@jupyter-widgets/base",
      "model_module_version": "1.2.0",
      "model_name": "LayoutModel",
      "state": {}
     },
     "018a47f7b976446d882572abf0b014f5": {
      "model_module": "@jupyter-widgets/controls",
      "model_module_version": "1.5.0",
      "model_name": "HTMLModel",
      "state": {
       "layout": "IPY_MODEL_42044d18707f4a348d1e0a196fe1b846",
       "style": "IPY_MODEL_03c92966027a44789cc4383b99574df1",
       "value": "100%"
      }
     },
     "01ce212c06eb45a28d5b9b3a589a0af2": {
      "model_module": "@jupyter-widgets/controls",
      "model_module_version": "1.5.0",
      "model_name": "HTMLModel",
      "state": {
       "layout": "IPY_MODEL_1919d1a08c70431a91e679b048c7934e",
       "style": "IPY_MODEL_dd2bb2460fb147159586d269160a2357",
       "value": "Epoch 4: 100%"
      }
     },
     "02ffd552933f4c65904fc194c266c1fb": {
      "model_module": "@jupyter-widgets/base",
      "model_module_version": "1.2.0",
      "model_name": "LayoutModel",
      "state": {}
     },
     "030e2da54fe24d3ea79686de0ba634db": {
      "model_module": "@jupyter-widgets/controls",
      "model_module_version": "1.5.0",
      "model_name": "HTMLModel",
      "state": {
       "layout": "IPY_MODEL_3c9b53d1c8434ed08d57bce3bca4e378",
       "style": "IPY_MODEL_770daa3158bf49d78cf8c5a09375088c",
       "value": " 624/624 [02:18&lt;00:00, 52.63 batchs/s, train_acc=0.982, train_f1=0.712, train_loss=0.051, train_precision=0.860, train_recall=0.607, val_acc=0.983, val_f1=0.729, val_loss=0.048, val_precision=0.878, val_recall=0.624]"
      }
     },
     "03c92966027a44789cc4383b99574df1": {
      "model_module": "@jupyter-widgets/controls",
      "model_module_version": "1.5.0",
      "model_name": "DescriptionStyleModel",
      "state": {
       "description_width": ""
      }
     },
     "03fbc85b01764b2c8aa14d50c3975549": {
      "model_module": "@jupyter-widgets/controls",
      "model_module_version": "1.5.0",
      "model_name": "HTMLModel",
      "state": {
       "layout": "IPY_MODEL_1b83d2d8e3184cd784fc100c546867dc",
       "style": "IPY_MODEL_e612b12223f04f588e60172550392b27",
       "value": "100%"
      }
     },
     "04c05ba2c4974450b106a6fd8fd2fffa": {
      "model_module": "@jupyter-widgets/base",
      "model_module_version": "1.2.0",
      "model_name": "LayoutModel",
      "state": {}
     },
     "05cb7e5e715b4316a379193c05b755d1": {
      "model_module": "@jupyter-widgets/controls",
      "model_module_version": "1.5.0",
      "model_name": "ProgressStyleModel",
      "state": {
       "description_width": ""
      }
     },
     "06d4dee6086946f1905ee8e91edd15c2": {
      "model_module": "@jupyter-widgets/controls",
      "model_module_version": "1.5.0",
      "model_name": "ProgressStyleModel",
      "state": {
       "description_width": ""
      }
     },
     "06e33f0abd494886bf168829654e1aa4": {
      "model_module": "@jupyter-widgets/controls",
      "model_module_version": "1.5.0",
      "model_name": "HTMLModel",
      "state": {
       "layout": "IPY_MODEL_7fe582553d3046cbb6e7cefceb1f27ca",
       "style": "IPY_MODEL_2e2dc0b4716740f5ab3ad84261c21482",
       "value": " 624/624 [03:42&lt;00:00,  1.95 batchs/s, train_acc=0.977, train_f1=0.605, train_loss=0.066, train_precision=0.807, train_recall=0.484, val_acc=0.979, val_f1=0.649, val_loss=0.061, val_precision=0.822, val_recall=0.535]"
      }
     },
     "07634f06bf9e4280b8ec7754c294f04b": {
      "model_module": "@jupyter-widgets/controls",
      "model_module_version": "1.5.0",
      "model_name": "FloatProgressModel",
      "state": {
       "bar_style": "success",
       "layout": "IPY_MODEL_afc322473a064b22bd345d4b51dbaef5",
       "max": 624,
       "style": "IPY_MODEL_05cb7e5e715b4316a379193c05b755d1",
       "value": 624
      }
     },
     "08c96e2f31e84d32a0334bed04698b45": {
      "model_module": "@jupyter-widgets/controls",
      "model_module_version": "1.5.0",
      "model_name": "DescriptionStyleModel",
      "state": {
       "description_width": ""
      }
     },
     "0ab26b0e362c4708814f079d71a58f3b": {
      "model_module": "@jupyter-widgets/controls",
      "model_module_version": "1.5.0",
      "model_name": "HBoxModel",
      "state": {
       "children": [
        "IPY_MODEL_8da2f0a0793f45d4863fb88a50ab42eb",
        "IPY_MODEL_4e52c4870c7c42c2a44888456e2569dd",
        "IPY_MODEL_0f7d54720dc74aef933d86ae373b3a41"
       ],
       "layout": "IPY_MODEL_966446284358452a878aa6f6c2c60ea0"
      }
     },
     "0bbc75b1c8614e81bbe7c825b1b4f9a6": {
      "model_module": "@jupyter-widgets/base",
      "model_module_version": "1.2.0",
      "model_name": "LayoutModel",
      "state": {}
     },
     "0d4554254161415389132283f9e5b105": {
      "model_module": "@jupyter-widgets/controls",
      "model_module_version": "1.5.0",
      "model_name": "DescriptionStyleModel",
      "state": {
       "description_width": ""
      }
     },
     "0d483938f42847078138d50b38b015b1": {
      "model_module": "@jupyter-widgets/controls",
      "model_module_version": "1.5.0",
      "model_name": "DescriptionStyleModel",
      "state": {
       "description_width": ""
      }
     },
     "0f7d54720dc74aef933d86ae373b3a41": {
      "model_module": "@jupyter-widgets/controls",
      "model_module_version": "1.5.0",
      "model_name": "HTMLModel",
      "state": {
       "layout": "IPY_MODEL_7d9f5647753d41f3b7bf132482479aed",
       "style": "IPY_MODEL_da930f07091a4d13803697ae0bcfed7f",
       "value": " 624/624 [00:55&lt;00:00,  1.88 batchs/s, train_acc=0.985, train_f1=0.765, train_loss=0.043, train_precision=0.885, train_recall=0.674, val_acc=0.986, val_f1=0.780, val_loss=0.040, val_precision=0.900, val_recall=0.688]"
      }
     },
     "0fbec30a61a4434d9b8453cfbafe5568": {
      "model_module": "@jupyter-widgets/controls",
      "model_module_version": "1.5.0",
      "model_name": "DescriptionStyleModel",
      "state": {
       "description_width": ""
      }
     },
     "101880e6854645d7b71a48170a74bc71": {
      "model_module": "@jupyter-widgets/controls",
      "model_module_version": "1.5.0",
      "model_name": "ProgressStyleModel",
      "state": {
       "description_width": ""
      }
     },
     "104e817ebac84bb780ac5e29389ded05": {
      "model_module": "@jupyter-widgets/controls",
      "model_module_version": "1.5.0",
      "model_name": "ProgressStyleModel",
      "state": {
       "description_width": ""
      }
     },
     "10c735f7191d444392ae1e03502abb7e": {
      "model_module": "@jupyter-widgets/controls",
      "model_module_version": "1.5.0",
      "model_name": "FloatProgressModel",
      "state": {
       "bar_style": "success",
       "layout": "IPY_MODEL_c99fa86e19c7427a841c8e936c84c34c",
       "max": 624,
       "style": "IPY_MODEL_15631fc3945e4635887168810a522984",
       "value": 624
      }
     },
     "117888dcc8ab498da24cf02210a021d1": {
      "model_module": "@jupyter-widgets/controls",
      "model_module_version": "1.5.0",
      "model_name": "DescriptionStyleModel",
      "state": {
       "description_width": ""
      }
     },
     "126a0498c63e4cec9852603c56fb4ae6": {
      "model_module": "@jupyter-widgets/base",
      "model_module_version": "1.2.0",
      "model_name": "LayoutModel",
      "state": {}
     },
     "1323f1334f3e4203b84e08dd0c0b7b2b": {
      "model_module": "@jupyter-widgets/base",
      "model_module_version": "1.2.0",
      "model_name": "LayoutModel",
      "state": {}
     },
     "15631fc3945e4635887168810a522984": {
      "model_module": "@jupyter-widgets/controls",
      "model_module_version": "1.5.0",
      "model_name": "ProgressStyleModel",
      "state": {
       "description_width": ""
      }
     },
     "15b5422551dc408591f82651abf68da8": {
      "model_module": "@jupyter-widgets/base",
      "model_module_version": "1.2.0",
      "model_name": "LayoutModel",
      "state": {}
     },
     "1602adfd92f54a06a1b90f05aa25b130": {
      "model_module": "@jupyter-widgets/base",
      "model_module_version": "1.2.0",
      "model_name": "LayoutModel",
      "state": {}
     },
     "1705744ea9794eac9c94794d8ce2c0c2": {
      "model_module": "@jupyter-widgets/base",
      "model_module_version": "1.2.0",
      "model_name": "LayoutModel",
      "state": {}
     },
     "1919d1a08c70431a91e679b048c7934e": {
      "model_module": "@jupyter-widgets/base",
      "model_module_version": "1.2.0",
      "model_name": "LayoutModel",
      "state": {}
     },
     "1a879e0e22bb4f08ac62b70b499c5c01": {
      "model_module": "@jupyter-widgets/controls",
      "model_module_version": "1.5.0",
      "model_name": "HBoxModel",
      "state": {
       "children": [
        "IPY_MODEL_f935dc6337dd45f39eef9aa0adc854ed",
        "IPY_MODEL_07634f06bf9e4280b8ec7754c294f04b",
        "IPY_MODEL_c716dab371584a6cb9ea5f5b6b47ba12"
       ],
       "layout": "IPY_MODEL_53fc2311b6514034927d8af490217c21"
      }
     },
     "1aed5a71d209437391681f412f8dd6aa": {
      "model_module": "@jupyter-widgets/base",
      "model_module_version": "1.2.0",
      "model_name": "LayoutModel",
      "state": {}
     },
     "1b7d08e0b41f42e1961c81438362766d": {
      "model_module": "@jupyter-widgets/controls",
      "model_module_version": "1.5.0",
      "model_name": "DescriptionStyleModel",
      "state": {
       "description_width": ""
      }
     },
     "1b83d2d8e3184cd784fc100c546867dc": {
      "model_module": "@jupyter-widgets/base",
      "model_module_version": "1.2.0",
      "model_name": "LayoutModel",
      "state": {}
     },
     "1bb901aca1ad4c9c9b07cded76a1f6bc": {
      "model_module": "@jupyter-widgets/base",
      "model_module_version": "1.2.0",
      "model_name": "LayoutModel",
      "state": {}
     },
     "1c085ca518934763ae2b4ab039d689ca": {
      "model_module": "@jupyter-widgets/base",
      "model_module_version": "1.2.0",
      "model_name": "LayoutModel",
      "state": {}
     },
     "1c52f59f91b74a7188817c22c84c28cb": {
      "model_module": "@jupyter-widgets/base",
      "model_module_version": "1.2.0",
      "model_name": "LayoutModel",
      "state": {}
     },
     "1e31d1b159bf4853ab0b080cd1dea069": {
      "model_module": "@jupyter-widgets/base",
      "model_module_version": "1.2.0",
      "model_name": "LayoutModel",
      "state": {}
     },
     "1e794ded089b4d6cb2a14ddb058e24e5": {
      "model_module": "@jupyter-widgets/base",
      "model_module_version": "1.2.0",
      "model_name": "LayoutModel",
      "state": {}
     },
     "204f0dd44eb64a71a8404eeb993b81e2": {
      "model_module": "@jupyter-widgets/controls",
      "model_module_version": "1.5.0",
      "model_name": "DescriptionStyleModel",
      "state": {
       "description_width": ""
      }
     },
     "220e635854db4d84bb94c012e6c065c1": {
      "model_module": "@jupyter-widgets/controls",
      "model_module_version": "1.5.0",
      "model_name": "DescriptionStyleModel",
      "state": {
       "description_width": ""
      }
     },
     "2348472129e14ab8a542c7b716a32e11": {
      "model_module": "@jupyter-widgets/controls",
      "model_module_version": "1.5.0",
      "model_name": "DescriptionStyleModel",
      "state": {
       "description_width": ""
      }
     },
     "24fbd2771a2d43c280cf5f81363f9005": {
      "model_module": "@jupyter-widgets/controls",
      "model_module_version": "1.5.0",
      "model_name": "HBoxModel",
      "state": {
       "children": [
        "IPY_MODEL_cd145f174bd14b59bd029f0a5dbb09b9",
        "IPY_MODEL_d96212b5f13843819ad9d9bc0d54fa79",
        "IPY_MODEL_f19f8bcfb7cc4a2db2785fd0370cef1f"
       ],
       "layout": "IPY_MODEL_7719321a09dc4ae59336f28a17e03578"
      }
     },
     "26337e1eba5e437894694a8e4f89b5f1": {
      "model_module": "@jupyter-widgets/controls",
      "model_module_version": "1.5.0",
      "model_name": "DescriptionStyleModel",
      "state": {
       "description_width": ""
      }
     },
     "264f9b385ec745cfb108ad1315114384": {
      "model_module": "@jupyter-widgets/controls",
      "model_module_version": "1.5.0",
      "model_name": "HTMLModel",
      "state": {
       "layout": "IPY_MODEL_fa928e72e96d45fe828ca48fa7b60dc3",
       "style": "IPY_MODEL_57392ce90185497cb9863d12c6e0e343",
       "value": "Epoch 4: 100%"
      }
     },
     "267bf92162f542b58af559de30f9c6bc": {
      "model_module": "@jupyter-widgets/base",
      "model_module_version": "1.2.0",
      "model_name": "LayoutModel",
      "state": {}
     },
     "275a7d128a224534ad4f5c8367ca4d01": {
      "model_module": "@jupyter-widgets/controls",
      "model_module_version": "1.5.0",
      "model_name": "FloatProgressModel",
      "state": {
       "bar_style": "success",
       "layout": "IPY_MODEL_99d1f0571307428781547dc587ec162c",
       "max": 624,
       "style": "IPY_MODEL_91e1a1efcac44fa78d8d552486d29b3d",
       "value": 624
      }
     },
     "28881da573e2471b9cd7e9b7448252a6": {
      "model_module": "@jupyter-widgets/base",
      "model_module_version": "1.2.0",
      "model_name": "LayoutModel",
      "state": {}
     },
     "29ac28b4e6a745ea89d0d78c4b01b8e3": {
      "model_module": "@jupyter-widgets/controls",
      "model_module_version": "1.5.0",
      "model_name": "HTMLModel",
      "state": {
       "layout": "IPY_MODEL_6732e676849640708f362cb583d683b3",
       "style": "IPY_MODEL_7ec469a53b0d450c90dcf057c9a30948",
       "value": "Epoch 9: 100%"
      }
     },
     "2b6db9780d37412cb2e2edce43fb902b": {
      "model_module": "@jupyter-widgets/controls",
      "model_module_version": "1.5.0",
      "model_name": "HBoxModel",
      "state": {
       "children": [
        "IPY_MODEL_af00438a0c5f4079b3d60cc7847fadd6",
        "IPY_MODEL_b30bebc275eb4076aa07564ffaff82a6",
        "IPY_MODEL_030e2da54fe24d3ea79686de0ba634db"
       ],
       "layout": "IPY_MODEL_628e6ae152e74adaab29c9d0fca5c428"
      }
     },
     "2c4d49ba52bd470e8258343e39aa1227": {
      "model_module": "@jupyter-widgets/controls",
      "model_module_version": "1.5.0",
      "model_name": "HTMLModel",
      "state": {
       "layout": "IPY_MODEL_c1a075a567704cb994ab905ac4be1be9",
       "style": "IPY_MODEL_e949ec21ef504088aae43dfb98df6561",
       "value": " 624/624 [10:14&lt;00:00,  2.92s/ batchs, train_acc=0.960, train_f1=0.044, train_loss=0.131, train_precision=0.192, train_recall=0.025, val_acc=0.963, val_f1=0.005, val_loss=0.092, val_precision=0.636, val_recall=0.003]"
      }
     },
     "2c946da4d5e943588aeb648b95e5bd9e": {
      "model_module": "@jupyter-widgets/controls",
      "model_module_version": "1.5.0",
      "model_name": "FloatProgressModel",
      "state": {
       "bar_style": "success",
       "layout": "IPY_MODEL_1602adfd92f54a06a1b90f05aa25b130",
       "max": 624,
       "style": "IPY_MODEL_a47b7af4e4a9452d91a5162547c8f6e4",
       "value": 624
      }
     },
     "2c960c0691af412d9126a91474222277": {
      "model_module": "@jupyter-widgets/controls",
      "model_module_version": "1.5.0",
      "model_name": "HTMLModel",
      "state": {
       "layout": "IPY_MODEL_a8c1f1fd14bc408da950fb5c90705b5c",
       "style": "IPY_MODEL_c9f873ffefa9477e9dd0c65ff3c24d20",
       "value": " 624/624 [02:46&lt;00:00, 48.94 batchs/s, train_acc=0.981, train_f1=0.685, train_loss=0.055, train_precision=0.845, train_recall=0.576, val_acc=0.982, val_f1=0.707, val_loss=0.051, val_precision=0.868, val_recall=0.596]"
      }
     },
     "2e2dc0b4716740f5ab3ad84261c21482": {
      "model_module": "@jupyter-widgets/controls",
      "model_module_version": "1.5.0",
      "model_name": "DescriptionStyleModel",
      "state": {
       "description_width": ""
      }
     },
     "326c6646f4324107aca5b00947a424d4": {
      "model_module": "@jupyter-widgets/controls",
      "model_module_version": "1.5.0",
      "model_name": "HBoxModel",
      "state": {
       "children": [
        "IPY_MODEL_8e592c3cd73e47a99afc068c745c0e21",
        "IPY_MODEL_520cf31f9c6a45e3a5876c9edfe7ec65",
        "IPY_MODEL_b9c23f5f96c744b4a0dda5856ee9acdb"
       ],
       "layout": "IPY_MODEL_9eb41684a1a74a97913238468fc8ad29"
      }
     },
     "32a1f8ff1aa745cfb6aad880933177b5": {
      "model_module": "@jupyter-widgets/controls",
      "model_module_version": "1.5.0",
      "model_name": "DescriptionStyleModel",
      "state": {
       "description_width": ""
      }
     },
     "32d724a091d548a88961979435b98143": {
      "model_module": "@jupyter-widgets/base",
      "model_module_version": "1.2.0",
      "model_name": "LayoutModel",
      "state": {}
     },
     "334f1a8b983449579f891532747a0f82": {
      "model_module": "@jupyter-widgets/base",
      "model_module_version": "1.2.0",
      "model_name": "LayoutModel",
      "state": {}
     },
     "356e16fd688945478f6fb98da2f8785f": {
      "model_module": "@jupyter-widgets/controls",
      "model_module_version": "1.5.0",
      "model_name": "HBoxModel",
      "state": {
       "children": [
        "IPY_MODEL_387cbf6c78cb45528d2a64e841c5c6a8",
        "IPY_MODEL_5e657bc917254762b9103d33c8f50496",
        "IPY_MODEL_480942e0a13246639e22cb8b04b66604"
       ],
       "layout": "IPY_MODEL_5a543f9c94f7458bab03942735301ec1"
      }
     },
     "3603a822979a469191874aa995779496": {
      "model_module": "@jupyter-widgets/base",
      "model_module_version": "1.2.0",
      "model_name": "LayoutModel",
      "state": {}
     },
     "366c94eb68fa476e8f105c90b1fafdbe": {
      "model_module": "@jupyter-widgets/controls",
      "model_module_version": "1.5.0",
      "model_name": "HBoxModel",
      "state": {
       "children": [
        "IPY_MODEL_018a47f7b976446d882572abf0b014f5",
        "IPY_MODEL_7abd5213509b4b1189b2009a22498368",
        "IPY_MODEL_d733f136bd4240ceaba62be95dd82355"
       ],
       "layout": "IPY_MODEL_1323f1334f3e4203b84e08dd0c0b7b2b"
      }
     },
     "387cbf6c78cb45528d2a64e841c5c6a8": {
      "model_module": "@jupyter-widgets/controls",
      "model_module_version": "1.5.0",
      "model_name": "HTMLModel",
      "state": {
       "layout": "IPY_MODEL_ea88710905ce444faa7c31e8f1d7534f",
       "style": "IPY_MODEL_74d9cf0585534b02b6599f3c1eef5701",
       "value": "Epoch 1: 100%"
      }
     },
     "3b3c498c3b14406ca7cf60b8c0f5fadf": {
      "model_module": "@jupyter-widgets/base",
      "model_module_version": "1.2.0",
      "model_name": "LayoutModel",
      "state": {}
     },
     "3b84ac8391ef4a2f82d642ad0a95d338": {
      "model_module": "@jupyter-widgets/controls",
      "model_module_version": "1.5.0",
      "model_name": "ProgressStyleModel",
      "state": {
       "description_width": ""
      }
     },
     "3c742943c2a54ec8bc4bde5388be84e8": {
      "model_module": "@jupyter-widgets/controls",
      "model_module_version": "1.5.0",
      "model_name": "FloatProgressModel",
      "state": {
       "bar_style": "success",
       "layout": "IPY_MODEL_cc63f3cb99664d258332d74296378dc7",
       "max": 624,
       "style": "IPY_MODEL_e9fa882ff56f4431a0b4003511143ed4",
       "value": 624
      }
     },
     "3c9b53d1c8434ed08d57bce3bca4e378": {
      "model_module": "@jupyter-widgets/base",
      "model_module_version": "1.2.0",
      "model_name": "LayoutModel",
      "state": {}
     },
     "4023f1e8f18e4178b9a2e80cc5170362": {
      "model_module": "@jupyter-widgets/controls",
      "model_module_version": "1.5.0",
      "model_name": "DescriptionStyleModel",
      "state": {
       "description_width": ""
      }
     },
     "4083be6aa0be450eacd599ad368b41c0": {
      "model_module": "@jupyter-widgets/base",
      "model_module_version": "1.2.0",
      "model_name": "LayoutModel",
      "state": {}
     },
     "4152e623a938466a92259e3e122f3442": {
      "model_module": "@jupyter-widgets/controls",
      "model_module_version": "1.5.0",
      "model_name": "FloatProgressModel",
      "state": {
       "bar_style": "success",
       "layout": "IPY_MODEL_04c05ba2c4974450b106a6fd8fd2fffa",
       "max": 624,
       "style": "IPY_MODEL_3b84ac8391ef4a2f82d642ad0a95d338",
       "value": 624
      }
     },
     "41a59a7599104fe1ba1646f69cef0ad1": {
      "model_module": "@jupyter-widgets/base",
      "model_module_version": "1.2.0",
      "model_name": "LayoutModel",
      "state": {}
     },
     "42044d18707f4a348d1e0a196fe1b846": {
      "model_module": "@jupyter-widgets/base",
      "model_module_version": "1.2.0",
      "model_name": "LayoutModel",
      "state": {}
     },
     "447f5b03b67c4fcc83e3efe18160b321": {
      "model_module": "@jupyter-widgets/controls",
      "model_module_version": "1.5.0",
      "model_name": "ProgressStyleModel",
      "state": {
       "description_width": ""
      }
     },
     "448136434c754a758f810950ff7589f6": {
      "model_module": "@jupyter-widgets/controls",
      "model_module_version": "1.5.0",
      "model_name": "FloatProgressModel",
      "state": {
       "bar_style": "success",
       "layout": "IPY_MODEL_ad06af76c75049d081eb686ac7819606",
       "max": 624,
       "style": "IPY_MODEL_b0d0f62ad43f443aa1b501e19a8b84f0",
       "value": 624
      }
     },
     "450f7a3011e141e7be5ec1cfe0455a41": {
      "model_module": "@jupyter-widgets/base",
      "model_module_version": "1.2.0",
      "model_name": "LayoutModel",
      "state": {}
     },
     "451f7951931941f6a08ba55ed98b9d6e": {
      "model_module": "@jupyter-widgets/base",
      "model_module_version": "1.2.0",
      "model_name": "LayoutModel",
      "state": {}
     },
     "4592b17662e84a18be48394afae33be4": {
      "model_module": "@jupyter-widgets/base",
      "model_module_version": "1.2.0",
      "model_name": "LayoutModel",
      "state": {}
     },
     "4694dbcf1bcd45ab8a0ccc8942cf27ae": {
      "model_module": "@jupyter-widgets/base",
      "model_module_version": "1.2.0",
      "model_name": "LayoutModel",
      "state": {}
     },
     "4726000d0c754c5888923307dd5139bd": {
      "model_module": "@jupyter-widgets/controls",
      "model_module_version": "1.5.0",
      "model_name": "HBoxModel",
      "state": {
       "children": [
        "IPY_MODEL_c7ce7f1ff9874546a03ebdf7dd009f4d",
        "IPY_MODEL_275a7d128a224534ad4f5c8367ca4d01",
        "IPY_MODEL_51dbde323aaa4a30823ead8bf72251dd"
       ],
       "layout": "IPY_MODEL_a68ff4fb7def418b89a9bd195b182a9b"
      }
     },
     "47416542a6d04f7cb342f863b79fd9ec": {
      "model_module": "@jupyter-widgets/controls",
      "model_module_version": "1.5.0",
      "model_name": "FloatProgressModel",
      "state": {
       "bar_style": "success",
       "layout": "IPY_MODEL_7366f0ab09f74b639064f5830a16c350",
       "max": 624,
       "style": "IPY_MODEL_a9418e20d66740358b4762dd57da38ab",
       "value": 624
      }
     },
     "480942e0a13246639e22cb8b04b66604": {
      "model_module": "@jupyter-widgets/controls",
      "model_module_version": "1.5.0",
      "model_name": "HTMLModel",
      "state": {
       "layout": "IPY_MODEL_1705744ea9794eac9c94794d8ce2c0c2",
       "style": "IPY_MODEL_220e635854db4d84bb94c012e6c065c1",
       "value": " 624/624 [04:38&lt;00:00, 50.05 batchs/s, train_acc=0.964, train_f1=0.246, train_loss=0.136, train_precision=0.508, train_recall=0.163, val_acc=0.971, val_f1=0.467, val_loss=0.083, val_precision=0.740, val_recall=0.341]"
      }
     },
     "486de52edfb4409cb6d2db436c0a037b": {
      "model_module": "@jupyter-widgets/controls",
      "model_module_version": "1.5.0",
      "model_name": "HTMLModel",
      "state": {
       "layout": "IPY_MODEL_729a0a7ad53645c9878b8e354b4e08c5",
       "style": "IPY_MODEL_79608c2f3b674f2a934ca4b605880ccd",
       "value": " 624/624 [01:08&lt;00:00,  2.93s/ batchs, train_acc=0.977, train_f1=0.586, train_loss=0.063, train_precision=0.832, train_recall=0.452, val_acc=0.981, val_f1=0.694, val_loss=0.048, val_precision=0.874, val_recall=0.575]"
      }
     },
     "4e52c4870c7c42c2a44888456e2569dd": {
      "model_module": "@jupyter-widgets/controls",
      "model_module_version": "1.5.0",
      "model_name": "FloatProgressModel",
      "state": {
       "bar_style": "success",
       "layout": "IPY_MODEL_a3a39a1c58514f808497a41bb7d674e9",
       "max": 624,
       "style": "IPY_MODEL_8be84384bd8848d1b5fbd4b8d3c04987",
       "value": 624
      }
     },
     "4f05016f18b74cd685e34bbfb5ca237a": {
      "model_module": "@jupyter-widgets/controls",
      "model_module_version": "1.5.0",
      "model_name": "HBoxModel",
      "state": {
       "children": [
        "IPY_MODEL_29ac28b4e6a745ea89d0d78c4b01b8e3",
        "IPY_MODEL_10c735f7191d444392ae1e03502abb7e",
        "IPY_MODEL_c5f7484e716146be938adb6a17d58df8"
       ],
       "layout": "IPY_MODEL_1aed5a71d209437391681f412f8dd6aa"
      }
     },
     "51dbde323aaa4a30823ead8bf72251dd": {
      "model_module": "@jupyter-widgets/controls",
      "model_module_version": "1.5.0",
      "model_name": "HTMLModel",
      "state": {
       "layout": "IPY_MODEL_731d2d9cbcf34738aea9374bb943ff68",
       "style": "IPY_MODEL_543f84d287a84d719655086ddba7a574",
       "value": " 624/624 [06:50&lt;00:00,  2.93s/ batchs, train_acc=0.972, train_f1=0.468, train_loss=0.085, train_precision=0.778, train_recall=0.335, val_acc=0.979, val_f1=0.648, val_loss=0.059, val_precision=0.834, val_recall=0.530]"
      }
     },
     "520cf31f9c6a45e3a5876c9edfe7ec65": {
      "model_module": "@jupyter-widgets/controls",
      "model_module_version": "1.5.0",
      "model_name": "FloatProgressModel",
      "state": {
       "bar_style": "success",
       "layout": "IPY_MODEL_a2a5ec6e735b4365b0f4299933475476",
       "max": 624,
       "style": "IPY_MODEL_9444d7ad5f5345579d7333be3d5a90f7",
       "value": 624
      }
     },
     "52b41d8591394b30bda5079491672ec3": {
      "model_module": "@jupyter-widgets/controls",
      "model_module_version": "1.5.0",
      "model_name": "FloatProgressModel",
      "state": {
       "bar_style": "success",
       "layout": "IPY_MODEL_450f7a3011e141e7be5ec1cfe0455a41",
       "max": 624,
       "style": "IPY_MODEL_101880e6854645d7b71a48170a74bc71",
       "value": 624
      }
     },
     "53fc2311b6514034927d8af490217c21": {
      "model_module": "@jupyter-widgets/base",
      "model_module_version": "1.2.0",
      "model_name": "LayoutModel",
      "state": {}
     },
     "543f84d287a84d719655086ddba7a574": {
      "model_module": "@jupyter-widgets/controls",
      "model_module_version": "1.5.0",
      "model_name": "DescriptionStyleModel",
      "state": {
       "description_width": ""
      }
     },
     "548a7dd3687940d4a1593b1dc264ecab": {
      "model_module": "@jupyter-widgets/controls",
      "model_module_version": "1.5.0",
      "model_name": "DescriptionStyleModel",
      "state": {
       "description_width": ""
      }
     },
     "572c734ffd6f4a54976928e8fa56a8da": {
      "model_module": "@jupyter-widgets/controls",
      "model_module_version": "1.5.0",
      "model_name": "HBoxModel",
      "state": {
       "children": [
        "IPY_MODEL_807d96dac06d4d51946064dd6f5a67c8",
        "IPY_MODEL_2c946da4d5e943588aeb648b95e5bd9e",
        "IPY_MODEL_a6239b31e4fa4f67850d131b5dce2bf5"
       ],
       "layout": "IPY_MODEL_15b5422551dc408591f82651abf68da8"
      }
     },
     "57392ce90185497cb9863d12c6e0e343": {
      "model_module": "@jupyter-widgets/controls",
      "model_module_version": "1.5.0",
      "model_name": "DescriptionStyleModel",
      "state": {
       "description_width": ""
      }
     },
     "5a543f9c94f7458bab03942735301ec1": {
      "model_module": "@jupyter-widgets/base",
      "model_module_version": "1.2.0",
      "model_name": "LayoutModel",
      "state": {}
     },
     "5d7fca6fc9874a9a98e94822b4a522db": {
      "model_module": "@jupyter-widgets/controls",
      "model_module_version": "1.5.0",
      "model_name": "ProgressStyleModel",
      "state": {
       "description_width": ""
      }
     },
     "5e657bc917254762b9103d33c8f50496": {
      "model_module": "@jupyter-widgets/controls",
      "model_module_version": "1.5.0",
      "model_name": "FloatProgressModel",
      "state": {
       "bar_style": "success",
       "layout": "IPY_MODEL_bd9936b14fe3407f978d0e65b83f489e",
       "max": 624,
       "style": "IPY_MODEL_d095427560134c41885ca673780d9551",
       "value": 624
      }
     },
     "5e7c90ca96e94b309e59cd6cd0544ff2": {
      "model_module": "@jupyter-widgets/controls",
      "model_module_version": "1.5.0",
      "model_name": "DescriptionStyleModel",
      "state": {
       "description_width": ""
      }
     },
     "613bb378a0404537983b780073ddac2e": {
      "model_module": "@jupyter-widgets/controls",
      "model_module_version": "1.5.0",
      "model_name": "HTMLModel",
      "state": {
       "layout": "IPY_MODEL_0bbc75b1c8614e81bbe7c825b1b4f9a6",
       "style": "IPY_MODEL_1b7d08e0b41f42e1961c81438362766d",
       "value": "Epoch 6: 100%"
      }
     },
     "628e6ae152e74adaab29c9d0fca5c428": {
      "model_module": "@jupyter-widgets/base",
      "model_module_version": "1.2.0",
      "model_name": "LayoutModel",
      "state": {}
     },
     "640575b08293445ca882ec24ae398f26": {
      "model_module": "@jupyter-widgets/controls",
      "model_module_version": "1.5.0",
      "model_name": "HBoxModel",
      "state": {
       "children": [
        "IPY_MODEL_7c9b9186c8ec4f3e86f55410ebd8fdbd",
        "IPY_MODEL_52b41d8591394b30bda5079491672ec3",
        "IPY_MODEL_6885db66b8104a7db93add47c039b8ba"
       ],
       "layout": "IPY_MODEL_1c085ca518934763ae2b4ab039d689ca"
      }
     },
     "65a3b6af63cb4c478c9a8e1252ed8cfe": {
      "model_module": "@jupyter-widgets/base",
      "model_module_version": "1.2.0",
      "model_name": "LayoutModel",
      "state": {}
     },
     "66c2276c27eb4384b31c28b830aa40df": {
      "model_module": "@jupyter-widgets/controls",
      "model_module_version": "1.5.0",
      "model_name": "ProgressStyleModel",
      "state": {
       "description_width": ""
      }
     },
     "6732e676849640708f362cb583d683b3": {
      "model_module": "@jupyter-widgets/base",
      "model_module_version": "1.2.0",
      "model_name": "LayoutModel",
      "state": {}
     },
     "6885db66b8104a7db93add47c039b8ba": {
      "model_module": "@jupyter-widgets/controls",
      "model_module_version": "1.5.0",
      "model_name": "HTMLModel",
      "state": {
       "layout": "IPY_MODEL_a9db2bfda5b14bbbbcfaeb55e3cbe452",
       "style": "IPY_MODEL_9e719817bf8d47e2992c4f8d912a1353",
       "value": " 624/624 [11:24&lt;00:00,  2.94s/ batchs, train_acc=0.924, train_f1=0.053, train_loss=0.218, train_precision=0.049, train_recall=0.058, val_acc=0.963, val_f1=0, val_loss=0.110, val_precision=0.00e+00, val_recall=0.00e+00]"
      }
     },
     "688954f33575444e8b72dcb9aaa19da8": {
      "model_module": "@jupyter-widgets/base",
      "model_module_version": "1.2.0",
      "model_name": "LayoutModel",
      "state": {}
     },
     "6abe85d156bb4b55a0cabef30ccd3e63": {
      "model_module": "@jupyter-widgets/controls",
      "model_module_version": "1.5.0",
      "model_name": "ProgressStyleModel",
      "state": {
       "description_width": ""
      }
     },
     "6b45d74e6f654ef084f2139e83cfa751": {
      "model_module": "@jupyter-widgets/controls",
      "model_module_version": "1.5.0",
      "model_name": "ProgressStyleModel",
      "state": {
       "description_width": ""
      }
     },
     "6d2fa1070b7c4f959d17d1522f8da867": {
      "model_module": "@jupyter-widgets/base",
      "model_module_version": "1.2.0",
      "model_name": "LayoutModel",
      "state": {}
     },
     "6e55f29a73ac4b0bb5878d1c27c37bb2": {
      "model_module": "@jupyter-widgets/controls",
      "model_module_version": "1.5.0",
      "model_name": "DescriptionStyleModel",
      "state": {
       "description_width": ""
      }
     },
     "707b2eea655e4bfaa2f079bd1cb8ea57": {
      "model_module": "@jupyter-widgets/controls",
      "model_module_version": "1.5.0",
      "model_name": "FloatProgressModel",
      "state": {
       "bar_style": "success",
       "layout": "IPY_MODEL_007d88273caa424eb70dd08751843fbd",
       "max": 624,
       "style": "IPY_MODEL_5d7fca6fc9874a9a98e94822b4a522db",
       "value": 624
      }
     },
     "70d40d90982d486b96978ab630f91e37": {
      "model_module": "@jupyter-widgets/controls",
      "model_module_version": "1.5.0",
      "model_name": "DescriptionStyleModel",
      "state": {
       "description_width": ""
      }
     },
     "729a0a7ad53645c9878b8e354b4e08c5": {
      "model_module": "@jupyter-widgets/base",
      "model_module_version": "1.2.0",
      "model_name": "LayoutModel",
      "state": {}
     },
     "72cae893a1a34dbfb48a91a42633da8a": {
      "model_module": "@jupyter-widgets/controls",
      "model_module_version": "1.5.0",
      "model_name": "HBoxModel",
      "state": {
       "children": [
        "IPY_MODEL_d85830d7ea724531824d9ae2f1ceb74a",
        "IPY_MODEL_4152e623a938466a92259e3e122f3442",
        "IPY_MODEL_486de52edfb4409cb6d2db436c0a037b"
       ],
       "layout": "IPY_MODEL_3603a822979a469191874aa995779496"
      }
     },
     "72ccbfa12b2b42b3a6f2d42feca2e07c": {
      "model_module": "@jupyter-widgets/base",
      "model_module_version": "1.2.0",
      "model_name": "LayoutModel",
      "state": {}
     },
     "731c7daa56084d989207c55e48355db0": {
      "model_module": "@jupyter-widgets/controls",
      "model_module_version": "1.5.0",
      "model_name": "HTMLModel",
      "state": {
       "layout": "IPY_MODEL_ae2bb7d094ca4f84993a1825a6c4fa27",
       "style": "IPY_MODEL_db0952424c2a4643aec7e85377bba288",
       "value": "Epoch 3: 100%"
      }
     },
     "731d2d9cbcf34738aea9374bb943ff68": {
      "model_module": "@jupyter-widgets/base",
      "model_module_version": "1.2.0",
      "model_name": "LayoutModel",
      "state": {}
     },
     "7366f0ab09f74b639064f5830a16c350": {
      "model_module": "@jupyter-widgets/base",
      "model_module_version": "1.2.0",
      "model_name": "LayoutModel",
      "state": {}
     },
     "74d9cf0585534b02b6599f3c1eef5701": {
      "model_module": "@jupyter-widgets/controls",
      "model_module_version": "1.5.0",
      "model_name": "DescriptionStyleModel",
      "state": {
       "description_width": ""
      }
     },
     "77039f156c2b479aa44ebd9312958dfd": {
      "model_module": "@jupyter-widgets/base",
      "model_module_version": "1.2.0",
      "model_name": "LayoutModel",
      "state": {}
     },
     "770daa3158bf49d78cf8c5a09375088c": {
      "model_module": "@jupyter-widgets/controls",
      "model_module_version": "1.5.0",
      "model_name": "DescriptionStyleModel",
      "state": {
       "description_width": ""
      }
     },
     "7719321a09dc4ae59336f28a17e03578": {
      "model_module": "@jupyter-widgets/base",
      "model_module_version": "1.2.0",
      "model_name": "LayoutModel",
      "state": {}
     },
     "7918332daf744768b7285fed55259c9a": {
      "model_module": "@jupyter-widgets/controls",
      "model_module_version": "1.5.0",
      "model_name": "DescriptionStyleModel",
      "state": {
       "description_width": ""
      }
     },
     "79608c2f3b674f2a934ca4b605880ccd": {
      "model_module": "@jupyter-widgets/controls",
      "model_module_version": "1.5.0",
      "model_name": "DescriptionStyleModel",
      "state": {
       "description_width": ""
      }
     },
     "7abd5213509b4b1189b2009a22498368": {
      "model_module": "@jupyter-widgets/controls",
      "model_module_version": "1.5.0",
      "model_name": "FloatProgressModel",
      "state": {
       "bar_style": "success",
       "layout": "IPY_MODEL_688954f33575444e8b72dcb9aaa19da8",
       "max": 10,
       "style": "IPY_MODEL_6abe85d156bb4b55a0cabef30ccd3e63",
       "value": 10
      }
     },
     "7b210656458942e9a7dd5e61fa364602": {
      "model_module": "@jupyter-widgets/controls",
      "model_module_version": "1.5.0",
      "model_name": "HTMLModel",
      "state": {
       "layout": "IPY_MODEL_9dec47912f5b4e24893c765791bf8e9a",
       "style": "IPY_MODEL_edcc1fab22c4419fbe11517eed717305",
       "value": " 624/624 [09:06&lt;00:00,  3.50s/ batchs, train_acc=0.967, train_f1=0.258, train_loss=0.108, train_precision=0.725, train_recall=0.157, val_acc=0.975, val_f1=0.517, val_loss=0.074, val_precision=0.877, val_recall=0.367]"
      }
     },
     "7c9b9186c8ec4f3e86f55410ebd8fdbd": {
      "model_module": "@jupyter-widgets/controls",
      "model_module_version": "1.5.0",
      "model_name": "HTMLModel",
      "state": {
       "layout": "IPY_MODEL_fb81cbb7dd8b4e45af60afe02bacfd25",
       "style": "IPY_MODEL_e9f21b6233b1421ab53b79d4e67db119",
       "value": "Epoch 1: 100%"
      }
     },
     "7d9f5647753d41f3b7bf132482479aed": {
      "model_module": "@jupyter-widgets/base",
      "model_module_version": "1.2.0",
      "model_name": "LayoutModel",
      "state": {}
     },
     "7ec469a53b0d450c90dcf057c9a30948": {
      "model_module": "@jupyter-widgets/controls",
      "model_module_version": "1.5.0",
      "model_name": "DescriptionStyleModel",
      "state": {
       "description_width": ""
      }
     },
     "7f99525d92544126b6e638563b7f0ccf": {
      "model_module": "@jupyter-widgets/controls",
      "model_module_version": "1.5.0",
      "model_name": "HBoxModel",
      "state": {
       "children": [
        "IPY_MODEL_cda6a5c6e3734c96a72a3041ee69126a",
        "IPY_MODEL_e308b9e8cd4143d089c112f337ea6b20",
        "IPY_MODEL_90ee83fb26eb4d82a33f60b2fb880a4e"
       ],
       "layout": "IPY_MODEL_1bb901aca1ad4c9c9b07cded76a1f6bc"
      }
     },
     "7fe582553d3046cbb6e7cefceb1f27ca": {
      "model_module": "@jupyter-widgets/base",
      "model_module_version": "1.2.0",
      "model_name": "LayoutModel",
      "state": {}
     },
     "807d96dac06d4d51946064dd6f5a67c8": {
      "model_module": "@jupyter-widgets/controls",
      "model_module_version": "1.5.0",
      "model_name": "HTMLModel",
      "state": {
       "layout": "IPY_MODEL_28881da573e2471b9cd7e9b7448252a6",
       "style": "IPY_MODEL_08c96e2f31e84d32a0334bed04698b45",
       "value": "Epoch 2: 100%"
      }
     },
     "81d0a63cb50a4e8382cc88dbe3d684be": {
      "model_module": "@jupyter-widgets/base",
      "model_module_version": "1.2.0",
      "model_name": "LayoutModel",
      "state": {}
     },
     "83c4def3231d4e86ba20c1c40eaee3c1": {
      "model_module": "@jupyter-widgets/base",
      "model_module_version": "1.2.0",
      "model_name": "LayoutModel",
      "state": {}
     },
     "8b99c851fe8d459789d771376470f7b0": {
      "model_module": "@jupyter-widgets/controls",
      "model_module_version": "1.5.0",
      "model_name": "DescriptionStyleModel",
      "state": {
       "description_width": ""
      }
     },
     "8be84384bd8848d1b5fbd4b8d3c04987": {
      "model_module": "@jupyter-widgets/controls",
      "model_module_version": "1.5.0",
      "model_name": "ProgressStyleModel",
      "state": {
       "description_width": ""
      }
     },
     "8c5c2a1fbc464494932eaf28112a9131": {
      "model_module": "@jupyter-widgets/controls",
      "model_module_version": "1.5.0",
      "model_name": "HTMLModel",
      "state": {
       "layout": "IPY_MODEL_81d0a63cb50a4e8382cc88dbe3d684be",
       "style": "IPY_MODEL_5e7c90ca96e94b309e59cd6cd0544ff2",
       "value": "Epoch 2: 100%"
      }
     },
     "8da2f0a0793f45d4863fb88a50ab42eb": {
      "model_module": "@jupyter-widgets/controls",
      "model_module_version": "1.5.0",
      "model_name": "HTMLModel",
      "state": {
       "layout": "IPY_MODEL_4083be6aa0be450eacd599ad368b41c0",
       "style": "IPY_MODEL_32a1f8ff1aa745cfb6aad880933177b5",
       "value": "Epoch 9: 100%"
      }
     },
     "8dd2b10c809c4baa95211a0f2efe2d3a": {
      "model_module": "@jupyter-widgets/base",
      "model_module_version": "1.2.0",
      "model_name": "LayoutModel",
      "state": {}
     },
     "8e592c3cd73e47a99afc068c745c0e21": {
      "model_module": "@jupyter-widgets/controls",
      "model_module_version": "1.5.0",
      "model_name": "HTMLModel",
      "state": {
       "layout": "IPY_MODEL_db3b8dc9e4404a3e9b6b222615c9d12b",
       "style": "IPY_MODEL_70d40d90982d486b96978ab630f91e37",
       "value": "Epoch 10: 100%"
      }
     },
     "908b9ca2f7d442c7b63d474beb75de1e": {
      "model_module": "@jupyter-widgets/controls",
      "model_module_version": "1.5.0",
      "model_name": "FloatProgressModel",
      "state": {
       "bar_style": "success",
       "layout": "IPY_MODEL_fcb4e5ae19a444238302e4a663b131dc",
       "max": 624,
       "style": "IPY_MODEL_104e817ebac84bb780ac5e29389ded05",
       "value": 624
      }
     },
     "90ab802ec1864896b2a557a00e3ef1cf": {
      "model_module": "@jupyter-widgets/base",
      "model_module_version": "1.2.0",
      "model_name": "LayoutModel",
      "state": {}
     },
     "90ee83fb26eb4d82a33f60b2fb880a4e": {
      "model_module": "@jupyter-widgets/controls",
      "model_module_version": "1.5.0",
      "model_name": "HTMLModel",
      "state": {
       "layout": "IPY_MODEL_c44cb93ab10540ecb84e7aa7b441f013",
       "style": "IPY_MODEL_26337e1eba5e437894694a8e4f89b5f1",
       "value": " 624/624 [01:22&lt;00:00, 19.52 batchs/s, train_acc=0.984, train_f1=0.748, train_loss=0.046, train_precision=0.876, train_recall=0.653, val_acc=0.985, val_f1=0.769, val_loss=0.042, val_precision=0.890, val_recall=0.677]"
      }
     },
     "91e1a1efcac44fa78d8d552486d29b3d": {
      "model_module": "@jupyter-widgets/controls",
      "model_module_version": "1.5.0",
      "model_name": "ProgressStyleModel",
      "state": {
       "description_width": ""
      }
     },
     "93b7b972b2d94154b94df09237d26fc6": {
      "model_module": "@jupyter-widgets/controls",
      "model_module_version": "1.5.0",
      "model_name": "FloatProgressModel",
      "state": {
       "bar_style": "success",
       "layout": "IPY_MODEL_4694dbcf1bcd45ab8a0ccc8942cf27ae",
       "max": 10,
       "style": "IPY_MODEL_e3c4bd5df7a7466ab72a0a5a3d4a5140",
       "value": 10
      }
     },
     "9444d7ad5f5345579d7333be3d5a90f7": {
      "model_module": "@jupyter-widgets/controls",
      "model_module_version": "1.5.0",
      "model_name": "ProgressStyleModel",
      "state": {
       "description_width": ""
      }
     },
     "966446284358452a878aa6f6c2c60ea0": {
      "model_module": "@jupyter-widgets/base",
      "model_module_version": "1.2.0",
      "model_name": "LayoutModel",
      "state": {}
     },
     "99d1f0571307428781547dc587ec162c": {
      "model_module": "@jupyter-widgets/base",
      "model_module_version": "1.2.0",
      "model_name": "LayoutModel",
      "state": {}
     },
     "9a05d5ccecae48fd9e5cbe388abe333e": {
      "model_module": "@jupyter-widgets/base",
      "model_module_version": "1.2.0",
      "model_name": "LayoutModel",
      "state": {}
     },
     "9b845c0185254d838dea80a85db9abe3": {
      "model_module": "@jupyter-widgets/base",
      "model_module_version": "1.2.0",
      "model_name": "LayoutModel",
      "state": {}
     },
     "9dec47912f5b4e24893c765791bf8e9a": {
      "model_module": "@jupyter-widgets/base",
      "model_module_version": "1.2.0",
      "model_name": "LayoutModel",
      "state": {}
     },
     "9e719817bf8d47e2992c4f8d912a1353": {
      "model_module": "@jupyter-widgets/controls",
      "model_module_version": "1.5.0",
      "model_name": "DescriptionStyleModel",
      "state": {
       "description_width": ""
      }
     },
     "9eb41684a1a74a97913238468fc8ad29": {
      "model_module": "@jupyter-widgets/base",
      "model_module_version": "1.2.0",
      "model_name": "LayoutModel",
      "state": {}
     },
     "a04afa833ec14a9f87bbe8e6acc076f4": {
      "model_module": "@jupyter-widgets/controls",
      "model_module_version": "1.5.0",
      "model_name": "FloatProgressModel",
      "state": {
       "bar_style": "success",
       "layout": "IPY_MODEL_f547d18a275645a999a39507b5eb7ad7",
       "max": 624,
       "style": "IPY_MODEL_b04025b38ddc48b68c8fea99731e4b15",
       "value": 624
      }
     },
     "a0b39636721e4b758859870ce73155c2": {
      "model_module": "@jupyter-widgets/base",
      "model_module_version": "1.2.0",
      "model_name": "LayoutModel",
      "state": {}
     },
     "a2a5ec6e735b4365b0f4299933475476": {
      "model_module": "@jupyter-widgets/base",
      "model_module_version": "1.2.0",
      "model_name": "LayoutModel",
      "state": {}
     },
     "a3a39a1c58514f808497a41bb7d674e9": {
      "model_module": "@jupyter-widgets/base",
      "model_module_version": "1.2.0",
      "model_name": "LayoutModel",
      "state": {}
     },
     "a434bc98989c465a86a35bff013dbf24": {
      "model_module": "@jupyter-widgets/controls",
      "model_module_version": "1.5.0",
      "model_name": "HTMLModel",
      "state": {
       "layout": "IPY_MODEL_267bf92162f542b58af559de30f9c6bc",
       "style": "IPY_MODEL_b9383b4bf9fc4a99a96c3bbf3fdd9809",
       "value": "Epoch 7: 100%"
      }
     },
     "a47b7af4e4a9452d91a5162547c8f6e4": {
      "model_module": "@jupyter-widgets/controls",
      "model_module_version": "1.5.0",
      "model_name": "ProgressStyleModel",
      "state": {
       "description_width": ""
      }
     },
     "a534a7c499144738a789eb01403c1c58": {
      "model_module": "@jupyter-widgets/base",
      "model_module_version": "1.2.0",
      "model_name": "LayoutModel",
      "state": {}
     },
     "a5894d1691f54310a2185c5ece7ee76e": {
      "model_module": "@jupyter-widgets/controls",
      "model_module_version": "1.5.0",
      "model_name": "DescriptionStyleModel",
      "state": {
       "description_width": ""
      }
     },
     "a5ad2169bb1f4bc79609405d89b63abb": {
      "model_module": "@jupyter-widgets/base",
      "model_module_version": "1.2.0",
      "model_name": "LayoutModel",
      "state": {}
     },
     "a6239b31e4fa4f67850d131b5dce2bf5": {
      "model_module": "@jupyter-widgets/controls",
      "model_module_version": "1.5.0",
      "model_name": "HTMLModel",
      "state": {
       "layout": "IPY_MODEL_da8edaf442d345e1a9b5ba64b300ff34",
       "style": "IPY_MODEL_0d483938f42847078138d50b38b015b1",
       "value": " 624/624 [04:10&lt;00:00, 50.42 batchs/s, train_acc=0.973, train_f1=0.522, train_loss=0.077, train_precision=0.765, train_recall=0.396, val_acc=0.976, val_f1=0.582, val_loss=0.069, val_precision=0.802, val_recall=0.457]"
      }
     },
     "a68cc021c068480aa3287b0d111dd954": {
      "model_module": "@jupyter-widgets/controls",
      "model_module_version": "1.5.0",
      "model_name": "DescriptionStyleModel",
      "state": {
       "description_width": ""
      }
     },
     "a68ff4fb7def418b89a9bd195b182a9b": {
      "model_module": "@jupyter-widgets/base",
      "model_module_version": "1.2.0",
      "model_name": "LayoutModel",
      "state": {}
     },
     "a8c1f1fd14bc408da950fb5c90705b5c": {
      "model_module": "@jupyter-widgets/base",
      "model_module_version": "1.2.0",
      "model_name": "LayoutModel",
      "state": {}
     },
     "a8edd9edb6c74b60804f15fbf45563e8": {
      "model_module": "@jupyter-widgets/controls",
      "model_module_version": "1.5.0",
      "model_name": "DescriptionStyleModel",
      "state": {
       "description_width": ""
      }
     },
     "a8fd619c9e224372b1b4af91ce655e2e": {
      "model_module": "@jupyter-widgets/controls",
      "model_module_version": "1.5.0",
      "model_name": "HTMLModel",
      "state": {
       "layout": "IPY_MODEL_9b845c0185254d838dea80a85db9abe3",
       "style": "IPY_MODEL_a68cc021c068480aa3287b0d111dd954",
       "value": " 624/624 [05:41&lt;00:00,  2.93s/ batchs, train_acc=0.975, train_f1=0.545, train_loss=0.077, train_precision=0.794, train_recall=0.415, val_acc=0.980, val_f1=0.659, val_loss=0.056, val_precision=0.850, val_recall=0.538]"
      }
     },
     "a9418e20d66740358b4762dd57da38ab": {
      "model_module": "@jupyter-widgets/controls",
      "model_module_version": "1.5.0",
      "model_name": "ProgressStyleModel",
      "state": {
       "description_width": ""
      }
     },
     "a9db2bfda5b14bbbbcfaeb55e3cbe452": {
      "model_module": "@jupyter-widgets/base",
      "model_module_version": "1.2.0",
      "model_name": "LayoutModel",
      "state": {}
     },
     "aa35d45f499f482fb0de98e09070dfda": {
      "model_module": "@jupyter-widgets/controls",
      "model_module_version": "1.5.0",
      "model_name": "DescriptionStyleModel",
      "state": {
       "description_width": ""
      }
     },
     "ad06af76c75049d081eb686ac7819606": {
      "model_module": "@jupyter-widgets/base",
      "model_module_version": "1.2.0",
      "model_name": "LayoutModel",
      "state": {}
     },
     "ad8937010c434e729bc31bfe5f68ae7c": {
      "model_module": "@jupyter-widgets/controls",
      "model_module_version": "1.5.0",
      "model_name": "DescriptionStyleModel",
      "state": {
       "description_width": ""
      }
     },
     "ae2bb7d094ca4f84993a1825a6c4fa27": {
      "model_module": "@jupyter-widgets/base",
      "model_module_version": "1.2.0",
      "model_name": "LayoutModel",
      "state": {}
     },
     "ae81caf0ff5e46d3807f6cf1ba1933e3": {
      "model_module": "@jupyter-widgets/controls",
      "model_module_version": "1.5.0",
      "model_name": "HBoxModel",
      "state": {
       "children": [
        "IPY_MODEL_8c5c2a1fbc464494932eaf28112a9131",
        "IPY_MODEL_707b2eea655e4bfaa2f079bd1cb8ea57",
        "IPY_MODEL_2c4d49ba52bd470e8258343e39aa1227"
       ],
       "layout": "IPY_MODEL_126a0498c63e4cec9852603c56fb4ae6"
      }
     },
     "af00438a0c5f4079b3d60cc7847fadd6": {
      "model_module": "@jupyter-widgets/controls",
      "model_module_version": "1.5.0",
      "model_name": "HTMLModel",
      "state": {
       "layout": "IPY_MODEL_1e794ded089b4d6cb2a14ddb058e24e5",
       "style": "IPY_MODEL_2348472129e14ab8a542c7b716a32e11",
       "value": "Epoch 6: 100%"
      }
     },
     "af768f7db822446aae92c73266148461": {
      "model_module": "@jupyter-widgets/controls",
      "model_module_version": "1.5.0",
      "model_name": "HTMLModel",
      "state": {
       "layout": "IPY_MODEL_32d724a091d548a88961979435b98143",
       "style": "IPY_MODEL_ad8937010c434e729bc31bfe5f68ae7c",
       "value": " 10/10 [11:24&lt;00:00, 68.39s/epoch]"
      }
     },
     "afa121a67c904050a1f640174e288501": {
      "model_module": "@jupyter-widgets/base",
      "model_module_version": "1.2.0",
      "model_name": "LayoutModel",
      "state": {}
     },
     "afc322473a064b22bd345d4b51dbaef5": {
      "model_module": "@jupyter-widgets/base",
      "model_module_version": "1.2.0",
      "model_name": "LayoutModel",
      "state": {}
     },
     "b006751428104eeeb7ebf2b43c23dce9": {
      "model_module": "@jupyter-widgets/controls",
      "model_module_version": "1.5.0",
      "model_name": "DescriptionStyleModel",
      "state": {
       "description_width": ""
      }
     },
     "b04025b38ddc48b68c8fea99731e4b15": {
      "model_module": "@jupyter-widgets/controls",
      "model_module_version": "1.5.0",
      "model_name": "ProgressStyleModel",
      "state": {
       "description_width": ""
      }
     },
     "b0d0f62ad43f443aa1b501e19a8b84f0": {
      "model_module": "@jupyter-widgets/controls",
      "model_module_version": "1.5.0",
      "model_name": "ProgressStyleModel",
      "state": {
       "description_width": ""
      }
     },
     "b1686c5892f640a58af8a8d57a5abcb7": {
      "model_module": "@jupyter-widgets/base",
      "model_module_version": "1.2.0",
      "model_name": "LayoutModel",
      "state": {}
     },
     "b30bebc275eb4076aa07564ffaff82a6": {
      "model_module": "@jupyter-widgets/controls",
      "model_module_version": "1.5.0",
      "model_name": "FloatProgressModel",
      "state": {
       "bar_style": "success",
       "layout": "IPY_MODEL_a0b39636721e4b758859870ce73155c2",
       "max": 624,
       "style": "IPY_MODEL_d45c75cfc58b4cd7825ac0f4b01ebd4c",
       "value": 624
      }
     },
     "b9383b4bf9fc4a99a96c3bbf3fdd9809": {
      "model_module": "@jupyter-widgets/controls",
      "model_module_version": "1.5.0",
      "model_name": "DescriptionStyleModel",
      "state": {
       "description_width": ""
      }
     },
     "b9c23f5f96c744b4a0dda5856ee9acdb": {
      "model_module": "@jupyter-widgets/controls",
      "model_module_version": "1.5.0",
      "model_name": "HTMLModel",
      "state": {
       "layout": "IPY_MODEL_1c52f59f91b74a7188817c22c84c28cb",
       "style": "IPY_MODEL_6e55f29a73ac4b0bb5878d1c27c37bb2",
       "value": " 624/624 [00:27&lt;00:00,  1.92 batchs/s, train_acc=0.986, train_f1=0.779, train_loss=0.041, train_precision=0.890, train_recall=0.693, val_acc=0.987, val_f1=0.798, val_loss=0.038, val_precision=0.907, val_recall=0.712]"
      }
     },
     "bba6a6136fc842399c357b96ac8ede21": {
      "model_module": "@jupyter-widgets/controls",
      "model_module_version": "1.5.0",
      "model_name": "HBoxModel",
      "state": {
       "children": [
        "IPY_MODEL_a434bc98989c465a86a35bff013dbf24",
        "IPY_MODEL_cb9e9520074049db9d9ac0d4c092c8b3",
        "IPY_MODEL_c7fe2f70faf74586a3427680be62dc69"
       ],
       "layout": "IPY_MODEL_8dd2b10c809c4baa95211a0f2efe2d3a"
      }
     },
     "bd14289f8bd24760a0fc4bbf05587a10": {
      "model_module": "@jupyter-widgets/controls",
      "model_module_version": "1.5.0",
      "model_name": "DescriptionStyleModel",
      "state": {
       "description_width": ""
      }
     },
     "bd9936b14fe3407f978d0e65b83f489e": {
      "model_module": "@jupyter-widgets/base",
      "model_module_version": "1.2.0",
      "model_name": "LayoutModel",
      "state": {}
     },
     "bea040cb48914ea0b9014e871a61327a": {
      "model_module": "@jupyter-widgets/base",
      "model_module_version": "1.2.0",
      "model_name": "LayoutModel",
      "state": {}
     },
     "c130dc516e06400da174ab5b4d845f3f": {
      "model_module": "@jupyter-widgets/controls",
      "model_module_version": "1.5.0",
      "model_name": "HBoxModel",
      "state": {
       "children": [
        "IPY_MODEL_613bb378a0404537983b780073ddac2e",
        "IPY_MODEL_47416542a6d04f7cb342f863b79fd9ec",
        "IPY_MODEL_a8fd619c9e224372b1b4af91ce655e2e"
       ],
       "layout": "IPY_MODEL_f6b858c9114f4ca49cc1a4fddb997943"
      }
     },
     "c1a075a567704cb994ab905ac4be1be9": {
      "model_module": "@jupyter-widgets/base",
      "model_module_version": "1.2.0",
      "model_name": "LayoutModel",
      "state": {}
     },
     "c33505f4efa44daab567052fa3853671": {
      "model_module": "@jupyter-widgets/controls",
      "model_module_version": "1.5.0",
      "model_name": "FloatProgressModel",
      "state": {
       "bar_style": "success",
       "layout": "IPY_MODEL_f37711b9dee34505a0e04e56f718f812",
       "max": 624,
       "style": "IPY_MODEL_6b45d74e6f654ef084f2139e83cfa751",
       "value": 624
      }
     },
     "c35b50bd0d1746c1a5701ca89c847d9a": {
      "model_module": "@jupyter-widgets/controls",
      "model_module_version": "1.5.0",
      "model_name": "HBoxModel",
      "state": {
       "children": [
        "IPY_MODEL_264f9b385ec745cfb108ad1315114384",
        "IPY_MODEL_448136434c754a758f810950ff7589f6",
        "IPY_MODEL_c7fef2e9ec794c5cbd0bfd872c06deb5"
       ],
       "layout": "IPY_MODEL_d66d40e627a84a148a4b2862fdf65b77"
      }
     },
     "c44cb93ab10540ecb84e7aa7b441f013": {
      "model_module": "@jupyter-widgets/base",
      "model_module_version": "1.2.0",
      "model_name": "LayoutModel",
      "state": {}
     },
     "c5f7484e716146be938adb6a17d58df8": {
      "model_module": "@jupyter-widgets/controls",
      "model_module_version": "1.5.0",
      "model_name": "HTMLModel",
      "state": {
       "layout": "IPY_MODEL_77039f156c2b479aa44ebd9312958dfd",
       "style": "IPY_MODEL_8b99c851fe8d459789d771376470f7b0",
       "value": " 624/624 [02:16&lt;00:00,  3.45s/ batchs, train_acc=0.976, train_f1=0.578, train_loss=0.066, train_precision=0.829, train_recall=0.443, val_acc=0.981, val_f1=0.684, val_loss=0.050, val_precision=0.873, val_recall=0.562]"
      }
     },
     "c716dab371584a6cb9ea5f5b6b47ba12": {
      "model_module": "@jupyter-widgets/controls",
      "model_module_version": "1.5.0",
      "model_name": "HTMLModel",
      "state": {
       "layout": "IPY_MODEL_65a3b6af63cb4c478c9a8e1252ed8cfe",
       "style": "IPY_MODEL_dbb99d3c847e440f930dd8ad7e6fbc48",
       "value": " 624/624 [04:33&lt;00:00,  3.44s/ batchs, train_acc=0.975, train_f1=0.560, train_loss=0.072, train_precision=0.813, train_recall=0.427, val_acc=0.980, val_f1=0.678, val_loss=0.053, val_precision=0.848, val_recall=0.565]"
      }
     },
     "c7ce7f1ff9874546a03ebdf7dd009f4d": {
      "model_module": "@jupyter-widgets/controls",
      "model_module_version": "1.5.0",
      "model_name": "HTMLModel",
      "state": {
       "layout": "IPY_MODEL_02ffd552933f4c65904fc194c266c1fb",
       "style": "IPY_MODEL_a8edd9edb6c74b60804f15fbf45563e8",
       "value": "Epoch 5: 100%"
      }
     },
     "c7fe2f70faf74586a3427680be62dc69": {
      "model_module": "@jupyter-widgets/controls",
      "model_module_version": "1.5.0",
      "model_name": "HTMLModel",
      "state": {
       "layout": "IPY_MODEL_ffe66da767ce4dd7893140a249875abf",
       "style": "IPY_MODEL_bd14289f8bd24760a0fc4bbf05587a10",
       "value": " 624/624 [01:50&lt;00:00, 52.30 batchs/s, train_acc=0.983, train_f1=0.731, train_loss=0.048, train_precision=0.868, train_recall=0.631, val_acc=0.984, val_f1=0.750, val_loss=0.045, val_precision=0.885, val_recall=0.651]"
      }
     },
     "c7fef2e9ec794c5cbd0bfd872c06deb5": {
      "model_module": "@jupyter-widgets/controls",
      "model_module_version": "1.5.0",
      "model_name": "HTMLModel",
      "state": {
       "layout": "IPY_MODEL_41a59a7599104fe1ba1646f69cef0ad1",
       "style": "IPY_MODEL_aa35d45f499f482fb0de98e09070dfda",
       "value": " 624/624 [07:58&lt;00:00,  3.44s/ batchs, train_acc=0.970, train_f1=0.389, train_loss=0.093, train_precision=0.750, train_recall=0.263, val_acc=0.977, val_f1=0.564, val_loss=0.067, val_precision=0.883, val_recall=0.415]"
      }
     },
     "c99fa86e19c7427a841c8e936c84c34c": {
      "model_module": "@jupyter-widgets/base",
      "model_module_version": "1.2.0",
      "model_name": "LayoutModel",
      "state": {}
     },
     "c9f873ffefa9477e9dd0c65ff3c24d20": {
      "model_module": "@jupyter-widgets/controls",
      "model_module_version": "1.5.0",
      "model_name": "DescriptionStyleModel",
      "state": {
       "description_width": ""
      }
     },
     "cb9e9520074049db9d9ac0d4c092c8b3": {
      "model_module": "@jupyter-widgets/controls",
      "model_module_version": "1.5.0",
      "model_name": "FloatProgressModel",
      "state": {
       "bar_style": "success",
       "layout": "IPY_MODEL_9a05d5ccecae48fd9e5cbe388abe333e",
       "max": 624,
       "style": "IPY_MODEL_447f5b03b67c4fcc83e3efe18160b321",
       "value": 624
      }
     },
     "cc63f3cb99664d258332d74296378dc7": {
      "model_module": "@jupyter-widgets/base",
      "model_module_version": "1.2.0",
      "model_name": "LayoutModel",
      "state": {}
     },
     "cd145f174bd14b59bd029f0a5dbb09b9": {
      "model_module": "@jupyter-widgets/controls",
      "model_module_version": "1.5.0",
      "model_name": "HTMLModel",
      "state": {
       "layout": "IPY_MODEL_afa121a67c904050a1f640174e288501",
       "style": "IPY_MODEL_0d4554254161415389132283f9e5b105",
       "value": "Epoch 8: 100%"
      }
     },
     "cda6a5c6e3734c96a72a3041ee69126a": {
      "model_module": "@jupyter-widgets/controls",
      "model_module_version": "1.5.0",
      "model_name": "HTMLModel",
      "state": {
       "layout": "IPY_MODEL_a5ad2169bb1f4bc79609405d89b63abb",
       "style": "IPY_MODEL_7918332daf744768b7285fed55259c9a",
       "value": "Epoch 8: 100%"
      }
     },
     "d053a787faa749fc9cca2c0999e0cf4e": {
      "model_module": "@jupyter-widgets/controls",
      "model_module_version": "1.5.0",
      "model_name": "HTMLModel",
      "state": {
       "layout": "IPY_MODEL_a534a7c499144738a789eb01403c1c58",
       "style": "IPY_MODEL_a5894d1691f54310a2185c5ece7ee76e",
       "value": "Epoch 3: 100%"
      }
     },
     "d095427560134c41885ca673780d9551": {
      "model_module": "@jupyter-widgets/controls",
      "model_module_version": "1.5.0",
      "model_name": "ProgressStyleModel",
      "state": {
       "description_width": ""
      }
     },
     "d45c75cfc58b4cd7825ac0f4b01ebd4c": {
      "model_module": "@jupyter-widgets/controls",
      "model_module_version": "1.5.0",
      "model_name": "ProgressStyleModel",
      "state": {
       "description_width": ""
      }
     },
     "d4d572b75c4f4b8bb0d18e67e6bd1325": {
      "model_module": "@jupyter-widgets/base",
      "model_module_version": "1.2.0",
      "model_name": "LayoutModel",
      "state": {}
     },
     "d66d40e627a84a148a4b2862fdf65b77": {
      "model_module": "@jupyter-widgets/base",
      "model_module_version": "1.2.0",
      "model_name": "LayoutModel",
      "state": {}
     },
     "d733f136bd4240ceaba62be95dd82355": {
      "model_module": "@jupyter-widgets/controls",
      "model_module_version": "1.5.0",
      "model_name": "HTMLModel",
      "state": {
       "layout": "IPY_MODEL_3b3c498c3b14406ca7cf60b8c0f5fadf",
       "style": "IPY_MODEL_117888dcc8ab498da24cf02210a021d1",
       "value": " 10/10 [04:38&lt;00:00, 27.69s/epoch]"
      }
     },
     "d7424d85041b4933a321c3278d78254d": {
      "model_module": "@jupyter-widgets/controls",
      "model_module_version": "1.5.0",
      "model_name": "HBoxModel",
      "state": {
       "children": [
        "IPY_MODEL_03fbc85b01764b2c8aa14d50c3975549",
        "IPY_MODEL_93b7b972b2d94154b94df09237d26fc6",
        "IPY_MODEL_af768f7db822446aae92c73266148461"
       ],
       "layout": "IPY_MODEL_1e31d1b159bf4853ab0b080cd1dea069"
      }
     },
     "d85830d7ea724531824d9ae2f1ceb74a": {
      "model_module": "@jupyter-widgets/controls",
      "model_module_version": "1.5.0",
      "model_name": "HTMLModel",
      "state": {
       "layout": "IPY_MODEL_bea040cb48914ea0b9014e871a61327a",
       "style": "IPY_MODEL_204f0dd44eb64a71a8404eeb993b81e2",
       "value": "Epoch 10: 100%"
      }
     },
     "d96212b5f13843819ad9d9bc0d54fa79": {
      "model_module": "@jupyter-widgets/controls",
      "model_module_version": "1.5.0",
      "model_name": "FloatProgressModel",
      "state": {
       "bar_style": "success",
       "layout": "IPY_MODEL_451f7951931941f6a08ba55ed98b9d6e",
       "max": 624,
       "style": "IPY_MODEL_06d4dee6086946f1905ee8e91edd15c2",
       "value": 624
      }
     },
     "da4038ba989048ea94f4340e1df21089": {
      "model_module": "@jupyter-widgets/base",
      "model_module_version": "1.2.0",
      "model_name": "LayoutModel",
      "state": {}
     },
     "da8edaf442d345e1a9b5ba64b300ff34": {
      "model_module": "@jupyter-widgets/base",
      "model_module_version": "1.2.0",
      "model_name": "LayoutModel",
      "state": {}
     },
     "da930f07091a4d13803697ae0bcfed7f": {
      "model_module": "@jupyter-widgets/controls",
      "model_module_version": "1.5.0",
      "model_name": "DescriptionStyleModel",
      "state": {
       "description_width": ""
      }
     },
     "db0952424c2a4643aec7e85377bba288": {
      "model_module": "@jupyter-widgets/controls",
      "model_module_version": "1.5.0",
      "model_name": "DescriptionStyleModel",
      "state": {
       "description_width": ""
      }
     },
     "db3b8dc9e4404a3e9b6b222615c9d12b": {
      "model_module": "@jupyter-widgets/base",
      "model_module_version": "1.2.0",
      "model_name": "LayoutModel",
      "state": {}
     },
     "dbb99d3c847e440f930dd8ad7e6fbc48": {
      "model_module": "@jupyter-widgets/controls",
      "model_module_version": "1.5.0",
      "model_name": "DescriptionStyleModel",
      "state": {
       "description_width": ""
      }
     },
     "dd17f7ab0a9248d6a98e5620d4f6ec9f": {
      "model_module": "@jupyter-widgets/controls",
      "model_module_version": "1.5.0",
      "model_name": "HTMLModel",
      "state": {
       "layout": "IPY_MODEL_da4038ba989048ea94f4340e1df21089",
       "style": "IPY_MODEL_548a7dd3687940d4a1593b1dc264ecab",
       "value": "Epoch 5: 100%"
      }
     },
     "dd2bb2460fb147159586d269160a2357": {
      "model_module": "@jupyter-widgets/controls",
      "model_module_version": "1.5.0",
      "model_name": "DescriptionStyleModel",
      "state": {
       "description_width": ""
      }
     },
     "e308b9e8cd4143d089c112f337ea6b20": {
      "model_module": "@jupyter-widgets/controls",
      "model_module_version": "1.5.0",
      "model_name": "FloatProgressModel",
      "state": {
       "bar_style": "success",
       "layout": "IPY_MODEL_d4d572b75c4f4b8bb0d18e67e6bd1325",
       "max": 624,
       "style": "IPY_MODEL_66c2276c27eb4384b31c28b830aa40df",
       "value": 624
      }
     },
     "e3c4bd5df7a7466ab72a0a5a3d4a5140": {
      "model_module": "@jupyter-widgets/controls",
      "model_module_version": "1.5.0",
      "model_name": "ProgressStyleModel",
      "state": {
       "description_width": ""
      }
     },
     "e612b12223f04f588e60172550392b27": {
      "model_module": "@jupyter-widgets/controls",
      "model_module_version": "1.5.0",
      "model_name": "DescriptionStyleModel",
      "state": {
       "description_width": ""
      }
     },
     "e688f7ebd7a64449a619dfa71ab7a73c": {
      "model_module": "@jupyter-widgets/controls",
      "model_module_version": "1.5.0",
      "model_name": "HBoxModel",
      "state": {
       "children": [
        "IPY_MODEL_dd17f7ab0a9248d6a98e5620d4f6ec9f",
        "IPY_MODEL_3c742943c2a54ec8bc4bde5388be84e8",
        "IPY_MODEL_2c960c0691af412d9126a91474222277"
       ],
       "layout": "IPY_MODEL_90ab802ec1864896b2a557a00e3ef1cf"
      }
     },
     "e949ec21ef504088aae43dfb98df6561": {
      "model_module": "@jupyter-widgets/controls",
      "model_module_version": "1.5.0",
      "model_name": "DescriptionStyleModel",
      "state": {
       "description_width": ""
      }
     },
     "e9f21b6233b1421ab53b79d4e67db119": {
      "model_module": "@jupyter-widgets/controls",
      "model_module_version": "1.5.0",
      "model_name": "DescriptionStyleModel",
      "state": {
       "description_width": ""
      }
     },
     "e9fa882ff56f4431a0b4003511143ed4": {
      "model_module": "@jupyter-widgets/controls",
      "model_module_version": "1.5.0",
      "model_name": "ProgressStyleModel",
      "state": {
       "description_width": ""
      }
     },
     "ea68c84eec9b4b6aad1e8030728ecb4b": {
      "model_module": "@jupyter-widgets/controls",
      "model_module_version": "1.5.0",
      "model_name": "HBoxModel",
      "state": {
       "children": [
        "IPY_MODEL_d053a787faa749fc9cca2c0999e0cf4e",
        "IPY_MODEL_a04afa833ec14a9f87bbe8e6acc076f4",
        "IPY_MODEL_7b210656458942e9a7dd5e61fa364602"
       ],
       "layout": "IPY_MODEL_6d2fa1070b7c4f959d17d1522f8da867"
      }
     },
     "ea88710905ce444faa7c31e8f1d7534f": {
      "model_module": "@jupyter-widgets/base",
      "model_module_version": "1.2.0",
      "model_name": "LayoutModel",
      "state": {}
     },
     "edcc1fab22c4419fbe11517eed717305": {
      "model_module": "@jupyter-widgets/controls",
      "model_module_version": "1.5.0",
      "model_name": "DescriptionStyleModel",
      "state": {
       "description_width": ""
      }
     },
     "f12fe550bc2247aaafd325fa489c6e7e": {
      "model_module": "@jupyter-widgets/controls",
      "model_module_version": "1.5.0",
      "model_name": "HBoxModel",
      "state": {
       "children": [
        "IPY_MODEL_01ce212c06eb45a28d5b9b3a589a0af2",
        "IPY_MODEL_c33505f4efa44daab567052fa3853671",
        "IPY_MODEL_f7862851a0ac408da30357704ebde67d"
       ],
       "layout": "IPY_MODEL_83c4def3231d4e86ba20c1c40eaee3c1"
      }
     },
     "f19f8bcfb7cc4a2db2785fd0370cef1f": {
      "model_module": "@jupyter-widgets/controls",
      "model_module_version": "1.5.0",
      "model_name": "HTMLModel",
      "state": {
       "layout": "IPY_MODEL_4592b17662e84a18be48394afae33be4",
       "style": "IPY_MODEL_0fbec30a61a4434d9b8453cfbafe5568",
       "value": " 624/624 [03:25&lt;00:00,  2.92s/ batchs, train_acc=0.976, train_f1=0.574, train_loss=0.068, train_precision=0.819, train_recall=0.442, val_acc=0.981, val_f1=0.682, val_loss=0.053, val_precision=0.860, val_recall=0.566]"
      }
     },
     "f37711b9dee34505a0e04e56f718f812": {
      "model_module": "@jupyter-widgets/base",
      "model_module_version": "1.2.0",
      "model_name": "LayoutModel",
      "state": {}
     },
     "f547d18a275645a999a39507b5eb7ad7": {
      "model_module": "@jupyter-widgets/base",
      "model_module_version": "1.2.0",
      "model_name": "LayoutModel",
      "state": {}
     },
     "f6b858c9114f4ca49cc1a4fddb997943": {
      "model_module": "@jupyter-widgets/base",
      "model_module_version": "1.2.0",
      "model_name": "LayoutModel",
      "state": {}
     },
     "f7862851a0ac408da30357704ebde67d": {
      "model_module": "@jupyter-widgets/controls",
      "model_module_version": "1.5.0",
      "model_name": "HTMLModel",
      "state": {
       "layout": "IPY_MODEL_334f1a8b983449579f891532747a0f82",
       "style": "IPY_MODEL_4023f1e8f18e4178b9a2e80cc5170362",
       "value": " 624/624 [03:14&lt;00:00, 49.70 batchs/s, train_acc=0.979, train_f1=0.652, train_loss=0.060, train_precision=0.829, train_recall=0.538, val_acc=0.980, val_f1=0.678, val_loss=0.056, val_precision=0.854, val_recall=0.561]"
      }
     },
     "f935dc6337dd45f39eef9aa0adc854ed": {
      "model_module": "@jupyter-widgets/controls",
      "model_module_version": "1.5.0",
      "model_name": "HTMLModel",
      "state": {
       "layout": "IPY_MODEL_b1686c5892f640a58af8a8d57a5abcb7",
       "style": "IPY_MODEL_b006751428104eeeb7ebf2b43c23dce9",
       "value": "Epoch 7: 100%"
      }
     },
     "fa928e72e96d45fe828ca48fa7b60dc3": {
      "model_module": "@jupyter-widgets/base",
      "model_module_version": "1.2.0",
      "model_name": "LayoutModel",
      "state": {}
     },
     "fb81cbb7dd8b4e45af60afe02bacfd25": {
      "model_module": "@jupyter-widgets/base",
      "model_module_version": "1.2.0",
      "model_name": "LayoutModel",
      "state": {}
     },
     "fc6e400b985140e98762183a7acb6e40": {
      "model_module": "@jupyter-widgets/controls",
      "model_module_version": "1.5.0",
      "model_name": "HBoxModel",
      "state": {
       "children": [
        "IPY_MODEL_731c7daa56084d989207c55e48355db0",
        "IPY_MODEL_908b9ca2f7d442c7b63d474beb75de1e",
        "IPY_MODEL_06e33f0abd494886bf168829654e1aa4"
       ],
       "layout": "IPY_MODEL_72ccbfa12b2b42b3a6f2d42feca2e07c"
      }
     },
     "fcb4e5ae19a444238302e4a663b131dc": {
      "model_module": "@jupyter-widgets/base",
      "model_module_version": "1.2.0",
      "model_name": "LayoutModel",
      "state": {}
     },
     "ffe66da767ce4dd7893140a249875abf": {
      "model_module": "@jupyter-widgets/base",
      "model_module_version": "1.2.0",
      "model_name": "LayoutModel",
      "state": {}
     }
    },
    "version_major": 2,
    "version_minor": 0
   }
  }
 },
 "nbformat": 4,
 "nbformat_minor": 4
}
