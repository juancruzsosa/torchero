{
 "cells": [
  {
   "cell_type": "code",
   "execution_count": 1,
   "metadata": {},
   "outputs": [
    {
     "name": "stdout",
     "output_type": "stream",
     "text": [
      "dogs-vs-wolves.zip: Skipping, found more recently modified local copy (use --force to force download)\n"
     ]
    }
   ],
   "source": [
    "!kaggle datasets download -d  harishvutukuri/dogs-vs-wolves -p data"
   ]
  },
  {
   "cell_type": "code",
   "execution_count": 2,
   "metadata": {},
   "outputs": [],
   "source": [
    "!unzip -q -u data/dogs-vs-wolves.zip -d data/dogs-vs-wolves"
   ]
  },
  {
   "cell_type": "code",
   "execution_count": 3,
   "metadata": {},
   "outputs": [],
   "source": [
    "import tensorflow as tf\n",
    "import tensorboard as tb\n",
    "tf.io.gfile = tb.compat.tensorflow_stub.io.gfile # TF temporal bugfix"
   ]
  },
  {
   "cell_type": "code",
   "execution_count": 4,
   "metadata": {},
   "outputs": [],
   "source": [
    "%load_ext tensorboard"
   ]
  },
  {
   "cell_type": "markdown",
   "metadata": {},
   "source": [
    "## Imports"
   ]
  },
  {
   "cell_type": "code",
   "execution_count": 5,
   "metadata": {},
   "outputs": [],
   "source": [
    "import os\n",
    "\n",
    "# Torch #\n",
    "import torch\n",
    "\n",
    "import torchero\n",
    "from torchero.models.vision import BinaryImageClassificationModel # Training the model\n",
    "from torchero.callbacks import ProgbarLogger # Model supervising\n",
    "from torchero.callbacks.tensorboard import TensorBoardLogger # Tensorboard metrics training\n",
    "from torchero.utils.data import train_test_split\n",
    "from torchero.utils.vision import show_imagegrid_dataset, transforms, datasets\n",
    "from torchero.utils.tensorboard import SummaryWriter, write_imagegrid_dataset, write_model\n",
    "from matplotlib import pyplot as plt"
   ]
  },
  {
   "cell_type": "code",
   "execution_count": 6,
   "metadata": {},
   "outputs": [],
   "source": [
    "!rm -rf runs/"
   ]
  },
  {
   "cell_type": "code",
   "execution_count": 7,
   "metadata": {},
   "outputs": [],
   "source": [
    "train_writer = SummaryWriter('runs/Dogs vs Wolves/Train')\n",
    "val_writer = SummaryWriter('runs/Dogs vs Wolves/Test')"
   ]
  },
  {
   "cell_type": "markdown",
   "metadata": {},
   "source": [
    "## Training dataset"
   ]
  },
  {
   "cell_type": "code",
   "execution_count": 8,
   "metadata": {},
   "outputs": [],
   "source": [
    "transform = transforms.Compose([transforms.Resize((224, 224)),\n",
    "                                transforms.ToTensor()])"
   ]
  },
  {
   "cell_type": "code",
   "execution_count": 9,
   "metadata": {},
   "outputs": [],
   "source": [
    "dataset = datasets.ImageFolder(root='data/dogs-vs-wolves/data', transform=transform)"
   ]
  },
  {
   "cell_type": "code",
   "execution_count": 10,
   "metadata": {},
   "outputs": [],
   "source": [
    "train_ds, val_ds = train_test_split(dataset)"
   ]
  },
  {
   "cell_type": "code",
   "execution_count": 11,
   "metadata": {},
   "outputs": [],
   "source": [
    "write_imagegrid_dataset(train_writer, 'Dataset', train_ds)"
   ]
  },
  {
   "cell_type": "code",
   "execution_count": 12,
   "metadata": {},
   "outputs": [],
   "source": [
    "write_imagegrid_dataset(val_writer, 'Dataset', val_ds)"
   ]
  },
  {
   "cell_type": "code",
   "execution_count": 13,
   "metadata": {},
   "outputs": [
    {
     "data": {
      "text/html": [
       "\n",
       "      <iframe id=\"tensorboard-frame-1600e1a876db0099\" width=\"100%\" height=\"800\" frameborder=\"0\">\n",
       "      </iframe>\n",
       "      <script>\n",
       "        (function() {\n",
       "          const frame = document.getElementById(\"tensorboard-frame-1600e1a876db0099\");\n",
       "          const url = new URL(\"/\", window.location);\n",
       "          const port = 6006;\n",
       "          if (port) {\n",
       "            url.port = port;\n",
       "          }\n",
       "          frame.src = url;\n",
       "        })();\n",
       "      </script>\n",
       "    "
      ],
      "text/plain": [
       "<IPython.core.display.HTML object>"
      ]
     },
     "metadata": {},
     "output_type": "display_data"
    }
   ],
   "source": [
    "%tensorboard --logdir runs/"
   ]
  },
  {
   "cell_type": "markdown",
   "metadata": {},
   "source": [
    "## Define model"
   ]
  },
  {
   "cell_type": "code",
   "execution_count": 14,
   "metadata": {},
   "outputs": [],
   "source": [
    "model = BinaryImageClassificationModel.from_pretrained('resnet18', num_outputs=1, transform=transform)\n",
    "model.labels = ['is_wolf']"
   ]
  },
  {
   "cell_type": "code",
   "execution_count": 15,
   "metadata": {},
   "outputs": [
    {
     "name": "stderr",
     "output_type": "stream",
     "text": [
      "/usr/lib/python3.9/site-packages/torch/nn/functional.py:718: UserWarning: Named tensors and all their associated APIs are an experimental feature and subject to change. Please do not use them for anything important until they are released as stable. (Triggered internally at  ../c10/core/TensorImpl.h:1153.)\n",
      "  return torch.max_pool2d(input, kernel_size, stride, padding, dilation, ceil_mode)\n"
     ]
    }
   ],
   "source": [
    "write_model(train_writer, model.model, train_ds[0][0].unsqueeze(0))"
   ]
  },
  {
   "cell_type": "markdown",
   "metadata": {},
   "source": [
    "for param_group in trainer.optimizer.param_groups:\n",
    "    print(param_group[\"lr\"])"
   ]
  },
  {
   "cell_type": "markdown",
   "metadata": {},
   "source": [
    "## Train model"
   ]
  },
  {
   "cell_type": "code",
   "execution_count": 16,
   "metadata": {},
   "outputs": [],
   "source": [
    "model.compile(optimizer='adam',\n",
    "              callbacks=[ProgbarLogger(notebook=True),\n",
    "                         TensorBoardLogger(train_writer, test_writer=val_writer)]).cuda()"
   ]
  },
  {
   "cell_type": "code",
   "execution_count": 17,
   "metadata": {
    "tags": []
   },
   "outputs": [
    {
     "data": {
      "application/vnd.jupyter.widget-view+json": {
       "model_id": "0cebeff8381d442a93cf3ec81c7064f6",
       "version_major": 2,
       "version_minor": 0
      },
      "text/plain": [
       "  0%|          | 0/10 [00:00<?, ?epoch/s]"
      ]
     },
     "metadata": {},
     "output_type": "display_data"
    },
    {
     "data": {
      "application/vnd.jupyter.widget-view+json": {
       "model_id": "64138d2b912c4e8db52c81a1102b9c09",
       "version_major": 2,
       "version_minor": 0
      },
      "text/plain": [
       "  0%|          | 0/25 [00:00<?, ? batchs/s]"
      ]
     },
     "metadata": {},
     "output_type": "display_data"
    },
    {
     "data": {
      "application/vnd.jupyter.widget-view+json": {
       "model_id": "f018a4f5e1fb48c0841c0c7d23ee59be",
       "version_major": 2,
       "version_minor": 0
      },
      "text/plain": [
       "  0%|          | 0/25 [00:00<?, ? batchs/s]"
      ]
     },
     "metadata": {},
     "output_type": "display_data"
    },
    {
     "data": {
      "application/vnd.jupyter.widget-view+json": {
       "model_id": "c739b5e5d42d4029860f21b254fd690e",
       "version_major": 2,
       "version_minor": 0
      },
      "text/plain": [
       "  0%|          | 0/25 [00:00<?, ? batchs/s]"
      ]
     },
     "metadata": {},
     "output_type": "display_data"
    },
    {
     "data": {
      "application/vnd.jupyter.widget-view+json": {
       "model_id": "73f07be6d14a498489b5c787dd60eb33",
       "version_major": 2,
       "version_minor": 0
      },
      "text/plain": [
       "  0%|          | 0/25 [00:00<?, ? batchs/s]"
      ]
     },
     "metadata": {},
     "output_type": "display_data"
    },
    {
     "data": {
      "application/vnd.jupyter.widget-view+json": {
       "model_id": "c84e612daa26441da9e04e21a5dfac41",
       "version_major": 2,
       "version_minor": 0
      },
      "text/plain": [
       "  0%|          | 0/25 [00:00<?, ? batchs/s]"
      ]
     },
     "metadata": {},
     "output_type": "display_data"
    },
    {
     "data": {
      "application/vnd.jupyter.widget-view+json": {
       "model_id": "a68beb36a7d14cf0811d25a0c59a497d",
       "version_major": 2,
       "version_minor": 0
      },
      "text/plain": [
       "  0%|          | 0/25 [00:00<?, ? batchs/s]"
      ]
     },
     "metadata": {},
     "output_type": "display_data"
    },
    {
     "data": {
      "application/vnd.jupyter.widget-view+json": {
       "model_id": "e8dc296c09b84cc580fadc8b105e1595",
       "version_major": 2,
       "version_minor": 0
      },
      "text/plain": [
       "  0%|          | 0/25 [00:00<?, ? batchs/s]"
      ]
     },
     "metadata": {},
     "output_type": "display_data"
    },
    {
     "data": {
      "application/vnd.jupyter.widget-view+json": {
       "model_id": "fb4e4183df42476d9fd325bff7bce060",
       "version_major": 2,
       "version_minor": 0
      },
      "text/plain": [
       "  0%|          | 0/25 [00:00<?, ? batchs/s]"
      ]
     },
     "metadata": {},
     "output_type": "display_data"
    },
    {
     "data": {
      "application/vnd.jupyter.widget-view+json": {
       "model_id": "697b0d5456064ad5a18c15d61ff1b733",
       "version_major": 2,
       "version_minor": 0
      },
      "text/plain": [
       "  0%|          | 0/25 [00:00<?, ? batchs/s]"
      ]
     },
     "metadata": {},
     "output_type": "display_data"
    },
    {
     "data": {
      "application/vnd.jupyter.widget-view+json": {
       "model_id": "de96910231534cc999f3f7b6275e0dbd",
       "version_major": 2,
       "version_minor": 0
      },
      "text/plain": [
       "  0%|          | 0/25 [00:00<?, ? batchs/s]"
      ]
     },
     "metadata": {},
     "output_type": "display_data"
    }
   ],
   "source": [
    "history = model.fit(train_ds,\n",
    "          val_ds,\n",
    "          epochs=10,\n",
    "          batch_size=64)"
   ]
  },
  {
   "cell_type": "markdown",
   "metadata": {},
   "source": [
    "### Writting Embeddings to Projector"
   ]
  },
  {
   "cell_type": "code",
   "execution_count": 18,
   "metadata": {},
   "outputs": [],
   "source": [
    "summary_writer = SummaryWriter('runs/Dogs vs Wolves')"
   ]
  },
  {
   "cell_type": "code",
   "execution_count": 19,
   "metadata": {},
   "outputs": [
    {
     "name": "stderr",
     "output_type": "stream",
     "text": [
      "/usr/lib/python3.9/site-packages/torch/nn/functional.py:1805: UserWarning: nn.functional.sigmoid is deprecated. Use torch.sigmoid instead.\n",
      "  warnings.warn(\"nn.functional.sigmoid is deprecated. Use torch.sigmoid instead.\")\n"
     ]
    }
   ],
   "source": [
    "from torch.utils.data import DataLoader\n",
    "from itertools import chain, islice\n",
    "\n",
    "def embed(dl, model, thumb_fn, split=None):\n",
    "    for ims, labels in dl:\n",
    "        with torch.no_grad():\n",
    "            embs, output = model.model.embed(ims.cuda())\n",
    "        probas =  torch.nn.functional.sigmoid(output).squeeze(-1)\n",
    "        for im, label, emb, probs in zip(ims, labels, embs, probas):\n",
    "            yield thumb_fn(im), emb.cpu(), probs.item(), label.item(), (probs>0.5).item(), ((probs>.5)==label).item(), split\n",
    "\n",
    "train_dl = DataLoader(train_ds, batch_size=10, shuffle=True)\n",
    "test_dl = DataLoader(val_ds, batch_size=10, shuffle=True)\n",
    "\n",
    "thumb = transforms.Compose([transforms.ToPILImage(), transforms.Resize((64, 64)), transforms.ToTensor()])\n",
    "embs = chain(islice(embed(train_dl, model, thumb, 'train'), 100),\n",
    "             islice(embed(test_dl, model, thumb, 'test'), 100))\n",
    "images, vectors, probas, gt_labels, pred_labels, correct, split = zip(*embs)\n",
    "images = torch.stack(images)\n",
    "vectors = torch.stack(vectors)\n",
    "\n",
    "summary_writer.add_embedding(vectors,\n",
    "                             metadata=list(zip(gt_labels, split, pred_labels, probas, correct)),\n",
    "                             label_img=images,\n",
    "                             global_step=0,\n",
    "                             tag='embeddings',\n",
    "                             metadata_header=['label', 'mode', 'pred_label', 'proba', 'correct'])"
   ]
  },
  {
   "cell_type": "code",
   "execution_count": 20,
   "metadata": {},
   "outputs": [],
   "source": [
    "summary_writer.flush()"
   ]
  },
  {
   "cell_type": "code",
   "execution_count": 21,
   "metadata": {},
   "outputs": [],
   "source": [
    "summary_writer.close()"
   ]
  }
 ],
 "metadata": {
  "kernelspec": {
   "display_name": "Python 3",
   "language": "python",
   "name": "python3"
  },
  "language_info": {
   "codemirror_mode": {
    "name": "ipython",
    "version": 3
   },
   "file_extension": ".py",
   "mimetype": "text/x-python",
   "name": "python",
   "nbconvert_exporter": "python",
   "pygments_lexer": "ipython3",
   "version": "3.9.6"
  },
  "widgets": {
   "application/vnd.jupyter.widget-state+json": {
    "state": {
     "0415c005e1d2490ba2067e7cdaec5dbc": {
      "model_module": "@jupyter-widgets/controls",
      "model_module_version": "1.5.0",
      "model_name": "FloatProgressModel",
      "state": {
       "bar_style": "success",
       "layout": "IPY_MODEL_625fef1f6af547618101efb696623781",
       "max": 25,
       "style": "IPY_MODEL_30ac36517077457da1b224c8dcb1e0a5",
       "value": 25
      }
     },
     "070aeadc58314e9b81e1b683bf023a6f": {
      "model_module": "@jupyter-widgets/base",
      "model_module_version": "1.2.0",
      "model_name": "LayoutModel",
      "state": {}
     },
     "07362b978b3243bbb88cd51367044b3a": {
      "model_module": "@jupyter-widgets/controls",
      "model_module_version": "1.5.0",
      "model_name": "HTMLModel",
      "state": {
       "layout": "IPY_MODEL_34e2085def864622a8741b7716c8cc6c",
       "style": "IPY_MODEL_ba62739f20ba46e5a288a47618bf48a1",
       "value": " 25/25 [00:48&lt;00:00,  1.03 batchs/s, train_acc=0.991, train_f1=0.991, train_loss=0.030, train_precision=0.992, train_recall=0.989, val_acc=0.695, val_f1=0.576, val_loss=2.112, val_precision=0.988, val_recall=0.407]"
      }
     },
     "094d76b273d14f17898f5a3436682f35": {
      "model_module": "@jupyter-widgets/base",
      "model_module_version": "1.2.0",
      "model_name": "LayoutModel",
      "state": {}
     },
     "0cebeff8381d442a93cf3ec81c7064f6": {
      "model_module": "@jupyter-widgets/controls",
      "model_module_version": "1.5.0",
      "model_name": "HBoxModel",
      "state": {
       "children": [
        "IPY_MODEL_f59bb6c2996a49ae987e70ea8485c8a0",
        "IPY_MODEL_2e8482dc5b7c42e6888e8fb9a19787d7",
        "IPY_MODEL_aa80c0fddac842e184fd8916d896018f"
       ],
       "layout": "IPY_MODEL_20589f9a10fe452292d329c1f1fc8450"
      }
     },
     "0da0309836a8423990b2cc691831c792": {
      "model_module": "@jupyter-widgets/controls",
      "model_module_version": "1.5.0",
      "model_name": "ProgressStyleModel",
      "state": {
       "description_width": ""
      }
     },
     "0e77d331a70c4bcd8f13f55ad96b67f1": {
      "model_module": "@jupyter-widgets/base",
      "model_module_version": "1.2.0",
      "model_name": "LayoutModel",
      "state": {}
     },
     "0eca7142ecb54a108af4420550f23566": {
      "model_module": "@jupyter-widgets/base",
      "model_module_version": "1.2.0",
      "model_name": "LayoutModel",
      "state": {}
     },
     "131a2fbc0561417c976b586c10099e74": {
      "model_module": "@jupyter-widgets/controls",
      "model_module_version": "1.5.0",
      "model_name": "HTMLModel",
      "state": {
       "layout": "IPY_MODEL_a037d61191d84a25afd0a993a71931e7",
       "style": "IPY_MODEL_dc33f1b78f4241cda94342ffe3998498",
       "value": "Epoch 3: 100%"
      }
     },
     "134ceb8b084f4d9995e8d893516a057d": {
      "model_module": "@jupyter-widgets/base",
      "model_module_version": "1.2.0",
      "model_name": "LayoutModel",
      "state": {}
     },
     "13d4079ca0684682898f2de6af32d9f8": {
      "model_module": "@jupyter-widgets/base",
      "model_module_version": "1.2.0",
      "model_name": "LayoutModel",
      "state": {}
     },
     "14dc31aa90844f96ab6afc74ec924e75": {
      "model_module": "@jupyter-widgets/controls",
      "model_module_version": "1.5.0",
      "model_name": "DescriptionStyleModel",
      "state": {
       "description_width": ""
      }
     },
     "156e12f8d2ad460fb62abc1920834c84": {
      "model_module": "@jupyter-widgets/base",
      "model_module_version": "1.2.0",
      "model_name": "LayoutModel",
      "state": {}
     },
     "17bebf1cd2a14621825f9aa4e55020e5": {
      "model_module": "@jupyter-widgets/base",
      "model_module_version": "1.2.0",
      "model_name": "LayoutModel",
      "state": {}
     },
     "1906c41d2e6a426fb576b4992918b1fd": {
      "model_module": "@jupyter-widgets/controls",
      "model_module_version": "1.5.0",
      "model_name": "DescriptionStyleModel",
      "state": {
       "description_width": ""
      }
     },
     "1b5891821a814ab19fa7460aad7e9bbf": {
      "model_module": "@jupyter-widgets/controls",
      "model_module_version": "1.5.0",
      "model_name": "DescriptionStyleModel",
      "state": {
       "description_width": ""
      }
     },
     "1b9925e1704d4964baf2f18a393a7cd7": {
      "model_module": "@jupyter-widgets/base",
      "model_module_version": "1.2.0",
      "model_name": "LayoutModel",
      "state": {}
     },
     "1be82d3aac0d4162934989d84987dfe4": {
      "model_module": "@jupyter-widgets/base",
      "model_module_version": "1.2.0",
      "model_name": "LayoutModel",
      "state": {}
     },
     "20589f9a10fe452292d329c1f1fc8450": {
      "model_module": "@jupyter-widgets/base",
      "model_module_version": "1.2.0",
      "model_name": "LayoutModel",
      "state": {}
     },
     "270efa35368b4382bf7d5f95b4913a3f": {
      "model_module": "@jupyter-widgets/controls",
      "model_module_version": "1.5.0",
      "model_name": "DescriptionStyleModel",
      "state": {
       "description_width": ""
      }
     },
     "292d4156c7504f30aa1f7d936f1e5656": {
      "model_module": "@jupyter-widgets/base",
      "model_module_version": "1.2.0",
      "model_name": "LayoutModel",
      "state": {}
     },
     "29d9dfca3e824828a4f2c373613ad736": {
      "model_module": "@jupyter-widgets/controls",
      "model_module_version": "1.5.0",
      "model_name": "ProgressStyleModel",
      "state": {
       "description_width": ""
      }
     },
     "2b370e3d83374991903e78df53fe45d5": {
      "model_module": "@jupyter-widgets/controls",
      "model_module_version": "1.5.0",
      "model_name": "HTMLModel",
      "state": {
       "layout": "IPY_MODEL_a8c3dad116bc4972ab662dc67c719678",
       "style": "IPY_MODEL_b2bb9b0938bd46d1a68851b33802b647",
       "value": " 25/25 [01:25&lt;00:00,  1.03 batchs/s, train_acc=0.991, train_f1=0.991, train_loss=0.030, train_precision=0.990, train_recall=0.991, val_acc=0.933, val_f1=0.930, val_loss=0.264, val_precision=0.984, val_recall=0.882]"
      }
     },
     "2cd968233dfb4beeae72de6bdfe5f8ab": {
      "model_module": "@jupyter-widgets/controls",
      "model_module_version": "1.5.0",
      "model_name": "DescriptionStyleModel",
      "state": {
       "description_width": ""
      }
     },
     "2e8482dc5b7c42e6888e8fb9a19787d7": {
      "model_module": "@jupyter-widgets/controls",
      "model_module_version": "1.5.0",
      "model_name": "FloatProgressModel",
      "state": {
       "bar_style": "success",
       "layout": "IPY_MODEL_83dee50bd62241be9252be0f268569b1",
       "max": 10,
       "style": "IPY_MODEL_f26dc26f07284c9c81817f0eefcfba9c",
       "value": 10
      }
     },
     "30ac36517077457da1b224c8dcb1e0a5": {
      "model_module": "@jupyter-widgets/controls",
      "model_module_version": "1.5.0",
      "model_name": "ProgressStyleModel",
      "state": {
       "description_width": ""
      }
     },
     "3153ee7d34dd4d7db68f69faef67c7d7": {
      "model_module": "@jupyter-widgets/base",
      "model_module_version": "1.2.0",
      "model_name": "LayoutModel",
      "state": {}
     },
     "3326fb2b9c2a4472bbfa1d11d9cd808f": {
      "model_module": "@jupyter-widgets/controls",
      "model_module_version": "1.5.0",
      "model_name": "DescriptionStyleModel",
      "state": {
       "description_width": ""
      }
     },
     "333392605ba04beb942a628a40bbbc1b": {
      "model_module": "@jupyter-widgets/controls",
      "model_module_version": "1.5.0",
      "model_name": "DescriptionStyleModel",
      "state": {
       "description_width": ""
      }
     },
     "34e2085def864622a8741b7716c8cc6c": {
      "model_module": "@jupyter-widgets/base",
      "model_module_version": "1.2.0",
      "model_name": "LayoutModel",
      "state": {}
     },
     "357fda8647f54fc7a8b4f1af3a30a6be": {
      "model_module": "@jupyter-widgets/controls",
      "model_module_version": "1.5.0",
      "model_name": "DescriptionStyleModel",
      "state": {
       "description_width": ""
      }
     },
     "36ab8b9d787e4d40bfafde9274a23ae8": {
      "model_module": "@jupyter-widgets/base",
      "model_module_version": "1.2.0",
      "model_name": "LayoutModel",
      "state": {}
     },
     "3757773b958d402d9ff75ae3e680fada": {
      "model_module": "@jupyter-widgets/base",
      "model_module_version": "1.2.0",
      "model_name": "LayoutModel",
      "state": {}
     },
     "395175abfff24cc3bd12404ccba68e94": {
      "model_module": "@jupyter-widgets/controls",
      "model_module_version": "1.5.0",
      "model_name": "FloatProgressModel",
      "state": {
       "bar_style": "success",
       "layout": "IPY_MODEL_92d437e22d9641308b1e99e0aa80d03f",
       "max": 25,
       "style": "IPY_MODEL_6ff66fe701684cbf871d22970d89cbc0",
       "value": 25
      }
     },
     "3c6a9edd50004f3a98c0855d3880307b": {
      "model_module": "@jupyter-widgets/controls",
      "model_module_version": "1.5.0",
      "model_name": "HTMLModel",
      "state": {
       "layout": "IPY_MODEL_134ceb8b084f4d9995e8d893516a057d",
       "style": "IPY_MODEL_fa1ab271f1d445aea26a3da827781ffe",
       "value": " 25/25 [01:37&lt;00:00,  1.04 batchs/s, train_acc=0.987, train_f1=0.987, train_loss=0.042, train_precision=0.985, train_recall=0.989, val_acc=0.865, val_f1=0.849, val_loss=0.331, val_precision=0.987, val_recall=0.745]"
      }
     },
     "3da6a70a1b4b4a7cbe559fd5e551deeb": {
      "model_module": "@jupyter-widgets/controls",
      "model_module_version": "1.5.0",
      "model_name": "DescriptionStyleModel",
      "state": {
       "description_width": ""
      }
     },
     "45ea34376a0c4247bb58dc0bced0497a": {
      "model_module": "@jupyter-widgets/controls",
      "model_module_version": "1.5.0",
      "model_name": "HTMLModel",
      "state": {
       "layout": "IPY_MODEL_f662dff1d1ab498a9704fad88add72af",
       "style": "IPY_MODEL_76c3ee502db84fc2a7840e74326d944e",
       "value": " 25/25 [01:00&lt;00:00,  1.06 batchs/s, train_acc=0.996, train_f1=0.996, train_loss=0.015, train_precision=0.994, train_recall=0.997, val_acc=0.945, val_f1=0.946, val_loss=0.242, val_precision=0.955, val_recall=0.936]"
      }
     },
     "4effdae533864b11960adca537881254": {
      "model_module": "@jupyter-widgets/base",
      "model_module_version": "1.2.0",
      "model_name": "LayoutModel",
      "state": {}
     },
     "56600881423a425a80c76c7218d9ed15": {
      "model_module": "@jupyter-widgets/base",
      "model_module_version": "1.2.0",
      "model_name": "LayoutModel",
      "state": {}
     },
     "56804193fd4d430e9d703a3b6f1031fc": {
      "model_module": "@jupyter-widgets/base",
      "model_module_version": "1.2.0",
      "model_name": "LayoutModel",
      "state": {}
     },
     "58b583f625fd43529853959e3d419f09": {
      "model_module": "@jupyter-widgets/controls",
      "model_module_version": "1.5.0",
      "model_name": "HTMLModel",
      "state": {
       "layout": "IPY_MODEL_56600881423a425a80c76c7218d9ed15",
       "style": "IPY_MODEL_eaad61c91b284adfbdc03bb5cbd2fe36",
       "value": "Epoch 5: 100%"
      }
     },
     "5ba3885ba9a94ad896f1e400fa47e3bc": {
      "model_module": "@jupyter-widgets/base",
      "model_module_version": "1.2.0",
      "model_name": "LayoutModel",
      "state": {}
     },
     "5f788594e5ab4539b866a223c61f6fbf": {
      "model_module": "@jupyter-widgets/controls",
      "model_module_version": "1.5.0",
      "model_name": "ProgressStyleModel",
      "state": {
       "description_width": ""
      }
     },
     "625fef1f6af547618101efb696623781": {
      "model_module": "@jupyter-widgets/base",
      "model_module_version": "1.2.0",
      "model_name": "LayoutModel",
      "state": {}
     },
     "64138d2b912c4e8db52c81a1102b9c09": {
      "model_module": "@jupyter-widgets/controls",
      "model_module_version": "1.5.0",
      "model_name": "HBoxModel",
      "state": {
       "children": [
        "IPY_MODEL_ac8aca7026ef4fe18aee4815ac6dc4b8",
        "IPY_MODEL_0415c005e1d2490ba2067e7cdaec5dbc",
        "IPY_MODEL_747311cef2064e7391a9e0f3f182dc71"
       ],
       "layout": "IPY_MODEL_292d4156c7504f30aa1f7d936f1e5656"
      }
     },
     "647823d8ae2b49a686cfb9bf74f4dc2d": {
      "model_module": "@jupyter-widgets/controls",
      "model_module_version": "1.5.0",
      "model_name": "ProgressStyleModel",
      "state": {
       "description_width": ""
      }
     },
     "691faabbec0548c791bb05fd7227659b": {
      "model_module": "@jupyter-widgets/controls",
      "model_module_version": "1.5.0",
      "model_name": "FloatProgressModel",
      "state": {
       "bar_style": "success",
       "layout": "IPY_MODEL_1b9925e1704d4964baf2f18a393a7cd7",
       "max": 25,
       "style": "IPY_MODEL_aa36f1ffa08345988515d5eaffa4d6a4",
       "value": 25
      }
     },
     "697b0d5456064ad5a18c15d61ff1b733": {
      "model_module": "@jupyter-widgets/controls",
      "model_module_version": "1.5.0",
      "model_name": "HBoxModel",
      "state": {
       "children": [
        "IPY_MODEL_d0a8809e8fed4bd790666c089e952aef",
        "IPY_MODEL_bd0877f4d3ad4f02b04afe9675dcbbb5",
        "IPY_MODEL_d6ac8826c8454341a1ffb0702cc52054"
       ],
       "layout": "IPY_MODEL_cff6aa9b058b444b89bd991ca11d9b87"
      }
     },
     "6cbc1bf11ed14f4ebf38adbbd168aa8a": {
      "model_module": "@jupyter-widgets/controls",
      "model_module_version": "1.5.0",
      "model_name": "HTMLModel",
      "state": {
       "layout": "IPY_MODEL_c0c62ef5c8f843e98c4c582643bf71cf",
       "style": "IPY_MODEL_bf8387e2ddf14a13b51d2d4aafffb7a7",
       "value": " 25/25 [01:49&lt;00:00,  1.01s/ batchs, train_acc=0.956, train_f1=0.955, train_loss=0.117, train_precision=0.956, train_recall=0.955, val_acc=0.790, val_f1=0.741, val_loss=0.616, val_precision=1.000, val_recall=0.588]"
      }
     },
     "6dbd018a920a456dac3cbc493a75c538": {
      "model_module": "@jupyter-widgets/controls",
      "model_module_version": "1.5.0",
      "model_name": "DescriptionStyleModel",
      "state": {
       "description_width": ""
      }
     },
     "6ff66fe701684cbf871d22970d89cbc0": {
      "model_module": "@jupyter-widgets/controls",
      "model_module_version": "1.5.0",
      "model_name": "ProgressStyleModel",
      "state": {
       "description_width": ""
      }
     },
     "73f07be6d14a498489b5c787dd60eb33": {
      "model_module": "@jupyter-widgets/controls",
      "model_module_version": "1.5.0",
      "model_name": "HBoxModel",
      "state": {
       "children": [
        "IPY_MODEL_d1ee4653d5a540fd90b35b55cb50d420",
        "IPY_MODEL_691faabbec0548c791bb05fd7227659b",
        "IPY_MODEL_2b370e3d83374991903e78df53fe45d5"
       ],
       "layout": "IPY_MODEL_3153ee7d34dd4d7db68f69faef67c7d7"
      }
     },
     "747311cef2064e7391a9e0f3f182dc71": {
      "model_module": "@jupyter-widgets/controls",
      "model_module_version": "1.5.0",
      "model_name": "HTMLModel",
      "state": {
       "layout": "IPY_MODEL_13d4079ca0684682898f2de6af32d9f8",
       "style": "IPY_MODEL_b312dcf067304a81adb80576038ce3c0",
       "value": " 25/25 [02:02&lt;00:00,  1.03 batchs/s, train_acc=0.894, train_f1=0.894, train_loss=0.273, train_precision=0.896, train_recall=0.891, val_acc=0.755, val_f1=0.688, val_loss=0.779, val_precision=0.982, val_recall=0.529]"
      }
     },
     "748eb7c7a9094061accb66c3c9d4cae3": {
      "model_module": "@jupyter-widgets/base",
      "model_module_version": "1.2.0",
      "model_name": "LayoutModel",
      "state": {}
     },
     "76c3ee502db84fc2a7840e74326d944e": {
      "model_module": "@jupyter-widgets/controls",
      "model_module_version": "1.5.0",
      "model_name": "DescriptionStyleModel",
      "state": {
       "description_width": ""
      }
     },
     "79bae828c14e4595917fc9966b8a6396": {
      "model_module": "@jupyter-widgets/base",
      "model_module_version": "1.2.0",
      "model_name": "LayoutModel",
      "state": {}
     },
     "7d1e516ded2c4681a235f02d0a3b187f": {
      "model_module": "@jupyter-widgets/controls",
      "model_module_version": "1.5.0",
      "model_name": "DescriptionStyleModel",
      "state": {
       "description_width": ""
      }
     },
     "7ee54ab3d2d44a10a15b0406357225f7": {
      "model_module": "@jupyter-widgets/base",
      "model_module_version": "1.2.0",
      "model_name": "LayoutModel",
      "state": {}
     },
     "809c1524179c48a0a22f688d3339acb6": {
      "model_module": "@jupyter-widgets/base",
      "model_module_version": "1.2.0",
      "model_name": "LayoutModel",
      "state": {}
     },
     "82a0d5462c59424bb97d7f26b67ae68d": {
      "model_module": "@jupyter-widgets/base",
      "model_module_version": "1.2.0",
      "model_name": "LayoutModel",
      "state": {}
     },
     "83dee50bd62241be9252be0f268569b1": {
      "model_module": "@jupyter-widgets/base",
      "model_module_version": "1.2.0",
      "model_name": "LayoutModel",
      "state": {}
     },
     "88e47a31bc514f47b4dc6c00be3b6555": {
      "model_module": "@jupyter-widgets/base",
      "model_module_version": "1.2.0",
      "model_name": "LayoutModel",
      "state": {}
     },
     "8d1d828ad51d456483b817d26b54acc5": {
      "model_module": "@jupyter-widgets/controls",
      "model_module_version": "1.5.0",
      "model_name": "DescriptionStyleModel",
      "state": {
       "description_width": ""
      }
     },
     "921f80900abe4146b3a83562f60886d2": {
      "model_module": "@jupyter-widgets/controls",
      "model_module_version": "1.5.0",
      "model_name": "ProgressStyleModel",
      "state": {
       "description_width": ""
      }
     },
     "9249ab210da34b99b1a766385f42e55c": {
      "model_module": "@jupyter-widgets/base",
      "model_module_version": "1.2.0",
      "model_name": "LayoutModel",
      "state": {}
     },
     "92d437e22d9641308b1e99e0aa80d03f": {
      "model_module": "@jupyter-widgets/base",
      "model_module_version": "1.2.0",
      "model_name": "LayoutModel",
      "state": {}
     },
     "93157058dda0424bb45fc420d5d23603": {
      "model_module": "@jupyter-widgets/controls",
      "model_module_version": "1.5.0",
      "model_name": "HTMLModel",
      "state": {
       "layout": "IPY_MODEL_82a0d5462c59424bb97d7f26b67ae68d",
       "style": "IPY_MODEL_270efa35368b4382bf7d5f95b4913a3f",
       "value": "Epoch 10: 100%"
      }
     },
     "9336ad109a8b4d63b351f24e50ed0afd": {
      "model_module": "@jupyter-widgets/base",
      "model_module_version": "1.2.0",
      "model_name": "LayoutModel",
      "state": {}
     },
     "97bc1868aba64ae6bfb561552a57a29f": {
      "model_module": "@jupyter-widgets/controls",
      "model_module_version": "1.5.0",
      "model_name": "ProgressStyleModel",
      "state": {
       "description_width": ""
      }
     },
     "97e87d35626343e284a7855e7a904928": {
      "model_module": "@jupyter-widgets/controls",
      "model_module_version": "1.5.0",
      "model_name": "FloatProgressModel",
      "state": {
       "bar_style": "success",
       "layout": "IPY_MODEL_f7542f946ebc4f74a79216d3b1d87ae5",
       "max": 25,
       "style": "IPY_MODEL_a6ee2bbce20646ed90554788cc7368a2",
       "value": 25
      }
     },
     "98d54ae6b3d64387a611197b80ca9311": {
      "model_module": "@jupyter-widgets/controls",
      "model_module_version": "1.5.0",
      "model_name": "FloatProgressModel",
      "state": {
       "bar_style": "success",
       "layout": "IPY_MODEL_094d76b273d14f17898f5a3436682f35",
       "max": 25,
       "style": "IPY_MODEL_5f788594e5ab4539b866a223c61f6fbf",
       "value": 25
      }
     },
     "9efc3cab529e497eaf4e99ab1a52fddd": {
      "model_module": "@jupyter-widgets/base",
      "model_module_version": "1.2.0",
      "model_name": "LayoutModel",
      "state": {}
     },
     "a037d61191d84a25afd0a993a71931e7": {
      "model_module": "@jupyter-widgets/base",
      "model_module_version": "1.2.0",
      "model_name": "LayoutModel",
      "state": {}
     },
     "a2ca69b1325d40609c22a30d8c0fc5d7": {
      "model_module": "@jupyter-widgets/base",
      "model_module_version": "1.2.0",
      "model_name": "LayoutModel",
      "state": {}
     },
     "a3ecfce1e84d4370ab4b7effae682017": {
      "model_module": "@jupyter-widgets/controls",
      "model_module_version": "1.5.0",
      "model_name": "HTMLModel",
      "state": {
       "layout": "IPY_MODEL_e446954b955e443d9cb8ffa7326c0174",
       "style": "IPY_MODEL_357fda8647f54fc7a8b4f1af3a30a6be",
       "value": "Epoch 6: 100%"
      }
     },
     "a68beb36a7d14cf0811d25a0c59a497d": {
      "model_module": "@jupyter-widgets/controls",
      "model_module_version": "1.5.0",
      "model_name": "HBoxModel",
      "state": {
       "children": [
        "IPY_MODEL_a3ecfce1e84d4370ab4b7effae682017",
        "IPY_MODEL_97e87d35626343e284a7855e7a904928",
        "IPY_MODEL_45ea34376a0c4247bb58dc0bced0497a"
       ],
       "layout": "IPY_MODEL_9336ad109a8b4d63b351f24e50ed0afd"
      }
     },
     "a6d80b685b034137a793cf6bb7053975": {
      "model_module": "@jupyter-widgets/controls",
      "model_module_version": "1.5.0",
      "model_name": "FloatProgressModel",
      "state": {
       "bar_style": "success",
       "layout": "IPY_MODEL_7ee54ab3d2d44a10a15b0406357225f7",
       "max": 25,
       "style": "IPY_MODEL_921f80900abe4146b3a83562f60886d2",
       "value": 25
      }
     },
     "a6ee2bbce20646ed90554788cc7368a2": {
      "model_module": "@jupyter-widgets/controls",
      "model_module_version": "1.5.0",
      "model_name": "ProgressStyleModel",
      "state": {
       "description_width": ""
      }
     },
     "a8c3dad116bc4972ab662dc67c719678": {
      "model_module": "@jupyter-widgets/base",
      "model_module_version": "1.2.0",
      "model_name": "LayoutModel",
      "state": {}
     },
     "aa36f1ffa08345988515d5eaffa4d6a4": {
      "model_module": "@jupyter-widgets/controls",
      "model_module_version": "1.5.0",
      "model_name": "ProgressStyleModel",
      "state": {
       "description_width": ""
      }
     },
     "aa80c0fddac842e184fd8916d896018f": {
      "model_module": "@jupyter-widgets/controls",
      "model_module_version": "1.5.0",
      "model_name": "HTMLModel",
      "state": {
       "layout": "IPY_MODEL_4effdae533864b11960adca537881254",
       "style": "IPY_MODEL_8d1d828ad51d456483b817d26b54acc5",
       "value": " 10/10 [02:02&lt;00:00, 12.23s/epoch]"
      }
     },
     "ac8aca7026ef4fe18aee4815ac6dc4b8": {
      "model_module": "@jupyter-widgets/controls",
      "model_module_version": "1.5.0",
      "model_name": "HTMLModel",
      "state": {
       "layout": "IPY_MODEL_17bebf1cd2a14621825f9aa4e55020e5",
       "style": "IPY_MODEL_1906c41d2e6a426fb576b4992918b1fd",
       "value": "Epoch 1: 100%"
      }
     },
     "ae0c8abdbab74f68b6a21e55234e3742": {
      "model_module": "@jupyter-widgets/base",
      "model_module_version": "1.2.0",
      "model_name": "LayoutModel",
      "state": {}
     },
     "b2bb9b0938bd46d1a68851b33802b647": {
      "model_module": "@jupyter-widgets/controls",
      "model_module_version": "1.5.0",
      "model_name": "DescriptionStyleModel",
      "state": {
       "description_width": ""
      }
     },
     "b312dcf067304a81adb80576038ce3c0": {
      "model_module": "@jupyter-widgets/controls",
      "model_module_version": "1.5.0",
      "model_name": "DescriptionStyleModel",
      "state": {
       "description_width": ""
      }
     },
     "b442a25f891749318acdecf2e7574dfa": {
      "model_module": "@jupyter-widgets/controls",
      "model_module_version": "1.5.0",
      "model_name": "HTMLModel",
      "state": {
       "layout": "IPY_MODEL_156e12f8d2ad460fb62abc1920834c84",
       "style": "IPY_MODEL_333392605ba04beb942a628a40bbbc1b",
       "value": "Epoch 8: 100%"
      }
     },
     "ba62739f20ba46e5a288a47618bf48a1": {
      "model_module": "@jupyter-widgets/controls",
      "model_module_version": "1.5.0",
      "model_name": "DescriptionStyleModel",
      "state": {
       "description_width": ""
      }
     },
     "bd0877f4d3ad4f02b04afe9675dcbbb5": {
      "model_module": "@jupyter-widgets/controls",
      "model_module_version": "1.5.0",
      "model_name": "FloatProgressModel",
      "state": {
       "bar_style": "success",
       "layout": "IPY_MODEL_9efc3cab529e497eaf4e99ab1a52fddd",
       "max": 25,
       "style": "IPY_MODEL_97bc1868aba64ae6bfb561552a57a29f",
       "value": 25
      }
     },
     "bd4b8b736b8c4493b7f61f8b0aa63819": {
      "model_module": "@jupyter-widgets/base",
      "model_module_version": "1.2.0",
      "model_name": "LayoutModel",
      "state": {}
     },
     "bf8387e2ddf14a13b51d2d4aafffb7a7": {
      "model_module": "@jupyter-widgets/controls",
      "model_module_version": "1.5.0",
      "model_name": "DescriptionStyleModel",
      "state": {
       "description_width": ""
      }
     },
     "c0c62ef5c8f843e98c4c582643bf71cf": {
      "model_module": "@jupyter-widgets/base",
      "model_module_version": "1.2.0",
      "model_name": "LayoutModel",
      "state": {}
     },
     "c0e6a1227992448fadd6b6c4d4680402": {
      "model_module": "@jupyter-widgets/controls",
      "model_module_version": "1.5.0",
      "model_name": "DescriptionStyleModel",
      "state": {
       "description_width": ""
      }
     },
     "c169913f9854425ba647337fc4c09345": {
      "model_module": "@jupyter-widgets/controls",
      "model_module_version": "1.5.0",
      "model_name": "FloatProgressModel",
      "state": {
       "bar_style": "success",
       "layout": "IPY_MODEL_ae0c8abdbab74f68b6a21e55234e3742",
       "max": 25,
       "style": "IPY_MODEL_647823d8ae2b49a686cfb9bf74f4dc2d",
       "value": 25
      }
     },
     "c739b5e5d42d4029860f21b254fd690e": {
      "model_module": "@jupyter-widgets/controls",
      "model_module_version": "1.5.0",
      "model_name": "HBoxModel",
      "state": {
       "children": [
        "IPY_MODEL_131a2fbc0561417c976b586c10099e74",
        "IPY_MODEL_a6d80b685b034137a793cf6bb7053975",
        "IPY_MODEL_3c6a9edd50004f3a98c0855d3880307b"
       ],
       "layout": "IPY_MODEL_88e47a31bc514f47b4dc6c00be3b6555"
      }
     },
     "c7d26b9c0dfb4a2d8b184c657025c4fd": {
      "model_module": "@jupyter-widgets/controls",
      "model_module_version": "1.5.0",
      "model_name": "FloatProgressModel",
      "state": {
       "bar_style": "success",
       "layout": "IPY_MODEL_a2ca69b1325d40609c22a30d8c0fc5d7",
       "max": 25,
       "style": "IPY_MODEL_0da0309836a8423990b2cc691831c792",
       "value": 25
      }
     },
     "c84e612daa26441da9e04e21a5dfac41": {
      "model_module": "@jupyter-widgets/controls",
      "model_module_version": "1.5.0",
      "model_name": "HBoxModel",
      "state": {
       "children": [
        "IPY_MODEL_58b583f625fd43529853959e3d419f09",
        "IPY_MODEL_395175abfff24cc3bd12404ccba68e94",
        "IPY_MODEL_d3154eea2dd74d9cb01e56ab194e1a36"
       ],
       "layout": "IPY_MODEL_79bae828c14e4595917fc9966b8a6396"
      }
     },
     "c884ed50856149e6aa77aa811fc8bc7c": {
      "model_module": "@jupyter-widgets/controls",
      "model_module_version": "1.5.0",
      "model_name": "FloatProgressModel",
      "state": {
       "bar_style": "success",
       "layout": "IPY_MODEL_809c1524179c48a0a22f688d3339acb6",
       "max": 25,
       "style": "IPY_MODEL_29d9dfca3e824828a4f2c373613ad736",
       "value": 25
      }
     },
     "cff6aa9b058b444b89bd991ca11d9b87": {
      "model_module": "@jupyter-widgets/base",
      "model_module_version": "1.2.0",
      "model_name": "LayoutModel",
      "state": {}
     },
     "d0a8809e8fed4bd790666c089e952aef": {
      "model_module": "@jupyter-widgets/controls",
      "model_module_version": "1.5.0",
      "model_name": "HTMLModel",
      "state": {
       "layout": "IPY_MODEL_748eb7c7a9094061accb66c3c9d4cae3",
       "style": "IPY_MODEL_7d1e516ded2c4681a235f02d0a3b187f",
       "value": "Epoch 9: 100%"
      }
     },
     "d1ee4653d5a540fd90b35b55cb50d420": {
      "model_module": "@jupyter-widgets/controls",
      "model_module_version": "1.5.0",
      "model_name": "HTMLModel",
      "state": {
       "layout": "IPY_MODEL_bd4b8b736b8c4493b7f61f8b0aa63819",
       "style": "IPY_MODEL_1b5891821a814ab19fa7460aad7e9bbf",
       "value": "Epoch 4: 100%"
      }
     },
     "d3154eea2dd74d9cb01e56ab194e1a36": {
      "model_module": "@jupyter-widgets/controls",
      "model_module_version": "1.5.0",
      "model_name": "HTMLModel",
      "state": {
       "layout": "IPY_MODEL_0eca7142ecb54a108af4420550f23566",
       "style": "IPY_MODEL_f72e342aa59d4e42806b6a34981f1190",
       "value": " 25/25 [01:13&lt;00:00,  1.12s/ batchs, train_acc=0.995, train_f1=0.995, train_loss=0.018, train_precision=0.995, train_recall=0.995, val_acc=0.940, val_f1=0.939, val_loss=0.216, val_precision=0.974, val_recall=0.907]"
      }
     },
     "d6ac8826c8454341a1ffb0702cc52054": {
      "model_module": "@jupyter-widgets/controls",
      "model_module_version": "1.5.0",
      "model_name": "HTMLModel",
      "state": {
       "layout": "IPY_MODEL_1be82d3aac0d4162934989d84987dfe4",
       "style": "IPY_MODEL_6dbd018a920a456dac3cbc493a75c538",
       "value": " 25/25 [00:24&lt;00:00,  1.07 batchs/s, train_acc=0.965, train_f1=0.965, train_loss=0.100, train_precision=0.968, train_recall=0.961, val_acc=0.908, val_f1=0.911, val_loss=0.281, val_precision=0.892, val_recall=0.931]"
      }
     },
     "da9f7ae0086a4e01b6939c64d891c368": {
      "model_module": "@jupyter-widgets/controls",
      "model_module_version": "1.5.0",
      "model_name": "HTMLModel",
      "state": {
       "layout": "IPY_MODEL_0e77d331a70c4bcd8f13f55ad96b67f1",
       "style": "IPY_MODEL_2cd968233dfb4beeae72de6bdfe5f8ab",
       "value": " 25/25 [00:36&lt;00:00,  1.05 batchs/s, train_acc=0.978, train_f1=0.978, train_loss=0.061, train_precision=0.971, train_recall=0.984, val_acc=0.803, val_f1=0.763, val_loss=0.951, val_precision=0.984, val_recall=0.623]"
      }
     },
     "dc33f1b78f4241cda94342ffe3998498": {
      "model_module": "@jupyter-widgets/controls",
      "model_module_version": "1.5.0",
      "model_name": "DescriptionStyleModel",
      "state": {
       "description_width": ""
      }
     },
     "de96910231534cc999f3f7b6275e0dbd": {
      "model_module": "@jupyter-widgets/controls",
      "model_module_version": "1.5.0",
      "model_name": "HBoxModel",
      "state": {
       "children": [
        "IPY_MODEL_93157058dda0424bb45fc420d5d23603",
        "IPY_MODEL_c884ed50856149e6aa77aa811fc8bc7c",
        "IPY_MODEL_e7555a308fba4fdabc83a6afb9343f41"
       ],
       "layout": "IPY_MODEL_e00545e7ed7440b28e7b0a348b471281"
      }
     },
     "e00545e7ed7440b28e7b0a348b471281": {
      "model_module": "@jupyter-widgets/base",
      "model_module_version": "1.2.0",
      "model_name": "LayoutModel",
      "state": {}
     },
     "e446954b955e443d9cb8ffa7326c0174": {
      "model_module": "@jupyter-widgets/base",
      "model_module_version": "1.2.0",
      "model_name": "LayoutModel",
      "state": {}
     },
     "e7555a308fba4fdabc83a6afb9343f41": {
      "model_module": "@jupyter-widgets/controls",
      "model_module_version": "1.5.0",
      "model_name": "HTMLModel",
      "state": {
       "layout": "IPY_MODEL_5ba3885ba9a94ad896f1e400fa47e3bc",
       "style": "IPY_MODEL_3326fb2b9c2a4472bbfa1d11d9cd808f",
       "value": " 25/25 [00:12&lt;00:00,  1.09s/ batchs, train_acc=0.982, train_f1=0.982, train_loss=0.058, train_precision=0.984, train_recall=0.980, val_acc=0.913, val_f1=0.911, val_loss=0.252, val_precision=0.942, val_recall=0.882]"
      }
     },
     "e77a23783bf94196a93d3799c1248796": {
      "model_module": "@jupyter-widgets/controls",
      "model_module_version": "1.5.0",
      "model_name": "HTMLModel",
      "state": {
       "layout": "IPY_MODEL_36ab8b9d787e4d40bfafde9274a23ae8",
       "style": "IPY_MODEL_3da6a70a1b4b4a7cbe559fd5e551deeb",
       "value": "Epoch 7: 100%"
      }
     },
     "e8dc296c09b84cc580fadc8b105e1595": {
      "model_module": "@jupyter-widgets/controls",
      "model_module_version": "1.5.0",
      "model_name": "HBoxModel",
      "state": {
       "children": [
        "IPY_MODEL_e77a23783bf94196a93d3799c1248796",
        "IPY_MODEL_98d54ae6b3d64387a611197b80ca9311",
        "IPY_MODEL_07362b978b3243bbb88cd51367044b3a"
       ],
       "layout": "IPY_MODEL_56804193fd4d430e9d703a3b6f1031fc"
      }
     },
     "eaad61c91b284adfbdc03bb5cbd2fe36": {
      "model_module": "@jupyter-widgets/controls",
      "model_module_version": "1.5.0",
      "model_name": "DescriptionStyleModel",
      "state": {
       "description_width": ""
      }
     },
     "f018a4f5e1fb48c0841c0c7d23ee59be": {
      "model_module": "@jupyter-widgets/controls",
      "model_module_version": "1.5.0",
      "model_name": "HBoxModel",
      "state": {
       "children": [
        "IPY_MODEL_fdce14c357204e7fb614c993ac4d23d1",
        "IPY_MODEL_c169913f9854425ba647337fc4c09345",
        "IPY_MODEL_6cbc1bf11ed14f4ebf38adbbd168aa8a"
       ],
       "layout": "IPY_MODEL_3757773b958d402d9ff75ae3e680fada"
      }
     },
     "f26dc26f07284c9c81817f0eefcfba9c": {
      "model_module": "@jupyter-widgets/controls",
      "model_module_version": "1.5.0",
      "model_name": "ProgressStyleModel",
      "state": {
       "description_width": ""
      }
     },
     "f59bb6c2996a49ae987e70ea8485c8a0": {
      "model_module": "@jupyter-widgets/controls",
      "model_module_version": "1.5.0",
      "model_name": "HTMLModel",
      "state": {
       "layout": "IPY_MODEL_070aeadc58314e9b81e1b683bf023a6f",
       "style": "IPY_MODEL_14dc31aa90844f96ab6afc74ec924e75",
       "value": "100%"
      }
     },
     "f662dff1d1ab498a9704fad88add72af": {
      "model_module": "@jupyter-widgets/base",
      "model_module_version": "1.2.0",
      "model_name": "LayoutModel",
      "state": {}
     },
     "f708998ed0164bf0885cca13ae385bbd": {
      "model_module": "@jupyter-widgets/base",
      "model_module_version": "1.2.0",
      "model_name": "LayoutModel",
      "state": {}
     },
     "f72e342aa59d4e42806b6a34981f1190": {
      "model_module": "@jupyter-widgets/controls",
      "model_module_version": "1.5.0",
      "model_name": "DescriptionStyleModel",
      "state": {
       "description_width": ""
      }
     },
     "f7542f946ebc4f74a79216d3b1d87ae5": {
      "model_module": "@jupyter-widgets/base",
      "model_module_version": "1.2.0",
      "model_name": "LayoutModel",
      "state": {}
     },
     "fa1ab271f1d445aea26a3da827781ffe": {
      "model_module": "@jupyter-widgets/controls",
      "model_module_version": "1.5.0",
      "model_name": "DescriptionStyleModel",
      "state": {
       "description_width": ""
      }
     },
     "fb4e4183df42476d9fd325bff7bce060": {
      "model_module": "@jupyter-widgets/controls",
      "model_module_version": "1.5.0",
      "model_name": "HBoxModel",
      "state": {
       "children": [
        "IPY_MODEL_b442a25f891749318acdecf2e7574dfa",
        "IPY_MODEL_c7d26b9c0dfb4a2d8b184c657025c4fd",
        "IPY_MODEL_da9f7ae0086a4e01b6939c64d891c368"
       ],
       "layout": "IPY_MODEL_f708998ed0164bf0885cca13ae385bbd"
      }
     },
     "fdce14c357204e7fb614c993ac4d23d1": {
      "model_module": "@jupyter-widgets/controls",
      "model_module_version": "1.5.0",
      "model_name": "HTMLModel",
      "state": {
       "layout": "IPY_MODEL_9249ab210da34b99b1a766385f42e55c",
       "style": "IPY_MODEL_c0e6a1227992448fadd6b6c4d4680402",
       "value": "Epoch 2: 100%"
      }
     }
    },
    "version_major": 2,
    "version_minor": 0
   }
  }
 },
 "nbformat": 4,
 "nbformat_minor": 4
}
