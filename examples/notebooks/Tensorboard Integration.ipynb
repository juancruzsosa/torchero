{
 "cells": [
  {
   "cell_type": "code",
   "execution_count": 1,
   "metadata": {},
   "outputs": [
    {
     "name": "stdout",
     "output_type": "stream",
     "text": [
      "dogs-vs-wolves.zip: Skipping, found more recently modified local copy (use --force to force download)\n"
     ]
    }
   ],
   "source": [
    "!kaggle datasets download -d  harishvutukuri/dogs-vs-wolves -p ../../data"
   ]
  },
  {
   "cell_type": "code",
   "execution_count": 2,
   "metadata": {},
   "outputs": [],
   "source": [
    "!unzip -q -u ../../data/dogs-vs-wolves.zip -d ../../data/dogs-vs-wolves"
   ]
  },
  {
   "cell_type": "code",
   "execution_count": 3,
   "metadata": {},
   "outputs": [],
   "source": [
    "import tensorflow as tf\n",
    "import tensorboard as tb\n",
    "tf.io.gfile = tb.compat.tensorflow_stub.io.gfile # TF temporal bugfix"
   ]
  },
  {
   "cell_type": "code",
   "execution_count": 4,
   "metadata": {},
   "outputs": [],
   "source": [
    "%load_ext tensorboard"
   ]
  },
  {
   "cell_type": "markdown",
   "metadata": {},
   "source": [
    "## Imports"
   ]
  },
  {
   "cell_type": "code",
   "execution_count": 5,
   "metadata": {},
   "outputs": [],
   "source": [
    "import os\n",
    "\n",
    "# Torch #\n",
    "import torch\n",
    "from torch import nn, optim\n",
    "from torch.utils.data import DataLoader \n",
    "\n",
    "# Torchvision #\n",
    "from torchvision import datasets, transforms, models\n",
    "\n",
    "# Torchero #\n",
    "import torchero\n",
    "from torchero import SupervisedTrainer # Training the model\n",
    "from torchero.callbacks.tensorboard import TensorBoardLogger\n",
    "from torchero.callbacks import ProgbarLogger # Model supervising\n",
    "from torchero.utils.data import train_test_split\n",
    "from torchero.utils import show_imagegrid_dataset\n",
    "from torchero.utils.tensorboard import SummaryWriter, write_imagegrid_dataset, write_model\n",
    "from matplotlib import pyplot as plt"
   ]
  },
  {
   "cell_type": "code",
   "execution_count": 6,
   "metadata": {},
   "outputs": [],
   "source": [
    "train_writer = SummaryWriter('runs/Dogs vs Wolves/Train')\n",
    "val_writer = SummaryWriter('runs/Dogs vs Wolves/Test')"
   ]
  },
  {
   "cell_type": "markdown",
   "metadata": {},
   "source": [
    "## Training dataset"
   ]
  },
  {
   "cell_type": "code",
   "execution_count": 7,
   "metadata": {},
   "outputs": [],
   "source": [
    "transform = transforms.Compose([transforms.Resize((224, 224)),\n",
    "                                transforms.ToTensor()])"
   ]
  },
  {
   "cell_type": "code",
   "execution_count": 8,
   "metadata": {},
   "outputs": [],
   "source": [
    "dataset = datasets.ImageFolder(root='../../data/dogs-vs-wolves/data', transform=transform)"
   ]
  },
  {
   "cell_type": "code",
   "execution_count": 9,
   "metadata": {},
   "outputs": [],
   "source": [
    "train_ds, val_ds = train_test_split(dataset)"
   ]
  },
  {
   "cell_type": "code",
   "execution_count": 10,
   "metadata": {},
   "outputs": [],
   "source": [
    "write_imagegrid_dataset(train_writer, 'Dataset', train_ds)"
   ]
  },
  {
   "cell_type": "code",
   "execution_count": 33,
   "metadata": {},
   "outputs": [
    {
     "data": {
      "text/html": [
       "\n",
       "      <iframe id=\"tensorboard-frame-73d2768fc012304b\" width=\"100%\" height=\"800\" frameborder=\"0\">\n",
       "      </iframe>\n",
       "      <script>\n",
       "        (function() {\n",
       "          const frame = document.getElementById(\"tensorboard-frame-73d2768fc012304b\");\n",
       "          const url = new URL(\"/\", window.location);\n",
       "          url.port = 6006;\n",
       "          frame.src = url;\n",
       "        })();\n",
       "      </script>\n",
       "  "
      ],
      "text/plain": [
       "<IPython.core.display.HTML object>"
      ]
     },
     "metadata": {},
     "output_type": "display_data"
    }
   ],
   "source": [
    "%tensorboard --logdir runs/"
   ]
  },
  {
   "cell_type": "markdown",
   "metadata": {},
   "source": [
    "### Test dataset"
   ]
  },
  {
   "cell_type": "code",
   "execution_count": 12,
   "metadata": {},
   "outputs": [],
   "source": [
    "write_imagegrid_dataset(val_writer, 'Dataset', val_ds)"
   ]
  },
  {
   "cell_type": "markdown",
   "metadata": {},
   "source": [
    "### DataLoader"
   ]
  },
  {
   "cell_type": "code",
   "execution_count": 13,
   "metadata": {},
   "outputs": [],
   "source": [
    "train_dl = DataLoader(train_ds, batch_size=10, num_workers=6, shuffle=True)\n",
    "val_dl = DataLoader(val_ds, batch_size=10, num_workers=6)"
   ]
  },
  {
   "cell_type": "markdown",
   "metadata": {},
   "source": [
    "## Define model"
   ]
  },
  {
   "cell_type": "code",
   "execution_count": 14,
   "metadata": {},
   "outputs": [],
   "source": [
    "class Network(nn.Module):\n",
    "    def __init__(self):\n",
    "        super(Network, self).__init__()\n",
    "        self.model = models.resnet18(pretrained=True)\n",
    "        self.model.fc = nn.Linear(self.model.fc.weight.shape[-1], 1)\n",
    "    \n",
    "    def forward(self, x):\n",
    "        x = self.model(x)\n",
    "        x = x.squeeze()\n",
    "        return x"
   ]
  },
  {
   "cell_type": "code",
   "execution_count": 15,
   "metadata": {},
   "outputs": [],
   "source": [
    "model = Network()"
   ]
  },
  {
   "cell_type": "code",
   "execution_count": 16,
   "metadata": {},
   "outputs": [],
   "source": [
    "write_model(train_writer, model, next(iter(train_dl))[0])"
   ]
  },
  {
   "cell_type": "markdown",
   "metadata": {},
   "source": [
    "for param_group in trainer.optimizer.param_groups:\n",
    "    print(param_group[\"lr\"])"
   ]
  },
  {
   "cell_type": "markdown",
   "metadata": {},
   "source": [
    "## Train model"
   ]
  },
  {
   "cell_type": "code",
   "execution_count": 17,
   "metadata": {},
   "outputs": [],
   "source": [
    "trainer = SupervisedTrainer(model=model,\n",
    "                            logging_frecuency=10,\n",
    "                            optimizer='adam',\n",
    "                            criterion='binary_cross_entropy_wl',\n",
    "                            acc_meters=['recall_wl', 'precision_wl', 'binary_with_logits_accuracy', 'f1_wl'],\n",
    "                            callbacks=[ProgbarLogger(notebook=True), TensorBoardLogger(train_writer, test_writer=val_writer)])"
   ]
  },
  {
   "cell_type": "code",
   "execution_count": 18,
   "metadata": {},
   "outputs": [],
   "source": [
    "trainer.cuda()"
   ]
  },
  {
   "cell_type": "code",
   "execution_count": 19,
   "metadata": {},
   "outputs": [
    {
     "data": {
      "application/vnd.jupyter.widget-view+json": {
       "model_id": "fc488a4e4fde46219096aad544f746b9",
       "version_major": 2,
       "version_minor": 0
      },
      "text/plain": [
       "HBox(children=(FloatProgress(value=0.0, max=10.0), HTML(value='')))"
      ]
     },
     "metadata": {},
     "output_type": "display_data"
    },
    {
     "data": {
      "application/vnd.jupyter.widget-view+json": {
       "model_id": "0fdb7ca60d3c46f7a5e2b4e2cf1c5576",
       "version_major": 2,
       "version_minor": 0
      },
      "text/plain": [
       "HBox(children=(FloatProgress(value=0.0, max=160.0), HTML(value='')))"
      ]
     },
     "metadata": {},
     "output_type": "display_data"
    },
    {
     "data": {
      "application/vnd.jupyter.widget-view+json": {
       "model_id": "5f00af0777b248409ba6c530104d859a",
       "version_major": 2,
       "version_minor": 0
      },
      "text/plain": [
       "HBox(children=(FloatProgress(value=0.0, max=160.0), HTML(value='')))"
      ]
     },
     "metadata": {},
     "output_type": "display_data"
    },
    {
     "data": {
      "application/vnd.jupyter.widget-view+json": {
       "model_id": "06653056ae8a459e99f26afdef7d8f33",
       "version_major": 2,
       "version_minor": 0
      },
      "text/plain": [
       "HBox(children=(FloatProgress(value=0.0, max=160.0), HTML(value='')))"
      ]
     },
     "metadata": {},
     "output_type": "display_data"
    },
    {
     "data": {
      "application/vnd.jupyter.widget-view+json": {
       "model_id": "8e60d912ee91417b8e9f45c2da3e63de",
       "version_major": 2,
       "version_minor": 0
      },
      "text/plain": [
       "HBox(children=(FloatProgress(value=0.0, max=160.0), HTML(value='')))"
      ]
     },
     "metadata": {},
     "output_type": "display_data"
    },
    {
     "data": {
      "application/vnd.jupyter.widget-view+json": {
       "model_id": "d342d3e7b9de4178bf7502faff380899",
       "version_major": 2,
       "version_minor": 0
      },
      "text/plain": [
       "HBox(children=(FloatProgress(value=0.0, max=160.0), HTML(value='')))"
      ]
     },
     "metadata": {},
     "output_type": "display_data"
    },
    {
     "data": {
      "application/vnd.jupyter.widget-view+json": {
       "model_id": "5e94f299241240ab97251d96b7342f87",
       "version_major": 2,
       "version_minor": 0
      },
      "text/plain": [
       "HBox(children=(FloatProgress(value=0.0, max=160.0), HTML(value='')))"
      ]
     },
     "metadata": {},
     "output_type": "display_data"
    },
    {
     "data": {
      "application/vnd.jupyter.widget-view+json": {
       "model_id": "fed85a88656643cdb054c660c258d118",
       "version_major": 2,
       "version_minor": 0
      },
      "text/plain": [
       "HBox(children=(FloatProgress(value=0.0, max=160.0), HTML(value='')))"
      ]
     },
     "metadata": {},
     "output_type": "display_data"
    },
    {
     "data": {
      "application/vnd.jupyter.widget-view+json": {
       "model_id": "2e607b4ddd5043d8891f11398fd6e543",
       "version_major": 2,
       "version_minor": 0
      },
      "text/plain": [
       "HBox(children=(FloatProgress(value=0.0, max=160.0), HTML(value='')))"
      ]
     },
     "metadata": {},
     "output_type": "display_data"
    },
    {
     "data": {
      "application/vnd.jupyter.widget-view+json": {
       "model_id": "079989bf13324ced9f0d821e1ad60721",
       "version_major": 2,
       "version_minor": 0
      },
      "text/plain": [
       "HBox(children=(FloatProgress(value=0.0, max=160.0), HTML(value='')))"
      ]
     },
     "metadata": {},
     "output_type": "display_data"
    },
    {
     "data": {
      "application/vnd.jupyter.widget-view+json": {
       "model_id": "066ebdac675041ee852fda67699d10b9",
       "version_major": 2,
       "version_minor": 0
      },
      "text/plain": [
       "HBox(children=(FloatProgress(value=0.0, max=160.0), HTML(value='')))"
      ]
     },
     "metadata": {},
     "output_type": "display_data"
    },
    {
     "name": "stdout",
     "output_type": "stream",
     "text": [
      "\n",
      "\n",
      "\n",
      "\n",
      "\n",
      "\n",
      "\n",
      "\n",
      "\n",
      "\n",
      "\n"
     ]
    }
   ],
   "source": [
    "trainer.train(train_dl, val_dl, epochs=10)"
   ]
  },
  {
   "cell_type": "markdown",
   "metadata": {},
   "source": [
    "### Writting Embeddings to Projector"
   ]
  },
  {
   "cell_type": "code",
   "execution_count": 20,
   "metadata": {},
   "outputs": [],
   "source": [
    "summary_writer = SummaryWriter('runs/Dogs vs Wolves')"
   ]
  },
  {
   "cell_type": "code",
   "execution_count": 21,
   "metadata": {},
   "outputs": [],
   "source": [
    "class Identity(nn.Module):\n",
    "    def forward(self, x):\n",
    "        return x"
   ]
  },
  {
   "cell_type": "code",
   "execution_count": 22,
   "metadata": {},
   "outputs": [],
   "source": [
    "fc = model.model.fc.cpu()"
   ]
  },
  {
   "cell_type": "code",
   "execution_count": 23,
   "metadata": {},
   "outputs": [],
   "source": [
    "model.model.fc = Identity()"
   ]
  },
  {
   "cell_type": "code",
   "execution_count": 24,
   "metadata": {},
   "outputs": [],
   "source": [
    "from itertools import islice\n",
    "import numpy as np"
   ]
  },
  {
   "cell_type": "code",
   "execution_count": 25,
   "metadata": {},
   "outputs": [],
   "source": [
    "trainer.cpu()"
   ]
  },
  {
   "cell_type": "code",
   "execution_count": 26,
   "metadata": {},
   "outputs": [
    {
     "name": "stderr",
     "output_type": "stream",
     "text": [
      "/usr/lib/python3.8/site-packages/torch/nn/functional.py:1569: UserWarning: nn.functional.sigmoid is deprecated. Use torch.sigmoid instead.\n",
      "  warnings.warn(\"nn.functional.sigmoid is deprecated. Use torch.sigmoid instead.\")\n"
     ]
    }
   ],
   "source": [
    "total_classes = []\n",
    "embeddings = []\n",
    "total_images = []\n",
    "total_probas = []\n",
    "transform = transforms.Compose([transforms.ToPILImage(), transforms.Resize((64, 64)), transforms.ToTensor()])\n",
    "modes = []\n",
    "\n",
    "dl = DataLoader(train_ds, batch_size=10, shuffle=True)\n",
    "\n",
    "for ims, classes in islice(dl, 10):\n",
    "    ims, classes = next(iter(dl))\n",
    "    embs = model(ims)\n",
    "    probas = torch.nn.functional.sigmoid(fc(embs)).squeeze(-1)\n",
    "    total_probas.extend(probas)\n",
    "    embeddings.append(embs)\n",
    "    total_images.extend(transform(im) for im in ims)\n",
    "    total_classes.extend(classes)\n",
    "    modes.extend(['train']*len(classes))\n",
    "    \n",
    "dl = DataLoader(val_ds, batch_size=10, shuffle=True)\n",
    "\n",
    "for ims, classes in islice(dl, 10):\n",
    "    ims, classes = next(iter(dl))\n",
    "    embs = model(ims)\n",
    "    probas = torch.nn.functional.sigmoid(fc(embs)).squeeze(-1)\n",
    "    total_probas.extend(probas)\n",
    "    embeddings.append(embs)\n",
    "    total_images.extend(transform(im) for im in ims)\n",
    "    total_classes.extend(classes)\n",
    "    modes.extend(['test']*len(classes))"
   ]
  },
  {
   "cell_type": "code",
   "execution_count": 28,
   "metadata": {},
   "outputs": [],
   "source": [
    "classes = np.array(dataset.classes)\n",
    "embeddings = torch.stack(embeddings, 0)\n",
    "embeddings = embeddings.reshape(-1, 512)\n",
    "\n",
    "total_images = torch.stack(total_images, 0)\n",
    "total_classes = classes[torch.stack(total_classes)]\n",
    "total_probas = torch.stack(total_probas)\n",
    "predicted_classes = classes[(total_probas > 0.5).int()]\n",
    "\n",
    "failed = np.where(total_classes == predicted_classes, 'ok', 'fail')"
   ]
  },
  {
   "cell_type": "code",
   "execution_count": 29,
   "metadata": {},
   "outputs": [],
   "source": [
    "summary_writer.add_embedding(embeddings.cpu(),\n",
    "                             metadata=list(zip(total_classes, modes, predicted_classes, total_probas, failed)),\n",
    "                             label_img=total_images,\n",
    "                             global_step=0,\n",
    "                             tag='embeddings',\n",
    "                             metadata_header=['label', 'mode', 'predicted_class', 'proba', 'correct'])"
   ]
  },
  {
   "cell_type": "code",
   "execution_count": 30,
   "metadata": {},
   "outputs": [],
   "source": [
    "summary_writer.flush()"
   ]
  },
  {
   "cell_type": "code",
   "execution_count": 31,
   "metadata": {},
   "outputs": [],
   "source": [
    "summary_writer.close()"
   ]
  }
 ],
 "metadata": {
  "kernelspec": {
   "display_name": "Python 3",
   "language": "python",
   "name": "python3"
  },
  "language_info": {
   "codemirror_mode": {
    "name": "ipython",
    "version": 3
   },
   "file_extension": ".py",
   "mimetype": "text/x-python",
   "name": "python",
   "nbconvert_exporter": "python",
   "pygments_lexer": "ipython3",
   "version": "3.8.3"
  },
  "widgets": {
   "application/vnd.jupyter.widget-state+json": {
    "state": {
     "04672e603f994558bf44cee20bf3e72b": {
      "model_module": "@jupyter-widgets/controls",
      "model_module_version": "1.5.0",
      "model_name": "HTMLModel",
      "state": {
       "layout": "IPY_MODEL_dae1b7e1e70b49eb8bd369a06e59bf16",
       "style": "IPY_MODEL_55b4cf51233a4651a98a5279a94f3bc8",
       "value": " 160/160 [00:07&lt;00:00, 20.89 batchs/s, train_acc=0.920, train_f1=0.935, train_loss=0.261, train_precision=0.983, train_recall=0.892, val_acc=0.800, val_f1=0.833, val_loss=0.524, val_precision=0.743, val_recall=0.948]"
      }
     },
     "05894414aec7484997cd863e3fdeaf39": {
      "model_module": "@jupyter-widgets/base",
      "model_module_version": "1.2.0",
      "model_name": "LayoutModel",
      "state": {}
     },
     "06653056ae8a459e99f26afdef7d8f33": {
      "model_module": "@jupyter-widgets/controls",
      "model_module_version": "1.5.0",
      "model_name": "HBoxModel",
      "state": {
       "children": [
        "IPY_MODEL_2787c231b310493b8650e9aadd52421a",
        "IPY_MODEL_1018320176384d428e22189c249e1abf"
       ],
       "layout": "IPY_MODEL_f3ed14cd072e43589b3f0369e7dea085"
      }
     },
     "066ebdac675041ee852fda67699d10b9": {
      "model_module": "@jupyter-widgets/controls",
      "model_module_version": "1.5.0",
      "model_name": "HBoxModel",
      "state": {
       "children": [
        "IPY_MODEL_c3e75bf4d1ab4029a5099f7201900e11",
        "IPY_MODEL_04672e603f994558bf44cee20bf3e72b"
       ],
       "layout": "IPY_MODEL_c4f5222e4e4049cba493099e3562e5fd"
      }
     },
     "079989bf13324ced9f0d821e1ad60721": {
      "model_module": "@jupyter-widgets/controls",
      "model_module_version": "1.5.0",
      "model_name": "HBoxModel",
      "state": {
       "children": [
        "IPY_MODEL_62e2875a9aed4d07be887e5acac53eaa",
        "IPY_MODEL_f264ef55638c4f80981d48ff37bb6a66"
       ],
       "layout": "IPY_MODEL_856c77da53a740cf8ba554e9a7c11295"
      }
     },
     "08ae1bfae60043aeacd64ea8442a0eaf": {
      "model_module": "@jupyter-widgets/controls",
      "model_module_version": "1.5.0",
      "model_name": "HTMLModel",
      "state": {
       "layout": "IPY_MODEL_4fe06f1b95e74e109fbf46dd2ca469d6",
       "style": "IPY_MODEL_1d314deb9a0343abbd8da546e8ec4d94",
       "value": " 160/160 [00:31&lt;00:00,  5.15 batchs/s, train_acc=0.910, train_f1=0.929, train_loss=0.190, train_precision=0.979, train_recall=0.885, val_acc=0.815, val_f1=0.747, val_loss=0.647, val_precision=0.952, val_recall=0.615]"
      }
     },
     "0a7bfa4a0da14d40a1b28b9e0f67191c": {
      "model_module": "@jupyter-widgets/base",
      "model_module_version": "1.2.0",
      "model_name": "LayoutModel",
      "state": {}
     },
     "0fdb7ca60d3c46f7a5e2b4e2cf1c5576": {
      "model_module": "@jupyter-widgets/controls",
      "model_module_version": "1.5.0",
      "model_name": "HBoxModel",
      "state": {
       "children": [
        "IPY_MODEL_2d0135b79e5840419948f31f659d8f50",
        "IPY_MODEL_adf649e8b86f48878f891b6e6957b799"
       ],
       "layout": "IPY_MODEL_6da02b75a88b46d783f2b63d7351ac03"
      }
     },
     "1018320176384d428e22189c249e1abf": {
      "model_module": "@jupyter-widgets/controls",
      "model_module_version": "1.5.0",
      "model_name": "HTMLModel",
      "state": {
       "layout": "IPY_MODEL_6653484246fd402096c008bc225682ae",
       "style": "IPY_MODEL_36d997500e98467eb5f448203adbab6d",
       "value": " 160/160 [01:02&lt;00:00,  2.55 batchs/s, train_acc=0.920, train_f1=0.891, train_loss=0.298, train_precision=0.932, train_recall=0.854, val_acc=0.855, val_f1=0.824, val_loss=0.348, val_precision=0.923, val_recall=0.745]"
      }
     },
     "1d314deb9a0343abbd8da546e8ec4d94": {
      "model_module": "@jupyter-widgets/controls",
      "model_module_version": "1.5.0",
      "model_name": "DescriptionStyleModel",
      "state": {
       "description_width": ""
      }
     },
     "1f5f2fe92faf43a8824855a3b42a3e8d": {
      "model_module": "@jupyter-widgets/controls",
      "model_module_version": "1.5.0",
      "model_name": "FloatProgressModel",
      "state": {
       "bar_style": "success",
       "description": "100%",
       "layout": "IPY_MODEL_764dcce752114e148b6aa60e7276581e",
       "max": 160,
       "style": "IPY_MODEL_e38645ee71e5436c8db67f1a6136b64c",
       "value": 160
      }
     },
     "2787c231b310493b8650e9aadd52421a": {
      "model_module": "@jupyter-widgets/controls",
      "model_module_version": "1.5.0",
      "model_name": "FloatProgressModel",
      "state": {
       "bar_style": "success",
       "description": "100%",
       "layout": "IPY_MODEL_05894414aec7484997cd863e3fdeaf39",
       "max": 160,
       "style": "IPY_MODEL_d7b6760dce824a82957934a4146c8522",
       "value": 160
      }
     },
     "2d0135b79e5840419948f31f659d8f50": {
      "model_module": "@jupyter-widgets/controls",
      "model_module_version": "1.5.0",
      "model_name": "FloatProgressModel",
      "state": {
       "bar_style": "success",
       "description": "100%",
       "layout": "IPY_MODEL_e02d3c0d45004aeb8ec0e46228017ad9",
       "max": 160,
       "style": "IPY_MODEL_d2635d36ed534e8f8149de725e62d84a",
       "value": 160
      }
     },
     "2e607b4ddd5043d8891f11398fd6e543": {
      "model_module": "@jupyter-widgets/controls",
      "model_module_version": "1.5.0",
      "model_name": "HBoxModel",
      "state": {
       "children": [
        "IPY_MODEL_83854bdcd483484fb8e0e740f2082785",
        "IPY_MODEL_40019b7a52a740488886fd7f21c70db6"
       ],
       "layout": "IPY_MODEL_63e8c35c40d54958bad15394045cb2c0"
      }
     },
     "32e4e5fcb9fa48d7af0e57b30605573f": {
      "model_module": "@jupyter-widgets/controls",
      "model_module_version": "1.5.0",
      "model_name": "ProgressStyleModel",
      "state": {
       "description_width": "initial"
      }
     },
     "36d997500e98467eb5f448203adbab6d": {
      "model_module": "@jupyter-widgets/controls",
      "model_module_version": "1.5.0",
      "model_name": "DescriptionStyleModel",
      "state": {
       "description_width": ""
      }
     },
     "39ef4be2a331495897c176657c3777ad": {
      "model_module": "@jupyter-widgets/base",
      "model_module_version": "1.2.0",
      "model_name": "LayoutModel",
      "state": {}
     },
     "40019b7a52a740488886fd7f21c70db6": {
      "model_module": "@jupyter-widgets/controls",
      "model_module_version": "1.5.0",
      "model_name": "HTMLModel",
      "state": {
       "layout": "IPY_MODEL_d427b937b71b45aa8e5dccdef1cd7d8b",
       "style": "IPY_MODEL_b4eb2514bf444763858400bb06cf7b8c",
       "value": " 160/160 [00:23&lt;00:00,  6.90 batchs/s, train_acc=0.900, train_f1=0.857, train_loss=0.247, train_precision=0.975, train_recall=0.765, val_acc=0.857, val_f1=0.776, val_loss=0.414, val_precision=0.984, val_recall=0.641]"
      }
     },
     "4339ef80f0c546b3808e2d34c7ca7661": {
      "model_module": "@jupyter-widgets/controls",
      "model_module_version": "1.5.0",
      "model_name": "HTMLModel",
      "state": {
       "layout": "IPY_MODEL_959fbfe514db491298ad0190eb0bfdbe",
       "style": "IPY_MODEL_f3f0773107cb42f59724a15e0ea644ae",
       "value": " 160/160 [00:54&lt;00:00,  2.91 batchs/s, train_acc=0.850, train_f1=0.887, train_loss=0.313, train_precision=0.922, train_recall=0.855, val_acc=0.782, val_f1=0.851, val_loss=0.480, val_precision=0.761, val_recall=0.964]"
      }
     },
     "4b62e2ac54374fa8b8709d3515d55af7": {
      "model_module": "@jupyter-widgets/base",
      "model_module_version": "1.2.0",
      "model_name": "LayoutModel",
      "state": {}
     },
     "4c15714bd40a479496a6444ffc0eec91": {
      "model_module": "@jupyter-widgets/base",
      "model_module_version": "1.2.0",
      "model_name": "LayoutModel",
      "state": {}
     },
     "4e116b9a3ade4bd68a41d60cf6a4cbc1": {
      "model_module": "@jupyter-widgets/controls",
      "model_module_version": "1.5.0",
      "model_name": "ProgressStyleModel",
      "state": {
       "description_width": "initial"
      }
     },
     "4fe06f1b95e74e109fbf46dd2ca469d6": {
      "model_module": "@jupyter-widgets/base",
      "model_module_version": "1.2.0",
      "model_name": "LayoutModel",
      "state": {}
     },
     "55b4cf51233a4651a98a5279a94f3bc8": {
      "model_module": "@jupyter-widgets/controls",
      "model_module_version": "1.5.0",
      "model_name": "DescriptionStyleModel",
      "state": {
       "description_width": ""
      }
     },
     "590d0e53453a42ab9cb9d27f000e8d7d": {
      "model_module": "@jupyter-widgets/base",
      "model_module_version": "1.2.0",
      "model_name": "LayoutModel",
      "state": {}
     },
     "5c7d4c6a9ff4433d8b7a9dda65a2a3d9": {
      "model_module": "@jupyter-widgets/base",
      "model_module_version": "1.2.0",
      "model_name": "LayoutModel",
      "state": {}
     },
     "5e94f299241240ab97251d96b7342f87": {
      "model_module": "@jupyter-widgets/controls",
      "model_module_version": "1.5.0",
      "model_name": "HBoxModel",
      "state": {
       "children": [
        "IPY_MODEL_951bbdd8f43248eca3315f014bf2b7f9",
        "IPY_MODEL_ae59b133012a4f578be0903c07fa7a63"
       ],
       "layout": "IPY_MODEL_0a7bfa4a0da14d40a1b28b9e0f67191c"
      }
     },
     "5f00af0777b248409ba6c530104d859a": {
      "model_module": "@jupyter-widgets/controls",
      "model_module_version": "1.5.0",
      "model_name": "HBoxModel",
      "state": {
       "children": [
        "IPY_MODEL_bc84ff68e3874c4ab24eeca0f8c4aa67",
        "IPY_MODEL_db7930cde8224c1d8a1d0424f2db5222"
       ],
       "layout": "IPY_MODEL_e98f973f720b428da79520ef946d2d7f"
      }
     },
     "62e2875a9aed4d07be887e5acac53eaa": {
      "model_module": "@jupyter-widgets/controls",
      "model_module_version": "1.5.0",
      "model_name": "FloatProgressModel",
      "state": {
       "bar_style": "success",
       "description": "100%",
       "layout": "IPY_MODEL_fb57cc54d24a4556a96b4768d02ab1c7",
       "max": 160,
       "style": "IPY_MODEL_32e4e5fcb9fa48d7af0e57b30605573f",
       "value": 160
      }
     },
     "63e8c35c40d54958bad15394045cb2c0": {
      "model_module": "@jupyter-widgets/base",
      "model_module_version": "1.2.0",
      "model_name": "LayoutModel",
      "state": {}
     },
     "6653484246fd402096c008bc225682ae": {
      "model_module": "@jupyter-widgets/base",
      "model_module_version": "1.2.0",
      "model_name": "LayoutModel",
      "state": {}
     },
     "66a80a57e9b248e7bdd03943a44c72b9": {
      "model_module": "@jupyter-widgets/base",
      "model_module_version": "1.2.0",
      "model_name": "LayoutModel",
      "state": {}
     },
     "6b3014b557bd4d5dacee45ccfe7480df": {
      "model_module": "@jupyter-widgets/controls",
      "model_module_version": "1.5.0",
      "model_name": "FloatProgressModel",
      "state": {
       "bar_style": "success",
       "description": "100%",
       "layout": "IPY_MODEL_66a80a57e9b248e7bdd03943a44c72b9",
       "max": 160,
       "style": "IPY_MODEL_b5b3a268e77942bd8c1316058d248a45",
       "value": 160
      }
     },
     "6da02b75a88b46d783f2b63d7351ac03": {
      "model_module": "@jupyter-widgets/base",
      "model_module_version": "1.2.0",
      "model_name": "LayoutModel",
      "state": {}
     },
     "73016f98d690404cad9fdfd3ba666e51": {
      "model_module": "@jupyter-widgets/controls",
      "model_module_version": "1.5.0",
      "model_name": "DescriptionStyleModel",
      "state": {
       "description_width": ""
      }
     },
     "7554ad39206644da8c7e5f15353310b4": {
      "model_module": "@jupyter-widgets/base",
      "model_module_version": "1.2.0",
      "model_name": "LayoutModel",
      "state": {}
     },
     "764bcfe037cc4eb7bebef1bc24f088f4": {
      "model_module": "@jupyter-widgets/base",
      "model_module_version": "1.2.0",
      "model_name": "LayoutModel",
      "state": {}
     },
     "764dcce752114e148b6aa60e7276581e": {
      "model_module": "@jupyter-widgets/base",
      "model_module_version": "1.2.0",
      "model_name": "LayoutModel",
      "state": {}
     },
     "8066c870b75e4e42a81577fc6f428450": {
      "model_module": "@jupyter-widgets/base",
      "model_module_version": "1.2.0",
      "model_name": "LayoutModel",
      "state": {}
     },
     "837fba5e5b88471a9b147c0eb2ef32ea": {
      "model_module": "@jupyter-widgets/base",
      "model_module_version": "1.2.0",
      "model_name": "LayoutModel",
      "state": {}
     },
     "83854bdcd483484fb8e0e740f2082785": {
      "model_module": "@jupyter-widgets/controls",
      "model_module_version": "1.5.0",
      "model_name": "FloatProgressModel",
      "state": {
       "bar_style": "success",
       "description": "100%",
       "layout": "IPY_MODEL_8066c870b75e4e42a81577fc6f428450",
       "max": 160,
       "style": "IPY_MODEL_f4c0173bc2a24f34a5fc668338c5cb2a",
       "value": 160
      }
     },
     "856c77da53a740cf8ba554e9a7c11295": {
      "model_module": "@jupyter-widgets/base",
      "model_module_version": "1.2.0",
      "model_name": "LayoutModel",
      "state": {}
     },
     "8e60d912ee91417b8e9f45c2da3e63de": {
      "model_module": "@jupyter-widgets/controls",
      "model_module_version": "1.5.0",
      "model_name": "HBoxModel",
      "state": {
       "children": [
        "IPY_MODEL_6b3014b557bd4d5dacee45ccfe7480df",
        "IPY_MODEL_4339ef80f0c546b3808e2d34c7ca7661"
       ],
       "layout": "IPY_MODEL_4b62e2ac54374fa8b8709d3515d55af7"
      }
     },
     "900ddb8775904a08a68d534fac2af27c": {
      "model_module": "@jupyter-widgets/controls",
      "model_module_version": "1.5.0",
      "model_name": "HTMLModel",
      "state": {
       "layout": "IPY_MODEL_c156ca877fd14dfdb454c4926556fef3",
       "style": "IPY_MODEL_abe5b09a30ea45c9a145f3a89b060a85",
       "value": " 10/10 [01:19&lt;00:00,  7.95s/epoch]"
      }
     },
     "951bbdd8f43248eca3315f014bf2b7f9": {
      "model_module": "@jupyter-widgets/controls",
      "model_module_version": "1.5.0",
      "model_name": "FloatProgressModel",
      "state": {
       "bar_style": "success",
       "description": "100%",
       "layout": "IPY_MODEL_837fba5e5b88471a9b147c0eb2ef32ea",
       "max": 160,
       "style": "IPY_MODEL_4e116b9a3ade4bd68a41d60cf6a4cbc1",
       "value": 160
      }
     },
     "956a392c3b264fcf85911a47f31ae300": {
      "model_module": "@jupyter-widgets/controls",
      "model_module_version": "1.5.0",
      "model_name": "FloatProgressModel",
      "state": {
       "bar_style": "success",
       "description": "100%",
       "layout": "IPY_MODEL_4c15714bd40a479496a6444ffc0eec91",
       "max": 10,
       "style": "IPY_MODEL_d9d44f2403df44069d172227db92e20d",
       "value": 10
      }
     },
     "959fbfe514db491298ad0190eb0bfdbe": {
      "model_module": "@jupyter-widgets/base",
      "model_module_version": "1.2.0",
      "model_name": "LayoutModel",
      "state": {}
     },
     "97395288fa71409a82ce1b30c2a3e756": {
      "model_module": "@jupyter-widgets/controls",
      "model_module_version": "1.5.0",
      "model_name": "FloatProgressModel",
      "state": {
       "bar_style": "success",
       "description": "100%",
       "layout": "IPY_MODEL_afb722de319442be86a8fe303d1022dd",
       "max": 160,
       "style": "IPY_MODEL_d4928dfa0b44492a84dcc18a3ef48088",
       "value": 160
      }
     },
     "999da692ae0446368c1ddfb3bcc62b24": {
      "model_module": "@jupyter-widgets/controls",
      "model_module_version": "1.5.0",
      "model_name": "HTMLModel",
      "state": {
       "layout": "IPY_MODEL_7554ad39206644da8c7e5f15353310b4",
       "style": "IPY_MODEL_fdd8d7bbdb894fc4b2be15d363b650f8",
       "value": " 160/160 [00:46&lt;00:00,  3.41 batchs/s, train_acc=0.850, train_f1=0.824, train_loss=0.541, train_precision=0.894, train_recall=0.764, val_acc=0.845, val_f1=0.875, val_loss=0.302, val_precision=0.828, val_recall=0.927]"
      }
     },
     "a41010b5dac24f19b6fc00b68bcc7f66": {
      "model_module": "@jupyter-widgets/base",
      "model_module_version": "1.2.0",
      "model_name": "LayoutModel",
      "state": {}
     },
     "abe5b09a30ea45c9a145f3a89b060a85": {
      "model_module": "@jupyter-widgets/controls",
      "model_module_version": "1.5.0",
      "model_name": "DescriptionStyleModel",
      "state": {
       "description_width": ""
      }
     },
     "adf649e8b86f48878f891b6e6957b799": {
      "model_module": "@jupyter-widgets/controls",
      "model_module_version": "1.5.0",
      "model_name": "HTMLModel",
      "state": {
       "layout": "IPY_MODEL_39ef4be2a331495897c176657c3777ad",
       "style": "IPY_MODEL_aecfd88520c04e289d806535676c5642",
       "value": " 160/160 [01:19&lt;00:00,  2.01 batchs/s, train_acc=0.760, train_f1=0.776, train_loss=0.569, train_precision=0.733, train_recall=0.825, val_acc=0.695, val_f1=0.405, val_loss=0.616, val_precision=0.980, val_recall=0.255]"
      }
     },
     "ae59b133012a4f578be0903c07fa7a63": {
      "model_module": "@jupyter-widgets/controls",
      "model_module_version": "1.5.0",
      "model_name": "HTMLModel",
      "state": {
       "layout": "IPY_MODEL_b7c7228a88994833ae6e8b7cfa102132",
       "style": "IPY_MODEL_b6be875eabd641aa9d44da9531eb06de",
       "value": " 160/160 [00:38&lt;00:00,  4.11 batchs/s, train_acc=0.960, train_f1=0.950, train_loss=0.147, train_precision=0.950, train_recall=0.950, val_acc=0.890, val_f1=0.907, val_loss=0.272, val_precision=0.853, val_recall=0.969]"
      }
     },
     "aecfd88520c04e289d806535676c5642": {
      "model_module": "@jupyter-widgets/controls",
      "model_module_version": "1.5.0",
      "model_name": "DescriptionStyleModel",
      "state": {
       "description_width": ""
      }
     },
     "afb722de319442be86a8fe303d1022dd": {
      "model_module": "@jupyter-widgets/base",
      "model_module_version": "1.2.0",
      "model_name": "LayoutModel",
      "state": {}
     },
     "b30e084dbc5343d68a5079787b3d8df1": {
      "model_module": "@jupyter-widgets/base",
      "model_module_version": "1.2.0",
      "model_name": "LayoutModel",
      "state": {}
     },
     "b4eb2514bf444763858400bb06cf7b8c": {
      "model_module": "@jupyter-widgets/controls",
      "model_module_version": "1.5.0",
      "model_name": "DescriptionStyleModel",
      "state": {
       "description_width": ""
      }
     },
     "b5b3a268e77942bd8c1316058d248a45": {
      "model_module": "@jupyter-widgets/controls",
      "model_module_version": "1.5.0",
      "model_name": "ProgressStyleModel",
      "state": {
       "description_width": "initial"
      }
     },
     "b6be875eabd641aa9d44da9531eb06de": {
      "model_module": "@jupyter-widgets/controls",
      "model_module_version": "1.5.0",
      "model_name": "DescriptionStyleModel",
      "state": {
       "description_width": ""
      }
     },
     "b7c7228a88994833ae6e8b7cfa102132": {
      "model_module": "@jupyter-widgets/base",
      "model_module_version": "1.2.0",
      "model_name": "LayoutModel",
      "state": {}
     },
     "bc84ff68e3874c4ab24eeca0f8c4aa67": {
      "model_module": "@jupyter-widgets/controls",
      "model_module_version": "1.5.0",
      "model_name": "FloatProgressModel",
      "state": {
       "bar_style": "success",
       "description": "100%",
       "layout": "IPY_MODEL_5c7d4c6a9ff4433d8b7a9dda65a2a3d9",
       "max": 160,
       "style": "IPY_MODEL_ddc66ffc3d5f4eb5be6c866c64074b56",
       "value": 160
      }
     },
     "c156ca877fd14dfdb454c4926556fef3": {
      "model_module": "@jupyter-widgets/base",
      "model_module_version": "1.2.0",
      "model_name": "LayoutModel",
      "state": {}
     },
     "c38b622c467a43b4b8745bb195726320": {
      "model_module": "@jupyter-widgets/controls",
      "model_module_version": "1.5.0",
      "model_name": "DescriptionStyleModel",
      "state": {
       "description_width": ""
      }
     },
     "c3e75bf4d1ab4029a5099f7201900e11": {
      "model_module": "@jupyter-widgets/controls",
      "model_module_version": "1.5.0",
      "model_name": "FloatProgressModel",
      "state": {
       "bar_style": "success",
       "description": "100%",
       "layout": "IPY_MODEL_b30e084dbc5343d68a5079787b3d8df1",
       "max": 160,
       "style": "IPY_MODEL_d4cb20ed88d34f2a819b2d67b5f56e49",
       "value": 160
      }
     },
     "c4f5222e4e4049cba493099e3562e5fd": {
      "model_module": "@jupyter-widgets/base",
      "model_module_version": "1.2.0",
      "model_name": "LayoutModel",
      "state": {}
     },
     "cdfdd7d80776480fbf6e6a2d3a6cc6c9": {
      "model_module": "@jupyter-widgets/base",
      "model_module_version": "1.2.0",
      "model_name": "LayoutModel",
      "state": {}
     },
     "d2635d36ed534e8f8149de725e62d84a": {
      "model_module": "@jupyter-widgets/controls",
      "model_module_version": "1.5.0",
      "model_name": "ProgressStyleModel",
      "state": {
       "description_width": "initial"
      }
     },
     "d342d3e7b9de4178bf7502faff380899": {
      "model_module": "@jupyter-widgets/controls",
      "model_module_version": "1.5.0",
      "model_name": "HBoxModel",
      "state": {
       "children": [
        "IPY_MODEL_1f5f2fe92faf43a8824855a3b42a3e8d",
        "IPY_MODEL_999da692ae0446368c1ddfb3bcc62b24"
       ],
       "layout": "IPY_MODEL_cdfdd7d80776480fbf6e6a2d3a6cc6c9"
      }
     },
     "d427b937b71b45aa8e5dccdef1cd7d8b": {
      "model_module": "@jupyter-widgets/base",
      "model_module_version": "1.2.0",
      "model_name": "LayoutModel",
      "state": {}
     },
     "d4928dfa0b44492a84dcc18a3ef48088": {
      "model_module": "@jupyter-widgets/controls",
      "model_module_version": "1.5.0",
      "model_name": "ProgressStyleModel",
      "state": {
       "description_width": "initial"
      }
     },
     "d4cb20ed88d34f2a819b2d67b5f56e49": {
      "model_module": "@jupyter-widgets/controls",
      "model_module_version": "1.5.0",
      "model_name": "ProgressStyleModel",
      "state": {
       "description_width": "initial"
      }
     },
     "d7b6760dce824a82957934a4146c8522": {
      "model_module": "@jupyter-widgets/controls",
      "model_module_version": "1.5.0",
      "model_name": "ProgressStyleModel",
      "state": {
       "description_width": "initial"
      }
     },
     "d9d44f2403df44069d172227db92e20d": {
      "model_module": "@jupyter-widgets/controls",
      "model_module_version": "1.5.0",
      "model_name": "ProgressStyleModel",
      "state": {
       "description_width": "initial"
      }
     },
     "dae1b7e1e70b49eb8bd369a06e59bf16": {
      "model_module": "@jupyter-widgets/base",
      "model_module_version": "1.2.0",
      "model_name": "LayoutModel",
      "state": {}
     },
     "db7930cde8224c1d8a1d0424f2db5222": {
      "model_module": "@jupyter-widgets/controls",
      "model_module_version": "1.5.0",
      "model_name": "HTMLModel",
      "state": {
       "layout": "IPY_MODEL_590d0e53453a42ab9cb9d27f000e8d7d",
       "style": "IPY_MODEL_73016f98d690404cad9fdfd3ba666e51",
       "value": " 160/160 [01:10&lt;00:00,  2.26 batchs/s, train_acc=0.800, train_f1=0.795, train_loss=0.390, train_precision=0.763, train_recall=0.829, val_acc=0.845, val_f1=0.743, val_loss=0.404, val_precision=0.951, val_recall=0.609]"
      }
     },
     "ddc66ffc3d5f4eb5be6c866c64074b56": {
      "model_module": "@jupyter-widgets/controls",
      "model_module_version": "1.5.0",
      "model_name": "ProgressStyleModel",
      "state": {
       "description_width": "initial"
      }
     },
     "e02d3c0d45004aeb8ec0e46228017ad9": {
      "model_module": "@jupyter-widgets/base",
      "model_module_version": "1.2.0",
      "model_name": "LayoutModel",
      "state": {}
     },
     "e38645ee71e5436c8db67f1a6136b64c": {
      "model_module": "@jupyter-widgets/controls",
      "model_module_version": "1.5.0",
      "model_name": "ProgressStyleModel",
      "state": {
       "description_width": "initial"
      }
     },
     "e89210ea14a9493995c247055f3311fa": {
      "model_module": "@jupyter-widgets/base",
      "model_module_version": "1.2.0",
      "model_name": "LayoutModel",
      "state": {}
     },
     "e98f973f720b428da79520ef946d2d7f": {
      "model_module": "@jupyter-widgets/base",
      "model_module_version": "1.2.0",
      "model_name": "LayoutModel",
      "state": {}
     },
     "f264ef55638c4f80981d48ff37bb6a66": {
      "model_module": "@jupyter-widgets/controls",
      "model_module_version": "1.5.0",
      "model_name": "HTMLModel",
      "state": {
       "layout": "IPY_MODEL_a41010b5dac24f19b6fc00b68bcc7f66",
       "style": "IPY_MODEL_c38b622c467a43b4b8745bb195726320",
       "value": " 160/160 [00:15&lt;00:00, 10.37 batchs/s, train_acc=0.900, train_f1=0.875, train_loss=0.319, train_precision=0.913, train_recall=0.840, val_acc=0.865, val_f1=0.888, val_loss=0.371, val_precision=0.852, val_recall=0.927]"
      }
     },
     "f3ed14cd072e43589b3f0369e7dea085": {
      "model_module": "@jupyter-widgets/base",
      "model_module_version": "1.2.0",
      "model_name": "LayoutModel",
      "state": {}
     },
     "f3f0773107cb42f59724a15e0ea644ae": {
      "model_module": "@jupyter-widgets/controls",
      "model_module_version": "1.5.0",
      "model_name": "DescriptionStyleModel",
      "state": {
       "description_width": ""
      }
     },
     "f4c0173bc2a24f34a5fc668338c5cb2a": {
      "model_module": "@jupyter-widgets/controls",
      "model_module_version": "1.5.0",
      "model_name": "ProgressStyleModel",
      "state": {
       "description_width": "initial"
      }
     },
     "fb57cc54d24a4556a96b4768d02ab1c7": {
      "model_module": "@jupyter-widgets/base",
      "model_module_version": "1.2.0",
      "model_name": "LayoutModel",
      "state": {}
     },
     "fc488a4e4fde46219096aad544f746b9": {
      "model_module": "@jupyter-widgets/controls",
      "model_module_version": "1.5.0",
      "model_name": "HBoxModel",
      "state": {
       "children": [
        "IPY_MODEL_956a392c3b264fcf85911a47f31ae300",
        "IPY_MODEL_900ddb8775904a08a68d534fac2af27c"
       ],
       "layout": "IPY_MODEL_764bcfe037cc4eb7bebef1bc24f088f4"
      }
     },
     "fdd8d7bbdb894fc4b2be15d363b650f8": {
      "model_module": "@jupyter-widgets/controls",
      "model_module_version": "1.5.0",
      "model_name": "DescriptionStyleModel",
      "state": {
       "description_width": ""
      }
     },
     "fed85a88656643cdb054c660c258d118": {
      "model_module": "@jupyter-widgets/controls",
      "model_module_version": "1.5.0",
      "model_name": "HBoxModel",
      "state": {
       "children": [
        "IPY_MODEL_97395288fa71409a82ce1b30c2a3e756",
        "IPY_MODEL_08ae1bfae60043aeacd64ea8442a0eaf"
       ],
       "layout": "IPY_MODEL_e89210ea14a9493995c247055f3311fa"
      }
     }
    },
    "version_major": 2,
    "version_minor": 0
   }
  }
 },
 "nbformat": 4,
 "nbformat_minor": 4
}
