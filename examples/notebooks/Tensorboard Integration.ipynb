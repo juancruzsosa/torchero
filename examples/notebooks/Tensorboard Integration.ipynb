{
 "cells": [
  {
   "cell_type": "code",
   "execution_count": 1,
   "metadata": {},
   "outputs": [
    {
     "name": "stdout",
     "output_type": "stream",
     "text": [
      "dogs-vs-wolves.zip: Skipping, found more recently modified local copy (use --force to force download)\n"
     ]
    }
   ],
   "source": [
    "!kaggle datasets download -d  harishvutukuri/dogs-vs-wolves -p ../../data"
   ]
  },
  {
   "cell_type": "code",
   "execution_count": 2,
   "metadata": {},
   "outputs": [],
   "source": [
    "!unzip -q -u ../../data/dogs-vs-wolves.zip -d ../../data/dogs-vs-wolves"
   ]
  },
  {
   "cell_type": "code",
   "execution_count": 3,
   "metadata": {},
   "outputs": [],
   "source": [
    "import tensorflow as tf\n",
    "import tensorboard as tb\n",
    "tf.io.gfile = tb.compat.tensorflow_stub.io.gfile # TF temporal bugfix"
   ]
  },
  {
   "cell_type": "code",
   "execution_count": 4,
   "metadata": {},
   "outputs": [],
   "source": [
    "%load_ext tensorboard"
   ]
  },
  {
   "cell_type": "markdown",
   "metadata": {},
   "source": [
    "## Imports"
   ]
  },
  {
   "cell_type": "code",
   "execution_count": 5,
   "metadata": {},
   "outputs": [],
   "source": [
    "import os\n",
    "\n",
    "# Torch #\n",
    "import torch\n",
    "from torch import nn, optim\n",
    "from torch.utils.data import DataLoader \n",
    "\n",
    "# Torchvision #\n",
    "from torchvision import datasets, transforms, models\n",
    "\n",
    "# Torchero #\n",
    "import torchero\n",
    "from torchero import SupervisedTrainer # Training the model\n",
    "from torchero.callbacks.tensorboard import TensorBoardLogger\n",
    "from torchero.callbacks import ProgbarLogger # Model supervising\n",
    "from torchero.utils.data import train_test_split\n",
    "from torchero.utils import show_imagegrid_dataset\n",
    "from torchero.utils.tensorboard import SummaryWriter, write_imagegrid_dataset, write_model\n",
    "from matplotlib import pyplot as plt"
   ]
  },
  {
   "cell_type": "code",
   "execution_count": 10,
   "metadata": {},
   "outputs": [],
   "source": [
    "summary_writer = SummaryWriter('runs/Dogs vs Wolves')"
   ]
  },
  {
   "cell_type": "markdown",
   "metadata": {},
   "source": [
    "## Training dataset"
   ]
  },
  {
   "cell_type": "code",
   "execution_count": 7,
   "metadata": {},
   "outputs": [],
   "source": [
    "transform = transforms.Compose([transforms.Resize((224, 224)),\n",
    "                                transforms.ToTensor()])"
   ]
  },
  {
   "cell_type": "code",
   "execution_count": 8,
   "metadata": {},
   "outputs": [],
   "source": [
    "dataset = datasets.ImageFolder(root='../../data/dogs-vs-wolves/data', transform=transform)"
   ]
  },
  {
   "cell_type": "code",
   "execution_count": 9,
   "metadata": {},
   "outputs": [],
   "source": [
    "train_ds, val_ds = train_test_split(dataset)"
   ]
  },
  {
   "cell_type": "code",
   "execution_count": 11,
   "metadata": {},
   "outputs": [],
   "source": [
    "write_imagegrid_dataset(summary_writer, 'Training Dataset', train_ds)"
   ]
  },
  {
   "cell_type": "code",
   "execution_count": 12,
   "metadata": {},
   "outputs": [
    {
     "data": {
      "text/html": [
       "\n",
       "      <iframe id=\"tensorboard-frame-63db0e986b577a43\" width=\"100%\" height=\"800\" frameborder=\"0\">\n",
       "      </iframe>\n",
       "      <script>\n",
       "        (function() {\n",
       "          const frame = document.getElementById(\"tensorboard-frame-63db0e986b577a43\");\n",
       "          const url = new URL(\"/\", window.location);\n",
       "          url.port = 6007;\n",
       "          frame.src = url;\n",
       "        })();\n",
       "      </script>\n",
       "  "
      ],
      "text/plain": [
       "<IPython.core.display.HTML object>"
      ]
     },
     "metadata": {},
     "output_type": "display_data"
    }
   ],
   "source": [
    "%tensorboard --logdir runs/Dogs\\ vs\\ Wolves"
   ]
  },
  {
   "cell_type": "markdown",
   "metadata": {},
   "source": [
    "### Test dataset"
   ]
  },
  {
   "cell_type": "code",
   "execution_count": 14,
   "metadata": {},
   "outputs": [],
   "source": [
    "write_imagegrid_dataset(summary_writer, 'Test Dataset', val_ds)"
   ]
  },
  {
   "cell_type": "markdown",
   "metadata": {},
   "source": [
    "### DataLoader"
   ]
  },
  {
   "cell_type": "code",
   "execution_count": 16,
   "metadata": {},
   "outputs": [],
   "source": [
    "train_dl = DataLoader(train_ds, batch_size=10, num_workers=6, shuffle=True)\n",
    "val_dl = DataLoader(val_ds, batch_size=10, num_workers=6)"
   ]
  },
  {
   "cell_type": "markdown",
   "metadata": {},
   "source": [
    "## Define model"
   ]
  },
  {
   "cell_type": "code",
   "execution_count": 17,
   "metadata": {},
   "outputs": [],
   "source": [
    "class Network(nn.Module):\n",
    "    def __init__(self):\n",
    "        super(Network, self).__init__()\n",
    "        self.model = models.resnet18(pretrained=True)\n",
    "        self.model.fc = nn.Linear(self.model.fc.weight.shape[-1], 1)\n",
    "    \n",
    "    def forward(self, x):\n",
    "        x = self.model(x)\n",
    "        x = x.squeeze()\n",
    "        return x"
   ]
  },
  {
   "cell_type": "code",
   "execution_count": 18,
   "metadata": {},
   "outputs": [
    {
     "name": "stderr",
     "output_type": "stream",
     "text": [
      "Downloading: \"https://download.pytorch.org/models/resnet18-5c106cde.pth\" to /tmp/cache/torch/checkpoints/resnet18-5c106cde.pth\n"
     ]
    },
    {
     "data": {
      "application/vnd.jupyter.widget-view+json": {
       "model_id": "d863601d5c64482cae17151d886c05dd",
       "version_major": 2,
       "version_minor": 0
      },
      "text/plain": [
       "HBox(children=(FloatProgress(value=0.0, max=46827520.0), HTML(value='')))"
      ]
     },
     "metadata": {},
     "output_type": "display_data"
    },
    {
     "name": "stdout",
     "output_type": "stream",
     "text": [
      "\n"
     ]
    }
   ],
   "source": [
    "model = Network()"
   ]
  },
  {
   "cell_type": "code",
   "execution_count": 19,
   "metadata": {},
   "outputs": [],
   "source": [
    "write_model(summary_writer, model, next(iter(train_dl))[0])"
   ]
  },
  {
   "cell_type": "markdown",
   "metadata": {},
   "source": [
    "for param_group in trainer.optimizer.param_groups:\n",
    "    print(param_group[\"lr\"])"
   ]
  },
  {
   "cell_type": "markdown",
   "metadata": {},
   "source": [
    "## Train model"
   ]
  },
  {
   "cell_type": "code",
   "execution_count": 20,
   "metadata": {},
   "outputs": [],
   "source": [
    "trainer = SupervisedTrainer(model=model,\n",
    "                            logging_frecuency=10,\n",
    "                            optimizer='adam',\n",
    "                            criterion='binary_cross_entropy_wl',\n",
    "                            acc_meters=['recall_wl', 'precision_wl', 'binary_with_logits_accuracy', 'f1_wl'],\n",
    "                            callbacks=[ProgbarLogger(notebook=True), TensorBoardLogger(summary_writer)])"
   ]
  },
  {
   "cell_type": "code",
   "execution_count": 21,
   "metadata": {},
   "outputs": [],
   "source": [
    "trainer.cuda()"
   ]
  },
  {
   "cell_type": "code",
   "execution_count": 22,
   "metadata": {},
   "outputs": [
    {
     "data": {
      "application/vnd.jupyter.widget-view+json": {
       "model_id": "6ce392a4246e4a9488797cb56dff2075",
       "version_major": 2,
       "version_minor": 0
      },
      "text/plain": [
       "HBox(children=(FloatProgress(value=0.0, max=3.0), HTML(value='')))"
      ]
     },
     "metadata": {},
     "output_type": "display_data"
    },
    {
     "data": {
      "application/vnd.jupyter.widget-view+json": {
       "model_id": "8614ae3e4a334a5da9b253cab99963cc",
       "version_major": 2,
       "version_minor": 0
      },
      "text/plain": [
       "HBox(children=(FloatProgress(value=0.0, max=160.0), HTML(value='')))"
      ]
     },
     "metadata": {},
     "output_type": "display_data"
    },
    {
     "data": {
      "application/vnd.jupyter.widget-view+json": {
       "model_id": "bfaf6665ec724deb9ecbd937332e298e",
       "version_major": 2,
       "version_minor": 0
      },
      "text/plain": [
       "HBox(children=(FloatProgress(value=0.0, max=160.0), HTML(value='')))"
      ]
     },
     "metadata": {},
     "output_type": "display_data"
    },
    {
     "data": {
      "application/vnd.jupyter.widget-view+json": {
       "model_id": "1dc8864576e24545abd25413b302a1fe",
       "version_major": 2,
       "version_minor": 0
      },
      "text/plain": [
       "HBox(children=(FloatProgress(value=0.0, max=160.0), HTML(value='')))"
      ]
     },
     "metadata": {},
     "output_type": "display_data"
    },
    {
     "name": "stdout",
     "output_type": "stream",
     "text": [
      "\n",
      "\n",
      "\n",
      "\n"
     ]
    }
   ],
   "source": [
    "trainer.train(train_dl, val_dl, epochs=3)"
   ]
  },
  {
   "cell_type": "markdown",
   "metadata": {},
   "source": [
    "summary_writer.close()"
   ]
  },
  {
   "cell_type": "markdown",
   "metadata": {},
   "source": [
    "### Writting Embeddings to Projector"
   ]
  },
  {
   "cell_type": "code",
   "execution_count": 24,
   "metadata": {},
   "outputs": [],
   "source": [
    "class Identity(nn.Module):\n",
    "    def forward(self, x):\n",
    "        return x"
   ]
  },
  {
   "cell_type": "code",
   "execution_count": 25,
   "metadata": {},
   "outputs": [],
   "source": [
    "fc = model.model.fc.cpu()"
   ]
  },
  {
   "cell_type": "code",
   "execution_count": 26,
   "metadata": {},
   "outputs": [],
   "source": [
    "model.model.fc = Identity()"
   ]
  },
  {
   "cell_type": "code",
   "execution_count": 27,
   "metadata": {},
   "outputs": [],
   "source": [
    "from itertools import islice"
   ]
  },
  {
   "cell_type": "code",
   "execution_count": 28,
   "metadata": {},
   "outputs": [],
   "source": [
    "trainer.cpu()"
   ]
  },
  {
   "cell_type": "code",
   "execution_count": 29,
   "metadata": {},
   "outputs": [],
   "source": [
    "max_probas, predicted_classes = (torch.Tensor([[0.2,0.1,0.5],[0.4, 0.1, 0.2]])).topk(k=1)\n",
    "max_probas = max_probas.squeeze(-1)\n",
    "predicted_classes = predicted_classes.squeeze(-1)"
   ]
  },
  {
   "cell_type": "code",
   "execution_count": 30,
   "metadata": {},
   "outputs": [
    {
     "data": {
      "text/plain": [
       "tensor([2, 0])"
      ]
     },
     "execution_count": 30,
     "metadata": {},
     "output_type": "execute_result"
    }
   ],
   "source": [
    "predicted_classes"
   ]
  },
  {
   "cell_type": "code",
   "execution_count": 31,
   "metadata": {},
   "outputs": [
    {
     "name": "stderr",
     "output_type": "stream",
     "text": [
      "/usr/lib/python3.8/site-packages/torch/nn/functional.py:1569: UserWarning: nn.functional.sigmoid is deprecated. Use torch.sigmoid instead.\n",
      "  warnings.warn(\"nn.functional.sigmoid is deprecated. Use torch.sigmoid instead.\")\n"
     ]
    }
   ],
   "source": [
    "total_classes = []\n",
    "embeddings = []\n",
    "total_images = []\n",
    "total_probas = []\n",
    "predicted_classes = []\n",
    "transform = transforms.Compose([transforms.ToPILImage(), transforms.Resize((64, 64)), transforms.ToTensor()])\n",
    "modes = []\n",
    "\n",
    "dl = DataLoader(train_ds, batch_size=50, shuffle=True)\n",
    "\n",
    "for ims, classes in islice(dl, 10):\n",
    "    ims, classes = next(iter(dl))\n",
    "    embs = model(ims)\n",
    "    probas = torch.nn.functional.sigmoid(fc(embs)).squeeze(-1)\n",
    "    predicted_classes.extend(probas > 0.5)\n",
    "    total_probas.extend(probas)\n",
    "    embeddings.append(embs)\n",
    "    total_images.extend(transform(im) for im in ims)\n",
    "    total_classes.extend(classes)\n",
    "    modes.extend(['train']*len(classes))\n",
    "    \n",
    "dl = DataLoader(val_ds, batch_size=50, shuffle=True)\n",
    "\n",
    "for ims, classes in islice(dl, 10):\n",
    "    ims, classes = next(iter(dl))\n",
    "    embs = model(ims)\n",
    "    probas = torch.nn.functional.sigmoid(fc(embs)).squeeze(-1)\n",
    "    predicted_classes.extend(probas > 0.5)\n",
    "    total_probas.extend(probas)\n",
    "    embeddings.append(embs)\n",
    "    total_images.extend(transform(im) for im in ims)\n",
    "    total_classes.extend(classes)\n",
    "    modes.extend(['test']*len(classes))"
   ]
  },
  {
   "cell_type": "code",
   "execution_count": 32,
   "metadata": {},
   "outputs": [],
   "source": [
    "embeddings = torch.stack(embeddings, 0)\n",
    "embeddings = embeddings.reshape(-1, 512)\n",
    "total_images = torch.stack(total_images, 0)"
   ]
  },
  {
   "cell_type": "code",
   "execution_count": 33,
   "metadata": {},
   "outputs": [
    {
     "data": {
      "text/plain": [
       "(torch.Size([900, 3, 64, 64]), 900, torch.Size([900, 512]))"
      ]
     },
     "execution_count": 33,
     "metadata": {},
     "output_type": "execute_result"
    }
   ],
   "source": [
    "total_images.shape, len(total_classes), embeddings.shape"
   ]
  },
  {
   "cell_type": "code",
   "execution_count": 34,
   "metadata": {},
   "outputs": [],
   "source": [
    "summary_writer.add_embedding(embeddings.cpu(), metadata=[(dataset.classes[i], mode, dataset.classes[j], p.item(), 'ok' if i == j else 'fail') for mode, i, j, p in zip(modes, total_classes, predicted_classes, total_probas)], label_img=total_images, global_step=0, tag='embeddings', metadata_header=['label', 'mode', 'predicted_class', 'proba', 'correct'])"
   ]
  },
  {
   "cell_type": "code",
   "execution_count": 35,
   "metadata": {},
   "outputs": [],
   "source": [
    "summary_writer.flush()"
   ]
  },
  {
   "cell_type": "markdown",
   "metadata": {},
   "source": [
    "summary_writer.close()"
   ]
  },
  {
   "cell_type": "code",
   "execution_count": 36,
   "metadata": {},
   "outputs": [],
   "source": [
    "from tensorboard import notebook"
   ]
  },
  {
   "cell_type": "code",
   "execution_count": 43,
   "metadata": {},
   "outputs": [
    {
     "data": {
      "text/html": [
       "\n",
       "      <iframe id=\"tensorboard-frame-a4bdb648234555da\" width=\"100%\" height=\"800\" frameborder=\"0\">\n",
       "      </iframe>\n",
       "      <script>\n",
       "        (function() {\n",
       "          const frame = document.getElementById(\"tensorboard-frame-a4bdb648234555da\");\n",
       "          const url = new URL(\"/\", window.location);\n",
       "          url.port = 6609;\n",
       "          frame.src = url;\n",
       "        })();\n",
       "      </script>\n",
       "  "
      ],
      "text/plain": [
       "<IPython.core.display.HTML object>"
      ]
     },
     "metadata": {},
     "output_type": "display_data"
    }
   ],
   "source": [
    "%tensorboard --logdir runs/Dogs\\ vs\\ Wolves --port 6609"
   ]
  },
  {
   "cell_type": "code",
   "execution_count": null,
   "metadata": {},
   "outputs": [],
   "source": []
  }
 ],
 "metadata": {
  "kernelspec": {
   "display_name": "Python 3",
   "language": "python",
   "name": "python3"
  },
  "language_info": {
   "codemirror_mode": {
    "name": "ipython",
    "version": 3
   },
   "file_extension": ".py",
   "mimetype": "text/x-python",
   "name": "python",
   "nbconvert_exporter": "python",
   "pygments_lexer": "ipython3",
   "version": "3.8.3"
  },
  "widgets": {
   "application/vnd.jupyter.widget-state+json": {
    "state": {
     "04c953995ed941e095c34771886587ed": {
      "model_module": "@jupyter-widgets/base",
      "model_module_version": "1.2.0",
      "model_name": "LayoutModel",
      "state": {}
     },
     "0683f4fcad4e42e393ca1890eb00437a": {
      "model_module": "@jupyter-widgets/controls",
      "model_module_version": "1.5.0",
      "model_name": "HBoxModel",
      "state": {
       "children": [
        "IPY_MODEL_bac73851b2bb4def9ac991d989d07237",
        "IPY_MODEL_f2303805494342269ba7e3af69012017"
       ],
       "layout": "IPY_MODEL_dbefc1622d88447cb5a9cd4ef555a914"
      }
     },
     "06a87c0d69434a6c887819e4646fd672": {
      "model_module": "@jupyter-widgets/controls",
      "model_module_version": "1.5.0",
      "model_name": "HBoxModel",
      "state": {
       "children": [
        "IPY_MODEL_8e5e8760f89f4adeb1accc1ac14696cc",
        "IPY_MODEL_ab999413381e4ff18e1bab8c02b921cb"
       ],
       "layout": "IPY_MODEL_276585fad66546099178aede12ea4208"
      }
     },
     "0a2fd075b6bf49598bd4aa32266f8744": {
      "model_module": "@jupyter-widgets/controls",
      "model_module_version": "1.5.0",
      "model_name": "FloatProgressModel",
      "state": {
       "bar_style": "success",
       "description": "100%",
       "layout": "IPY_MODEL_930320d382064354888d4b950634c665",
       "max": 160,
       "style": "IPY_MODEL_95510b5caea042dea8f049712f61ea03",
       "value": 160
      }
     },
     "0e38a9a181ef4810b52ab22e58dd3fc2": {
      "model_module": "@jupyter-widgets/controls",
      "model_module_version": "1.5.0",
      "model_name": "ProgressStyleModel",
      "state": {
       "description_width": "initial"
      }
     },
     "10e6ad5227584eaf8fa0e85a7030ba4e": {
      "model_module": "@jupyter-widgets/controls",
      "model_module_version": "1.5.0",
      "model_name": "HBoxModel",
      "state": {
       "children": [
        "IPY_MODEL_38350022d3f8459b9d253a00c653e7a4",
        "IPY_MODEL_e102b97212d3423babfe140ee0ee8e9e"
       ],
       "layout": "IPY_MODEL_13779b19e9114dc7846c107056debd5f"
      }
     },
     "1238f02c68114ecbadcf726707cf06b1": {
      "model_module": "@jupyter-widgets/controls",
      "model_module_version": "1.5.0",
      "model_name": "HTMLModel",
      "state": {
       "layout": "IPY_MODEL_b23d0a6d91974f4abb39c415cc4b8857",
       "style": "IPY_MODEL_c5fc89ff6f5449efb25dff21d9ddfc6f",
       "value": " 160/160 [01:17&lt;00:00,  2.06 batchs/s, train_acc=0.740, train_f1=0.690, train_loss=0.471, train_precision=0.725, train_recall=0.659, val_acc=0.845, val_f1=0.726, val_loss=0.499, val_precision=0.927, val_recall=0.596]"
      }
     },
     "13779b19e9114dc7846c107056debd5f": {
      "model_module": "@jupyter-widgets/base",
      "model_module_version": "1.2.0",
      "model_name": "LayoutModel",
      "state": {}
     },
     "16f00619ac0e412a9d6e4bfcfa4b576c": {
      "model_module": "@jupyter-widgets/base",
      "model_module_version": "1.2.0",
      "model_name": "LayoutModel",
      "state": {}
     },
     "1a0ddf9ef4e84e5aa109a006804178eb": {
      "model_module": "@jupyter-widgets/controls",
      "model_module_version": "1.5.0",
      "model_name": "HBoxModel",
      "state": {
       "children": [
        "IPY_MODEL_4eb4029dfe3e4b2ba13aeddffd96e6dd",
        "IPY_MODEL_e934fcaa67984ec2ab91aaaf7a00b406"
       ],
       "layout": "IPY_MODEL_38d3a9ef951d49c9aac559fb14bae62e"
      }
     },
     "1b9e034510f346aaa35f09ef704a7747": {
      "model_module": "@jupyter-widgets/controls",
      "model_module_version": "1.5.0",
      "model_name": "HBoxModel",
      "state": {
       "children": [
        "IPY_MODEL_a985b74e408d4602b67da4512c8fe4a4",
        "IPY_MODEL_1f82cb5875ad4a8fa66f7217d4ebb699"
       ],
       "layout": "IPY_MODEL_63766cba642a44718e18522019bbb064"
      }
     },
     "1c23b8e1692e4a0cafb02e2e4173d580": {
      "model_module": "@jupyter-widgets/base",
      "model_module_version": "1.2.0",
      "model_name": "LayoutModel",
      "state": {}
     },
     "1cb99216b3c84c8984be961dd4a7a0b1": {
      "model_module": "@jupyter-widgets/controls",
      "model_module_version": "1.5.0",
      "model_name": "FloatProgressModel",
      "state": {
       "bar_style": "success",
       "description": "100%",
       "layout": "IPY_MODEL_c59de9fbca1f4c16b0101c31c17a149f",
       "max": 160,
       "style": "IPY_MODEL_e29f98460da14f37b3c2f560f020a439",
       "value": 160
      }
     },
     "1e3e76d0fc8d476fa2edc0cc9a582d6f": {
      "model_module": "@jupyter-widgets/base",
      "model_module_version": "1.2.0",
      "model_name": "LayoutModel",
      "state": {}
     },
     "1f82cb5875ad4a8fa66f7217d4ebb699": {
      "model_module": "@jupyter-widgets/controls",
      "model_module_version": "1.5.0",
      "model_name": "HTMLModel",
      "state": {
       "layout": "IPY_MODEL_7daa39b1397b479bb88ee83c5f8cb47d",
       "style": "IPY_MODEL_d992ddbd74e44ff99c362ded5b1af37a",
       "value": " 160/160 [01:01&lt;00:00,  2.59 batchs/s, train_acc=0.810, train_f1=0.796, train_loss=0.371, train_precision=0.843, train_recall=0.754, val_acc=0.880, val_f1=0.854, val_loss=0.294, val_precision=0.955, val_recall=0.772]"
      }
     },
     "20fc2a6f348f417baabb7c92c7831277": {
      "model_module": "@jupyter-widgets/controls",
      "model_module_version": "1.5.0",
      "model_name": "ProgressStyleModel",
      "state": {
       "description_width": "initial"
      }
     },
     "252dd8d6bac44ebb9958082a54881943": {
      "model_module": "@jupyter-widgets/base",
      "model_module_version": "1.2.0",
      "model_name": "LayoutModel",
      "state": {}
     },
     "276585fad66546099178aede12ea4208": {
      "model_module": "@jupyter-widgets/base",
      "model_module_version": "1.2.0",
      "model_name": "LayoutModel",
      "state": {}
     },
     "2bc7801eb7f74a028fb4040e3c8b7ff4": {
      "model_module": "@jupyter-widgets/controls",
      "model_module_version": "1.5.0",
      "model_name": "ProgressStyleModel",
      "state": {
       "description_width": "initial"
      }
     },
     "2d82869255d14a2485645ffc441ee911": {
      "model_module": "@jupyter-widgets/controls",
      "model_module_version": "1.5.0",
      "model_name": "ProgressStyleModel",
      "state": {
       "description_width": "initial"
      }
     },
     "36e4fac13eea4113b7469adeddfb9a48": {
      "model_module": "@jupyter-widgets/controls",
      "model_module_version": "1.5.0",
      "model_name": "DescriptionStyleModel",
      "state": {
       "description_width": ""
      }
     },
     "37e6a2f7fbd1422baad40269c02d523c": {
      "model_module": "@jupyter-widgets/base",
      "model_module_version": "1.2.0",
      "model_name": "LayoutModel",
      "state": {}
     },
     "38350022d3f8459b9d253a00c653e7a4": {
      "model_module": "@jupyter-widgets/controls",
      "model_module_version": "1.5.0",
      "model_name": "FloatProgressModel",
      "state": {
       "bar_style": "success",
       "description": "100%",
       "layout": "IPY_MODEL_d66d3439b5af4b45a79c2cc9fcc6cac5",
       "max": 160,
       "style": "IPY_MODEL_2d82869255d14a2485645ffc441ee911",
       "value": 160
      }
     },
     "38d3a9ef951d49c9aac559fb14bae62e": {
      "model_module": "@jupyter-widgets/base",
      "model_module_version": "1.2.0",
      "model_name": "LayoutModel",
      "state": {}
     },
     "3c4c80bc369248ef91d5a1d101344da8": {
      "model_module": "@jupyter-widgets/base",
      "model_module_version": "1.2.0",
      "model_name": "LayoutModel",
      "state": {}
     },
     "3d7a318dbcd74fa481bb1ec2c319bdf3": {
      "model_module": "@jupyter-widgets/base",
      "model_module_version": "1.2.0",
      "model_name": "LayoutModel",
      "state": {}
     },
     "3f4f7747af9d40459ad6319740d0374a": {
      "model_module": "@jupyter-widgets/base",
      "model_module_version": "1.2.0",
      "model_name": "LayoutModel",
      "state": {}
     },
     "495d4bb127024a76863d9433a865c122": {
      "model_module": "@jupyter-widgets/controls",
      "model_module_version": "1.5.0",
      "model_name": "DescriptionStyleModel",
      "state": {
       "description_width": ""
      }
     },
     "4eb4029dfe3e4b2ba13aeddffd96e6dd": {
      "model_module": "@jupyter-widgets/controls",
      "model_module_version": "1.5.0",
      "model_name": "FloatProgressModel",
      "state": {
       "bar_style": "success",
       "description": "100%",
       "layout": "IPY_MODEL_acf620b65f7a4cac85b934129ccac4f7",
       "max": 160,
       "style": "IPY_MODEL_64243552d3a541208eb08ee24359762b",
       "value": 160
      }
     },
     "54a69a252ea84ec7a36749a887804cc9": {
      "model_module": "@jupyter-widgets/controls",
      "model_module_version": "1.5.0",
      "model_name": "HBoxModel",
      "state": {
       "children": [
        "IPY_MODEL_b1969a50128847819dada05b73f6a8eb",
        "IPY_MODEL_a3650892df4d4d9ab93fc484ac0ef314"
       ],
       "layout": "IPY_MODEL_73c92930954e42669a8c4da7028a5b5b"
      }
     },
     "63766cba642a44718e18522019bbb064": {
      "model_module": "@jupyter-widgets/base",
      "model_module_version": "1.2.0",
      "model_name": "LayoutModel",
      "state": {}
     },
     "64243552d3a541208eb08ee24359762b": {
      "model_module": "@jupyter-widgets/controls",
      "model_module_version": "1.5.0",
      "model_name": "ProgressStyleModel",
      "state": {
       "description_width": "initial"
      }
     },
     "6c66a490b0494abf9aa3c00ef509d1a4": {
      "model_module": "@jupyter-widgets/controls",
      "model_module_version": "1.5.0",
      "model_name": "FloatProgressModel",
      "state": {
       "bar_style": "success",
       "description": "100%",
       "layout": "IPY_MODEL_a76cbafaabc04980af2285ae21c0f821",
       "max": 160,
       "style": "IPY_MODEL_20fc2a6f348f417baabb7c92c7831277",
       "value": 160
      }
     },
     "6e4f6b072dc64818bc0742aa8692d01d": {
      "model_module": "@jupyter-widgets/base",
      "model_module_version": "1.2.0",
      "model_name": "LayoutModel",
      "state": {}
     },
     "6f41982c5b8c4e9aafdf13062332f7b9": {
      "model_module": "@jupyter-widgets/controls",
      "model_module_version": "1.5.0",
      "model_name": "DescriptionStyleModel",
      "state": {
       "description_width": ""
      }
     },
     "712236f252634b868d405d74ec450d29": {
      "model_module": "@jupyter-widgets/controls",
      "model_module_version": "1.5.0",
      "model_name": "HBoxModel",
      "state": {
       "children": [
        "IPY_MODEL_b0c91a90b06340ee8eb5d3ca75e950ae",
        "IPY_MODEL_1238f02c68114ecbadcf726707cf06b1"
       ],
       "layout": "IPY_MODEL_f54ddbadb0304bfd863c1518c1ef161a"
      }
     },
     "72dd1c329c5449d2a46f21ac3f95fb9b": {
      "model_module": "@jupyter-widgets/controls",
      "model_module_version": "1.5.0",
      "model_name": "HBoxModel",
      "state": {
       "children": [
        "IPY_MODEL_1cb99216b3c84c8984be961dd4a7a0b1",
        "IPY_MODEL_97bbf2aeda084dd584b6ad867ef205ce"
       ],
       "layout": "IPY_MODEL_f786cb3f6c4b470fb9d9006b5839697d"
      }
     },
     "73c92930954e42669a8c4da7028a5b5b": {
      "model_module": "@jupyter-widgets/base",
      "model_module_version": "1.2.0",
      "model_name": "LayoutModel",
      "state": {}
     },
     "7ce876558e9c4054bab130f6af1752c1": {
      "model_module": "@jupyter-widgets/controls",
      "model_module_version": "1.5.0",
      "model_name": "DescriptionStyleModel",
      "state": {
       "description_width": ""
      }
     },
     "7daa39b1397b479bb88ee83c5f8cb47d": {
      "model_module": "@jupyter-widgets/base",
      "model_module_version": "1.2.0",
      "model_name": "LayoutModel",
      "state": {}
     },
     "8270d81c1a654e2ebbe26ae34c84e0ec": {
      "model_module": "@jupyter-widgets/controls",
      "model_module_version": "1.5.0",
      "model_name": "DescriptionStyleModel",
      "state": {
       "description_width": ""
      }
     },
     "8323feb5e7a345f899b0802114cda380": {
      "model_module": "@jupyter-widgets/controls",
      "model_module_version": "1.5.0",
      "model_name": "HBoxModel",
      "state": {
       "children": [
        "IPY_MODEL_ed15d299d64a4f5086da518011fd5608",
        "IPY_MODEL_a000c66e54ce407d946f74c4d82fa2fd"
       ],
       "layout": "IPY_MODEL_16f00619ac0e412a9d6e4bfcfa4b576c"
      }
     },
     "8d2a5fe056c645b4aaa3cf9835bbac25": {
      "model_module": "@jupyter-widgets/base",
      "model_module_version": "1.2.0",
      "model_name": "LayoutModel",
      "state": {}
     },
     "8e5e8760f89f4adeb1accc1ac14696cc": {
      "model_module": "@jupyter-widgets/controls",
      "model_module_version": "1.5.0",
      "model_name": "FloatProgressModel",
      "state": {
       "bar_style": "success",
       "description": "100%",
       "layout": "IPY_MODEL_1e3e76d0fc8d476fa2edc0cc9a582d6f",
       "max": 160,
       "style": "IPY_MODEL_cb21b8aec7d6469093e54c349295bbc5",
       "value": 160
      }
     },
     "930320d382064354888d4b950634c665": {
      "model_module": "@jupyter-widgets/base",
      "model_module_version": "1.2.0",
      "model_name": "LayoutModel",
      "state": {}
     },
     "95510b5caea042dea8f049712f61ea03": {
      "model_module": "@jupyter-widgets/controls",
      "model_module_version": "1.5.0",
      "model_name": "ProgressStyleModel",
      "state": {
       "description_width": "initial"
      }
     },
     "97bbf2aeda084dd584b6ad867ef205ce": {
      "model_module": "@jupyter-widgets/controls",
      "model_module_version": "1.5.0",
      "model_name": "HTMLModel",
      "state": {
       "layout": "IPY_MODEL_3d7a318dbcd74fa481bb1ec2c319bdf3",
       "style": "IPY_MODEL_e0de9358962c4cef8d8eca115a980ad6",
       "value": " 160/160 [01:09&lt;00:00,  2.31 batchs/s, train_acc=0.790, train_f1=0.745, train_loss=0.568, train_precision=0.844, train_recall=0.667, val_acc=0.873, val_f1=0.867, val_loss=0.315, val_precision=0.874, val_recall=0.860]"
      }
     },
     "99abb30f3e854576bec720a7bbb9e8ab": {
      "model_module": "@jupyter-widgets/base",
      "model_module_version": "1.2.0",
      "model_name": "LayoutModel",
      "state": {}
     },
     "9b1c9b261d0e42b4a4c72f605e22544a": {
      "model_module": "@jupyter-widgets/controls",
      "model_module_version": "1.5.0",
      "model_name": "DescriptionStyleModel",
      "state": {
       "description_width": ""
      }
     },
     "9e6b762ccff846c8b125c2a3f5089ae1": {
      "model_module": "@jupyter-widgets/base",
      "model_module_version": "1.2.0",
      "model_name": "LayoutModel",
      "state": {}
     },
     "a000c66e54ce407d946f74c4d82fa2fd": {
      "model_module": "@jupyter-widgets/controls",
      "model_module_version": "1.5.0",
      "model_name": "HTMLModel",
      "state": {
       "layout": "IPY_MODEL_6e4f6b072dc64818bc0742aa8692d01d",
       "style": "IPY_MODEL_7ce876558e9c4054bab130f6af1752c1",
       "value": " 160/160 [00:15&lt;00:00, 10.36 batchs/s, train_acc=0.940, train_f1=0.936, train_loss=0.134, train_precision=0.936, train_recall=0.936, val_acc=0.895, val_f1=0.888, val_loss=0.322, val_precision=0.874, val_recall=0.902]"
      }
     },
     "a186f41c261547bcb98f0cf025231435": {
      "model_module": "@jupyter-widgets/base",
      "model_module_version": "1.2.0",
      "model_name": "LayoutModel",
      "state": {}
     },
     "a3650892df4d4d9ab93fc484ac0ef314": {
      "model_module": "@jupyter-widgets/controls",
      "model_module_version": "1.5.0",
      "model_name": "HTMLModel",
      "state": {
       "layout": "IPY_MODEL_37e6a2f7fbd1422baad40269c02d523c",
       "style": "IPY_MODEL_8270d81c1a654e2ebbe26ae34c84e0ec",
       "value": " 160/160 [00:46&lt;00:00,  3.45 batchs/s, train_acc=0.950, train_f1=0.926, train_loss=0.142, train_precision=0.936, train_recall=0.917, val_acc=0.905, val_f1=0.904, val_loss=0.212, val_precision=0.929, val_recall=0.881]"
      }
     },
     "a76cbafaabc04980af2285ae21c0f821": {
      "model_module": "@jupyter-widgets/base",
      "model_module_version": "1.2.0",
      "model_name": "LayoutModel",
      "state": {}
     },
     "a962862358f74bd2919f615ca203862e": {
      "model_module": "@jupyter-widgets/controls",
      "model_module_version": "1.5.0",
      "model_name": "DescriptionStyleModel",
      "state": {
       "description_width": ""
      }
     },
     "a985b74e408d4602b67da4512c8fe4a4": {
      "model_module": "@jupyter-widgets/controls",
      "model_module_version": "1.5.0",
      "model_name": "FloatProgressModel",
      "state": {
       "bar_style": "success",
       "description": "100%",
       "layout": "IPY_MODEL_252dd8d6bac44ebb9958082a54881943",
       "max": 160,
       "style": "IPY_MODEL_2bc7801eb7f74a028fb4040e3c8b7ff4",
       "value": 160
      }
     },
     "ab999413381e4ff18e1bab8c02b921cb": {
      "model_module": "@jupyter-widgets/controls",
      "model_module_version": "1.5.0",
      "model_name": "HTMLModel",
      "state": {
       "layout": "IPY_MODEL_9e6b762ccff846c8b125c2a3f5089ae1",
       "style": "IPY_MODEL_36e4fac13eea4113b7469adeddfb9a48",
       "value": " 160/160 [00:54&lt;00:00,  2.96 batchs/s, train_acc=0.900, train_f1=0.933, train_loss=0.199, train_precision=0.980, train_recall=0.891, val_acc=0.832, val_f1=0.809, val_loss=0.389, val_precision=0.855, val_recall=0.767]"
      }
     },
     "aba0d6f5232b436498e49e49c76de19f": {
      "model_module": "@jupyter-widgets/base",
      "model_module_version": "1.2.0",
      "model_name": "LayoutModel",
      "state": {}
     },
     "ac3b5dc353ce467d82abc59121f9364a": {
      "model_module": "@jupyter-widgets/base",
      "model_module_version": "1.2.0",
      "model_name": "LayoutModel",
      "state": {}
     },
     "acf620b65f7a4cac85b934129ccac4f7": {
      "model_module": "@jupyter-widgets/base",
      "model_module_version": "1.2.0",
      "model_name": "LayoutModel",
      "state": {}
     },
     "b0c91a90b06340ee8eb5d3ca75e950ae": {
      "model_module": "@jupyter-widgets/controls",
      "model_module_version": "1.5.0",
      "model_name": "FloatProgressModel",
      "state": {
       "bar_style": "success",
       "description": "100%",
       "layout": "IPY_MODEL_1c23b8e1692e4a0cafb02e2e4173d580",
       "max": 160,
       "style": "IPY_MODEL_c86f940ec18646ed9c0b2a6ce628e63d",
       "value": 160
      }
     },
     "b0f6e6d2929148a0b1325ddc0a0db01f": {
      "model_module": "@jupyter-widgets/controls",
      "model_module_version": "1.5.0",
      "model_name": "HBoxModel",
      "state": {
       "children": [
        "IPY_MODEL_0a2fd075b6bf49598bd4aa32266f8744",
        "IPY_MODEL_f46c71643c174556a17fe930c3dda7df"
       ],
       "layout": "IPY_MODEL_cbba8ad1d32d4fe6960b850450d335e0"
      }
     },
     "b1969a50128847819dada05b73f6a8eb": {
      "model_module": "@jupyter-widgets/controls",
      "model_module_version": "1.5.0",
      "model_name": "FloatProgressModel",
      "state": {
       "bar_style": "success",
       "description": "100%",
       "layout": "IPY_MODEL_3c4c80bc369248ef91d5a1d101344da8",
       "max": 160,
       "style": "IPY_MODEL_0e38a9a181ef4810b52ab22e58dd3fc2",
       "value": 160
      }
     },
     "b23d0a6d91974f4abb39c415cc4b8857": {
      "model_module": "@jupyter-widgets/base",
      "model_module_version": "1.2.0",
      "model_name": "LayoutModel",
      "state": {}
     },
     "b9add240ff204e17bea00613ebf95b3a": {
      "model_module": "@jupyter-widgets/controls",
      "model_module_version": "1.5.0",
      "model_name": "HBoxModel",
      "state": {
       "children": [
        "IPY_MODEL_6c66a490b0494abf9aa3c00ef509d1a4",
        "IPY_MODEL_c4b5a607b082452c8c9e7b3026a8c0f1"
       ],
       "layout": "IPY_MODEL_ac3b5dc353ce467d82abc59121f9364a"
      }
     },
     "bac73851b2bb4def9ac991d989d07237": {
      "model_module": "@jupyter-widgets/controls",
      "model_module_version": "1.5.0",
      "model_name": "FloatProgressModel",
      "state": {
       "bar_style": "success",
       "description": "100%",
       "layout": "IPY_MODEL_a186f41c261547bcb98f0cf025231435",
       "max": 10,
       "style": "IPY_MODEL_c96b918b0bf64948a8a676d8fc943f6f",
       "value": 10
      }
     },
     "c4b5a607b082452c8c9e7b3026a8c0f1": {
      "model_module": "@jupyter-widgets/controls",
      "model_module_version": "1.5.0",
      "model_name": "HTMLModel",
      "state": {
       "layout": "IPY_MODEL_3f4f7747af9d40459ad6319740d0374a",
       "style": "IPY_MODEL_495d4bb127024a76863d9433a865c122",
       "value": " 160/160 [00:23&lt;00:00,  6.92 batchs/s, train_acc=0.900, train_f1=0.920, train_loss=0.239, train_precision=0.902, train_recall=0.939, val_acc=0.805, val_f1=0.852, val_loss=0.466, val_precision=0.751, val_recall=0.984]"
      }
     },
     "c59de9fbca1f4c16b0101c31c17a149f": {
      "model_module": "@jupyter-widgets/base",
      "model_module_version": "1.2.0",
      "model_name": "LayoutModel",
      "state": {}
     },
     "c5fc89ff6f5449efb25dff21d9ddfc6f": {
      "model_module": "@jupyter-widgets/controls",
      "model_module_version": "1.5.0",
      "model_name": "DescriptionStyleModel",
      "state": {
       "description_width": ""
      }
     },
     "c86f940ec18646ed9c0b2a6ce628e63d": {
      "model_module": "@jupyter-widgets/controls",
      "model_module_version": "1.5.0",
      "model_name": "ProgressStyleModel",
      "state": {
       "description_width": "initial"
      }
     },
     "c96b918b0bf64948a8a676d8fc943f6f": {
      "model_module": "@jupyter-widgets/controls",
      "model_module_version": "1.5.0",
      "model_name": "ProgressStyleModel",
      "state": {
       "description_width": "initial"
      }
     },
     "cb21b8aec7d6469093e54c349295bbc5": {
      "model_module": "@jupyter-widgets/controls",
      "model_module_version": "1.5.0",
      "model_name": "ProgressStyleModel",
      "state": {
       "description_width": "initial"
      }
     },
     "cbba8ad1d32d4fe6960b850450d335e0": {
      "model_module": "@jupyter-widgets/base",
      "model_module_version": "1.2.0",
      "model_name": "LayoutModel",
      "state": {}
     },
     "d66d3439b5af4b45a79c2cc9fcc6cac5": {
      "model_module": "@jupyter-widgets/base",
      "model_module_version": "1.2.0",
      "model_name": "LayoutModel",
      "state": {}
     },
     "d992ddbd74e44ff99c362ded5b1af37a": {
      "model_module": "@jupyter-widgets/controls",
      "model_module_version": "1.5.0",
      "model_name": "DescriptionStyleModel",
      "state": {
       "description_width": ""
      }
     },
     "dbefc1622d88447cb5a9cd4ef555a914": {
      "model_module": "@jupyter-widgets/base",
      "model_module_version": "1.2.0",
      "model_name": "LayoutModel",
      "state": {}
     },
     "dda3e7dcdcaf4293a205199ca6807e41": {
      "model_module": "@jupyter-widgets/controls",
      "model_module_version": "1.5.0",
      "model_name": "ProgressStyleModel",
      "state": {
       "description_width": "initial"
      }
     },
     "e0de9358962c4cef8d8eca115a980ad6": {
      "model_module": "@jupyter-widgets/controls",
      "model_module_version": "1.5.0",
      "model_name": "DescriptionStyleModel",
      "state": {
       "description_width": ""
      }
     },
     "e102b97212d3423babfe140ee0ee8e9e": {
      "model_module": "@jupyter-widgets/controls",
      "model_module_version": "1.5.0",
      "model_name": "HTMLModel",
      "state": {
       "layout": "IPY_MODEL_99abb30f3e854576bec720a7bbb9e8ab",
       "style": "IPY_MODEL_9b1c9b261d0e42b4a4c72f605e22544a",
       "value": " 160/160 [00:07&lt;00:00, 20.68 batchs/s, train_acc=0.970, train_f1=0.978, train_loss=0.099, train_precision=0.978, train_recall=0.978, val_acc=0.887, val_f1=0.868, val_loss=0.288, val_precision=0.951, val_recall=0.798]"
      }
     },
     "e29f98460da14f37b3c2f560f020a439": {
      "model_module": "@jupyter-widgets/controls",
      "model_module_version": "1.5.0",
      "model_name": "ProgressStyleModel",
      "state": {
       "description_width": "initial"
      }
     },
     "e2d1ae89e6f1427e99347cfcc0b7f3f5": {
      "model_module": "@jupyter-widgets/controls",
      "model_module_version": "1.5.0",
      "model_name": "DescriptionStyleModel",
      "state": {
       "description_width": ""
      }
     },
     "e934fcaa67984ec2ab91aaaf7a00b406": {
      "model_module": "@jupyter-widgets/controls",
      "model_module_version": "1.5.0",
      "model_name": "HTMLModel",
      "state": {
       "layout": "IPY_MODEL_aba0d6f5232b436498e49e49c76de19f",
       "style": "IPY_MODEL_6f41982c5b8c4e9aafdf13062332f7b9",
       "value": " 160/160 [00:38&lt;00:00,  4.16 batchs/s, train_acc=0.930, train_f1=0.913, train_loss=0.300, train_precision=0.979, train_recall=0.855, val_acc=0.907, val_f1=0.884, val_loss=0.246, val_precision=0.947, val_recall=0.829]"
      }
     },
     "ed15d299d64a4f5086da518011fd5608": {
      "model_module": "@jupyter-widgets/controls",
      "model_module_version": "1.5.0",
      "model_name": "FloatProgressModel",
      "state": {
       "bar_style": "success",
       "description": "100%",
       "layout": "IPY_MODEL_f2b86ca3171e4bebbb87427df682db51",
       "max": 160,
       "style": "IPY_MODEL_dda3e7dcdcaf4293a205199ca6807e41",
       "value": 160
      }
     },
     "f2303805494342269ba7e3af69012017": {
      "model_module": "@jupyter-widgets/controls",
      "model_module_version": "1.5.0",
      "model_name": "HTMLModel",
      "state": {
       "layout": "IPY_MODEL_8d2a5fe056c645b4aaa3cf9835bbac25",
       "style": "IPY_MODEL_a962862358f74bd2919f615ca203862e",
       "value": " 10/10 [01:17&lt;00:00,  7.79s/epoch]"
      }
     },
     "f2b86ca3171e4bebbb87427df682db51": {
      "model_module": "@jupyter-widgets/base",
      "model_module_version": "1.2.0",
      "model_name": "LayoutModel",
      "state": {}
     },
     "f46c71643c174556a17fe930c3dda7df": {
      "model_module": "@jupyter-widgets/controls",
      "model_module_version": "1.5.0",
      "model_name": "HTMLModel",
      "state": {
       "layout": "IPY_MODEL_04c953995ed941e095c34771886587ed",
       "style": "IPY_MODEL_e2d1ae89e6f1427e99347cfcc0b7f3f5",
       "value": " 160/160 [00:30&lt;00:00,  5.19 batchs/s, train_acc=0.910, train_f1=0.918, train_loss=0.212, train_precision=0.918, train_recall=0.918, val_acc=0.837, val_f1=0.808, val_loss=0.423, val_precision=0.904, val_recall=0.731]"
      }
     },
     "f54ddbadb0304bfd863c1518c1ef161a": {
      "model_module": "@jupyter-widgets/base",
      "model_module_version": "1.2.0",
      "model_name": "LayoutModel",
      "state": {}
     },
     "f786cb3f6c4b470fb9d9006b5839697d": {
      "model_module": "@jupyter-widgets/base",
      "model_module_version": "1.2.0",
      "model_name": "LayoutModel",
      "state": {}
     }
    },
    "version_major": 2,
    "version_minor": 0
   }
  }
 },
 "nbformat": 4,
 "nbformat_minor": 4
}
