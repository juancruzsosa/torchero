{
 "cells": [
  {
   "cell_type": "markdown",
   "metadata": {},
   "source": [
    "<h1><center>Text classification using torchtext</center></h1>\n",
    "\n",
    "This notebook was inspired from this [post](https://pytorch.org/tutorials/beginner/text_sentiment_ngrams_tutorial.html)\n",
    "\n",
    "## Imports"
   ]
  },
  {
   "cell_type": "code",
   "execution_count": 1,
   "metadata": {},
   "outputs": [],
   "source": [
    "import os\n",
    "\n",
    "import torch\n",
    "import torch.nn as nn\n",
    "import torch.nn.functional as F\n",
    "from torch.optim import SGD\n",
    "from torch.utils.data import DataLoader\n",
    "import matplotlib.pyplot as plt\n",
    "\n",
    "import torchtext\n",
    "from torchtext.datasets import text_classification\n",
    "\n",
    "from torchero import SupervisedTrainer\n",
    "from torchero.callbacks import ProgbarLogger, StepLR\n",
    "from torchero.hparams import OptimP\n",
    "from torchero.utils.data import train_test_split"
   ]
  },
  {
   "cell_type": "markdown",
   "metadata": {},
   "source": [
    "### Load training dataset dataset ###"
   ]
  },
  {
   "cell_type": "markdown",
   "metadata": {},
   "source": [
    "First, we download the AG_NEWS train and test datasets"
   ]
  },
  {
   "cell_type": "code",
   "execution_count": 2,
   "metadata": {},
   "outputs": [
    {
     "name": "stderr",
     "output_type": "stream",
     "text": [
      "120000lines [00:04, 26165.80lines/s]\n",
      "120000lines [00:08, 14573.27lines/s]\n",
      "7600lines [00:00, 14692.38lines/s]\n"
     ]
    }
   ],
   "source": [
    "NGRAMS = 2\n",
    "\n",
    "if not os.path.isdir('./.data'):\n",
    "    os.mkdir('./.data')\n",
    "train_dataset, test_dataset = text_classification.DATASETS['AG_NEWS'](root='./.data',\n",
    "                                                                      ngrams=NGRAMS,\n",
    "                                                                      vocab=None)"
   ]
  },
  {
   "cell_type": "markdown",
   "metadata": {},
   "source": [
    "We split the training dataset into training and validation"
   ]
  },
  {
   "cell_type": "code",
   "execution_count": 3,
   "metadata": {},
   "outputs": [],
   "source": [
    "train_dataset, val_dataset = train_test_split(train_dataset, valid_size=0.2)"
   ]
  },
  {
   "cell_type": "markdown",
   "metadata": {},
   "source": [
    "Then we need to create the dataloaders for train, valid, and test dataset. For the use "
   ]
  },
  {
   "cell_type": "code",
   "execution_count": 4,
   "metadata": {},
   "outputs": [],
   "source": [
    "def generate_batch(batch):\n",
    "    label = torch.tensor([entry[0] for entry in batch])\n",
    "    text = [entry[1] for entry in batch]\n",
    "    offsets = [0] + [len(entry) for entry in text]\n",
    "    # torch.Tensor.cumsum returns the cumulative sum\n",
    "    # of elements in the dimension dim.\n",
    "    # torch.Tensor([1.0, 2.0, 3.0]).cumsum(dim=0)\n",
    "\n",
    "    offsets = torch.tensor(offsets[:-1]).cumsum(dim=0)\n",
    "    text = torch.cat(text)\n",
    "    return (text, offsets), label\n",
    "\n",
    "train_dl = DataLoader(train_dataset, 100, collate_fn=generate_batch)\n",
    "val_dl = DataLoader(val_dataset, 100, collate_fn=generate_batch)\n",
    "test_dl = DataLoader(test_dataset, collate_fn=generate_batch)"
   ]
  },
  {
   "cell_type": "markdown",
   "metadata": {},
   "source": [
    "## Model Definition"
   ]
  },
  {
   "cell_type": "code",
   "execution_count": 5,
   "metadata": {},
   "outputs": [],
   "source": [
    "class TextSentiment(nn.Module):\n",
    "    def __init__(self, vocab_size, embed_dim, num_class):\n",
    "        super().__init__()\n",
    "        self.embedding = nn.EmbeddingBag(vocab_size, embed_dim, sparse=True)\n",
    "        self.fc = nn.Linear(embed_dim, num_class)\n",
    "        self.init_weights()\n",
    "\n",
    "    def init_weights(self):\n",
    "        initrange = 0.5\n",
    "        self.embedding.weight.data.uniform_(-initrange, initrange)\n",
    "        self.fc.weight.data.uniform_(-initrange, initrange)\n",
    "        self.fc.bias.data.zero_()\n",
    "\n",
    "    def forward(self, text, offsets):\n",
    "        embedded = self.embedding(text, offsets)\n",
    "        return self.fc(embedded)"
   ]
  },
  {
   "cell_type": "code",
   "execution_count": 6,
   "metadata": {},
   "outputs": [],
   "source": [
    "VOCAB_SIZE = len(train_dataset.get_vocab())\n",
    "EMBED_DIM = 64\n",
    "NUN_CLASS = len(train_dataset.get_labels())\n",
    "model = TextSentiment(VOCAB_SIZE, EMBED_DIM, NUN_CLASS)"
   ]
  },
  {
   "cell_type": "markdown",
   "metadata": {},
   "source": [
    "### Training"
   ]
  },
  {
   "cell_type": "code",
   "execution_count": 7,
   "metadata": {},
   "outputs": [],
   "source": [
    "trainer = SupervisedTrainer(model,\n",
    "                            'cross_entropy',\n",
    "                            optimizer=SGD(model.parameters(), lr=4.0),\n",
    "                            callbacks=[ProgbarLogger(notebook=True),\n",
    "                                       StepLR(1, gamma=0.9)],\n",
    "                            acc_meters=['categorical_accuracy_percentage'],\n",
    "                            hparams={'lr': OptimP('lr')},\n",
    "                            logging_frecuency=10)\n",
    "trainer.to('cuda' if torch.cuda.is_available() else 'cpu')"
   ]
  },
  {
   "cell_type": "code",
   "execution_count": 8,
   "metadata": {},
   "outputs": [
    {
     "data": {
      "application/vnd.jupyter.widget-view+json": {
       "model_id": "99a7cd2b30d3410abcee3727c6b34342",
       "version_major": 2,
       "version_minor": 0
      },
      "text/plain": [
       "HBox(children=(FloatProgress(value=0.0, max=50.0), HTML(value='')))"
      ]
     },
     "metadata": {},
     "output_type": "display_data"
    },
    {
     "data": {
      "application/vnd.jupyter.widget-view+json": {
       "model_id": "5265a5461ceb4b5c9b2b4bc180e09e9d",
       "version_major": 2,
       "version_minor": 0
      },
      "text/plain": [
       "HBox(children=(FloatProgress(value=0.0, max=960.0), HTML(value='')))"
      ]
     },
     "metadata": {},
     "output_type": "display_data"
    },
    {
     "data": {
      "application/vnd.jupyter.widget-view+json": {
       "model_id": "68802bdefded4c0cb27987511514609c",
       "version_major": 2,
       "version_minor": 0
      },
      "text/plain": [
       "HBox(children=(FloatProgress(value=0.0, max=960.0), HTML(value='')))"
      ]
     },
     "metadata": {},
     "output_type": "display_data"
    },
    {
     "data": {
      "application/vnd.jupyter.widget-view+json": {
       "model_id": "760b4f52db1a451ca9cd81f905f464f1",
       "version_major": 2,
       "version_minor": 0
      },
      "text/plain": [
       "HBox(children=(FloatProgress(value=0.0, max=960.0), HTML(value='')))"
      ]
     },
     "metadata": {},
     "output_type": "display_data"
    },
    {
     "data": {
      "application/vnd.jupyter.widget-view+json": {
       "model_id": "36c138b5d3444348b483e864a52c0d73",
       "version_major": 2,
       "version_minor": 0
      },
      "text/plain": [
       "HBox(children=(FloatProgress(value=0.0, max=960.0), HTML(value='')))"
      ]
     },
     "metadata": {},
     "output_type": "display_data"
    },
    {
     "data": {
      "application/vnd.jupyter.widget-view+json": {
       "model_id": "0be51aa1e4774d63b192149825988024",
       "version_major": 2,
       "version_minor": 0
      },
      "text/plain": [
       "HBox(children=(FloatProgress(value=0.0, max=960.0), HTML(value='')))"
      ]
     },
     "metadata": {},
     "output_type": "display_data"
    },
    {
     "data": {
      "application/vnd.jupyter.widget-view+json": {
       "model_id": "8162e3f0c69a4e6e94637a9a7c0b3bb2",
       "version_major": 2,
       "version_minor": 0
      },
      "text/plain": [
       "HBox(children=(FloatProgress(value=0.0, max=960.0), HTML(value='')))"
      ]
     },
     "metadata": {},
     "output_type": "display_data"
    },
    {
     "data": {
      "application/vnd.jupyter.widget-view+json": {
       "model_id": "b5261123596d44f0bccda70229a4c3a8",
       "version_major": 2,
       "version_minor": 0
      },
      "text/plain": [
       "HBox(children=(FloatProgress(value=0.0, max=960.0), HTML(value='')))"
      ]
     },
     "metadata": {},
     "output_type": "display_data"
    },
    {
     "data": {
      "application/vnd.jupyter.widget-view+json": {
       "model_id": "d974d84ef5f4487f82694e838cfcbc29",
       "version_major": 2,
       "version_minor": 0
      },
      "text/plain": [
       "HBox(children=(FloatProgress(value=0.0, max=960.0), HTML(value='')))"
      ]
     },
     "metadata": {},
     "output_type": "display_data"
    },
    {
     "data": {
      "application/vnd.jupyter.widget-view+json": {
       "model_id": "9ada3df8dcd0420db2de4167d9a1bf75",
       "version_major": 2,
       "version_minor": 0
      },
      "text/plain": [
       "HBox(children=(FloatProgress(value=0.0, max=960.0), HTML(value='')))"
      ]
     },
     "metadata": {},
     "output_type": "display_data"
    },
    {
     "data": {
      "application/vnd.jupyter.widget-view+json": {
       "model_id": "81ab40fb071d422787002d457ba8a080",
       "version_major": 2,
       "version_minor": 0
      },
      "text/plain": [
       "HBox(children=(FloatProgress(value=0.0, max=960.0), HTML(value='')))"
      ]
     },
     "metadata": {},
     "output_type": "display_data"
    },
    {
     "data": {
      "application/vnd.jupyter.widget-view+json": {
       "model_id": "71d434a548ea48db9baa547a7ad11838",
       "version_major": 2,
       "version_minor": 0
      },
      "text/plain": [
       "HBox(children=(FloatProgress(value=0.0, max=960.0), HTML(value='')))"
      ]
     },
     "metadata": {},
     "output_type": "display_data"
    },
    {
     "data": {
      "application/vnd.jupyter.widget-view+json": {
       "model_id": "a025502d861147048c5e6e24771074da",
       "version_major": 2,
       "version_minor": 0
      },
      "text/plain": [
       "HBox(children=(FloatProgress(value=0.0, max=960.0), HTML(value='')))"
      ]
     },
     "metadata": {},
     "output_type": "display_data"
    },
    {
     "data": {
      "application/vnd.jupyter.widget-view+json": {
       "model_id": "10d28917eb5247e999666e5780bb61a7",
       "version_major": 2,
       "version_minor": 0
      },
      "text/plain": [
       "HBox(children=(FloatProgress(value=0.0, max=960.0), HTML(value='')))"
      ]
     },
     "metadata": {},
     "output_type": "display_data"
    },
    {
     "data": {
      "application/vnd.jupyter.widget-view+json": {
       "model_id": "dc6f72eab37640db8a0b67f055cc94d7",
       "version_major": 2,
       "version_minor": 0
      },
      "text/plain": [
       "HBox(children=(FloatProgress(value=0.0, max=960.0), HTML(value='')))"
      ]
     },
     "metadata": {},
     "output_type": "display_data"
    },
    {
     "data": {
      "application/vnd.jupyter.widget-view+json": {
       "model_id": "4686c9681f8a41ca9ee9660a9879c622",
       "version_major": 2,
       "version_minor": 0
      },
      "text/plain": [
       "HBox(children=(FloatProgress(value=0.0, max=960.0), HTML(value='')))"
      ]
     },
     "metadata": {},
     "output_type": "display_data"
    },
    {
     "data": {
      "application/vnd.jupyter.widget-view+json": {
       "model_id": "574d4a9fcfb14d918043a20dcfed2292",
       "version_major": 2,
       "version_minor": 0
      },
      "text/plain": [
       "HBox(children=(FloatProgress(value=0.0, max=960.0), HTML(value='')))"
      ]
     },
     "metadata": {},
     "output_type": "display_data"
    },
    {
     "data": {
      "application/vnd.jupyter.widget-view+json": {
       "model_id": "4f651b9401bf43258a86495f65e5af78",
       "version_major": 2,
       "version_minor": 0
      },
      "text/plain": [
       "HBox(children=(FloatProgress(value=0.0, max=960.0), HTML(value='')))"
      ]
     },
     "metadata": {},
     "output_type": "display_data"
    },
    {
     "data": {
      "application/vnd.jupyter.widget-view+json": {
       "model_id": "0f3989dea064429f8d6a5846f176801c",
       "version_major": 2,
       "version_minor": 0
      },
      "text/plain": [
       "HBox(children=(FloatProgress(value=0.0, max=960.0), HTML(value='')))"
      ]
     },
     "metadata": {},
     "output_type": "display_data"
    },
    {
     "data": {
      "application/vnd.jupyter.widget-view+json": {
       "model_id": "ec9a043aefcc46dca50ef49dfe6b063d",
       "version_major": 2,
       "version_minor": 0
      },
      "text/plain": [
       "HBox(children=(FloatProgress(value=0.0, max=960.0), HTML(value='')))"
      ]
     },
     "metadata": {},
     "output_type": "display_data"
    },
    {
     "data": {
      "application/vnd.jupyter.widget-view+json": {
       "model_id": "d3ebe31d1e994b6faec93ffc342e9a0b",
       "version_major": 2,
       "version_minor": 0
      },
      "text/plain": [
       "HBox(children=(FloatProgress(value=0.0, max=960.0), HTML(value='')))"
      ]
     },
     "metadata": {},
     "output_type": "display_data"
    },
    {
     "data": {
      "application/vnd.jupyter.widget-view+json": {
       "model_id": "42654d49de864a02bdcfd34189bfaf73",
       "version_major": 2,
       "version_minor": 0
      },
      "text/plain": [
       "HBox(children=(FloatProgress(value=0.0, max=960.0), HTML(value='')))"
      ]
     },
     "metadata": {},
     "output_type": "display_data"
    },
    {
     "data": {
      "application/vnd.jupyter.widget-view+json": {
       "model_id": "70099cb88b294aa591c5329e9cf1a62d",
       "version_major": 2,
       "version_minor": 0
      },
      "text/plain": [
       "HBox(children=(FloatProgress(value=0.0, max=960.0), HTML(value='')))"
      ]
     },
     "metadata": {},
     "output_type": "display_data"
    },
    {
     "data": {
      "application/vnd.jupyter.widget-view+json": {
       "model_id": "d8625afb5d9e4b59bb8b18a3352f3a31",
       "version_major": 2,
       "version_minor": 0
      },
      "text/plain": [
       "HBox(children=(FloatProgress(value=0.0, max=960.0), HTML(value='')))"
      ]
     },
     "metadata": {},
     "output_type": "display_data"
    },
    {
     "data": {
      "application/vnd.jupyter.widget-view+json": {
       "model_id": "9a27bb3e52394783af6b11ec094c1c62",
       "version_major": 2,
       "version_minor": 0
      },
      "text/plain": [
       "HBox(children=(FloatProgress(value=0.0, max=960.0), HTML(value='')))"
      ]
     },
     "metadata": {},
     "output_type": "display_data"
    },
    {
     "data": {
      "application/vnd.jupyter.widget-view+json": {
       "model_id": "2536b7f3371b4d20ab27dd1fee21c057",
       "version_major": 2,
       "version_minor": 0
      },
      "text/plain": [
       "HBox(children=(FloatProgress(value=0.0, max=960.0), HTML(value='')))"
      ]
     },
     "metadata": {},
     "output_type": "display_data"
    },
    {
     "data": {
      "application/vnd.jupyter.widget-view+json": {
       "model_id": "6c905b3d2e4649cb8fba9d0fb6008c39",
       "version_major": 2,
       "version_minor": 0
      },
      "text/plain": [
       "HBox(children=(FloatProgress(value=0.0, max=960.0), HTML(value='')))"
      ]
     },
     "metadata": {},
     "output_type": "display_data"
    },
    {
     "data": {
      "application/vnd.jupyter.widget-view+json": {
       "model_id": "42630be858d84e07b079f3caa5a3aa35",
       "version_major": 2,
       "version_minor": 0
      },
      "text/plain": [
       "HBox(children=(FloatProgress(value=0.0, max=960.0), HTML(value='')))"
      ]
     },
     "metadata": {},
     "output_type": "display_data"
    },
    {
     "data": {
      "application/vnd.jupyter.widget-view+json": {
       "model_id": "fc58d72e7c35424c863c6e3ba37e8185",
       "version_major": 2,
       "version_minor": 0
      },
      "text/plain": [
       "HBox(children=(FloatProgress(value=0.0, max=960.0), HTML(value='')))"
      ]
     },
     "metadata": {},
     "output_type": "display_data"
    },
    {
     "data": {
      "application/vnd.jupyter.widget-view+json": {
       "model_id": "1326f06605524079a63045be4a94fff4",
       "version_major": 2,
       "version_minor": 0
      },
      "text/plain": [
       "HBox(children=(FloatProgress(value=0.0, max=960.0), HTML(value='')))"
      ]
     },
     "metadata": {},
     "output_type": "display_data"
    },
    {
     "data": {
      "application/vnd.jupyter.widget-view+json": {
       "model_id": "dedc1ad89d0c457b9a7ce95bb28adf2b",
       "version_major": 2,
       "version_minor": 0
      },
      "text/plain": [
       "HBox(children=(FloatProgress(value=0.0, max=960.0), HTML(value='')))"
      ]
     },
     "metadata": {},
     "output_type": "display_data"
    },
    {
     "data": {
      "application/vnd.jupyter.widget-view+json": {
       "model_id": "2c51ef48e3854612adad2dbef8a18034",
       "version_major": 2,
       "version_minor": 0
      },
      "text/plain": [
       "HBox(children=(FloatProgress(value=0.0, max=960.0), HTML(value='')))"
      ]
     },
     "metadata": {},
     "output_type": "display_data"
    },
    {
     "data": {
      "application/vnd.jupyter.widget-view+json": {
       "model_id": "0b8dba889f26427ba477ae13f367ca56",
       "version_major": 2,
       "version_minor": 0
      },
      "text/plain": [
       "HBox(children=(FloatProgress(value=0.0, max=960.0), HTML(value='')))"
      ]
     },
     "metadata": {},
     "output_type": "display_data"
    },
    {
     "data": {
      "application/vnd.jupyter.widget-view+json": {
       "model_id": "377b190011184c448ee5975d59d9f929",
       "version_major": 2,
       "version_minor": 0
      },
      "text/plain": [
       "HBox(children=(FloatProgress(value=0.0, max=960.0), HTML(value='')))"
      ]
     },
     "metadata": {},
     "output_type": "display_data"
    },
    {
     "data": {
      "application/vnd.jupyter.widget-view+json": {
       "model_id": "5f51fd4a8e144896914293bab6331e21",
       "version_major": 2,
       "version_minor": 0
      },
      "text/plain": [
       "HBox(children=(FloatProgress(value=0.0, max=960.0), HTML(value='')))"
      ]
     },
     "metadata": {},
     "output_type": "display_data"
    },
    {
     "data": {
      "application/vnd.jupyter.widget-view+json": {
       "model_id": "5b672c5ea1c443aebeb8191d094880cc",
       "version_major": 2,
       "version_minor": 0
      },
      "text/plain": [
       "HBox(children=(FloatProgress(value=0.0, max=960.0), HTML(value='')))"
      ]
     },
     "metadata": {},
     "output_type": "display_data"
    },
    {
     "data": {
      "application/vnd.jupyter.widget-view+json": {
       "model_id": "edc82b7b539341629cd25374a9688428",
       "version_major": 2,
       "version_minor": 0
      },
      "text/plain": [
       "HBox(children=(FloatProgress(value=0.0, max=960.0), HTML(value='')))"
      ]
     },
     "metadata": {},
     "output_type": "display_data"
    },
    {
     "data": {
      "application/vnd.jupyter.widget-view+json": {
       "model_id": "b5a452c909d04656a69b6b0939147f37",
       "version_major": 2,
       "version_minor": 0
      },
      "text/plain": [
       "HBox(children=(FloatProgress(value=0.0, max=960.0), HTML(value='')))"
      ]
     },
     "metadata": {},
     "output_type": "display_data"
    },
    {
     "data": {
      "application/vnd.jupyter.widget-view+json": {
       "model_id": "3a1f7aae594a4caaa6d82574998193f9",
       "version_major": 2,
       "version_minor": 0
      },
      "text/plain": [
       "HBox(children=(FloatProgress(value=0.0, max=960.0), HTML(value='')))"
      ]
     },
     "metadata": {},
     "output_type": "display_data"
    },
    {
     "data": {
      "application/vnd.jupyter.widget-view+json": {
       "model_id": "e6cebb688114493ba7458bf22c40a13b",
       "version_major": 2,
       "version_minor": 0
      },
      "text/plain": [
       "HBox(children=(FloatProgress(value=0.0, max=960.0), HTML(value='')))"
      ]
     },
     "metadata": {},
     "output_type": "display_data"
    },
    {
     "data": {
      "application/vnd.jupyter.widget-view+json": {
       "model_id": "91be4a48b86647d69e706b4102625814",
       "version_major": 2,
       "version_minor": 0
      },
      "text/plain": [
       "HBox(children=(FloatProgress(value=0.0, max=960.0), HTML(value='')))"
      ]
     },
     "metadata": {},
     "output_type": "display_data"
    },
    {
     "data": {
      "application/vnd.jupyter.widget-view+json": {
       "model_id": "d637c8a78244419d837afd4739b70bcd",
       "version_major": 2,
       "version_minor": 0
      },
      "text/plain": [
       "HBox(children=(FloatProgress(value=0.0, max=960.0), HTML(value='')))"
      ]
     },
     "metadata": {},
     "output_type": "display_data"
    },
    {
     "data": {
      "application/vnd.jupyter.widget-view+json": {
       "model_id": "3e170e6d41524bbd8b152a81426068d2",
       "version_major": 2,
       "version_minor": 0
      },
      "text/plain": [
       "HBox(children=(FloatProgress(value=0.0, max=960.0), HTML(value='')))"
      ]
     },
     "metadata": {},
     "output_type": "display_data"
    },
    {
     "data": {
      "application/vnd.jupyter.widget-view+json": {
       "model_id": "cdc4437f666248dbbfcdac3421c527fa",
       "version_major": 2,
       "version_minor": 0
      },
      "text/plain": [
       "HBox(children=(FloatProgress(value=0.0, max=960.0), HTML(value='')))"
      ]
     },
     "metadata": {},
     "output_type": "display_data"
    },
    {
     "data": {
      "application/vnd.jupyter.widget-view+json": {
       "model_id": "7ed6810619154f049991c9990c6236ae",
       "version_major": 2,
       "version_minor": 0
      },
      "text/plain": [
       "HBox(children=(FloatProgress(value=0.0, max=960.0), HTML(value='')))"
      ]
     },
     "metadata": {},
     "output_type": "display_data"
    },
    {
     "data": {
      "application/vnd.jupyter.widget-view+json": {
       "model_id": "daeade30747c4042a1d0bb1a1e561293",
       "version_major": 2,
       "version_minor": 0
      },
      "text/plain": [
       "HBox(children=(FloatProgress(value=0.0, max=960.0), HTML(value='')))"
      ]
     },
     "metadata": {},
     "output_type": "display_data"
    },
    {
     "data": {
      "application/vnd.jupyter.widget-view+json": {
       "model_id": "db9664f8c9d64055bb5df6b8dd6ffce5",
       "version_major": 2,
       "version_minor": 0
      },
      "text/plain": [
       "HBox(children=(FloatProgress(value=0.0, max=960.0), HTML(value='')))"
      ]
     },
     "metadata": {},
     "output_type": "display_data"
    },
    {
     "data": {
      "application/vnd.jupyter.widget-view+json": {
       "model_id": "caf8725086754c7fb29cd3b12dd4c157",
       "version_major": 2,
       "version_minor": 0
      },
      "text/plain": [
       "HBox(children=(FloatProgress(value=0.0, max=960.0), HTML(value='')))"
      ]
     },
     "metadata": {},
     "output_type": "display_data"
    },
    {
     "data": {
      "application/vnd.jupyter.widget-view+json": {
       "model_id": "8aa95c5456b54016a86409557a144336",
       "version_major": 2,
       "version_minor": 0
      },
      "text/plain": [
       "HBox(children=(FloatProgress(value=0.0, max=960.0), HTML(value='')))"
      ]
     },
     "metadata": {},
     "output_type": "display_data"
    },
    {
     "data": {
      "application/vnd.jupyter.widget-view+json": {
       "model_id": "012f633f8c5c4c36b69f03fc22019122",
       "version_major": 2,
       "version_minor": 0
      },
      "text/plain": [
       "HBox(children=(FloatProgress(value=0.0, max=960.0), HTML(value='')))"
      ]
     },
     "metadata": {},
     "output_type": "display_data"
    },
    {
     "data": {
      "application/vnd.jupyter.widget-view+json": {
       "model_id": "da49978360264d27be3898d70dd176f0",
       "version_major": 2,
       "version_minor": 0
      },
      "text/plain": [
       "HBox(children=(FloatProgress(value=0.0, max=960.0), HTML(value='')))"
      ]
     },
     "metadata": {},
     "output_type": "display_data"
    },
    {
     "name": "stdout",
     "output_type": "stream",
     "text": [
      "\n",
      "\n",
      "\n",
      "\n",
      "\n",
      "\n",
      "\n",
      "\n",
      "\n",
      "\n",
      "\n",
      "\n",
      "\n",
      "\n",
      "\n",
      "\n",
      "\n",
      "\n",
      "\n",
      "\n",
      "\n",
      "\n",
      "\n",
      "\n",
      "\n",
      "\n",
      "\n",
      "\n",
      "\n",
      "\n",
      "\n",
      "\n",
      "\n",
      "\n",
      "\n",
      "\n",
      "\n",
      "\n",
      "\n",
      "\n",
      "\n",
      "\n",
      "\n",
      "\n",
      "\n",
      "\n",
      "\n",
      "\n",
      "\n",
      "\n",
      "\n"
     ]
    }
   ],
   "source": [
    "trainer.train(train_dl, val_dl, epochs=50)"
   ]
  },
  {
   "cell_type": "markdown",
   "metadata": {},
   "source": [
    "## Metrics ##"
   ]
  },
  {
   "cell_type": "code",
   "execution_count": 9,
   "metadata": {},
   "outputs": [
    {
     "data": {
      "text/html": [
       "<div>\n",
       "<style scoped>\n",
       "    .dataframe tbody tr th:only-of-type {\n",
       "        vertical-align: middle;\n",
       "    }\n",
       "\n",
       "    .dataframe tbody tr th {\n",
       "        vertical-align: top;\n",
       "    }\n",
       "\n",
       "    .dataframe thead th {\n",
       "        text-align: right;\n",
       "    }\n",
       "</style>\n",
       "<table border=\"1\" class=\"dataframe\">\n",
       "  <thead>\n",
       "    <tr style=\"text-align: right;\">\n",
       "      <th></th>\n",
       "      <th>epoch</th>\n",
       "      <th>train_acc</th>\n",
       "      <th>train_loss</th>\n",
       "      <th>lr</th>\n",
       "      <th>val_acc</th>\n",
       "      <th>val_loss</th>\n",
       "    </tr>\n",
       "  </thead>\n",
       "  <tbody>\n",
       "    <tr>\n",
       "      <th>0</th>\n",
       "      <td>0</td>\n",
       "      <td>70.913544</td>\n",
       "      <td>0.750695</td>\n",
       "      <td>4.000000</td>\n",
       "      <td>85.933334</td>\n",
       "      <td>0.417719</td>\n",
       "    </tr>\n",
       "    <tr>\n",
       "      <th>1</th>\n",
       "      <td>1</td>\n",
       "      <td>88.133331</td>\n",
       "      <td>0.353993</td>\n",
       "      <td>3.600000</td>\n",
       "      <td>88.812500</td>\n",
       "      <td>0.335948</td>\n",
       "    </tr>\n",
       "    <tr>\n",
       "      <th>2</th>\n",
       "      <td>2</td>\n",
       "      <td>90.795830</td>\n",
       "      <td>0.279733</td>\n",
       "      <td>3.240000</td>\n",
       "      <td>89.508331</td>\n",
       "      <td>0.308520</td>\n",
       "    </tr>\n",
       "    <tr>\n",
       "      <th>3</th>\n",
       "      <td>3</td>\n",
       "      <td>92.328125</td>\n",
       "      <td>0.235825</td>\n",
       "      <td>2.916000</td>\n",
       "      <td>89.991669</td>\n",
       "      <td>0.295180</td>\n",
       "    </tr>\n",
       "    <tr>\n",
       "      <th>4</th>\n",
       "      <td>4</td>\n",
       "      <td>93.510414</td>\n",
       "      <td>0.203851</td>\n",
       "      <td>2.624400</td>\n",
       "      <td>90.162498</td>\n",
       "      <td>0.288061</td>\n",
       "    </tr>\n",
       "    <tr>\n",
       "      <th>5</th>\n",
       "      <td>5</td>\n",
       "      <td>94.472916</td>\n",
       "      <td>0.178776</td>\n",
       "      <td>2.361960</td>\n",
       "      <td>90.324997</td>\n",
       "      <td>0.284260</td>\n",
       "    </tr>\n",
       "    <tr>\n",
       "      <th>6</th>\n",
       "      <td>6</td>\n",
       "      <td>95.277084</td>\n",
       "      <td>0.158461</td>\n",
       "      <td>2.125764</td>\n",
       "      <td>90.462502</td>\n",
       "      <td>0.282327</td>\n",
       "    </tr>\n",
       "    <tr>\n",
       "      <th>7</th>\n",
       "      <td>7</td>\n",
       "      <td>95.907288</td>\n",
       "      <td>0.141743</td>\n",
       "      <td>1.913188</td>\n",
       "      <td>90.541664</td>\n",
       "      <td>0.281495</td>\n",
       "    </tr>\n",
       "    <tr>\n",
       "      <th>8</th>\n",
       "      <td>8</td>\n",
       "      <td>96.421875</td>\n",
       "      <td>0.127866</td>\n",
       "      <td>1.721869</td>\n",
       "      <td>90.550003</td>\n",
       "      <td>0.281333</td>\n",
       "    </tr>\n",
       "    <tr>\n",
       "      <th>9</th>\n",
       "      <td>9</td>\n",
       "      <td>96.861458</td>\n",
       "      <td>0.116285</td>\n",
       "      <td>1.549682</td>\n",
       "      <td>90.599998</td>\n",
       "      <td>0.281576</td>\n",
       "    </tr>\n",
       "    <tr>\n",
       "      <th>10</th>\n",
       "      <td>10</td>\n",
       "      <td>97.213539</td>\n",
       "      <td>0.106582</td>\n",
       "      <td>1.394714</td>\n",
       "      <td>90.641663</td>\n",
       "      <td>0.282064</td>\n",
       "    </tr>\n",
       "    <tr>\n",
       "      <th>11</th>\n",
       "      <td>11</td>\n",
       "      <td>97.512505</td>\n",
       "      <td>0.098424</td>\n",
       "      <td>1.255242</td>\n",
       "      <td>90.662498</td>\n",
       "      <td>0.282696</td>\n",
       "    </tr>\n",
       "    <tr>\n",
       "      <th>12</th>\n",
       "      <td>12</td>\n",
       "      <td>97.767708</td>\n",
       "      <td>0.091542</td>\n",
       "      <td>1.129718</td>\n",
       "      <td>90.674995</td>\n",
       "      <td>0.283407</td>\n",
       "    </tr>\n",
       "    <tr>\n",
       "      <th>13</th>\n",
       "      <td>13</td>\n",
       "      <td>97.953125</td>\n",
       "      <td>0.085717</td>\n",
       "      <td>1.016746</td>\n",
       "      <td>90.679161</td>\n",
       "      <td>0.284157</td>\n",
       "    </tr>\n",
       "    <tr>\n",
       "      <th>14</th>\n",
       "      <td>14</td>\n",
       "      <td>98.133331</td>\n",
       "      <td>0.080770</td>\n",
       "      <td>0.915072</td>\n",
       "      <td>90.679161</td>\n",
       "      <td>0.284915</td>\n",
       "    </tr>\n",
       "    <tr>\n",
       "      <th>15</th>\n",
       "      <td>15</td>\n",
       "      <td>98.276047</td>\n",
       "      <td>0.076552</td>\n",
       "      <td>0.823565</td>\n",
       "      <td>90.704170</td>\n",
       "      <td>0.285661</td>\n",
       "    </tr>\n",
       "    <tr>\n",
       "      <th>16</th>\n",
       "      <td>16</td>\n",
       "      <td>98.415627</td>\n",
       "      <td>0.072941</td>\n",
       "      <td>0.741208</td>\n",
       "      <td>90.737495</td>\n",
       "      <td>0.286381</td>\n",
       "    </tr>\n",
       "    <tr>\n",
       "      <th>17</th>\n",
       "      <td>17</td>\n",
       "      <td>98.517708</td>\n",
       "      <td>0.069839</td>\n",
       "      <td>0.667087</td>\n",
       "      <td>90.720833</td>\n",
       "      <td>0.287065</td>\n",
       "    </tr>\n",
       "    <tr>\n",
       "      <th>18</th>\n",
       "      <td>18</td>\n",
       "      <td>98.607292</td>\n",
       "      <td>0.067163</td>\n",
       "      <td>0.600379</td>\n",
       "      <td>90.729164</td>\n",
       "      <td>0.287708</td>\n",
       "    </tr>\n",
       "    <tr>\n",
       "      <th>19</th>\n",
       "      <td>19</td>\n",
       "      <td>98.699997</td>\n",
       "      <td>0.064847</td>\n",
       "      <td>0.540341</td>\n",
       "      <td>90.737495</td>\n",
       "      <td>0.288307</td>\n",
       "    </tr>\n",
       "    <tr>\n",
       "      <th>20</th>\n",
       "      <td>20</td>\n",
       "      <td>98.759369</td>\n",
       "      <td>0.062835</td>\n",
       "      <td>0.486307</td>\n",
       "      <td>90.745834</td>\n",
       "      <td>0.288861</td>\n",
       "    </tr>\n",
       "    <tr>\n",
       "      <th>21</th>\n",
       "      <td>21</td>\n",
       "      <td>98.816666</td>\n",
       "      <td>0.061082</td>\n",
       "      <td>0.437676</td>\n",
       "      <td>90.733330</td>\n",
       "      <td>0.289372</td>\n",
       "    </tr>\n",
       "    <tr>\n",
       "      <th>22</th>\n",
       "      <td>22</td>\n",
       "      <td>98.885414</td>\n",
       "      <td>0.059550</td>\n",
       "      <td>0.393908</td>\n",
       "      <td>90.741661</td>\n",
       "      <td>0.289842</td>\n",
       "    </tr>\n",
       "    <tr>\n",
       "      <th>23</th>\n",
       "      <td>23</td>\n",
       "      <td>98.922913</td>\n",
       "      <td>0.058207</td>\n",
       "      <td>0.354518</td>\n",
       "      <td>90.720833</td>\n",
       "      <td>0.290271</td>\n",
       "    </tr>\n",
       "    <tr>\n",
       "      <th>24</th>\n",
       "      <td>24</td>\n",
       "      <td>98.967705</td>\n",
       "      <td>0.057028</td>\n",
       "      <td>0.319066</td>\n",
       "      <td>90.733330</td>\n",
       "      <td>0.290664</td>\n",
       "    </tr>\n",
       "    <tr>\n",
       "      <th>25</th>\n",
       "      <td>25</td>\n",
       "      <td>99.006248</td>\n",
       "      <td>0.055990</td>\n",
       "      <td>0.287159</td>\n",
       "      <td>90.737495</td>\n",
       "      <td>0.291022</td>\n",
       "    </tr>\n",
       "    <tr>\n",
       "      <th>26</th>\n",
       "      <td>26</td>\n",
       "      <td>99.033333</td>\n",
       "      <td>0.055073</td>\n",
       "      <td>0.258443</td>\n",
       "      <td>90.741661</td>\n",
       "      <td>0.291348</td>\n",
       "    </tr>\n",
       "    <tr>\n",
       "      <th>27</th>\n",
       "      <td>27</td>\n",
       "      <td>99.059372</td>\n",
       "      <td>0.054264</td>\n",
       "      <td>0.232599</td>\n",
       "      <td>90.737495</td>\n",
       "      <td>0.291644</td>\n",
       "    </tr>\n",
       "    <tr>\n",
       "      <th>28</th>\n",
       "      <td>28</td>\n",
       "      <td>99.088539</td>\n",
       "      <td>0.053546</td>\n",
       "      <td>0.209339</td>\n",
       "      <td>90.745834</td>\n",
       "      <td>0.291912</td>\n",
       "    </tr>\n",
       "    <tr>\n",
       "      <th>29</th>\n",
       "      <td>29</td>\n",
       "      <td>99.110420</td>\n",
       "      <td>0.052911</td>\n",
       "      <td>0.188405</td>\n",
       "      <td>90.750000</td>\n",
       "      <td>0.292155</td>\n",
       "    </tr>\n",
       "    <tr>\n",
       "      <th>30</th>\n",
       "      <td>30</td>\n",
       "      <td>99.122917</td>\n",
       "      <td>0.052346</td>\n",
       "      <td>0.169565</td>\n",
       "      <td>90.758331</td>\n",
       "      <td>0.292374</td>\n",
       "    </tr>\n",
       "    <tr>\n",
       "      <th>31</th>\n",
       "      <td>31</td>\n",
       "      <td>99.134377</td>\n",
       "      <td>0.051844</td>\n",
       "      <td>0.152608</td>\n",
       "      <td>90.762505</td>\n",
       "      <td>0.292571</td>\n",
       "    </tr>\n",
       "    <tr>\n",
       "      <th>32</th>\n",
       "      <td>32</td>\n",
       "      <td>99.153122</td>\n",
       "      <td>0.051397</td>\n",
       "      <td>0.137347</td>\n",
       "      <td>90.758331</td>\n",
       "      <td>0.292749</td>\n",
       "    </tr>\n",
       "    <tr>\n",
       "      <th>33</th>\n",
       "      <td>33</td>\n",
       "      <td>99.164581</td>\n",
       "      <td>0.050998</td>\n",
       "      <td>0.123613</td>\n",
       "      <td>90.766670</td>\n",
       "      <td>0.292908</td>\n",
       "    </tr>\n",
       "    <tr>\n",
       "      <th>34</th>\n",
       "      <td>34</td>\n",
       "      <td>99.178123</td>\n",
       "      <td>0.050643</td>\n",
       "      <td>0.111251</td>\n",
       "      <td>90.770836</td>\n",
       "      <td>0.293050</td>\n",
       "    </tr>\n",
       "    <tr>\n",
       "      <th>35</th>\n",
       "      <td>35</td>\n",
       "      <td>99.188545</td>\n",
       "      <td>0.050326</td>\n",
       "      <td>0.100126</td>\n",
       "      <td>90.758331</td>\n",
       "      <td>0.293178</td>\n",
       "    </tr>\n",
       "    <tr>\n",
       "      <th>36</th>\n",
       "      <td>36</td>\n",
       "      <td>99.198952</td>\n",
       "      <td>0.050042</td>\n",
       "      <td>0.090114</td>\n",
       "      <td>90.758331</td>\n",
       "      <td>0.293292</td>\n",
       "    </tr>\n",
       "    <tr>\n",
       "      <th>37</th>\n",
       "      <td>37</td>\n",
       "      <td>99.209373</td>\n",
       "      <td>0.049788</td>\n",
       "      <td>0.081102</td>\n",
       "      <td>90.762505</td>\n",
       "      <td>0.293393</td>\n",
       "    </tr>\n",
       "    <tr>\n",
       "      <th>38</th>\n",
       "      <td>38</td>\n",
       "      <td>99.213539</td>\n",
       "      <td>0.049561</td>\n",
       "      <td>0.072992</td>\n",
       "      <td>90.762505</td>\n",
       "      <td>0.293484</td>\n",
       "    </tr>\n",
       "    <tr>\n",
       "      <th>39</th>\n",
       "      <td>39</td>\n",
       "      <td>99.219795</td>\n",
       "      <td>0.049358</td>\n",
       "      <td>0.065693</td>\n",
       "      <td>90.762505</td>\n",
       "      <td>0.293566</td>\n",
       "    </tr>\n",
       "    <tr>\n",
       "      <th>40</th>\n",
       "      <td>40</td>\n",
       "      <td>99.224998</td>\n",
       "      <td>0.049176</td>\n",
       "      <td>0.059124</td>\n",
       "      <td>90.758331</td>\n",
       "      <td>0.293639</td>\n",
       "    </tr>\n",
       "    <tr>\n",
       "      <th>41</th>\n",
       "      <td>41</td>\n",
       "      <td>99.234375</td>\n",
       "      <td>0.049012</td>\n",
       "      <td>0.053211</td>\n",
       "      <td>90.758331</td>\n",
       "      <td>0.293704</td>\n",
       "    </tr>\n",
       "    <tr>\n",
       "      <th>42</th>\n",
       "      <td>42</td>\n",
       "      <td>99.241669</td>\n",
       "      <td>0.048866</td>\n",
       "      <td>0.047890</td>\n",
       "      <td>90.758331</td>\n",
       "      <td>0.293764</td>\n",
       "    </tr>\n",
       "    <tr>\n",
       "      <th>43</th>\n",
       "      <td>43</td>\n",
       "      <td>99.246872</td>\n",
       "      <td>0.048734</td>\n",
       "      <td>0.043101</td>\n",
       "      <td>90.750000</td>\n",
       "      <td>0.293818</td>\n",
       "    </tr>\n",
       "    <tr>\n",
       "      <th>44</th>\n",
       "      <td>44</td>\n",
       "      <td>99.253120</td>\n",
       "      <td>0.048616</td>\n",
       "      <td>0.038791</td>\n",
       "      <td>90.754166</td>\n",
       "      <td>0.293867</td>\n",
       "    </tr>\n",
       "    <tr>\n",
       "      <th>45</th>\n",
       "      <td>45</td>\n",
       "      <td>99.257294</td>\n",
       "      <td>0.048510</td>\n",
       "      <td>0.034912</td>\n",
       "      <td>90.754166</td>\n",
       "      <td>0.293912</td>\n",
       "    </tr>\n",
       "    <tr>\n",
       "      <th>46</th>\n",
       "      <td>46</td>\n",
       "      <td>99.261459</td>\n",
       "      <td>0.048414</td>\n",
       "      <td>0.031421</td>\n",
       "      <td>90.758331</td>\n",
       "      <td>0.293953</td>\n",
       "    </tr>\n",
       "    <tr>\n",
       "      <th>47</th>\n",
       "      <td>47</td>\n",
       "      <td>99.264580</td>\n",
       "      <td>0.048329</td>\n",
       "      <td>0.028279</td>\n",
       "      <td>90.750000</td>\n",
       "      <td>0.293990</td>\n",
       "    </tr>\n",
       "    <tr>\n",
       "      <th>48</th>\n",
       "      <td>48</td>\n",
       "      <td>99.268745</td>\n",
       "      <td>0.048251</td>\n",
       "      <td>0.025451</td>\n",
       "      <td>90.741661</td>\n",
       "      <td>0.294024</td>\n",
       "    </tr>\n",
       "    <tr>\n",
       "      <th>49</th>\n",
       "      <td>49</td>\n",
       "      <td>99.267708</td>\n",
       "      <td>0.048182</td>\n",
       "      <td>0.022906</td>\n",
       "      <td>90.745834</td>\n",
       "      <td>0.294055</td>\n",
       "    </tr>\n",
       "  </tbody>\n",
       "</table>\n",
       "</div>"
      ],
      "text/plain": [
       "    epoch  train_acc  train_loss        lr    val_acc  val_loss\n",
       "0       0  70.913544    0.750695  4.000000  85.933334  0.417719\n",
       "1       1  88.133331    0.353993  3.600000  88.812500  0.335948\n",
       "2       2  90.795830    0.279733  3.240000  89.508331  0.308520\n",
       "3       3  92.328125    0.235825  2.916000  89.991669  0.295180\n",
       "4       4  93.510414    0.203851  2.624400  90.162498  0.288061\n",
       "5       5  94.472916    0.178776  2.361960  90.324997  0.284260\n",
       "6       6  95.277084    0.158461  2.125764  90.462502  0.282327\n",
       "7       7  95.907288    0.141743  1.913188  90.541664  0.281495\n",
       "8       8  96.421875    0.127866  1.721869  90.550003  0.281333\n",
       "9       9  96.861458    0.116285  1.549682  90.599998  0.281576\n",
       "10     10  97.213539    0.106582  1.394714  90.641663  0.282064\n",
       "11     11  97.512505    0.098424  1.255242  90.662498  0.282696\n",
       "12     12  97.767708    0.091542  1.129718  90.674995  0.283407\n",
       "13     13  97.953125    0.085717  1.016746  90.679161  0.284157\n",
       "14     14  98.133331    0.080770  0.915072  90.679161  0.284915\n",
       "15     15  98.276047    0.076552  0.823565  90.704170  0.285661\n",
       "16     16  98.415627    0.072941  0.741208  90.737495  0.286381\n",
       "17     17  98.517708    0.069839  0.667087  90.720833  0.287065\n",
       "18     18  98.607292    0.067163  0.600379  90.729164  0.287708\n",
       "19     19  98.699997    0.064847  0.540341  90.737495  0.288307\n",
       "20     20  98.759369    0.062835  0.486307  90.745834  0.288861\n",
       "21     21  98.816666    0.061082  0.437676  90.733330  0.289372\n",
       "22     22  98.885414    0.059550  0.393908  90.741661  0.289842\n",
       "23     23  98.922913    0.058207  0.354518  90.720833  0.290271\n",
       "24     24  98.967705    0.057028  0.319066  90.733330  0.290664\n",
       "25     25  99.006248    0.055990  0.287159  90.737495  0.291022\n",
       "26     26  99.033333    0.055073  0.258443  90.741661  0.291348\n",
       "27     27  99.059372    0.054264  0.232599  90.737495  0.291644\n",
       "28     28  99.088539    0.053546  0.209339  90.745834  0.291912\n",
       "29     29  99.110420    0.052911  0.188405  90.750000  0.292155\n",
       "30     30  99.122917    0.052346  0.169565  90.758331  0.292374\n",
       "31     31  99.134377    0.051844  0.152608  90.762505  0.292571\n",
       "32     32  99.153122    0.051397  0.137347  90.758331  0.292749\n",
       "33     33  99.164581    0.050998  0.123613  90.766670  0.292908\n",
       "34     34  99.178123    0.050643  0.111251  90.770836  0.293050\n",
       "35     35  99.188545    0.050326  0.100126  90.758331  0.293178\n",
       "36     36  99.198952    0.050042  0.090114  90.758331  0.293292\n",
       "37     37  99.209373    0.049788  0.081102  90.762505  0.293393\n",
       "38     38  99.213539    0.049561  0.072992  90.762505  0.293484\n",
       "39     39  99.219795    0.049358  0.065693  90.762505  0.293566\n",
       "40     40  99.224998    0.049176  0.059124  90.758331  0.293639\n",
       "41     41  99.234375    0.049012  0.053211  90.758331  0.293704\n",
       "42     42  99.241669    0.048866  0.047890  90.758331  0.293764\n",
       "43     43  99.246872    0.048734  0.043101  90.750000  0.293818\n",
       "44     44  99.253120    0.048616  0.038791  90.754166  0.293867\n",
       "45     45  99.257294    0.048510  0.034912  90.754166  0.293912\n",
       "46     46  99.261459    0.048414  0.031421  90.758331  0.293953\n",
       "47     47  99.264580    0.048329  0.028279  90.750000  0.293990\n",
       "48     48  99.268745    0.048251  0.025451  90.741661  0.294024\n",
       "49     49  99.267708    0.048182  0.022906  90.745834  0.294055"
      ]
     },
     "execution_count": 9,
     "metadata": {},
     "output_type": "execute_result"
    }
   ],
   "source": [
    "trainer.history.to_dataframe()"
   ]
  },
  {
   "cell_type": "code",
   "execution_count": 10,
   "metadata": {},
   "outputs": [
    {
     "data": {
      "image/png": "[encoded data removed]",
      "text/plain": [
       "<Figure size 1080x720 with 4 Axes>"
      ]
     },
     "metadata": {
      "needs_background": "light"
     },
     "output_type": "display_data"
    }
   ],
   "source": [
    "trainer.history.plot(smooth=0.3)\n",
    "plt.show()"
   ]
  },
  {
   "cell_type": "markdown",
   "metadata": {},
   "source": [
    "### Test Evaluation ###"
   ]
  },
  {
   "cell_type": "code",
   "execution_count": 11,
   "metadata": {},
   "outputs": [],
   "source": [
    "results = trainer.evaluate(test_dl, metrics=['categorical_accuracy_percentage',\n",
    "                                             'confusion_matrix'])"
   ]
  },
  {
   "cell_type": "markdown",
   "metadata": {},
   "source": [
    "### Accuracy ###"
   ]
  },
  {
   "cell_type": "code",
   "execution_count": 12,
   "metadata": {},
   "outputs": [
    {
     "name": "stdout",
     "output_type": "stream",
     "text": [
      "Test accuracy: 86.93421173095703\n"
     ]
    }
   ],
   "source": [
    "print(\"Test accuracy:\", results['acc'])"
   ]
  },
  {
   "cell_type": "markdown",
   "metadata": {},
   "source": [
    "### Confusion Matrix ###"
   ]
  },
  {
   "cell_type": "code",
   "execution_count": 13,
   "metadata": {},
   "outputs": [
    {
     "data": {
      "image/png": "[encoded data removed]",
      "text/plain": [
       "<Figure size 576x576 with 1 Axes>"
      ]
     },
     "metadata": {
      "needs_background": "light"
     },
     "output_type": "display_data"
    }
   ],
   "source": [
    "plt.figure(figsize=(8, 8))\n",
    "results['confusion_matrix'].plot(classes=[\"World\",\n",
    "                                          \"Sports\",\n",
    "                                          \"Business\",\n",
    "                                          \"Sci/Tec\"])\n",
    "plt.show()"
   ]
  }
 ],
 "metadata": {
  "kernelspec": {
   "display_name": "Python 3",
   "language": "python",
   "name": "python3"
  },
  "language_info": {
   "codemirror_mode": {
    "name": "ipython",
    "version": 3
   },
   "file_extension": ".py",
   "mimetype": "text/x-python",
   "name": "python",
   "nbconvert_exporter": "python",
   "pygments_lexer": "ipython3",
   "version": "3.8.3"
  },
  "widgets": {
   "application/vnd.jupyter.widget-state+json": {
    "state": {
     "00155ebb64fe4c9a8a5ae9a528469d31": {
      "model_module": "@jupyter-widgets/base",
      "model_module_version": "1.2.0",
      "model_name": "LayoutModel",
      "state": {}
     },
     "012f633f8c5c4c36b69f03fc22019122": {
      "model_module": "@jupyter-widgets/controls",
      "model_module_version": "1.5.0",
      "model_name": "HBoxModel",
      "state": {
       "children": [
        "IPY_MODEL_573a2529f6994ef0bf9bf4d3b45bc5a8",
        "IPY_MODEL_3d60758d267c4e9cac5cf7e0275501bd"
       ],
       "layout": "IPY_MODEL_b2a035c45f6a450695a021adbf826354"
      }
     },
     "0224703149754e80b5639a83ebc7b0de": {
      "model_module": "@jupyter-widgets/controls",
      "model_module_version": "1.5.0",
      "model_name": "DescriptionStyleModel",
      "state": {
       "description_width": ""
      }
     },
     "0271aa75311844b0abdf6a62be7b54a8": {
      "model_module": "@jupyter-widgets/controls",
      "model_module_version": "1.5.0",
      "model_name": "DescriptionStyleModel",
      "state": {
       "description_width": ""
      }
     },
     "035bd34dbc0c4445bbfa7688901aeee3": {
      "model_module": "@jupyter-widgets/controls",
      "model_module_version": "1.5.0",
      "model_name": "FloatProgressModel",
      "state": {
       "bar_style": "success",
       "description": "Epoch 12: 100%",
       "layout": "IPY_MODEL_9ff26c5e50254692a208418f8b0fec05",
       "max": 960,
       "style": "IPY_MODEL_84f68613fa15438b940bba15991e08f7",
       "value": 960
      }
     },
     "04df9f22c9a249eea6678adfa93baa84": {
      "model_module": "@jupyter-widgets/controls",
      "model_module_version": "1.5.0",
      "model_name": "DescriptionStyleModel",
      "state": {
       "description_width": ""
      }
     },
     "0575ceafed544f059e62d7c25eb8ea04": {
      "model_module": "@jupyter-widgets/controls",
      "model_module_version": "1.5.0",
      "model_name": "ProgressStyleModel",
      "state": {
       "description_width": "initial"
      }
     },
     "05a586646cf2478c8323491691ea810a": {
      "model_module": "@jupyter-widgets/controls",
      "model_module_version": "1.5.0",
      "model_name": "DescriptionStyleModel",
      "state": {
       "description_width": ""
      }
     },
     "064e4c4c0bc44338998300cce94f8f50": {
      "model_module": "@jupyter-widgets/controls",
      "model_module_version": "1.5.0",
      "model_name": "HTMLModel",
      "state": {
       "layout": "IPY_MODEL_c0c1db89dc3b4c1da373e02d5d225789",
       "style": "IPY_MODEL_52376e1315034d429552ce5a46a0c7eb",
       "value": " 960/960 [00:56&lt;00:00, 17.14 batchs/s, lr=2.362, train_acc=94.473, train_loss=0.179, val_acc=90.325, val_loss=0.284]"
      }
     },
     "065c0100577e474abe98d7c2159a9b23": {
      "model_module": "@jupyter-widgets/controls",
      "model_module_version": "1.5.0",
      "model_name": "FloatProgressModel",
      "state": {
       "bar_style": "success",
       "description": "Epoch 16: 100%",
       "layout": "IPY_MODEL_c5fef0a16e7149b685163eebc21fbbba",
       "max": 960,
       "style": "IPY_MODEL_53fe43be87154d3fb07e735fbba7795a",
       "value": 960
      }
     },
     "08533df89e3e43eb97cf5f6df1c4133f": {
      "model_module": "@jupyter-widgets/controls",
      "model_module_version": "1.5.0",
      "model_name": "FloatProgressModel",
      "state": {
       "bar_style": "success",
       "description": "Epoch 5: 100%",
       "layout": "IPY_MODEL_18b8b55159da4c21b2a35f84c31423a1",
       "max": 960,
       "style": "IPY_MODEL_a7eb2ac8d81d4fa2a0dfda2cda17b2d2",
       "value": 960
      }
     },
     "08b066c9d56747bf8b229447cec052b9": {
      "model_module": "@jupyter-widgets/controls",
      "model_module_version": "1.5.0",
      "model_name": "FloatProgressModel",
      "state": {
       "bar_style": "success",
       "description": "Epoch 33: 100%",
       "layout": "IPY_MODEL_9a25126da5414b89aebe3049a046f63e",
       "max": 960,
       "style": "IPY_MODEL_9afec6525bae4d43bb973c7ef71db9ee",
       "value": 960
      }
     },
     "08b4f3ef37914c4aa3b74c019722e53f": {
      "model_module": "@jupyter-widgets/controls",
      "model_module_version": "1.5.0",
      "model_name": "HTMLModel",
      "state": {
       "layout": "IPY_MODEL_bac41b3404cd4a39a0ac034440470a98",
       "style": "IPY_MODEL_c2694a1cade14ad2adcbae0b004fb26b",
       "value": " 960/960 [00:19&lt;00:00, 48.17 batchs/s, lr=0.111, train_acc=99.178, train_loss=0.051, val_acc=90.771, val_loss=0.293]"
      }
     },
     "091e32742d534123b384facac172d652": {
      "model_module": "@jupyter-widgets/base",
      "model_module_version": "1.2.0",
      "model_name": "LayoutModel",
      "state": {}
     },
     "09b241325310474eab5025b3c8fbaf78": {
      "model_module": "@jupyter-widgets/controls",
      "model_module_version": "1.5.0",
      "model_name": "ProgressStyleModel",
      "state": {
       "description_width": "initial"
      }
     },
     "09f84c82a9a341abbcb3d5dbcd6e718c": {
      "model_module": "@jupyter-widgets/controls",
      "model_module_version": "1.5.0",
      "model_name": "HTMLModel",
      "state": {
       "layout": "IPY_MODEL_187365b633ac4809addb71ae89f698a3",
       "style": "IPY_MODEL_3b5753a2e5534d3b90ecb63b830f9605",
       "value": " 960/960 [00:33&lt;00:00, 28.52 batchs/s, lr=0.355, train_acc=98.923, train_loss=0.058, val_acc=90.721, val_loss=0.290]"
      }
     },
     "0afc1c03075046b4bbc2017bd5420c58": {
      "model_module": "@jupyter-widgets/controls",
      "model_module_version": "1.5.0",
      "model_name": "DescriptionStyleModel",
      "state": {
       "description_width": ""
      }
     },
     "0b77c6153e2d48a5a45a5e840470183d": {
      "model_module": "@jupyter-widgets/controls",
      "model_module_version": "1.5.0",
      "model_name": "HTMLModel",
      "state": {
       "layout": "IPY_MODEL_fd17755ba9a14bb78ad6aa2b7704b356",
       "style": "IPY_MODEL_6c032ab241954624b53ba503b6a802a6",
       "value": " 960/960 [00:07&lt;00:00, 129.15 batchs/s, lr=0.039, train_acc=99.253, train_loss=0.049, val_acc=90.754, val_loss=0.294]"
      }
     },
     "0b8dba889f26427ba477ae13f367ca56": {
      "model_module": "@jupyter-widgets/controls",
      "model_module_version": "1.5.0",
      "model_name": "HBoxModel",
      "state": {
       "children": [
        "IPY_MODEL_cbfe4b8b67f049459b17adc079de55ac",
        "IPY_MODEL_bad74c7248b3467fa6cc85efae3d72cd"
       ],
       "layout": "IPY_MODEL_4521ee1542cf4f9e992c873310cf479d"
      }
     },
     "0bae09944f7b4e95bdb4606706b54dc8": {
      "model_module": "@jupyter-widgets/base",
      "model_module_version": "1.2.0",
      "model_name": "LayoutModel",
      "state": {}
     },
     "0be51aa1e4774d63b192149825988024": {
      "model_module": "@jupyter-widgets/controls",
      "model_module_version": "1.5.0",
      "model_name": "HBoxModel",
      "state": {
       "children": [
        "IPY_MODEL_08533df89e3e43eb97cf5f6df1c4133f",
        "IPY_MODEL_210038bbf262407c904c3399d897c248"
       ],
       "layout": "IPY_MODEL_557cba8488324dffa52373e969db280c"
      }
     },
     "0c1bde7183ea4ab389ae9101c81f885d": {
      "model_module": "@jupyter-widgets/controls",
      "model_module_version": "1.5.0",
      "model_name": "FloatProgressModel",
      "state": {
       "bar_style": "success",
       "description": "Epoch 41: 100%",
       "layout": "IPY_MODEL_9b1ca62b16474715bcbd6b6f6ea47a97",
       "max": 960,
       "style": "IPY_MODEL_68ce6c41a9884622b061631456789f79",
       "value": 960
      }
     },
     "0dfd6a814cf948dd8321adda0c24a8bc": {
      "model_module": "@jupyter-widgets/controls",
      "model_module_version": "1.5.0",
      "model_name": "ProgressStyleModel",
      "state": {
       "description_width": "initial"
      }
     },
     "0ee5a42a12b84f88807116a8c7286c1b": {
      "model_module": "@jupyter-widgets/controls",
      "model_module_version": "1.5.0",
      "model_name": "FloatProgressModel",
      "state": {
       "bar_style": "success",
       "description": "Epoch 1: 100%",
       "layout": "IPY_MODEL_c9c318cca7384fd69d2719c473ffd966",
       "max": 960,
       "style": "IPY_MODEL_0f6f14241e6447df9a378eb8b8cc8daf",
       "value": 960
      }
     },
     "0f3989dea064429f8d6a5846f176801c": {
      "model_module": "@jupyter-widgets/controls",
      "model_module_version": "1.5.0",
      "model_name": "HBoxModel",
      "state": {
       "children": [
        "IPY_MODEL_dd6b80bdc1e1471e93eecda2398f08ef",
        "IPY_MODEL_9bbc21d8385546d4a08f35c9655af35d"
       ],
       "layout": "IPY_MODEL_9dd47cb2762144ec99e20848a565ea14"
      }
     },
     "0f6f14241e6447df9a378eb8b8cc8daf": {
      "model_module": "@jupyter-widgets/controls",
      "model_module_version": "1.5.0",
      "model_name": "ProgressStyleModel",
      "state": {
       "description_width": "initial"
      }
     },
     "10b1dbd0426c457bbc0ac3065f2bfded": {
      "model_module": "@jupyter-widgets/base",
      "model_module_version": "1.2.0",
      "model_name": "LayoutModel",
      "state": {}
     },
     "10c103945e30479e9a4d125bb4e06ee1": {
      "model_module": "@jupyter-widgets/base",
      "model_module_version": "1.2.0",
      "model_name": "LayoutModel",
      "state": {}
     },
     "10d28917eb5247e999666e5780bb61a7": {
      "model_module": "@jupyter-widgets/controls",
      "model_module_version": "1.5.0",
      "model_name": "HBoxModel",
      "state": {
       "children": [
        "IPY_MODEL_dd20543f20904147968efd5e348faa42",
        "IPY_MODEL_141c9a6d8f8d4d06aa1760a154bbc213"
       ],
       "layout": "IPY_MODEL_f0fd140896f4452a813cf17732787525"
      }
     },
     "10f332c076a84b8385a2803ab015911a": {
      "model_module": "@jupyter-widgets/base",
      "model_module_version": "1.2.0",
      "model_name": "LayoutModel",
      "state": {}
     },
     "1326f06605524079a63045be4a94fff4": {
      "model_module": "@jupyter-widgets/controls",
      "model_module_version": "1.5.0",
      "model_name": "HBoxModel",
      "state": {
       "children": [
        "IPY_MODEL_b9c5d58d872b4d4a953607068158cfb8",
        "IPY_MODEL_f0071ce95108457bae8050b86030f56b"
       ],
       "layout": "IPY_MODEL_a17ecf61608b40f2a390dfc69f582fb5"
      }
     },
     "13450313218744c48571aa1358a1c8d7": {
      "model_module": "@jupyter-widgets/base",
      "model_module_version": "1.2.0",
      "model_name": "LayoutModel",
      "state": {}
     },
     "13f736ede265400cb5583c9e8a0cb3f2": {
      "model_module": "@jupyter-widgets/controls",
      "model_module_version": "1.5.0",
      "model_name": "HTMLModel",
      "state": {
       "layout": "IPY_MODEL_c261ac884dbc49ddb4ef025439144553",
       "style": "IPY_MODEL_5cf4538357c345e6903c90e3eb217f34",
       "value": " 960/960 [00:24&lt;00:00, 38.62 batchs/s, lr=0.170, train_acc=99.123, train_loss=0.052, val_acc=90.758, val_loss=0.292]"
      }
     },
     "141c9a6d8f8d4d06aa1760a154bbc213": {
      "model_module": "@jupyter-widgets/controls",
      "model_module_version": "1.5.0",
      "model_name": "HTMLModel",
      "state": {
       "layout": "IPY_MODEL_38a884495dcb4515817f4eb49ccb8436",
       "style": "IPY_MODEL_4e3ba3e3e8c243b182584b5636c9f109",
       "value": " 960/960 [00:47&lt;00:00, 20.24 batchs/s, lr=1.130, train_acc=97.768, train_loss=0.092, val_acc=90.675, val_loss=0.283]"
      }
     },
     "15ccf719d48b463d9cc80b33d943aa7d": {
      "model_module": "@jupyter-widgets/controls",
      "model_module_version": "1.5.0",
      "model_name": "HTMLModel",
      "state": {
       "layout": "IPY_MODEL_ce27c40b4b2e4eb1b7b9fc96286f79af",
       "style": "IPY_MODEL_39dbe1bade0a4d51bba714a0ff0cb80b",
       "value": " 960/960 [00:58&lt;00:00, 16.42 batchs/s, lr=2.916, train_acc=92.328, train_loss=0.236, val_acc=89.992, val_loss=0.295]"
      }
     },
     "172ffd55857a428a90fe7eecb4ae9ca0": {
      "model_module": "@jupyter-widgets/base",
      "model_module_version": "1.2.0",
      "model_name": "LayoutModel",
      "state": {}
     },
     "1756a418fb5944b5b9f1e369f9273c87": {
      "model_module": "@jupyter-widgets/base",
      "model_module_version": "1.2.0",
      "model_name": "LayoutModel",
      "state": {}
     },
     "176b54a28cb34e67a7e38f84c0613459": {
      "model_module": "@jupyter-widgets/base",
      "model_module_version": "1.2.0",
      "model_name": "LayoutModel",
      "state": {}
     },
     "1772a92ca00a45b58c95620a5989fad0": {
      "model_module": "@jupyter-widgets/base",
      "model_module_version": "1.2.0",
      "model_name": "LayoutModel",
      "state": {}
     },
     "17c979b1bba44e338a8eaa5b0d720e02": {
      "model_module": "@jupyter-widgets/base",
      "model_module_version": "1.2.0",
      "model_name": "LayoutModel",
      "state": {}
     },
     "187365b633ac4809addb71ae89f698a3": {
      "model_module": "@jupyter-widgets/base",
      "model_module_version": "1.2.0",
      "model_name": "LayoutModel",
      "state": {}
     },
     "18b8b55159da4c21b2a35f84c31423a1": {
      "model_module": "@jupyter-widgets/base",
      "model_module_version": "1.2.0",
      "model_name": "LayoutModel",
      "state": {}
     },
     "19966974d94b47df989cd0d1dad6caef": {
      "model_module": "@jupyter-widgets/controls",
      "model_module_version": "1.5.0",
      "model_name": "FloatProgressModel",
      "state": {
       "bar_style": "success",
       "description": "Epoch 31: 100%",
       "layout": "IPY_MODEL_2acb5f0e2b124cd892ba2ab5c6a70504",
       "max": 960,
       "style": "IPY_MODEL_7b11f2ba463247d3a173a015d14c49fa",
       "value": 960
      }
     },
     "1abdcff8237f43589f2fd5de8d66ff2d": {
      "model_module": "@jupyter-widgets/controls",
      "model_module_version": "1.5.0",
      "model_name": "HTMLModel",
      "state": {
       "layout": "IPY_MODEL_7943d2f841884b1e8a12f9dd19f586a4",
       "style": "IPY_MODEL_0afc1c03075046b4bbc2017bd5420c58",
       "value": " 960/960 [00:48&lt;00:00, 19.73 batchs/s, lr=1.255, train_acc=97.513, train_loss=0.098, val_acc=90.662, val_loss=0.283]"
      }
     },
     "1e784a803d7c4d019ddc4be732f4219f": {
      "model_module": "@jupyter-widgets/base",
      "model_module_version": "1.2.0",
      "model_name": "LayoutModel",
      "state": {}
     },
     "1e9ab0b0ffe14b8da1fcc5cb9354c3f0": {
      "model_module": "@jupyter-widgets/controls",
      "model_module_version": "1.5.0",
      "model_name": "ProgressStyleModel",
      "state": {
       "description_width": "initial"
      }
     },
     "1f25389a55944fa08af402d144b54a91": {
      "model_module": "@jupyter-widgets/controls",
      "model_module_version": "1.5.0",
      "model_name": "FloatProgressModel",
      "state": {
       "bar_style": "success",
       "description": "Epoch 3: 100%",
       "layout": "IPY_MODEL_9238c46d6af041e38ba55e2e903b1baf",
       "max": 960,
       "style": "IPY_MODEL_57218cb9c19944d28b0f9d48428997fd",
       "value": 960
      }
     },
     "1fd3012e5440458783ed2d5082c0713a": {
      "model_module": "@jupyter-widgets/controls",
      "model_module_version": "1.5.0",
      "model_name": "DescriptionStyleModel",
      "state": {
       "description_width": ""
      }
     },
     "210038bbf262407c904c3399d897c248": {
      "model_module": "@jupyter-widgets/controls",
      "model_module_version": "1.5.0",
      "model_name": "HTMLModel",
      "state": {
       "layout": "IPY_MODEL_89f8ce3f4af546faaef5674b7c351e9d",
       "style": "IPY_MODEL_8308fad750964756b42eea29a5dab463",
       "value": " 960/960 [00:57&lt;00:00, 16.78 batchs/s, lr=2.624, train_acc=93.510, train_loss=0.204, val_acc=90.162, val_loss=0.288]"
      }
     },
     "2194f72e5f984c70ae7cb43ebafc5c77": {
      "model_module": "@jupyter-widgets/controls",
      "model_module_version": "1.5.0",
      "model_name": "ProgressStyleModel",
      "state": {
       "description_width": "initial"
      }
     },
     "22e2a94943f64e6b85b297343502435e": {
      "model_module": "@jupyter-widgets/controls",
      "model_module_version": "1.5.0",
      "model_name": "ProgressStyleModel",
      "state": {
       "description_width": "initial"
      }
     },
     "235ccf0d70bf42c5a9c4c3219dd4c7cd": {
      "model_module": "@jupyter-widgets/base",
      "model_module_version": "1.2.0",
      "model_name": "LayoutModel",
      "state": {}
     },
     "24e45c51c4994ab4924a3c660e04cfbc": {
      "model_module": "@jupyter-widgets/base",
      "model_module_version": "1.2.0",
      "model_name": "LayoutModel",
      "state": {}
     },
     "24fb84b6068a42e2969db3513c7d4ba6": {
      "model_module": "@jupyter-widgets/controls",
      "model_module_version": "1.5.0",
      "model_name": "FloatProgressModel",
      "state": {
       "bar_style": "success",
       "description": "Epoch 50: 100%",
       "layout": "IPY_MODEL_2632a9ec05ad440bbe4abe3af2201c2c",
       "max": 960,
       "style": "IPY_MODEL_3fa9c3fc97504f91956a7ac369747312",
       "value": 960
      }
     },
     "2536b7f3371b4d20ab27dd1fee21c057": {
      "model_module": "@jupyter-widgets/controls",
      "model_module_version": "1.5.0",
      "model_name": "HBoxModel",
      "state": {
       "children": [
        "IPY_MODEL_ba1de9bb25dc449691c17c24ad6b6c8c",
        "IPY_MODEL_c441ee3478da4cc0841f8b9492787c3d"
       ],
       "layout": "IPY_MODEL_1756a418fb5944b5b9f1e369f9273c87"
      }
     },
     "2589761cd78d470297c2aa603ccf4993": {
      "model_module": "@jupyter-widgets/controls",
      "model_module_version": "1.5.0",
      "model_name": "DescriptionStyleModel",
      "state": {
       "description_width": ""
      }
     },
     "25acd85249874d9b8a4b0813363686ea": {
      "model_module": "@jupyter-widgets/base",
      "model_module_version": "1.2.0",
      "model_name": "LayoutModel",
      "state": {}
     },
     "25f83f07d7d149eba4c42f33ca628d32": {
      "model_module": "@jupyter-widgets/controls",
      "model_module_version": "1.5.0",
      "model_name": "HTMLModel",
      "state": {
       "layout": "IPY_MODEL_7fb97e55f99b494e9722b296c6bd4c17",
       "style": "IPY_MODEL_5f2b6b7b79814592840d57c04fee7943",
       "value": " 960/960 [00:52&lt;00:00, 18.35 batchs/s, lr=1.722, train_acc=96.422, train_loss=0.128, val_acc=90.550, val_loss=0.281]"
      }
     },
     "2632a9ec05ad440bbe4abe3af2201c2c": {
      "model_module": "@jupyter-widgets/base",
      "model_module_version": "1.2.0",
      "model_name": "LayoutModel",
      "state": {}
     },
     "279f75ab34df4c0a96768acb5d3c105b": {
      "model_module": "@jupyter-widgets/base",
      "model_module_version": "1.2.0",
      "model_name": "LayoutModel",
      "state": {}
     },
     "27b05a253f8d415f966d714c865734a6": {
      "model_module": "@jupyter-widgets/base",
      "model_module_version": "1.2.0",
      "model_name": "LayoutModel",
      "state": {}
     },
     "287525551394494eb2d844b05859f9b4": {
      "model_module": "@jupyter-widgets/base",
      "model_module_version": "1.2.0",
      "model_name": "LayoutModel",
      "state": {}
     },
     "29174bcf94e040d9b302b41fdb927e81": {
      "model_module": "@jupyter-widgets/controls",
      "model_module_version": "1.5.0",
      "model_name": "ProgressStyleModel",
      "state": {
       "description_width": "initial"
      }
     },
     "299de2d2ba314e2193c9011cedeb1b50": {
      "model_module": "@jupyter-widgets/base",
      "model_module_version": "1.2.0",
      "model_name": "LayoutModel",
      "state": {}
     },
     "2acb5f0e2b124cd892ba2ab5c6a70504": {
      "model_module": "@jupyter-widgets/base",
      "model_module_version": "1.2.0",
      "model_name": "LayoutModel",
      "state": {}
     },
     "2ae7b18d884548d5a91a1492cec1fe1c": {
      "model_module": "@jupyter-widgets/controls",
      "model_module_version": "1.5.0",
      "model_name": "FloatProgressModel",
      "state": {
       "bar_style": "success",
       "description": "Epoch 45: 100%",
       "layout": "IPY_MODEL_e1e72387e7f54e5eb5eee9ab3739d606",
       "max": 960,
       "style": "IPY_MODEL_a483d16d1d104ea192ed85af135c46a0",
       "value": 960
      }
     },
     "2b9a3a76b23248daa7472d0c7ff2ac11": {
      "model_module": "@jupyter-widgets/base",
      "model_module_version": "1.2.0",
      "model_name": "LayoutModel",
      "state": {}
     },
     "2c51ef48e3854612adad2dbef8a18034": {
      "model_module": "@jupyter-widgets/controls",
      "model_module_version": "1.5.0",
      "model_name": "HBoxModel",
      "state": {
       "children": [
        "IPY_MODEL_19966974d94b47df989cd0d1dad6caef",
        "IPY_MODEL_13f736ede265400cb5583c9e8a0cb3f2"
       ],
       "layout": "IPY_MODEL_279f75ab34df4c0a96768acb5d3c105b"
      }
     },
     "2e4eeb3f10704c52ba1cd324493d5729": {
      "model_module": "@jupyter-widgets/base",
      "model_module_version": "1.2.0",
      "model_name": "LayoutModel",
      "state": {}
     },
     "2f48491f90eb4ec4a76da73580a20091": {
      "model_module": "@jupyter-widgets/controls",
      "model_module_version": "1.5.0",
      "model_name": "ProgressStyleModel",
      "state": {
       "description_width": "initial"
      }
     },
     "31fd6e730d8545afa6f70d191fe66402": {
      "model_module": "@jupyter-widgets/base",
      "model_module_version": "1.2.0",
      "model_name": "LayoutModel",
      "state": {}
     },
     "32f523eeeeaf4e37aacc97c162e654e3": {
      "model_module": "@jupyter-widgets/base",
      "model_module_version": "1.2.0",
      "model_name": "LayoutModel",
      "state": {}
     },
     "339b67ad915043528c957e59c55ad706": {
      "model_module": "@jupyter-widgets/base",
      "model_module_version": "1.2.0",
      "model_name": "LayoutModel",
      "state": {}
     },
     "340c0ade50bc4e76afe39dd18ce3d2b8": {
      "model_module": "@jupyter-widgets/base",
      "model_module_version": "1.2.0",
      "model_name": "LayoutModel",
      "state": {}
     },
     "3590db76a97c44039033745653442043": {
      "model_module": "@jupyter-widgets/base",
      "model_module_version": "1.2.0",
      "model_name": "LayoutModel",
      "state": {}
     },
     "36119b464e87419ba589d31149c4077f": {
      "model_module": "@jupyter-widgets/controls",
      "model_module_version": "1.5.0",
      "model_name": "ProgressStyleModel",
      "state": {
       "description_width": "initial"
      }
     },
     "36c138b5d3444348b483e864a52c0d73": {
      "model_module": "@jupyter-widgets/controls",
      "model_module_version": "1.5.0",
      "model_name": "HBoxModel",
      "state": {
       "children": [
        "IPY_MODEL_f553422e958147ac8fc7cd6b9af64c41",
        "IPY_MODEL_15ccf719d48b463d9cc80b33d943aa7d"
       ],
       "layout": "IPY_MODEL_a53f974f48934da8888d6af329cd2a86"
      }
     },
     "376792ec2a9349d5aa654885c71a1993": {
      "model_module": "@jupyter-widgets/controls",
      "model_module_version": "1.5.0",
      "model_name": "ProgressStyleModel",
      "state": {
       "description_width": "initial"
      }
     },
     "377b190011184c448ee5975d59d9f929": {
      "model_module": "@jupyter-widgets/controls",
      "model_module_version": "1.5.0",
      "model_name": "HBoxModel",
      "state": {
       "children": [
        "IPY_MODEL_08b066c9d56747bf8b229447cec052b9",
        "IPY_MODEL_9da0b57b102847d28bc2e57a2d47e5f4"
       ],
       "layout": "IPY_MODEL_9e4e747927a042239e2882a2b7ee3aac"
      }
     },
     "38a884495dcb4515817f4eb49ccb8436": {
      "model_module": "@jupyter-widgets/base",
      "model_module_version": "1.2.0",
      "model_name": "LayoutModel",
      "state": {}
     },
     "38e35f5331194cbd869c38519953559a": {
      "model_module": "@jupyter-widgets/base",
      "model_module_version": "1.2.0",
      "model_name": "LayoutModel",
      "state": {}
     },
     "39dbe1bade0a4d51bba714a0ff0cb80b": {
      "model_module": "@jupyter-widgets/controls",
      "model_module_version": "1.5.0",
      "model_name": "DescriptionStyleModel",
      "state": {
       "description_width": ""
      }
     },
     "39e03777ee67460caf02984be0b6d2ae": {
      "model_module": "@jupyter-widgets/base",
      "model_module_version": "1.2.0",
      "model_name": "LayoutModel",
      "state": {}
     },
     "3a1f7aae594a4caaa6d82574998193f9": {
      "model_module": "@jupyter-widgets/controls",
      "model_module_version": "1.5.0",
      "model_name": "HBoxModel",
      "state": {
       "children": [
        "IPY_MODEL_453d01fab0954dc294015b81e07e27c1",
        "IPY_MODEL_58b0c05180e24e1cae33f5a814d625c2"
       ],
       "layout": "IPY_MODEL_70ccbf92865946ca8e2dfd336775955a"
      }
     },
     "3a9e87c0109140438151c809719083b4": {
      "model_module": "@jupyter-widgets/controls",
      "model_module_version": "1.5.0",
      "model_name": "DescriptionStyleModel",
      "state": {
       "description_width": ""
      }
     },
     "3aa7e3667d5045bfa1eca2f17e7eb10c": {
      "model_module": "@jupyter-widgets/controls",
      "model_module_version": "1.5.0",
      "model_name": "ProgressStyleModel",
      "state": {
       "description_width": "initial"
      }
     },
     "3ae0121e0f86411f85dccd43eb44a0dd": {
      "model_module": "@jupyter-widgets/base",
      "model_module_version": "1.2.0",
      "model_name": "LayoutModel",
      "state": {}
     },
     "3b5753a2e5534d3b90ecb63b830f9605": {
      "model_module": "@jupyter-widgets/controls",
      "model_module_version": "1.5.0",
      "model_name": "DescriptionStyleModel",
      "state": {
       "description_width": ""
      }
     },
     "3bc8fa5188a74589964c2811c8bb4679": {
      "model_module": "@jupyter-widgets/base",
      "model_module_version": "1.2.0",
      "model_name": "LayoutModel",
      "state": {}
     },
     "3d0e67f142b34faa815ae075d0816c83": {
      "model_module": "@jupyter-widgets/controls",
      "model_module_version": "1.5.0",
      "model_name": "HTMLModel",
      "state": {
       "layout": "IPY_MODEL_2e4eeb3f10704c52ba1cd324493d5729",
       "style": "IPY_MODEL_6d83c8dc4e084231b15f929ba3571572",
       "value": " 960/960 [00:04&lt;00:00, 193.54 batchs/s, lr=0.031, train_acc=99.261, train_loss=0.048, val_acc=90.758, val_loss=0.294]"
      }
     },
     "3d60758d267c4e9cac5cf7e0275501bd": {
      "model_module": "@jupyter-widgets/controls",
      "model_module_version": "1.5.0",
      "model_name": "HTMLModel",
      "state": {
       "layout": "IPY_MODEL_00155ebb64fe4c9a8a5ae9a528469d31",
       "style": "IPY_MODEL_ffd3fa256d544a6bb263a34ab222a011",
       "value": " 960/960 [00:02&lt;00:00, 379.04 batchs/s, lr=0.025, train_acc=99.269, train_loss=0.048, val_acc=90.742, val_loss=0.294]"
      }
     },
     "3e066a2708fe4a8d8aed54f0c73bf8cd": {
      "model_module": "@jupyter-widgets/base",
      "model_module_version": "1.2.0",
      "model_name": "LayoutModel",
      "state": {}
     },
     "3e170e6d41524bbd8b152a81426068d2": {
      "model_module": "@jupyter-widgets/controls",
      "model_module_version": "1.5.0",
      "model_name": "HBoxModel",
      "state": {
       "children": [
        "IPY_MODEL_59c0744f251a4c29a763010bbdd96b3b",
        "IPY_MODEL_4c577a6a9f8f4745913f059c5b909cda"
       ],
       "layout": "IPY_MODEL_49bd31df59b54e8780ef0fcfa59ab977"
      }
     },
     "3eb860d10ba147f8a3bfd64eda274d45": {
      "model_module": "@jupyter-widgets/base",
      "model_module_version": "1.2.0",
      "model_name": "LayoutModel",
      "state": {}
     },
     "3ef98f108bd1468488399d34e05796e1": {
      "model_module": "@jupyter-widgets/base",
      "model_module_version": "1.2.0",
      "model_name": "LayoutModel",
      "state": {}
     },
     "3f4e9e05c98d43a0978d0fd597f906a6": {
      "model_module": "@jupyter-widgets/base",
      "model_module_version": "1.2.0",
      "model_name": "LayoutModel",
      "state": {}
     },
     "3fa9c3fc97504f91956a7ac369747312": {
      "model_module": "@jupyter-widgets/controls",
      "model_module_version": "1.5.0",
      "model_name": "ProgressStyleModel",
      "state": {
       "description_width": "initial"
      }
     },
     "40877827d4b0492db950ceca64300a6c": {
      "model_module": "@jupyter-widgets/controls",
      "model_module_version": "1.5.0",
      "model_name": "HTMLModel",
      "state": {
       "layout": "IPY_MODEL_3ef98f108bd1468488399d34e05796e1",
       "style": "IPY_MODEL_50b954dd6599416ea9a6ede02cfb82ca",
       "value": " 960/960 [00:34&lt;00:00, 27.50 batchs/s, lr=0.394, train_acc=98.885, train_loss=0.060, val_acc=90.742, val_loss=0.290]"
      }
     },
     "40946561b06348bb9218495220797e6c": {
      "model_module": "@jupyter-widgets/controls",
      "model_module_version": "1.5.0",
      "model_name": "HTMLModel",
      "state": {
       "layout": "IPY_MODEL_3f4e9e05c98d43a0978d0fd597f906a6",
       "style": "IPY_MODEL_3a9e87c0109140438151c809719083b4",
       "value": " 960/960 [00:46&lt;00:00, 20.78 batchs/s, lr=1.017, train_acc=97.953, train_loss=0.086, val_acc=90.679, val_loss=0.284]"
      }
     },
     "41d6163cabe04f4f9b28d7a85ae57fdf": {
      "model_module": "@jupyter-widgets/base",
      "model_module_version": "1.2.0",
      "model_name": "LayoutModel",
      "state": {}
     },
     "42630be858d84e07b079f3caa5a3aa35": {
      "model_module": "@jupyter-widgets/controls",
      "model_module_version": "1.5.0",
      "model_name": "HBoxModel",
      "state": {
       "children": [
        "IPY_MODEL_98736ffc4fba4e1180418c069d1a2359",
        "IPY_MODEL_c7cfa0c446c44ada9ceaa9de603a240a"
       ],
       "layout": "IPY_MODEL_93a2613696694ab6a4029a7b3f3b9f4a"
      }
     },
     "42654d49de864a02bdcfd34189bfaf73": {
      "model_module": "@jupyter-widgets/controls",
      "model_module_version": "1.5.0",
      "model_name": "HBoxModel",
      "state": {
       "children": [
        "IPY_MODEL_43675685d8d74466b58b085550f11c36",
        "IPY_MODEL_e8349b896a3f4f39af3a348b9d6b0e0b"
       ],
       "layout": "IPY_MODEL_13450313218744c48571aa1358a1c8d7"
      }
     },
     "43675685d8d74466b58b085550f11c36": {
      "model_module": "@jupyter-widgets/controls",
      "model_module_version": "1.5.0",
      "model_name": "FloatProgressModel",
      "state": {
       "bar_style": "success",
       "description": "Epoch 21: 100%",
       "layout": "IPY_MODEL_5021176ea0714e8eb23d9e4261afcf24",
       "max": 960,
       "style": "IPY_MODEL_3aa7e3667d5045bfa1eca2f17e7eb10c",
       "value": 960
      }
     },
     "44646a273e1046669e2eb4d94c19dd35": {
      "model_module": "@jupyter-widgets/controls",
      "model_module_version": "1.5.0",
      "model_name": "HTMLModel",
      "state": {
       "layout": "IPY_MODEL_32f523eeeeaf4e37aacc97c162e654e3",
       "style": "IPY_MODEL_777523d4fbac48feb52d505ac0584305",
       "value": " 960/960 [00:53&lt;00:00, 17.93 batchs/s, lr=1.913, train_acc=95.907, train_loss=0.142, val_acc=90.542, val_loss=0.281]"
      }
     },
     "4495e9fe1b3b44c8a34d9d7f393e5dd3": {
      "model_module": "@jupyter-widgets/base",
      "model_module_version": "1.2.0",
      "model_name": "LayoutModel",
      "state": {}
     },
     "4521ee1542cf4f9e992c873310cf479d": {
      "model_module": "@jupyter-widgets/base",
      "model_module_version": "1.2.0",
      "model_name": "LayoutModel",
      "state": {}
     },
     "453d01fab0954dc294015b81e07e27c1": {
      "model_module": "@jupyter-widgets/controls",
      "model_module_version": "1.5.0",
      "model_name": "FloatProgressModel",
      "state": {
       "bar_style": "success",
       "description": "Epoch 38: 100%",
       "layout": "IPY_MODEL_c90ded0162af4f51bb779603fd28bad0",
       "max": 960,
       "style": "IPY_MODEL_f8f4592f0d9c43e49498bc7e4745c781",
       "value": 960
      }
     },
     "4660c4e8c7154b3299645ef44e473f75": {
      "model_module": "@jupyter-widgets/base",
      "model_module_version": "1.2.0",
      "model_name": "LayoutModel",
      "state": {}
     },
     "4674a46509dc4afd939eef872309cbe2": {
      "model_module": "@jupyter-widgets/controls",
      "model_module_version": "1.5.0",
      "model_name": "HTMLModel",
      "state": {
       "layout": "IPY_MODEL_176b54a28cb34e67a7e38f84c0613459",
       "style": "IPY_MODEL_53afe36dbb8e40d29564253bd04f77b5",
       "value": " 960/960 [00:18&lt;00:00, 51.39 batchs/s, lr=0.100, train_acc=99.189, train_loss=0.050, val_acc=90.758, val_loss=0.293]"
      }
     },
     "4686c9681f8a41ca9ee9660a9879c622": {
      "model_module": "@jupyter-widgets/controls",
      "model_module_version": "1.5.0",
      "model_name": "HBoxModel",
      "state": {
       "children": [
        "IPY_MODEL_75e01d93444940e6aeb0a2c5ce9f41ed",
        "IPY_MODEL_e294aca14ae04492a4bddd9008db55d0"
       ],
       "layout": "IPY_MODEL_340c0ade50bc4e76afe39dd18ce3d2b8"
      }
     },
     "4787dc80079349a0b793c1d23474e3e3": {
      "model_module": "@jupyter-widgets/controls",
      "model_module_version": "1.5.0",
      "model_name": "FloatProgressModel",
      "state": {
       "bar_style": "success",
       "description": "Epoch 36: 100%",
       "layout": "IPY_MODEL_e6a63d5230b840f5a75621e99ee4952f",
       "max": 960,
       "style": "IPY_MODEL_1e9ab0b0ffe14b8da1fcc5cb9354c3f0",
       "value": 960
      }
     },
     "484c53f7883e42d584166984b8748842": {
      "model_module": "@jupyter-widgets/controls",
      "model_module_version": "1.5.0",
      "model_name": "FloatProgressModel",
      "state": {
       "bar_style": "success",
       "description": "100%",
       "layout": "IPY_MODEL_7258668ae42949adbd8f2742933b7bfa",
       "max": 50,
       "style": "IPY_MODEL_ee46034fe77546a49cc7db3b3bc9a50c",
       "value": 50
      }
     },
     "49bd31df59b54e8780ef0fcfa59ab977": {
      "model_module": "@jupyter-widgets/base",
      "model_module_version": "1.2.0",
      "model_name": "LayoutModel",
      "state": {}
     },
     "49e2e2fc97274198aa9fdafc014dcd8f": {
      "model_module": "@jupyter-widgets/controls",
      "model_module_version": "1.5.0",
      "model_name": "ProgressStyleModel",
      "state": {
       "description_width": "initial"
      }
     },
     "49e37f859148478abb25b704366ce08a": {
      "model_module": "@jupyter-widgets/base",
      "model_module_version": "1.2.0",
      "model_name": "LayoutModel",
      "state": {}
     },
     "4a181803ff334eccb5b5691022b73b78": {
      "model_module": "@jupyter-widgets/controls",
      "model_module_version": "1.5.0",
      "model_name": "ProgressStyleModel",
      "state": {
       "description_width": "initial"
      }
     },
     "4c577a6a9f8f4745913f059c5b909cda": {
      "model_module": "@jupyter-widgets/controls",
      "model_module_version": "1.5.0",
      "model_name": "HTMLModel",
      "state": {
       "layout": "IPY_MODEL_e229127e1aac414e8ded877b02521983",
       "style": "IPY_MODEL_0271aa75311844b0abdf6a62be7b54a8",
       "value": " 960/960 [00:11&lt;00:00, 85.95 batchs/s, lr=0.053, train_acc=99.234, train_loss=0.049, val_acc=90.758, val_loss=0.294]"
      }
     },
     "4e3ba3e3e8c243b182584b5636c9f109": {
      "model_module": "@jupyter-widgets/controls",
      "model_module_version": "1.5.0",
      "model_name": "DescriptionStyleModel",
      "state": {
       "description_width": ""
      }
     },
     "4eda4edff7324f72a23846504a7a21aa": {
      "model_module": "@jupyter-widgets/base",
      "model_module_version": "1.2.0",
      "model_name": "LayoutModel",
      "state": {}
     },
     "4f651b9401bf43258a86495f65e5af78": {
      "model_module": "@jupyter-widgets/controls",
      "model_module_version": "1.5.0",
      "model_name": "HBoxModel",
      "state": {
       "children": [
        "IPY_MODEL_505a6fec1c734ef3b8aec3cca1b24eff",
        "IPY_MODEL_a25eb32b9a594af98c649f1be48e73c0"
       ],
       "layout": "IPY_MODEL_577e45e9b3034381b6405c5a11ef0e7f"
      }
     },
     "5021176ea0714e8eb23d9e4261afcf24": {
      "model_module": "@jupyter-widgets/base",
      "model_module_version": "1.2.0",
      "model_name": "LayoutModel",
      "state": {}
     },
     "505a6fec1c734ef3b8aec3cca1b24eff": {
      "model_module": "@jupyter-widgets/controls",
      "model_module_version": "1.5.0",
      "model_name": "FloatProgressModel",
      "state": {
       "bar_style": "success",
       "description": "Epoch 17: 100%",
       "layout": "IPY_MODEL_9d8ca3adee8248deb62362b56b1d612d",
       "max": 960,
       "style": "IPY_MODEL_376792ec2a9349d5aa654885c71a1993",
       "value": 960
      }
     },
     "50b954dd6599416ea9a6ede02cfb82ca": {
      "model_module": "@jupyter-widgets/controls",
      "model_module_version": "1.5.0",
      "model_name": "DescriptionStyleModel",
      "state": {
       "description_width": ""
      }
     },
     "52376e1315034d429552ce5a46a0c7eb": {
      "model_module": "@jupyter-widgets/controls",
      "model_module_version": "1.5.0",
      "model_name": "DescriptionStyleModel",
      "state": {
       "description_width": ""
      }
     },
     "5265a5461ceb4b5c9b2b4bc180e09e9d": {
      "model_module": "@jupyter-widgets/controls",
      "model_module_version": "1.5.0",
      "model_name": "HBoxModel",
      "state": {
       "children": [
        "IPY_MODEL_0ee5a42a12b84f88807116a8c7286c1b",
        "IPY_MODEL_a1463c05a932426e8b92e200ce76441f"
       ],
       "layout": "IPY_MODEL_900ce419a7c546478b095372d2e26b86"
      }
     },
     "526c6d6ac17546249158a53d6942d7b1": {
      "model_module": "@jupyter-widgets/controls",
      "model_module_version": "1.5.0",
      "model_name": "DescriptionStyleModel",
      "state": {
       "description_width": ""
      }
     },
     "53afe36dbb8e40d29564253bd04f77b5": {
      "model_module": "@jupyter-widgets/controls",
      "model_module_version": "1.5.0",
      "model_name": "DescriptionStyleModel",
      "state": {
       "description_width": ""
      }
     },
     "53fe43be87154d3fb07e735fbba7795a": {
      "model_module": "@jupyter-widgets/controls",
      "model_module_version": "1.5.0",
      "model_name": "ProgressStyleModel",
      "state": {
       "description_width": "initial"
      }
     },
     "5485c47a007a4a0a9f5f66e5bc165fad": {
      "model_module": "@jupyter-widgets/base",
      "model_module_version": "1.2.0",
      "model_name": "LayoutModel",
      "state": {}
     },
     "557cba8488324dffa52373e969db280c": {
      "model_module": "@jupyter-widgets/base",
      "model_module_version": "1.2.0",
      "model_name": "LayoutModel",
      "state": {}
     },
     "5648d4a5354544ccb30b8adf66dc1d24": {
      "model_module": "@jupyter-widgets/controls",
      "model_module_version": "1.5.0",
      "model_name": "FloatProgressModel",
      "state": {
       "bar_style": "success",
       "description": "Epoch 43: 100%",
       "layout": "IPY_MODEL_8196b2984ff34531971b8f1205af5560",
       "max": 960,
       "style": "IPY_MODEL_ecf2cc2d458e46cba5db1bae783c9384",
       "value": 960
      }
     },
     "56f63e2cb7fc48e587124512741c0ccd": {
      "model_module": "@jupyter-widgets/base",
      "model_module_version": "1.2.0",
      "model_name": "LayoutModel",
      "state": {}
     },
     "57218cb9c19944d28b0f9d48428997fd": {
      "model_module": "@jupyter-widgets/controls",
      "model_module_version": "1.5.0",
      "model_name": "ProgressStyleModel",
      "state": {
       "description_width": "initial"
      }
     },
     "573a2529f6994ef0bf9bf4d3b45bc5a8": {
      "model_module": "@jupyter-widgets/controls",
      "model_module_version": "1.5.0",
      "model_name": "FloatProgressModel",
      "state": {
       "bar_style": "success",
       "description": "Epoch 49: 100%",
       "layout": "IPY_MODEL_8187b6b7bd184b508b1e103d3d3e8991",
       "max": 960,
       "style": "IPY_MODEL_2194f72e5f984c70ae7cb43ebafc5c77",
       "value": 960
      }
     },
     "574d4a9fcfb14d918043a20dcfed2292": {
      "model_module": "@jupyter-widgets/controls",
      "model_module_version": "1.5.0",
      "model_name": "HBoxModel",
      "state": {
       "children": [
        "IPY_MODEL_065c0100577e474abe98d7c2159a9b23",
        "IPY_MODEL_9b4e8cbf749c462d98c7fa020928c248"
       ],
       "layout": "IPY_MODEL_834c281ac9b04ee78ceb5fbb1f0d6293"
      }
     },
     "577e45e9b3034381b6405c5a11ef0e7f": {
      "model_module": "@jupyter-widgets/base",
      "model_module_version": "1.2.0",
      "model_name": "LayoutModel",
      "state": {}
     },
     "589595d68bb14f1ea2e52a18a89eb60b": {
      "model_module": "@jupyter-widgets/base",
      "model_module_version": "1.2.0",
      "model_name": "LayoutModel",
      "state": {}
     },
     "58a111d66a7247c19bf0c78d38adadfc": {
      "model_module": "@jupyter-widgets/controls",
      "model_module_version": "1.5.0",
      "model_name": "FloatProgressModel",
      "state": {
       "bar_style": "success",
       "description": "Epoch 23: 100%",
       "layout": "IPY_MODEL_65161199b30245b6aed777437662cb80",
       "max": 960,
       "style": "IPY_MODEL_0dfd6a814cf948dd8321adda0c24a8bc",
       "value": 960
      }
     },
     "58b0c05180e24e1cae33f5a814d625c2": {
      "model_module": "@jupyter-widgets/controls",
      "model_module_version": "1.5.0",
      "model_name": "HTMLModel",
      "state": {
       "layout": "IPY_MODEL_2b9a3a76b23248daa7472d0c7ff2ac11",
       "style": "IPY_MODEL_bd57ea29fd1a40dcb3a28690b8c2f9e8",
       "value": " 960/960 [00:16&lt;00:00, 59.30 batchs/s, lr=0.081, train_acc=99.209, train_loss=0.050, val_acc=90.763, val_loss=0.293]"
      }
     },
     "59c0744f251a4c29a763010bbdd96b3b": {
      "model_module": "@jupyter-widgets/controls",
      "model_module_version": "1.5.0",
      "model_name": "FloatProgressModel",
      "state": {
       "bar_style": "success",
       "description": "Epoch 42: 100%",
       "layout": "IPY_MODEL_b6dcc55992c444f2b0f3b32c61f36e3d",
       "max": 960,
       "style": "IPY_MODEL_7a555c16e9824206a0222c7092fc3255",
       "value": 960
      }
     },
     "5b00b77bb9d24c2f854ec5b396895ea6": {
      "model_module": "@jupyter-widgets/base",
      "model_module_version": "1.2.0",
      "model_name": "LayoutModel",
      "state": {}
     },
     "5b672c5ea1c443aebeb8191d094880cc": {
      "model_module": "@jupyter-widgets/controls",
      "model_module_version": "1.5.0",
      "model_name": "HBoxModel",
      "state": {
       "children": [
        "IPY_MODEL_d8cfc448fdb6491ea76fd8fcde9c0f48",
        "IPY_MODEL_08b4f3ef37914c4aa3b74c019722e53f"
       ],
       "layout": "IPY_MODEL_b701178adcbf459290cd3e3db48cc69a"
      }
     },
     "5c30c0928f2a426087b1293d8263fb80": {
      "model_module": "@jupyter-widgets/base",
      "model_module_version": "1.2.0",
      "model_name": "LayoutModel",
      "state": {}
     },
     "5cb9a59581884c14bb3049d6b27c0296": {
      "model_module": "@jupyter-widgets/base",
      "model_module_version": "1.2.0",
      "model_name": "LayoutModel",
      "state": {}
     },
     "5cf4538357c345e6903c90e3eb217f34": {
      "model_module": "@jupyter-widgets/controls",
      "model_module_version": "1.5.0",
      "model_name": "DescriptionStyleModel",
      "state": {
       "description_width": ""
      }
     },
     "5d15efebbe8f403c959f2ab9316f3a8c": {
      "model_module": "@jupyter-widgets/base",
      "model_module_version": "1.2.0",
      "model_name": "LayoutModel",
      "state": {}
     },
     "5d80bec5e3964cdca0878708b9c82a35": {
      "model_module": "@jupyter-widgets/controls",
      "model_module_version": "1.5.0",
      "model_name": "HTMLModel",
      "state": {
       "layout": "IPY_MODEL_7e47785b13784886b851d1e12119c691",
       "style": "IPY_MODEL_9e854f024d00417f87849c0dfaa4fd6b",
       "value": " 960/960 [00:28&lt;00:00, 33.38 batchs/s, lr=0.233, train_acc=99.059, train_loss=0.054, val_acc=90.737, val_loss=0.292]"
      }
     },
     "5f2b6b7b79814592840d57c04fee7943": {
      "model_module": "@jupyter-widgets/controls",
      "model_module_version": "1.5.0",
      "model_name": "DescriptionStyleModel",
      "state": {
       "description_width": ""
      }
     },
     "5f51fd4a8e144896914293bab6331e21": {
      "model_module": "@jupyter-widgets/controls",
      "model_module_version": "1.5.0",
      "model_name": "HBoxModel",
      "state": {
       "children": [
        "IPY_MODEL_c3d0256e4bf74ce99081a212cc5d28f0",
        "IPY_MODEL_f487c07c2cc1443e919336da895d94dd"
       ],
       "layout": "IPY_MODEL_10c103945e30479e9a4d125bb4e06ee1"
      }
     },
     "605b5e2c02554e40a7af73b9732601cf": {
      "model_module": "@jupyter-widgets/controls",
      "model_module_version": "1.5.0",
      "model_name": "DescriptionStyleModel",
      "state": {
       "description_width": ""
      }
     },
     "611cdf5f44114303abc83d05a81dc754": {
      "model_module": "@jupyter-widgets/controls",
      "model_module_version": "1.5.0",
      "model_name": "DescriptionStyleModel",
      "state": {
       "description_width": ""
      }
     },
     "6363aea4a58c4f25b241aa5aee27b8ec": {
      "model_module": "@jupyter-widgets/base",
      "model_module_version": "1.2.0",
      "model_name": "LayoutModel",
      "state": {}
     },
     "64ece2f7f3e94905a6c6f1773e32d539": {
      "model_module": "@jupyter-widgets/base",
      "model_module_version": "1.2.0",
      "model_name": "LayoutModel",
      "state": {}
     },
     "65161199b30245b6aed777437662cb80": {
      "model_module": "@jupyter-widgets/base",
      "model_module_version": "1.2.0",
      "model_name": "LayoutModel",
      "state": {}
     },
     "6698b629db1443918fc6382d20ef0bd3": {
      "model_module": "@jupyter-widgets/base",
      "model_module_version": "1.2.0",
      "model_name": "LayoutModel",
      "state": {}
     },
     "675fa786babd4151bcfb067c9151f5d7": {
      "model_module": "@jupyter-widgets/controls",
      "model_module_version": "1.5.0",
      "model_name": "ProgressStyleModel",
      "state": {
       "description_width": "initial"
      }
     },
     "685c73a32d4849469cf92d96a2ac33f9": {
      "model_module": "@jupyter-widgets/controls",
      "model_module_version": "1.5.0",
      "model_name": "DescriptionStyleModel",
      "state": {
       "description_width": ""
      }
     },
     "68802bdefded4c0cb27987511514609c": {
      "model_module": "@jupyter-widgets/controls",
      "model_module_version": "1.5.0",
      "model_name": "HBoxModel",
      "state": {
       "children": [
        "IPY_MODEL_78fb7e482b564ff4960119a19d07abd9",
        "IPY_MODEL_76b92b4600cf4bce9a03905bd2680fd0"
       ],
       "layout": "IPY_MODEL_091e32742d534123b384facac172d652"
      }
     },
     "68ce6c41a9884622b061631456789f79": {
      "model_module": "@jupyter-widgets/controls",
      "model_module_version": "1.5.0",
      "model_name": "ProgressStyleModel",
      "state": {
       "description_width": "initial"
      }
     },
     "69dbc69365be42a08a1f6c66511d85e9": {
      "model_module": "@jupyter-widgets/base",
      "model_module_version": "1.2.0",
      "model_name": "LayoutModel",
      "state": {}
     },
     "6c032ab241954624b53ba503b6a802a6": {
      "model_module": "@jupyter-widgets/controls",
      "model_module_version": "1.5.0",
      "model_name": "DescriptionStyleModel",
      "state": {
       "description_width": ""
      }
     },
     "6c905b3d2e4649cb8fba9d0fb6008c39": {
      "model_module": "@jupyter-widgets/controls",
      "model_module_version": "1.5.0",
      "model_name": "HBoxModel",
      "state": {
       "children": [
        "IPY_MODEL_9a899371e620473386a04ae7dc35d6c6",
        "IPY_MODEL_b634c28b52514977be6ee4c24046b66b"
       ],
       "layout": "IPY_MODEL_5d15efebbe8f403c959f2ab9316f3a8c"
      }
     },
     "6caa0cab389b415799c9bbe8f00b22a2": {
      "model_module": "@jupyter-widgets/controls",
      "model_module_version": "1.5.0",
      "model_name": "DescriptionStyleModel",
      "state": {
       "description_width": ""
      }
     },
     "6d36605f2cb1454bb2029947e7197529": {
      "model_module": "@jupyter-widgets/base",
      "model_module_version": "1.2.0",
      "model_name": "LayoutModel",
      "state": {}
     },
     "6d83c8dc4e084231b15f929ba3571572": {
      "model_module": "@jupyter-widgets/controls",
      "model_module_version": "1.5.0",
      "model_name": "DescriptionStyleModel",
      "state": {
       "description_width": ""
      }
     },
     "6f8d76d57e65419f86c7a793dbd5fe33": {
      "model_module": "@jupyter-widgets/controls",
      "model_module_version": "1.5.0",
      "model_name": "DescriptionStyleModel",
      "state": {
       "description_width": ""
      }
     },
     "6ffe536f07914eadbc59d73ecc6f4624": {
      "model_module": "@jupyter-widgets/base",
      "model_module_version": "1.2.0",
      "model_name": "LayoutModel",
      "state": {}
     },
     "70099cb88b294aa591c5329e9cf1a62d": {
      "model_module": "@jupyter-widgets/controls",
      "model_module_version": "1.5.0",
      "model_name": "HBoxModel",
      "state": {
       "children": [
        "IPY_MODEL_c950d71d0b1149c791bb591050773e4e",
        "IPY_MODEL_7da8f5c203f14d6f8618d926a248032d"
       ],
       "layout": "IPY_MODEL_de407312476146fbad12f2adcfec3021"
      }
     },
     "70ccbf92865946ca8e2dfd336775955a": {
      "model_module": "@jupyter-widgets/base",
      "model_module_version": "1.2.0",
      "model_name": "LayoutModel",
      "state": {}
     },
     "71d434a548ea48db9baa547a7ad11838": {
      "model_module": "@jupyter-widgets/controls",
      "model_module_version": "1.5.0",
      "model_name": "HBoxModel",
      "state": {
       "children": [
        "IPY_MODEL_e66cdc97ce8144a490626b15bf74455e",
        "IPY_MODEL_fc52c5d1e7e14a378707608ea71a822f"
       ],
       "layout": "IPY_MODEL_339b67ad915043528c957e59c55ad706"
      }
     },
     "7258668ae42949adbd8f2742933b7bfa": {
      "model_module": "@jupyter-widgets/base",
      "model_module_version": "1.2.0",
      "model_name": "LayoutModel",
      "state": {}
     },
     "7286a1fa74f847a3a2041a6d06719638": {
      "model_module": "@jupyter-widgets/controls",
      "model_module_version": "1.5.0",
      "model_name": "DescriptionStyleModel",
      "state": {
       "description_width": ""
      }
     },
     "735c76bd007541fa9ddc9deea0b551ec": {
      "model_module": "@jupyter-widgets/controls",
      "model_module_version": "1.5.0",
      "model_name": "DescriptionStyleModel",
      "state": {
       "description_width": ""
      }
     },
     "75e01d93444940e6aeb0a2c5ce9f41ed": {
      "model_module": "@jupyter-widgets/controls",
      "model_module_version": "1.5.0",
      "model_name": "FloatProgressModel",
      "state": {
       "bar_style": "success",
       "description": "Epoch 15: 100%",
       "layout": "IPY_MODEL_df7c57e1ad3548dea2764d0ea437dcf8",
       "max": 960,
       "style": "IPY_MODEL_88a1b406d78d4f92a1347fa46e86f501",
       "value": 960
      }
     },
     "760b4f52db1a451ca9cd81f905f464f1": {
      "model_module": "@jupyter-widgets/controls",
      "model_module_version": "1.5.0",
      "model_name": "HBoxModel",
      "state": {
       "children": [
        "IPY_MODEL_1f25389a55944fa08af402d144b54a91",
        "IPY_MODEL_d21407c7a9a249769086a3cf99f23127"
       ],
       "layout": "IPY_MODEL_efa12ed4ff284248a27b3d1bebcfb543"
      }
     },
     "76b92b4600cf4bce9a03905bd2680fd0": {
      "model_module": "@jupyter-widgets/controls",
      "model_module_version": "1.5.0",
      "model_name": "HTMLModel",
      "state": {
       "layout": "IPY_MODEL_4495e9fe1b3b44c8a34d9d7f393e5dd3",
       "style": "IPY_MODEL_c5668252e2e24da7a8f139cbe0982965",
       "value": " 960/960 [01:00&lt;00:00, 15.77 batchs/s, lr=3.600, train_acc=88.133, train_loss=0.354, val_acc=88.812, val_loss=0.336]"
      }
     },
     "777523d4fbac48feb52d505ac0584305": {
      "model_module": "@jupyter-widgets/controls",
      "model_module_version": "1.5.0",
      "model_name": "DescriptionStyleModel",
      "state": {
       "description_width": ""
      }
     },
     "785dc6d74eaa49b7ae4feee2f6823216": {
      "model_module": "@jupyter-widgets/base",
      "model_module_version": "1.2.0",
      "model_name": "LayoutModel",
      "state": {}
     },
     "78f97d26463d4d55ad298483a22eee62": {
      "model_module": "@jupyter-widgets/base",
      "model_module_version": "1.2.0",
      "model_name": "LayoutModel",
      "state": {}
     },
     "78fb7e482b564ff4960119a19d07abd9": {
      "model_module": "@jupyter-widgets/controls",
      "model_module_version": "1.5.0",
      "model_name": "FloatProgressModel",
      "state": {
       "bar_style": "success",
       "description": "Epoch 2: 100%",
       "layout": "IPY_MODEL_92cf566c05284a4383079262e6b0e8fc",
       "max": 960,
       "style": "IPY_MODEL_932fefd6cfe04a3a97e7cba41ccac241",
       "value": 960
      }
     },
     "7943d2f841884b1e8a12f9dd19f586a4": {
      "model_module": "@jupyter-widgets/base",
      "model_module_version": "1.2.0",
      "model_name": "LayoutModel",
      "state": {}
     },
     "7a555c16e9824206a0222c7092fc3255": {
      "model_module": "@jupyter-widgets/controls",
      "model_module_version": "1.5.0",
      "model_name": "ProgressStyleModel",
      "state": {
       "description_width": "initial"
      }
     },
     "7b11d3a80f014fb480524e974f25ed0f": {
      "model_module": "@jupyter-widgets/controls",
      "model_module_version": "1.5.0",
      "model_name": "ProgressStyleModel",
      "state": {
       "description_width": "initial"
      }
     },
     "7b11f2ba463247d3a173a015d14c49fa": {
      "model_module": "@jupyter-widgets/controls",
      "model_module_version": "1.5.0",
      "model_name": "ProgressStyleModel",
      "state": {
       "description_width": "initial"
      }
     },
     "7bcf31f4d52d471fa112c5007f642349": {
      "model_module": "@jupyter-widgets/controls",
      "model_module_version": "1.5.0",
      "model_name": "DescriptionStyleModel",
      "state": {
       "description_width": ""
      }
     },
     "7cce691419e64b45b2fa50430723a8f6": {
      "model_module": "@jupyter-widgets/controls",
      "model_module_version": "1.5.0",
      "model_name": "HTMLModel",
      "state": {
       "layout": "IPY_MODEL_27b05a253f8d415f966d714c865734a6",
       "style": "IPY_MODEL_e79d9a2f86254878b743c237f7ce92e7",
       "value": " 960/960 [00:54&lt;00:00, 17.52 batchs/s, lr=2.126, train_acc=95.277, train_loss=0.158, val_acc=90.463, val_loss=0.282]"
      }
     },
     "7da8f5c203f14d6f8618d926a248032d": {
      "model_module": "@jupyter-widgets/controls",
      "model_module_version": "1.5.0",
      "model_name": "HTMLModel",
      "state": {
       "layout": "IPY_MODEL_10b1dbd0426c457bbc0ac3065f2bfded",
       "style": "IPY_MODEL_685c73a32d4849469cf92d96a2ac33f9",
       "value": " 960/960 [00:36&lt;00:00, 26.57 batchs/s, lr=0.438, train_acc=98.817, train_loss=0.061, val_acc=90.733, val_loss=0.289]"
      }
     },
     "7e47785b13784886b851d1e12119c691": {
      "model_module": "@jupyter-widgets/base",
      "model_module_version": "1.2.0",
      "model_name": "LayoutModel",
      "state": {}
     },
     "7ed6810619154f049991c9990c6236ae": {
      "model_module": "@jupyter-widgets/controls",
      "model_module_version": "1.5.0",
      "model_name": "HBoxModel",
      "state": {
       "children": [
        "IPY_MODEL_cd3a40202353415a88cbda4c27b1fb1f",
        "IPY_MODEL_e76f396dc25f4aab96ae63a7cd165ce4"
       ],
       "layout": "IPY_MODEL_dd7339ca3b82401cb8f008aa844c582d"
      }
     },
     "7fb97e55f99b494e9722b296c6bd4c17": {
      "model_module": "@jupyter-widgets/base",
      "model_module_version": "1.2.0",
      "model_name": "LayoutModel",
      "state": {}
     },
     "81492d28c87c466a855f31c1a93e20c7": {
      "model_module": "@jupyter-widgets/controls",
      "model_module_version": "1.5.0",
      "model_name": "HTMLModel",
      "state": {
       "layout": "IPY_MODEL_6698b629db1443918fc6382d20ef0bd3",
       "style": "IPY_MODEL_f28beae7f6a84d40a68b36e1128f6752",
       "value": " 960/960 [00:51&lt;00:00, 18.80 batchs/s, lr=1.550, train_acc=96.861, train_loss=0.116, val_acc=90.600, val_loss=0.282]"
      }
     },
     "8162e3f0c69a4e6e94637a9a7c0b3bb2": {
      "model_module": "@jupyter-widgets/controls",
      "model_module_version": "1.5.0",
      "model_name": "HBoxModel",
      "state": {
       "children": [
        "IPY_MODEL_892b153ba71848e9b6896277f80aaa6d",
        "IPY_MODEL_064e4c4c0bc44338998300cce94f8f50"
       ],
       "layout": "IPY_MODEL_5c30c0928f2a426087b1293d8263fb80"
      }
     },
     "8187b6b7bd184b508b1e103d3d3e8991": {
      "model_module": "@jupyter-widgets/base",
      "model_module_version": "1.2.0",
      "model_name": "LayoutModel",
      "state": {}
     },
     "8196b2984ff34531971b8f1205af5560": {
      "model_module": "@jupyter-widgets/base",
      "model_module_version": "1.2.0",
      "model_name": "LayoutModel",
      "state": {}
     },
     "81ab40fb071d422787002d457ba8a080": {
      "model_module": "@jupyter-widgets/controls",
      "model_module_version": "1.5.0",
      "model_name": "HBoxModel",
      "state": {
       "children": [
        "IPY_MODEL_d950c1a57755424986a1d1ab62cb9316",
        "IPY_MODEL_81492d28c87c466a855f31c1a93e20c7"
       ],
       "layout": "IPY_MODEL_25acd85249874d9b8a4b0813363686ea"
      }
     },
     "82ae5ce116d94353a1c60234c850cf8f": {
      "model_module": "@jupyter-widgets/controls",
      "model_module_version": "1.5.0",
      "model_name": "FloatProgressModel",
      "state": {
       "bar_style": "success",
       "description": "Epoch 14: 100%",
       "layout": "IPY_MODEL_df8550babab847518f61ec8cb48ccd4d",
       "max": 960,
       "style": "IPY_MODEL_c57153dab9b74959843ad77f3c7aa5c3",
       "value": 960
      }
     },
     "8308fad750964756b42eea29a5dab463": {
      "model_module": "@jupyter-widgets/controls",
      "model_module_version": "1.5.0",
      "model_name": "DescriptionStyleModel",
      "state": {
       "description_width": ""
      }
     },
     "834c281ac9b04ee78ceb5fbb1f0d6293": {
      "model_module": "@jupyter-widgets/base",
      "model_module_version": "1.2.0",
      "model_name": "LayoutModel",
      "state": {}
     },
     "84dead8ed4b54df6b4b35111d51a7e6a": {
      "model_module": "@jupyter-widgets/controls",
      "model_module_version": "1.5.0",
      "model_name": "HTMLModel",
      "state": {
       "layout": "IPY_MODEL_c5fbb632710547b68c85befc14a9dfc5",
       "style": "IPY_MODEL_c47321b65ecf4e6ea05334c8f8f2712c",
       "value": " 960/960 [00:03&lt;00:00, 257.60 batchs/s, lr=0.028, train_acc=99.265, train_loss=0.048, val_acc=90.750, val_loss=0.294]"
      }
     },
     "84f68613fa15438b940bba15991e08f7": {
      "model_module": "@jupyter-widgets/controls",
      "model_module_version": "1.5.0",
      "model_name": "ProgressStyleModel",
      "state": {
       "description_width": "initial"
      }
     },
     "85109e5123544d4fb9331862291c1a76": {
      "model_module": "@jupyter-widgets/base",
      "model_module_version": "1.2.0",
      "model_name": "LayoutModel",
      "state": {}
     },
     "86d2edcb660241918884faf1e7cde0db": {
      "model_module": "@jupyter-widgets/controls",
      "model_module_version": "1.5.0",
      "model_name": "HTMLModel",
      "state": {
       "layout": "IPY_MODEL_56f63e2cb7fc48e587124512741c0ccd",
       "style": "IPY_MODEL_7286a1fa74f847a3a2041a6d06719638",
       "value": " 960/960 [00:38&lt;00:00, 24.86 batchs/s, lr=0.540, train_acc=98.700, train_loss=0.065, val_acc=90.737, val_loss=0.288]"
      }
     },
     "87c3c79d11ed40339825d75797aa10a0": {
      "model_module": "@jupyter-widgets/base",
      "model_module_version": "1.2.0",
      "model_name": "LayoutModel",
      "state": {}
     },
     "882c4c7e994c48a08111b678853d3f3f": {
      "model_module": "@jupyter-widgets/controls",
      "model_module_version": "1.5.0",
      "model_name": "ProgressStyleModel",
      "state": {
       "description_width": "initial"
      }
     },
     "8874efa7a7664ca7908436965397c1d5": {
      "model_module": "@jupyter-widgets/base",
      "model_module_version": "1.2.0",
      "model_name": "LayoutModel",
      "state": {}
     },
     "88a1b406d78d4f92a1347fa46e86f501": {
      "model_module": "@jupyter-widgets/controls",
      "model_module_version": "1.5.0",
      "model_name": "ProgressStyleModel",
      "state": {
       "description_width": "initial"
      }
     },
     "892b153ba71848e9b6896277f80aaa6d": {
      "model_module": "@jupyter-widgets/controls",
      "model_module_version": "1.5.0",
      "model_name": "FloatProgressModel",
      "state": {
       "bar_style": "success",
       "description": "Epoch 6: 100%",
       "layout": "IPY_MODEL_c100dacc8f234e279c8f05caa5364a3e",
       "max": 960,
       "style": "IPY_MODEL_ba134ebe8dda4db697b6c62bbb093bad",
       "value": 960
      }
     },
     "89f8ce3f4af546faaef5674b7c351e9d": {
      "model_module": "@jupyter-widgets/base",
      "model_module_version": "1.2.0",
      "model_name": "LayoutModel",
      "state": {}
     },
     "8a9e7eb1f4594511967b72fbaf401468": {
      "model_module": "@jupyter-widgets/base",
      "model_module_version": "1.2.0",
      "model_name": "LayoutModel",
      "state": {}
     },
     "8aa95c5456b54016a86409557a144336": {
      "model_module": "@jupyter-widgets/controls",
      "model_module_version": "1.5.0",
      "model_name": "HBoxModel",
      "state": {
       "children": [
        "IPY_MODEL_dd3216a06b2b4b0e9386e93da86a5b97",
        "IPY_MODEL_84dead8ed4b54df6b4b35111d51a7e6a"
       ],
       "layout": "IPY_MODEL_ffb136a17472435fa13de2b8e3df6bf6"
      }
     },
     "8c3dac5165794dd8b6c12e0e5f2be352": {
      "model_module": "@jupyter-widgets/base",
      "model_module_version": "1.2.0",
      "model_name": "LayoutModel",
      "state": {}
     },
     "8ddbcacfb0e84d1a980035e67eaf4134": {
      "model_module": "@jupyter-widgets/controls",
      "model_module_version": "1.5.0",
      "model_name": "HTMLModel",
      "state": {
       "layout": "IPY_MODEL_ced01526adf24c8d8942633c86f42c4b",
       "style": "IPY_MODEL_9fda6bf1571c4c1d893b1d10664fb867",
       "value": " 50/50 [01:02&lt;00:00,  1.24s/epoch]"
      }
     },
     "8e5c2e51e22e46bfb55ccfa7ead7b0fe": {
      "model_module": "@jupyter-widgets/controls",
      "model_module_version": "1.5.0",
      "model_name": "ProgressStyleModel",
      "state": {
       "description_width": "initial"
      }
     },
     "8e8507cb65164ad0b31e8ccac894e39f": {
      "model_module": "@jupyter-widgets/base",
      "model_module_version": "1.2.0",
      "model_name": "LayoutModel",
      "state": {}
     },
     "900ce419a7c546478b095372d2e26b86": {
      "model_module": "@jupyter-widgets/base",
      "model_module_version": "1.2.0",
      "model_name": "LayoutModel",
      "state": {}
     },
     "90648f61f41f499eac72387788acbf14": {
      "model_module": "@jupyter-widgets/base",
      "model_module_version": "1.2.0",
      "model_name": "LayoutModel",
      "state": {}
     },
     "913b583199e94bf7bc82df31116492a4": {
      "model_module": "@jupyter-widgets/controls",
      "model_module_version": "1.5.0",
      "model_name": "ProgressStyleModel",
      "state": {
       "description_width": "initial"
      }
     },
     "91a13d8372c149a7873b3d1fbe1324a7": {
      "model_module": "@jupyter-widgets/controls",
      "model_module_version": "1.5.0",
      "model_name": "HTMLModel",
      "state": {
       "layout": "IPY_MODEL_785dc6d74eaa49b7ae4feee2f6823216",
       "style": "IPY_MODEL_e41349e1936947dd92fc73e981b09560",
       "value": " 960/960 [00:14&lt;00:00, 64.24 batchs/s, lr=0.073, train_acc=99.214, train_loss=0.050, val_acc=90.763, val_loss=0.293]"
      }
     },
     "91be4a48b86647d69e706b4102625814": {
      "model_module": "@jupyter-widgets/controls",
      "model_module_version": "1.5.0",
      "model_name": "HBoxModel",
      "state": {
       "children": [
        "IPY_MODEL_b69510cc02ab4acebdb5571011105437",
        "IPY_MODEL_d6c5648c8b9f4fa3a274bca7aaa6cb32"
       ],
       "layout": "IPY_MODEL_a8b560d5b29341bc9962cf13bc7825b3"
      }
     },
     "9238c46d6af041e38ba55e2e903b1baf": {
      "model_module": "@jupyter-widgets/base",
      "model_module_version": "1.2.0",
      "model_name": "LayoutModel",
      "state": {}
     },
     "92cf566c05284a4383079262e6b0e8fc": {
      "model_module": "@jupyter-widgets/base",
      "model_module_version": "1.2.0",
      "model_name": "LayoutModel",
      "state": {}
     },
     "932fefd6cfe04a3a97e7cba41ccac241": {
      "model_module": "@jupyter-widgets/controls",
      "model_module_version": "1.5.0",
      "model_name": "ProgressStyleModel",
      "state": {
       "description_width": "initial"
      }
     },
     "93a2613696694ab6a4029a7b3f3b9f4a": {
      "model_module": "@jupyter-widgets/base",
      "model_module_version": "1.2.0",
      "model_name": "LayoutModel",
      "state": {}
     },
     "94cf9dd990fd48e3a668a869efaa27e4": {
      "model_module": "@jupyter-widgets/base",
      "model_module_version": "1.2.0",
      "model_name": "LayoutModel",
      "state": {}
     },
     "94d8f0b69afe461095cefad5c4f9804b": {
      "model_module": "@jupyter-widgets/controls",
      "model_module_version": "1.5.0",
      "model_name": "FloatProgressModel",
      "state": {
       "bar_style": "success",
       "description": "Epoch 37: 100%",
       "layout": "IPY_MODEL_31fd6e730d8545afa6f70d191fe66402",
       "max": 960,
       "style": "IPY_MODEL_7b11d3a80f014fb480524e974f25ed0f",
       "value": 960
      }
     },
     "94dcd0457a5d4fe0b91884d391aa61e1": {
      "model_module": "@jupyter-widgets/controls",
      "model_module_version": "1.5.0",
      "model_name": "ProgressStyleModel",
      "state": {
       "description_width": "initial"
      }
     },
     "95530bdce6354f3a874a99a50b6fcc6a": {
      "model_module": "@jupyter-widgets/controls",
      "model_module_version": "1.5.0",
      "model_name": "ProgressStyleModel",
      "state": {
       "description_width": "initial"
      }
     },
     "95992c46a8494f9997bf5dec6c2a5faa": {
      "model_module": "@jupyter-widgets/controls",
      "model_module_version": "1.5.0",
      "model_name": "FloatProgressModel",
      "state": {
       "bar_style": "success",
       "description": "Epoch 47: 100%",
       "layout": "IPY_MODEL_fb06ca54b77d4e07999ece3ab8aa1a30",
       "max": 960,
       "style": "IPY_MODEL_95530bdce6354f3a874a99a50b6fcc6a",
       "value": 960
      }
     },
     "97ded8e1eb2a455599ba12ddc2daaa75": {
      "model_module": "@jupyter-widgets/base",
      "model_module_version": "1.2.0",
      "model_name": "LayoutModel",
      "state": {}
     },
     "98410fa6d751499d8369d8ec5c1a176e": {
      "model_module": "@jupyter-widgets/controls",
      "model_module_version": "1.5.0",
      "model_name": "HTMLModel",
      "state": {
       "layout": "IPY_MODEL_17c979b1bba44e338a8eaa5b0d720e02",
       "style": "IPY_MODEL_c03fbe924b984466add929f3280eaa52",
       "value": " 960/960 [00:12&lt;00:00, 77.06 batchs/s, lr=0.059, train_acc=99.225, train_loss=0.049, val_acc=90.758, val_loss=0.294]"
      }
     },
     "98736ffc4fba4e1180418c069d1a2359": {
      "model_module": "@jupyter-widgets/controls",
      "model_module_version": "1.5.0",
      "model_name": "FloatProgressModel",
      "state": {
       "bar_style": "success",
       "description": "Epoch 27: 100%",
       "layout": "IPY_MODEL_38e35f5331194cbd869c38519953559a",
       "max": 960,
       "style": "IPY_MODEL_a6bc4372a07d44d3ad8e991695a4ba0d",
       "value": 960
      }
     },
     "99a7cd2b30d3410abcee3727c6b34342": {
      "model_module": "@jupyter-widgets/controls",
      "model_module_version": "1.5.0",
      "model_name": "HBoxModel",
      "state": {
       "children": [
        "IPY_MODEL_484c53f7883e42d584166984b8748842",
        "IPY_MODEL_8ddbcacfb0e84d1a980035e67eaf4134"
       ],
       "layout": "IPY_MODEL_f7958323071e4515a9eda2e3a434d6bc"
      }
     },
     "9a25126da5414b89aebe3049a046f63e": {
      "model_module": "@jupyter-widgets/base",
      "model_module_version": "1.2.0",
      "model_name": "LayoutModel",
      "state": {}
     },
     "9a27bb3e52394783af6b11ec094c1c62": {
      "model_module": "@jupyter-widgets/controls",
      "model_module_version": "1.5.0",
      "model_name": "HBoxModel",
      "state": {
       "children": [
        "IPY_MODEL_f889701bb5ad4c15aada13e71fa4763a",
        "IPY_MODEL_09f84c82a9a341abbcb3d5dbcd6e718c"
       ],
       "layout": "IPY_MODEL_41d6163cabe04f4f9b28d7a85ae57fdf"
      }
     },
     "9a899371e620473386a04ae7dc35d6c6": {
      "model_module": "@jupyter-widgets/controls",
      "model_module_version": "1.5.0",
      "model_name": "FloatProgressModel",
      "state": {
       "bar_style": "success",
       "description": "Epoch 26: 100%",
       "layout": "IPY_MODEL_8a9e7eb1f4594511967b72fbaf401468",
       "max": 960,
       "style": "IPY_MODEL_d58792124d9448d48868c45c63a9c80e",
       "value": 960
      }
     },
     "9ada3df8dcd0420db2de4167d9a1bf75": {
      "model_module": "@jupyter-widgets/controls",
      "model_module_version": "1.5.0",
      "model_name": "HBoxModel",
      "state": {
       "children": [
        "IPY_MODEL_ad5354a88b884335b40b54e30c10898b",
        "IPY_MODEL_25f83f07d7d149eba4c42f33ca628d32"
       ],
       "layout": "IPY_MODEL_5485c47a007a4a0a9f5f66e5bc165fad"
      }
     },
     "9afec6525bae4d43bb973c7ef71db9ee": {
      "model_module": "@jupyter-widgets/controls",
      "model_module_version": "1.5.0",
      "model_name": "ProgressStyleModel",
      "state": {
       "description_width": "initial"
      }
     },
     "9b1ca62b16474715bcbd6b6f6ea47a97": {
      "model_module": "@jupyter-widgets/base",
      "model_module_version": "1.2.0",
      "model_name": "LayoutModel",
      "state": {}
     },
     "9b4e8cbf749c462d98c7fa020928c248": {
      "model_module": "@jupyter-widgets/controls",
      "model_module_version": "1.5.0",
      "model_name": "HTMLModel",
      "state": {
       "layout": "IPY_MODEL_cd2e2b1780154ea2bbbb0e1be59900db",
       "style": "IPY_MODEL_a7d0c2e5c6dc41dcaaf4eac2e1ee5550",
       "value": " 960/960 [00:43&lt;00:00, 21.99 batchs/s, lr=0.824, train_acc=98.276, train_loss=0.077, val_acc=90.704, val_loss=0.286]"
      }
     },
     "9bbc21d8385546d4a08f35c9655af35d": {
      "model_module": "@jupyter-widgets/controls",
      "model_module_version": "1.5.0",
      "model_name": "HTMLModel",
      "state": {
       "layout": "IPY_MODEL_6363aea4a58c4f25b241aa5aee27b8ec",
       "style": "IPY_MODEL_d3154f65e6ca47d1812dad024f10bba6",
       "value": " 960/960 [00:41&lt;00:00, 23.36 batchs/s, lr=0.667, train_acc=98.518, train_loss=0.070, val_acc=90.721, val_loss=0.287]"
      }
     },
     "9c0e7beaee064b2a997fa68aa0f7ec3a": {
      "model_module": "@jupyter-widgets/controls",
      "model_module_version": "1.5.0",
      "model_name": "HTMLModel",
      "state": {
       "layout": "IPY_MODEL_5b00b77bb9d24c2f854ec5b396895ea6",
       "style": "IPY_MODEL_2589761cd78d470297c2aa603ccf4993",
       "value": " 960/960 [00:01&lt;00:00, 744.71 batchs/s, lr=0.023, train_acc=99.268, train_loss=0.048, val_acc=90.746, val_loss=0.294]"
      }
     },
     "9d8ca3adee8248deb62362b56b1d612d": {
      "model_module": "@jupyter-widgets/base",
      "model_module_version": "1.2.0",
      "model_name": "LayoutModel",
      "state": {}
     },
     "9da0b57b102847d28bc2e57a2d47e5f4": {
      "model_module": "@jupyter-widgets/controls",
      "model_module_version": "1.5.0",
      "model_name": "HTMLModel",
      "state": {
       "layout": "IPY_MODEL_94cf9dd990fd48e3a668a869efaa27e4",
       "style": "IPY_MODEL_6caa0cab389b415799c9bbe8f00b22a2",
       "value": " 960/960 [00:22&lt;00:00, 42.93 batchs/s, lr=0.137, train_acc=99.153, train_loss=0.051, val_acc=90.758, val_loss=0.293]"
      }
     },
     "9dd47cb2762144ec99e20848a565ea14": {
      "model_module": "@jupyter-widgets/base",
      "model_module_version": "1.2.0",
      "model_name": "LayoutModel",
      "state": {}
     },
     "9e4e747927a042239e2882a2b7ee3aac": {
      "model_module": "@jupyter-widgets/base",
      "model_module_version": "1.2.0",
      "model_name": "LayoutModel",
      "state": {}
     },
     "9e854f024d00417f87849c0dfaa4fd6b": {
      "model_module": "@jupyter-widgets/controls",
      "model_module_version": "1.5.0",
      "model_name": "DescriptionStyleModel",
      "state": {
       "description_width": ""
      }
     },
     "9fda6bf1571c4c1d893b1d10664fb867": {
      "model_module": "@jupyter-widgets/controls",
      "model_module_version": "1.5.0",
      "model_name": "DescriptionStyleModel",
      "state": {
       "description_width": ""
      }
     },
     "9fe6a0da96674b0199b46ee2a44f6752": {
      "model_module": "@jupyter-widgets/controls",
      "model_module_version": "1.5.0",
      "model_name": "ProgressStyleModel",
      "state": {
       "description_width": "initial"
      }
     },
     "9ff26c5e50254692a208418f8b0fec05": {
      "model_module": "@jupyter-widgets/base",
      "model_module_version": "1.2.0",
      "model_name": "LayoutModel",
      "state": {}
     },
     "a025502d861147048c5e6e24771074da": {
      "model_module": "@jupyter-widgets/controls",
      "model_module_version": "1.5.0",
      "model_name": "HBoxModel",
      "state": {
       "children": [
        "IPY_MODEL_035bd34dbc0c4445bbfa7688901aeee3",
        "IPY_MODEL_1abdcff8237f43589f2fd5de8d66ff2d"
       ],
       "layout": "IPY_MODEL_3bc8fa5188a74589964c2811c8bb4679"
      }
     },
     "a1463c05a932426e8b92e200ce76441f": {
      "model_module": "@jupyter-widgets/controls",
      "model_module_version": "1.5.0",
      "model_name": "HTMLModel",
      "state": {
       "layout": "IPY_MODEL_235ccf0d70bf42c5a9c4c3219dd4c7cd",
       "style": "IPY_MODEL_605b5e2c02554e40a7af73b9732601cf",
       "value": " 960/960 [01:02&lt;00:00, 15.41 batchs/s, lr=4.000, train_acc=70.914, train_loss=0.751, val_acc=85.933, val_loss=0.418]"
      }
     },
     "a17ecf61608b40f2a390dfc69f582fb5": {
      "model_module": "@jupyter-widgets/base",
      "model_module_version": "1.2.0",
      "model_name": "LayoutModel",
      "state": {}
     },
     "a25eb32b9a594af98c649f1be48e73c0": {
      "model_module": "@jupyter-widgets/controls",
      "model_module_version": "1.5.0",
      "model_name": "HTMLModel",
      "state": {
       "layout": "IPY_MODEL_287525551394494eb2d844b05859f9b4",
       "style": "IPY_MODEL_fcaa447d84b840fcb9e8d610020f5c9f",
       "value": " 960/960 [00:42&lt;00:00, 22.66 batchs/s, lr=0.741, train_acc=98.416, train_loss=0.073, val_acc=90.737, val_loss=0.286]"
      }
     },
     "a34046742a734d5fa17229475fdda9c8": {
      "model_module": "@jupyter-widgets/base",
      "model_module_version": "1.2.0",
      "model_name": "LayoutModel",
      "state": {}
     },
     "a3605a3d8c1744bcad0759cf6e0755b6": {
      "model_module": "@jupyter-widgets/controls",
      "model_module_version": "1.5.0",
      "model_name": "DescriptionStyleModel",
      "state": {
       "description_width": ""
      }
     },
     "a387c8250ec043af94aad37e5397d70a": {
      "model_module": "@jupyter-widgets/base",
      "model_module_version": "1.2.0",
      "model_name": "LayoutModel",
      "state": {}
     },
     "a416bd8b134042fab346ed60ee4f4413": {
      "model_module": "@jupyter-widgets/controls",
      "model_module_version": "1.5.0",
      "model_name": "ProgressStyleModel",
      "state": {
       "description_width": "initial"
      }
     },
     "a483d16d1d104ea192ed85af135c46a0": {
      "model_module": "@jupyter-widgets/controls",
      "model_module_version": "1.5.0",
      "model_name": "ProgressStyleModel",
      "state": {
       "description_width": "initial"
      }
     },
     "a53f974f48934da8888d6af329cd2a86": {
      "model_module": "@jupyter-widgets/base",
      "model_module_version": "1.2.0",
      "model_name": "LayoutModel",
      "state": {}
     },
     "a55f3c1fc4234a309886877adbd2efa7": {
      "model_module": "@jupyter-widgets/base",
      "model_module_version": "1.2.0",
      "model_name": "LayoutModel",
      "state": {}
     },
     "a5f9008b85724e02a9ccc3903a574f31": {
      "model_module": "@jupyter-widgets/controls",
      "model_module_version": "1.5.0",
      "model_name": "ProgressStyleModel",
      "state": {
       "description_width": "initial"
      }
     },
     "a6bc4372a07d44d3ad8e991695a4ba0d": {
      "model_module": "@jupyter-widgets/controls",
      "model_module_version": "1.5.0",
      "model_name": "ProgressStyleModel",
      "state": {
       "description_width": "initial"
      }
     },
     "a7d0c2e5c6dc41dcaaf4eac2e1ee5550": {
      "model_module": "@jupyter-widgets/controls",
      "model_module_version": "1.5.0",
      "model_name": "DescriptionStyleModel",
      "state": {
       "description_width": ""
      }
     },
     "a7eb2ac8d81d4fa2a0dfda2cda17b2d2": {
      "model_module": "@jupyter-widgets/controls",
      "model_module_version": "1.5.0",
      "model_name": "ProgressStyleModel",
      "state": {
       "description_width": "initial"
      }
     },
     "a8b560d5b29341bc9962cf13bc7825b3": {
      "model_module": "@jupyter-widgets/base",
      "model_module_version": "1.2.0",
      "model_name": "LayoutModel",
      "state": {}
     },
     "a97334bf77a64f66a1e0f59bc328cb7f": {
      "model_module": "@jupyter-widgets/controls",
      "model_module_version": "1.5.0",
      "model_name": "DescriptionStyleModel",
      "state": {
       "description_width": ""
      }
     },
     "aa138705329a44c1aab4f9487a313393": {
      "model_module": "@jupyter-widgets/base",
      "model_module_version": "1.2.0",
      "model_name": "LayoutModel",
      "state": {}
     },
     "ab44368abe454610862ec820ac33de69": {
      "model_module": "@jupyter-widgets/base",
      "model_module_version": "1.2.0",
      "model_name": "LayoutModel",
      "state": {}
     },
     "ac65ce9073f7460dba30b8b5a5180baf": {
      "model_module": "@jupyter-widgets/controls",
      "model_module_version": "1.5.0",
      "model_name": "FloatProgressModel",
      "state": {
       "bar_style": "success",
       "description": "Epoch 19: 100%",
       "layout": "IPY_MODEL_ecbfeac5263745449a1f99a9bc7f8cb5",
       "max": 960,
       "style": "IPY_MODEL_9fe6a0da96674b0199b46ee2a44f6752",
       "value": 960
      }
     },
     "ad1859ae03b243318e73c588a7aecb03": {
      "model_module": "@jupyter-widgets/base",
      "model_module_version": "1.2.0",
      "model_name": "LayoutModel",
      "state": {}
     },
     "ad5354a88b884335b40b54e30c10898b": {
      "model_module": "@jupyter-widgets/controls",
      "model_module_version": "1.5.0",
      "model_name": "FloatProgressModel",
      "state": {
       "bar_style": "success",
       "description": "Epoch 9: 100%",
       "layout": "IPY_MODEL_78f97d26463d4d55ad298483a22eee62",
       "max": 960,
       "style": "IPY_MODEL_a5f9008b85724e02a9ccc3903a574f31",
       "value": 960
      }
     },
     "aeb32e64d4ff4e78bc673e34510bc7c5": {
      "model_module": "@jupyter-widgets/controls",
      "model_module_version": "1.5.0",
      "model_name": "DescriptionStyleModel",
      "state": {
       "description_width": ""
      }
     },
     "afd5bcaae3fd4cf0a82200e06341f02b": {
      "model_module": "@jupyter-widgets/controls",
      "model_module_version": "1.5.0",
      "model_name": "DescriptionStyleModel",
      "state": {
       "description_width": ""
      }
     },
     "b2a035c45f6a450695a021adbf826354": {
      "model_module": "@jupyter-widgets/base",
      "model_module_version": "1.2.0",
      "model_name": "LayoutModel",
      "state": {}
     },
     "b36ae5ec5b764ac3bf8a5d97f3105c70": {
      "model_module": "@jupyter-widgets/base",
      "model_module_version": "1.2.0",
      "model_name": "LayoutModel",
      "state": {}
     },
     "b3cf1416de1345958fe7b767da27f45e": {
      "model_module": "@jupyter-widgets/controls",
      "model_module_version": "1.5.0",
      "model_name": "FloatProgressModel",
      "state": {
       "bar_style": "success",
       "description": "Epoch 28: 100%",
       "layout": "IPY_MODEL_90648f61f41f499eac72387788acbf14",
       "max": 960,
       "style": "IPY_MODEL_a416bd8b134042fab346ed60ee4f4413",
       "value": 960
      }
     },
     "b5261123596d44f0bccda70229a4c3a8": {
      "model_module": "@jupyter-widgets/controls",
      "model_module_version": "1.5.0",
      "model_name": "HBoxModel",
      "state": {
       "children": [
        "IPY_MODEL_fb6642f5d07c4d138d5570bcb88adac3",
        "IPY_MODEL_7cce691419e64b45b2fa50430723a8f6"
       ],
       "layout": "IPY_MODEL_299de2d2ba314e2193c9011cedeb1b50"
      }
     },
     "b5a452c909d04656a69b6b0939147f37": {
      "model_module": "@jupyter-widgets/controls",
      "model_module_version": "1.5.0",
      "model_name": "HBoxModel",
      "state": {
       "children": [
        "IPY_MODEL_94d8f0b69afe461095cefad5c4f9804b",
        "IPY_MODEL_cb2db6db590b436695aba9e073147dcf"
       ],
       "layout": "IPY_MODEL_f5a454007c904370800587cd087aa7c0"
      }
     },
     "b634c28b52514977be6ee4c24046b66b": {
      "model_module": "@jupyter-widgets/controls",
      "model_module_version": "1.5.0",
      "model_name": "HTMLModel",
      "state": {
       "layout": "IPY_MODEL_ab44368abe454610862ec820ac33de69",
       "style": "IPY_MODEL_a3605a3d8c1744bcad0759cf6e0755b6",
       "value": " 960/960 [00:31&lt;00:00, 30.74 batchs/s, lr=0.287, train_acc=99.006, train_loss=0.056, val_acc=90.737, val_loss=0.291]"
      }
     },
     "b6896a552d3144ceb684e6ee13881ea7": {
      "model_module": "@jupyter-widgets/controls",
      "model_module_version": "1.5.0",
      "model_name": "ProgressStyleModel",
      "state": {
       "description_width": "initial"
      }
     },
     "b69510cc02ab4acebdb5571011105437": {
      "model_module": "@jupyter-widgets/controls",
      "model_module_version": "1.5.0",
      "model_name": "FloatProgressModel",
      "state": {
       "bar_style": "success",
       "description": "Epoch 40: 100%",
       "layout": "IPY_MODEL_87c3c79d11ed40339825d75797aa10a0",
       "max": 960,
       "style": "IPY_MODEL_36119b464e87419ba589d31149c4077f",
       "value": 960
      }
     },
     "b6dcc55992c444f2b0f3b32c61f36e3d": {
      "model_module": "@jupyter-widgets/base",
      "model_module_version": "1.2.0",
      "model_name": "LayoutModel",
      "state": {}
     },
     "b701178adcbf459290cd3e3db48cc69a": {
      "model_module": "@jupyter-widgets/base",
      "model_module_version": "1.2.0",
      "model_name": "LayoutModel",
      "state": {}
     },
     "b9c5d58d872b4d4a953607068158cfb8": {
      "model_module": "@jupyter-widgets/controls",
      "model_module_version": "1.5.0",
      "model_name": "FloatProgressModel",
      "state": {
       "bar_style": "success",
       "description": "Epoch 29: 100%",
       "layout": "IPY_MODEL_589595d68bb14f1ea2e52a18a89eb60b",
       "max": 960,
       "style": "IPY_MODEL_4a181803ff334eccb5b5691022b73b78",
       "value": 960
      }
     },
     "ba134ebe8dda4db697b6c62bbb093bad": {
      "model_module": "@jupyter-widgets/controls",
      "model_module_version": "1.5.0",
      "model_name": "ProgressStyleModel",
      "state": {
       "description_width": "initial"
      }
     },
     "ba1de9bb25dc449691c17c24ad6b6c8c": {
      "model_module": "@jupyter-widgets/controls",
      "model_module_version": "1.5.0",
      "model_name": "FloatProgressModel",
      "state": {
       "bar_style": "success",
       "description": "Epoch 25: 100%",
       "layout": "IPY_MODEL_c290475060c94b8b9f2aa07c8dcee88a",
       "max": 960,
       "style": "IPY_MODEL_c35fc0ddf27e4265b433fe3fe7e6144e",
       "value": 960
      }
     },
     "bac41b3404cd4a39a0ac034440470a98": {
      "model_module": "@jupyter-widgets/base",
      "model_module_version": "1.2.0",
      "model_name": "LayoutModel",
      "state": {}
     },
     "bad74c7248b3467fa6cc85efae3d72cd": {
      "model_module": "@jupyter-widgets/controls",
      "model_module_version": "1.5.0",
      "model_name": "HTMLModel",
      "state": {
       "layout": "IPY_MODEL_3eb860d10ba147f8a3bfd64eda274d45",
       "style": "IPY_MODEL_0224703149754e80b5639a83ebc7b0de",
       "value": " 960/960 [00:23&lt;00:00, 40.62 batchs/s, lr=0.153, train_acc=99.134, train_loss=0.052, val_acc=90.763, val_loss=0.293]"
      }
     },
     "bd1be1d7d9fb478f9350678791e5e949": {
      "model_module": "@jupyter-widgets/base",
      "model_module_version": "1.2.0",
      "model_name": "LayoutModel",
      "state": {}
     },
     "bd26ad4aff864c91b99ce0a8937a3ec4": {
      "model_module": "@jupyter-widgets/controls",
      "model_module_version": "1.5.0",
      "model_name": "ProgressStyleModel",
      "state": {
       "description_width": "initial"
      }
     },
     "bd57ea29fd1a40dcb3a28690b8c2f9e8": {
      "model_module": "@jupyter-widgets/controls",
      "model_module_version": "1.5.0",
      "model_name": "DescriptionStyleModel",
      "state": {
       "description_width": ""
      }
     },
     "bfe0c94a96094f80858dbc12af2194ec": {
      "model_module": "@jupyter-widgets/base",
      "model_module_version": "1.2.0",
      "model_name": "LayoutModel",
      "state": {}
     },
     "c026c7c8f6284580aa078d71adffed8b": {
      "model_module": "@jupyter-widgets/base",
      "model_module_version": "1.2.0",
      "model_name": "LayoutModel",
      "state": {}
     },
     "c03fbe924b984466add929f3280eaa52": {
      "model_module": "@jupyter-widgets/controls",
      "model_module_version": "1.5.0",
      "model_name": "DescriptionStyleModel",
      "state": {
       "description_width": ""
      }
     },
     "c0c1db89dc3b4c1da373e02d5d225789": {
      "model_module": "@jupyter-widgets/base",
      "model_module_version": "1.2.0",
      "model_name": "LayoutModel",
      "state": {}
     },
     "c100dacc8f234e279c8f05caa5364a3e": {
      "model_module": "@jupyter-widgets/base",
      "model_module_version": "1.2.0",
      "model_name": "LayoutModel",
      "state": {}
     },
     "c261ac884dbc49ddb4ef025439144553": {
      "model_module": "@jupyter-widgets/base",
      "model_module_version": "1.2.0",
      "model_name": "LayoutModel",
      "state": {}
     },
     "c2694a1cade14ad2adcbae0b004fb26b": {
      "model_module": "@jupyter-widgets/controls",
      "model_module_version": "1.5.0",
      "model_name": "DescriptionStyleModel",
      "state": {
       "description_width": ""
      }
     },
     "c290475060c94b8b9f2aa07c8dcee88a": {
      "model_module": "@jupyter-widgets/base",
      "model_module_version": "1.2.0",
      "model_name": "LayoutModel",
      "state": {}
     },
     "c35fc0ddf27e4265b433fe3fe7e6144e": {
      "model_module": "@jupyter-widgets/controls",
      "model_module_version": "1.5.0",
      "model_name": "ProgressStyleModel",
      "state": {
       "description_width": "initial"
      }
     },
     "c3d0256e4bf74ce99081a212cc5d28f0": {
      "model_module": "@jupyter-widgets/controls",
      "model_module_version": "1.5.0",
      "model_name": "FloatProgressModel",
      "state": {
       "bar_style": "success",
       "description": "Epoch 34: 100%",
       "layout": "IPY_MODEL_97ded8e1eb2a455599ba12ddc2daaa75",
       "max": 960,
       "style": "IPY_MODEL_bd26ad4aff864c91b99ce0a8937a3ec4",
       "value": 960
      }
     },
     "c400cf5902c44e00affc5782ca1d80da": {
      "model_module": "@jupyter-widgets/base",
      "model_module_version": "1.2.0",
      "model_name": "LayoutModel",
      "state": {}
     },
     "c441ee3478da4cc0841f8b9492787c3d": {
      "model_module": "@jupyter-widgets/controls",
      "model_module_version": "1.5.0",
      "model_name": "HTMLModel",
      "state": {
       "layout": "IPY_MODEL_bfe0c94a96094f80858dbc12af2194ec",
       "style": "IPY_MODEL_d0609813b0c242f9a3fafa593dd8c975",
       "value": " 960/960 [00:32&lt;00:00, 29.60 batchs/s, lr=0.319, train_acc=98.968, train_loss=0.057, val_acc=90.733, val_loss=0.291]"
      }
     },
     "c47321b65ecf4e6ea05334c8f8f2712c": {
      "model_module": "@jupyter-widgets/controls",
      "model_module_version": "1.5.0",
      "model_name": "DescriptionStyleModel",
      "state": {
       "description_width": ""
      }
     },
     "c49a5b5f4cd6496f9ae8503ee097ea79": {
      "model_module": "@jupyter-widgets/controls",
      "model_module_version": "1.5.0",
      "model_name": "ProgressStyleModel",
      "state": {
       "description_width": "initial"
      }
     },
     "c4a9c9c78a154c33ac8f5aae234a840d": {
      "model_module": "@jupyter-widgets/base",
      "model_module_version": "1.2.0",
      "model_name": "LayoutModel",
      "state": {}
     },
     "c4b4f045af8840dc889ae7b0e2f7d635": {
      "model_module": "@jupyter-widgets/base",
      "model_module_version": "1.2.0",
      "model_name": "LayoutModel",
      "state": {}
     },
     "c4f80331a8e54d06a81d6b311ae16c74": {
      "model_module": "@jupyter-widgets/base",
      "model_module_version": "1.2.0",
      "model_name": "LayoutModel",
      "state": {}
     },
     "c5668252e2e24da7a8f139cbe0982965": {
      "model_module": "@jupyter-widgets/controls",
      "model_module_version": "1.5.0",
      "model_name": "DescriptionStyleModel",
      "state": {
       "description_width": ""
      }
     },
     "c57153dab9b74959843ad77f3c7aa5c3": {
      "model_module": "@jupyter-widgets/controls",
      "model_module_version": "1.5.0",
      "model_name": "ProgressStyleModel",
      "state": {
       "description_width": "initial"
      }
     },
     "c57f0f1606814f0ca2573d160d702a4d": {
      "model_module": "@jupyter-widgets/controls",
      "model_module_version": "1.5.0",
      "model_name": "HTMLModel",
      "state": {
       "layout": "IPY_MODEL_ff1d85c5129643c18d2552af9873cd3f",
       "style": "IPY_MODEL_7bcf31f4d52d471fa112c5007f642349",
       "value": " 960/960 [00:39&lt;00:00, 24.10 batchs/s, lr=0.600, train_acc=98.607, train_loss=0.067, val_acc=90.729, val_loss=0.288]"
      }
     },
     "c5fbb632710547b68c85befc14a9dfc5": {
      "model_module": "@jupyter-widgets/base",
      "model_module_version": "1.2.0",
      "model_name": "LayoutModel",
      "state": {}
     },
     "c5fef0a16e7149b685163eebc21fbbba": {
      "model_module": "@jupyter-widgets/base",
      "model_module_version": "1.2.0",
      "model_name": "LayoutModel",
      "state": {}
     },
     "c674425e36c246d9b7df7b4fe5a2c11c": {
      "model_module": "@jupyter-widgets/controls",
      "model_module_version": "1.5.0",
      "model_name": "ProgressStyleModel",
      "state": {
       "description_width": "initial"
      }
     },
     "c7cfa0c446c44ada9ceaa9de603a240a": {
      "model_module": "@jupyter-widgets/controls",
      "model_module_version": "1.5.0",
      "model_name": "HTMLModel",
      "state": {
       "layout": "IPY_MODEL_6d36605f2cb1454bb2029947e7197529",
       "style": "IPY_MODEL_eb64dcac161c472db80e0e4206c45e37",
       "value": " 960/960 [00:30&lt;00:00, 31.98 batchs/s, lr=0.258, train_acc=99.033, train_loss=0.055, val_acc=90.742, val_loss=0.291]"
      }
     },
     "c90ded0162af4f51bb779603fd28bad0": {
      "model_module": "@jupyter-widgets/base",
      "model_module_version": "1.2.0",
      "model_name": "LayoutModel",
      "state": {}
     },
     "c950d71d0b1149c791bb591050773e4e": {
      "model_module": "@jupyter-widgets/controls",
      "model_module_version": "1.5.0",
      "model_name": "FloatProgressModel",
      "state": {
       "bar_style": "success",
       "description": "Epoch 22: 100%",
       "layout": "IPY_MODEL_8c3dac5165794dd8b6c12e0e5f2be352",
       "max": 960,
       "style": "IPY_MODEL_29174bcf94e040d9b302b41fdb927e81",
       "value": 960
      }
     },
     "c9c318cca7384fd69d2719c473ffd966": {
      "model_module": "@jupyter-widgets/base",
      "model_module_version": "1.2.0",
      "model_name": "LayoutModel",
      "state": {}
     },
     "ca1ebeb488944019aaa0dff48a8579c8": {
      "model_module": "@jupyter-widgets/controls",
      "model_module_version": "1.5.0",
      "model_name": "FloatProgressModel",
      "state": {
       "bar_style": "success",
       "description": "Epoch 39: 100%",
       "layout": "IPY_MODEL_f55b47e5a4b04952bc60fbfa649231de",
       "max": 960,
       "style": "IPY_MODEL_49e2e2fc97274198aa9fdafc014dcd8f",
       "value": 960
      }
     },
     "ca3ba5f359954e46ba9ea6cb452e8532": {
      "model_module": "@jupyter-widgets/controls",
      "model_module_version": "1.5.0",
      "model_name": "HTMLModel",
      "state": {
       "layout": "IPY_MODEL_8874efa7a7664ca7908436965397c1d5",
       "style": "IPY_MODEL_04df9f22c9a249eea6678adfa93baa84",
       "value": " 960/960 [00:06&lt;00:00, 154.81 batchs/s, lr=0.035, train_acc=99.257, train_loss=0.049, val_acc=90.754, val_loss=0.294]"
      }
     },
     "caf8725086754c7fb29cd3b12dd4c157": {
      "model_module": "@jupyter-widgets/controls",
      "model_module_version": "1.5.0",
      "model_name": "HBoxModel",
      "state": {
       "children": [
        "IPY_MODEL_95992c46a8494f9997bf5dec6c2a5faa",
        "IPY_MODEL_3d0e67f142b34faa815ae075d0816c83"
       ],
       "layout": "IPY_MODEL_c4a9c9c78a154c33ac8f5aae234a840d"
      }
     },
     "cb2db6db590b436695aba9e073147dcf": {
      "model_module": "@jupyter-widgets/controls",
      "model_module_version": "1.5.0",
      "model_name": "HTMLModel",
      "state": {
       "layout": "IPY_MODEL_e8ef2f4643844145bd095b795745ff37",
       "style": "IPY_MODEL_6f8d76d57e65419f86c7a793dbd5fe33",
       "value": " 960/960 [00:17&lt;00:00, 55.00 batchs/s, lr=0.090, train_acc=99.199, train_loss=0.050, val_acc=90.758, val_loss=0.293]"
      }
     },
     "cbc07f4f93ac4bad88f9c5c7ee197148": {
      "model_module": "@jupyter-widgets/controls",
      "model_module_version": "1.5.0",
      "model_name": "DescriptionStyleModel",
      "state": {
       "description_width": ""
      }
     },
     "cbfe4b8b67f049459b17adc079de55ac": {
      "model_module": "@jupyter-widgets/controls",
      "model_module_version": "1.5.0",
      "model_name": "FloatProgressModel",
      "state": {
       "bar_style": "success",
       "description": "Epoch 32: 100%",
       "layout": "IPY_MODEL_69dbc69365be42a08a1f6c66511d85e9",
       "max": 960,
       "style": "IPY_MODEL_c49a5b5f4cd6496f9ae8503ee097ea79",
       "value": 960
      }
     },
     "cd2e2b1780154ea2bbbb0e1be59900db": {
      "model_module": "@jupyter-widgets/base",
      "model_module_version": "1.2.0",
      "model_name": "LayoutModel",
      "state": {}
     },
     "cd3a40202353415a88cbda4c27b1fb1f": {
      "model_module": "@jupyter-widgets/controls",
      "model_module_version": "1.5.0",
      "model_name": "FloatProgressModel",
      "state": {
       "bar_style": "success",
       "description": "Epoch 44: 100%",
       "layout": "IPY_MODEL_c400cf5902c44e00affc5782ca1d80da",
       "max": 960,
       "style": "IPY_MODEL_94dcd0457a5d4fe0b91884d391aa61e1",
       "value": 960
      }
     },
     "cdc4437f666248dbbfcdac3421c527fa": {
      "model_module": "@jupyter-widgets/controls",
      "model_module_version": "1.5.0",
      "model_name": "HBoxModel",
      "state": {
       "children": [
        "IPY_MODEL_5648d4a5354544ccb30b8adf66dc1d24",
        "IPY_MODEL_d793687007b54898b06a4e72543b3752"
       ],
       "layout": "IPY_MODEL_1772a92ca00a45b58c95620a5989fad0"
      }
     },
     "ce17d06a518e4bffab89f10beef6dfba": {
      "model_module": "@jupyter-widgets/controls",
      "model_module_version": "1.5.0",
      "model_name": "FloatProgressModel",
      "state": {
       "bar_style": "success",
       "description": "Epoch 46: 100%",
       "layout": "IPY_MODEL_aa138705329a44c1aab4f9487a313393",
       "max": 960,
       "style": "IPY_MODEL_d3c1366f95f043388df34482c6416f2f",
       "value": 960
      }
     },
     "ce27c40b4b2e4eb1b7b9fc96286f79af": {
      "model_module": "@jupyter-widgets/base",
      "model_module_version": "1.2.0",
      "model_name": "LayoutModel",
      "state": {}
     },
     "ced01526adf24c8d8942633c86f42c4b": {
      "model_module": "@jupyter-widgets/base",
      "model_module_version": "1.2.0",
      "model_name": "LayoutModel",
      "state": {}
     },
     "cf8c4dea43d94df1b2401d51c69522ac": {
      "model_module": "@jupyter-widgets/base",
      "model_module_version": "1.2.0",
      "model_name": "LayoutModel",
      "state": {}
     },
     "d0609813b0c242f9a3fafa593dd8c975": {
      "model_module": "@jupyter-widgets/controls",
      "model_module_version": "1.5.0",
      "model_name": "DescriptionStyleModel",
      "state": {
       "description_width": ""
      }
     },
     "d21407c7a9a249769086a3cf99f23127": {
      "model_module": "@jupyter-widgets/controls",
      "model_module_version": "1.5.0",
      "model_name": "HTMLModel",
      "state": {
       "layout": "IPY_MODEL_4eda4edff7324f72a23846504a7a21aa",
       "style": "IPY_MODEL_05a586646cf2478c8323491691ea810a",
       "value": " 960/960 [00:59&lt;00:00, 16.09 batchs/s, lr=3.240, train_acc=90.796, train_loss=0.280, val_acc=89.508, val_loss=0.309]"
      }
     },
     "d3154f65e6ca47d1812dad024f10bba6": {
      "model_module": "@jupyter-widgets/controls",
      "model_module_version": "1.5.0",
      "model_name": "DescriptionStyleModel",
      "state": {
       "description_width": ""
      }
     },
     "d3c1366f95f043388df34482c6416f2f": {
      "model_module": "@jupyter-widgets/controls",
      "model_module_version": "1.5.0",
      "model_name": "ProgressStyleModel",
      "state": {
       "description_width": "initial"
      }
     },
     "d3ebe31d1e994b6faec93ffc342e9a0b": {
      "model_module": "@jupyter-widgets/controls",
      "model_module_version": "1.5.0",
      "model_name": "HBoxModel",
      "state": {
       "children": [
        "IPY_MODEL_ffc2fee433674497916628ac89f39bd3",
        "IPY_MODEL_86d2edcb660241918884faf1e7cde0db"
       ],
       "layout": "IPY_MODEL_6ffe536f07914eadbc59d73ecc6f4624"
      }
     },
     "d58792124d9448d48868c45c63a9c80e": {
      "model_module": "@jupyter-widgets/controls",
      "model_module_version": "1.5.0",
      "model_name": "ProgressStyleModel",
      "state": {
       "description_width": "initial"
      }
     },
     "d5ac073818b1463ea149a21a6988e68f": {
      "model_module": "@jupyter-widgets/base",
      "model_module_version": "1.2.0",
      "model_name": "LayoutModel",
      "state": {}
     },
     "d62e67ebf319438882a6b5491180c3d8": {
      "model_module": "@jupyter-widgets/base",
      "model_module_version": "1.2.0",
      "model_name": "LayoutModel",
      "state": {}
     },
     "d637c8a78244419d837afd4739b70bcd": {
      "model_module": "@jupyter-widgets/controls",
      "model_module_version": "1.5.0",
      "model_name": "HBoxModel",
      "state": {
       "children": [
        "IPY_MODEL_0c1bde7183ea4ab389ae9101c81f885d",
        "IPY_MODEL_98410fa6d751499d8369d8ec5c1a176e"
       ],
       "layout": "IPY_MODEL_1e784a803d7c4d019ddc4be732f4219f"
      }
     },
     "d6c5648c8b9f4fa3a274bca7aaa6cb32": {
      "model_module": "@jupyter-widgets/controls",
      "model_module_version": "1.5.0",
      "model_name": "HTMLModel",
      "state": {
       "layout": "IPY_MODEL_d62e67ebf319438882a6b5491180c3d8",
       "style": "IPY_MODEL_526c6d6ac17546249158a53d6942d7b1",
       "value": " 960/960 [00:13&lt;00:00, 70.24 batchs/s, lr=0.066, train_acc=99.220, train_loss=0.049, val_acc=90.763, val_loss=0.294]"
      }
     },
     "d793687007b54898b06a4e72543b3752": {
      "model_module": "@jupyter-widgets/controls",
      "model_module_version": "1.5.0",
      "model_name": "HTMLModel",
      "state": {
       "layout": "IPY_MODEL_10f332c076a84b8385a2803ab015911a",
       "style": "IPY_MODEL_afd5bcaae3fd4cf0a82200e06341f02b",
       "value": " 960/960 [00:09&lt;00:00, 96.87 batchs/s, lr=0.048, train_acc=99.242, train_loss=0.049, val_acc=90.758, val_loss=0.294]"
      }
     },
     "d8625afb5d9e4b59bb8b18a3352f3a31": {
      "model_module": "@jupyter-widgets/controls",
      "model_module_version": "1.5.0",
      "model_name": "HBoxModel",
      "state": {
       "children": [
        "IPY_MODEL_58a111d66a7247c19bf0c78d38adadfc",
        "IPY_MODEL_40877827d4b0492db950ceca64300a6c"
       ],
       "layout": "IPY_MODEL_e4fd98cdc26249c191d8bbfdf54458dc"
      }
     },
     "d8cfc448fdb6491ea76fd8fcde9c0f48": {
      "model_module": "@jupyter-widgets/controls",
      "model_module_version": "1.5.0",
      "model_name": "FloatProgressModel",
      "state": {
       "bar_style": "success",
       "description": "Epoch 35: 100%",
       "layout": "IPY_MODEL_3e066a2708fe4a8d8aed54f0c73bf8cd",
       "max": 960,
       "style": "IPY_MODEL_ef8d42b527ca4cd0a2cc11c8f29eb27a",
       "value": 960
      }
     },
     "d950c1a57755424986a1d1ab62cb9316": {
      "model_module": "@jupyter-widgets/controls",
      "model_module_version": "1.5.0",
      "model_name": "FloatProgressModel",
      "state": {
       "bar_style": "success",
       "description": "Epoch 10: 100%",
       "layout": "IPY_MODEL_0bae09944f7b4e95bdb4606706b54dc8",
       "max": 960,
       "style": "IPY_MODEL_c674425e36c246d9b7df7b4fe5a2c11c",
       "value": 960
      }
     },
     "d974d84ef5f4487f82694e838cfcbc29": {
      "model_module": "@jupyter-widgets/controls",
      "model_module_version": "1.5.0",
      "model_name": "HBoxModel",
      "state": {
       "children": [
        "IPY_MODEL_e959f49007c64e3fa337a86861809c0e",
        "IPY_MODEL_44646a273e1046669e2eb4d94c19dd35"
       ],
       "layout": "IPY_MODEL_bd1be1d7d9fb478f9350678791e5e949"
      }
     },
     "d9c24f87f3d04846b9de3938d4e7a7c1": {
      "model_module": "@jupyter-widgets/base",
      "model_module_version": "1.2.0",
      "model_name": "LayoutModel",
      "state": {}
     },
     "da49978360264d27be3898d70dd176f0": {
      "model_module": "@jupyter-widgets/controls",
      "model_module_version": "1.5.0",
      "model_name": "HBoxModel",
      "state": {
       "children": [
        "IPY_MODEL_24fb84b6068a42e2969db3513c7d4ba6",
        "IPY_MODEL_9c0e7beaee064b2a997fa68aa0f7ec3a"
       ],
       "layout": "IPY_MODEL_3ae0121e0f86411f85dccd43eb44a0dd"
      }
     },
     "daeade30747c4042a1d0bb1a1e561293": {
      "model_module": "@jupyter-widgets/controls",
      "model_module_version": "1.5.0",
      "model_name": "HBoxModel",
      "state": {
       "children": [
        "IPY_MODEL_2ae7b18d884548d5a91a1492cec1fe1c",
        "IPY_MODEL_0b77c6153e2d48a5a45a5e840470183d"
       ],
       "layout": "IPY_MODEL_e43d5068f3864049969edfbf4f93e32c"
      }
     },
     "db9664f8c9d64055bb5df6b8dd6ffce5": {
      "model_module": "@jupyter-widgets/controls",
      "model_module_version": "1.5.0",
      "model_name": "HBoxModel",
      "state": {
       "children": [
        "IPY_MODEL_ce17d06a518e4bffab89f10beef6dfba",
        "IPY_MODEL_ca3ba5f359954e46ba9ea6cb452e8532"
       ],
       "layout": "IPY_MODEL_8e8507cb65164ad0b31e8ccac894e39f"
      }
     },
     "dc6f72eab37640db8a0b67f055cc94d7": {
      "model_module": "@jupyter-widgets/controls",
      "model_module_version": "1.5.0",
      "model_name": "HBoxModel",
      "state": {
       "children": [
        "IPY_MODEL_82ae5ce116d94353a1c60234c850cf8f",
        "IPY_MODEL_40946561b06348bb9218495220797e6c"
       ],
       "layout": "IPY_MODEL_a387c8250ec043af94aad37e5397d70a"
      }
     },
     "dd20543f20904147968efd5e348faa42": {
      "model_module": "@jupyter-widgets/controls",
      "model_module_version": "1.5.0",
      "model_name": "FloatProgressModel",
      "state": {
       "bar_style": "success",
       "description": "Epoch 13: 100%",
       "layout": "IPY_MODEL_d5ac073818b1463ea149a21a6988e68f",
       "max": 960,
       "style": "IPY_MODEL_22e2a94943f64e6b85b297343502435e",
       "value": 960
      }
     },
     "dd3216a06b2b4b0e9386e93da86a5b97": {
      "model_module": "@jupyter-widgets/controls",
      "model_module_version": "1.5.0",
      "model_name": "FloatProgressModel",
      "state": {
       "bar_style": "success",
       "description": "Epoch 48: 100%",
       "layout": "IPY_MODEL_24e45c51c4994ab4924a3c660e04cfbc",
       "max": 960,
       "style": "IPY_MODEL_09b241325310474eab5025b3c8fbaf78",
       "value": 960
      }
     },
     "dd6b80bdc1e1471e93eecda2398f08ef": {
      "model_module": "@jupyter-widgets/controls",
      "model_module_version": "1.5.0",
      "model_name": "FloatProgressModel",
      "state": {
       "bar_style": "success",
       "description": "Epoch 18: 100%",
       "layout": "IPY_MODEL_172ffd55857a428a90fe7eecb4ae9ca0",
       "max": 960,
       "style": "IPY_MODEL_f667fe5d36c1447ab40457181193684d",
       "value": 960
      }
     },
     "dd7339ca3b82401cb8f008aa844c582d": {
      "model_module": "@jupyter-widgets/base",
      "model_module_version": "1.2.0",
      "model_name": "LayoutModel",
      "state": {}
     },
     "de407312476146fbad12f2adcfec3021": {
      "model_module": "@jupyter-widgets/base",
      "model_module_version": "1.2.0",
      "model_name": "LayoutModel",
      "state": {}
     },
     "dedc1ad89d0c457b9a7ce95bb28adf2b": {
      "model_module": "@jupyter-widgets/controls",
      "model_module_version": "1.5.0",
      "model_name": "HBoxModel",
      "state": {
       "children": [
        "IPY_MODEL_e19623a865a74e9fa426f9ce72eb5111",
        "IPY_MODEL_fdbbb110077948d784093f65d762b685"
       ],
       "layout": "IPY_MODEL_3590db76a97c44039033745653442043"
      }
     },
     "df7c57e1ad3548dea2764d0ea437dcf8": {
      "model_module": "@jupyter-widgets/base",
      "model_module_version": "1.2.0",
      "model_name": "LayoutModel",
      "state": {}
     },
     "df8550babab847518f61ec8cb48ccd4d": {
      "model_module": "@jupyter-widgets/base",
      "model_module_version": "1.2.0",
      "model_name": "LayoutModel",
      "state": {}
     },
     "e19623a865a74e9fa426f9ce72eb5111": {
      "model_module": "@jupyter-widgets/controls",
      "model_module_version": "1.5.0",
      "model_name": "FloatProgressModel",
      "state": {
       "bar_style": "success",
       "description": "Epoch 30: 100%",
       "layout": "IPY_MODEL_fbdd51daf90644e7b9357b5b9f9498e8",
       "max": 960,
       "style": "IPY_MODEL_913b583199e94bf7bc82df31116492a4",
       "value": 960
      }
     },
     "e1e72387e7f54e5eb5eee9ab3739d606": {
      "model_module": "@jupyter-widgets/base",
      "model_module_version": "1.2.0",
      "model_name": "LayoutModel",
      "state": {}
     },
     "e229127e1aac414e8ded877b02521983": {
      "model_module": "@jupyter-widgets/base",
      "model_module_version": "1.2.0",
      "model_name": "LayoutModel",
      "state": {}
     },
     "e294aca14ae04492a4bddd9008db55d0": {
      "model_module": "@jupyter-widgets/controls",
      "model_module_version": "1.5.0",
      "model_name": "HTMLModel",
      "state": {
       "layout": "IPY_MODEL_f40459849b574bb697558d517f893368",
       "style": "IPY_MODEL_a97334bf77a64f66a1e0f59bc328cb7f",
       "value": " 960/960 [00:44&lt;00:00, 21.36 batchs/s, lr=0.915, train_acc=98.133, train_loss=0.081, val_acc=90.679, val_loss=0.285]"
      }
     },
     "e41349e1936947dd92fc73e981b09560": {
      "model_module": "@jupyter-widgets/controls",
      "model_module_version": "1.5.0",
      "model_name": "DescriptionStyleModel",
      "state": {
       "description_width": ""
      }
     },
     "e43d5068f3864049969edfbf4f93e32c": {
      "model_module": "@jupyter-widgets/base",
      "model_module_version": "1.2.0",
      "model_name": "LayoutModel",
      "state": {}
     },
     "e4fd98cdc26249c191d8bbfdf54458dc": {
      "model_module": "@jupyter-widgets/base",
      "model_module_version": "1.2.0",
      "model_name": "LayoutModel",
      "state": {}
     },
     "e66cdc97ce8144a490626b15bf74455e": {
      "model_module": "@jupyter-widgets/controls",
      "model_module_version": "1.5.0",
      "model_name": "FloatProgressModel",
      "state": {
       "bar_style": "success",
       "description": "Epoch 11: 100%",
       "layout": "IPY_MODEL_4660c4e8c7154b3299645ef44e473f75",
       "max": 960,
       "style": "IPY_MODEL_882c4c7e994c48a08111b678853d3f3f",
       "value": 960
      }
     },
     "e6a63d5230b840f5a75621e99ee4952f": {
      "model_module": "@jupyter-widgets/base",
      "model_module_version": "1.2.0",
      "model_name": "LayoutModel",
      "state": {}
     },
     "e6cebb688114493ba7458bf22c40a13b": {
      "model_module": "@jupyter-widgets/controls",
      "model_module_version": "1.5.0",
      "model_name": "HBoxModel",
      "state": {
       "children": [
        "IPY_MODEL_ca1ebeb488944019aaa0dff48a8579c8",
        "IPY_MODEL_91a13d8372c149a7873b3d1fbe1324a7"
       ],
       "layout": "IPY_MODEL_c4b4f045af8840dc889ae7b0e2f7d635"
      }
     },
     "e6fe9eff2f6f46e98cd169ab8dafc000": {
      "model_module": "@jupyter-widgets/base",
      "model_module_version": "1.2.0",
      "model_name": "LayoutModel",
      "state": {}
     },
     "e76f396dc25f4aab96ae63a7cd165ce4": {
      "model_module": "@jupyter-widgets/controls",
      "model_module_version": "1.5.0",
      "model_name": "HTMLModel",
      "state": {
       "layout": "IPY_MODEL_39e03777ee67460caf02984be0b6d2ae",
       "style": "IPY_MODEL_cbc07f4f93ac4bad88f9c5c7ee197148",
       "value": " 960/960 [00:08&lt;00:00, 110.96 batchs/s, lr=0.043, train_acc=99.247, train_loss=0.049, val_acc=90.750, val_loss=0.294]"
      }
     },
     "e79d9a2f86254878b743c237f7ce92e7": {
      "model_module": "@jupyter-widgets/controls",
      "model_module_version": "1.5.0",
      "model_name": "DescriptionStyleModel",
      "state": {
       "description_width": ""
      }
     },
     "e8349b896a3f4f39af3a348b9d6b0e0b": {
      "model_module": "@jupyter-widgets/controls",
      "model_module_version": "1.5.0",
      "model_name": "HTMLModel",
      "state": {
       "layout": "IPY_MODEL_cf8c4dea43d94df1b2401d51c69522ac",
       "style": "IPY_MODEL_735c76bd007541fa9ddc9deea0b551ec",
       "value": " 960/960 [00:37&lt;00:00, 25.67 batchs/s, lr=0.486, train_acc=98.759, train_loss=0.063, val_acc=90.746, val_loss=0.289]"
      }
     },
     "e8ef2f4643844145bd095b795745ff37": {
      "model_module": "@jupyter-widgets/base",
      "model_module_version": "1.2.0",
      "model_name": "LayoutModel",
      "state": {}
     },
     "e959f49007c64e3fa337a86861809c0e": {
      "model_module": "@jupyter-widgets/controls",
      "model_module_version": "1.5.0",
      "model_name": "FloatProgressModel",
      "state": {
       "bar_style": "success",
       "description": "Epoch 8: 100%",
       "layout": "IPY_MODEL_49e37f859148478abb25b704366ce08a",
       "max": 960,
       "style": "IPY_MODEL_675fa786babd4151bcfb067c9151f5d7",
       "value": 960
      }
     },
     "ea53b048b19148ab9227dc16f4cd127d": {
      "model_module": "@jupyter-widgets/controls",
      "model_module_version": "1.5.0",
      "model_name": "DescriptionStyleModel",
      "state": {
       "description_width": ""
      }
     },
     "eb64dcac161c472db80e0e4206c45e37": {
      "model_module": "@jupyter-widgets/controls",
      "model_module_version": "1.5.0",
      "model_name": "DescriptionStyleModel",
      "state": {
       "description_width": ""
      }
     },
     "ec9a043aefcc46dca50ef49dfe6b063d": {
      "model_module": "@jupyter-widgets/controls",
      "model_module_version": "1.5.0",
      "model_name": "HBoxModel",
      "state": {
       "children": [
        "IPY_MODEL_ac65ce9073f7460dba30b8b5a5180baf",
        "IPY_MODEL_c57f0f1606814f0ca2573d160d702a4d"
       ],
       "layout": "IPY_MODEL_64ece2f7f3e94905a6c6f1773e32d539"
      }
     },
     "ecbfeac5263745449a1f99a9bc7f8cb5": {
      "model_module": "@jupyter-widgets/base",
      "model_module_version": "1.2.0",
      "model_name": "LayoutModel",
      "state": {}
     },
     "ecf2cc2d458e46cba5db1bae783c9384": {
      "model_module": "@jupyter-widgets/controls",
      "model_module_version": "1.5.0",
      "model_name": "ProgressStyleModel",
      "state": {
       "description_width": "initial"
      }
     },
     "edc82b7b539341629cd25374a9688428": {
      "model_module": "@jupyter-widgets/controls",
      "model_module_version": "1.5.0",
      "model_name": "HBoxModel",
      "state": {
       "children": [
        "IPY_MODEL_4787dc80079349a0b793c1d23474e3e3",
        "IPY_MODEL_4674a46509dc4afd939eef872309cbe2"
       ],
       "layout": "IPY_MODEL_c026c7c8f6284580aa078d71adffed8b"
      }
     },
     "ee46034fe77546a49cc7db3b3bc9a50c": {
      "model_module": "@jupyter-widgets/controls",
      "model_module_version": "1.5.0",
      "model_name": "ProgressStyleModel",
      "state": {
       "description_width": "initial"
      }
     },
     "ef8d42b527ca4cd0a2cc11c8f29eb27a": {
      "model_module": "@jupyter-widgets/controls",
      "model_module_version": "1.5.0",
      "model_name": "ProgressStyleModel",
      "state": {
       "description_width": "initial"
      }
     },
     "efa12ed4ff284248a27b3d1bebcfb543": {
      "model_module": "@jupyter-widgets/base",
      "model_module_version": "1.2.0",
      "model_name": "LayoutModel",
      "state": {}
     },
     "f0071ce95108457bae8050b86030f56b": {
      "model_module": "@jupyter-widgets/controls",
      "model_module_version": "1.5.0",
      "model_name": "HTMLModel",
      "state": {
       "layout": "IPY_MODEL_d9c24f87f3d04846b9de3938d4e7a7c1",
       "style": "IPY_MODEL_611cdf5f44114303abc83d05a81dc754",
       "value": " 960/960 [00:27&lt;00:00, 35.23 batchs/s, lr=0.209, train_acc=99.089, train_loss=0.054, val_acc=90.746, val_loss=0.292]"
      }
     },
     "f0fd140896f4452a813cf17732787525": {
      "model_module": "@jupyter-widgets/base",
      "model_module_version": "1.2.0",
      "model_name": "LayoutModel",
      "state": {}
     },
     "f28beae7f6a84d40a68b36e1128f6752": {
      "model_module": "@jupyter-widgets/controls",
      "model_module_version": "1.5.0",
      "model_name": "DescriptionStyleModel",
      "state": {
       "description_width": ""
      }
     },
     "f40459849b574bb697558d517f893368": {
      "model_module": "@jupyter-widgets/base",
      "model_module_version": "1.2.0",
      "model_name": "LayoutModel",
      "state": {}
     },
     "f487c07c2cc1443e919336da895d94dd": {
      "model_module": "@jupyter-widgets/controls",
      "model_module_version": "1.5.0",
      "model_name": "HTMLModel",
      "state": {
       "layout": "IPY_MODEL_e6fe9eff2f6f46e98cd169ab8dafc000",
       "style": "IPY_MODEL_aeb32e64d4ff4e78bc673e34510bc7c5",
       "value": " 960/960 [00:21&lt;00:00, 45.40 batchs/s, lr=0.124, train_acc=99.165, train_loss=0.051, val_acc=90.767, val_loss=0.293]"
      }
     },
     "f553422e958147ac8fc7cd6b9af64c41": {
      "model_module": "@jupyter-widgets/controls",
      "model_module_version": "1.5.0",
      "model_name": "FloatProgressModel",
      "state": {
       "bar_style": "success",
       "description": "Epoch 4: 100%",
       "layout": "IPY_MODEL_5cb9a59581884c14bb3049d6b27c0296",
       "max": 960,
       "style": "IPY_MODEL_b6896a552d3144ceb684e6ee13881ea7",
       "value": 960
      }
     },
     "f55b47e5a4b04952bc60fbfa649231de": {
      "model_module": "@jupyter-widgets/base",
      "model_module_version": "1.2.0",
      "model_name": "LayoutModel",
      "state": {}
     },
     "f5a454007c904370800587cd087aa7c0": {
      "model_module": "@jupyter-widgets/base",
      "model_module_version": "1.2.0",
      "model_name": "LayoutModel",
      "state": {}
     },
     "f667fe5d36c1447ab40457181193684d": {
      "model_module": "@jupyter-widgets/controls",
      "model_module_version": "1.5.0",
      "model_name": "ProgressStyleModel",
      "state": {
       "description_width": "initial"
      }
     },
     "f7958323071e4515a9eda2e3a434d6bc": {
      "model_module": "@jupyter-widgets/base",
      "model_module_version": "1.2.0",
      "model_name": "LayoutModel",
      "state": {}
     },
     "f889701bb5ad4c15aada13e71fa4763a": {
      "model_module": "@jupyter-widgets/controls",
      "model_module_version": "1.5.0",
      "model_name": "FloatProgressModel",
      "state": {
       "bar_style": "success",
       "description": "Epoch 24: 100%",
       "layout": "IPY_MODEL_ad1859ae03b243318e73c588a7aecb03",
       "max": 960,
       "style": "IPY_MODEL_8e5c2e51e22e46bfb55ccfa7ead7b0fe",
       "value": 960
      }
     },
     "f8f4592f0d9c43e49498bc7e4745c781": {
      "model_module": "@jupyter-widgets/controls",
      "model_module_version": "1.5.0",
      "model_name": "ProgressStyleModel",
      "state": {
       "description_width": "initial"
      }
     },
     "fb06ca54b77d4e07999ece3ab8aa1a30": {
      "model_module": "@jupyter-widgets/base",
      "model_module_version": "1.2.0",
      "model_name": "LayoutModel",
      "state": {}
     },
     "fb6642f5d07c4d138d5570bcb88adac3": {
      "model_module": "@jupyter-widgets/controls",
      "model_module_version": "1.5.0",
      "model_name": "FloatProgressModel",
      "state": {
       "bar_style": "success",
       "description": "Epoch 7: 100%",
       "layout": "IPY_MODEL_a55f3c1fc4234a309886877adbd2efa7",
       "max": 960,
       "style": "IPY_MODEL_2f48491f90eb4ec4a76da73580a20091",
       "value": 960
      }
     },
     "fbdd51daf90644e7b9357b5b9f9498e8": {
      "model_module": "@jupyter-widgets/base",
      "model_module_version": "1.2.0",
      "model_name": "LayoutModel",
      "state": {}
     },
     "fc52c5d1e7e14a378707608ea71a822f": {
      "model_module": "@jupyter-widgets/controls",
      "model_module_version": "1.5.0",
      "model_name": "HTMLModel",
      "state": {
       "layout": "IPY_MODEL_b36ae5ec5b764ac3bf8a5d97f3105c70",
       "style": "IPY_MODEL_1fd3012e5440458783ed2d5082c0713a",
       "value": " 960/960 [00:49&lt;00:00, 19.26 batchs/s, lr=1.395, train_acc=97.214, train_loss=0.107, val_acc=90.642, val_loss=0.282]"
      }
     },
     "fc58d72e7c35424c863c6e3ba37e8185": {
      "model_module": "@jupyter-widgets/controls",
      "model_module_version": "1.5.0",
      "model_name": "HBoxModel",
      "state": {
       "children": [
        "IPY_MODEL_b3cf1416de1345958fe7b767da27f45e",
        "IPY_MODEL_5d80bec5e3964cdca0878708b9c82a35"
       ],
       "layout": "IPY_MODEL_a34046742a734d5fa17229475fdda9c8"
      }
     },
     "fcaa447d84b840fcb9e8d610020f5c9f": {
      "model_module": "@jupyter-widgets/controls",
      "model_module_version": "1.5.0",
      "model_name": "DescriptionStyleModel",
      "state": {
       "description_width": ""
      }
     },
     "fd17755ba9a14bb78ad6aa2b7704b356": {
      "model_module": "@jupyter-widgets/base",
      "model_module_version": "1.2.0",
      "model_name": "LayoutModel",
      "state": {}
     },
     "fdbbb110077948d784093f65d762b685": {
      "model_module": "@jupyter-widgets/controls",
      "model_module_version": "1.5.0",
      "model_name": "HTMLModel",
      "state": {
       "layout": "IPY_MODEL_85109e5123544d4fb9331862291c1a76",
       "style": "IPY_MODEL_ea53b048b19148ab9227dc16f4cd127d",
       "value": " 960/960 [00:26&lt;00:00, 36.85 batchs/s, lr=0.188, train_acc=99.110, train_loss=0.053, val_acc=90.750, val_loss=0.292]"
      }
     },
     "ff1d85c5129643c18d2552af9873cd3f": {
      "model_module": "@jupyter-widgets/base",
      "model_module_version": "1.2.0",
      "model_name": "LayoutModel",
      "state": {}
     },
     "ffb136a17472435fa13de2b8e3df6bf6": {
      "model_module": "@jupyter-widgets/base",
      "model_module_version": "1.2.0",
      "model_name": "LayoutModel",
      "state": {}
     },
     "ffc2fee433674497916628ac89f39bd3": {
      "model_module": "@jupyter-widgets/controls",
      "model_module_version": "1.5.0",
      "model_name": "FloatProgressModel",
      "state": {
       "bar_style": "success",
       "description": "Epoch 20: 100%",
       "layout": "IPY_MODEL_c4f80331a8e54d06a81d6b311ae16c74",
       "max": 960,
       "style": "IPY_MODEL_0575ceafed544f059e62d7c25eb8ea04",
       "value": 960
      }
     },
     "ffd3fa256d544a6bb263a34ab222a011": {
      "model_module": "@jupyter-widgets/controls",
      "model_module_version": "1.5.0",
      "model_name": "DescriptionStyleModel",
      "state": {
       "description_width": ""
      }
     }
    },
    "version_major": 2,
    "version_minor": 0
   }
  }
 },
 "nbformat": 4,
 "nbformat_minor": 4
}
