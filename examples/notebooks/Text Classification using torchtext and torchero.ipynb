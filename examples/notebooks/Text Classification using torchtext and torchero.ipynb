{
 "cells": [
  {
   "cell_type": "markdown",
   "metadata": {},
   "source": [
    "<h1><center>Text classification using torchtext and torchero</center></h1>\n",
    "\n",
    "This notebook was inspired from this [post](https://pytorch.org/tutorials/beginner/text_sentiment_ngrams_tutorial.html)\n",
    "\n",
    "## Imports"
   ]
  },
  {
   "cell_type": "code",
   "execution_count": 1,
   "metadata": {},
   "outputs": [],
   "source": [
    "import os\n",
    "\n",
    "import torch\n",
    "import torch.nn as nn\n",
    "import torch.nn.functional as F\n",
    "from torch.optim import SGD\n",
    "from torch.utils.data import DataLoader\n",
    "import matplotlib.pyplot as plt\n",
    "\n",
    "import torchtext\n",
    "from torchtext.datasets import text_classification\n",
    "\n",
    "from torchero import SupervisedTrainer\n",
    "from torchero.callbacks import ProgbarLogger\n",
    "from torchero.callbacks.schedulers import *\n",
    "from torchero.hparams import OptimP\n",
    "from torchero.utils.data import train_test_split"
   ]
  },
  {
   "cell_type": "markdown",
   "metadata": {},
   "source": [
    "### Load training dataset dataset ###"
   ]
  },
  {
   "cell_type": "markdown",
   "metadata": {},
   "source": [
    "First, we download the AG_NEWS train and test datasets"
   ]
  },
  {
   "cell_type": "code",
   "execution_count": 2,
   "metadata": {},
   "outputs": [
    {
     "name": "stderr",
     "output_type": "stream",
     "text": [
      "120000lines [00:04, 25315.81lines/s]\n",
      "120000lines [00:07, 15031.74lines/s]\n",
      "7600lines [00:00, 15177.62lines/s]\n"
     ]
    }
   ],
   "source": [
    "NGRAMS = 2\n",
    "\n",
    "if not os.path.isdir('./.data'):\n",
    "    os.mkdir('./.data')\n",
    "train_dataset, test_dataset = text_classification.DATASETS['AG_NEWS'](root='./.data',\n",
    "                                                                      ngrams=NGRAMS,\n",
    "                                                                      vocab=None)"
   ]
  },
  {
   "cell_type": "markdown",
   "metadata": {},
   "source": [
    "We split the training dataset into training and validation"
   ]
  },
  {
   "cell_type": "code",
   "execution_count": 3,
   "metadata": {},
   "outputs": [],
   "source": [
    "train_dataset, val_dataset = train_test_split(train_dataset, valid_size=0.2)"
   ]
  },
  {
   "cell_type": "markdown",
   "metadata": {},
   "source": [
    "Then we need to create the dataloaders for train, valid, and test dataset. For the use "
   ]
  },
  {
   "cell_type": "code",
   "execution_count": 4,
   "metadata": {},
   "outputs": [],
   "source": [
    "def generate_batch(batch):\n",
    "    label = torch.tensor([entry[0] for entry in batch])\n",
    "    text = [entry[1] for entry in batch]\n",
    "    offsets = [0] + [len(entry) for entry in text]\n",
    "    # torch.Tensor.cumsum returns the cumulative sum\n",
    "    # of elements in the dimension dim.\n",
    "    # torch.Tensor([1.0, 2.0, 3.0]).cumsum(dim=0)\n",
    "\n",
    "    offsets = torch.tensor(offsets[:-1]).cumsum(dim=0)\n",
    "    text = torch.cat(text)\n",
    "    return (text, offsets), label\n",
    "\n",
    "train_dl = DataLoader(train_dataset, 100, collate_fn=generate_batch)\n",
    "val_dl = DataLoader(val_dataset, 100, collate_fn=generate_batch)\n",
    "test_dl = DataLoader(test_dataset, collate_fn=generate_batch)"
   ]
  },
  {
   "cell_type": "markdown",
   "metadata": {},
   "source": [
    "## Model Definition\n",
    "\n",
    "The model is an EmbeddingBag folled by a Linear unit (very simmilar to a word2vec architecture)."
   ]
  },
  {
   "cell_type": "code",
   "execution_count": 5,
   "metadata": {},
   "outputs": [],
   "source": [
    "class TextSentiment(nn.Module):\n",
    "    def __init__(self, vocab_size, embed_dim, num_class):\n",
    "        super().__init__()\n",
    "        self.embedding = nn.EmbeddingBag(vocab_size, embed_dim, sparse=True)\n",
    "        self.fc = nn.Linear(embed_dim, num_class)\n",
    "        self.init_weights()\n",
    "\n",
    "    def init_weights(self):\n",
    "        initrange = 0.5\n",
    "        self.embedding.weight.data.uniform_(-initrange, initrange)\n",
    "        self.fc.weight.data.uniform_(-initrange, initrange)\n",
    "        self.fc.bias.data.zero_()\n",
    "\n",
    "    def forward(self, text, offsets):\n",
    "        embedded = self.embedding(text, offsets)\n",
    "        return self.fc(embedded)"
   ]
  },
  {
   "cell_type": "markdown",
   "metadata": {},
   "source": [
    "The number of classes can be extracted from the ``get_labels`` dataset method (4 in this case, \"World\", \"Sports\", \"Business\", \"Sci/Tec\")\n",
    "and the vocab is extracted using the ``get_vocab`` method."
   ]
  },
  {
   "cell_type": "code",
   "execution_count": 6,
   "metadata": {},
   "outputs": [],
   "source": [
    "VOCAB_SIZE = len(train_dataset.get_vocab())\n",
    "EMBED_DIM = 64\n",
    "NUN_CLASS = len(train_dataset.get_labels())\n",
    "model = TextSentiment(VOCAB_SIZE, EMBED_DIM, NUN_CLASS)"
   ]
  },
  {
   "cell_type": "markdown",
   "metadata": {},
   "source": [
    "### Training\n",
    "\n",
    "For the Trainer since it's a classification tasks we need ``'cross_entropy`` loss, and ``categorical_accuracy_percentage`` for the metric. The optimizer chosen is a SDG with a quite high learning rate. By using the ``StepLR`` callback we can decrease the lerarning rate 10% each epoch and only for the first ten epochs,\n",
    "and then decreased it more rapidly by a factor of 50% them until epoch number 30 with a second ``StepLR`` callback."
   ]
  },
  {
   "cell_type": "code",
   "execution_count": 7,
   "metadata": {},
   "outputs": [],
   "source": [
    "trainer = SupervisedTrainer(model,\n",
    "                            'cross_entropy',\n",
    "                            optimizer=SGD(model.parameters(), lr=6.0),\n",
    "                            callbacks=[ProgbarLogger(notebook=True),\n",
    "                                       StepLR(1, gamma=0.9, end=10),\n",
    "                                       StepLR(1, gamma=0.5, start=10, end=20)\n",
    "                            ],\n",
    "                            acc_meters=['categorical_accuracy_percentage'],\n",
    "                            hparams={'lr': OptimP('lr')},\n",
    "                            logging_frecuency=10)\n",
    "trainer.to('cuda' if torch.cuda.is_available() else 'cpu')"
   ]
  },
  {
   "cell_type": "markdown",
   "metadata": {},
   "source": [
    "Running the model..."
   ]
  },
  {
   "cell_type": "code",
   "execution_count": 8,
   "metadata": {},
   "outputs": [
    {
     "data": {
      "application/vnd.jupyter.widget-view+json": {
       "model_id": "5d0bae185b6344b18c68c4c19872147a",
       "version_major": 2,
       "version_minor": 0
      },
      "text/plain": [
       "HBox(children=(FloatProgress(value=0.0, max=30.0), HTML(value='')))"
      ]
     },
     "metadata": {},
     "output_type": "display_data"
    },
    {
     "data": {
      "application/vnd.jupyter.widget-view+json": {
       "model_id": "4f30640e438f4958ab92acba65fe3951",
       "version_major": 2,
       "version_minor": 0
      },
      "text/plain": [
       "HBox(children=(FloatProgress(value=0.0, max=960.0), HTML(value='')))"
      ]
     },
     "metadata": {},
     "output_type": "display_data"
    },
    {
     "data": {
      "application/vnd.jupyter.widget-view+json": {
       "model_id": "c8d4ed1c517e40cdbb221b5a80e7a58d",
       "version_major": 2,
       "version_minor": 0
      },
      "text/plain": [
       "HBox(children=(FloatProgress(value=0.0, max=960.0), HTML(value='')))"
      ]
     },
     "metadata": {},
     "output_type": "display_data"
    },
    {
     "data": {
      "application/vnd.jupyter.widget-view+json": {
       "model_id": "e53d84b4163b433dae96d1b534968c36",
       "version_major": 2,
       "version_minor": 0
      },
      "text/plain": [
       "HBox(children=(FloatProgress(value=0.0, max=960.0), HTML(value='')))"
      ]
     },
     "metadata": {},
     "output_type": "display_data"
    },
    {
     "data": {
      "application/vnd.jupyter.widget-view+json": {
       "model_id": "5bb20c8a7d29401c876515f026a251b9",
       "version_major": 2,
       "version_minor": 0
      },
      "text/plain": [
       "HBox(children=(FloatProgress(value=0.0, max=960.0), HTML(value='')))"
      ]
     },
     "metadata": {},
     "output_type": "display_data"
    },
    {
     "data": {
      "application/vnd.jupyter.widget-view+json": {
       "model_id": "14aec84ed56c48aeaa3fec26d872f427",
       "version_major": 2,
       "version_minor": 0
      },
      "text/plain": [
       "HBox(children=(FloatProgress(value=0.0, max=960.0), HTML(value='')))"
      ]
     },
     "metadata": {},
     "output_type": "display_data"
    },
    {
     "data": {
      "application/vnd.jupyter.widget-view+json": {
       "model_id": "c04b4f228ec64a6a997f014f83b4e080",
       "version_major": 2,
       "version_minor": 0
      },
      "text/plain": [
       "HBox(children=(FloatProgress(value=0.0, max=960.0), HTML(value='')))"
      ]
     },
     "metadata": {},
     "output_type": "display_data"
    },
    {
     "data": {
      "application/vnd.jupyter.widget-view+json": {
       "model_id": "989fc41f40eb419fbd8eadeb0a0f01ba",
       "version_major": 2,
       "version_minor": 0
      },
      "text/plain": [
       "HBox(children=(FloatProgress(value=0.0, max=960.0), HTML(value='')))"
      ]
     },
     "metadata": {},
     "output_type": "display_data"
    },
    {
     "data": {
      "application/vnd.jupyter.widget-view+json": {
       "model_id": "0698f19b681c4238b188418ea88b5068",
       "version_major": 2,
       "version_minor": 0
      },
      "text/plain": [
       "HBox(children=(FloatProgress(value=0.0, max=960.0), HTML(value='')))"
      ]
     },
     "metadata": {},
     "output_type": "display_data"
    },
    {
     "data": {
      "application/vnd.jupyter.widget-view+json": {
       "model_id": "b0811498ebe84a69aea4c6c26965e242",
       "version_major": 2,
       "version_minor": 0
      },
      "text/plain": [
       "HBox(children=(FloatProgress(value=0.0, max=960.0), HTML(value='')))"
      ]
     },
     "metadata": {},
     "output_type": "display_data"
    },
    {
     "data": {
      "application/vnd.jupyter.widget-view+json": {
       "model_id": "a57365344d08415bb10fdd41d445a8b9",
       "version_major": 2,
       "version_minor": 0
      },
      "text/plain": [
       "HBox(children=(FloatProgress(value=0.0, max=960.0), HTML(value='')))"
      ]
     },
     "metadata": {},
     "output_type": "display_data"
    },
    {
     "data": {
      "application/vnd.jupyter.widget-view+json": {
       "model_id": "3dbd6b3a129248b6abab0bf4f9b96918",
       "version_major": 2,
       "version_minor": 0
      },
      "text/plain": [
       "HBox(children=(FloatProgress(value=0.0, max=960.0), HTML(value='')))"
      ]
     },
     "metadata": {},
     "output_type": "display_data"
    },
    {
     "data": {
      "application/vnd.jupyter.widget-view+json": {
       "model_id": "f40e84efe5a241439d6d3904f95192e3",
       "version_major": 2,
       "version_minor": 0
      },
      "text/plain": [
       "HBox(children=(FloatProgress(value=0.0, max=960.0), HTML(value='')))"
      ]
     },
     "metadata": {},
     "output_type": "display_data"
    },
    {
     "data": {
      "application/vnd.jupyter.widget-view+json": {
       "model_id": "4a10ddfb755e43a5a62d1db29ba3e6de",
       "version_major": 2,
       "version_minor": 0
      },
      "text/plain": [
       "HBox(children=(FloatProgress(value=0.0, max=960.0), HTML(value='')))"
      ]
     },
     "metadata": {},
     "output_type": "display_data"
    },
    {
     "data": {
      "application/vnd.jupyter.widget-view+json": {
       "model_id": "050c3da863604eafa31be0dbffe2e65d",
       "version_major": 2,
       "version_minor": 0
      },
      "text/plain": [
       "HBox(children=(FloatProgress(value=0.0, max=960.0), HTML(value='')))"
      ]
     },
     "metadata": {},
     "output_type": "display_data"
    },
    {
     "data": {
      "application/vnd.jupyter.widget-view+json": {
       "model_id": "b74de0e431774d5889d7faf2923ed131",
       "version_major": 2,
       "version_minor": 0
      },
      "text/plain": [
       "HBox(children=(FloatProgress(value=0.0, max=960.0), HTML(value='')))"
      ]
     },
     "metadata": {},
     "output_type": "display_data"
    },
    {
     "data": {
      "application/vnd.jupyter.widget-view+json": {
       "model_id": "f52569e23b9b4bb3adff9f4ab53ffa50",
       "version_major": 2,
       "version_minor": 0
      },
      "text/plain": [
       "HBox(children=(FloatProgress(value=0.0, max=960.0), HTML(value='')))"
      ]
     },
     "metadata": {},
     "output_type": "display_data"
    },
    {
     "data": {
      "application/vnd.jupyter.widget-view+json": {
       "model_id": "7ae1740483254484bb36557aa485b2ce",
       "version_major": 2,
       "version_minor": 0
      },
      "text/plain": [
       "HBox(children=(FloatProgress(value=0.0, max=960.0), HTML(value='')))"
      ]
     },
     "metadata": {},
     "output_type": "display_data"
    },
    {
     "data": {
      "application/vnd.jupyter.widget-view+json": {
       "model_id": "290fba3429c94beead5f79a2279cea62",
       "version_major": 2,
       "version_minor": 0
      },
      "text/plain": [
       "HBox(children=(FloatProgress(value=0.0, max=960.0), HTML(value='')))"
      ]
     },
     "metadata": {},
     "output_type": "display_data"
    },
    {
     "data": {
      "application/vnd.jupyter.widget-view+json": {
       "model_id": "07355ddae8ba4ec98bd2f4d1ec846b8e",
       "version_major": 2,
       "version_minor": 0
      },
      "text/plain": [
       "HBox(children=(FloatProgress(value=0.0, max=960.0), HTML(value='')))"
      ]
     },
     "metadata": {},
     "output_type": "display_data"
    },
    {
     "data": {
      "application/vnd.jupyter.widget-view+json": {
       "model_id": "2fec52e425e84a05a77a1aebee17dd96",
       "version_major": 2,
       "version_minor": 0
      },
      "text/plain": [
       "HBox(children=(FloatProgress(value=0.0, max=960.0), HTML(value='')))"
      ]
     },
     "metadata": {},
     "output_type": "display_data"
    },
    {
     "data": {
      "application/vnd.jupyter.widget-view+json": {
       "model_id": "566e143579d847bf8b0fab3c1f4d111c",
       "version_major": 2,
       "version_minor": 0
      },
      "text/plain": [
       "HBox(children=(FloatProgress(value=0.0, max=960.0), HTML(value='')))"
      ]
     },
     "metadata": {},
     "output_type": "display_data"
    },
    {
     "data": {
      "application/vnd.jupyter.widget-view+json": {
       "model_id": "4beade7a4b4148729a1ca9513158ac28",
       "version_major": 2,
       "version_minor": 0
      },
      "text/plain": [
       "HBox(children=(FloatProgress(value=0.0, max=960.0), HTML(value='')))"
      ]
     },
     "metadata": {},
     "output_type": "display_data"
    },
    {
     "data": {
      "application/vnd.jupyter.widget-view+json": {
       "model_id": "c2dfc709f93842e79e95d0777afa88ac",
       "version_major": 2,
       "version_minor": 0
      },
      "text/plain": [
       "HBox(children=(FloatProgress(value=0.0, max=960.0), HTML(value='')))"
      ]
     },
     "metadata": {},
     "output_type": "display_data"
    },
    {
     "data": {
      "application/vnd.jupyter.widget-view+json": {
       "model_id": "5e92fe8960c7411b87479a37da368b10",
       "version_major": 2,
       "version_minor": 0
      },
      "text/plain": [
       "HBox(children=(FloatProgress(value=0.0, max=960.0), HTML(value='')))"
      ]
     },
     "metadata": {},
     "output_type": "display_data"
    },
    {
     "data": {
      "application/vnd.jupyter.widget-view+json": {
       "model_id": "38c72e3101e1406dbc4e03ff3e323190",
       "version_major": 2,
       "version_minor": 0
      },
      "text/plain": [
       "HBox(children=(FloatProgress(value=0.0, max=960.0), HTML(value='')))"
      ]
     },
     "metadata": {},
     "output_type": "display_data"
    },
    {
     "data": {
      "application/vnd.jupyter.widget-view+json": {
       "model_id": "bc9f19ad9e484ddf9ee51d916528db3d",
       "version_major": 2,
       "version_minor": 0
      },
      "text/plain": [
       "HBox(children=(FloatProgress(value=0.0, max=960.0), HTML(value='')))"
      ]
     },
     "metadata": {},
     "output_type": "display_data"
    },
    {
     "data": {
      "application/vnd.jupyter.widget-view+json": {
       "model_id": "d516112dba35476ebdf35a72c5046e62",
       "version_major": 2,
       "version_minor": 0
      },
      "text/plain": [
       "HBox(children=(FloatProgress(value=0.0, max=960.0), HTML(value='')))"
      ]
     },
     "metadata": {},
     "output_type": "display_data"
    },
    {
     "data": {
      "application/vnd.jupyter.widget-view+json": {
       "model_id": "9607f871446248f9a7f087ef556fde6f",
       "version_major": 2,
       "version_minor": 0
      },
      "text/plain": [
       "HBox(children=(FloatProgress(value=0.0, max=960.0), HTML(value='')))"
      ]
     },
     "metadata": {},
     "output_type": "display_data"
    },
    {
     "data": {
      "application/vnd.jupyter.widget-view+json": {
       "model_id": "c87d2123805149a199774259c267b20a",
       "version_major": 2,
       "version_minor": 0
      },
      "text/plain": [
       "HBox(children=(FloatProgress(value=0.0, max=960.0), HTML(value='')))"
      ]
     },
     "metadata": {},
     "output_type": "display_data"
    },
    {
     "data": {
      "application/vnd.jupyter.widget-view+json": {
       "model_id": "0fce79eec3e849c9b5953fdb49a0f5c9",
       "version_major": 2,
       "version_minor": 0
      },
      "text/plain": [
       "HBox(children=(FloatProgress(value=0.0, max=960.0), HTML(value='')))"
      ]
     },
     "metadata": {},
     "output_type": "display_data"
    },
    {
     "name": "stdout",
     "output_type": "stream",
     "text": [
      "\n",
      "\n",
      "\n",
      "\n",
      "\n",
      "\n",
      "\n",
      "\n",
      "\n",
      "\n",
      "\n",
      "\n",
      "\n",
      "\n",
      "\n",
      "\n",
      "\n",
      "\n",
      "\n",
      "\n",
      "\n",
      "\n",
      "\n",
      "\n",
      "\n",
      "\n",
      "\n",
      "\n",
      "\n",
      "\n",
      "\n"
     ]
    }
   ],
   "source": [
    "trainer.train(train_dl, val_dl, epochs=30)"
   ]
  },
  {
   "cell_type": "markdown",
   "metadata": {},
   "source": [
    "## Metrics ##"
   ]
  },
  {
   "cell_type": "code",
   "execution_count": 9,
   "metadata": {},
   "outputs": [
    {
     "data": {
      "text/html": [
       "<div>\n",
       "<style scoped>\n",
       "    .dataframe tbody tr th:only-of-type {\n",
       "        vertical-align: middle;\n",
       "    }\n",
       "\n",
       "    .dataframe tbody tr th {\n",
       "        vertical-align: top;\n",
       "    }\n",
       "\n",
       "    .dataframe thead th {\n",
       "        text-align: right;\n",
       "    }\n",
       "</style>\n",
       "<table border=\"1\" class=\"dataframe\">\n",
       "  <thead>\n",
       "    <tr style=\"text-align: right;\">\n",
       "      <th></th>\n",
       "      <th>epoch</th>\n",
       "      <th>train_acc</th>\n",
       "      <th>train_loss</th>\n",
       "      <th>lr</th>\n",
       "      <th>val_acc</th>\n",
       "      <th>val_loss</th>\n",
       "    </tr>\n",
       "  </thead>\n",
       "  <tbody>\n",
       "    <tr>\n",
       "      <th>0</th>\n",
       "      <td>0</td>\n",
       "      <td>74.495834</td>\n",
       "      <td>0.652272</td>\n",
       "      <td>6.000000</td>\n",
       "      <td>87.845833</td>\n",
       "      <td>0.355057</td>\n",
       "    </tr>\n",
       "    <tr>\n",
       "      <th>1</th>\n",
       "      <td>1</td>\n",
       "      <td>89.971878</td>\n",
       "      <td>0.306462</td>\n",
       "      <td>5.400000</td>\n",
       "      <td>89.670830</td>\n",
       "      <td>0.300388</td>\n",
       "    </tr>\n",
       "    <tr>\n",
       "      <th>2</th>\n",
       "      <td>2</td>\n",
       "      <td>92.455208</td>\n",
       "      <td>0.234195</td>\n",
       "      <td>4.860000</td>\n",
       "      <td>90.329163</td>\n",
       "      <td>0.281671</td>\n",
       "    </tr>\n",
       "    <tr>\n",
       "      <th>3</th>\n",
       "      <td>3</td>\n",
       "      <td>94.144791</td>\n",
       "      <td>0.187207</td>\n",
       "      <td>4.374000</td>\n",
       "      <td>90.637497</td>\n",
       "      <td>0.274345</td>\n",
       "    </tr>\n",
       "    <tr>\n",
       "      <th>4</th>\n",
       "      <td>4</td>\n",
       "      <td>95.393745</td>\n",
       "      <td>0.152045</td>\n",
       "      <td>3.936600</td>\n",
       "      <td>90.750000</td>\n",
       "      <td>0.272325</td>\n",
       "    </tr>\n",
       "    <tr>\n",
       "      <th>5</th>\n",
       "      <td>5</td>\n",
       "      <td>96.462502</td>\n",
       "      <td>0.124739</td>\n",
       "      <td>3.542940</td>\n",
       "      <td>90.787498</td>\n",
       "      <td>0.272871</td>\n",
       "    </tr>\n",
       "    <tr>\n",
       "      <th>6</th>\n",
       "      <td>6</td>\n",
       "      <td>97.268745</td>\n",
       "      <td>0.103401</td>\n",
       "      <td>3.188646</td>\n",
       "      <td>90.916664</td>\n",
       "      <td>0.274672</td>\n",
       "    </tr>\n",
       "    <tr>\n",
       "      <th>7</th>\n",
       "      <td>7</td>\n",
       "      <td>97.903130</td>\n",
       "      <td>0.086807</td>\n",
       "      <td>2.869781</td>\n",
       "      <td>91.004166</td>\n",
       "      <td>0.277069</td>\n",
       "    </tr>\n",
       "    <tr>\n",
       "      <th>8</th>\n",
       "      <td>8</td>\n",
       "      <td>98.354164</td>\n",
       "      <td>0.073950</td>\n",
       "      <td>2.582803</td>\n",
       "      <td>91.037498</td>\n",
       "      <td>0.279716</td>\n",
       "    </tr>\n",
       "    <tr>\n",
       "      <th>9</th>\n",
       "      <td>9</td>\n",
       "      <td>98.684380</td>\n",
       "      <td>0.063969</td>\n",
       "      <td>2.324523</td>\n",
       "      <td>91.054169</td>\n",
       "      <td>0.282433</td>\n",
       "    </tr>\n",
       "    <tr>\n",
       "      <th>10</th>\n",
       "      <td>10</td>\n",
       "      <td>98.956253</td>\n",
       "      <td>0.055476</td>\n",
       "      <td>1.046035</td>\n",
       "      <td>91.129166</td>\n",
       "      <td>0.283270</td>\n",
       "    </tr>\n",
       "    <tr>\n",
       "      <th>11</th>\n",
       "      <td>11</td>\n",
       "      <td>99.061462</td>\n",
       "      <td>0.052082</td>\n",
       "      <td>0.523018</td>\n",
       "      <td>91.120834</td>\n",
       "      <td>0.283802</td>\n",
       "    </tr>\n",
       "    <tr>\n",
       "      <th>12</th>\n",
       "      <td>12</td>\n",
       "      <td>99.132294</td>\n",
       "      <td>0.050456</td>\n",
       "      <td>0.261509</td>\n",
       "      <td>91.149994</td>\n",
       "      <td>0.284003</td>\n",
       "    </tr>\n",
       "    <tr>\n",
       "      <th>13</th>\n",
       "      <td>13</td>\n",
       "      <td>99.164581</td>\n",
       "      <td>0.049641</td>\n",
       "      <td>0.130754</td>\n",
       "      <td>91.145828</td>\n",
       "      <td>0.284143</td>\n",
       "    </tr>\n",
       "    <tr>\n",
       "      <th>14</th>\n",
       "      <td>14</td>\n",
       "      <td>99.172913</td>\n",
       "      <td>0.049231</td>\n",
       "      <td>0.065377</td>\n",
       "      <td>91.133331</td>\n",
       "      <td>0.284198</td>\n",
       "    </tr>\n",
       "    <tr>\n",
       "      <th>15</th>\n",
       "      <td>15</td>\n",
       "      <td>99.184380</td>\n",
       "      <td>0.049024</td>\n",
       "      <td>0.032689</td>\n",
       "      <td>91.129166</td>\n",
       "      <td>0.284196</td>\n",
       "    </tr>\n",
       "    <tr>\n",
       "      <th>16</th>\n",
       "      <td>16</td>\n",
       "      <td>99.187500</td>\n",
       "      <td>0.048918</td>\n",
       "      <td>0.016344</td>\n",
       "      <td>91.129166</td>\n",
       "      <td>0.284194</td>\n",
       "    </tr>\n",
       "    <tr>\n",
       "      <th>17</th>\n",
       "      <td>17</td>\n",
       "      <td>99.185410</td>\n",
       "      <td>0.048864</td>\n",
       "      <td>0.008172</td>\n",
       "      <td>91.137497</td>\n",
       "      <td>0.284196</td>\n",
       "    </tr>\n",
       "    <tr>\n",
       "      <th>18</th>\n",
       "      <td>18</td>\n",
       "      <td>99.185410</td>\n",
       "      <td>0.048837</td>\n",
       "      <td>0.004086</td>\n",
       "      <td>91.137497</td>\n",
       "      <td>0.284198</td>\n",
       "    </tr>\n",
       "    <tr>\n",
       "      <th>19</th>\n",
       "      <td>19</td>\n",
       "      <td>99.186455</td>\n",
       "      <td>0.048823</td>\n",
       "      <td>0.002043</td>\n",
       "      <td>91.137497</td>\n",
       "      <td>0.284198</td>\n",
       "    </tr>\n",
       "    <tr>\n",
       "      <th>20</th>\n",
       "      <td>20</td>\n",
       "      <td>99.186455</td>\n",
       "      <td>0.048816</td>\n",
       "      <td>0.001022</td>\n",
       "      <td>91.141663</td>\n",
       "      <td>0.284198</td>\n",
       "    </tr>\n",
       "    <tr>\n",
       "      <th>21</th>\n",
       "      <td>21</td>\n",
       "      <td>99.186455</td>\n",
       "      <td>0.048813</td>\n",
       "      <td>0.001022</td>\n",
       "      <td>91.141663</td>\n",
       "      <td>0.284198</td>\n",
       "    </tr>\n",
       "    <tr>\n",
       "      <th>22</th>\n",
       "      <td>22</td>\n",
       "      <td>99.185410</td>\n",
       "      <td>0.048810</td>\n",
       "      <td>0.001022</td>\n",
       "      <td>91.141663</td>\n",
       "      <td>0.284197</td>\n",
       "    </tr>\n",
       "    <tr>\n",
       "      <th>23</th>\n",
       "      <td>23</td>\n",
       "      <td>99.187500</td>\n",
       "      <td>0.048808</td>\n",
       "      <td>0.001022</td>\n",
       "      <td>91.141663</td>\n",
       "      <td>0.284197</td>\n",
       "    </tr>\n",
       "    <tr>\n",
       "      <th>24</th>\n",
       "      <td>24</td>\n",
       "      <td>99.187500</td>\n",
       "      <td>0.048805</td>\n",
       "      <td>0.001022</td>\n",
       "      <td>91.141663</td>\n",
       "      <td>0.284197</td>\n",
       "    </tr>\n",
       "    <tr>\n",
       "      <th>25</th>\n",
       "      <td>25</td>\n",
       "      <td>99.187500</td>\n",
       "      <td>0.048802</td>\n",
       "      <td>0.001022</td>\n",
       "      <td>91.141663</td>\n",
       "      <td>0.284197</td>\n",
       "    </tr>\n",
       "    <tr>\n",
       "      <th>26</th>\n",
       "      <td>26</td>\n",
       "      <td>99.187500</td>\n",
       "      <td>0.048800</td>\n",
       "      <td>0.001022</td>\n",
       "      <td>91.141663</td>\n",
       "      <td>0.284197</td>\n",
       "    </tr>\n",
       "    <tr>\n",
       "      <th>27</th>\n",
       "      <td>27</td>\n",
       "      <td>99.187500</td>\n",
       "      <td>0.048797</td>\n",
       "      <td>0.001022</td>\n",
       "      <td>91.141663</td>\n",
       "      <td>0.284197</td>\n",
       "    </tr>\n",
       "    <tr>\n",
       "      <th>28</th>\n",
       "      <td>28</td>\n",
       "      <td>99.187500</td>\n",
       "      <td>0.048794</td>\n",
       "      <td>0.001022</td>\n",
       "      <td>91.141663</td>\n",
       "      <td>0.284197</td>\n",
       "    </tr>\n",
       "    <tr>\n",
       "      <th>29</th>\n",
       "      <td>29</td>\n",
       "      <td>99.187500</td>\n",
       "      <td>0.048792</td>\n",
       "      <td>0.001022</td>\n",
       "      <td>91.145828</td>\n",
       "      <td>0.284198</td>\n",
       "    </tr>\n",
       "  </tbody>\n",
       "</table>\n",
       "</div>"
      ],
      "text/plain": [
       "    epoch  train_acc  train_loss        lr    val_acc  val_loss\n",
       "0       0  74.495834    0.652272  6.000000  87.845833  0.355057\n",
       "1       1  89.971878    0.306462  5.400000  89.670830  0.300388\n",
       "2       2  92.455208    0.234195  4.860000  90.329163  0.281671\n",
       "3       3  94.144791    0.187207  4.374000  90.637497  0.274345\n",
       "4       4  95.393745    0.152045  3.936600  90.750000  0.272325\n",
       "5       5  96.462502    0.124739  3.542940  90.787498  0.272871\n",
       "6       6  97.268745    0.103401  3.188646  90.916664  0.274672\n",
       "7       7  97.903130    0.086807  2.869781  91.004166  0.277069\n",
       "8       8  98.354164    0.073950  2.582803  91.037498  0.279716\n",
       "9       9  98.684380    0.063969  2.324523  91.054169  0.282433\n",
       "10     10  98.956253    0.055476  1.046035  91.129166  0.283270\n",
       "11     11  99.061462    0.052082  0.523018  91.120834  0.283802\n",
       "12     12  99.132294    0.050456  0.261509  91.149994  0.284003\n",
       "13     13  99.164581    0.049641  0.130754  91.145828  0.284143\n",
       "14     14  99.172913    0.049231  0.065377  91.133331  0.284198\n",
       "15     15  99.184380    0.049024  0.032689  91.129166  0.284196\n",
       "16     16  99.187500    0.048918  0.016344  91.129166  0.284194\n",
       "17     17  99.185410    0.048864  0.008172  91.137497  0.284196\n",
       "18     18  99.185410    0.048837  0.004086  91.137497  0.284198\n",
       "19     19  99.186455    0.048823  0.002043  91.137497  0.284198\n",
       "20     20  99.186455    0.048816  0.001022  91.141663  0.284198\n",
       "21     21  99.186455    0.048813  0.001022  91.141663  0.284198\n",
       "22     22  99.185410    0.048810  0.001022  91.141663  0.284197\n",
       "23     23  99.187500    0.048808  0.001022  91.141663  0.284197\n",
       "24     24  99.187500    0.048805  0.001022  91.141663  0.284197\n",
       "25     25  99.187500    0.048802  0.001022  91.141663  0.284197\n",
       "26     26  99.187500    0.048800  0.001022  91.141663  0.284197\n",
       "27     27  99.187500    0.048797  0.001022  91.141663  0.284197\n",
       "28     28  99.187500    0.048794  0.001022  91.141663  0.284197\n",
       "29     29  99.187500    0.048792  0.001022  91.145828  0.284198"
      ]
     },
     "execution_count": 9,
     "metadata": {},
     "output_type": "execute_result"
    }
   ],
   "source": [
    "trainer.history.to_dataframe()"
   ]
  },
  {
   "cell_type": "code",
   "execution_count": 10,
   "metadata": {},
   "outputs": [
    {
     "data": {
      "image/png": "[encoded data removed]",
      "text/plain": [
       "<Figure size 1080x720 with 4 Axes>"
      ]
     },
     "metadata": {
      "needs_background": "light"
     },
     "output_type": "display_data"
    }
   ],
   "source": [
    "trainer.history.plot(smooth=0.3)\n",
    "plt.show()"
   ]
  },
  {
   "cell_type": "markdown",
   "metadata": {},
   "source": [
    "### Test Evaluation ###"
   ]
  },
  {
   "cell_type": "code",
   "execution_count": 15,
   "metadata": {},
   "outputs": [],
   "source": [
    "results = trainer.evaluate_all({'Train': train_dl,\n",
    "                                'Valid': val_dl,\n",
    "                                'Test': test_dl}, metrics=['categorical_accuracy_percentage',\n",
    "                                                           'confusion_matrix'])"
   ]
  },
  {
   "cell_type": "markdown",
   "metadata": {},
   "source": [
    "### Accuracy ###"
   ]
  },
  {
   "cell_type": "code",
   "execution_count": 19,
   "metadata": {},
   "outputs": [
    {
     "name": "stdout",
     "output_type": "stream",
     "text": [
      "Train accuracy: 99.19\n",
      "Valid accuracy: 91.15\n",
      "Test accuracy: 88.95\n"
     ]
    }
   ],
   "source": [
    "for split_name, metrics in results.items():\n",
    "    print(\"{} accuracy: {:.2f}\".format(split_name, metrics['acc']))"
   ]
  },
  {
   "cell_type": "markdown",
   "metadata": {},
   "source": [
    "### Confusion Matrix ###"
   ]
  },
  {
   "cell_type": "code",
   "execution_count": 32,
   "metadata": {},
   "outputs": [
    {
     "data": {
      "image/png": "[encoded data removed]",
      "text/plain": [
       "<Figure size 2160x1440 with 3 Axes>"
      ]
     },
     "metadata": {
      "needs_background": "light"
     },
     "output_type": "display_data"
    }
   ],
   "source": [
    "fig, axs = plt.subplots(figsize=(30, 20), ncols=3, nrows=1)\n",
    "for (split_name, metrics), ax in zip(results.items(), axs):\n",
    "    metrics['confusion_matrix'].plot(classes=[\"World\",\n",
    "                                              \"Sports\",\n",
    "                                              \"Business\",\n",
    "                                              \"Sci/Tec\"],\n",
    "                                               ax=ax,\n",
    "                                               fig=fig,\n",
    "                                               title='{} Confusion Matrix'.format(split_name))\n",
    "plt.tight_layout()\n",
    "plt.show()"
   ]
  }
 ],
 "metadata": {
  "kernelspec": {
   "display_name": "Python 3",
   "language": "python",
   "name": "python3"
  },
  "language_info": {
   "codemirror_mode": {
    "name": "ipython",
    "version": 3
   },
   "file_extension": ".py",
   "mimetype": "text/x-python",
   "name": "python",
   "nbconvert_exporter": "python",
   "pygments_lexer": "ipython3",
   "version": "3.8.5"
  },
  "widgets": {
   "application/vnd.jupyter.widget-state+json": {
    "state": {},
    "version_major": 2,
    "version_minor": 0
   }
  }
 },
 "nbformat": 4,
 "nbformat_minor": 4
}
