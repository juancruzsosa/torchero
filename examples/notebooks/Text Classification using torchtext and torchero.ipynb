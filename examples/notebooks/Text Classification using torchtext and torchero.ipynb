{
 "cells": [
  {
   "cell_type": "markdown",
   "metadata": {},
   "source": [
    "<h1><center>Text classification using torchtext and torchero</center></h1>\n",
    "\n",
    "This notebook was inspired from this [post](https://pytorch.org/tutorials/beginner/text_sentiment_ngrams_tutorial.html)\n",
    "\n",
    "## Imports"
   ]
  },
  {
   "cell_type": "code",
   "execution_count": null,
   "metadata": {},
   "outputs": [],
   "source": [
    "import os\n",
    "\n",
    "import torch\n",
    "import torch.nn as nn\n",
    "import torch.nn.functional as F\n",
    "from torch.optim import SGD\n",
    "from torch.utils.data import DataLoader\n",
    "import matplotlib.pyplot as plt\n",
    "\n",
    "import torchtext\n",
    "from torchtext.datasets import text_classification\n",
    "\n",
    "from torchero import SupervisedTrainer\n",
    "from torchero.callbacks import ProgbarLogger\n",
    "from torchero.callbacks.schedulers import *\n",
    "from torchero.hparams import OptimP\n",
    "from torchero.utils.data import train_test_split"
   ]
  },
  {
   "cell_type": "markdown",
   "metadata": {},
   "source": [
    "### Load training dataset dataset ###"
   ]
  },
  {
   "cell_type": "markdown",
   "metadata": {},
   "source": [
    "First, we download the AG_NEWS train and test datasets"
   ]
  },
  {
   "cell_type": "code",
   "execution_count": 2,
   "metadata": {},
   "outputs": [
    {
     "name": "stderr",
     "output_type": "stream",
     "text": [
      "120000lines [00:04, 26326.70lines/s]\n",
      "120000lines [00:08, 14332.65lines/s]\n",
      "7600lines [00:00, 14863.93lines/s]\n"
     ]
    }
   ],
   "source": [
    "NGRAMS = 2\n",
    "\n",
    "if not os.path.isdir('./.data'):\n",
    "    os.mkdir('./.data')\n",
    "train_dataset, test_dataset = text_classification.DATASETS['AG_NEWS'](root='./.data',\n",
    "                                                                      ngrams=NGRAMS,\n",
    "                                                                      vocab=None)"
   ]
  },
  {
   "cell_type": "markdown",
   "metadata": {},
   "source": [
    "We split the training dataset into training and validation"
   ]
  },
  {
   "cell_type": "code",
   "execution_count": 3,
   "metadata": {},
   "outputs": [],
   "source": [
    "train_dataset, val_dataset = train_test_split(train_dataset, valid_size=0.2)"
   ]
  },
  {
   "cell_type": "markdown",
   "metadata": {},
   "source": [
    "Then we need to create the dataloaders for train, valid, and test dataset. For the use "
   ]
  },
  {
   "cell_type": "code",
   "execution_count": 4,
   "metadata": {},
   "outputs": [],
   "source": [
    "def generate_batch(batch):\n",
    "    label = torch.tensor([entry[0] for entry in batch])\n",
    "    text = [entry[1] for entry in batch]\n",
    "    offsets = [0] + [len(entry) for entry in text]\n",
    "    # torch.Tensor.cumsum returns the cumulative sum\n",
    "    # of elements in the dimension dim.\n",
    "    # torch.Tensor([1.0, 2.0, 3.0]).cumsum(dim=0)\n",
    "\n",
    "    offsets = torch.tensor(offsets[:-1]).cumsum(dim=0)\n",
    "    text = torch.cat(text)\n",
    "    return (text, offsets), label\n",
    "\n",
    "train_dl = DataLoader(train_dataset, 100, collate_fn=generate_batch)\n",
    "val_dl = DataLoader(val_dataset, 100, collate_fn=generate_batch)\n",
    "test_dl = DataLoader(test_dataset, collate_fn=generate_batch)"
   ]
  },
  {
   "cell_type": "markdown",
   "metadata": {},
   "source": [
    "## Model Definition\n",
    "\n",
    "The model is an EmbeddingBag folled by a Linear unit (very simmilar to a word2vec architecture)."
   ]
  },
  {
   "cell_type": "code",
   "execution_count": 5,
   "metadata": {},
   "outputs": [],
   "source": [
    "class TextSentiment(nn.Module):\n",
    "    def __init__(self, vocab_size, embed_dim, num_class):\n",
    "        super().__init__()\n",
    "        self.embedding = nn.EmbeddingBag(vocab_size, embed_dim, sparse=True)\n",
    "        self.fc = nn.Linear(embed_dim, num_class)\n",
    "        self.init_weights()\n",
    "\n",
    "    def init_weights(self):\n",
    "        initrange = 0.5\n",
    "        self.embedding.weight.data.uniform_(-initrange, initrange)\n",
    "        self.fc.weight.data.uniform_(-initrange, initrange)\n",
    "        self.fc.bias.data.zero_()\n",
    "\n",
    "    def forward(self, text, offsets):\n",
    "        embedded = self.embedding(text, offsets)\n",
    "        return self.fc(embedded)"
   ]
  },
  {
   "cell_type": "markdown",
   "metadata": {},
   "source": [
    "The number of classes can be extracted from the ``get_labels`` dataset method (4 in this case, \"World\", \"Sports\", \"Business\", \"Sci/Tec\")\n",
    "and the vocab is extracted using the ``get_vocab`` method."
   ]
  },
  {
   "cell_type": "code",
   "execution_count": 6,
   "metadata": {},
   "outputs": [],
   "source": [
    "VOCAB_SIZE = len(train_dataset.get_vocab())\n",
    "EMBED_DIM = 64\n",
    "NUN_CLASS = len(train_dataset.get_labels())\n",
    "model = TextSentiment(VOCAB_SIZE, EMBED_DIM, NUN_CLASS)"
   ]
  },
  {
   "cell_type": "markdown",
   "metadata": {},
   "source": [
    "### Training\n",
    "\n",
    "For the Trainer since it's a classification tasks we need ``'cross_entropy`` loss, and ``categorical_accuracy_percentage`` for the metric. The optimizer chosen is a SDG with a quite high learning rate. By using the ``StepLR`` callback we can decrease the lerarning rate 10% each epoch and only for the first ten epochs,\n",
    "and then decreased it more rapidly by a factor of 50% them until epoch number 30 with a second ``StepLR`` callback."
   ]
  },
  {
   "cell_type": "code",
   "execution_count": 7,
   "metadata": {},
   "outputs": [],
   "source": [
    "trainer = SupervisedTrainer(model,\n",
    "                            'cross_entropy',\n",
    "                            optimizer=SGD(model.parameters(), lr=6.0),\n",
    "                            callbacks=[ProgbarLogger(notebook=True),\n",
    "                                       StepLR(1, gamma=0.9, end=10),\n",
    "                                       StepLR(1, gamma=0.5, start=10, end=20)\n",
    "                            ],\n",
    "                            acc_meters=['categorical_accuracy_percentage'],\n",
    "                            hparams={'lr': OptimP('lr')},\n",
    "                            logging_frecuency=10)\n",
    "trainer.to('cuda' if torch.cuda.is_available() else 'cpu')"
   ]
  },
  {
   "cell_type": "markdown",
   "metadata": {},
   "source": [
    "Running the model..."
   ]
  },
  {
   "cell_type": "code",
   "execution_count": 8,
   "metadata": {},
   "outputs": [
    {
     "data": {
      "application/vnd.jupyter.widget-view+json": {
       "model_id": "19fb76d2e7ed45af9664917a7df375cf",
       "version_major": 2,
       "version_minor": 0
      },
      "text/plain": [
       "HBox(children=(FloatProgress(value=0.0, max=30.0), HTML(value='')))"
      ]
     },
     "metadata": {},
     "output_type": "display_data"
    },
    {
     "data": {
      "application/vnd.jupyter.widget-view+json": {
       "model_id": "f6a138b1dffd492d807c45b4a917ad75",
       "version_major": 2,
       "version_minor": 0
      },
      "text/plain": [
       "HBox(children=(FloatProgress(value=0.0, max=960.0), HTML(value='')))"
      ]
     },
     "metadata": {},
     "output_type": "display_data"
    },
    {
     "data": {
      "application/vnd.jupyter.widget-view+json": {
       "model_id": "5a65fce046d24021a100b3b3e79933ef",
       "version_major": 2,
       "version_minor": 0
      },
      "text/plain": [
       "HBox(children=(FloatProgress(value=0.0, max=960.0), HTML(value='')))"
      ]
     },
     "metadata": {},
     "output_type": "display_data"
    },
    {
     "data": {
      "application/vnd.jupyter.widget-view+json": {
       "model_id": "d40d760ea4254ec59a29d2e4dffdb281",
       "version_major": 2,
       "version_minor": 0
      },
      "text/plain": [
       "HBox(children=(FloatProgress(value=0.0, max=960.0), HTML(value='')))"
      ]
     },
     "metadata": {},
     "output_type": "display_data"
    },
    {
     "data": {
      "application/vnd.jupyter.widget-view+json": {
       "model_id": "91fdec24f3334571985499732613200e",
       "version_major": 2,
       "version_minor": 0
      },
      "text/plain": [
       "HBox(children=(FloatProgress(value=0.0, max=960.0), HTML(value='')))"
      ]
     },
     "metadata": {},
     "output_type": "display_data"
    },
    {
     "data": {
      "application/vnd.jupyter.widget-view+json": {
       "model_id": "3e82b95ec7d94d42b1d709d8d16c4fbc",
       "version_major": 2,
       "version_minor": 0
      },
      "text/plain": [
       "HBox(children=(FloatProgress(value=0.0, max=960.0), HTML(value='')))"
      ]
     },
     "metadata": {},
     "output_type": "display_data"
    },
    {
     "data": {
      "application/vnd.jupyter.widget-view+json": {
       "model_id": "2c877875a8e34e32bca2176b1343ec8e",
       "version_major": 2,
       "version_minor": 0
      },
      "text/plain": [
       "HBox(children=(FloatProgress(value=0.0, max=960.0), HTML(value='')))"
      ]
     },
     "metadata": {},
     "output_type": "display_data"
    },
    {
     "data": {
      "application/vnd.jupyter.widget-view+json": {
       "model_id": "c85b0560b2a84cf29fe0e940225cfba2",
       "version_major": 2,
       "version_minor": 0
      },
      "text/plain": [
       "HBox(children=(FloatProgress(value=0.0, max=960.0), HTML(value='')))"
      ]
     },
     "metadata": {},
     "output_type": "display_data"
    },
    {
     "data": {
      "application/vnd.jupyter.widget-view+json": {
       "model_id": "dc6d09cb6a2549c7bdc1f7d32023c503",
       "version_major": 2,
       "version_minor": 0
      },
      "text/plain": [
       "HBox(children=(FloatProgress(value=0.0, max=960.0), HTML(value='')))"
      ]
     },
     "metadata": {},
     "output_type": "display_data"
    },
    {
     "data": {
      "application/vnd.jupyter.widget-view+json": {
       "model_id": "61c124626f70474f81c69506dcf317ef",
       "version_major": 2,
       "version_minor": 0
      },
      "text/plain": [
       "HBox(children=(FloatProgress(value=0.0, max=960.0), HTML(value='')))"
      ]
     },
     "metadata": {},
     "output_type": "display_data"
    },
    {
     "data": {
      "application/vnd.jupyter.widget-view+json": {
       "model_id": "0afd84685dc54234b8cba1a8dbfa64d8",
       "version_major": 2,
       "version_minor": 0
      },
      "text/plain": [
       "HBox(children=(FloatProgress(value=0.0, max=960.0), HTML(value='')))"
      ]
     },
     "metadata": {},
     "output_type": "display_data"
    },
    {
     "data": {
      "application/vnd.jupyter.widget-view+json": {
       "model_id": "04895469e91c4d45af63e8ceb193fe57",
       "version_major": 2,
       "version_minor": 0
      },
      "text/plain": [
       "HBox(children=(FloatProgress(value=0.0, max=960.0), HTML(value='')))"
      ]
     },
     "metadata": {},
     "output_type": "display_data"
    },
    {
     "data": {
      "application/vnd.jupyter.widget-view+json": {
       "model_id": "74fb7f19b5574ff98c4fe4e5b6ab0590",
       "version_major": 2,
       "version_minor": 0
      },
      "text/plain": [
       "HBox(children=(FloatProgress(value=0.0, max=960.0), HTML(value='')))"
      ]
     },
     "metadata": {},
     "output_type": "display_data"
    },
    {
     "data": {
      "application/vnd.jupyter.widget-view+json": {
       "model_id": "bf19009b757941edb7e94aab40fa8eef",
       "version_major": 2,
       "version_minor": 0
      },
      "text/plain": [
       "HBox(children=(FloatProgress(value=0.0, max=960.0), HTML(value='')))"
      ]
     },
     "metadata": {},
     "output_type": "display_data"
    },
    {
     "data": {
      "application/vnd.jupyter.widget-view+json": {
       "model_id": "0b075adcf28941b7a3ef9322dadfa632",
       "version_major": 2,
       "version_minor": 0
      },
      "text/plain": [
       "HBox(children=(FloatProgress(value=0.0, max=960.0), HTML(value='')))"
      ]
     },
     "metadata": {},
     "output_type": "display_data"
    },
    {
     "data": {
      "application/vnd.jupyter.widget-view+json": {
       "model_id": "61a82be8703848f4967a51cac831ac46",
       "version_major": 2,
       "version_minor": 0
      },
      "text/plain": [
       "HBox(children=(FloatProgress(value=0.0, max=960.0), HTML(value='')))"
      ]
     },
     "metadata": {},
     "output_type": "display_data"
    },
    {
     "data": {
      "application/vnd.jupyter.widget-view+json": {
       "model_id": "4b98afb7f17c45f4966bc985a57d0d07",
       "version_major": 2,
       "version_minor": 0
      },
      "text/plain": [
       "HBox(children=(FloatProgress(value=0.0, max=960.0), HTML(value='')))"
      ]
     },
     "metadata": {},
     "output_type": "display_data"
    },
    {
     "data": {
      "application/vnd.jupyter.widget-view+json": {
       "model_id": "bdaf6448dfe64e969fd2462da527226a",
       "version_major": 2,
       "version_minor": 0
      },
      "text/plain": [
       "HBox(children=(FloatProgress(value=0.0, max=960.0), HTML(value='')))"
      ]
     },
     "metadata": {},
     "output_type": "display_data"
    },
    {
     "data": {
      "application/vnd.jupyter.widget-view+json": {
       "model_id": "fce673e49b6745b1858c7eeabb34a252",
       "version_major": 2,
       "version_minor": 0
      },
      "text/plain": [
       "HBox(children=(FloatProgress(value=0.0, max=960.0), HTML(value='')))"
      ]
     },
     "metadata": {},
     "output_type": "display_data"
    },
    {
     "data": {
      "application/vnd.jupyter.widget-view+json": {
       "model_id": "e07accb9805141b9b15eb63403aeb91a",
       "version_major": 2,
       "version_minor": 0
      },
      "text/plain": [
       "HBox(children=(FloatProgress(value=0.0, max=960.0), HTML(value='')))"
      ]
     },
     "metadata": {},
     "output_type": "display_data"
    },
    {
     "data": {
      "application/vnd.jupyter.widget-view+json": {
       "model_id": "96641ed1bfd04e48baaec7978df44cb6",
       "version_major": 2,
       "version_minor": 0
      },
      "text/plain": [
       "HBox(children=(FloatProgress(value=0.0, max=960.0), HTML(value='')))"
      ]
     },
     "metadata": {},
     "output_type": "display_data"
    },
    {
     "data": {
      "application/vnd.jupyter.widget-view+json": {
       "model_id": "f9f17741ecea459889170a18089d7360",
       "version_major": 2,
       "version_minor": 0
      },
      "text/plain": [
       "HBox(children=(FloatProgress(value=0.0, max=960.0), HTML(value='')))"
      ]
     },
     "metadata": {},
     "output_type": "display_data"
    },
    {
     "data": {
      "application/vnd.jupyter.widget-view+json": {
       "model_id": "05e9a1a3c2d64beea4853e330658bfa2",
       "version_major": 2,
       "version_minor": 0
      },
      "text/plain": [
       "HBox(children=(FloatProgress(value=0.0, max=960.0), HTML(value='')))"
      ]
     },
     "metadata": {},
     "output_type": "display_data"
    },
    {
     "data": {
      "application/vnd.jupyter.widget-view+json": {
       "model_id": "60d200509fca476c82f0b6a1b1f62a80",
       "version_major": 2,
       "version_minor": 0
      },
      "text/plain": [
       "HBox(children=(FloatProgress(value=0.0, max=960.0), HTML(value='')))"
      ]
     },
     "metadata": {},
     "output_type": "display_data"
    },
    {
     "data": {
      "application/vnd.jupyter.widget-view+json": {
       "model_id": "efc132d59a684b76bf60d3321cbbc876",
       "version_major": 2,
       "version_minor": 0
      },
      "text/plain": [
       "HBox(children=(FloatProgress(value=0.0, max=960.0), HTML(value='')))"
      ]
     },
     "metadata": {},
     "output_type": "display_data"
    },
    {
     "data": {
      "application/vnd.jupyter.widget-view+json": {
       "model_id": "c774408cd80e4c9aacf0ad6be1e40c58",
       "version_major": 2,
       "version_minor": 0
      },
      "text/plain": [
       "HBox(children=(FloatProgress(value=0.0, max=960.0), HTML(value='')))"
      ]
     },
     "metadata": {},
     "output_type": "display_data"
    },
    {
     "data": {
      "application/vnd.jupyter.widget-view+json": {
       "model_id": "47b33616a1b64b0bbcb8053e3736875c",
       "version_major": 2,
       "version_minor": 0
      },
      "text/plain": [
       "HBox(children=(FloatProgress(value=0.0, max=960.0), HTML(value='')))"
      ]
     },
     "metadata": {},
     "output_type": "display_data"
    },
    {
     "data": {
      "application/vnd.jupyter.widget-view+json": {
       "model_id": "702963945317450789329d92e5f8c2d7",
       "version_major": 2,
       "version_minor": 0
      },
      "text/plain": [
       "HBox(children=(FloatProgress(value=0.0, max=960.0), HTML(value='')))"
      ]
     },
     "metadata": {},
     "output_type": "display_data"
    },
    {
     "data": {
      "application/vnd.jupyter.widget-view+json": {
       "model_id": "5a8a3eb77f684015a6291389163d50eb",
       "version_major": 2,
       "version_minor": 0
      },
      "text/plain": [
       "HBox(children=(FloatProgress(value=0.0, max=960.0), HTML(value='')))"
      ]
     },
     "metadata": {},
     "output_type": "display_data"
    },
    {
     "data": {
      "application/vnd.jupyter.widget-view+json": {
       "model_id": "2b7248d45c814464adfcae5bad14caa1",
       "version_major": 2,
       "version_minor": 0
      },
      "text/plain": [
       "HBox(children=(FloatProgress(value=0.0, max=960.0), HTML(value='')))"
      ]
     },
     "metadata": {},
     "output_type": "display_data"
    },
    {
     "data": {
      "application/vnd.jupyter.widget-view+json": {
       "model_id": "243e9c943eac428cb166a929a521e8f4",
       "version_major": 2,
       "version_minor": 0
      },
      "text/plain": [
       "HBox(children=(FloatProgress(value=0.0, max=960.0), HTML(value='')))"
      ]
     },
     "metadata": {},
     "output_type": "display_data"
    },
    {
     "name": "stdout",
     "output_type": "stream",
     "text": [
      "\n",
      "\n",
      "\n",
      "\n",
      "\n",
      "\n",
      "\n",
      "\n",
      "\n",
      "\n",
      "\n",
      "\n",
      "\n",
      "\n",
      "\n",
      "\n",
      "\n",
      "\n",
      "\n",
      "\n",
      "\n",
      "\n",
      "\n",
      "\n",
      "\n",
      "\n",
      "\n",
      "\n",
      "\n",
      "\n",
      "\n"
     ]
    }
   ],
   "source": [
    "trainer.train(train_dl, val_dl, epochs=30)"
   ]
  },
  {
   "cell_type": "markdown",
   "metadata": {},
   "source": [
    "## Metrics ##"
   ]
  },
  {
   "cell_type": "code",
   "execution_count": 9,
   "metadata": {},
   "outputs": [
    {
     "data": {
      "text/html": [
       "<div>\n",
       "<style scoped>\n",
       "    .dataframe tbody tr th:only-of-type {\n",
       "        vertical-align: middle;\n",
       "    }\n",
       "\n",
       "    .dataframe tbody tr th {\n",
       "        vertical-align: top;\n",
       "    }\n",
       "\n",
       "    .dataframe thead th {\n",
       "        text-align: right;\n",
       "    }\n",
       "</style>\n",
       "<table border=\"1\" class=\"dataframe\">\n",
       "  <thead>\n",
       "    <tr style=\"text-align: right;\">\n",
       "      <th></th>\n",
       "      <th>epoch</th>\n",
       "      <th>train_acc</th>\n",
       "      <th>train_loss</th>\n",
       "      <th>lr</th>\n",
       "      <th>val_acc</th>\n",
       "      <th>val_loss</th>\n",
       "    </tr>\n",
       "  </thead>\n",
       "  <tbody>\n",
       "    <tr>\n",
       "      <th>0</th>\n",
       "      <td>0</td>\n",
       "      <td>74.791664</td>\n",
       "      <td>0.648313</td>\n",
       "      <td>6.000000</td>\n",
       "      <td>86.495834</td>\n",
       "      <td>0.386433</td>\n",
       "    </tr>\n",
       "    <tr>\n",
       "      <th>1</th>\n",
       "      <td>1</td>\n",
       "      <td>89.950005</td>\n",
       "      <td>0.305348</td>\n",
       "      <td>5.400000</td>\n",
       "      <td>88.929161</td>\n",
       "      <td>0.323412</td>\n",
       "    </tr>\n",
       "    <tr>\n",
       "      <th>2</th>\n",
       "      <td>2</td>\n",
       "      <td>92.492706</td>\n",
       "      <td>0.233635</td>\n",
       "      <td>4.860000</td>\n",
       "      <td>89.700005</td>\n",
       "      <td>0.302224</td>\n",
       "    </tr>\n",
       "    <tr>\n",
       "      <th>3</th>\n",
       "      <td>3</td>\n",
       "      <td>94.144791</td>\n",
       "      <td>0.186974</td>\n",
       "      <td>4.374000</td>\n",
       "      <td>90.058334</td>\n",
       "      <td>0.293448</td>\n",
       "    </tr>\n",
       "    <tr>\n",
       "      <th>4</th>\n",
       "      <td>4</td>\n",
       "      <td>95.434372</td>\n",
       "      <td>0.151931</td>\n",
       "      <td>3.936600</td>\n",
       "      <td>90.191666</td>\n",
       "      <td>0.290152</td>\n",
       "    </tr>\n",
       "    <tr>\n",
       "      <th>5</th>\n",
       "      <td>5</td>\n",
       "      <td>96.453125</td>\n",
       "      <td>0.124661</td>\n",
       "      <td>3.542940</td>\n",
       "      <td>90.300003</td>\n",
       "      <td>0.289593</td>\n",
       "    </tr>\n",
       "    <tr>\n",
       "      <th>6</th>\n",
       "      <td>6</td>\n",
       "      <td>97.267708</td>\n",
       "      <td>0.103338</td>\n",
       "      <td>3.188646</td>\n",
       "      <td>90.379166</td>\n",
       "      <td>0.290540</td>\n",
       "    </tr>\n",
       "    <tr>\n",
       "      <th>7</th>\n",
       "      <td>7</td>\n",
       "      <td>97.882286</td>\n",
       "      <td>0.086723</td>\n",
       "      <td>2.869781</td>\n",
       "      <td>90.404167</td>\n",
       "      <td>0.292383</td>\n",
       "    </tr>\n",
       "    <tr>\n",
       "      <th>8</th>\n",
       "      <td>8</td>\n",
       "      <td>98.346870</td>\n",
       "      <td>0.073842</td>\n",
       "      <td>2.582803</td>\n",
       "      <td>90.454170</td>\n",
       "      <td>0.294732</td>\n",
       "    </tr>\n",
       "    <tr>\n",
       "      <th>9</th>\n",
       "      <td>9</td>\n",
       "      <td>98.673958</td>\n",
       "      <td>0.063864</td>\n",
       "      <td>2.324523</td>\n",
       "      <td>90.487495</td>\n",
       "      <td>0.297295</td>\n",
       "    </tr>\n",
       "    <tr>\n",
       "      <th>10</th>\n",
       "      <td>10</td>\n",
       "      <td>98.967705</td>\n",
       "      <td>0.055314</td>\n",
       "      <td>1.046035</td>\n",
       "      <td>90.612503</td>\n",
       "      <td>0.296925</td>\n",
       "    </tr>\n",
       "    <tr>\n",
       "      <th>11</th>\n",
       "      <td>11</td>\n",
       "      <td>99.085411</td>\n",
       "      <td>0.051904</td>\n",
       "      <td>0.523018</td>\n",
       "      <td>90.591660</td>\n",
       "      <td>0.297176</td>\n",
       "    </tr>\n",
       "    <tr>\n",
       "      <th>12</th>\n",
       "      <td>12</td>\n",
       "      <td>99.137497</td>\n",
       "      <td>0.050294</td>\n",
       "      <td>0.261509</td>\n",
       "      <td>90.587494</td>\n",
       "      <td>0.297453</td>\n",
       "    </tr>\n",
       "    <tr>\n",
       "      <th>13</th>\n",
       "      <td>13</td>\n",
       "      <td>99.149994</td>\n",
       "      <td>0.049484</td>\n",
       "      <td>0.130754</td>\n",
       "      <td>90.591660</td>\n",
       "      <td>0.297614</td>\n",
       "    </tr>\n",
       "    <tr>\n",
       "      <th>14</th>\n",
       "      <td>14</td>\n",
       "      <td>99.155205</td>\n",
       "      <td>0.049075</td>\n",
       "      <td>0.065377</td>\n",
       "      <td>90.604172</td>\n",
       "      <td>0.297646</td>\n",
       "    </tr>\n",
       "    <tr>\n",
       "      <th>15</th>\n",
       "      <td>15</td>\n",
       "      <td>99.173958</td>\n",
       "      <td>0.048870</td>\n",
       "      <td>0.032689</td>\n",
       "      <td>90.583328</td>\n",
       "      <td>0.297632</td>\n",
       "    </tr>\n",
       "    <tr>\n",
       "      <th>16</th>\n",
       "      <td>16</td>\n",
       "      <td>99.180206</td>\n",
       "      <td>0.048766</td>\n",
       "      <td>0.016344</td>\n",
       "      <td>90.554169</td>\n",
       "      <td>0.297631</td>\n",
       "    </tr>\n",
       "    <tr>\n",
       "      <th>17</th>\n",
       "      <td>17</td>\n",
       "      <td>99.180206</td>\n",
       "      <td>0.048713</td>\n",
       "      <td>0.008172</td>\n",
       "      <td>90.554169</td>\n",
       "      <td>0.297636</td>\n",
       "    </tr>\n",
       "    <tr>\n",
       "      <th>18</th>\n",
       "      <td>18</td>\n",
       "      <td>99.181244</td>\n",
       "      <td>0.048686</td>\n",
       "      <td>0.004086</td>\n",
       "      <td>90.554169</td>\n",
       "      <td>0.297639</td>\n",
       "    </tr>\n",
       "    <tr>\n",
       "      <th>19</th>\n",
       "      <td>19</td>\n",
       "      <td>99.181244</td>\n",
       "      <td>0.048672</td>\n",
       "      <td>0.002043</td>\n",
       "      <td>90.554169</td>\n",
       "      <td>0.297640</td>\n",
       "    </tr>\n",
       "    <tr>\n",
       "      <th>20</th>\n",
       "      <td>20</td>\n",
       "      <td>99.180206</td>\n",
       "      <td>0.048665</td>\n",
       "      <td>0.001022</td>\n",
       "      <td>90.554169</td>\n",
       "      <td>0.297640</td>\n",
       "    </tr>\n",
       "    <tr>\n",
       "      <th>21</th>\n",
       "      <td>21</td>\n",
       "      <td>99.181244</td>\n",
       "      <td>0.048662</td>\n",
       "      <td>0.001022</td>\n",
       "      <td>90.550003</td>\n",
       "      <td>0.297640</td>\n",
       "    </tr>\n",
       "    <tr>\n",
       "      <th>22</th>\n",
       "      <td>22</td>\n",
       "      <td>99.181244</td>\n",
       "      <td>0.048660</td>\n",
       "      <td>0.001022</td>\n",
       "      <td>90.550003</td>\n",
       "      <td>0.297641</td>\n",
       "    </tr>\n",
       "    <tr>\n",
       "      <th>23</th>\n",
       "      <td>23</td>\n",
       "      <td>99.181244</td>\n",
       "      <td>0.048657</td>\n",
       "      <td>0.001022</td>\n",
       "      <td>90.550003</td>\n",
       "      <td>0.297641</td>\n",
       "    </tr>\n",
       "    <tr>\n",
       "      <th>24</th>\n",
       "      <td>24</td>\n",
       "      <td>99.181244</td>\n",
       "      <td>0.048655</td>\n",
       "      <td>0.001022</td>\n",
       "      <td>90.550003</td>\n",
       "      <td>0.297641</td>\n",
       "    </tr>\n",
       "    <tr>\n",
       "      <th>25</th>\n",
       "      <td>25</td>\n",
       "      <td>99.181244</td>\n",
       "      <td>0.048652</td>\n",
       "      <td>0.001022</td>\n",
       "      <td>90.550003</td>\n",
       "      <td>0.297641</td>\n",
       "    </tr>\n",
       "    <tr>\n",
       "      <th>26</th>\n",
       "      <td>26</td>\n",
       "      <td>99.181244</td>\n",
       "      <td>0.048649</td>\n",
       "      <td>0.001022</td>\n",
       "      <td>90.550003</td>\n",
       "      <td>0.297641</td>\n",
       "    </tr>\n",
       "    <tr>\n",
       "      <th>27</th>\n",
       "      <td>27</td>\n",
       "      <td>99.181244</td>\n",
       "      <td>0.048647</td>\n",
       "      <td>0.001022</td>\n",
       "      <td>90.550003</td>\n",
       "      <td>0.297641</td>\n",
       "    </tr>\n",
       "    <tr>\n",
       "      <th>28</th>\n",
       "      <td>28</td>\n",
       "      <td>99.181244</td>\n",
       "      <td>0.048644</td>\n",
       "      <td>0.001022</td>\n",
       "      <td>90.550003</td>\n",
       "      <td>0.297642</td>\n",
       "    </tr>\n",
       "    <tr>\n",
       "      <th>29</th>\n",
       "      <td>29</td>\n",
       "      <td>99.181244</td>\n",
       "      <td>0.048642</td>\n",
       "      <td>0.001022</td>\n",
       "      <td>90.550003</td>\n",
       "      <td>0.297642</td>\n",
       "    </tr>\n",
       "  </tbody>\n",
       "</table>\n",
       "</div>"
      ],
      "text/plain": [
       "    epoch  train_acc  train_loss        lr    val_acc  val_loss\n",
       "0       0  74.791664    0.648313  6.000000  86.495834  0.386433\n",
       "1       1  89.950005    0.305348  5.400000  88.929161  0.323412\n",
       "2       2  92.492706    0.233635  4.860000  89.700005  0.302224\n",
       "3       3  94.144791    0.186974  4.374000  90.058334  0.293448\n",
       "4       4  95.434372    0.151931  3.936600  90.191666  0.290152\n",
       "5       5  96.453125    0.124661  3.542940  90.300003  0.289593\n",
       "6       6  97.267708    0.103338  3.188646  90.379166  0.290540\n",
       "7       7  97.882286    0.086723  2.869781  90.404167  0.292383\n",
       "8       8  98.346870    0.073842  2.582803  90.454170  0.294732\n",
       "9       9  98.673958    0.063864  2.324523  90.487495  0.297295\n",
       "10     10  98.967705    0.055314  1.046035  90.612503  0.296925\n",
       "11     11  99.085411    0.051904  0.523018  90.591660  0.297176\n",
       "12     12  99.137497    0.050294  0.261509  90.587494  0.297453\n",
       "13     13  99.149994    0.049484  0.130754  90.591660  0.297614\n",
       "14     14  99.155205    0.049075  0.065377  90.604172  0.297646\n",
       "15     15  99.173958    0.048870  0.032689  90.583328  0.297632\n",
       "16     16  99.180206    0.048766  0.016344  90.554169  0.297631\n",
       "17     17  99.180206    0.048713  0.008172  90.554169  0.297636\n",
       "18     18  99.181244    0.048686  0.004086  90.554169  0.297639\n",
       "19     19  99.181244    0.048672  0.002043  90.554169  0.297640\n",
       "20     20  99.180206    0.048665  0.001022  90.554169  0.297640\n",
       "21     21  99.181244    0.048662  0.001022  90.550003  0.297640\n",
       "22     22  99.181244    0.048660  0.001022  90.550003  0.297641\n",
       "23     23  99.181244    0.048657  0.001022  90.550003  0.297641\n",
       "24     24  99.181244    0.048655  0.001022  90.550003  0.297641\n",
       "25     25  99.181244    0.048652  0.001022  90.550003  0.297641\n",
       "26     26  99.181244    0.048649  0.001022  90.550003  0.297641\n",
       "27     27  99.181244    0.048647  0.001022  90.550003  0.297641\n",
       "28     28  99.181244    0.048644  0.001022  90.550003  0.297642\n",
       "29     29  99.181244    0.048642  0.001022  90.550003  0.297642"
      ]
     },
     "execution_count": 9,
     "metadata": {},
     "output_type": "execute_result"
    }
   ],
   "source": [
    "trainer.history.to_dataframe()"
   ]
  },
  {
   "cell_type": "code",
   "execution_count": 10,
   "metadata": {},
   "outputs": [
    {
     "data": {
      "image/png": "[encoded data removed]",
      "text/plain": [
       "<Figure size 1080x720 with 4 Axes>"
      ]
     },
     "metadata": {
      "needs_background": "light"
     },
     "output_type": "display_data"
    }
   ],
   "source": [
    "trainer.history.plot(smooth=0.3)\n",
    "plt.show()"
   ]
  },
  {
   "cell_type": "markdown",
   "metadata": {},
   "source": [
    "### Test Evaluation ###"
   ]
  },
  {
   "cell_type": "code",
   "execution_count": 11,
   "metadata": {},
   "outputs": [],
   "source": [
    "results_train = trainer.evaluate(train_dl, metrics=['categorical_accuracy_percentage',\n",
    "                                                   'confusion_matrix'])\n",
    "results_valid = trainer.evaluate(val_dl, metrics=['categorical_accuracy_percentage',\n",
    "                                                   'confusion_matrix'])\n",
    "results_test = trainer.evaluate(test_dl, metrics=['categorical_accuracy_percentage',\n",
    "                                                   'confusion_matrix'])"
   ]
  },
  {
   "cell_type": "markdown",
   "metadata": {},
   "source": [
    "### Accuracy ###"
   ]
  },
  {
   "cell_type": "code",
   "execution_count": 12,
   "metadata": {},
   "outputs": [
    {
     "name": "stdout",
     "output_type": "stream",
     "text": [
      "Train accuracy: 99.18\n",
      "Valid accuracy: 90.55\n",
      "Test accuracy: 90.12\n"
     ]
    }
   ],
   "source": [
    "print(\"Train accuracy: {:.2f}\".format(results_train['acc']))\n",
    "print(\"Valid accuracy: {:.2f}\".format(results_valid['acc']))\n",
    "print(\"Test accuracy: {:.2f}\".format(results_test['acc']))"
   ]
  },
  {
   "cell_type": "markdown",
   "metadata": {},
   "source": [
    "### Confusion Matrix ###"
   ]
  },
  {
   "cell_type": "code",
   "execution_count": 13,
   "metadata": {},
   "outputs": [
    {
     "data": {
      "image/png": "[encoded data removed]",
      "text/plain": [
       "<Figure size 2160x1440 with 3 Axes>"
      ]
     },
     "metadata": {
      "needs_background": "light"
     },
     "output_type": "display_data"
    }
   ],
   "source": [
    "fig, axs = plt.subplots(figsize=(30, 20), ncols=3, nrows=1)\n",
    "for i, (results, split_name) in enumerate(zip([results_train, results_valid, results_test], ['train', 'valid', 'test'])):\n",
    "    results['confusion_matrix'].plot(classes=[\"World\",\n",
    "                                              \"Sports\",\n",
    "                                              \"Business\",\n",
    "                                              \"Sci/Tec\"],\n",
    "                                           ax=axs[i],\n",
    "                                           fig=fig)\n",
    "plt.tight_layout()\n",
    "plt.show()"
   ]
  }
 ],
 "metadata": {
  "kernelspec": {
   "display_name": "Python 3",
   "language": "python",
   "name": "python3"
  },
  "language_info": {
   "codemirror_mode": {
    "name": "ipython",
    "version": 3
   },
   "file_extension": ".py",
   "mimetype": "text/x-python",
   "name": "python",
   "nbconvert_exporter": "python",
   "pygments_lexer": "ipython3",
   "version": "3.8.5"
  },
  "widgets": {
   "application/vnd.jupyter.widget-state+json": {
    "state": {
     "019a284a68ab4e38a929c078604350ab": {
      "model_module": "@jupyter-widgets/controls",
      "model_module_version": "1.5.0",
      "model_name": "FloatProgressModel",
      "state": {
       "bar_style": "success",
       "description": "Epoch 4: 100%",
       "layout": "IPY_MODEL_41cd6ba203954d9a9d937d5735e66f47",
       "max": 960,
       "style": "IPY_MODEL_50c165750c9d4fc5ac2a53e067bec24e",
       "value": 960
      }
     },
     "0285c979c8024caf94b0a2ea9891e825": {
      "model_module": "@jupyter-widgets/controls",
      "model_module_version": "1.5.0",
      "model_name": "FloatProgressModel",
      "state": {
       "bar_style": "success",
       "description": "Epoch 20: 100%",
       "layout": "IPY_MODEL_f5c0f5c1d62b4a1f8a560cc1a4e4b2f2",
       "max": 960,
       "style": "IPY_MODEL_6cd750606bbb47c6ad632a045fb9e695",
       "value": 960
      }
     },
     "03292b1fd76e492c834a4ad11a9a0c90": {
      "model_module": "@jupyter-widgets/controls",
      "model_module_version": "1.5.0",
      "model_name": "DescriptionStyleModel",
      "state": {
       "description_width": ""
      }
     },
     "04895469e91c4d45af63e8ceb193fe57": {
      "model_module": "@jupyter-widgets/controls",
      "model_module_version": "1.5.0",
      "model_name": "HBoxModel",
      "state": {
       "children": [
        "IPY_MODEL_9caeb6b1783842ee8583d8857806954e",
        "IPY_MODEL_3505b42287b6461580805d48ac6e339b"
       ],
       "layout": "IPY_MODEL_3e66552010694c09bbab6f471b168df7"
      }
     },
     "04fcc5af9b8e4c6e97fa862130099c2a": {
      "model_module": "@jupyter-widgets/controls",
      "model_module_version": "1.5.0",
      "model_name": "HTMLModel",
      "state": {
       "layout": "IPY_MODEL_60067626961e4ed1a2c0e6682801cb34",
       "style": "IPY_MODEL_c52c066697874221a308129c892d3d72",
       "value": " 960/960 [00:30&lt;00:00, 31.45 batchs/s, lr=3.937, train_acc=95.434, train_loss=0.152, val_acc=90.192, val_loss=0.290]"
      }
     },
     "05e9a1a3c2d64beea4853e330658bfa2": {
      "model_module": "@jupyter-widgets/controls",
      "model_module_version": "1.5.0",
      "model_name": "HBoxModel",
      "state": {
       "children": [
        "IPY_MODEL_072b2197c8d34406899a5df0b256d615",
        "IPY_MODEL_c07c707fa0494c17916ba3018f0714a6"
       ],
       "layout": "IPY_MODEL_f4a4c888e0be4d4c9fc4a14adfd8d5d7"
      }
     },
     "066444cab0c844c0aa95ddd49f3df4a1": {
      "model_module": "@jupyter-widgets/controls",
      "model_module_version": "1.5.0",
      "model_name": "ProgressStyleModel",
      "state": {
       "description_width": "initial"
      }
     },
     "06eede1677b7406484eec5d9b9cd9cc3": {
      "model_module": "@jupyter-widgets/controls",
      "model_module_version": "1.5.0",
      "model_name": "HTMLModel",
      "state": {
       "layout": "IPY_MODEL_adda3fdff1264db8b037991c1846f7ed",
       "style": "IPY_MODEL_03292b1fd76e492c834a4ad11a9a0c90",
       "value": " 960/960 [00:32&lt;00:00, 29.21 batchs/s, lr=4.860, train_acc=92.493, train_loss=0.234, val_acc=89.700, val_loss=0.302]"
      }
     },
     "072b2197c8d34406899a5df0b256d615": {
      "model_module": "@jupyter-widgets/controls",
      "model_module_version": "1.5.0",
      "model_name": "FloatProgressModel",
      "state": {
       "bar_style": "success",
       "description": "Epoch 22: 100%",
       "layout": "IPY_MODEL_a08733df48d64d589af584e28cb148ef",
       "max": 960,
       "style": "IPY_MODEL_2417293aaeb349ce97d6af831e8b0159",
       "value": 960
      }
     },
     "0915defc50a7465db0a0728fecf4d3bf": {
      "model_module": "@jupyter-widgets/controls",
      "model_module_version": "1.5.0",
      "model_name": "DescriptionStyleModel",
      "state": {
       "description_width": ""
      }
     },
     "09dacc9951d447589fd7ebd5b6828aef": {
      "model_module": "@jupyter-widgets/base",
      "model_module_version": "1.2.0",
      "model_name": "LayoutModel",
      "state": {}
     },
     "0afd84685dc54234b8cba1a8dbfa64d8": {
      "model_module": "@jupyter-widgets/controls",
      "model_module_version": "1.5.0",
      "model_name": "HBoxModel",
      "state": {
       "children": [
        "IPY_MODEL_94c98be5dfa247d2bbdf1e1290c7f2ec",
        "IPY_MODEL_9ff06aa80a694ff28a844cec5e4ce955"
       ],
       "layout": "IPY_MODEL_c26efc3e88174ba6bd8edc746b19810d"
      }
     },
     "0b075adcf28941b7a3ef9322dadfa632": {
      "model_module": "@jupyter-widgets/controls",
      "model_module_version": "1.5.0",
      "model_name": "HBoxModel",
      "state": {
       "children": [
        "IPY_MODEL_75a47565b76f452fa625b604c8946bce",
        "IPY_MODEL_43c1e5853a824172b01457d0eeb83382"
       ],
       "layout": "IPY_MODEL_f078d8b9503f43139cacbc07011859f1"
      }
     },
     "0b9b7e1cd0d145eeb88b8918447b8a6d": {
      "model_module": "@jupyter-widgets/base",
      "model_module_version": "1.2.0",
      "model_name": "LayoutModel",
      "state": {}
     },
     "0bd90eaf45234fc5b7e1f3dd0fd7afa1": {
      "model_module": "@jupyter-widgets/controls",
      "model_module_version": "1.5.0",
      "model_name": "ProgressStyleModel",
      "state": {
       "description_width": "initial"
      }
     },
     "0d3130129abd4769bd5c09f3b438c7dc": {
      "model_module": "@jupyter-widgets/base",
      "model_module_version": "1.2.0",
      "model_name": "LayoutModel",
      "state": {}
     },
     "0e363d1cf00c4983870af5a787e6a737": {
      "model_module": "@jupyter-widgets/controls",
      "model_module_version": "1.5.0",
      "model_name": "ProgressStyleModel",
      "state": {
       "description_width": "initial"
      }
     },
     "0ece08d869ce4009a3fa4e60951eaf85": {
      "model_module": "@jupyter-widgets/base",
      "model_module_version": "1.2.0",
      "model_name": "LayoutModel",
      "state": {}
     },
     "105f30f7efb246acbd40f09708e1d202": {
      "model_module": "@jupyter-widgets/controls",
      "model_module_version": "1.5.0",
      "model_name": "ProgressStyleModel",
      "state": {
       "description_width": "initial"
      }
     },
     "10694a476e0b4fd99590c807ec51b1ca": {
      "model_module": "@jupyter-widgets/controls",
      "model_module_version": "1.5.0",
      "model_name": "HTMLModel",
      "state": {
       "layout": "IPY_MODEL_a0ca20dd38c247b1a8d50f747023681d",
       "style": "IPY_MODEL_9600c9aac75b464996b40fd3ccf90296",
       "value": " 960/960 [00:35&lt;00:00, 27.15 batchs/s, lr=6.000, train_acc=74.792, train_loss=0.648, val_acc=86.496, val_loss=0.386]"
      }
     },
     "12d62f4ed7914d0abff08f4ec84ccb66": {
      "model_module": "@jupyter-widgets/controls",
      "model_module_version": "1.5.0",
      "model_name": "DescriptionStyleModel",
      "state": {
       "description_width": ""
      }
     },
     "1323ca053cdc467195d3acf51d3b8998": {
      "model_module": "@jupyter-widgets/controls",
      "model_module_version": "1.5.0",
      "model_name": "ProgressStyleModel",
      "state": {
       "description_width": "initial"
      }
     },
     "13ef838d403345a287aecf67aa10fe6b": {
      "model_module": "@jupyter-widgets/controls",
      "model_module_version": "1.5.0",
      "model_name": "FloatProgressModel",
      "state": {
       "bar_style": "success",
       "description": "Epoch 8: 100%",
       "layout": "IPY_MODEL_c5f6a8e0fd9740e1a42b3ab06e861685",
       "max": 960,
       "style": "IPY_MODEL_8825fc0f14c945bdafbb3b286260713d",
       "value": 960
      }
     },
     "14b6c43e28a94c6fb16d1ef2d6ae33ee": {
      "model_module": "@jupyter-widgets/base",
      "model_module_version": "1.2.0",
      "model_name": "LayoutModel",
      "state": {}
     },
     "15712a7a3f0e46388e8f3fbd8ee293fb": {
      "model_module": "@jupyter-widgets/controls",
      "model_module_version": "1.5.0",
      "model_name": "DescriptionStyleModel",
      "state": {
       "description_width": ""
      }
     },
     "18862ddd902f4cd0b2483488f4c2227b": {
      "model_module": "@jupyter-widgets/controls",
      "model_module_version": "1.5.0",
      "model_name": "FloatProgressModel",
      "state": {
       "bar_style": "success",
       "description": "Epoch 1: 100%",
       "layout": "IPY_MODEL_6dcfb56410a4487cb6e02253146c57fe",
       "max": 960,
       "style": "IPY_MODEL_9b0aefc85a434424b8c9cf7210667445",
       "value": 960
      }
     },
     "18ed80b6b112431eab9fc80258cdfea1": {
      "model_module": "@jupyter-widgets/controls",
      "model_module_version": "1.5.0",
      "model_name": "FloatProgressModel",
      "state": {
       "bar_style": "success",
       "description": "Epoch 26: 100%",
       "layout": "IPY_MODEL_78f43c83a2c7482abd8705c3f548fdc0",
       "max": 960,
       "style": "IPY_MODEL_4ceab48d56f34efcb979f69dfad3ad26",
       "value": 960
      }
     },
     "19fb76d2e7ed45af9664917a7df375cf": {
      "model_module": "@jupyter-widgets/controls",
      "model_module_version": "1.5.0",
      "model_name": "HBoxModel",
      "state": {
       "children": [
        "IPY_MODEL_5b15c2b1932243c5b65a090eee1f8ab8",
        "IPY_MODEL_c19837291cf54f87a959b4a165da5e22"
       ],
       "layout": "IPY_MODEL_d49298424c41453e921c51576f509a45"
      }
     },
     "1fcb2ed84b9242a28feac39810c625c0": {
      "model_module": "@jupyter-widgets/controls",
      "model_module_version": "1.5.0",
      "model_name": "HTMLModel",
      "state": {
       "layout": "IPY_MODEL_8fb8de1971ae42cca37b1d10c2b6bc81",
       "style": "IPY_MODEL_85fc01ed72c5471f9c2c4721f2a49623",
       "value": " 960/960 [00:04&lt;00:00, 195.86 batchs/s, lr=0.001, train_acc=99.181, train_loss=0.049, val_acc=90.550, val_loss=0.298]"
      }
     },
     "22a886fd13704d87a0be1667580dff31": {
      "model_module": "@jupyter-widgets/controls",
      "model_module_version": "1.5.0",
      "model_name": "ProgressStyleModel",
      "state": {
       "description_width": "initial"
      }
     },
     "2417293aaeb349ce97d6af831e8b0159": {
      "model_module": "@jupyter-widgets/controls",
      "model_module_version": "1.5.0",
      "model_name": "ProgressStyleModel",
      "state": {
       "description_width": "initial"
      }
     },
     "243e9c943eac428cb166a929a521e8f4": {
      "model_module": "@jupyter-widgets/controls",
      "model_module_version": "1.5.0",
      "model_name": "HBoxModel",
      "state": {
       "children": [
        "IPY_MODEL_7fa7982cc430435691563e70aa2c5d9a",
        "IPY_MODEL_26b6d08093d244eca4c6c9d020022c37"
       ],
       "layout": "IPY_MODEL_30ada39449e04b2388f1d46721896228"
      }
     },
     "254d78f9120848deac0ba996810cf189": {
      "model_module": "@jupyter-widgets/controls",
      "model_module_version": "1.5.0",
      "model_name": "ProgressStyleModel",
      "state": {
       "description_width": "initial"
      }
     },
     "26b6d08093d244eca4c6c9d020022c37": {
      "model_module": "@jupyter-widgets/controls",
      "model_module_version": "1.5.0",
      "model_name": "HTMLModel",
      "state": {
       "layout": "IPY_MODEL_a258312955f44289a9dce10794bb097d",
       "style": "IPY_MODEL_e2d1426cd4ab4381af7b9d7d9e0b5a1e",
       "value": " 960/960 [00:01&lt;00:00, 795.09 batchs/s, lr=0.001, train_acc=99.181, train_loss=0.049, val_acc=90.550, val_loss=0.298]"
      }
     },
     "28ccd438bab04e68b63c4e19ad175193": {
      "model_module": "@jupyter-widgets/controls",
      "model_module_version": "1.5.0",
      "model_name": "FloatProgressModel",
      "state": {
       "bar_style": "success",
       "description": "Epoch 12: 100%",
       "layout": "IPY_MODEL_56f08cce6fae4eef91fc5f1a8321d22c",
       "max": 960,
       "style": "IPY_MODEL_1323ca053cdc467195d3acf51d3b8998",
       "value": 960
      }
     },
     "2990d1f942c341b9a9248238a5cc053a": {
      "model_module": "@jupyter-widgets/controls",
      "model_module_version": "1.5.0",
      "model_name": "DescriptionStyleModel",
      "state": {
       "description_width": ""
      }
     },
     "29dbbfd9339248ef80e51d0d0d17ada4": {
      "model_module": "@jupyter-widgets/controls",
      "model_module_version": "1.5.0",
      "model_name": "FloatProgressModel",
      "state": {
       "bar_style": "success",
       "description": "Epoch 25: 100%",
       "layout": "IPY_MODEL_8c307cc8abf94254a76d78b450aaedb8",
       "max": 960,
       "style": "IPY_MODEL_972fc38126dd4aef9dbe4cfbccd7044d",
       "value": 960
      }
     },
     "2a906612d74c4f05a7bf1c433d3d9e81": {
      "model_module": "@jupyter-widgets/controls",
      "model_module_version": "1.5.0",
      "model_name": "FloatProgressModel",
      "state": {
       "bar_style": "success",
       "description": "Epoch 27: 100%",
       "layout": "IPY_MODEL_ed2c2f3d75dc47b1aa3d25b2461e7031",
       "max": 960,
       "style": "IPY_MODEL_105f30f7efb246acbd40f09708e1d202",
       "value": 960
      }
     },
     "2b7248d45c814464adfcae5bad14caa1": {
      "model_module": "@jupyter-widgets/controls",
      "model_module_version": "1.5.0",
      "model_name": "HBoxModel",
      "state": {
       "children": [
        "IPY_MODEL_e6f16eea42d14031ab306569825b3cff",
        "IPY_MODEL_c679077b51ff4752b3894e8f8a644296"
       ],
       "layout": "IPY_MODEL_a14c428d5c9c4990abb0d96ef99af7e1"
      }
     },
     "2c7d6de6e63f48289b0b39cd81d08248": {
      "model_module": "@jupyter-widgets/controls",
      "model_module_version": "1.5.0",
      "model_name": "FloatProgressModel",
      "state": {
       "description": "Epoch 20:  99%",
       "layout": "IPY_MODEL_9da37028a6884d62bc276de0a7e615e5",
       "max": 960,
       "style": "IPY_MODEL_9809453aca7a40a2985eec1324f1ec35",
       "value": 950
      }
     },
     "2c877875a8e34e32bca2176b1343ec8e": {
      "model_module": "@jupyter-widgets/controls",
      "model_module_version": "1.5.0",
      "model_name": "HBoxModel",
      "state": {
       "children": [
        "IPY_MODEL_72b836a8e8764d4f8d5e5fa46ee7377b",
        "IPY_MODEL_9459fdc07213406ca55751858c94ae49"
       ],
       "layout": "IPY_MODEL_4f0e02cab26a4b21bfec0ffd865aa0cc"
      }
     },
     "2c91f935281c4125870a23bae9bcc1cf": {
      "model_module": "@jupyter-widgets/controls",
      "model_module_version": "1.5.0",
      "model_name": "FloatProgressModel",
      "state": {
       "bar_style": "success",
       "description": "Epoch 15: 100%",
       "layout": "IPY_MODEL_9802c84cc63e48bbbca6a12becf53352",
       "max": 960,
       "style": "IPY_MODEL_a221d77ccfd64db58c22ddec357b9065",
       "value": 960
      }
     },
     "3030d71a89714e2c9bb1aec915dda7af": {
      "model_module": "@jupyter-widgets/base",
      "model_module_version": "1.2.0",
      "model_name": "LayoutModel",
      "state": {}
     },
     "30ada39449e04b2388f1d46721896228": {
      "model_module": "@jupyter-widgets/base",
      "model_module_version": "1.2.0",
      "model_name": "LayoutModel",
      "state": {}
     },
     "30f7f480c0a542c8a140804949de384c": {
      "model_module": "@jupyter-widgets/controls",
      "model_module_version": "1.5.0",
      "model_name": "DescriptionStyleModel",
      "state": {
       "description_width": ""
      }
     },
     "32197bdfb53548649008e862f2d664b6": {
      "model_module": "@jupyter-widgets/base",
      "model_module_version": "1.2.0",
      "model_name": "LayoutModel",
      "state": {}
     },
     "349dbf9671f44d3aab70764c5b7a458b": {
      "model_module": "@jupyter-widgets/controls",
      "model_module_version": "1.5.0",
      "model_name": "DescriptionStyleModel",
      "state": {
       "description_width": ""
      }
     },
     "34b4aa9cbd7b414ca86cf66fb120383d": {
      "model_module": "@jupyter-widgets/base",
      "model_module_version": "1.2.0",
      "model_name": "LayoutModel",
      "state": {}
     },
     "3505b42287b6461580805d48ac6e339b": {
      "model_module": "@jupyter-widgets/controls",
      "model_module_version": "1.5.0",
      "model_name": "HTMLModel",
      "state": {
       "layout": "IPY_MODEL_97002d1050e04eb0b495449d1dcb5af9",
       "style": "IPY_MODEL_e0d0c02fbeae4c439648247e0a756309",
       "value": " 960/960 [00:23&lt;00:00, 40.79 batchs/s, lr=1.046, train_acc=98.968, train_loss=0.055, val_acc=90.613, val_loss=0.297]"
      }
     },
     "3656deed55b14c8cac385b678b51ba8c": {
      "model_module": "@jupyter-widgets/base",
      "model_module_version": "1.2.0",
      "model_name": "LayoutModel",
      "state": {}
     },
     "3717797fc8914c58acc2495c8367bbaf": {
      "model_module": "@jupyter-widgets/controls",
      "model_module_version": "1.5.0",
      "model_name": "ProgressStyleModel",
      "state": {
       "description_width": "initial"
      }
     },
     "37e698f5dde4408b898a54de9d818192": {
      "model_module": "@jupyter-widgets/controls",
      "model_module_version": "1.5.0",
      "model_name": "ProgressStyleModel",
      "state": {
       "description_width": "initial"
      }
     },
     "3969faa4cbf54508b3baaec51261c8b5": {
      "model_module": "@jupyter-widgets/controls",
      "model_module_version": "1.5.0",
      "model_name": "DescriptionStyleModel",
      "state": {
       "description_width": ""
      }
     },
     "3a28e59096c5414d8b58a1cf188fc453": {
      "model_module": "@jupyter-widgets/base",
      "model_module_version": "1.2.0",
      "model_name": "LayoutModel",
      "state": {}
     },
     "3bfc60fd8a1d45d9b9efb17e3b0750bc": {
      "model_module": "@jupyter-widgets/controls",
      "model_module_version": "1.5.0",
      "model_name": "HTMLModel",
      "state": {
       "layout": "IPY_MODEL_3f967057eeb444f28f1acaedd1309047",
       "style": "IPY_MODEL_3969faa4cbf54508b3baaec51261c8b5",
       "value": " 960/960 [00:16&lt;00:00, 57.97 batchs/s, lr=0.016, train_acc=99.180, train_loss=0.049, val_acc=90.554, val_loss=0.298]"
      }
     },
     "3c64be78e8db4c35a830ed59764fb433": {
      "model_module": "@jupyter-widgets/base",
      "model_module_version": "1.2.0",
      "model_name": "LayoutModel",
      "state": {}
     },
     "3e66552010694c09bbab6f471b168df7": {
      "model_module": "@jupyter-widgets/base",
      "model_module_version": "1.2.0",
      "model_name": "LayoutModel",
      "state": {}
     },
     "3e82b95ec7d94d42b1d709d8d16c4fbc": {
      "model_module": "@jupyter-widgets/controls",
      "model_module_version": "1.5.0",
      "model_name": "HBoxModel",
      "state": {
       "children": [
        "IPY_MODEL_80ac2bbe1c3345c98b19bcd9398a20ad",
        "IPY_MODEL_04fcc5af9b8e4c6e97fa862130099c2a"
       ],
       "layout": "IPY_MODEL_e5c2c2b05fde418c9a404b5755c059c0"
      }
     },
     "3f41c1e0cbef4598aac06c4af2ae914f": {
      "model_module": "@jupyter-widgets/base",
      "model_module_version": "1.2.0",
      "model_name": "LayoutModel",
      "state": {}
     },
     "3f967057eeb444f28f1acaedd1309047": {
      "model_module": "@jupyter-widgets/base",
      "model_module_version": "1.2.0",
      "model_name": "LayoutModel",
      "state": {}
     },
     "40412565d7ec45b4801c3207bcdbd8e1": {
      "model_module": "@jupyter-widgets/base",
      "model_module_version": "1.2.0",
      "model_name": "LayoutModel",
      "state": {}
     },
     "40e5101454824f3ead5bdca4ad928d99": {
      "model_module": "@jupyter-widgets/controls",
      "model_module_version": "1.5.0",
      "model_name": "DescriptionStyleModel",
      "state": {
       "description_width": ""
      }
     },
     "41cd6ba203954d9a9d937d5735e66f47": {
      "model_module": "@jupyter-widgets/base",
      "model_module_version": "1.2.0",
      "model_name": "LayoutModel",
      "state": {}
     },
     "41f6939c49da46b7aa79ed4abc839229": {
      "model_module": "@jupyter-widgets/controls",
      "model_module_version": "1.5.0",
      "model_name": "DescriptionStyleModel",
      "state": {
       "description_width": ""
      }
     },
     "42adf309139f4ce9bc913a81459c9399": {
      "model_module": "@jupyter-widgets/controls",
      "model_module_version": "1.5.0",
      "model_name": "ProgressStyleModel",
      "state": {
       "description_width": "initial"
      }
     },
     "437afbc7ff754821b936b7d29285b206": {
      "model_module": "@jupyter-widgets/controls",
      "model_module_version": "1.5.0",
      "model_name": "ProgressStyleModel",
      "state": {
       "description_width": "initial"
      }
     },
     "43c1e5853a824172b01457d0eeb83382": {
      "model_module": "@jupyter-widgets/controls",
      "model_module_version": "1.5.0",
      "model_name": "HTMLModel",
      "state": {
       "layout": "IPY_MODEL_8b617f1bd46f4d388c5f4138d578662c",
       "style": "IPY_MODEL_96ea404eb2514fe0a616babf2e6842f4",
       "value": " 960/960 [00:20&lt;00:00, 47.84 batchs/s, lr=0.131, train_acc=99.150, train_loss=0.049, val_acc=90.592, val_loss=0.298]"
      }
     },
     "447e51c07a794c14b9084a160700e9ff": {
      "model_module": "@jupyter-widgets/controls",
      "model_module_version": "1.5.0",
      "model_name": "HTMLModel",
      "state": {
       "layout": "IPY_MODEL_32197bdfb53548649008e862f2d664b6",
       "style": "IPY_MODEL_906a5a69c49844eeaf6e400c5d6e70b0",
       "value": " 950/960 [00:01&lt;00:00, 829.22 batchs/s, lr=0.004, train_acc=99.204, train_loss=0.048, val_acc=90.867, val_loss=0.297]"
      }
     },
     "451d8d5e931d4c07bae4a8864b8de03c": {
      "model_module": "@jupyter-widgets/base",
      "model_module_version": "1.2.0",
      "model_name": "LayoutModel",
      "state": {}
     },
     "47b33616a1b64b0bbcb8053e3736875c": {
      "model_module": "@jupyter-widgets/controls",
      "model_module_version": "1.5.0",
      "model_name": "HBoxModel",
      "state": {
       "children": [
        "IPY_MODEL_18ed80b6b112431eab9fc80258cdfea1",
        "IPY_MODEL_7f419901ae2f4b34ad3c1536ae59bfa2"
       ],
       "layout": "IPY_MODEL_3c64be78e8db4c35a830ed59764fb433"
      }
     },
     "49f3300095db462987df1ec2987b237b": {
      "model_module": "@jupyter-widgets/base",
      "model_module_version": "1.2.0",
      "model_name": "LayoutModel",
      "state": {}
     },
     "49f76f1f333a40629adab436fe60f870": {
      "model_module": "@jupyter-widgets/controls",
      "model_module_version": "1.5.0",
      "model_name": "FloatProgressModel",
      "state": {
       "bar_style": "success",
       "description": "Epoch 13: 100%",
       "layout": "IPY_MODEL_4b6cfcb61fb24a58a789fd757f470793",
       "max": 960,
       "style": "IPY_MODEL_3717797fc8914c58acc2495c8367bbaf",
       "value": 960
      }
     },
     "4a1244b73bc543e68356fdc2ea36aad7": {
      "model_module": "@jupyter-widgets/controls",
      "model_module_version": "1.5.0",
      "model_name": "HTMLModel",
      "state": {
       "layout": "IPY_MODEL_c0da36a9f94b40eeb93e8376219ebab7",
       "style": "IPY_MODEL_7763f93ed6e64f279fb0da27a3c8a662",
       "value": " 960/960 [00:14&lt;00:00, 67.61 batchs/s, lr=0.004, train_acc=99.181, train_loss=0.049, val_acc=90.554, val_loss=0.298]"
      }
     },
     "4b1e91b1799b4f50a67fdeb021cb0e5b": {
      "model_module": "@jupyter-widgets/base",
      "model_module_version": "1.2.0",
      "model_name": "LayoutModel",
      "state": {}
     },
     "4b595c0b991a478bb5ed68ab4b20d51b": {
      "model_module": "@jupyter-widgets/base",
      "model_module_version": "1.2.0",
      "model_name": "LayoutModel",
      "state": {}
     },
     "4b6cfcb61fb24a58a789fd757f470793": {
      "model_module": "@jupyter-widgets/base",
      "model_module_version": "1.2.0",
      "model_name": "LayoutModel",
      "state": {}
     },
     "4b98afb7f17c45f4966bc985a57d0d07": {
      "model_module": "@jupyter-widgets/controls",
      "model_module_version": "1.5.0",
      "model_name": "HBoxModel",
      "state": {
       "children": [
        "IPY_MODEL_f84f33153ac44ba0963226f63eb0e47d",
        "IPY_MODEL_8db1a6da9b8b4eda81253fd3c34c8e9d"
       ],
       "layout": "IPY_MODEL_6a5186cbbe76483592436a35a1a5c3b0"
      }
     },
     "4bca5963f3f9439c876e01c430d8f8b8": {
      "model_module": "@jupyter-widgets/controls",
      "model_module_version": "1.5.0",
      "model_name": "HBoxModel",
      "state": {
       "children": [
        "IPY_MODEL_917ce8d6394b46509f96e596b4e4f2de",
        "IPY_MODEL_fd7a3f9febef4d5a9c41e5889a421312"
       ],
       "layout": "IPY_MODEL_4b1e91b1799b4f50a67fdeb021cb0e5b"
      }
     },
     "4ceab48d56f34efcb979f69dfad3ad26": {
      "model_module": "@jupyter-widgets/controls",
      "model_module_version": "1.5.0",
      "model_name": "ProgressStyleModel",
      "state": {
       "description_width": "initial"
      }
     },
     "4e61f71cdab44a78b5ff27f3dad2bea5": {
      "model_module": "@jupyter-widgets/controls",
      "model_module_version": "1.5.0",
      "model_name": "HTMLModel",
      "state": {
       "layout": "IPY_MODEL_e0a42c090f29445cbf23d3c267d70b1e",
       "style": "IPY_MODEL_6cc24d43a7084b78a373df618cd3b452",
       "value": " 960/960 [00:28&lt;00:00, 34.07 batchs/s, lr=3.189, train_acc=97.268, train_loss=0.103, val_acc=90.379, val_loss=0.291]"
      }
     },
     "4f0e02cab26a4b21bfec0ffd865aa0cc": {
      "model_module": "@jupyter-widgets/base",
      "model_module_version": "1.2.0",
      "model_name": "LayoutModel",
      "state": {}
     },
     "4f88c034b5d14a08a2c85ce87bdce100": {
      "model_module": "@jupyter-widgets/base",
      "model_module_version": "1.2.0",
      "model_name": "LayoutModel",
      "state": {}
     },
     "4faacf6586604d7cbeabf2a9f2c7f403": {
      "model_module": "@jupyter-widgets/base",
      "model_module_version": "1.2.0",
      "model_name": "LayoutModel",
      "state": {}
     },
     "50c165750c9d4fc5ac2a53e067bec24e": {
      "model_module": "@jupyter-widgets/controls",
      "model_module_version": "1.5.0",
      "model_name": "ProgressStyleModel",
      "state": {
       "description_width": "initial"
      }
     },
     "531ab4fb011e4b9dbb15e6f65889137d": {
      "model_module": "@jupyter-widgets/base",
      "model_module_version": "1.2.0",
      "model_name": "LayoutModel",
      "state": {}
     },
     "54aa2b4c64ba4c2dab98b88113fb3c01": {
      "model_module": "@jupyter-widgets/controls",
      "model_module_version": "1.5.0",
      "model_name": "DescriptionStyleModel",
      "state": {
       "description_width": ""
      }
     },
     "55a148f1d1904339a76f0fb536399ac3": {
      "model_module": "@jupyter-widgets/controls",
      "model_module_version": "1.5.0",
      "model_name": "DescriptionStyleModel",
      "state": {
       "description_width": ""
      }
     },
     "565662125d3f4a80b9a2ccbd58d3d14a": {
      "model_module": "@jupyter-widgets/controls",
      "model_module_version": "1.5.0",
      "model_name": "ProgressStyleModel",
      "state": {
       "description_width": "initial"
      }
     },
     "565f395c50e34263a9b8d45d2b0d6039": {
      "model_module": "@jupyter-widgets/controls",
      "model_module_version": "1.5.0",
      "model_name": "DescriptionStyleModel",
      "state": {
       "description_width": ""
      }
     },
     "56a498453db645918ff9c9401bf46e3f": {
      "model_module": "@jupyter-widgets/controls",
      "model_module_version": "1.5.0",
      "model_name": "FloatProgressModel",
      "state": {
       "bar_style": "success",
       "description": "Epoch 17: 100%",
       "layout": "IPY_MODEL_451d8d5e931d4c07bae4a8864b8de03c",
       "max": 960,
       "style": "IPY_MODEL_dca30b0765f14e528024f6cf716b0b55",
       "value": 960
      }
     },
     "56f08cce6fae4eef91fc5f1a8321d22c": {
      "model_module": "@jupyter-widgets/base",
      "model_module_version": "1.2.0",
      "model_name": "LayoutModel",
      "state": {}
     },
     "58565017e2a442e699123471b5876005": {
      "model_module": "@jupyter-widgets/controls",
      "model_module_version": "1.5.0",
      "model_name": "HTMLModel",
      "state": {
       "layout": "IPY_MODEL_ef2d6c735eaa4a1b8a4244f1a203c8a1",
       "style": "IPY_MODEL_41f6939c49da46b7aa79ed4abc839229",
       "value": " 960/960 [00:08&lt;00:00, 114.06 batchs/s, lr=0.001, train_acc=99.181, train_loss=0.049, val_acc=90.550, val_loss=0.298]"
      }
     },
     "58e41744a2884258afd61a7916d8fa5c": {
      "model_module": "@jupyter-widgets/controls",
      "model_module_version": "1.5.0",
      "model_name": "FloatProgressModel",
      "state": {
       "bar_style": "success",
       "description": "Epoch 18: 100%",
       "layout": "IPY_MODEL_791859c2631f480181d5bdb2f27fd5b8",
       "max": 960,
       "style": "IPY_MODEL_a93736dbefe64a76b683ca6f7ab46c87",
       "value": 960
      }
     },
     "594ef5ad7f37463b8914568377e48ca0": {
      "model_module": "@jupyter-widgets/controls",
      "model_module_version": "1.5.0",
      "model_name": "FloatProgressModel",
      "state": {
       "bar_style": "success",
       "description": "Epoch 9: 100%",
       "layout": "IPY_MODEL_5cb79f03ca344457ac2da25943d32889",
       "max": 960,
       "style": "IPY_MODEL_42adf309139f4ce9bc913a81459c9399",
       "value": 960
      }
     },
     "59dfde035822401c94254075e4707768": {
      "model_module": "@jupyter-widgets/base",
      "model_module_version": "1.2.0",
      "model_name": "LayoutModel",
      "state": {}
     },
     "5a65fce046d24021a100b3b3e79933ef": {
      "model_module": "@jupyter-widgets/controls",
      "model_module_version": "1.5.0",
      "model_name": "HBoxModel",
      "state": {
       "children": [
        "IPY_MODEL_a289117ef9a24afaaf3c7ae4fa995722",
        "IPY_MODEL_d6bcfc73df874d21945297b325c9137e"
       ],
       "layout": "IPY_MODEL_8f856df5b02f4507bd47c3e6f2609c30"
      }
     },
     "5a7f91828e5d441cbdb31db3f5528b3e": {
      "model_module": "@jupyter-widgets/controls",
      "model_module_version": "1.5.0",
      "model_name": "HBoxModel",
      "state": {
       "children": [
        "IPY_MODEL_e298fd7ab8c44831a807bf56efc50cb3",
        "IPY_MODEL_8fc203ac17744601b41f1336c8d824c2"
       ],
       "layout": "IPY_MODEL_d3bf879241f5443482c21aa3c1bb6abe"
      }
     },
     "5a8a3eb77f684015a6291389163d50eb": {
      "model_module": "@jupyter-widgets/controls",
      "model_module_version": "1.5.0",
      "model_name": "HBoxModel",
      "state": {
       "children": [
        "IPY_MODEL_64551315815c4508bc437d5460a7fb50",
        "IPY_MODEL_d358812442b0480a9bfc442b8975ee8f"
       ],
       "layout": "IPY_MODEL_09dacc9951d447589fd7ebd5b6828aef"
      }
     },
     "5aaa3eb5a85c4e1799cb425ededff1d5": {
      "model_module": "@jupyter-widgets/controls",
      "model_module_version": "1.5.0",
      "model_name": "ProgressStyleModel",
      "state": {
       "description_width": "initial"
      }
     },
     "5b15c2b1932243c5b65a090eee1f8ab8": {
      "model_module": "@jupyter-widgets/controls",
      "model_module_version": "1.5.0",
      "model_name": "FloatProgressModel",
      "state": {
       "bar_style": "success",
       "description": "100%",
       "layout": "IPY_MODEL_c497fb5035f74c75aae487db882ac2fd",
       "max": 30,
       "style": "IPY_MODEL_e203883857a3498f9a1b46ff555710e1",
       "value": 30
      }
     },
     "5c58283866c74cb288e28bbcd33f2d05": {
      "model_module": "@jupyter-widgets/base",
      "model_module_version": "1.2.0",
      "model_name": "LayoutModel",
      "state": {}
     },
     "5cb79f03ca344457ac2da25943d32889": {
      "model_module": "@jupyter-widgets/base",
      "model_module_version": "1.2.0",
      "model_name": "LayoutModel",
      "state": {}
     },
     "5d248d07d935445289bea0cf9a2f94a3": {
      "model_module": "@jupyter-widgets/controls",
      "model_module_version": "1.5.0",
      "model_name": "HTMLModel",
      "state": {
       "layout": "IPY_MODEL_e9a21a0614f94ab099312098adbc48a6",
       "style": "IPY_MODEL_d42fb638c7cf4868b6ec21bbe88592c6",
       "value": " 960/960 [00:22&lt;00:00, 42.90 batchs/s, lr=0.523, train_acc=99.085, train_loss=0.052, val_acc=90.592, val_loss=0.297]"
      }
     },
     "5e7c1e148f344ec3aa1f9e84d8f8a35d": {
      "model_module": "@jupyter-widgets/base",
      "model_module_version": "1.2.0",
      "model_name": "LayoutModel",
      "state": {}
     },
     "5fbfac6a7bed4e9a85d42511caa6fb49": {
      "model_module": "@jupyter-widgets/base",
      "model_module_version": "1.2.0",
      "model_name": "LayoutModel",
      "state": {}
     },
     "60067626961e4ed1a2c0e6682801cb34": {
      "model_module": "@jupyter-widgets/base",
      "model_module_version": "1.2.0",
      "model_name": "LayoutModel",
      "state": {}
     },
     "60d200509fca476c82f0b6a1b1f62a80": {
      "model_module": "@jupyter-widgets/controls",
      "model_module_version": "1.5.0",
      "model_name": "HBoxModel",
      "state": {
       "children": [
        "IPY_MODEL_c3ba14e430134427b39202c7d002281c",
        "IPY_MODEL_65b62e2efbda42fe89a5d60f95b7675f"
       ],
       "layout": "IPY_MODEL_d7f4cefa4e184cdc95df7e269332e1d5"
      }
     },
     "61a82be8703848f4967a51cac831ac46": {
      "model_module": "@jupyter-widgets/controls",
      "model_module_version": "1.5.0",
      "model_name": "HBoxModel",
      "state": {
       "children": [
        "IPY_MODEL_2c91f935281c4125870a23bae9bcc1cf",
        "IPY_MODEL_f1b4de39641a46c89c9578c1537f353b"
       ],
       "layout": "IPY_MODEL_f53dba8792d6426fb6556c8b6e892758"
      }
     },
     "61c124626f70474f81c69506dcf317ef": {
      "model_module": "@jupyter-widgets/controls",
      "model_module_version": "1.5.0",
      "model_name": "HBoxModel",
      "state": {
       "children": [
        "IPY_MODEL_594ef5ad7f37463b8914568377e48ca0",
        "IPY_MODEL_dac48d6cb5b345e2bcedd52ed803f35b"
       ],
       "layout": "IPY_MODEL_ca85b55c70b7442d9f81b09dedbdf136"
      }
     },
     "6211e95119b64420983d54e3e12cb102": {
      "model_module": "@jupyter-widgets/base",
      "model_module_version": "1.2.0",
      "model_name": "LayoutModel",
      "state": {}
     },
     "6380bd80892445c6813bf8be65c6c4e0": {
      "model_module": "@jupyter-widgets/controls",
      "model_module_version": "1.5.0",
      "model_name": "DescriptionStyleModel",
      "state": {
       "description_width": ""
      }
     },
     "643549474da4410f9cc328301258f7b0": {
      "model_module": "@jupyter-widgets/base",
      "model_module_version": "1.2.0",
      "model_name": "LayoutModel",
      "state": {}
     },
     "64551315815c4508bc437d5460a7fb50": {
      "model_module": "@jupyter-widgets/controls",
      "model_module_version": "1.5.0",
      "model_name": "FloatProgressModel",
      "state": {
       "bar_style": "success",
       "description": "Epoch 28: 100%",
       "layout": "IPY_MODEL_3a28e59096c5414d8b58a1cf188fc453",
       "max": 960,
       "style": "IPY_MODEL_ba3b140047234e2bb1dc527a4a933ca7",
       "value": 960
      }
     },
     "64a60b4ac7ba4f99b5e52a5f71850e17": {
      "model_module": "@jupyter-widgets/controls",
      "model_module_version": "1.5.0",
      "model_name": "DescriptionStyleModel",
      "state": {
       "description_width": ""
      }
     },
     "65b62e2efbda42fe89a5d60f95b7675f": {
      "model_module": "@jupyter-widgets/controls",
      "model_module_version": "1.5.0",
      "model_name": "HTMLModel",
      "state": {
       "layout": "IPY_MODEL_49f3300095db462987df1ec2987b237b",
       "style": "IPY_MODEL_30f7f480c0a542c8a140804949de384c",
       "value": " 960/960 [00:09&lt;00:00, 100.22 batchs/s, lr=0.001, train_acc=99.181, train_loss=0.049, val_acc=90.550, val_loss=0.298]"
      }
     },
     "65ca2d968f70470189e7564b051062bc": {
      "model_module": "@jupyter-widgets/base",
      "model_module_version": "1.2.0",
      "model_name": "LayoutModel",
      "state": {}
     },
     "67d58c6ca8ef4634a182a0b91130ced3": {
      "model_module": "@jupyter-widgets/base",
      "model_module_version": "1.2.0",
      "model_name": "LayoutModel",
      "state": {}
     },
     "6a5186cbbe76483592436a35a1a5c3b0": {
      "model_module": "@jupyter-widgets/base",
      "model_module_version": "1.2.0",
      "model_name": "LayoutModel",
      "state": {}
     },
     "6ca4beec660746a3b98f2e6cfe179330": {
      "model_module": "@jupyter-widgets/base",
      "model_module_version": "1.2.0",
      "model_name": "LayoutModel",
      "state": {}
     },
     "6cc24d43a7084b78a373df618cd3b452": {
      "model_module": "@jupyter-widgets/controls",
      "model_module_version": "1.5.0",
      "model_name": "DescriptionStyleModel",
      "state": {
       "description_width": ""
      }
     },
     "6cd750606bbb47c6ad632a045fb9e695": {
      "model_module": "@jupyter-widgets/controls",
      "model_module_version": "1.5.0",
      "model_name": "ProgressStyleModel",
      "state": {
       "description_width": "initial"
      }
     },
     "6cea59286e9c4a889fe39318d9085a3a": {
      "model_module": "@jupyter-widgets/base",
      "model_module_version": "1.2.0",
      "model_name": "LayoutModel",
      "state": {}
     },
     "6dcfb56410a4487cb6e02253146c57fe": {
      "model_module": "@jupyter-widgets/base",
      "model_module_version": "1.2.0",
      "model_name": "LayoutModel",
      "state": {}
     },
     "6ebae06dbec0428c9d957f96f497f98d": {
      "model_module": "@jupyter-widgets/controls",
      "model_module_version": "1.5.0",
      "model_name": "ProgressStyleModel",
      "state": {
       "description_width": "initial"
      }
     },
     "702963945317450789329d92e5f8c2d7": {
      "model_module": "@jupyter-widgets/controls",
      "model_module_version": "1.5.0",
      "model_name": "HBoxModel",
      "state": {
       "children": [
        "IPY_MODEL_2a906612d74c4f05a7bf1c433d3d9e81",
        "IPY_MODEL_1fcb2ed84b9242a28feac39810c625c0"
       ],
       "layout": "IPY_MODEL_baf253b0076649b3ab5ec177c8d8a912"
      }
     },
     "72b836a8e8764d4f8d5e5fa46ee7377b": {
      "model_module": "@jupyter-widgets/controls",
      "model_module_version": "1.5.0",
      "model_name": "FloatProgressModel",
      "state": {
       "bar_style": "success",
       "description": "Epoch 6: 100%",
       "layout": "IPY_MODEL_c365b4b8664e4c238eb932adc41c069d",
       "max": 960,
       "style": "IPY_MODEL_5aaa3eb5a85c4e1799cb425ededff1d5",
       "value": 960
      }
     },
     "74fb7f19b5574ff98c4fe4e5b6ab0590": {
      "model_module": "@jupyter-widgets/controls",
      "model_module_version": "1.5.0",
      "model_name": "HBoxModel",
      "state": {
       "children": [
        "IPY_MODEL_28ccd438bab04e68b63c4e19ad175193",
        "IPY_MODEL_5d248d07d935445289bea0cf9a2f94a3"
       ],
       "layout": "IPY_MODEL_643549474da4410f9cc328301258f7b0"
      }
     },
     "756a7d241d1f4b849ace651e3904c942": {
      "model_module": "@jupyter-widgets/controls",
      "model_module_version": "1.5.0",
      "model_name": "ProgressStyleModel",
      "state": {
       "description_width": "initial"
      }
     },
     "75a47565b76f452fa625b604c8946bce": {
      "model_module": "@jupyter-widgets/controls",
      "model_module_version": "1.5.0",
      "model_name": "FloatProgressModel",
      "state": {
       "bar_style": "success",
       "description": "Epoch 14: 100%",
       "layout": "IPY_MODEL_f41e112e464245d8978a10cee61dd200",
       "max": 960,
       "style": "IPY_MODEL_6ebae06dbec0428c9d957f96f497f98d",
       "value": 960
      }
     },
     "75d7ccd2e28848b09487139ab9e5c7b3": {
      "model_module": "@jupyter-widgets/base",
      "model_module_version": "1.2.0",
      "model_name": "LayoutModel",
      "state": {}
     },
     "7763f93ed6e64f279fb0da27a3c8a662": {
      "model_module": "@jupyter-widgets/controls",
      "model_module_version": "1.5.0",
      "model_name": "DescriptionStyleModel",
      "state": {
       "description_width": ""
      }
     },
     "780d027ae0d847a4b3edd06c3d50b4ed": {
      "model_module": "@jupyter-widgets/controls",
      "model_module_version": "1.5.0",
      "model_name": "HTMLModel",
      "state": {
       "layout": "IPY_MODEL_f3aba666a0754ab2872a49e7c976c231",
       "style": "IPY_MODEL_e887866892dc4a28ae2af2de7caa5470",
       "value": " 960/960 [00:13&lt;00:00, 73.59 batchs/s, lr=0.002, train_acc=99.181, train_loss=0.049, val_acc=90.554, val_loss=0.298]"
      }
     },
     "78f43c83a2c7482abd8705c3f548fdc0": {
      "model_module": "@jupyter-widgets/base",
      "model_module_version": "1.2.0",
      "model_name": "LayoutModel",
      "state": {}
     },
     "791859c2631f480181d5bdb2f27fd5b8": {
      "model_module": "@jupyter-widgets/base",
      "model_module_version": "1.2.0",
      "model_name": "LayoutModel",
      "state": {}
     },
     "7c2be4a038b84c649a2986edd5d13f88": {
      "model_module": "@jupyter-widgets/controls",
      "model_module_version": "1.5.0",
      "model_name": "DescriptionStyleModel",
      "state": {
       "description_width": ""
      }
     },
     "7cdbf03d134c46b689fd327d0c6c3a63": {
      "model_module": "@jupyter-widgets/base",
      "model_module_version": "1.2.0",
      "model_name": "LayoutModel",
      "state": {}
     },
     "7df5a2b7ca7a49148a8c70571bcd91fb": {
      "model_module": "@jupyter-widgets/controls",
      "model_module_version": "1.5.0",
      "model_name": "ProgressStyleModel",
      "state": {
       "description_width": "initial"
      }
     },
     "7f419901ae2f4b34ad3c1536ae59bfa2": {
      "model_module": "@jupyter-widgets/controls",
      "model_module_version": "1.5.0",
      "model_name": "HTMLModel",
      "state": {
       "layout": "IPY_MODEL_59dfde035822401c94254075e4707768",
       "style": "IPY_MODEL_875406a489f34059bf561125410db698",
       "value": " 960/960 [00:06&lt;00:00, 158.03 batchs/s, lr=0.001, train_acc=99.181, train_loss=0.049, val_acc=90.550, val_loss=0.298]"
      }
     },
     "7fa7982cc430435691563e70aa2c5d9a": {
      "model_module": "@jupyter-widgets/controls",
      "model_module_version": "1.5.0",
      "model_name": "FloatProgressModel",
      "state": {
       "bar_style": "success",
       "description": "Epoch 30: 100%",
       "layout": "IPY_MODEL_f47b266757354408bd9f7d04337fef2f",
       "max": 960,
       "style": "IPY_MODEL_b7bacaa998fb49088fb8eb809061f786",
       "value": 960
      }
     },
     "8030a65844a649cfb7c0bc038e72efbf": {
      "model_module": "@jupyter-widgets/controls",
      "model_module_version": "1.5.0",
      "model_name": "ProgressStyleModel",
      "state": {
       "description_width": "initial"
      }
     },
     "80ac2bbe1c3345c98b19bcd9398a20ad": {
      "model_module": "@jupyter-widgets/controls",
      "model_module_version": "1.5.0",
      "model_name": "FloatProgressModel",
      "state": {
       "bar_style": "success",
       "description": "Epoch 5: 100%",
       "layout": "IPY_MODEL_65ca2d968f70470189e7564b051062bc",
       "max": 960,
       "style": "IPY_MODEL_a9fbbc35219f4fbaa0a75f529d06e51a",
       "value": 960
      }
     },
     "81ce29c4031e468bbc51a9eb359a9782": {
      "model_module": "@jupyter-widgets/controls",
      "model_module_version": "1.5.0",
      "model_name": "HTMLModel",
      "state": {
       "layout": "IPY_MODEL_3030d71a89714e2c9bb1aec915dda7af",
       "style": "IPY_MODEL_8860dcb393d14dfd94dd4a1088b55f9d",
       "value": " 960/960 [00:31&lt;00:00, 30.28 batchs/s, lr=4.374, train_acc=94.145, train_loss=0.187, val_acc=90.058, val_loss=0.293]"
      }
     },
     "8528fa55eeb24135a58395f8680a7961": {
      "model_module": "@jupyter-widgets/base",
      "model_module_version": "1.2.0",
      "model_name": "LayoutModel",
      "state": {}
     },
     "85fc01ed72c5471f9c2c4721f2a49623": {
      "model_module": "@jupyter-widgets/controls",
      "model_module_version": "1.5.0",
      "model_name": "DescriptionStyleModel",
      "state": {
       "description_width": ""
      }
     },
     "875406a489f34059bf561125410db698": {
      "model_module": "@jupyter-widgets/controls",
      "model_module_version": "1.5.0",
      "model_name": "DescriptionStyleModel",
      "state": {
       "description_width": ""
      }
     },
     "8825fc0f14c945bdafbb3b286260713d": {
      "model_module": "@jupyter-widgets/controls",
      "model_module_version": "1.5.0",
      "model_name": "ProgressStyleModel",
      "state": {
       "description_width": "initial"
      }
     },
     "8860dcb393d14dfd94dd4a1088b55f9d": {
      "model_module": "@jupyter-widgets/controls",
      "model_module_version": "1.5.0",
      "model_name": "DescriptionStyleModel",
      "state": {
       "description_width": ""
      }
     },
     "89fe9a6fe37a41e092b1f4dc60df508a": {
      "model_module": "@jupyter-widgets/controls",
      "model_module_version": "1.5.0",
      "model_name": "DescriptionStyleModel",
      "state": {
       "description_width": ""
      }
     },
     "8b617f1bd46f4d388c5f4138d578662c": {
      "model_module": "@jupyter-widgets/base",
      "model_module_version": "1.2.0",
      "model_name": "LayoutModel",
      "state": {}
     },
     "8c307cc8abf94254a76d78b450aaedb8": {
      "model_module": "@jupyter-widgets/base",
      "model_module_version": "1.2.0",
      "model_name": "LayoutModel",
      "state": {}
     },
     "8d9f4b4763cc478884c59255bb73509e": {
      "model_module": "@jupyter-widgets/controls",
      "model_module_version": "1.5.0",
      "model_name": "HTMLModel",
      "state": {
       "layout": "IPY_MODEL_b5cbe1234a634b7cb2a5ca857a7103e1",
       "style": "IPY_MODEL_f6926717eb774d379e7a8e7e0414e42c",
       "value": " 960/960 [00:15&lt;00:00, 62.45 batchs/s, lr=0.008, train_acc=99.180, train_loss=0.049, val_acc=90.554, val_loss=0.298]"
      }
     },
     "8db1a6da9b8b4eda81253fd3c34c8e9d": {
      "model_module": "@jupyter-widgets/controls",
      "model_module_version": "1.5.0",
      "model_name": "HTMLModel",
      "state": {
       "layout": "IPY_MODEL_40412565d7ec45b4801c3207bcdbd8e1",
       "style": "IPY_MODEL_c6a72a084622475ba5c4e6232cd1138d",
       "value": " 960/960 [00:17&lt;00:00, 54.12 batchs/s, lr=0.033, train_acc=99.174, train_loss=0.049, val_acc=90.583, val_loss=0.298]"
      }
     },
     "8f856df5b02f4507bd47c3e6f2609c30": {
      "model_module": "@jupyter-widgets/base",
      "model_module_version": "1.2.0",
      "model_name": "LayoutModel",
      "state": {}
     },
     "8fb8de1971ae42cca37b1d10c2b6bc81": {
      "model_module": "@jupyter-widgets/base",
      "model_module_version": "1.2.0",
      "model_name": "LayoutModel",
      "state": {}
     },
     "8fc203ac17744601b41f1336c8d824c2": {
      "model_module": "@jupyter-widgets/controls",
      "model_module_version": "1.5.0",
      "model_name": "HTMLModel",
      "state": {
       "layout": "IPY_MODEL_d8b8e54a0fe24092a47dd0c64c8d4a54",
       "style": "IPY_MODEL_0915defc50a7465db0a0728fecf4d3bf",
       "value": " 950/960 [00:01&lt;00:00, 989.70 batchs/s, lr=0.008, train_acc=99.205, train_loss=0.048, val_acc=90.863, val_loss=0.297]"
      }
     },
     "906a5a69c49844eeaf6e400c5d6e70b0": {
      "model_module": "@jupyter-widgets/controls",
      "model_module_version": "1.5.0",
      "model_name": "DescriptionStyleModel",
      "state": {
       "description_width": ""
      }
     },
     "917ce8d6394b46509f96e596b4e4f2de": {
      "model_module": "@jupyter-widgets/controls",
      "model_module_version": "1.5.0",
      "model_name": "FloatProgressModel",
      "state": {
       "description": "Epoch 21:  71%",
       "layout": "IPY_MODEL_f2428b681cab440087628857490cd520",
       "max": 960,
       "style": "IPY_MODEL_d662770e50434dfd996d77ca3c63abe0",
       "value": 680
      }
     },
     "91fdec24f3334571985499732613200e": {
      "model_module": "@jupyter-widgets/controls",
      "model_module_version": "1.5.0",
      "model_name": "HBoxModel",
      "state": {
       "children": [
        "IPY_MODEL_019a284a68ab4e38a929c078604350ab",
        "IPY_MODEL_81ce29c4031e468bbc51a9eb359a9782"
       ],
       "layout": "IPY_MODEL_eae6caaf683d47e29492907d07da2bbd"
      }
     },
     "9459fdc07213406ca55751858c94ae49": {
      "model_module": "@jupyter-widgets/controls",
      "model_module_version": "1.5.0",
      "model_name": "HTMLModel",
      "state": {
       "layout": "IPY_MODEL_abb13c40d5554a62afda91c95d549207",
       "style": "IPY_MODEL_2990d1f942c341b9a9248238a5cc053a",
       "value": " 960/960 [00:29&lt;00:00, 32.72 batchs/s, lr=3.543, train_acc=96.453, train_loss=0.125, val_acc=90.300, val_loss=0.290]"
      }
     },
     "94c98be5dfa247d2bbdf1e1290c7f2ec": {
      "model_module": "@jupyter-widgets/controls",
      "model_module_version": "1.5.0",
      "model_name": "FloatProgressModel",
      "state": {
       "bar_style": "success",
       "description": "Epoch 10: 100%",
       "layout": "IPY_MODEL_0d3130129abd4769bd5c09f3b438c7dc",
       "max": 960,
       "style": "IPY_MODEL_565662125d3f4a80b9a2ccbd58d3d14a",
       "value": 960
      }
     },
     "9600c9aac75b464996b40fd3ccf90296": {
      "model_module": "@jupyter-widgets/controls",
      "model_module_version": "1.5.0",
      "model_name": "DescriptionStyleModel",
      "state": {
       "description_width": ""
      }
     },
     "96641ed1bfd04e48baaec7978df44cb6": {
      "model_module": "@jupyter-widgets/controls",
      "model_module_version": "1.5.0",
      "model_name": "HBoxModel",
      "state": {
       "children": [
        "IPY_MODEL_0285c979c8024caf94b0a2ea9891e825",
        "IPY_MODEL_780d027ae0d847a4b3edd06c3d50b4ed"
       ],
       "layout": "IPY_MODEL_9b295ce934c44417a87eff496bec428c"
      }
     },
     "96ea404eb2514fe0a616babf2e6842f4": {
      "model_module": "@jupyter-widgets/controls",
      "model_module_version": "1.5.0",
      "model_name": "DescriptionStyleModel",
      "state": {
       "description_width": ""
      }
     },
     "97002d1050e04eb0b495449d1dcb5af9": {
      "model_module": "@jupyter-widgets/base",
      "model_module_version": "1.2.0",
      "model_name": "LayoutModel",
      "state": {}
     },
     "972fc38126dd4aef9dbe4cfbccd7044d": {
      "model_module": "@jupyter-widgets/controls",
      "model_module_version": "1.5.0",
      "model_name": "ProgressStyleModel",
      "state": {
       "description_width": "initial"
      }
     },
     "9802c84cc63e48bbbca6a12becf53352": {
      "model_module": "@jupyter-widgets/base",
      "model_module_version": "1.2.0",
      "model_name": "LayoutModel",
      "state": {}
     },
     "9809453aca7a40a2985eec1324f1ec35": {
      "model_module": "@jupyter-widgets/controls",
      "model_module_version": "1.5.0",
      "model_name": "ProgressStyleModel",
      "state": {
       "description_width": "initial"
      }
     },
     "9b0aefc85a434424b8c9cf7210667445": {
      "model_module": "@jupyter-widgets/controls",
      "model_module_version": "1.5.0",
      "model_name": "ProgressStyleModel",
      "state": {
       "description_width": "initial"
      }
     },
     "9b295ce934c44417a87eff496bec428c": {
      "model_module": "@jupyter-widgets/base",
      "model_module_version": "1.2.0",
      "model_name": "LayoutModel",
      "state": {}
     },
     "9caeb6b1783842ee8583d8857806954e": {
      "model_module": "@jupyter-widgets/controls",
      "model_module_version": "1.5.0",
      "model_name": "FloatProgressModel",
      "state": {
       "bar_style": "success",
       "description": "Epoch 11: 100%",
       "layout": "IPY_MODEL_bb223c57398e4a2888e1acdfdb7eea08",
       "max": 960,
       "style": "IPY_MODEL_254d78f9120848deac0ba996810cf189",
       "value": 960
      }
     },
     "9da37028a6884d62bc276de0a7e615e5": {
      "model_module": "@jupyter-widgets/base",
      "model_module_version": "1.2.0",
      "model_name": "LayoutModel",
      "state": {}
     },
     "9e604f2d415748dc9da2198c12b20ef7": {
      "model_module": "@jupyter-widgets/base",
      "model_module_version": "1.2.0",
      "model_name": "LayoutModel",
      "state": {}
     },
     "9f44ac1699e245b3a5818207aba11d98": {
      "model_module": "@jupyter-widgets/base",
      "model_module_version": "1.2.0",
      "model_name": "LayoutModel",
      "state": {}
     },
     "9ff06aa80a694ff28a844cec5e4ce955": {
      "model_module": "@jupyter-widgets/controls",
      "model_module_version": "1.5.0",
      "model_name": "HTMLModel",
      "state": {
       "layout": "IPY_MODEL_c7fe81923bfa492b8c32ec66dc6c51bc",
       "style": "IPY_MODEL_12d62f4ed7914d0abff08f4ec84ccb66",
       "value": " 960/960 [00:24&lt;00:00, 38.87 batchs/s, lr=2.325, train_acc=98.674, train_loss=0.064, val_acc=90.487, val_loss=0.297]"
      }
     },
     "a08733df48d64d589af584e28cb148ef": {
      "model_module": "@jupyter-widgets/base",
      "model_module_version": "1.2.0",
      "model_name": "LayoutModel",
      "state": {}
     },
     "a0ca20dd38c247b1a8d50f747023681d": {
      "model_module": "@jupyter-widgets/base",
      "model_module_version": "1.2.0",
      "model_name": "LayoutModel",
      "state": {}
     },
     "a14c428d5c9c4990abb0d96ef99af7e1": {
      "model_module": "@jupyter-widgets/base",
      "model_module_version": "1.2.0",
      "model_name": "LayoutModel",
      "state": {}
     },
     "a221d77ccfd64db58c22ddec357b9065": {
      "model_module": "@jupyter-widgets/controls",
      "model_module_version": "1.5.0",
      "model_name": "ProgressStyleModel",
      "state": {
       "description_width": "initial"
      }
     },
     "a258312955f44289a9dce10794bb097d": {
      "model_module": "@jupyter-widgets/base",
      "model_module_version": "1.2.0",
      "model_name": "LayoutModel",
      "state": {}
     },
     "a289117ef9a24afaaf3c7ae4fa995722": {
      "model_module": "@jupyter-widgets/controls",
      "model_module_version": "1.5.0",
      "model_name": "FloatProgressModel",
      "state": {
       "bar_style": "success",
       "description": "Epoch 2: 100%",
       "layout": "IPY_MODEL_9f44ac1699e245b3a5818207aba11d98",
       "max": 960,
       "style": "IPY_MODEL_37e698f5dde4408b898a54de9d818192",
       "value": 960
      }
     },
     "a43f53ea1637465a9745d63d22c77b46": {
      "model_module": "@jupyter-widgets/base",
      "model_module_version": "1.2.0",
      "model_name": "LayoutModel",
      "state": {}
     },
     "a62ff4b368ed4770ae77359e07fa91a8": {
      "model_module": "@jupyter-widgets/controls",
      "model_module_version": "1.5.0",
      "model_name": "ProgressStyleModel",
      "state": {
       "description_width": "initial"
      }
     },
     "a87f91ee33e84a38847c7af859335435": {
      "model_module": "@jupyter-widgets/controls",
      "model_module_version": "1.5.0",
      "model_name": "DescriptionStyleModel",
      "state": {
       "description_width": ""
      }
     },
     "a93736dbefe64a76b683ca6f7ab46c87": {
      "model_module": "@jupyter-widgets/controls",
      "model_module_version": "1.5.0",
      "model_name": "ProgressStyleModel",
      "state": {
       "description_width": "initial"
      }
     },
     "a9fbbc35219f4fbaa0a75f529d06e51a": {
      "model_module": "@jupyter-widgets/controls",
      "model_module_version": "1.5.0",
      "model_name": "ProgressStyleModel",
      "state": {
       "description_width": "initial"
      }
     },
     "abb13c40d5554a62afda91c95d549207": {
      "model_module": "@jupyter-widgets/base",
      "model_module_version": "1.2.0",
      "model_name": "LayoutModel",
      "state": {}
     },
     "adda3fdff1264db8b037991c1846f7ed": {
      "model_module": "@jupyter-widgets/base",
      "model_module_version": "1.2.0",
      "model_name": "LayoutModel",
      "state": {}
     },
     "aefda8598e1b4b9ab42d93ab92843544": {
      "model_module": "@jupyter-widgets/base",
      "model_module_version": "1.2.0",
      "model_name": "LayoutModel",
      "state": {}
     },
     "b26f427626734ee1b404b0c6dadd219a": {
      "model_module": "@jupyter-widgets/base",
      "model_module_version": "1.2.0",
      "model_name": "LayoutModel",
      "state": {}
     },
     "b3d48646932f4f06bc08406102fddaa9": {
      "model_module": "@jupyter-widgets/base",
      "model_module_version": "1.2.0",
      "model_name": "LayoutModel",
      "state": {}
     },
     "b59ec852cd6a46009a60bc1c9b0ad067": {
      "model_module": "@jupyter-widgets/controls",
      "model_module_version": "1.5.0",
      "model_name": "FloatProgressModel",
      "state": {
       "bar_style": "success",
       "description": "Epoch 19: 100%",
       "layout": "IPY_MODEL_3f41c1e0cbef4598aac06c4af2ae914f",
       "max": 960,
       "style": "IPY_MODEL_0e363d1cf00c4983870af5a787e6a737",
       "value": 960
      }
     },
     "b5cbe1234a634b7cb2a5ca857a7103e1": {
      "model_module": "@jupyter-widgets/base",
      "model_module_version": "1.2.0",
      "model_name": "LayoutModel",
      "state": {}
     },
     "b7bacaa998fb49088fb8eb809061f786": {
      "model_module": "@jupyter-widgets/controls",
      "model_module_version": "1.5.0",
      "model_name": "ProgressStyleModel",
      "state": {
       "description_width": "initial"
      }
     },
     "ba3b140047234e2bb1dc527a4a933ca7": {
      "model_module": "@jupyter-widgets/controls",
      "model_module_version": "1.5.0",
      "model_name": "ProgressStyleModel",
      "state": {
       "description_width": "initial"
      }
     },
     "baf253b0076649b3ab5ec177c8d8a912": {
      "model_module": "@jupyter-widgets/base",
      "model_module_version": "1.2.0",
      "model_name": "LayoutModel",
      "state": {}
     },
     "bb223c57398e4a2888e1acdfdb7eea08": {
      "model_module": "@jupyter-widgets/base",
      "model_module_version": "1.2.0",
      "model_name": "LayoutModel",
      "state": {}
     },
     "bb972306df93467391a9190240de3784": {
      "model_module": "@jupyter-widgets/controls",
      "model_module_version": "1.5.0",
      "model_name": "DescriptionStyleModel",
      "state": {
       "description_width": ""
      }
     },
     "bdaf6448dfe64e969fd2462da527226a": {
      "model_module": "@jupyter-widgets/controls",
      "model_module_version": "1.5.0",
      "model_name": "HBoxModel",
      "state": {
       "children": [
        "IPY_MODEL_56a498453db645918ff9c9401bf46e3f",
        "IPY_MODEL_3bfc60fd8a1d45d9b9efb17e3b0750bc"
       ],
       "layout": "IPY_MODEL_5e7c1e148f344ec3aa1f9e84d8f8a35d"
      }
     },
     "bdff13d63a0a4428bd5ef0b163bca596": {
      "model_module": "@jupyter-widgets/controls",
      "model_module_version": "1.5.0",
      "model_name": "FloatProgressModel",
      "state": {
       "bar_style": "success",
       "description": "Epoch 24: 100%",
       "layout": "IPY_MODEL_14b6c43e28a94c6fb16d1ef2d6ae33ee",
       "max": 960,
       "style": "IPY_MODEL_0bd90eaf45234fc5b7e1f3dd0fd7afa1",
       "value": 960
      }
     },
     "bf19009b757941edb7e94aab40fa8eef": {
      "model_module": "@jupyter-widgets/controls",
      "model_module_version": "1.5.0",
      "model_name": "HBoxModel",
      "state": {
       "children": [
        "IPY_MODEL_49f76f1f333a40629adab436fe60f870",
        "IPY_MODEL_ff26576916cd41479a799231cea03a1c"
       ],
       "layout": "IPY_MODEL_ec3cb2cb49ef4fcfbbca49dd855ff3d0"
      }
     },
     "c07c707fa0494c17916ba3018f0714a6": {
      "model_module": "@jupyter-widgets/controls",
      "model_module_version": "1.5.0",
      "model_name": "HTMLModel",
      "state": {
       "layout": "IPY_MODEL_6cea59286e9c4a889fe39318d9085a3a",
       "style": "IPY_MODEL_565f395c50e34263a9b8d45d2b0d6039",
       "value": " 960/960 [00:10&lt;00:00, 89.25 batchs/s, lr=0.001, train_acc=99.181, train_loss=0.049, val_acc=90.550, val_loss=0.298]"
      }
     },
     "c0da36a9f94b40eeb93e8376219ebab7": {
      "model_module": "@jupyter-widgets/base",
      "model_module_version": "1.2.0",
      "model_name": "LayoutModel",
      "state": {}
     },
     "c19837291cf54f87a959b4a165da5e22": {
      "model_module": "@jupyter-widgets/controls",
      "model_module_version": "1.5.0",
      "model_name": "HTMLModel",
      "state": {
       "layout": "IPY_MODEL_67d58c6ca8ef4634a182a0b91130ced3",
       "style": "IPY_MODEL_a87f91ee33e84a38847c7af859335435",
       "value": " 30/30 [00:35&lt;00:00,  1.17s/epoch]"
      }
     },
     "c1ca400bb7e740f68fad0f1de4624688": {
      "model_module": "@jupyter-widgets/controls",
      "model_module_version": "1.5.0",
      "model_name": "FloatProgressModel",
      "state": {
       "bar_style": "success",
       "description": "Epoch 21: 100%",
       "layout": "IPY_MODEL_d731510ae75546399806dcc162a765a6",
       "max": 960,
       "style": "IPY_MODEL_437afbc7ff754821b936b7d29285b206",
       "value": 960
      }
     },
     "c26efc3e88174ba6bd8edc746b19810d": {
      "model_module": "@jupyter-widgets/base",
      "model_module_version": "1.2.0",
      "model_name": "LayoutModel",
      "state": {}
     },
     "c365b4b8664e4c238eb932adc41c069d": {
      "model_module": "@jupyter-widgets/base",
      "model_module_version": "1.2.0",
      "model_name": "LayoutModel",
      "state": {}
     },
     "c3ba14e430134427b39202c7d002281c": {
      "model_module": "@jupyter-widgets/controls",
      "model_module_version": "1.5.0",
      "model_name": "FloatProgressModel",
      "state": {
       "bar_style": "success",
       "description": "Epoch 23: 100%",
       "layout": "IPY_MODEL_cd5ff1e567244ecbb4e38d9072ecfc7f",
       "max": 960,
       "style": "IPY_MODEL_8030a65844a649cfb7c0bc038e72efbf",
       "value": 960
      }
     },
     "c497fb5035f74c75aae487db882ac2fd": {
      "model_module": "@jupyter-widgets/base",
      "model_module_version": "1.2.0",
      "model_name": "LayoutModel",
      "state": {}
     },
     "c52c066697874221a308129c892d3d72": {
      "model_module": "@jupyter-widgets/controls",
      "model_module_version": "1.5.0",
      "model_name": "DescriptionStyleModel",
      "state": {
       "description_width": ""
      }
     },
     "c5f6a8e0fd9740e1a42b3ab06e861685": {
      "model_module": "@jupyter-widgets/base",
      "model_module_version": "1.2.0",
      "model_name": "LayoutModel",
      "state": {}
     },
     "c679077b51ff4752b3894e8f8a644296": {
      "model_module": "@jupyter-widgets/controls",
      "model_module_version": "1.5.0",
      "model_name": "HTMLModel",
      "state": {
       "layout": "IPY_MODEL_b3d48646932f4f06bc08406102fddaa9",
       "style": "IPY_MODEL_bb972306df93467391a9190240de3784",
       "value": " 960/960 [00:02&lt;00:00, 369.95 batchs/s, lr=0.001, train_acc=99.181, train_loss=0.049, val_acc=90.550, val_loss=0.298]"
      }
     },
     "c6a72a084622475ba5c4e6232cd1138d": {
      "model_module": "@jupyter-widgets/controls",
      "model_module_version": "1.5.0",
      "model_name": "DescriptionStyleModel",
      "state": {
       "description_width": ""
      }
     },
     "c774408cd80e4c9aacf0ad6be1e40c58": {
      "model_module": "@jupyter-widgets/controls",
      "model_module_version": "1.5.0",
      "model_name": "HBoxModel",
      "state": {
       "children": [
        "IPY_MODEL_29dbbfd9339248ef80e51d0d0d17ada4",
        "IPY_MODEL_f3827f04d020438390728292d480695e"
       ],
       "layout": "IPY_MODEL_d80ce2c785c84454b7714e154e6f3fde"
      }
     },
     "c7fe81923bfa492b8c32ec66dc6c51bc": {
      "model_module": "@jupyter-widgets/base",
      "model_module_version": "1.2.0",
      "model_name": "LayoutModel",
      "state": {}
     },
     "c85b0560b2a84cf29fe0e940225cfba2": {
      "model_module": "@jupyter-widgets/controls",
      "model_module_version": "1.5.0",
      "model_name": "HBoxModel",
      "state": {
       "children": [
        "IPY_MODEL_ebaafd8f371644a9af1de0989b5d9ce2",
        "IPY_MODEL_4e61f71cdab44a78b5ff27f3dad2bea5"
       ],
       "layout": "IPY_MODEL_fd0ee32172e44180a4051c504355d0ba"
      }
     },
     "ca269833f2d84f3e8574d6feca0a251a": {
      "model_module": "@jupyter-widgets/controls",
      "model_module_version": "1.5.0",
      "model_name": "HBoxModel",
      "state": {
       "children": [
        "IPY_MODEL_2c7d6de6e63f48289b0b39cd81d08248",
        "IPY_MODEL_dbd27c8404854570a58f7bee1a5667ff"
       ],
       "layout": "IPY_MODEL_4faacf6586604d7cbeabf2a9f2c7f403"
      }
     },
     "ca85b55c70b7442d9f81b09dedbdf136": {
      "model_module": "@jupyter-widgets/base",
      "model_module_version": "1.2.0",
      "model_name": "LayoutModel",
      "state": {}
     },
     "cac67a0616384bf68a3c1c2706407336": {
      "model_module": "@jupyter-widgets/base",
      "model_module_version": "1.2.0",
      "model_name": "LayoutModel",
      "state": {}
     },
     "cbda9a7e578d4fe782194eec767e8a2c": {
      "model_module": "@jupyter-widgets/base",
      "model_module_version": "1.2.0",
      "model_name": "LayoutModel",
      "state": {}
     },
     "cd5ff1e567244ecbb4e38d9072ecfc7f": {
      "model_module": "@jupyter-widgets/base",
      "model_module_version": "1.2.0",
      "model_name": "LayoutModel",
      "state": {}
     },
     "d358812442b0480a9bfc442b8975ee8f": {
      "model_module": "@jupyter-widgets/controls",
      "model_module_version": "1.5.0",
      "model_name": "HTMLModel",
      "state": {
       "layout": "IPY_MODEL_7cdbf03d134c46b689fd327d0c6c3a63",
       "style": "IPY_MODEL_e11b2e8479614b9e94db6d321784a4bb",
       "value": " 960/960 [00:03&lt;00:00, 256.98 batchs/s, lr=0.001, train_acc=99.181, train_loss=0.049, val_acc=90.550, val_loss=0.298]"
      }
     },
     "d3bf879241f5443482c21aa3c1bb6abe": {
      "model_module": "@jupyter-widgets/base",
      "model_module_version": "1.2.0",
      "model_name": "LayoutModel",
      "state": {}
     },
     "d40d760ea4254ec59a29d2e4dffdb281": {
      "model_module": "@jupyter-widgets/controls",
      "model_module_version": "1.5.0",
      "model_name": "HBoxModel",
      "state": {
       "children": [
        "IPY_MODEL_ee39c8e63596439abe58b62a8de33da7",
        "IPY_MODEL_06eede1677b7406484eec5d9b9cd9cc3"
       ],
       "layout": "IPY_MODEL_3656deed55b14c8cac385b678b51ba8c"
      }
     },
     "d42fb638c7cf4868b6ec21bbe88592c6": {
      "model_module": "@jupyter-widgets/controls",
      "model_module_version": "1.5.0",
      "model_name": "DescriptionStyleModel",
      "state": {
       "description_width": ""
      }
     },
     "d49298424c41453e921c51576f509a45": {
      "model_module": "@jupyter-widgets/base",
      "model_module_version": "1.2.0",
      "model_name": "LayoutModel",
      "state": {}
     },
     "d662770e50434dfd996d77ca3c63abe0": {
      "model_module": "@jupyter-widgets/controls",
      "model_module_version": "1.5.0",
      "model_name": "ProgressStyleModel",
      "state": {
       "description_width": "initial"
      }
     },
     "d6bcfc73df874d21945297b325c9137e": {
      "model_module": "@jupyter-widgets/controls",
      "model_module_version": "1.5.0",
      "model_name": "HTMLModel",
      "state": {
       "layout": "IPY_MODEL_9e604f2d415748dc9da2198c12b20ef7",
       "style": "IPY_MODEL_55a148f1d1904339a76f0fb536399ac3",
       "value": " 960/960 [00:34&lt;00:00, 28.19 batchs/s, lr=5.400, train_acc=89.950, train_loss=0.305, val_acc=88.929, val_loss=0.323]"
      }
     },
     "d731510ae75546399806dcc162a765a6": {
      "model_module": "@jupyter-widgets/base",
      "model_module_version": "1.2.0",
      "model_name": "LayoutModel",
      "state": {}
     },
     "d7f4cefa4e184cdc95df7e269332e1d5": {
      "model_module": "@jupyter-widgets/base",
      "model_module_version": "1.2.0",
      "model_name": "LayoutModel",
      "state": {}
     },
     "d80ce2c785c84454b7714e154e6f3fde": {
      "model_module": "@jupyter-widgets/base",
      "model_module_version": "1.2.0",
      "model_name": "LayoutModel",
      "state": {}
     },
     "d8b8e54a0fe24092a47dd0c64c8d4a54": {
      "model_module": "@jupyter-widgets/base",
      "model_module_version": "1.2.0",
      "model_name": "LayoutModel",
      "state": {}
     },
     "dac48d6cb5b345e2bcedd52ed803f35b": {
      "model_module": "@jupyter-widgets/controls",
      "model_module_version": "1.5.0",
      "model_name": "HTMLModel",
      "state": {
       "layout": "IPY_MODEL_0ece08d869ce4009a3fa4e60951eaf85",
       "style": "IPY_MODEL_40e5101454824f3ead5bdca4ad928d99",
       "value": " 960/960 [00:25&lt;00:00, 37.13 batchs/s, lr=2.583, train_acc=98.347, train_loss=0.074, val_acc=90.454, val_loss=0.295]"
      }
     },
     "dbd27c8404854570a58f7bee1a5667ff": {
      "model_module": "@jupyter-widgets/controls",
      "model_module_version": "1.5.0",
      "model_name": "HTMLModel",
      "state": {
       "layout": "IPY_MODEL_5c58283866c74cb288e28bbcd33f2d05",
       "style": "IPY_MODEL_54aa2b4c64ba4c2dab98b88113fb3c01",
       "value": " 950/960 [00:01&lt;00:00, 870.37 batchs/s, lr=0.002, train_acc=99.204, train_loss=0.048, val_acc=90.875, val_loss=0.297]"
      }
     },
     "dc6d09cb6a2549c7bdc1f7d32023c503": {
      "model_module": "@jupyter-widgets/controls",
      "model_module_version": "1.5.0",
      "model_name": "HBoxModel",
      "state": {
       "children": [
        "IPY_MODEL_13ef838d403345a287aecf67aa10fe6b",
        "IPY_MODEL_ec223a0bdc2a48fc9ff6072b2e6f62ed"
       ],
       "layout": "IPY_MODEL_34b4aa9cbd7b414ca86cf66fb120383d"
      }
     },
     "dca30b0765f14e528024f6cf716b0b55": {
      "model_module": "@jupyter-widgets/controls",
      "model_module_version": "1.5.0",
      "model_name": "ProgressStyleModel",
      "state": {
       "description_width": "initial"
      }
     },
     "dcdca4145f6c4490ba506c5a5a0fb935": {
      "model_module": "@jupyter-widgets/controls",
      "model_module_version": "1.5.0",
      "model_name": "HBoxModel",
      "state": {
       "children": [
        "IPY_MODEL_fe3a22b44dc74fe4bb2b1c77ca392c7f",
        "IPY_MODEL_447e51c07a794c14b9084a160700e9ff"
       ],
       "layout": "IPY_MODEL_4f88c034b5d14a08a2c85ce87bdce100"
      }
     },
     "e07accb9805141b9b15eb63403aeb91a": {
      "model_module": "@jupyter-widgets/controls",
      "model_module_version": "1.5.0",
      "model_name": "HBoxModel",
      "state": {
       "children": [
        "IPY_MODEL_b59ec852cd6a46009a60bc1c9b0ad067",
        "IPY_MODEL_4a1244b73bc543e68356fdc2ea36aad7"
       ],
       "layout": "IPY_MODEL_e6c92db5f3424c9d95db1796886c726d"
      }
     },
     "e0a42c090f29445cbf23d3c267d70b1e": {
      "model_module": "@jupyter-widgets/base",
      "model_module_version": "1.2.0",
      "model_name": "LayoutModel",
      "state": {}
     },
     "e0d0c02fbeae4c439648247e0a756309": {
      "model_module": "@jupyter-widgets/controls",
      "model_module_version": "1.5.0",
      "model_name": "DescriptionStyleModel",
      "state": {
       "description_width": ""
      }
     },
     "e11b2e8479614b9e94db6d321784a4bb": {
      "model_module": "@jupyter-widgets/controls",
      "model_module_version": "1.5.0",
      "model_name": "DescriptionStyleModel",
      "state": {
       "description_width": ""
      }
     },
     "e203883857a3498f9a1b46ff555710e1": {
      "model_module": "@jupyter-widgets/controls",
      "model_module_version": "1.5.0",
      "model_name": "ProgressStyleModel",
      "state": {
       "description_width": "initial"
      }
     },
     "e298fd7ab8c44831a807bf56efc50cb3": {
      "model_module": "@jupyter-widgets/controls",
      "model_module_version": "1.5.0",
      "model_name": "FloatProgressModel",
      "state": {
       "description": "Epoch 18:  99%",
       "layout": "IPY_MODEL_6ca4beec660746a3b98f2e6cfe179330",
       "max": 960,
       "style": "IPY_MODEL_22a886fd13704d87a0be1667580dff31",
       "value": 950
      }
     },
     "e2d1426cd4ab4381af7b9d7d9e0b5a1e": {
      "model_module": "@jupyter-widgets/controls",
      "model_module_version": "1.5.0",
      "model_name": "DescriptionStyleModel",
      "state": {
       "description_width": ""
      }
     },
     "e43d31bbb7704a9d8711f5afcc5ac4e1": {
      "model_module": "@jupyter-widgets/base",
      "model_module_version": "1.2.0",
      "model_name": "LayoutModel",
      "state": {}
     },
     "e5c2c2b05fde418c9a404b5755c059c0": {
      "model_module": "@jupyter-widgets/base",
      "model_module_version": "1.2.0",
      "model_name": "LayoutModel",
      "state": {}
     },
     "e6c92db5f3424c9d95db1796886c726d": {
      "model_module": "@jupyter-widgets/base",
      "model_module_version": "1.2.0",
      "model_name": "LayoutModel",
      "state": {}
     },
     "e6f16eea42d14031ab306569825b3cff": {
      "model_module": "@jupyter-widgets/controls",
      "model_module_version": "1.5.0",
      "model_name": "FloatProgressModel",
      "state": {
       "bar_style": "success",
       "description": "Epoch 29: 100%",
       "layout": "IPY_MODEL_aefda8598e1b4b9ab42d93ab92843544",
       "max": 960,
       "style": "IPY_MODEL_a62ff4b368ed4770ae77359e07fa91a8",
       "value": 960
      }
     },
     "e72ed66787e54903b6d5a31533e5fa96": {
      "model_module": "@jupyter-widgets/base",
      "model_module_version": "1.2.0",
      "model_name": "LayoutModel",
      "state": {}
     },
     "e887866892dc4a28ae2af2de7caa5470": {
      "model_module": "@jupyter-widgets/controls",
      "model_module_version": "1.5.0",
      "model_name": "DescriptionStyleModel",
      "state": {
       "description_width": ""
      }
     },
     "e973f7ad26a240f4990b1a15e517e384": {
      "model_module": "@jupyter-widgets/base",
      "model_module_version": "1.2.0",
      "model_name": "LayoutModel",
      "state": {}
     },
     "e9a21a0614f94ab099312098adbc48a6": {
      "model_module": "@jupyter-widgets/base",
      "model_module_version": "1.2.0",
      "model_name": "LayoutModel",
      "state": {}
     },
     "eae6caaf683d47e29492907d07da2bbd": {
      "model_module": "@jupyter-widgets/base",
      "model_module_version": "1.2.0",
      "model_name": "LayoutModel",
      "state": {}
     },
     "ebaafd8f371644a9af1de0989b5d9ce2": {
      "model_module": "@jupyter-widgets/controls",
      "model_module_version": "1.5.0",
      "model_name": "FloatProgressModel",
      "state": {
       "bar_style": "success",
       "description": "Epoch 7: 100%",
       "layout": "IPY_MODEL_5fbfac6a7bed4e9a85d42511caa6fb49",
       "max": 960,
       "style": "IPY_MODEL_7df5a2b7ca7a49148a8c70571bcd91fb",
       "value": 960
      }
     },
     "ec223a0bdc2a48fc9ff6072b2e6f62ed": {
      "model_module": "@jupyter-widgets/controls",
      "model_module_version": "1.5.0",
      "model_name": "HTMLModel",
      "state": {
       "layout": "IPY_MODEL_4b595c0b991a478bb5ed68ab4b20d51b",
       "style": "IPY_MODEL_89fe9a6fe37a41e092b1f4dc60df508a",
       "value": " 960/960 [00:27&lt;00:00, 35.55 batchs/s, lr=2.870, train_acc=97.882, train_loss=0.087, val_acc=90.404, val_loss=0.292]"
      }
     },
     "ec3cb2cb49ef4fcfbbca49dd855ff3d0": {
      "model_module": "@jupyter-widgets/base",
      "model_module_version": "1.2.0",
      "model_name": "LayoutModel",
      "state": {}
     },
     "ed2c2f3d75dc47b1aa3d25b2461e7031": {
      "model_module": "@jupyter-widgets/base",
      "model_module_version": "1.2.0",
      "model_name": "LayoutModel",
      "state": {}
     },
     "ee39c8e63596439abe58b62a8de33da7": {
      "model_module": "@jupyter-widgets/controls",
      "model_module_version": "1.5.0",
      "model_name": "FloatProgressModel",
      "state": {
       "bar_style": "success",
       "description": "Epoch 3: 100%",
       "layout": "IPY_MODEL_75d7ccd2e28848b09487139ab9e5c7b3",
       "max": 960,
       "style": "IPY_MODEL_066444cab0c844c0aa95ddd49f3df4a1",
       "value": 960
      }
     },
     "ef2d6c735eaa4a1b8a4244f1a203c8a1": {
      "model_module": "@jupyter-widgets/base",
      "model_module_version": "1.2.0",
      "model_name": "LayoutModel",
      "state": {}
     },
     "efc132d59a684b76bf60d3321cbbc876": {
      "model_module": "@jupyter-widgets/controls",
      "model_module_version": "1.5.0",
      "model_name": "HBoxModel",
      "state": {
       "children": [
        "IPY_MODEL_bdff13d63a0a4428bd5ef0b163bca596",
        "IPY_MODEL_58565017e2a442e699123471b5876005"
       ],
       "layout": "IPY_MODEL_e43d31bbb7704a9d8711f5afcc5ac4e1"
      }
     },
     "f078d8b9503f43139cacbc07011859f1": {
      "model_module": "@jupyter-widgets/base",
      "model_module_version": "1.2.0",
      "model_name": "LayoutModel",
      "state": {}
     },
     "f1b4de39641a46c89c9578c1537f353b": {
      "model_module": "@jupyter-widgets/controls",
      "model_module_version": "1.5.0",
      "model_name": "HTMLModel",
      "state": {
       "layout": "IPY_MODEL_8528fa55eeb24135a58395f8680a7961",
       "style": "IPY_MODEL_349dbf9671f44d3aab70764c5b7a458b",
       "value": " 960/960 [00:18&lt;00:00, 50.75 batchs/s, lr=0.065, train_acc=99.155, train_loss=0.049, val_acc=90.604, val_loss=0.298]"
      }
     },
     "f2428b681cab440087628857490cd520": {
      "model_module": "@jupyter-widgets/base",
      "model_module_version": "1.2.0",
      "model_name": "LayoutModel",
      "state": {}
     },
     "f3827f04d020438390728292d480695e": {
      "model_module": "@jupyter-widgets/controls",
      "model_module_version": "1.5.0",
      "model_name": "HTMLModel",
      "state": {
       "layout": "IPY_MODEL_e72ed66787e54903b6d5a31533e5fa96",
       "style": "IPY_MODEL_6380bd80892445c6813bf8be65c6c4e0",
       "value": " 960/960 [00:07&lt;00:00, 132.99 batchs/s, lr=0.001, train_acc=99.181, train_loss=0.049, val_acc=90.550, val_loss=0.298]"
      }
     },
     "f3aba666a0754ab2872a49e7c976c231": {
      "model_module": "@jupyter-widgets/base",
      "model_module_version": "1.2.0",
      "model_name": "LayoutModel",
      "state": {}
     },
     "f3daf20f9c774fb984a500340dfd0abe": {
      "model_module": "@jupyter-widgets/controls",
      "model_module_version": "1.5.0",
      "model_name": "ProgressStyleModel",
      "state": {
       "description_width": "initial"
      }
     },
     "f41e112e464245d8978a10cee61dd200": {
      "model_module": "@jupyter-widgets/base",
      "model_module_version": "1.2.0",
      "model_name": "LayoutModel",
      "state": {}
     },
     "f47b266757354408bd9f7d04337fef2f": {
      "model_module": "@jupyter-widgets/base",
      "model_module_version": "1.2.0",
      "model_name": "LayoutModel",
      "state": {}
     },
     "f4a4c888e0be4d4c9fc4a14adfd8d5d7": {
      "model_module": "@jupyter-widgets/base",
      "model_module_version": "1.2.0",
      "model_name": "LayoutModel",
      "state": {}
     },
     "f53dba8792d6426fb6556c8b6e892758": {
      "model_module": "@jupyter-widgets/base",
      "model_module_version": "1.2.0",
      "model_name": "LayoutModel",
      "state": {}
     },
     "f5c0f5c1d62b4a1f8a560cc1a4e4b2f2": {
      "model_module": "@jupyter-widgets/base",
      "model_module_version": "1.2.0",
      "model_name": "LayoutModel",
      "state": {}
     },
     "f6926717eb774d379e7a8e7e0414e42c": {
      "model_module": "@jupyter-widgets/controls",
      "model_module_version": "1.5.0",
      "model_name": "DescriptionStyleModel",
      "state": {
       "description_width": ""
      }
     },
     "f6a138b1dffd492d807c45b4a917ad75": {
      "model_module": "@jupyter-widgets/controls",
      "model_module_version": "1.5.0",
      "model_name": "HBoxModel",
      "state": {
       "children": [
        "IPY_MODEL_18862ddd902f4cd0b2483488f4c2227b",
        "IPY_MODEL_10694a476e0b4fd99590c807ec51b1ca"
       ],
       "layout": "IPY_MODEL_a43f53ea1637465a9745d63d22c77b46"
      }
     },
     "f84f33153ac44ba0963226f63eb0e47d": {
      "model_module": "@jupyter-widgets/controls",
      "model_module_version": "1.5.0",
      "model_name": "FloatProgressModel",
      "state": {
       "bar_style": "success",
       "description": "Epoch 16: 100%",
       "layout": "IPY_MODEL_cbda9a7e578d4fe782194eec767e8a2c",
       "max": 960,
       "style": "IPY_MODEL_756a7d241d1f4b849ace651e3904c942",
       "value": 960
      }
     },
     "f9f17741ecea459889170a18089d7360": {
      "model_module": "@jupyter-widgets/controls",
      "model_module_version": "1.5.0",
      "model_name": "HBoxModel",
      "state": {
       "children": [
        "IPY_MODEL_c1ca400bb7e740f68fad0f1de4624688",
        "IPY_MODEL_fe410cbede8b4bc891207acee9a7028a"
       ],
       "layout": "IPY_MODEL_b26f427626734ee1b404b0c6dadd219a"
      }
     },
     "fce673e49b6745b1858c7eeabb34a252": {
      "model_module": "@jupyter-widgets/controls",
      "model_module_version": "1.5.0",
      "model_name": "HBoxModel",
      "state": {
       "children": [
        "IPY_MODEL_58e41744a2884258afd61a7916d8fa5c",
        "IPY_MODEL_8d9f4b4763cc478884c59255bb73509e"
       ],
       "layout": "IPY_MODEL_6211e95119b64420983d54e3e12cb102"
      }
     },
     "fd0ee32172e44180a4051c504355d0ba": {
      "model_module": "@jupyter-widgets/base",
      "model_module_version": "1.2.0",
      "model_name": "LayoutModel",
      "state": {}
     },
     "fd7a3f9febef4d5a9c41e5889a421312": {
      "model_module": "@jupyter-widgets/controls",
      "model_module_version": "1.5.0",
      "model_name": "HTMLModel",
      "state": {
       "layout": "IPY_MODEL_0b9b7e1cd0d145eeb88b8918447b8a6d",
       "style": "IPY_MODEL_7c2be4a038b84c649a2986edd5d13f88",
       "value": " 680/960 [00:00&lt;00:00, 934.47 batchs/s, lr=0.001, train_acc=99.149, train_loss=0.050]"
      }
     },
     "fe3a22b44dc74fe4bb2b1c77ca392c7f": {
      "model_module": "@jupyter-widgets/controls",
      "model_module_version": "1.5.0",
      "model_name": "FloatProgressModel",
      "state": {
       "description": "Epoch 19:  99%",
       "layout": "IPY_MODEL_531ab4fb011e4b9dbb15e6f65889137d",
       "max": 960,
       "style": "IPY_MODEL_f3daf20f9c774fb984a500340dfd0abe",
       "value": 950
      }
     },
     "fe410cbede8b4bc891207acee9a7028a": {
      "model_module": "@jupyter-widgets/controls",
      "model_module_version": "1.5.0",
      "model_name": "HTMLModel",
      "state": {
       "layout": "IPY_MODEL_cac67a0616384bf68a3c1c2706407336",
       "style": "IPY_MODEL_15712a7a3f0e46388e8f3fbd8ee293fb",
       "value": " 960/960 [00:11&lt;00:00, 80.42 batchs/s, lr=0.001, train_acc=99.180, train_loss=0.049, val_acc=90.554, val_loss=0.298]"
      }
     },
     "ff26576916cd41479a799231cea03a1c": {
      "model_module": "@jupyter-widgets/controls",
      "model_module_version": "1.5.0",
      "model_name": "HTMLModel",
      "state": {
       "layout": "IPY_MODEL_e973f7ad26a240f4990b1a15e517e384",
       "style": "IPY_MODEL_64a60b4ac7ba4f99b5e52a5f71850e17",
       "value": " 960/960 [00:21&lt;00:00, 45.23 batchs/s, lr=0.262, train_acc=99.137, train_loss=0.050, val_acc=90.587, val_loss=0.297]"
      }
     }
    },
    "version_major": 2,
    "version_minor": 0
   }
  }
 },
 "nbformat": 4,
 "nbformat_minor": 4
}
