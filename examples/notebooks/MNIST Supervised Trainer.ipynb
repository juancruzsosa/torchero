{
 "cells": [
  {
   "cell_type": "code",
   "execution_count": 1,
   "metadata": {},
   "outputs": [],
   "source": [
    "# Torch #\n",
    "import torch\n",
    "from torch import nn\n",
    "from torch.utils.data import DataLoader\n",
    "from torch import optim\n",
    "\n",
    "# Torchvision #\n",
    "import torchvision\n",
    "from torchvision.datasets import MNIST\n",
    "from torchvision import transforms\n",
    "\n",
    "# Torchtrainer #\n",
    "import torchtrainer\n",
    "from torchtrainer import SupervisedTrainer\n",
    "from torchtrainer.base import ValidationGranularity\n",
    "from torchtrainer.meters import CategoricalAccuracy\n",
    "from torchtrainer.callbacks import ProgbarLogger as Logger\n",
    "\n",
    "from matplotlib import pyplot as plt"
   ]
  },
  {
   "cell_type": "code",
   "execution_count": 2,
   "metadata": {},
   "outputs": [],
   "source": [
    "BATCH_SIZE = 300\n",
    "VAL_BATCH_SIZE = 300\n",
    "CUDA = True\n",
    "LR = 1e-2"
   ]
  },
  {
   "cell_type": "code",
   "execution_count": 3,
   "metadata": {},
   "outputs": [],
   "source": [
    "class Network(nn.Module):\n",
    "    def __init__(self):\n",
    "        super(Network, self).__init__()\n",
    "        self.filter = nn.Sequential(nn.Conv2d(in_channels=1, out_channels=32, kernel_size=5),\n",
    "                                    nn.ReLU(inplace=True),\n",
    "                                    nn.BatchNorm2d(32),\n",
    "                                    nn.MaxPool2d(2),\n",
    "                                    nn.Conv2d(in_channels=32, out_channels=64, kernel_size=3),\n",
    "                                    nn.ReLU(inplace=True),\n",
    "                                    nn.BatchNorm2d(64),\n",
    "                                    nn.MaxPool2d(2))\n",
    "        self.linear = nn.Sequential(nn.Linear(5*5*64, 500),\n",
    "                                    nn.BatchNorm1d(500),\n",
    "                                    nn.ReLU(inplace=True),\n",
    "                                    nn.Linear(500, 10))\n",
    "\n",
    "    def forward(self, x):\n",
    "        bs = x.shape[0]\n",
    "        return self.linear(self.filter(x).view(bs, -1))"
   ]
  },
  {
   "cell_type": "code",
   "execution_count": 4,
   "metadata": {},
   "outputs": [],
   "source": [
    "train_ds = MNIST(root='/tmp/data/mnist', download=True, train=True, transform=transforms.Compose([transforms.ToTensor()]))\n",
    "test_ds = MNIST(root='/tmp/data/mnist', download=False, train=False, transform=transforms.Compose([transforms.ToTensor()]))    "
   ]
  },
  {
   "cell_type": "code",
   "execution_count": 5,
   "metadata": {},
   "outputs": [],
   "source": [
    "train_dl = DataLoader(train_ds, batch_size=BATCH_SIZE)\n",
    "test_dl = DataLoader(test_ds, batch_size=VAL_BATCH_SIZE)"
   ]
  },
  {
   "cell_type": "code",
   "execution_count": 6,
   "metadata": {},
   "outputs": [],
   "source": [
    "model = Network()\n",
    "criterion = nn.CrossEntropyLoss()\n",
    "optimizer = optim.SGD(model.parameters(), lr=LR)"
   ]
  },
  {
   "cell_type": "code",
   "execution_count": 7,
   "metadata": {},
   "outputs": [],
   "source": [
    "trainer = SupervisedTrainer(model=model,\n",
    "                            optimizer='sgd',\n",
    "                            criterion='cross_entropy',\n",
    "                            logging_frecuency=10,\n",
    "                            acc_meters={'acc': 'categorical_accuracy_percentage'},\n",
    "                            callbacks=[Logger(notebook=True, monitors=('train_acc', 'val_acc'))],\n",
    "                            validation_granularity=ValidationGranularity.AT_LOG)"
   ]
  },
  {
   "cell_type": "code",
   "execution_count": 8,
   "metadata": {},
   "outputs": [],
   "source": [
    "if CUDA:\n",
    "    trainer.cuda()"
   ]
  },
  {
   "cell_type": "code",
   "execution_count": 9,
   "metadata": {},
   "outputs": [
    {
     "data": {
      "application/vnd.jupyter.widget-view+json": {
       "model_id": "4d23d14dd1964d0ea74eb8b77bde0268",
       "version_major": 2,
       "version_minor": 0
      },
      "text/plain": [
       "HBox(children=(FloatProgress(value=0.0, max=5.0), HTML(value='')))"
      ]
     },
     "metadata": {},
     "output_type": "display_data"
    },
    {
     "data": {
      "application/vnd.jupyter.widget-view+json": {
       "model_id": "926561652f5d4c22a5df9bc9c2c0503f",
       "version_major": 2,
       "version_minor": 0
      },
      "text/plain": [
       "HBox(children=(FloatProgress(value=0.0, max=200.0), HTML(value='')))"
      ]
     },
     "metadata": {},
     "output_type": "display_data"
    },
    {
     "data": {
      "application/vnd.jupyter.widget-view+json": {
       "model_id": "65cb1bd945ce439599014bda28e70f70",
       "version_major": 2,
       "version_minor": 0
      },
      "text/plain": [
       "HBox(children=(FloatProgress(value=0.0, max=200.0), HTML(value='')))"
      ]
     },
     "metadata": {},
     "output_type": "display_data"
    },
    {
     "data": {
      "application/vnd.jupyter.widget-view+json": {
       "model_id": "dbdaec4e0205429ab9bf619ae4b79930",
       "version_major": 2,
       "version_minor": 0
      },
      "text/plain": [
       "HBox(children=(FloatProgress(value=0.0, max=200.0), HTML(value='')))"
      ]
     },
     "metadata": {},
     "output_type": "display_data"
    },
    {
     "data": {
      "application/vnd.jupyter.widget-view+json": {
       "model_id": "616d9bc5f2a54fbd8aa0904b28f417a7",
       "version_major": 2,
       "version_minor": 0
      },
      "text/plain": [
       "HBox(children=(FloatProgress(value=0.0, max=200.0), HTML(value='')))"
      ]
     },
     "metadata": {},
     "output_type": "display_data"
    },
    {
     "data": {
      "application/vnd.jupyter.widget-view+json": {
       "model_id": "e8b8952e8ff54e1e88bd4a4c71dd1561",
       "version_major": 2,
       "version_minor": 0
      },
      "text/plain": [
       "HBox(children=(FloatProgress(value=0.0, max=200.0), HTML(value='')))"
      ]
     },
     "metadata": {},
     "output_type": "display_data"
    },
    {
     "name": "stdout",
     "output_type": "stream",
     "text": [
      "\n",
      "\n",
      "\n",
      "\n",
      "\n",
      "\n"
     ]
    }
   ],
   "source": [
    "trainer.train(dataloader=train_dl, valid_dataloader=test_dl, epochs=5)"
   ]
  },
  {
   "cell_type": "code",
   "execution_count": 10,
   "metadata": {},
   "outputs": [
    {
     "data": {
      "image/png": "[encoded data removed]",
      "text/plain": [
       "<Figure size 1008x216 with 2 Axes>"
      ]
     },
     "metadata": {
      "needs_background": "light"
     },
     "output_type": "display_data"
    }
   ],
   "source": [
    "plt.figure(figsize=(14,3))\n",
    "plt.subplot(1,2,1)\n",
    "trainer.history.step_plot('train_acc')\n",
    "plt.subplot(1,2,2)\n",
    "trainer.history.step_plot('val_acc')\n",
    "plt.show()"
   ]
  }
 ],
 "metadata": {
  "kernelspec": {
   "display_name": "Python 3",
   "language": "python",
   "name": "python3"
  },
  "language_info": {
   "codemirror_mode": {
    "name": "ipython",
    "version": 3
   },
   "file_extension": ".py",
   "mimetype": "text/x-python",
   "name": "python",
   "nbconvert_exporter": "python",
   "pygments_lexer": "ipython3",
   "version": "3.8.2"
  },
  "widgets": {
   "application/vnd.jupyter.widget-state+json": {
    "state": {
     "00beaa72ca92400f990052b024e2efc4": {
      "model_module": "@jupyter-widgets/controls",
      "model_module_version": "1.5.0",
      "model_name": "ProgressStyleModel",
      "state": {
       "description_width": "initial"
      }
     },
     "00cf889749e045eeb760139b8066a749": {
      "model_module": "@jupyter-widgets/controls",
      "model_module_version": "1.5.0",
      "model_name": "HBoxModel",
      "state": {
       "children": [
        "IPY_MODEL_5d573118a8ef46f8b41bb768efc907fa",
        "IPY_MODEL_da95a03fe4de42f2a6b009a4870c9720"
       ],
       "layout": "IPY_MODEL_7cc9fd10706a4311bcddc2025d904930"
      }
     },
     "049fdbd309034fdfae83915b75d5073d": {
      "model_module": "@jupyter-widgets/controls",
      "model_module_version": "1.5.0",
      "model_name": "FloatProgressModel",
      "state": {
       "bar_style": "info",
       "layout": "IPY_MODEL_d7d2c0506c6640f3b131fbb1aaf2e6ca",
       "max": 1,
       "style": "IPY_MODEL_f55f6e87e9cc411d8cae872d52c0cc56",
       "value": 1
      }
     },
     "04b2ebec0a9c495a9e3afb08600875da": {
      "model_module": "@jupyter-widgets/base",
      "model_module_version": "1.2.0",
      "model_name": "LayoutModel",
      "state": {}
     },
     "055773f536064458a5f47b4d968510a7": {
      "model_module": "@jupyter-widgets/controls",
      "model_module_version": "1.5.0",
      "model_name": "DescriptionStyleModel",
      "state": {
       "description_width": ""
      }
     },
     "06f4b21daece409892a038e76b3b972c": {
      "model_module": "@jupyter-widgets/controls",
      "model_module_version": "1.5.0",
      "model_name": "HBoxModel",
      "state": {
       "children": [
        "IPY_MODEL_ca0898ea8c4642bf80be421b6721001b",
        "IPY_MODEL_599239445f74463fa4fb693015213b1d"
       ],
       "layout": "IPY_MODEL_448cd3d0a60447b98a6e6bf272e2d759"
      }
     },
     "08a34e3f4d87460a8d950b9f49ad4375": {
      "model_module": "@jupyter-widgets/controls",
      "model_module_version": "1.5.0",
      "model_name": "FloatProgressModel",
      "state": {
       "description": "100%",
       "layout": "IPY_MODEL_913e3b53c2494788a367900b59cfbcf5",
       "max": 200,
       "style": "IPY_MODEL_2b29c5786d294e42b69783a883cd68c9",
       "value": 200
      }
     },
     "09a81fc8b59f4e5780081a420461192d": {
      "model_module": "@jupyter-widgets/controls",
      "model_module_version": "1.5.0",
      "model_name": "DescriptionStyleModel",
      "state": {
       "description_width": ""
      }
     },
     "09d0e76f50814a35a826ad22b3140938": {
      "model_module": "@jupyter-widgets/base",
      "model_module_version": "1.2.0",
      "model_name": "LayoutModel",
      "state": {}
     },
     "0b2e60cc74ab42d6bf223cf66d1f0d5d": {
      "model_module": "@jupyter-widgets/controls",
      "model_module_version": "1.5.0",
      "model_name": "ProgressStyleModel",
      "state": {
       "description_width": "initial"
      }
     },
     "0b41179e2f2548fa9075084ce997ea93": {
      "model_module": "@jupyter-widgets/controls",
      "model_module_version": "1.5.0",
      "model_name": "HTMLModel",
      "state": {
       "layout": "IPY_MODEL_a1b2c5e453154597b9213a5a26377c6d",
       "style": "IPY_MODEL_755ad8b636b448afb37f4f6113b4d4d1",
       "value": " 0/4542 [00:00&lt;?, ?it/s]"
      }
     },
     "0bbddc45609c47eaaa3c702aa8a6d5cb": {
      "model_module": "@jupyter-widgets/controls",
      "model_module_version": "1.5.0",
      "model_name": "HBoxModel",
      "state": {
       "children": [
        "IPY_MODEL_848eb3ed659e4bbc95994c12f7492b7c",
        "IPY_MODEL_a949f0a0070b4267b434ac8622ce9113"
       ],
       "layout": "IPY_MODEL_86e561b265a54862ad153abf7a6a74cb"
      }
     },
     "0d00dca1159443b78a9499edeac3af25": {
      "model_module": "@jupyter-widgets/base",
      "model_module_version": "1.2.0",
      "model_name": "LayoutModel",
      "state": {}
     },
     "0d070725152e47829a06ff926efd62f0": {
      "model_module": "@jupyter-widgets/controls",
      "model_module_version": "1.5.0",
      "model_name": "HBoxModel",
      "state": {
       "children": [
        "IPY_MODEL_8b9dbf5a1cd34919b6b0c12a95797fb4",
        "IPY_MODEL_41a4c05f807a4d8ba34fb3d0323edff3"
       ],
       "layout": "IPY_MODEL_e2f26271dbbc445997b33a7a903e2002"
      }
     },
     "0d329a51443247a590c52ad6f861c406": {
      "model_module": "@jupyter-widgets/controls",
      "model_module_version": "1.5.0",
      "model_name": "HTMLModel",
      "state": {
       "layout": "IPY_MODEL_0e7a290a23844af6bac38c8e9a1cb160",
       "style": "IPY_MODEL_51b6b3fec6e54274a62ac96cf7c0f2f8",
       "value": " 200/200 [00:51&lt;00:00,  3.87 batchs/s, train_acc=98.767, val_acc=98.010]"
      }
     },
     "0dbda3e445814ede9581c4db28ce2d0c": {
      "model_module": "@jupyter-widgets/base",
      "model_module_version": "1.2.0",
      "model_name": "LayoutModel",
      "state": {}
     },
     "0e41041b40d14e8a96ead1e273e0aa59": {
      "model_module": "@jupyter-widgets/base",
      "model_module_version": "1.2.0",
      "model_name": "LayoutModel",
      "state": {}
     },
     "0e7a290a23844af6bac38c8e9a1cb160": {
      "model_module": "@jupyter-widgets/base",
      "model_module_version": "1.2.0",
      "model_name": "LayoutModel",
      "state": {}
     },
     "0f679dbe6fde4a0d9cad38c8e4bb7f8d": {
      "model_module": "@jupyter-widgets/controls",
      "model_module_version": "1.5.0",
      "model_name": "DescriptionStyleModel",
      "state": {
       "description_width": ""
      }
     },
     "1096ca35b64f4b7aa08b61102815fee2": {
      "model_module": "@jupyter-widgets/controls",
      "model_module_version": "1.5.0",
      "model_name": "FloatProgressModel",
      "state": {
       "description": " 95%",
       "layout": "IPY_MODEL_0d00dca1159443b78a9499edeac3af25",
       "max": 200,
       "style": "IPY_MODEL_2ed43ff20f764095b1a6d6349c72db04",
       "value": 190
      }
     },
     "129b4d41ede949ec91dd13116b786836": {
      "model_module": "@jupyter-widgets/base",
      "model_module_version": "1.2.0",
      "model_name": "LayoutModel",
      "state": {}
     },
     "14706edb77ed4b71b85083bd519ab65e": {
      "model_module": "@jupyter-widgets/controls",
      "model_module_version": "1.5.0",
      "model_name": "HBoxModel",
      "state": {
       "children": [
        "IPY_MODEL_a510833659a04e59a970623f01505b35",
        "IPY_MODEL_380f615bef9e412c830996550efd6df0"
       ],
       "layout": "IPY_MODEL_c50fda98354a4ea08afac2f154dea098"
      }
     },
     "153f5629eb9545ac989fdd607e73c261": {
      "model_module": "@jupyter-widgets/controls",
      "model_module_version": "1.5.0",
      "model_name": "HTMLModel",
      "state": {
       "layout": "IPY_MODEL_04b2ebec0a9c495a9e3afb08600875da",
       "style": "IPY_MODEL_3f197f55bffc4b889d3eff8d68d77e54",
       "value": " 200/200 [00:30&lt;00:00, 12.25 batchs/s, train_acc=98.733, val_acc=97.930]"
      }
     },
     "16e3f610733144139853d70cc1cc8b73": {
      "model_module": "@jupyter-widgets/base",
      "model_module_version": "1.2.0",
      "model_name": "LayoutModel",
      "state": {}
     },
     "17af921a2833408a958f904b2ad254b7": {
      "model_module": "@jupyter-widgets/base",
      "model_module_version": "1.2.0",
      "model_name": "LayoutModel",
      "state": {}
     },
     "180994109aac47b787990c47968520cb": {
      "model_module": "@jupyter-widgets/base",
      "model_module_version": "1.2.0",
      "model_name": "LayoutModel",
      "state": {}
     },
     "1e205b97198e470ba9978e2518e8e654": {
      "model_module": "@jupyter-widgets/controls",
      "model_module_version": "1.5.0",
      "model_name": "ProgressStyleModel",
      "state": {
       "description_width": "initial"
      }
     },
     "1f9326abea7e4ed3b0e36738d7c59a99": {
      "model_module": "@jupyter-widgets/base",
      "model_module_version": "1.2.0",
      "model_name": "LayoutModel",
      "state": {}
     },
     "1fe01f9e68fc4ad6bbd6d89cbcc1cd83": {
      "model_module": "@jupyter-widgets/controls",
      "model_module_version": "1.5.0",
      "model_name": "HBoxModel",
      "state": {
       "children": [
        "IPY_MODEL_7eb0fbdae26947ef9741ef99f2c2a5fc",
        "IPY_MODEL_cf78a8e7aad248ccb329f2644ac59e65"
       ],
       "layout": "IPY_MODEL_4a4d0fe99b794648b8cd5ebab538805a"
      }
     },
     "21fafc664a134135aa194c8825ff302f": {
      "model_module": "@jupyter-widgets/base",
      "model_module_version": "1.2.0",
      "model_name": "LayoutModel",
      "state": {}
     },
     "22791ffb1f3a4c67bf63063296f180ae": {
      "model_module": "@jupyter-widgets/controls",
      "model_module_version": "1.5.0",
      "model_name": "ProgressStyleModel",
      "state": {
       "description_width": "initial"
      }
     },
     "22b7dc6c469c41af95f1cb6e0610045a": {
      "model_module": "@jupyter-widgets/controls",
      "model_module_version": "1.5.0",
      "model_name": "ProgressStyleModel",
      "state": {
       "description_width": "initial"
      }
     },
     "263cd9882885491f8e54ab360af1df00": {
      "model_module": "@jupyter-widgets/controls",
      "model_module_version": "1.5.0",
      "model_name": "HBoxModel",
      "state": {
       "children": [
        "IPY_MODEL_ea18ab2884da4a3bbbccf2587b26e797",
        "IPY_MODEL_42af8d2f2a294b4b86696481c8f1b224"
       ],
       "layout": "IPY_MODEL_5c7f8f2a83dd44ed9daa1b9de5b7a815"
      }
     },
     "275226a2f96d41fdab6c3b6563316add": {
      "model_module": "@jupyter-widgets/base",
      "model_module_version": "1.2.0",
      "model_name": "LayoutModel",
      "state": {}
     },
     "287f8a05049849a1a6c064c525d35604": {
      "model_module": "@jupyter-widgets/controls",
      "model_module_version": "1.5.0",
      "model_name": "HBoxModel",
      "state": {
       "children": [
        "IPY_MODEL_c573e0f7422e4f6187e90c49c4155bbc",
        "IPY_MODEL_0b41179e2f2548fa9075084ce997ea93"
       ],
       "layout": "IPY_MODEL_9bf9ad3290c1416586a64ae1ee44d238"
      }
     },
     "2aef49d134ac407b90279285efd1acfd": {
      "model_module": "@jupyter-widgets/controls",
      "model_module_version": "1.5.0",
      "model_name": "HTMLModel",
      "state": {
       "layout": "IPY_MODEL_4ba5e0bd614d47f98bccd0de3ed6f014",
       "style": "IPY_MODEL_c9d25ccca22c42bf8a68c7556ac16e7d",
       "value": " 200/200 [00:33&lt;00:00,  5.94 batchs/s, train_acc=98.700, val_acc=97.990]"
      }
     },
     "2b29c5786d294e42b69783a883cd68c9": {
      "model_module": "@jupyter-widgets/controls",
      "model_module_version": "1.5.0",
      "model_name": "ProgressStyleModel",
      "state": {
       "description_width": "initial"
      }
     },
     "2d91f47acc704242982fbc3748e41ad9": {
      "model_module": "@jupyter-widgets/controls",
      "model_module_version": "1.5.0",
      "model_name": "HTMLModel",
      "state": {
       "layout": "IPY_MODEL_52770f1eb294455d9aeb7bcf50597be2",
       "style": "IPY_MODEL_5ef91c7e4bec43638861144edadc8fc1",
       "value": " 200/200 [00:50&lt;00:00,  3.97 batchs/s, train_acc=98.600, val_acc=97.650]"
      }
     },
     "2e31062e76024aba88cec3e8fc885d55": {
      "model_module": "@jupyter-widgets/controls",
      "model_module_version": "1.5.0",
      "model_name": "DescriptionStyleModel",
      "state": {
       "description_width": ""
      }
     },
     "2ed43ff20f764095b1a6d6349c72db04": {
      "model_module": "@jupyter-widgets/controls",
      "model_module_version": "1.5.0",
      "model_name": "ProgressStyleModel",
      "state": {
       "description_width": "initial"
      }
     },
     "2ff4771bfabb4f11819ec8b390822db1": {
      "model_module": "@jupyter-widgets/controls",
      "model_module_version": "1.5.0",
      "model_name": "FloatProgressModel",
      "state": {
       "description": "100%",
       "layout": "IPY_MODEL_6f677dc2670f427fadc2dbf93fcded6e",
       "max": 200,
       "style": "IPY_MODEL_8aca35a2d09e4b4a92b0fdf238038583",
       "value": 200
      }
     },
     "31805437d67b4d0abe8908d204b97572": {
      "model_module": "@jupyter-widgets/controls",
      "model_module_version": "1.5.0",
      "model_name": "FloatProgressModel",
      "state": {
       "description": "  0%",
       "layout": "IPY_MODEL_f1a964033ff240a88cded3826dc53cce",
       "max": 5,
       "style": "IPY_MODEL_1e205b97198e470ba9978e2518e8e654"
      }
     },
     "33597f99ff5b4149a85fd3e1a3f3b606": {
      "model_module": "@jupyter-widgets/base",
      "model_module_version": "1.2.0",
      "model_name": "LayoutModel",
      "state": {}
     },
     "335d4dd7df9d4d5383ea8ffab9e3ccff": {
      "model_module": "@jupyter-widgets/controls",
      "model_module_version": "1.5.0",
      "model_name": "HTMLModel",
      "state": {
       "layout": "IPY_MODEL_d7d4d1f888764d8b9cd136f6632937cb",
       "style": "IPY_MODEL_f6dd2093c3884559a3db95fdae42d4e1",
       "value": " 0/5 [00:00&lt;?, ?epoch/s]"
      }
     },
     "34c6bcaf2eba4ec78ce3a3173dc092fc": {
      "model_module": "@jupyter-widgets/base",
      "model_module_version": "1.2.0",
      "model_name": "LayoutModel",
      "state": {}
     },
     "360e8351732248348e58f2b059d8978c": {
      "model_module": "@jupyter-widgets/base",
      "model_module_version": "1.2.0",
      "model_name": "LayoutModel",
      "state": {}
     },
     "37ac39ca464442229273d62dc567c693": {
      "model_module": "@jupyter-widgets/base",
      "model_module_version": "1.2.0",
      "model_name": "LayoutModel",
      "state": {}
     },
     "37e83d72e024405cb34358e7cb287468": {
      "model_module": "@jupyter-widgets/base",
      "model_module_version": "1.2.0",
      "model_name": "LayoutModel",
      "state": {}
     },
     "380f615bef9e412c830996550efd6df0": {
      "model_module": "@jupyter-widgets/controls",
      "model_module_version": "1.5.0",
      "model_name": "HTMLModel",
      "state": {
       "layout": "IPY_MODEL_aac9247abdfc443e98573d9ab875ca57",
       "style": "IPY_MODEL_cca95460337349d6a2b73bddc501c495",
       "value": " 200/200 [00:32&lt;00:00, 12.40 batchs/s, train_acc=97.933, val_acc=97.300]"
      }
     },
     "38d13090b12e48b299cc5109db11168c": {
      "model_module": "@jupyter-widgets/controls",
      "model_module_version": "1.5.0",
      "model_name": "DescriptionStyleModel",
      "state": {
       "description_width": ""
      }
     },
     "3a257d15ed0548d2a42806c152f709b4": {
      "model_module": "@jupyter-widgets/controls",
      "model_module_version": "1.5.0",
      "model_name": "HTMLModel",
      "state": {
       "layout": "IPY_MODEL_8e53ed963db646af9e5008ada110fd62",
       "style": "IPY_MODEL_adbac39dd1134dccbde53c9ae0e40965",
       "value": " 200/200 [01:25&lt;00:00,  2.35 batchs/s, train_acc=97.533, val_acc=95.960]"
      }
     },
     "3c9f2321e2664433885f99521291c09a": {
      "model_module": "@jupyter-widgets/controls",
      "model_module_version": "1.5.0",
      "model_name": "HBoxModel",
      "state": {
       "children": [
        "IPY_MODEL_703dbe40d0ee42798b85f4b1583b75e9",
        "IPY_MODEL_9e14dda3ce3b4b8eba704c859e541729"
       ],
       "layout": "IPY_MODEL_52d9c2caef2e42edae323f4da5fe7b68"
      }
     },
     "3f0026d7f6e94b2086d499061cd00421": {
      "model_module": "@jupyter-widgets/base",
      "model_module_version": "1.2.0",
      "model_name": "LayoutModel",
      "state": {}
     },
     "3f197f55bffc4b889d3eff8d68d77e54": {
      "model_module": "@jupyter-widgets/controls",
      "model_module_version": "1.5.0",
      "model_name": "DescriptionStyleModel",
      "state": {
       "description_width": ""
      }
     },
     "41546781765145e68ab8ab2f13e3b75c": {
      "model_module": "@jupyter-widgets/controls",
      "model_module_version": "1.5.0",
      "model_name": "DescriptionStyleModel",
      "state": {
       "description_width": ""
      }
     },
     "41a4c05f807a4d8ba34fb3d0323edff3": {
      "model_module": "@jupyter-widgets/controls",
      "model_module_version": "1.5.0",
      "model_name": "HTMLModel",
      "state": {
       "layout": "IPY_MODEL_bcf738fc563149bebb7c8af4299974ee",
       "style": "IPY_MODEL_4826b51729c843798d67226046601653",
       "value": " 200/200 [00:33&lt;00:00, 12.29 batchs/s, train_acc=98.800, val_acc=98.110]"
      }
     },
     "4257a3a532e34a03ae7b7e78a1fd1619": {
      "model_module": "@jupyter-widgets/controls",
      "model_module_version": "1.5.0",
      "model_name": "DescriptionStyleModel",
      "state": {
       "description_width": ""
      }
     },
     "42af8d2f2a294b4b86696481c8f1b224": {
      "model_module": "@jupyter-widgets/controls",
      "model_module_version": "1.5.0",
      "model_name": "HTMLModel",
      "state": {
       "layout": "IPY_MODEL_513428c7d8ca470f8d78386f36d403b5",
       "style": "IPY_MODEL_38d13090b12e48b299cc5109db11168c",
       "value": " 5/5 [01:26&lt;00:00, 17.35s/epoch]"
      }
     },
     "437651a7c27d48acb3bd938acbc53a76": {
      "model_module": "@jupyter-widgets/controls",
      "model_module_version": "1.5.0",
      "model_name": "HBoxModel",
      "state": {
       "children": [
        "IPY_MODEL_a9a1b46050b94870b4b5c0cd84875e76",
        "IPY_MODEL_890d6916a6374f6f953fc842fb255bcc"
       ],
       "layout": "IPY_MODEL_d80f3fcd5f3043b9a1f53a4351ee28b6"
      }
     },
     "447231c0195e4d359467f43546043e8c": {
      "model_module": "@jupyter-widgets/base",
      "model_module_version": "1.2.0",
      "model_name": "LayoutModel",
      "state": {}
     },
     "448cd3d0a60447b98a6e6bf272e2d759": {
      "model_module": "@jupyter-widgets/base",
      "model_module_version": "1.2.0",
      "model_name": "LayoutModel",
      "state": {}
     },
     "449b1571fcba469591491275cc8377b6": {
      "model_module": "@jupyter-widgets/base",
      "model_module_version": "1.2.0",
      "model_name": "LayoutModel",
      "state": {}
     },
     "4517cfdc6cd54c4fa001aaa52e723769": {
      "model_module": "@jupyter-widgets/controls",
      "model_module_version": "1.5.0",
      "model_name": "HBoxModel",
      "state": {
       "children": [
        "IPY_MODEL_e567c9b3c51b414db13ea04d3a2d4480",
        "IPY_MODEL_ef91b72df8604c23b5f9f03ff150d91c"
       ],
       "layout": "IPY_MODEL_ff6f71ef329b4ea9b9796892a403d877"
      }
     },
     "46e3b685787c42fbb8117a8bd21d8a4b": {
      "model_module": "@jupyter-widgets/base",
      "model_module_version": "1.2.0",
      "model_name": "LayoutModel",
      "state": {}
     },
     "482502f58dc946f0a967d7749a53733d": {
      "model_module": "@jupyter-widgets/base",
      "model_module_version": "1.2.0",
      "model_name": "LayoutModel",
      "state": {}
     },
     "4826b51729c843798d67226046601653": {
      "model_module": "@jupyter-widgets/controls",
      "model_module_version": "1.5.0",
      "model_name": "DescriptionStyleModel",
      "state": {
       "description_width": ""
      }
     },
     "49d0835ecad243649afce1dc56cb3214": {
      "model_module": "@jupyter-widgets/controls",
      "model_module_version": "1.5.0",
      "model_name": "FloatProgressModel",
      "state": {
       "description": "100%",
       "layout": "IPY_MODEL_a293987e0fc54e2b9a487ef12474db5d",
       "max": 200,
       "style": "IPY_MODEL_5b81aaf2b6f84929ae0a40d8ed678151",
       "value": 200
      }
     },
     "4a4d0fe99b794648b8cd5ebab538805a": {
      "model_module": "@jupyter-widgets/base",
      "model_module_version": "1.2.0",
      "model_name": "LayoutModel",
      "state": {}
     },
     "4ba5e0bd614d47f98bccd0de3ed6f014": {
      "model_module": "@jupyter-widgets/base",
      "model_module_version": "1.2.0",
      "model_name": "LayoutModel",
      "state": {}
     },
     "4d23d14dd1964d0ea74eb8b77bde0268": {
      "model_module": "@jupyter-widgets/controls",
      "model_module_version": "1.5.0",
      "model_name": "HBoxModel",
      "state": {
       "children": [
        "IPY_MODEL_6cf98a0b2b4f41d1a874727ae52d0f09",
        "IPY_MODEL_bca42996973242dbb73a2871f501b8ba"
       ],
       "layout": "IPY_MODEL_8babc936a85e47d686bcd46f04200d5e"
      }
     },
     "4d8d2ea317d94eb2a2ee7a4850269a8c": {
      "model_module": "@jupyter-widgets/base",
      "model_module_version": "1.2.0",
      "model_name": "LayoutModel",
      "state": {}
     },
     "4e557675ebf84e9facc1ff66de9ddc19": {
      "model_module": "@jupyter-widgets/base",
      "model_module_version": "1.2.0",
      "model_name": "LayoutModel",
      "state": {}
     },
     "4ef66d772bb842619eecdcc614987c3e": {
      "model_module": "@jupyter-widgets/controls",
      "model_module_version": "1.5.0",
      "model_name": "ProgressStyleModel",
      "state": {
       "description_width": "initial"
      }
     },
     "502268cd5a8945b8b9f2c7407e8da4b1": {
      "model_module": "@jupyter-widgets/base",
      "model_module_version": "1.2.0",
      "model_name": "LayoutModel",
      "state": {}
     },
     "513428c7d8ca470f8d78386f36d403b5": {
      "model_module": "@jupyter-widgets/base",
      "model_module_version": "1.2.0",
      "model_name": "LayoutModel",
      "state": {}
     },
     "51b6b3fec6e54274a62ac96cf7c0f2f8": {
      "model_module": "@jupyter-widgets/controls",
      "model_module_version": "1.5.0",
      "model_name": "DescriptionStyleModel",
      "state": {
       "description_width": ""
      }
     },
     "52770f1eb294455d9aeb7bcf50597be2": {
      "model_module": "@jupyter-widgets/base",
      "model_module_version": "1.2.0",
      "model_name": "LayoutModel",
      "state": {}
     },
     "5287b84e21654497ba869bfbda3928e0": {
      "model_module": "@jupyter-widgets/controls",
      "model_module_version": "1.5.0",
      "model_name": "HBoxModel",
      "state": {
       "children": [
        "IPY_MODEL_cea7686437674a12ac9e87644a35211b",
        "IPY_MODEL_cc86f5d2ef9d4edc9c5aa2bc4b8c544a"
       ],
       "layout": "IPY_MODEL_530affa0701240baa4d83e45bc328f7a"
      }
     },
     "52d9c2caef2e42edae323f4da5fe7b68": {
      "model_module": "@jupyter-widgets/base",
      "model_module_version": "1.2.0",
      "model_name": "LayoutModel",
      "state": {}
     },
     "530affa0701240baa4d83e45bc328f7a": {
      "model_module": "@jupyter-widgets/base",
      "model_module_version": "1.2.0",
      "model_name": "LayoutModel",
      "state": {}
     },
     "536a46b4a19b4c188dada5e7970d198b": {
      "model_module": "@jupyter-widgets/controls",
      "model_module_version": "1.5.0",
      "model_name": "FloatProgressModel",
      "state": {
       "bar_style": "success",
       "description": "100%",
       "layout": "IPY_MODEL_e90b1f4277854bdebe967a1ab613330b",
       "max": 200,
       "style": "IPY_MODEL_f354176617eb486cbde4a2cffa6b91b0",
       "value": 200
      }
     },
     "558c82ce987f4838831f117e8013219a": {
      "model_module": "@jupyter-widgets/controls",
      "model_module_version": "1.5.0",
      "model_name": "HBoxModel",
      "state": {
       "children": [
        "IPY_MODEL_ce41df06987742899674839a20dd79e4",
        "IPY_MODEL_335d4dd7df9d4d5383ea8ffab9e3ccff"
       ],
       "layout": "IPY_MODEL_92d4c963a6a9473a8ab6f052dbe9e736"
      }
     },
     "57afe815e33541bca4b2b80a8b62553a": {
      "model_module": "@jupyter-widgets/controls",
      "model_module_version": "1.5.0",
      "model_name": "ProgressStyleModel",
      "state": {
       "description_width": "initial"
      }
     },
     "5826f7e5986d4f048f3143c840d53a74": {
      "model_module": "@jupyter-widgets/controls",
      "model_module_version": "1.5.0",
      "model_name": "FloatProgressModel",
      "state": {
       "bar_style": "success",
       "description": "100%",
       "layout": "IPY_MODEL_fd23fe877d4049328acbe262cffe6771",
       "max": 200,
       "style": "IPY_MODEL_c94afedf88af4f9da523089e72ca4606",
       "value": 200
      }
     },
     "58b670e750804a74a755094ddd7ddc8b": {
      "model_module": "@jupyter-widgets/controls",
      "model_module_version": "1.5.0",
      "model_name": "FloatProgressModel",
      "state": {
       "bar_style": "success",
       "description": "100%",
       "layout": "IPY_MODEL_180994109aac47b787990c47968520cb",
       "max": 200,
       "style": "IPY_MODEL_7ecdc08709e445f3a2915ffff8c46d26",
       "value": 200
      }
     },
     "58ed3d6c73e64f518c5262595cec1ab5": {
      "model_module": "@jupyter-widgets/base",
      "model_module_version": "1.2.0",
      "model_name": "LayoutModel",
      "state": {}
     },
     "599239445f74463fa4fb693015213b1d": {
      "model_module": "@jupyter-widgets/controls",
      "model_module_version": "1.5.0",
      "model_name": "HTMLModel",
      "state": {
       "layout": "IPY_MODEL_a2f6e2553a6741a4be4e1b0cb7f6eb8f",
       "style": "IPY_MODEL_4257a3a532e34a03ae7b7e78a1fd1619",
       "value": " 200/200 [00:30&lt;00:00, 11.53 batchs/s, train_acc=99.067, val_acc=98.250]"
      }
     },
     "5a6277e0e0f040d7b4f494f419ff95eb": {
      "model_module": "@jupyter-widgets/base",
      "model_module_version": "1.2.0",
      "model_name": "LayoutModel",
      "state": {}
     },
     "5b5e86cbf2f9435abb83a1fa1a9932a3": {
      "model_module": "@jupyter-widgets/controls",
      "model_module_version": "1.5.0",
      "model_name": "HTMLModel",
      "state": {
       "layout": "IPY_MODEL_1f9326abea7e4ed3b0e36738d7c59a99",
       "style": "IPY_MODEL_e550fa8bdd7e4f97923446d0da9a5fa0",
       "value": " 200/200 [00:35&lt;00:00, 11.37 batchs/s, train_acc=98.567, val_acc=97.830]"
      }
     },
     "5b81aaf2b6f84929ae0a40d8ed678151": {
      "model_module": "@jupyter-widgets/controls",
      "model_module_version": "1.5.0",
      "model_name": "ProgressStyleModel",
      "state": {
       "description_width": "initial"
      }
     },
     "5c7f8f2a83dd44ed9daa1b9de5b7a815": {
      "model_module": "@jupyter-widgets/base",
      "model_module_version": "1.2.0",
      "model_name": "LayoutModel",
      "state": {}
     },
     "5d573118a8ef46f8b41bb768efc907fa": {
      "model_module": "@jupyter-widgets/controls",
      "model_module_version": "1.5.0",
      "model_name": "FloatProgressModel",
      "state": {
       "bar_style": "info",
       "layout": "IPY_MODEL_4e557675ebf84e9facc1ff66de9ddc19",
       "max": 1,
       "style": "IPY_MODEL_823420a2218e4f5098267b2a163a822a",
       "value": 1
      }
     },
     "5dbec0376f3d4c8a93d126d0a6d3b595": {
      "model_module": "@jupyter-widgets/base",
      "model_module_version": "1.2.0",
      "model_name": "LayoutModel",
      "state": {}
     },
     "5e2eff59f61a44f385f0f48f96978b3b": {
      "model_module": "@jupyter-widgets/base",
      "model_module_version": "1.2.0",
      "model_name": "LayoutModel",
      "state": {}
     },
     "5ef91c7e4bec43638861144edadc8fc1": {
      "model_module": "@jupyter-widgets/controls",
      "model_module_version": "1.5.0",
      "model_name": "DescriptionStyleModel",
      "state": {
       "description_width": ""
      }
     },
     "616d9bc5f2a54fbd8aa0904b28f417a7": {
      "model_module": "@jupyter-widgets/controls",
      "model_module_version": "1.5.0",
      "model_name": "HBoxModel",
      "state": {
       "children": [
        "IPY_MODEL_93875c20621a485aabf520730d76846f",
        "IPY_MODEL_2aef49d134ac407b90279285efd1acfd"
       ],
       "layout": "IPY_MODEL_37e83d72e024405cb34358e7cb287468"
      }
     },
     "61974ce7c6b34ac7a3dbc6e75a15494b": {
      "model_module": "@jupyter-widgets/controls",
      "model_module_version": "1.5.0",
      "model_name": "ProgressStyleModel",
      "state": {
       "description_width": "initial"
      }
     },
     "64819beaa64e4d088fe7641c992766bb": {
      "model_module": "@jupyter-widgets/base",
      "model_module_version": "1.2.0",
      "model_name": "LayoutModel",
      "state": {}
     },
     "64f05f4904604055a9e209dc43c4226f": {
      "model_module": "@jupyter-widgets/controls",
      "model_module_version": "1.5.0",
      "model_name": "DescriptionStyleModel",
      "state": {
       "description_width": ""
      }
     },
     "65cb1bd945ce439599014bda28e70f70": {
      "model_module": "@jupyter-widgets/controls",
      "model_module_version": "1.5.0",
      "model_name": "HBoxModel",
      "state": {
       "children": [
        "IPY_MODEL_536a46b4a19b4c188dada5e7970d198b",
        "IPY_MODEL_fa57c22c75254770a19a1170e5ef48ad"
       ],
       "layout": "IPY_MODEL_b78eb8990c58451995a63981f5e99eb0"
      }
     },
     "67e0587ab2c74c4e80da256883a28429": {
      "model_module": "@jupyter-widgets/controls",
      "model_module_version": "1.5.0",
      "model_name": "DescriptionStyleModel",
      "state": {
       "description_width": ""
      }
     },
     "6bb252498d0a497685f5a4827663c611": {
      "model_module": "@jupyter-widgets/base",
      "model_module_version": "1.2.0",
      "model_name": "LayoutModel",
      "state": {}
     },
     "6bf712fbb3824ed1a3b3bdd96ae471b2": {
      "model_module": "@jupyter-widgets/controls",
      "model_module_version": "1.5.0",
      "model_name": "HTMLModel",
      "state": {
       "layout": "IPY_MODEL_d2786e9680fb48bbb2ecc0911c10390c",
       "style": "IPY_MODEL_f6cd94e554144f2ab897e30c0a78b59e",
       "value": " 9920512/? [00:20&lt;00:00, 1332258.43it/s]"
      }
     },
     "6cf98a0b2b4f41d1a874727ae52d0f09": {
      "model_module": "@jupyter-widgets/controls",
      "model_module_version": "1.5.0",
      "model_name": "FloatProgressModel",
      "state": {
       "bar_style": "success",
       "description": "100%",
       "layout": "IPY_MODEL_d8ebfec458984107ac0213405c4ba0d4",
       "max": 5,
       "style": "IPY_MODEL_7b9bb8489a504ccc84304c1e765b8bec",
       "value": 5
      }
     },
     "6e98c67426d44f76ae1455b7a66ef042": {
      "model_module": "@jupyter-widgets/controls",
      "model_module_version": "1.5.0",
      "model_name": "FloatProgressModel",
      "state": {
       "bar_style": "success",
       "description": "100%",
       "layout": "IPY_MODEL_e9fb0c07f2704b5bb15db7deeba5d183",
       "max": 200,
       "style": "IPY_MODEL_b4a7348b1f754941af24953299ae4c7d",
       "value": 200
      }
     },
     "6f0f7d5119dd4df181b9fb7ea89871fb": {
      "model_module": "@jupyter-widgets/controls",
      "model_module_version": "1.5.0",
      "model_name": "HBoxModel",
      "state": {
       "children": [
        "IPY_MODEL_31805437d67b4d0abe8908d204b97572",
        "IPY_MODEL_888ccacbcb7f48e89bcab5d866a435b7"
       ],
       "layout": "IPY_MODEL_ba53268ad7dc45df9745b4eaf4a95f13"
      }
     },
     "6f677dc2670f427fadc2dbf93fcded6e": {
      "model_module": "@jupyter-widgets/base",
      "model_module_version": "1.2.0",
      "model_name": "LayoutModel",
      "state": {}
     },
     "703dbe40d0ee42798b85f4b1583b75e9": {
      "model_module": "@jupyter-widgets/controls",
      "model_module_version": "1.5.0",
      "model_name": "FloatProgressModel",
      "state": {
       "description": "100%",
       "layout": "IPY_MODEL_58ed3d6c73e64f518c5262595cec1ab5",
       "max": 200,
       "style": "IPY_MODEL_57afe815e33541bca4b2b80a8b62553a",
       "value": 200
      }
     },
     "71830903913c4ad4807b7718d52655e4": {
      "model_module": "@jupyter-widgets/base",
      "model_module_version": "1.2.0",
      "model_name": "LayoutModel",
      "state": {}
     },
     "71e484ed1fea46298f3c1d2a7bdb6f57": {
      "model_module": "@jupyter-widgets/base",
      "model_module_version": "1.2.0",
      "model_name": "LayoutModel",
      "state": {}
     },
     "755ad8b636b448afb37f4f6113b4d4d1": {
      "model_module": "@jupyter-widgets/controls",
      "model_module_version": "1.5.0",
      "model_name": "DescriptionStyleModel",
      "state": {
       "description_width": ""
      }
     },
     "777a4a0dd33747afb8ffdba3433bd823": {
      "model_module": "@jupyter-widgets/controls",
      "model_module_version": "1.5.0",
      "model_name": "DescriptionStyleModel",
      "state": {
       "description_width": ""
      }
     },
     "7a20155d323540f59a57db7ce9ab3a77": {
      "model_module": "@jupyter-widgets/controls",
      "model_module_version": "1.5.0",
      "model_name": "HBoxModel",
      "state": {
       "children": [
        "IPY_MODEL_49d0835ecad243649afce1dc56cb3214",
        "IPY_MODEL_5b5e86cbf2f9435abb83a1fa1a9932a3"
       ],
       "layout": "IPY_MODEL_71830903913c4ad4807b7718d52655e4"
      }
     },
     "7b6ad4836d464bca8d89521558420cbe": {
      "model_module": "@jupyter-widgets/controls",
      "model_module_version": "1.5.0",
      "model_name": "ProgressStyleModel",
      "state": {
       "description_width": "initial"
      }
     },
     "7b9bb8489a504ccc84304c1e765b8bec": {
      "model_module": "@jupyter-widgets/controls",
      "model_module_version": "1.5.0",
      "model_name": "ProgressStyleModel",
      "state": {
       "description_width": "initial"
      }
     },
     "7cc9fd10706a4311bcddc2025d904930": {
      "model_module": "@jupyter-widgets/base",
      "model_module_version": "1.2.0",
      "model_name": "LayoutModel",
      "state": {}
     },
     "7eb0fbdae26947ef9741ef99f2c2a5fc": {
      "model_module": "@jupyter-widgets/controls",
      "model_module_version": "1.5.0",
      "model_name": "FloatProgressModel",
      "state": {
       "description": "100%",
       "layout": "IPY_MODEL_33597f99ff5b4149a85fd3e1a3f3b606",
       "max": 200,
       "style": "IPY_MODEL_8b8543a6a5134eab8ba4ad39e9d6f91c",
       "value": 200
      }
     },
     "7ecdc08709e445f3a2915ffff8c46d26": {
      "model_module": "@jupyter-widgets/controls",
      "model_module_version": "1.5.0",
      "model_name": "ProgressStyleModel",
      "state": {
       "description_width": "initial"
      }
     },
     "7f7671c9b5214ebca247bde1e6d2dd15": {
      "model_module": "@jupyter-widgets/controls",
      "model_module_version": "1.5.0",
      "model_name": "HBoxModel",
      "state": {
       "children": [
        "IPY_MODEL_2ff4771bfabb4f11819ec8b390822db1",
        "IPY_MODEL_153f5629eb9545ac989fdd607e73c261"
       ],
       "layout": "IPY_MODEL_e50fe25247bb4857a8c84f970fa00a77"
      }
     },
     "817d15204a3b401885a350d04fccc116": {
      "model_module": "@jupyter-widgets/controls",
      "model_module_version": "1.5.0",
      "model_name": "FloatProgressModel",
      "state": {
       "bar_style": "success",
       "description": "100%",
       "layout": "IPY_MODEL_a284b8bb2ed14f52849aff8a23aad251",
       "max": 200,
       "style": "IPY_MODEL_ef279909591c4ca7b0471a7ce068cc71",
       "value": 200
      }
     },
     "81ecba2f904b4daa9d5dbf40f01a5f3f": {
      "model_module": "@jupyter-widgets/controls",
      "model_module_version": "1.5.0",
      "model_name": "DescriptionStyleModel",
      "state": {
       "description_width": ""
      }
     },
     "823420a2218e4f5098267b2a163a822a": {
      "model_module": "@jupyter-widgets/controls",
      "model_module_version": "1.5.0",
      "model_name": "ProgressStyleModel",
      "state": {
       "description_width": "initial"
      }
     },
     "8289eae2b15941f3b619c6d3a9d7f2be": {
      "model_module": "@jupyter-widgets/controls",
      "model_module_version": "1.5.0",
      "model_name": "ProgressStyleModel",
      "state": {
       "description_width": "initial"
      }
     },
     "833060cc00a947fa9b4fb0760276eac7": {
      "model_module": "@jupyter-widgets/controls",
      "model_module_version": "1.5.0",
      "model_name": "FloatProgressModel",
      "state": {
       "bar_style": "info",
       "layout": "IPY_MODEL_e381e653d8254e87a0a8fffd90a4f82e",
       "max": 1,
       "style": "IPY_MODEL_eab6cc61fc984e9da41b2a9204d2a679",
       "value": 1
      }
     },
     "83f1ba7b5aec432890349f3c2475b76f": {
      "model_module": "@jupyter-widgets/base",
      "model_module_version": "1.2.0",
      "model_name": "LayoutModel",
      "state": {}
     },
     "848eb3ed659e4bbc95994c12f7492b7c": {
      "model_module": "@jupyter-widgets/controls",
      "model_module_version": "1.5.0",
      "model_name": "FloatProgressModel",
      "state": {
       "description": "100%",
       "layout": "IPY_MODEL_502268cd5a8945b8b9f2c7407e8da4b1",
       "max": 5,
       "style": "IPY_MODEL_7b6ad4836d464bca8d89521558420cbe",
       "value": 5
      }
     },
     "8524d65d7a1c43c1b18302e598fc262c": {
      "model_module": "@jupyter-widgets/base",
      "model_module_version": "1.2.0",
      "model_name": "LayoutModel",
      "state": {}
     },
     "86e561b265a54862ad153abf7a6a74cb": {
      "model_module": "@jupyter-widgets/base",
      "model_module_version": "1.2.0",
      "model_name": "LayoutModel",
      "state": {}
     },
     "87c9a3251fd247fc90219d1ea6a6ca84": {
      "model_module": "@jupyter-widgets/base",
      "model_module_version": "1.2.0",
      "model_name": "LayoutModel",
      "state": {}
     },
     "8861afea6aca4091847ef0ba58cf5956": {
      "model_module": "@jupyter-widgets/controls",
      "model_module_version": "1.5.0",
      "model_name": "FloatProgressModel",
      "state": {
       "bar_style": "success",
       "description": "100%",
       "layout": "IPY_MODEL_9c55326216474be6b4866f018b033df7",
       "max": 200,
       "style": "IPY_MODEL_e8aa7787c9834378887599413db801d8",
       "value": 200
      }
     },
     "888ccacbcb7f48e89bcab5d866a435b7": {
      "model_module": "@jupyter-widgets/controls",
      "model_module_version": "1.5.0",
      "model_name": "HTMLModel",
      "state": {
       "layout": "IPY_MODEL_8524d65d7a1c43c1b18302e598fc262c",
       "style": "IPY_MODEL_a8f41a1af86446c9b611c970d26f7a42",
       "value": " 0/5 [00:00&lt;?, ?epoch/s]"
      }
     },
     "890d6916a6374f6f953fc842fb255bcc": {
      "model_module": "@jupyter-widgets/controls",
      "model_module_version": "1.5.0",
      "model_name": "HTMLModel",
      "state": {
       "layout": "IPY_MODEL_16e3f610733144139853d70cc1cc8b73",
       "style": "IPY_MODEL_81ecba2f904b4daa9d5dbf40f01a5f3f",
       "value": " 170/200 [00:15&lt;00:02, 11.80 batchs/s, train_acc=94.533, val_acc=95.550]"
      }
     },
     "8aca35a2d09e4b4a92b0fdf238038583": {
      "model_module": "@jupyter-widgets/controls",
      "model_module_version": "1.5.0",
      "model_name": "ProgressStyleModel",
      "state": {
       "description_width": "initial"
      }
     },
     "8b8543a6a5134eab8ba4ad39e9d6f91c": {
      "model_module": "@jupyter-widgets/controls",
      "model_module_version": "1.5.0",
      "model_name": "ProgressStyleModel",
      "state": {
       "description_width": "initial"
      }
     },
     "8b9d128fb61d48a1be4fe0cfba86f295": {
      "model_module": "@jupyter-widgets/controls",
      "model_module_version": "1.5.0",
      "model_name": "HTMLModel",
      "state": {
       "layout": "IPY_MODEL_482502f58dc946f0a967d7749a53733d",
       "style": "IPY_MODEL_cb18ae7204a0445394563a1d2cf41168",
       "value": " 5/5 [01:26&lt;00:00, 17.28s/epoch]"
      }
     },
     "8b9dbf5a1cd34919b6b0c12a95797fb4": {
      "model_module": "@jupyter-widgets/controls",
      "model_module_version": "1.5.0",
      "model_name": "FloatProgressModel",
      "state": {
       "description": "100%",
       "layout": "IPY_MODEL_447231c0195e4d359467f43546043e8c",
       "max": 200,
       "style": "IPY_MODEL_e3ce0834622942aa99503015e3f3dc3b",
       "value": 200
      }
     },
     "8babc936a85e47d686bcd46f04200d5e": {
      "model_module": "@jupyter-widgets/base",
      "model_module_version": "1.2.0",
      "model_name": "LayoutModel",
      "state": {}
     },
     "8c4adf7f647c4cb8957cb67d16a4ef10": {
      "model_module": "@jupyter-widgets/controls",
      "model_module_version": "1.5.0",
      "model_name": "HBoxModel",
      "state": {
       "children": [
        "IPY_MODEL_1096ca35b64f4b7aa08b61102815fee2",
        "IPY_MODEL_ecb22891c2654bafada720e009df8a56"
       ],
       "layout": "IPY_MODEL_5e2eff59f61a44f385f0f48f96978b3b"
      }
     },
     "8d38ab218ce541ab8f6279dda171041f": {
      "model_module": "@jupyter-widgets/controls",
      "model_module_version": "1.5.0",
      "model_name": "HBoxModel",
      "state": {
       "children": [
        "IPY_MODEL_833060cc00a947fa9b4fb0760276eac7",
        "IPY_MODEL_6bf712fbb3824ed1a3b3bdd96ae471b2"
       ],
       "layout": "IPY_MODEL_5a6277e0e0f040d7b4f494f419ff95eb"
      }
     },
     "8e53ed963db646af9e5008ada110fd62": {
      "model_module": "@jupyter-widgets/base",
      "model_module_version": "1.2.0",
      "model_name": "LayoutModel",
      "state": {}
     },
     "8f35de2ee0404088ac2d7f27e84fa02c": {
      "model_module": "@jupyter-widgets/controls",
      "model_module_version": "1.5.0",
      "model_name": "DescriptionStyleModel",
      "state": {
       "description_width": ""
      }
     },
     "913e3b53c2494788a367900b59cfbcf5": {
      "model_module": "@jupyter-widgets/base",
      "model_module_version": "1.2.0",
      "model_name": "LayoutModel",
      "state": {}
     },
     "92626c19f71d469db108fd163e46d2d1": {
      "model_module": "@jupyter-widgets/base",
      "model_module_version": "1.2.0",
      "model_name": "LayoutModel",
      "state": {}
     },
     "926561652f5d4c22a5df9bc9c2c0503f": {
      "model_module": "@jupyter-widgets/controls",
      "model_module_version": "1.5.0",
      "model_name": "HBoxModel",
      "state": {
       "children": [
        "IPY_MODEL_9fd3bcf4c67f4f1c87e739c752815f1d",
        "IPY_MODEL_3a257d15ed0548d2a42806c152f709b4"
       ],
       "layout": "IPY_MODEL_d63c7b8591d342cd821aa21fef60c370"
      }
     },
     "92d4c963a6a9473a8ab6f052dbe9e736": {
      "model_module": "@jupyter-widgets/base",
      "model_module_version": "1.2.0",
      "model_name": "LayoutModel",
      "state": {}
     },
     "93875c20621a485aabf520730d76846f": {
      "model_module": "@jupyter-widgets/controls",
      "model_module_version": "1.5.0",
      "model_name": "FloatProgressModel",
      "state": {
       "bar_style": "success",
       "description": "100%",
       "layout": "IPY_MODEL_64819beaa64e4d088fe7641c992766bb",
       "max": 200,
       "style": "IPY_MODEL_61974ce7c6b34ac7a3dbc6e75a15494b",
       "value": 200
      }
     },
     "94ca61724e274e899d2ffe60cb0a3597": {
      "model_module": "@jupyter-widgets/controls",
      "model_module_version": "1.5.0",
      "model_name": "ProgressStyleModel",
      "state": {
       "description_width": "initial"
      }
     },
     "9bf9ad3290c1416586a64ae1ee44d238": {
      "model_module": "@jupyter-widgets/base",
      "model_module_version": "1.2.0",
      "model_name": "LayoutModel",
      "state": {}
     },
     "9c55326216474be6b4866f018b033df7": {
      "model_module": "@jupyter-widgets/base",
      "model_module_version": "1.2.0",
      "model_name": "LayoutModel",
      "state": {}
     },
     "9dd73d0356934757a58f504e21d071a4": {
      "model_module": "@jupyter-widgets/controls",
      "model_module_version": "1.5.0",
      "model_name": "FloatProgressModel",
      "state": {
       "description": "100%",
       "layout": "IPY_MODEL_0dbda3e445814ede9581c4db28ce2d0c",
       "max": 5,
       "style": "IPY_MODEL_f7656de3f49448b69bcecf60c44f3a39",
       "value": 5
      }
     },
     "9e14dda3ce3b4b8eba704c859e541729": {
      "model_module": "@jupyter-widgets/controls",
      "model_module_version": "1.5.0",
      "model_name": "HTMLModel",
      "state": {
       "layout": "IPY_MODEL_ff533a5532344fa983b99e4359d444bc",
       "style": "IPY_MODEL_64f05f4904604055a9e209dc43c4226f",
       "value": " 200/200 [00:26&lt;00:00, 12.27 batchs/s, train_acc=98.400, val_acc=97.670]"
      }
     },
     "9fd3bcf4c67f4f1c87e739c752815f1d": {
      "model_module": "@jupyter-widgets/controls",
      "model_module_version": "1.5.0",
      "model_name": "FloatProgressModel",
      "state": {
       "bar_style": "success",
       "description": "100%",
       "layout": "IPY_MODEL_21fafc664a134135aa194c8825ff302f",
       "max": 200,
       "style": "IPY_MODEL_ed2cca49d59b40a4b2f5bb6df7928ddc",
       "value": 200
      }
     },
     "a1b2c5e453154597b9213a5a26377c6d": {
      "model_module": "@jupyter-widgets/base",
      "model_module_version": "1.2.0",
      "model_name": "LayoutModel",
      "state": {}
     },
     "a284b8bb2ed14f52849aff8a23aad251": {
      "model_module": "@jupyter-widgets/base",
      "model_module_version": "1.2.0",
      "model_name": "LayoutModel",
      "state": {}
     },
     "a293987e0fc54e2b9a487ef12474db5d": {
      "model_module": "@jupyter-widgets/base",
      "model_module_version": "1.2.0",
      "model_name": "LayoutModel",
      "state": {}
     },
     "a2f6e2553a6741a4be4e1b0cb7f6eb8f": {
      "model_module": "@jupyter-widgets/base",
      "model_module_version": "1.2.0",
      "model_name": "LayoutModel",
      "state": {}
     },
     "a3d87702701a416984dae9bac6a41284": {
      "model_module": "@jupyter-widgets/controls",
      "model_module_version": "1.5.0",
      "model_name": "FloatProgressModel",
      "state": {
       "description": "100%",
       "layout": "IPY_MODEL_34c6bcaf2eba4ec78ce3a3173dc092fc",
       "max": 200,
       "style": "IPY_MODEL_22791ffb1f3a4c67bf63063296f180ae",
       "value": 200
      }
     },
     "a510833659a04e59a970623f01505b35": {
      "model_module": "@jupyter-widgets/controls",
      "model_module_version": "1.5.0",
      "model_name": "FloatProgressModel",
      "state": {
       "description": "100%",
       "layout": "IPY_MODEL_c7717a0ca15745f799242d53826bc132",
       "max": 200,
       "style": "IPY_MODEL_b964395030a243fcb4d5549c77ecb967",
       "value": 200
      }
     },
     "a842adeb885244e4ab465a9ab5994028": {
      "model_module": "@jupyter-widgets/controls",
      "model_module_version": "1.5.0",
      "model_name": "HTMLModel",
      "state": {
       "layout": "IPY_MODEL_ea89b7f9cfea4a6cae9ba6de9f17d973",
       "style": "IPY_MODEL_f0efd2d3491d4ab1ae33f8a37c7ba4e5",
       "value": " 200/200 [01:09&lt;00:00,  2.87 batchs/s, train_acc=98.600, val_acc=97.470]"
      }
     },
     "a85302a3bba341a797122a78a208ab7c": {
      "model_module": "@jupyter-widgets/base",
      "model_module_version": "1.2.0",
      "model_name": "LayoutModel",
      "state": {}
     },
     "a8f41a1af86446c9b611c970d26f7a42": {
      "model_module": "@jupyter-widgets/controls",
      "model_module_version": "1.5.0",
      "model_name": "DescriptionStyleModel",
      "state": {
       "description_width": ""
      }
     },
     "a949f0a0070b4267b434ac8622ce9113": {
      "model_module": "@jupyter-widgets/controls",
      "model_module_version": "1.5.0",
      "model_name": "HTMLModel",
      "state": {
       "layout": "IPY_MODEL_0e41041b40d14e8a96ead1e273e0aa59",
       "style": "IPY_MODEL_2e31062e76024aba88cec3e8fc885d55",
       "value": " 5/5 [01:22&lt;00:00, 16.56s/epoch]"
      }
     },
     "a9a1b46050b94870b4b5c0cd84875e76": {
      "model_module": "@jupyter-widgets/controls",
      "model_module_version": "1.5.0",
      "model_name": "FloatProgressModel",
      "state": {
       "description": " 85%",
       "layout": "IPY_MODEL_46e3b685787c42fbb8117a8bd21d8a4b",
       "max": 200,
       "style": "IPY_MODEL_0b2e60cc74ab42d6bf223cf66d1f0d5d",
       "value": 170
      }
     },
     "aac9247abdfc443e98573d9ab875ca57": {
      "model_module": "@jupyter-widgets/base",
      "model_module_version": "1.2.0",
      "model_name": "LayoutModel",
      "state": {}
     },
     "abad12fbc2e8484084f7e600bbcde9d2": {
      "model_module": "@jupyter-widgets/controls",
      "model_module_version": "1.5.0",
      "model_name": "HBoxModel",
      "state": {
       "children": [
        "IPY_MODEL_58b670e750804a74a755094ddd7ddc8b",
        "IPY_MODEL_b66dd5129f8d47869550ebe6bb3ae94d"
       ],
       "layout": "IPY_MODEL_92626c19f71d469db108fd163e46d2d1"
      }
     },
     "aca00ad2d772427aa9fa87dcb3f436c7": {
      "model_module": "@jupyter-widgets/controls",
      "model_module_version": "1.5.0",
      "model_name": "DescriptionStyleModel",
      "state": {
       "description_width": ""
      }
     },
     "adbac39dd1134dccbde53c9ae0e40965": {
      "model_module": "@jupyter-widgets/controls",
      "model_module_version": "1.5.0",
      "model_name": "DescriptionStyleModel",
      "state": {
       "description_width": ""
      }
     },
     "af6e630e7ed4485b9758aed4d6fc1e90": {
      "model_module": "@jupyter-widgets/base",
      "model_module_version": "1.2.0",
      "model_name": "LayoutModel",
      "state": {}
     },
     "b32db37602a547bb82e6d78f33083f6c": {
      "model_module": "@jupyter-widgets/controls",
      "model_module_version": "1.5.0",
      "model_name": "HBoxModel",
      "state": {
       "children": [
        "IPY_MODEL_d7884a9db00e4f8f9c15a2c21d37d4b6",
        "IPY_MODEL_e4f7e203cb9b41a6a533a638d959035c"
       ],
       "layout": "IPY_MODEL_c3425b18619140b1ac8ab1f7851364ba"
      }
     },
     "b3882df3d23a4631a75e0bf59d038a48": {
      "model_module": "@jupyter-widgets/controls",
      "model_module_version": "1.5.0",
      "model_name": "HBoxModel",
      "state": {
       "children": [
        "IPY_MODEL_049fdbd309034fdfae83915b75d5073d",
        "IPY_MODEL_c189c9965a2446e39735baac865b7310"
       ],
       "layout": "IPY_MODEL_ef5e57eed0b046e28d606b3a5ad56304"
      }
     },
     "b4a7348b1f754941af24953299ae4c7d": {
      "model_module": "@jupyter-widgets/controls",
      "model_module_version": "1.5.0",
      "model_name": "ProgressStyleModel",
      "state": {
       "description_width": "initial"
      }
     },
     "b5187df725c94c1d979275626b200ec9": {
      "model_module": "@jupyter-widgets/base",
      "model_module_version": "1.2.0",
      "model_name": "LayoutModel",
      "state": {}
     },
     "b66dd5129f8d47869550ebe6bb3ae94d": {
      "model_module": "@jupyter-widgets/controls",
      "model_module_version": "1.5.0",
      "model_name": "HTMLModel",
      "state": {
       "layout": "IPY_MODEL_37ac39ca464442229273d62dc567c693",
       "style": "IPY_MODEL_67e0587ab2c74c4e80da256883a28429",
       "value": " 200/200 [00:17&lt;00:00, 11.59 batchs/s, train_acc=99.000, val_acc=98.410]"
      }
     },
     "b78eb8990c58451995a63981f5e99eb0": {
      "model_module": "@jupyter-widgets/base",
      "model_module_version": "1.2.0",
      "model_name": "LayoutModel",
      "state": {}
     },
     "b93e36666c2f48e49e2788ee967644c9": {
      "model_module": "@jupyter-widgets/controls",
      "model_module_version": "1.5.0",
      "model_name": "ProgressStyleModel",
      "state": {
       "description_width": "initial"
      }
     },
     "b964395030a243fcb4d5549c77ecb967": {
      "model_module": "@jupyter-widgets/controls",
      "model_module_version": "1.5.0",
      "model_name": "ProgressStyleModel",
      "state": {
       "description_width": "initial"
      }
     },
     "b99988d7a86b4b0badfd95b87c6e94af": {
      "model_module": "@jupyter-widgets/controls",
      "model_module_version": "1.5.0",
      "model_name": "DescriptionStyleModel",
      "state": {
       "description_width": ""
      }
     },
     "b9e3de442c084a009f8f7a518543e766": {
      "model_module": "@jupyter-widgets/base",
      "model_module_version": "1.2.0",
      "model_name": "LayoutModel",
      "state": {}
     },
     "ba53268ad7dc45df9745b4eaf4a95f13": {
      "model_module": "@jupyter-widgets/base",
      "model_module_version": "1.2.0",
      "model_name": "LayoutModel",
      "state": {}
     },
     "bca42996973242dbb73a2871f501b8ba": {
      "model_module": "@jupyter-widgets/controls",
      "model_module_version": "1.5.0",
      "model_name": "HTMLModel",
      "state": {
       "layout": "IPY_MODEL_4d8d2ea317d94eb2a2ee7a4850269a8c",
       "style": "IPY_MODEL_8f35de2ee0404088ac2d7f27e84fa02c",
       "value": " 5/5 [01:24&lt;00:00, 16.95s/epoch]"
      }
     },
     "bcf738fc563149bebb7c8af4299974ee": {
      "model_module": "@jupyter-widgets/base",
      "model_module_version": "1.2.0",
      "model_name": "LayoutModel",
      "state": {}
     },
     "c189c9965a2446e39735baac865b7310": {
      "model_module": "@jupyter-widgets/controls",
      "model_module_version": "1.5.0",
      "model_name": "HTMLModel",
      "state": {
       "layout": "IPY_MODEL_b9e3de442c084a009f8f7a518543e766",
       "style": "IPY_MODEL_eeec73a4c5534fb4b3387fa861aad75e",
       "value": " 32768/? [00:11&lt;00:00, 104524.58it/s]"
      }
     },
     "c3425b18619140b1ac8ab1f7851364ba": {
      "model_module": "@jupyter-widgets/base",
      "model_module_version": "1.2.0",
      "model_name": "LayoutModel",
      "state": {}
     },
     "c50fda98354a4ea08afac2f154dea098": {
      "model_module": "@jupyter-widgets/base",
      "model_module_version": "1.2.0",
      "model_name": "LayoutModel",
      "state": {}
     },
     "c573e0f7422e4f6187e90c49c4155bbc": {
      "model_module": "@jupyter-widgets/controls",
      "model_module_version": "1.5.0",
      "model_name": "FloatProgressModel",
      "state": {
       "bar_style": "info",
       "description": "  0%",
       "layout": "IPY_MODEL_dd39d4ef3e2f47a6b3e9769f16d7161b",
       "max": 1,
       "style": "IPY_MODEL_22b7dc6c469c41af95f1cb6e0610045a"
      }
     },
     "c7717a0ca15745f799242d53826bc132": {
      "model_module": "@jupyter-widgets/base",
      "model_module_version": "1.2.0",
      "model_name": "LayoutModel",
      "state": {}
     },
     "c94afedf88af4f9da523089e72ca4606": {
      "model_module": "@jupyter-widgets/controls",
      "model_module_version": "1.5.0",
      "model_name": "ProgressStyleModel",
      "state": {
       "description_width": "initial"
      }
     },
     "c9d25ccca22c42bf8a68c7556ac16e7d": {
      "model_module": "@jupyter-widgets/controls",
      "model_module_version": "1.5.0",
      "model_name": "DescriptionStyleModel",
      "state": {
       "description_width": ""
      }
     },
     "ca0898ea8c4642bf80be421b6721001b": {
      "model_module": "@jupyter-widgets/controls",
      "model_module_version": "1.5.0",
      "model_name": "FloatProgressModel",
      "state": {
       "description": "100%",
       "layout": "IPY_MODEL_09d0e76f50814a35a826ad22b3140938",
       "max": 200,
       "style": "IPY_MODEL_b93e36666c2f48e49e2788ee967644c9",
       "value": 200
      }
     },
     "ca2a1b658faa4036b4e4fd785b5a878e": {
      "model_module": "@jupyter-widgets/base",
      "model_module_version": "1.2.0",
      "model_name": "LayoutModel",
      "state": {}
     },
     "cb18ae7204a0445394563a1d2cf41168": {
      "model_module": "@jupyter-widgets/controls",
      "model_module_version": "1.5.0",
      "model_name": "DescriptionStyleModel",
      "state": {
       "description_width": ""
      }
     },
     "cb57b4e6c04d4a12b4280aba1a703870": {
      "model_module": "@jupyter-widgets/base",
      "model_module_version": "1.2.0",
      "model_name": "LayoutModel",
      "state": {}
     },
     "cc86f5d2ef9d4edc9c5aa2bc4b8c544a": {
      "model_module": "@jupyter-widgets/controls",
      "model_module_version": "1.5.0",
      "model_name": "HTMLModel",
      "state": {
       "layout": "IPY_MODEL_83f1ba7b5aec432890349f3c2475b76f",
       "style": "IPY_MODEL_41546781765145e68ab8ab2f13e3b75c",
       "value": " 200/200 [01:27&lt;00:00,  2.28 batchs/s, train_acc=97.833, val_acc=96.350]"
      }
     },
     "cca95460337349d6a2b73bddc501c495": {
      "model_module": "@jupyter-widgets/controls",
      "model_module_version": "1.5.0",
      "model_name": "DescriptionStyleModel",
      "state": {
       "description_width": ""
      }
     },
     "ce41df06987742899674839a20dd79e4": {
      "model_module": "@jupyter-widgets/controls",
      "model_module_version": "1.5.0",
      "model_name": "FloatProgressModel",
      "state": {
       "description": "  0%",
       "layout": "IPY_MODEL_f1688b1e21654b9484b8499c420e5be7",
       "max": 5,
       "style": "IPY_MODEL_4ef66d772bb842619eecdcc614987c3e"
      }
     },
     "cea7686437674a12ac9e87644a35211b": {
      "model_module": "@jupyter-widgets/controls",
      "model_module_version": "1.5.0",
      "model_name": "FloatProgressModel",
      "state": {
       "bar_style": "success",
       "description": "100%",
       "layout": "IPY_MODEL_17af921a2833408a958f904b2ad254b7",
       "max": 200,
       "style": "IPY_MODEL_00beaa72ca92400f990052b024e2efc4",
       "value": 200
      }
     },
     "cf78a8e7aad248ccb329f2644ac59e65": {
      "model_module": "@jupyter-widgets/controls",
      "model_module_version": "1.5.0",
      "model_name": "HTMLModel",
      "state": {
       "layout": "IPY_MODEL_ca2a1b658faa4036b4e4fd785b5a878e",
       "style": "IPY_MODEL_777a4a0dd33747afb8ffdba3433bd823",
       "value": " 200/200 [00:29&lt;00:00, 11.66 batchs/s, train_acc=97.467, val_acc=96.110]"
      }
     },
     "cff2ef84a09e425c9d7870a204f15576": {
      "model_module": "@jupyter-widgets/controls",
      "model_module_version": "1.5.0",
      "model_name": "DescriptionStyleModel",
      "state": {
       "description_width": ""
      }
     },
     "d12c2df32581477a969d1efae5d54c90": {
      "model_module": "@jupyter-widgets/controls",
      "model_module_version": "1.5.0",
      "model_name": "DescriptionStyleModel",
      "state": {
       "description_width": ""
      }
     },
     "d18a98865a2f45ff913cbfd1a18ce523": {
      "model_module": "@jupyter-widgets/controls",
      "model_module_version": "1.5.0",
      "model_name": "HTMLModel",
      "state": {
       "layout": "IPY_MODEL_e4e0fa2c65fc4eeb9d77ee084bbcb163",
       "style": "IPY_MODEL_0f679dbe6fde4a0d9cad38c8e4bb7f8d",
       "value": " 200/200 [00:16&lt;00:00, 11.87 batchs/s, train_acc=98.867, val_acc=98.220]"
      }
     },
     "d2786e9680fb48bbb2ecc0911c10390c": {
      "model_module": "@jupyter-widgets/base",
      "model_module_version": "1.2.0",
      "model_name": "LayoutModel",
      "state": {}
     },
     "d63c7b8591d342cd821aa21fef60c370": {
      "model_module": "@jupyter-widgets/base",
      "model_module_version": "1.2.0",
      "model_name": "LayoutModel",
      "state": {}
     },
     "d7884a9db00e4f8f9c15a2c21d37d4b6": {
      "model_module": "@jupyter-widgets/controls",
      "model_module_version": "1.5.0",
      "model_name": "FloatProgressModel",
      "state": {
       "description": "100%",
       "layout": "IPY_MODEL_af6e630e7ed4485b9758aed4d6fc1e90",
       "max": 200,
       "style": "IPY_MODEL_94ca61724e274e899d2ffe60cb0a3597",
       "value": 200
      }
     },
     "d7d2c0506c6640f3b131fbb1aaf2e6ca": {
      "model_module": "@jupyter-widgets/base",
      "model_module_version": "1.2.0",
      "model_name": "LayoutModel",
      "state": {}
     },
     "d7d4d1f888764d8b9cd136f6632937cb": {
      "model_module": "@jupyter-widgets/base",
      "model_module_version": "1.2.0",
      "model_name": "LayoutModel",
      "state": {}
     },
     "d80f3fcd5f3043b9a1f53a4351ee28b6": {
      "model_module": "@jupyter-widgets/base",
      "model_module_version": "1.2.0",
      "model_name": "LayoutModel",
      "state": {}
     },
     "d8ebfec458984107ac0213405c4ba0d4": {
      "model_module": "@jupyter-widgets/base",
      "model_module_version": "1.2.0",
      "model_name": "LayoutModel",
      "state": {}
     },
     "da95a03fe4de42f2a6b009a4870c9720": {
      "model_module": "@jupyter-widgets/controls",
      "model_module_version": "1.5.0",
      "model_name": "HTMLModel",
      "state": {
       "layout": "IPY_MODEL_6bb252498d0a497685f5a4827663c611",
       "style": "IPY_MODEL_d12c2df32581477a969d1efae5d54c90",
       "value": " 1654784/? [00:21&lt;00:00, 793373.97it/s]"
      }
     },
     "dac8b3b89dca4e3985032032bf778597": {
      "model_module": "@jupyter-widgets/base",
      "model_module_version": "1.2.0",
      "model_name": "LayoutModel",
      "state": {}
     },
     "dbdaec4e0205429ab9bf619ae4b79930": {
      "model_module": "@jupyter-widgets/controls",
      "model_module_version": "1.5.0",
      "model_name": "HBoxModel",
      "state": {
       "children": [
        "IPY_MODEL_5826f7e5986d4f048f3143c840d53a74",
        "IPY_MODEL_2d91f47acc704242982fbc3748e41ad9"
       ],
       "layout": "IPY_MODEL_e1a22c2faf9d402684f9c3c961752d75"
      }
     },
     "dd39d4ef3e2f47a6b3e9769f16d7161b": {
      "model_module": "@jupyter-widgets/base",
      "model_module_version": "1.2.0",
      "model_name": "LayoutModel",
      "state": {}
     },
     "de40d8b8f97c478784c323d2192bce6c": {
      "model_module": "@jupyter-widgets/controls",
      "model_module_version": "1.5.0",
      "model_name": "HBoxModel",
      "state": {
       "children": [
        "IPY_MODEL_9dd73d0356934757a58f504e21d071a4",
        "IPY_MODEL_8b9d128fb61d48a1be4fe0cfba86f295"
       ],
       "layout": "IPY_MODEL_3f0026d7f6e94b2086d499061cd00421"
      }
     },
     "dfa81f8afad34f6f869fbd24f4779218": {
      "model_module": "@jupyter-widgets/base",
      "model_module_version": "1.2.0",
      "model_name": "LayoutModel",
      "state": {}
     },
     "e1a22c2faf9d402684f9c3c961752d75": {
      "model_module": "@jupyter-widgets/base",
      "model_module_version": "1.2.0",
      "model_name": "LayoutModel",
      "state": {}
     },
     "e2f26271dbbc445997b33a7a903e2002": {
      "model_module": "@jupyter-widgets/base",
      "model_module_version": "1.2.0",
      "model_name": "LayoutModel",
      "state": {}
     },
     "e381e653d8254e87a0a8fffd90a4f82e": {
      "model_module": "@jupyter-widgets/base",
      "model_module_version": "1.2.0",
      "model_name": "LayoutModel",
      "state": {}
     },
     "e391bebe05cd4156a6699fe3b4749dda": {
      "model_module": "@jupyter-widgets/controls",
      "model_module_version": "1.5.0",
      "model_name": "HTMLModel",
      "state": {
       "layout": "IPY_MODEL_e7e699cac34d4a28ad1b3511c13d18c8",
       "style": "IPY_MODEL_f86f903f16c8421a82dccd11017147dd",
       "value": " 200/200 [00:30&lt;00:00, 12.17 batchs/s, train_acc=97.233, val_acc=96.120]"
      }
     },
     "e3ce0834622942aa99503015e3f3dc3b": {
      "model_module": "@jupyter-widgets/controls",
      "model_module_version": "1.5.0",
      "model_name": "ProgressStyleModel",
      "state": {
       "description_width": "initial"
      }
     },
     "e4e0fa2c65fc4eeb9d77ee084bbcb163": {
      "model_module": "@jupyter-widgets/base",
      "model_module_version": "1.2.0",
      "model_name": "LayoutModel",
      "state": {}
     },
     "e4f7e203cb9b41a6a533a638d959035c": {
      "model_module": "@jupyter-widgets/controls",
      "model_module_version": "1.5.0",
      "model_name": "HTMLModel",
      "state": {
       "layout": "IPY_MODEL_dfa81f8afad34f6f869fbd24f4779218",
       "style": "IPY_MODEL_cff2ef84a09e425c9d7870a204f15576",
       "value": " 200/200 [00:32&lt;00:00, 11.42 batchs/s, train_acc=98.200, val_acc=97.280]"
      }
     },
     "e50fe25247bb4857a8c84f970fa00a77": {
      "model_module": "@jupyter-widgets/base",
      "model_module_version": "1.2.0",
      "model_name": "LayoutModel",
      "state": {}
     },
     "e550fa8bdd7e4f97923446d0da9a5fa0": {
      "model_module": "@jupyter-widgets/controls",
      "model_module_version": "1.5.0",
      "model_name": "DescriptionStyleModel",
      "state": {
       "description_width": ""
      }
     },
     "e567c9b3c51b414db13ea04d3a2d4480": {
      "model_module": "@jupyter-widgets/controls",
      "model_module_version": "1.5.0",
      "model_name": "FloatProgressModel",
      "state": {
       "bar_style": "success",
       "description": "100%",
       "layout": "IPY_MODEL_b5187df725c94c1d979275626b200ec9",
       "max": 200,
       "style": "IPY_MODEL_feed5962a10f4e13a81198604b174cd2",
       "value": 200
      }
     },
     "e78c3cdff5f24b9f9576eb705ceb5b98": {
      "model_module": "@jupyter-widgets/controls",
      "model_module_version": "1.5.0",
      "model_name": "HBoxModel",
      "state": {
       "children": [
        "IPY_MODEL_8861afea6aca4091847ef0ba58cf5956",
        "IPY_MODEL_a842adeb885244e4ab465a9ab5994028"
       ],
       "layout": "IPY_MODEL_449b1571fcba469591491275cc8377b6"
      }
     },
     "e7e699cac34d4a28ad1b3511c13d18c8": {
      "model_module": "@jupyter-widgets/base",
      "model_module_version": "1.2.0",
      "model_name": "LayoutModel",
      "state": {}
     },
     "e8aa7787c9834378887599413db801d8": {
      "model_module": "@jupyter-widgets/controls",
      "model_module_version": "1.5.0",
      "model_name": "ProgressStyleModel",
      "state": {
       "description_width": "initial"
      }
     },
     "e8b8952e8ff54e1e88bd4a4c71dd1561": {
      "model_module": "@jupyter-widgets/controls",
      "model_module_version": "1.5.0",
      "model_name": "HBoxModel",
      "state": {
       "children": [
        "IPY_MODEL_817d15204a3b401885a350d04fccc116",
        "IPY_MODEL_d18a98865a2f45ff913cbfd1a18ce523"
       ],
       "layout": "IPY_MODEL_360e8351732248348e58f2b059d8978c"
      }
     },
     "e90b1f4277854bdebe967a1ab613330b": {
      "model_module": "@jupyter-widgets/base",
      "model_module_version": "1.2.0",
      "model_name": "LayoutModel",
      "state": {}
     },
     "e935049184444611821d6b0ac44ced16": {
      "model_module": "@jupyter-widgets/controls",
      "model_module_version": "1.5.0",
      "model_name": "HBoxModel",
      "state": {
       "children": [
        "IPY_MODEL_6e98c67426d44f76ae1455b7a66ef042",
        "IPY_MODEL_0d329a51443247a590c52ad6f861c406"
       ],
       "layout": "IPY_MODEL_5dbec0376f3d4c8a93d126d0a6d3b595"
      }
     },
     "e9fb0c07f2704b5bb15db7deeba5d183": {
      "model_module": "@jupyter-widgets/base",
      "model_module_version": "1.2.0",
      "model_name": "LayoutModel",
      "state": {}
     },
     "ea18ab2884da4a3bbbccf2587b26e797": {
      "model_module": "@jupyter-widgets/controls",
      "model_module_version": "1.5.0",
      "model_name": "FloatProgressModel",
      "state": {
       "bar_style": "success",
       "description": "100%",
       "layout": "IPY_MODEL_cb57b4e6c04d4a12b4280aba1a703870",
       "max": 5,
       "style": "IPY_MODEL_8289eae2b15941f3b619c6d3a9d7f2be",
       "value": 5
      }
     },
     "ea89b7f9cfea4a6cae9ba6de9f17d973": {
      "model_module": "@jupyter-widgets/base",
      "model_module_version": "1.2.0",
      "model_name": "LayoutModel",
      "state": {}
     },
     "eab6cc61fc984e9da41b2a9204d2a679": {
      "model_module": "@jupyter-widgets/controls",
      "model_module_version": "1.5.0",
      "model_name": "ProgressStyleModel",
      "state": {
       "description_width": "initial"
      }
     },
     "ecb22891c2654bafada720e009df8a56": {
      "model_module": "@jupyter-widgets/controls",
      "model_module_version": "1.5.0",
      "model_name": "HTMLModel",
      "state": {
       "layout": "IPY_MODEL_dac8b3b89dca4e3985032032bf778597",
       "style": "IPY_MODEL_09a81fc8b59f4e5780081a420461192d",
       "value": " 190/200 [00:15&lt;00:00, 12.00 batchs/s, train_acc=96.700, val_acc=95.740]"
      }
     },
     "ed2cca49d59b40a4b2f5bb6df7928ddc": {
      "model_module": "@jupyter-widgets/controls",
      "model_module_version": "1.5.0",
      "model_name": "ProgressStyleModel",
      "state": {
       "description_width": "initial"
      }
     },
     "eeec73a4c5534fb4b3387fa861aad75e": {
      "model_module": "@jupyter-widgets/controls",
      "model_module_version": "1.5.0",
      "model_name": "DescriptionStyleModel",
      "state": {
       "description_width": ""
      }
     },
     "ef279909591c4ca7b0471a7ce068cc71": {
      "model_module": "@jupyter-widgets/controls",
      "model_module_version": "1.5.0",
      "model_name": "ProgressStyleModel",
      "state": {
       "description_width": "initial"
      }
     },
     "ef5e57eed0b046e28d606b3a5ad56304": {
      "model_module": "@jupyter-widgets/base",
      "model_module_version": "1.2.0",
      "model_name": "LayoutModel",
      "state": {}
     },
     "ef91b72df8604c23b5f9f03ff150d91c": {
      "model_module": "@jupyter-widgets/controls",
      "model_module_version": "1.5.0",
      "model_name": "HTMLModel",
      "state": {
       "layout": "IPY_MODEL_87c9a3251fd247fc90219d1ea6a6ca84",
       "style": "IPY_MODEL_b99988d7a86b4b0badfd95b87c6e94af",
       "value": " 200/200 [00:34&lt;00:00,  5.81 batchs/s, train_acc=98.967, val_acc=98.230]"
      }
     },
     "f0efd2d3491d4ab1ae33f8a37c7ba4e5": {
      "model_module": "@jupyter-widgets/controls",
      "model_module_version": "1.5.0",
      "model_name": "DescriptionStyleModel",
      "state": {
       "description_width": ""
      }
     },
     "f1688b1e21654b9484b8499c420e5be7": {
      "model_module": "@jupyter-widgets/base",
      "model_module_version": "1.2.0",
      "model_name": "LayoutModel",
      "state": {}
     },
     "f1a964033ff240a88cded3826dc53cce": {
      "model_module": "@jupyter-widgets/base",
      "model_module_version": "1.2.0",
      "model_name": "LayoutModel",
      "state": {}
     },
     "f354176617eb486cbde4a2cffa6b91b0": {
      "model_module": "@jupyter-widgets/controls",
      "model_module_version": "1.5.0",
      "model_name": "ProgressStyleModel",
      "state": {
       "description_width": "initial"
      }
     },
     "f3ca117a036842c9ab20dc5b57a5bc24": {
      "model_module": "@jupyter-widgets/controls",
      "model_module_version": "1.5.0",
      "model_name": "HBoxModel",
      "state": {
       "children": [
        "IPY_MODEL_08a34e3f4d87460a8d950b9f49ad4375",
        "IPY_MODEL_f89baf15f0f54c078ae77a4391c8fa99"
       ],
       "layout": "IPY_MODEL_a85302a3bba341a797122a78a208ab7c"
      }
     },
     "f55f6e87e9cc411d8cae872d52c0cc56": {
      "model_module": "@jupyter-widgets/controls",
      "model_module_version": "1.5.0",
      "model_name": "ProgressStyleModel",
      "state": {
       "description_width": "initial"
      }
     },
     "f6cd94e554144f2ab897e30c0a78b59e": {
      "model_module": "@jupyter-widgets/controls",
      "model_module_version": "1.5.0",
      "model_name": "DescriptionStyleModel",
      "state": {
       "description_width": ""
      }
     },
     "f6dd2093c3884559a3db95fdae42d4e1": {
      "model_module": "@jupyter-widgets/controls",
      "model_module_version": "1.5.0",
      "model_name": "DescriptionStyleModel",
      "state": {
       "description_width": ""
      }
     },
     "f7656de3f49448b69bcecf60c44f3a39": {
      "model_module": "@jupyter-widgets/controls",
      "model_module_version": "1.5.0",
      "model_name": "ProgressStyleModel",
      "state": {
       "description_width": "initial"
      }
     },
     "f86f903f16c8421a82dccd11017147dd": {
      "model_module": "@jupyter-widgets/controls",
      "model_module_version": "1.5.0",
      "model_name": "DescriptionStyleModel",
      "state": {
       "description_width": ""
      }
     },
     "f89baf15f0f54c078ae77a4391c8fa99": {
      "model_module": "@jupyter-widgets/controls",
      "model_module_version": "1.5.0",
      "model_name": "HTMLModel",
      "state": {
       "layout": "IPY_MODEL_71e484ed1fea46298f3c1d2a7bdb6f57",
       "style": "IPY_MODEL_055773f536064458a5f47b4d968510a7",
       "value": " 200/200 [00:27&lt;00:00, 11.64 batchs/s, train_acc=98.767, val_acc=98.050]"
      }
     },
     "fa57c22c75254770a19a1170e5ef48ad": {
      "model_module": "@jupyter-widgets/controls",
      "model_module_version": "1.5.0",
      "model_name": "HTMLModel",
      "state": {
       "layout": "IPY_MODEL_275226a2f96d41fdab6c3b6563316add",
       "style": "IPY_MODEL_aca00ad2d772427aa9fa87dcb3f436c7",
       "value": " 200/200 [01:07&lt;00:00,  2.95 batchs/s, train_acc=98.233, val_acc=97.210]"
      }
     },
     "fd23fe877d4049328acbe262cffe6771": {
      "model_module": "@jupyter-widgets/base",
      "model_module_version": "1.2.0",
      "model_name": "LayoutModel",
      "state": {}
     },
     "fde7420ecf374db983692be3e0373150": {
      "model_module": "@jupyter-widgets/controls",
      "model_module_version": "1.5.0",
      "model_name": "HBoxModel",
      "state": {
       "children": [
        "IPY_MODEL_a3d87702701a416984dae9bac6a41284",
        "IPY_MODEL_e391bebe05cd4156a6699fe3b4749dda"
       ],
       "layout": "IPY_MODEL_129b4d41ede949ec91dd13116b786836"
      }
     },
     "feed5962a10f4e13a81198604b174cd2": {
      "model_module": "@jupyter-widgets/controls",
      "model_module_version": "1.5.0",
      "model_name": "ProgressStyleModel",
      "state": {
       "description_width": "initial"
      }
     },
     "ff533a5532344fa983b99e4359d444bc": {
      "model_module": "@jupyter-widgets/base",
      "model_module_version": "1.2.0",
      "model_name": "LayoutModel",
      "state": {}
     },
     "ff6f71ef329b4ea9b9796892a403d877": {
      "model_module": "@jupyter-widgets/base",
      "model_module_version": "1.2.0",
      "model_name": "LayoutModel",
      "state": {}
     }
    },
    "version_major": 2,
    "version_minor": 0
   }
  }
 },
 "nbformat": 4,
 "nbformat_minor": 2
}
